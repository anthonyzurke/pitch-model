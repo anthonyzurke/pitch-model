{
 "cells": [
  {
   "cell_type": "code",
   "execution_count": 1,
   "id": "82c0b352",
   "metadata": {},
   "outputs": [
    {
     "name": "stdout",
     "output_type": "stream",
     "text": [
      "This is a large query, it may take a moment to complete\n"
     ]
    },
    {
     "name": "stderr",
     "output_type": "stream",
     "text": [
      "100%|██████████| 187/187 [00:05<00:00, 37.04it/s]\n"
     ]
    }
   ],
   "source": [
    "from pybaseball import statcast\n",
    "\n",
    "data = statcast(start_dt = '2021-04-01', end_dt = '2021-10-04')\n",
    "\n",
    "data.to_csv('./data/mlb-pitches.csv')\n",
    "data = pd.read_csv('./data/mlb-pitches.csv')\n",
    "\n",
    "data.drop(columns = ['Unnamed: 0', 'spin_dir', 'spin_rate_deprecated', \n",
    "                     'break_angle_deprecated', 'break_length_deprecated', \n",
    "                     'tfs_deprecated', 'tfs_zulu_deprecated', 'umpire', \n",
    "                     'sv_id', 'fielder_2', 'pitcher.1', 'fielder_2.1', \n",
    "                     'fielder_3', 'fielder_4', 'fielder_5', 'fielder_6',\n",
    "                     'fielder_7', 'fielder_8', 'fielder_9', 'bat_score', \n",
    "                     'fld_score', 'post_bat_score', 'post_fld_score'], inplace = True)\n",
    "\n",
    "# Drop pitch types Fasball, knuckleball, eephus, and screwball\n",
    "pitch_values = ['SC', 'EP', 'KN', 'FA', 'CS']\n",
    "data = data[data.pitch_type.isin(pitch_values) == False]\n",
    "\n",
    "# Create is_strike column\n",
    "data['is_strike'] = [1 if x != 'B' else 0 for x in data['type']]\n",
    "# Create pitch_count column\n",
    "data['pitch_count'] = data[['balls', 'strikes']].astype(str).agg('-'.join, axis = 1)\n",
    "\n",
    "data['description'].replace(['blocked_ball', 'foul_tip', 'swinging_strike_blocked', 'foul_bunt'], \n",
    "                            ['ball', 'foul', 'swinging_strike', 'foul'], inplace = True)\n",
    "# Make all events that aren't hits, outs\n",
    "data['events'].replace(['field_out', 'grounded_into_double_play', 'sac_fly', 'force_out', 'hit_by_pitch', \n",
    "                        'field_error', 'fielders_choice', 'fielders_choice_out'], 'out', inplace = True)\n",
    "# make swing_miss column\n",
    "data['swing_miss'] = [1 if x == 'swinging_strike' else 0 for x in data['description']]\n",
    "\n",
    "# Switch from catcher's perspective to pitcher's perspective\n",
    "# Catcher's POV: (plate_x, plate_z)\n",
    "# Pitcher's POV: (plate_-x, plate_z)\n",
    "data['plate_-x'] = -data['plate_x']\n",
    "# Switch HB to perspective of pitcher\n",
    "# Catcher's POV: (pfx_x, pfx_z)\n",
    "# Pitcher's POV: (pfx_-x, pfx_z)\n",
    "data['pfx_-x'] = -data['pfx_x']\n",
    "\n",
    "# HB and VB in feet should be in inches (*12)\n",
    "data['pfx_x'] = 12 * data['pfx_x']\n",
    "data['pfx_-x'] = 12 * data['pfx_-x']\n",
    "data['pfx_z'] = 12 * data['pfx_z']\n",
    "\n",
    "data.to_csv('./data/mlb-pitches.csv')"
   ]
  }
 ],
 "metadata": {
  "kernelspec": {
   "display_name": "Python 3",
   "language": "python",
   "name": "python3"
  },
  "language_info": {
   "codemirror_mode": {
    "name": "ipython",
    "version": 3
   },
   "file_extension": ".py",
   "mimetype": "text/x-python",
   "name": "python",
   "nbconvert_exporter": "python",
   "pygments_lexer": "ipython3",
   "version": "3.8.8"
  }
 },
 "nbformat": 4,
 "nbformat_minor": 5
}
