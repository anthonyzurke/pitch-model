{
 "cells": [
  {
   "cell_type": "code",
   "execution_count": 1,
   "id": "936dc08b",
   "metadata": {},
   "outputs": [
    {
     "name": "stdout",
     "output_type": "stream",
     "text": [
      "This is a large query, it may take a moment to complete\n"
     ]
    },
    {
     "name": "stderr",
     "output_type": "stream",
     "text": [
      "100%|██████████| 187/187 [00:04<00:00, 45.38it/s]\n"
     ]
    }
   ],
   "source": [
    "from pybaseball import statcast, statcast_pitcher_spin, statcast_pitcher\n",
    "\n",
    "data = statcast(start_dt = '2021-04-01', end_dt = '2021-10-04')\n",
    "\n",
    "data.to_csv('./data/mlb-pitches.csv')\n",
    "data = pd.read_csv('./data/mlb-pitches.csv')\n",
    "\n",
    "data.drop(columns = ['Unnamed: 0', 'spin_dir', 'spin_rate_deprecated', \n",
    "                     'break_angle_deprecated', 'break_length_deprecated', \n",
    "                     'tfs_deprecated', 'tfs_zulu_deprecated', 'umpire', 'sv_id'], inplace = True)\n",
    "\n",
    "# pitch_count: combine balls and strikes (as string)\n",
    "data['count'] = data[['balls', 'strikes']].astype(str).agg('-'.join, axis = 1)\n",
    "\n",
    "# Switch from catcher's perspective to pitcher's perspective\n",
    "# Catcher's POV: (plate_x, plate_z)\n",
    "# Pitcher's POV: (plate_-x, plate_z)\n",
    "data['plate_-x'] = -data['plate_x']\n",
    "# Switch HB to perspective of pitcher\n",
    "# Catcher's POV: (pfx_x, pfx_z)\n",
    "# Pitcher's POV: (pfx_-x, pfx_z)\n",
    "data['pfx_-x'] = -data['pfx_x']\n",
    "\n",
    "# HB and VB in feet should be in inches (*12)\n",
    "data['pfx_x'] = 12 * data['pfx_x']\n",
    "data['pfx_-x'] = 12 * data['pfx_-x']\n",
    "data['pfx_z'] = 12 * data['pfx_z']\n",
    "\n",
    "\n",
    "data.to_csv('./data/mlb-pitches.csv')"
   ]
  }
 ],
 "metadata": {
  "kernelspec": {
   "display_name": "Python 3",
   "language": "python",
   "name": "python3"
  },
  "language_info": {
   "codemirror_mode": {
    "name": "ipython",
    "version": 3
   },
   "file_extension": ".py",
   "mimetype": "text/x-python",
   "name": "python",
   "nbconvert_exporter": "python",
   "pygments_lexer": "ipython3",
   "version": "3.8.8"
  }
 },
 "nbformat": 4,
 "nbformat_minor": 5
}
