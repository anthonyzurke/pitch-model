{
 "cells": [
  {
   "cell_type": "code",
   "execution_count": 1,
   "id": "a9b8de7b",
   "metadata": {},
   "outputs": [],
   "source": [
    "# Clean data for modeling\n",
    "\n",
    "data = pd.read_csv('../data/mlb-pitches.csv')\n",
    "data.drop(columns = ['Unnamed: 0', 'Unnamed: 0.1'], inplace = True)\n",
    "\n",
    "pitch = data[['player_name', 'p_throws', 'pitch_type','release_speed', 'release_spin_rate', 'spin_axis', \n",
    "              'pfx_-x', 'pfx_z', 'bauer_units', 'effective_speed', 'release_pos_x', 'release_pos_z', \n",
    "              'release_extension', 'release_pos_y', 'plate_-x', 'plate_x', 'plate_z', 'delta_run_exp', \n",
    "              'stand', 'events', 'description', 'hit_distance_sc', 'launch_speed', 'launch_angle', \n",
    "              'launch_speed_angle', 'estimated_ba_using_speedangle', 'estimated_woba_using_speedangle', \n",
    "              'woba_value', 'woba_denom', 'babip_value', 'iso_value']].copy()\n",
    "\n",
    "# data['stand'] = data['stand'].map({'R': 0, 'L': 1})\n",
    "# data['p_throws'] = data['p_throws'].map({'R': 0, 'L': 1})\n",
    "\n",
    "# Drop pitch types Knuckle Curve and Splitter\n",
    "pitch = pitch[(pitch['pitch_type'] != 'KC') & (pitch['pitch_type'] != 'FS')]\n",
    "\n",
    "#Rename some columns\n",
    "col_dict = {\n",
    "    'release_speed': 'velo',\n",
    "    'release_spin_rate': 'spin_rate',\n",
    "    'launch_speed': 'exit_velo',\n",
    "    'estimated_ba_using_speedangle': 'xba',\n",
    "    'estimated_woba_using_speedangle': 'xwobacon'\n",
    "}\n",
    "pitch.rename(columns = col_dict, inplace = True)\n",
    "pitch.to_csv('../data/model-pitches.csv')"
   ]
  }
 ],
 "metadata": {
  "kernelspec": {
   "display_name": "Python 3",
   "language": "python",
   "name": "python3"
  },
  "language_info": {
   "codemirror_mode": {
    "name": "ipython",
    "version": 3
   },
   "file_extension": ".py",
   "mimetype": "text/x-python",
   "name": "python",
   "nbconvert_exporter": "python",
   "pygments_lexer": "ipython3",
   "version": "3.8.8"
  }
 },
 "nbformat": 4,
 "nbformat_minor": 5
}
