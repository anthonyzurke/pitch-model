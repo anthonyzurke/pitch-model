{
 "cells": [
  {
   "cell_type": "markdown",
   "id": "426268f7",
   "metadata": {},
   "source": [
    "# Notebook Contents\n",
    "\n",
    "- [Imports](#Imports)\n",
    "- [Data](#Data)\n",
    "- [Features](#Features)\n",
    "- [Random Forest](#Random-Forest-Regression-Model)\n",
    "    - [4-Seam RHP](#4-Seam-RHP)\n",
    "    - [4-Seam LHP](#4-Seam-LHP)\n",
    "    - [Cutter RHP](#Cutter-RHP)\n",
    "    - [Cutter LHP](#Cutter-LHP)\n",
    "    - [Sinker RHP](#Sinker-RHP)\n",
    "    - [Sinker LHP](#Sinker-LHP)\n",
    "    - [Slider RHP](#Slider-RHP)\n",
    "    - [Slider LHP](#Slider-LHP)\n",
    "    - [Curveball RHP](#Curveball-RHP)\n",
    "    - [Curveball LHP](#Curveball-LHP)\n",
    "    - [Changeup RHP](#Changeup-RHP)\n",
    "    - [Changeup LHP](#Changeup-LHP)"
   ]
  },
  {
   "cell_type": "markdown",
   "id": "9a8c2c47",
   "metadata": {},
   "source": [
    "# Imports"
   ]
  },
  {
   "cell_type": "code",
   "execution_count": 1,
   "id": "3b41894e",
   "metadata": {},
   "outputs": [],
   "source": [
    "from statsmodels.stats.outliers_influence import variance_inflation_factor\n",
    "from sklearn import metrics\n",
    "from sklearn.model_selection import train_test_split, cross_val_score, GridSearchCV, RandomizedSearchCV\n",
    "from sklearn.ensemble import RandomForestRegressor\n",
    "from matplotlib.patches import Rectangle\n",
    "\n",
    "import warnings\n",
    "warnings.filterwarnings('ignore')"
   ]
  },
  {
   "cell_type": "markdown",
   "id": "7a31fda9",
   "metadata": {},
   "source": [
    "# Data"
   ]
  },
  {
   "cell_type": "code",
   "execution_count": 2,
   "id": "40799b48",
   "metadata": {},
   "outputs": [
    {
     "name": "stdout",
     "output_type": "stream",
     "text": [
      "(705396, 72)\n"
     ]
    },
    {
     "data": {
      "text/html": [
       "<div><div id=40d2239d-cf6c-4320-943a-5bcb30b22fd8 style=\"display:none; background-color:#9D6CFF; color:white; width:200px; height:30px; padding-left:5px; border-radius:4px; flex-direction:row; justify-content:space-around; align-items:center;\" onmouseover=\"this.style.backgroundColor='#BA9BF8'\" onmouseout=\"this.style.backgroundColor='#9D6CFF'\" onclick=\"window.commands?.execute('create-mitosheet-from-dataframe-output');\">See Full Dataframe in Mito</div> <script> if (window.commands.hasCommand('create-mitosheet-from-dataframe-output')) document.getElementById('40d2239d-cf6c-4320-943a-5bcb30b22fd8').style.display = 'flex' </script> <table border=\"1\" class=\"dataframe\">\n",
       "  <thead>\n",
       "    <tr style=\"text-align: right;\">\n",
       "      <th></th>\n",
       "      <th>player_name</th>\n",
       "      <th>p_throws</th>\n",
       "      <th>pitch_type</th>\n",
       "      <th>velo</th>\n",
       "      <th>spin_rate</th>\n",
       "      <th>spin_axis</th>\n",
       "      <th>pfx_x</th>\n",
       "      <th>pfx_z</th>\n",
       "      <th>bauer_units</th>\n",
       "      <th>effective_speed</th>\n",
       "      <th>release_pos_x</th>\n",
       "      <th>release_pos_z</th>\n",
       "      <th>release_extension</th>\n",
       "      <th>release_pos_y</th>\n",
       "      <th>plate_x</th>\n",
       "      <th>plate_z</th>\n",
       "      <th>type</th>\n",
       "      <th>balls</th>\n",
       "      <th>strikes</th>\n",
       "      <th>pitch_count</th>\n",
       "      <th>delta_run_exp</th>\n",
       "      <th>stand</th>\n",
       "      <th>bb_type</th>\n",
       "      <th>description</th>\n",
       "      <th>events</th>\n",
       "      <th>hit_distance_sc</th>\n",
       "      <th>exit_velo</th>\n",
       "      <th>launch_angle</th>\n",
       "      <th>launch_speed_angle</th>\n",
       "      <th>woba_value</th>\n",
       "      <th>woba_denom</th>\n",
       "      <th>xba</th>\n",
       "      <th>xwoba</th>\n",
       "      <th>babip_value</th>\n",
       "      <th>iso_value</th>\n",
       "      <th>at_bat_number</th>\n",
       "      <th>pitch_number</th>\n",
       "      <th>inning</th>\n",
       "      <th>inning_topbot</th>\n",
       "      <th>home_score</th>\n",
       "      <th>away_score</th>\n",
       "      <th>post_home_score</th>\n",
       "      <th>post_away_score</th>\n",
       "      <th>on_1b</th>\n",
       "      <th>on_2b</th>\n",
       "      <th>on_3b</th>\n",
       "      <th>outs_when_up</th>\n",
       "      <th>arm_angle</th>\n",
       "      <th>slot</th>\n",
       "      <th>is_strike</th>\n",
       "      <th>is_ball</th>\n",
       "      <th>final_pitch_ab</th>\n",
       "      <th>out_to_end_inning</th>\n",
       "      <th>home_runs</th>\n",
       "      <th>away_runs</th>\n",
       "      <th>runs</th>\n",
       "      <th>re</th>\n",
       "      <th>re_change</th>\n",
       "      <th>re_end_state</th>\n",
       "      <th>re24</th>\n",
       "      <th>lin_weight_above_avg</th>\n",
       "      <th>lin_weight_above_outs</th>\n",
       "      <th>woba_scale</th>\n",
       "      <th>lin_weights_above_avg_scale</th>\n",
       "      <th>lin_weights_above_outs_scale</th>\n",
       "      <th>woba</th>\n",
       "      <th>wraa_change</th>\n",
       "      <th>count_re</th>\n",
       "      <th>bs_lin_weight</th>\n",
       "      <th>bs_lin_weight_scale</th>\n",
       "      <th>rv_above_avg</th>\n",
       "      <th>rv</th>\n",
       "    </tr>\n",
       "  </thead>\n",
       "  <tbody>\n",
       "    <tr>\n",
       "      <th>0</th>\n",
       "      <td>Smith, Will</td>\n",
       "      <td>L</td>\n",
       "      <td>FF</td>\n",
       "      <td>92.3</td>\n",
       "      <td>2330.0</td>\n",
       "      <td>148.0</td>\n",
       "      <td>-8.28</td>\n",
       "      <td>16.56</td>\n",
       "      <td>25.243770</td>\n",
       "      <td>92.8</td>\n",
       "      <td>-1.40</td>\n",
       "      <td>6.80</td>\n",
       "      <td>6.5</td>\n",
       "      <td>54.03</td>\n",
       "      <td>0.69</td>\n",
       "      <td>2.83</td>\n",
       "      <td>X</td>\n",
       "      <td>1</td>\n",
       "      <td>2</td>\n",
       "      <td>1-2</td>\n",
       "      <td>-0.073</td>\n",
       "      <td>R</td>\n",
       "      <td>ground_ball</td>\n",
       "      <td>hit_into_play</td>\n",
       "      <td>field_out</td>\n",
       "      <td>13.0</td>\n",
       "      <td>95.2</td>\n",
       "      <td>-13.0</td>\n",
       "      <td>2.0</td>\n",
       "      <td>0.0</td>\n",
       "      <td>1.0</td>\n",
       "      <td>0.174</td>\n",
       "      <td>0.158</td>\n",
       "      <td>0.0</td>\n",
       "      <td>0.0</td>\n",
       "      <td>61</td>\n",
       "      <td>4</td>\n",
       "      <td>9</td>\n",
       "      <td>0</td>\n",
       "      <td>5</td>\n",
       "      <td>0</td>\n",
       "      <td>5</td>\n",
       "      <td>0</td>\n",
       "      <td>0</td>\n",
       "      <td>0</td>\n",
       "      <td>0</td>\n",
       "      <td>2</td>\n",
       "      <td>36.0</td>\n",
       "      <td>overhead</td>\n",
       "      <td>1</td>\n",
       "      <td>0</td>\n",
       "      <td>1</td>\n",
       "      <td>1</td>\n",
       "      <td>0</td>\n",
       "      <td>0</td>\n",
       "      <td>0</td>\n",
       "      <td>0.098</td>\n",
       "      <td>-0.098</td>\n",
       "      <td>0.000</td>\n",
       "      <td>-0.098</td>\n",
       "      <td>-0.25</td>\n",
       "      <td>0.0</td>\n",
       "      <td>1.209</td>\n",
       "      <td>-0.302</td>\n",
       "      <td>0.0</td>\n",
       "      <td>0.223</td>\n",
       "      <td>-0.184</td>\n",
       "      <td>-0.282</td>\n",
       "      <td>-0.141</td>\n",
       "      <td>-0.170</td>\n",
       "      <td>-0.472</td>\n",
       "      <td>-0.170</td>\n",
       "    </tr>\n",
       "    <tr>\n",
       "      <th>1</th>\n",
       "      <td>Smith, Will</td>\n",
       "      <td>L</td>\n",
       "      <td>SL</td>\n",
       "      <td>80.6</td>\n",
       "      <td>2254.0</td>\n",
       "      <td>315.0</td>\n",
       "      <td>9.24</td>\n",
       "      <td>5.76</td>\n",
       "      <td>27.965261</td>\n",
       "      <td>81.2</td>\n",
       "      <td>-1.60</td>\n",
       "      <td>6.64</td>\n",
       "      <td>6.4</td>\n",
       "      <td>54.15</td>\n",
       "      <td>0.71</td>\n",
       "      <td>2.62</td>\n",
       "      <td>S</td>\n",
       "      <td>1</td>\n",
       "      <td>1</td>\n",
       "      <td>1-1</td>\n",
       "      <td>-0.027</td>\n",
       "      <td>R</td>\n",
       "      <td>NaN</td>\n",
       "      <td>strike</td>\n",
       "      <td>NaN</td>\n",
       "      <td>108.0</td>\n",
       "      <td>75.3</td>\n",
       "      <td>75.0</td>\n",
       "      <td>NaN</td>\n",
       "      <td>NaN</td>\n",
       "      <td>NaN</td>\n",
       "      <td>NaN</td>\n",
       "      <td>NaN</td>\n",
       "      <td>NaN</td>\n",
       "      <td>NaN</td>\n",
       "      <td>61</td>\n",
       "      <td>3</td>\n",
       "      <td>9</td>\n",
       "      <td>0</td>\n",
       "      <td>5</td>\n",
       "      <td>0</td>\n",
       "      <td>5</td>\n",
       "      <td>0</td>\n",
       "      <td>0</td>\n",
       "      <td>0</td>\n",
       "      <td>0</td>\n",
       "      <td>2</td>\n",
       "      <td>45.8</td>\n",
       "      <td>3/4</td>\n",
       "      <td>1</td>\n",
       "      <td>0</td>\n",
       "      <td>0</td>\n",
       "      <td>0</td>\n",
       "      <td>0</td>\n",
       "      <td>0</td>\n",
       "      <td>0</td>\n",
       "      <td>0.098</td>\n",
       "      <td>0.000</td>\n",
       "      <td>0.098</td>\n",
       "      <td>0.000</td>\n",
       "      <td>NaN</td>\n",
       "      <td>NaN</td>\n",
       "      <td>1.209</td>\n",
       "      <td>0.000</td>\n",
       "      <td>0.0</td>\n",
       "      <td>0.293</td>\n",
       "      <td>-0.058</td>\n",
       "      <td>-0.058</td>\n",
       "      <td>-0.006</td>\n",
       "      <td>-0.007</td>\n",
       "      <td>-0.007</td>\n",
       "      <td>-0.007</td>\n",
       "    </tr>\n",
       "    <tr>\n",
       "      <th>2</th>\n",
       "      <td>Smith, Will</td>\n",
       "      <td>L</td>\n",
       "      <td>CU</td>\n",
       "      <td>75.5</td>\n",
       "      <td>1940.0</td>\n",
       "      <td>328.0</td>\n",
       "      <td>7.80</td>\n",
       "      <td>-6.12</td>\n",
       "      <td>25.695364</td>\n",
       "      <td>75.2</td>\n",
       "      <td>-1.46</td>\n",
       "      <td>6.88</td>\n",
       "      <td>6.2</td>\n",
       "      <td>54.34</td>\n",
       "      <td>0.04</td>\n",
       "      <td>2.46</td>\n",
       "      <td>S</td>\n",
       "      <td>1</td>\n",
       "      <td>0</td>\n",
       "      <td>1-0</td>\n",
       "      <td>-0.020</td>\n",
       "      <td>R</td>\n",
       "      <td>NaN</td>\n",
       "      <td>strike</td>\n",
       "      <td>NaN</td>\n",
       "      <td>157.0</td>\n",
       "      <td>83.5</td>\n",
       "      <td>65.0</td>\n",
       "      <td>NaN</td>\n",
       "      <td>NaN</td>\n",
       "      <td>NaN</td>\n",
       "      <td>NaN</td>\n",
       "      <td>NaN</td>\n",
       "      <td>NaN</td>\n",
       "      <td>NaN</td>\n",
       "      <td>61</td>\n",
       "      <td>2</td>\n",
       "      <td>9</td>\n",
       "      <td>0</td>\n",
       "      <td>5</td>\n",
       "      <td>0</td>\n",
       "      <td>5</td>\n",
       "      <td>0</td>\n",
       "      <td>0</td>\n",
       "      <td>0</td>\n",
       "      <td>0</td>\n",
       "      <td>2</td>\n",
       "      <td>38.4</td>\n",
       "      <td>overhead</td>\n",
       "      <td>1</td>\n",
       "      <td>0</td>\n",
       "      <td>0</td>\n",
       "      <td>0</td>\n",
       "      <td>0</td>\n",
       "      <td>0</td>\n",
       "      <td>0</td>\n",
       "      <td>0.098</td>\n",
       "      <td>0.000</td>\n",
       "      <td>0.098</td>\n",
       "      <td>0.000</td>\n",
       "      <td>NaN</td>\n",
       "      <td>NaN</td>\n",
       "      <td>1.209</td>\n",
       "      <td>0.000</td>\n",
       "      <td>0.0</td>\n",
       "      <td>0.355</td>\n",
       "      <td>-0.051</td>\n",
       "      <td>-0.051</td>\n",
       "      <td>0.001</td>\n",
       "      <td>0.001</td>\n",
       "      <td>0.001</td>\n",
       "      <td>0.001</td>\n",
       "    </tr>\n",
       "    <tr>\n",
       "      <th>3</th>\n",
       "      <td>Smith, Will</td>\n",
       "      <td>L</td>\n",
       "      <td>CU</td>\n",
       "      <td>75.0</td>\n",
       "      <td>2017.0</td>\n",
       "      <td>330.0</td>\n",
       "      <td>8.28</td>\n",
       "      <td>-8.28</td>\n",
       "      <td>26.893333</td>\n",
       "      <td>74.5</td>\n",
       "      <td>-1.53</td>\n",
       "      <td>6.83</td>\n",
       "      <td>5.9</td>\n",
       "      <td>54.61</td>\n",
       "      <td>-2.10</td>\n",
       "      <td>3.89</td>\n",
       "      <td>B</td>\n",
       "      <td>0</td>\n",
       "      <td>0</td>\n",
       "      <td>0-0</td>\n",
       "      <td>0.016</td>\n",
       "      <td>R</td>\n",
       "      <td>NaN</td>\n",
       "      <td>ball</td>\n",
       "      <td>NaN</td>\n",
       "      <td>NaN</td>\n",
       "      <td>NaN</td>\n",
       "      <td>NaN</td>\n",
       "      <td>NaN</td>\n",
       "      <td>NaN</td>\n",
       "      <td>NaN</td>\n",
       "      <td>NaN</td>\n",
       "      <td>NaN</td>\n",
       "      <td>NaN</td>\n",
       "      <td>NaN</td>\n",
       "      <td>61</td>\n",
       "      <td>1</td>\n",
       "      <td>9</td>\n",
       "      <td>0</td>\n",
       "      <td>5</td>\n",
       "      <td>0</td>\n",
       "      <td>5</td>\n",
       "      <td>0</td>\n",
       "      <td>0</td>\n",
       "      <td>0</td>\n",
       "      <td>0</td>\n",
       "      <td>2</td>\n",
       "      <td>38.4</td>\n",
       "      <td>overhead</td>\n",
       "      <td>0</td>\n",
       "      <td>1</td>\n",
       "      <td>0</td>\n",
       "      <td>0</td>\n",
       "      <td>0</td>\n",
       "      <td>0</td>\n",
       "      <td>0</td>\n",
       "      <td>0.098</td>\n",
       "      <td>0.000</td>\n",
       "      <td>0.098</td>\n",
       "      <td>0.000</td>\n",
       "      <td>NaN</td>\n",
       "      <td>NaN</td>\n",
       "      <td>1.209</td>\n",
       "      <td>0.000</td>\n",
       "      <td>0.0</td>\n",
       "      <td>0.314</td>\n",
       "      <td>0.034</td>\n",
       "      <td>0.034</td>\n",
       "      <td>-0.003</td>\n",
       "      <td>-0.004</td>\n",
       "      <td>-0.004</td>\n",
       "      <td>-0.004</td>\n",
       "    </tr>\n",
       "    <tr>\n",
       "      <th>4</th>\n",
       "      <td>Smith, Will</td>\n",
       "      <td>L</td>\n",
       "      <td>FF</td>\n",
       "      <td>91.2</td>\n",
       "      <td>2281.0</td>\n",
       "      <td>143.0</td>\n",
       "      <td>-7.56</td>\n",
       "      <td>15.36</td>\n",
       "      <td>25.010965</td>\n",
       "      <td>90.9</td>\n",
       "      <td>-1.49</td>\n",
       "      <td>6.66</td>\n",
       "      <td>6.3</td>\n",
       "      <td>54.15</td>\n",
       "      <td>0.31</td>\n",
       "      <td>2.80</td>\n",
       "      <td>X</td>\n",
       "      <td>1</td>\n",
       "      <td>0</td>\n",
       "      <td>1-0</td>\n",
       "      <td>-0.189</td>\n",
       "      <td>L</td>\n",
       "      <td>ground_ball</td>\n",
       "      <td>hit_into_play</td>\n",
       "      <td>field_out</td>\n",
       "      <td>9.0</td>\n",
       "      <td>93.3</td>\n",
       "      <td>-18.0</td>\n",
       "      <td>2.0</td>\n",
       "      <td>0.0</td>\n",
       "      <td>1.0</td>\n",
       "      <td>0.100</td>\n",
       "      <td>0.090</td>\n",
       "      <td>0.0</td>\n",
       "      <td>0.0</td>\n",
       "      <td>60</td>\n",
       "      <td>2</td>\n",
       "      <td>9</td>\n",
       "      <td>0</td>\n",
       "      <td>5</td>\n",
       "      <td>0</td>\n",
       "      <td>5</td>\n",
       "      <td>0</td>\n",
       "      <td>0</td>\n",
       "      <td>0</td>\n",
       "      <td>0</td>\n",
       "      <td>1</td>\n",
       "      <td>36.0</td>\n",
       "      <td>overhead</td>\n",
       "      <td>1</td>\n",
       "      <td>0</td>\n",
       "      <td>1</td>\n",
       "      <td>0</td>\n",
       "      <td>0</td>\n",
       "      <td>0</td>\n",
       "      <td>0</td>\n",
       "      <td>0.254</td>\n",
       "      <td>-0.156</td>\n",
       "      <td>0.098</td>\n",
       "      <td>-0.156</td>\n",
       "      <td>-0.25</td>\n",
       "      <td>0.0</td>\n",
       "      <td>1.209</td>\n",
       "      <td>-0.302</td>\n",
       "      <td>0.0</td>\n",
       "      <td>0.355</td>\n",
       "      <td>-0.051</td>\n",
       "      <td>-0.207</td>\n",
       "      <td>0.001</td>\n",
       "      <td>0.001</td>\n",
       "      <td>-0.301</td>\n",
       "      <td>0.001</td>\n",
       "    </tr>\n",
       "  </tbody>\n",
       "</table></div>"
      ],
      "text/plain": [
       "   player_name p_throws pitch_type  velo  spin_rate  spin_axis  pfx_x  pfx_z  \\\n",
       "0  Smith, Will        L         FF  92.3     2330.0      148.0  -8.28  16.56   \n",
       "1  Smith, Will        L         SL  80.6     2254.0      315.0   9.24   5.76   \n",
       "2  Smith, Will        L         CU  75.5     1940.0      328.0   7.80  -6.12   \n",
       "3  Smith, Will        L         CU  75.0     2017.0      330.0   8.28  -8.28   \n",
       "4  Smith, Will        L         FF  91.2     2281.0      143.0  -7.56  15.36   \n",
       "\n",
       "   bauer_units  effective_speed  release_pos_x  release_pos_z  \\\n",
       "0    25.243770             92.8          -1.40           6.80   \n",
       "1    27.965261             81.2          -1.60           6.64   \n",
       "2    25.695364             75.2          -1.46           6.88   \n",
       "3    26.893333             74.5          -1.53           6.83   \n",
       "4    25.010965             90.9          -1.49           6.66   \n",
       "\n",
       "   release_extension  release_pos_y  plate_x  plate_z type  balls  strikes  \\\n",
       "0                6.5          54.03     0.69     2.83    X      1        2   \n",
       "1                6.4          54.15     0.71     2.62    S      1        1   \n",
       "2                6.2          54.34     0.04     2.46    S      1        0   \n",
       "3                5.9          54.61    -2.10     3.89    B      0        0   \n",
       "4                6.3          54.15     0.31     2.80    X      1        0   \n",
       "\n",
       "  pitch_count  delta_run_exp stand      bb_type    description     events  \\\n",
       "0         1-2         -0.073     R  ground_ball  hit_into_play  field_out   \n",
       "1         1-1         -0.027     R          NaN         strike        NaN   \n",
       "2         1-0         -0.020     R          NaN         strike        NaN   \n",
       "3         0-0          0.016     R          NaN           ball        NaN   \n",
       "4         1-0         -0.189     L  ground_ball  hit_into_play  field_out   \n",
       "\n",
       "   hit_distance_sc  exit_velo  launch_angle  launch_speed_angle  woba_value  \\\n",
       "0             13.0       95.2         -13.0                 2.0         0.0   \n",
       "1            108.0       75.3          75.0                 NaN         NaN   \n",
       "2            157.0       83.5          65.0                 NaN         NaN   \n",
       "3              NaN        NaN           NaN                 NaN         NaN   \n",
       "4              9.0       93.3         -18.0                 2.0         0.0   \n",
       "\n",
       "   woba_denom    xba  xwoba  babip_value  iso_value  at_bat_number  \\\n",
       "0         1.0  0.174  0.158          0.0        0.0             61   \n",
       "1         NaN    NaN    NaN          NaN        NaN             61   \n",
       "2         NaN    NaN    NaN          NaN        NaN             61   \n",
       "3         NaN    NaN    NaN          NaN        NaN             61   \n",
       "4         1.0  0.100  0.090          0.0        0.0             60   \n",
       "\n",
       "   pitch_number  inning  inning_topbot  home_score  away_score  \\\n",
       "0             4       9              0           5           0   \n",
       "1             3       9              0           5           0   \n",
       "2             2       9              0           5           0   \n",
       "3             1       9              0           5           0   \n",
       "4             2       9              0           5           0   \n",
       "\n",
       "   post_home_score  post_away_score  on_1b  on_2b  on_3b  outs_when_up  \\\n",
       "0                5                0      0      0      0             2   \n",
       "1                5                0      0      0      0             2   \n",
       "2                5                0      0      0      0             2   \n",
       "3                5                0      0      0      0             2   \n",
       "4                5                0      0      0      0             1   \n",
       "\n",
       "   arm_angle      slot  is_strike  is_ball  final_pitch_ab  out_to_end_inning  \\\n",
       "0       36.0  overhead          1        0               1                  1   \n",
       "1       45.8       3/4          1        0               0                  0   \n",
       "2       38.4  overhead          1        0               0                  0   \n",
       "3       38.4  overhead          0        1               0                  0   \n",
       "4       36.0  overhead          1        0               1                  0   \n",
       "\n",
       "   home_runs  away_runs  runs     re  re_change  re_end_state   re24  \\\n",
       "0          0          0     0  0.098     -0.098         0.000 -0.098   \n",
       "1          0          0     0  0.098      0.000         0.098  0.000   \n",
       "2          0          0     0  0.098      0.000         0.098  0.000   \n",
       "3          0          0     0  0.098      0.000         0.098  0.000   \n",
       "4          0          0     0  0.254     -0.156         0.098 -0.156   \n",
       "\n",
       "   lin_weight_above_avg  lin_weight_above_outs  woba_scale  \\\n",
       "0                 -0.25                    0.0       1.209   \n",
       "1                   NaN                    NaN       1.209   \n",
       "2                   NaN                    NaN       1.209   \n",
       "3                   NaN                    NaN       1.209   \n",
       "4                 -0.25                    0.0       1.209   \n",
       "\n",
       "   lin_weights_above_avg_scale  lin_weights_above_outs_scale   woba  \\\n",
       "0                       -0.302                           0.0  0.223   \n",
       "1                        0.000                           0.0  0.293   \n",
       "2                        0.000                           0.0  0.355   \n",
       "3                        0.000                           0.0  0.314   \n",
       "4                       -0.302                           0.0  0.355   \n",
       "\n",
       "   wraa_change  count_re  bs_lin_weight  bs_lin_weight_scale  rv_above_avg  \\\n",
       "0       -0.184    -0.282         -0.141               -0.170        -0.472   \n",
       "1       -0.058    -0.058         -0.006               -0.007        -0.007   \n",
       "2       -0.051    -0.051          0.001                0.001         0.001   \n",
       "3        0.034     0.034         -0.003               -0.004        -0.004   \n",
       "4       -0.051    -0.207          0.001                0.001        -0.301   \n",
       "\n",
       "      rv  \n",
       "0 -0.170  \n",
       "1 -0.007  \n",
       "2  0.001  \n",
       "3 -0.004  \n",
       "4  0.001  "
      ]
     },
     "execution_count": 2,
     "metadata": {},
     "output_type": "execute_result"
    }
   ],
   "source": [
    "data = pd.read_csv('../data/model-pitches-rv.csv', index_col = [0])\n",
    "data.drop(columns = ['plate_x', 'release_pos_x'], inplace = True)\n",
    "data.rename(columns = {'pfx_-x': 'pfx_x', \n",
    "                       'plate_-x': 'plate_x', \n",
    "                       'release_pos_-x': 'release_pos_x'}, \n",
    "            inplace = True)\n",
    "\n",
    "pd.set_option('max_columns', None)\n",
    "print(data.shape)\n",
    "data.head()"
   ]
  },
  {
   "cell_type": "markdown",
   "id": "604ebd53",
   "metadata": {},
   "source": [
    "# Cleaning / EDA"
   ]
  },
  {
   "cell_type": "markdown",
   "id": "fa5c37af",
   "metadata": {},
   "source": [
    "### Features\n",
    "\n",
    "**Independent Variables:** Velocity, Spin Rate, HB, VB, Release Side, Release Height, Arm Angle, Release Extension\n",
    "\n",
    "**Dependent Variable:** Run Value"
   ]
  },
  {
   "cell_type": "code",
   "execution_count": 3,
   "id": "d1050d6f",
   "metadata": {},
   "outputs": [],
   "source": [
    "features = data[['player_name', 'p_throws', 'pitch_type', 'velo', 'spin_rate', \n",
    "                 'pfx_x', 'pfx_z', 'release_pos_x', 'release_pos_z', 'arm_angle',\n",
    "                 'release_extension', 'rv']]"
   ]
  },
  {
   "cell_type": "code",
   "execution_count": 4,
   "id": "86bd6810",
   "metadata": {},
   "outputs": [],
   "source": [
    "fastball = features[features['pitch_type'].isin(['FF', 'FC', 'SI'])]\n",
    "breaking_ball = features[features['pitch_type'].isin(['SL', 'CU', 'KC'])]\n",
    "offspeed = features[features['pitch_type'].isin(['CH', 'FS'])]\n",
    "rhp = features.loc[features['p_throws'] == 'R']\n",
    "lhp = features.loc[features['p_throws'] == 'L']\n",
    "rhp_fastball = fastball.loc[fastball['p_throws'] == 'R']\n",
    "lhp_fastball = fastball.loc[fastball['p_throws'] == 'L']\n",
    "rhp_breaking_ball = breaking_ball.loc[breaking_ball['p_throws'] == 'R']\n",
    "lhp_breaking_ball = breaking_ball.loc[breaking_ball['p_throws'] == 'L']\n",
    "rhp_offspeed = offspeed.loc[offspeed['p_throws'] == 'R']\n",
    "lhp_offspeed = offspeed.loc[offspeed['p_throws'] == 'L']\n",
    "ff_r = rhp.loc[rhp['pitch_type'] == 'FF']\n",
    "ff_l = lhp.loc[lhp['pitch_type'] == 'FF']\n",
    "fc_r = rhp.loc[rhp['pitch_type'] == 'FC']\n",
    "fc_l = lhp.loc[lhp['pitch_type'] == 'FC']\n",
    "si_r = rhp.loc[rhp['pitch_type'] == 'SI']\n",
    "si_l = lhp.loc[lhp['pitch_type'] == 'SI']\n",
    "sl_r = rhp.loc[rhp['pitch_type'] == 'SL']\n",
    "sl_l = lhp.loc[lhp['pitch_type'] == 'SL']\n",
    "cu_r = rhp.loc[rhp['pitch_type'] == 'CU']\n",
    "cu_l = lhp.loc[lhp['pitch_type'] == 'CU']\n",
    "ch_r = rhp.loc[rhp['pitch_type'] == 'CH']\n",
    "ch_l = lhp.loc[lhp['pitch_type'] == 'CH']"
   ]
  },
  {
   "cell_type": "markdown",
   "id": "11f6154a",
   "metadata": {},
   "source": [
    "# Random Forest Regression Model"
   ]
  },
  {
   "cell_type": "markdown",
   "id": "b3c24b70",
   "metadata": {},
   "source": [
    "# 4-Seam RHP "
   ]
  },
  {
   "cell_type": "code",
   "execution_count": 5,
   "id": "3aba048e",
   "metadata": {},
   "outputs": [
    {
     "name": "stdout",
     "output_type": "stream",
     "text": [
      "R2 Test Score: -0.046\n",
      "MSE: 0.098\n",
      "RMSE: 0.313\n",
      "MAE: 0.179 \n",
      "\n",
      "R2 Score: 0.636\n",
      "MSE: 0.035\n",
      "RMSE: 0.188\n",
      "MAE: 0.096\n"
     ]
    }
   ],
   "source": [
    "features_ff_r = ff_r.select_dtypes([np.number])\n",
    "X = features_ff_r.drop(columns = ['rv'])\n",
    "y = features_ff_r['rv']\n",
    "\n",
    "X_train, X_test, y_train, y_test = train_test_split(X, y, random_state = 1)\n",
    "\n",
    "rf_ff_r = RandomForestRegressor().fit(X_train, y_train)\n",
    "pred_ff_r = rf_ff_r.predict(X_test)\n",
    "pred = rf_ff_r.predict(X)\n",
    "\n",
    "print('R2 Test Score:', round((metrics.r2_score(y_test, pred_ff_r)), 3))\n",
    "print('MSE:', round((metrics.mean_squared_error(y_test, pred_ff_r)), 3))\n",
    "print('RMSE:', round(np.sqrt(metrics.mean_squared_error(y_test, pred_ff_r)), 3))\n",
    "print('MAE:', round(metrics.mean_absolute_error(y_test, pred_ff_r), 3), '\\n')\n",
    "print('R2 Score:', round((metrics.r2_score(y, pred)), 3))\n",
    "print('MSE:', round((metrics.mean_squared_error(y, pred)), 3))\n",
    "print('RMSE:', round(np.sqrt(metrics.mean_squared_error(y, pred)), 3))\n",
    "print('MAE:', round(metrics.mean_absolute_error(y, pred), 3))"
   ]
  },
  {
   "cell_type": "markdown",
   "id": "e6eb2ad5",
   "metadata": {},
   "source": [
    "### RHP 4-Seam RV Table"
   ]
  },
  {
   "cell_type": "code",
   "execution_count": 6,
   "id": "5c6b74a6",
   "metadata": {},
   "outputs": [
    {
     "data": {
      "text/html": [
       "<div><div id=f0dfca4a-2b3a-43a3-bff6-bf1f4f78d6c9 style=\"display:none; background-color:#9D6CFF; color:white; width:200px; height:30px; padding-left:5px; border-radius:4px; flex-direction:row; justify-content:space-around; align-items:center;\" onmouseover=\"this.style.backgroundColor='#BA9BF8'\" onmouseout=\"this.style.backgroundColor='#9D6CFF'\" onclick=\"window.commands?.execute('create-mitosheet-from-dataframe-output');\">See Full Dataframe in Mito</div> <script> if (window.commands.hasCommand('create-mitosheet-from-dataframe-output')) document.getElementById('f0dfca4a-2b3a-43a3-bff6-bf1f4f78d6c9').style.display = 'flex' </script> <table border=\"1\" class=\"dataframe\">\n",
       "  <thead>\n",
       "    <tr style=\"text-align: right;\">\n",
       "      <th></th>\n",
       "      <th>velo</th>\n",
       "      <th>spin_rate</th>\n",
       "      <th>HB</th>\n",
       "      <th>VB</th>\n",
       "      <th>release_pos_x</th>\n",
       "      <th>release_pos_z</th>\n",
       "      <th>arm_angle</th>\n",
       "      <th>release_extension</th>\n",
       "      <th>xRV</th>\n",
       "    </tr>\n",
       "  </thead>\n",
       "  <tbody>\n",
       "    <tr>\n",
       "      <th>0</th>\n",
       "      <td>84.0</td>\n",
       "      <td>2251.0</td>\n",
       "      <td>4.7</td>\n",
       "      <td>10.4</td>\n",
       "      <td>1.4</td>\n",
       "      <td>5.2</td>\n",
       "      <td>45.0</td>\n",
       "      <td>4.9</td>\n",
       "      <td>0.31631</td>\n",
       "    </tr>\n",
       "  </tbody>\n",
       "</table></div>"
      ],
      "text/plain": [
       "   velo  spin_rate   HB    VB  release_pos_x  release_pos_z  arm_angle  \\\n",
       "0  84.0     2251.0  4.7  10.4            1.4            5.2       45.0   \n",
       "\n",
       "   release_extension      xRV  \n",
       "0                4.9  0.31631  "
      ]
     },
     "execution_count": 6,
     "metadata": {},
     "output_type": "execute_result"
    }
   ],
   "source": [
    "ff_rhp = ff_r.copy()\n",
    "ff_rhp['xRV'] = pred\n",
    "ff_rhp['xRV'] = round(ff_rhp['xRV'], 3)\n",
    "ff_rhp['n_pitches'] = [1 if x == 'FF' else 0 for x in ff_rhp['pitch_type']]\n",
    "\n",
    "new_input = [[84.0, 2251.0, 4.7, 10.4, 1.40, 5.20, 45.0, 4.9]]\n",
    "pred_new = rf_ff_r.predict(new_input)\n",
    "columns = ['velo', 'spin_rate', 'HB', 'VB', 'release_pos_x', \n",
    "           'release_pos_z', 'arm_angle', 'release_extension']\n",
    "new = pd.DataFrame(data = new_input, columns = columns)\n",
    "new['xRV'] = pred_new\n",
    "new.head()"
   ]
  },
  {
   "cell_type": "code",
   "execution_count": 7,
   "id": "904cb692",
   "metadata": {},
   "outputs": [
    {
     "data": {
      "image/png": "[encoded data removed]",
      "text/plain": [
       "<Figure size 576x432 with 2 Axes>"
      ]
     },
     "metadata": {
      "needs_background": "light"
     },
     "output_type": "display_data"
    }
   ],
   "source": [
    "plt.figure(figsize = (8, 6))\n",
    "\n",
    "ax = plt.hexbin(ff_rhp['pfx_x'], ff_rhp['pfx_z'], C = ff_rhp['xRV'], cmap = 'coolwarm', mincnt = 20, gridsize = 8)\n",
    "plt.scatter(new['HB'], new['VB'], color = 'black')\n",
    "plt.plot([0, 30], [0, 30], ls=\"-\", c=\".3\", label = 'FF Dead Zone')\n",
    "cb = plt.colorbar(ax, shrink = .6)\n",
    "plt.xlabel('HB'), plt.ylabel('VB'), plt.xlim(-30, 30), plt.ylim(-30, 30), cb.ax.set_title('xRV') \n",
    "cb.set_ticks([0, 0, .10, .20], update_ticks = True)\n",
    "plt.axhline(0, color = 'black', ls = '--'), plt.axvline(0, color = 'black', ls = '--'), plt.legend()\n",
    "plt.title('RHP 4-Seam HB & VB Axis', fontsize = 14, fontweight = 'bold', pad = 15);"
   ]
  },
  {
   "cell_type": "markdown",
   "id": "8eb2094c",
   "metadata": {},
   "source": [
    "velo: avg. velo\n",
    "\n",
    "pfx_x: avg. HB\n",
    "\n",
    "pfx_z: avg. VB\n",
    "\n",
    "arm_angle: in degrees (0-40: overhead, 41-60: 3/4, >= 61: sidearm\n",
    "\n",
    "release_extension: avg. release extension in ft.\n",
    "\n",
    "rv_above_outs: run value from pitch to pitch\n",
    "\n",
    "xrv_above_outs: expected run value from pitch to pitch\n",
    "\n",
    "RV: sum of all run values\n",
    "\n",
    "xRV: sum of all expected run values\n",
    "\n",
    "RV/100: sum or RV divided by n_pitches times 100\n",
    "\n",
    "xRV/100: sum or xRV divided by n_pitches times 100"
   ]
  },
  {
   "cell_type": "markdown",
   "id": "baef99c4",
   "metadata": {},
   "source": [
    "# 4-Seam LHP"
   ]
  },
  {
   "cell_type": "code",
   "execution_count": 8,
   "id": "65e20104",
   "metadata": {},
   "outputs": [
    {
     "name": "stdout",
     "output_type": "stream",
     "text": [
      "R2 Test Score: -0.053\n",
      "MSE: 0.096\n",
      "RMSE: 0.31\n",
      "MAE: 0.178 \n",
      "\n",
      "R2 Score: 0.637\n",
      "MSE: 0.035\n",
      "RMSE: 0.186\n",
      "MAE: 0.095\n"
     ]
    }
   ],
   "source": [
    "features_ff_l = ff_l.select_dtypes([np.number])\n",
    "X = features_ff_l.drop(columns = ['rv'])\n",
    "y = features_ff_l['rv']\n",
    "\n",
    "X_train, X_test, y_train, y_test = train_test_split(X, y, random_state = 1)\n",
    "\n",
    "rf_ff_l = RandomForestRegressor().fit(X_train, y_train)\n",
    "pred_ff_l = rf_ff_l.predict(X_test)\n",
    "pred = rf_ff_l.predict(X)\n",
    "\n",
    "print('R2 Test Score:', round((metrics.r2_score(y_test, pred_ff_l)), 3))\n",
    "print('MSE:', round((metrics.mean_squared_error(y_test, pred_ff_l)), 3))\n",
    "print('RMSE:', round(np.sqrt(metrics.mean_squared_error(y_test, pred_ff_l)), 3))\n",
    "print('MAE:', round(metrics.mean_absolute_error(y_test, pred_ff_l), 3), '\\n')\n",
    "print('R2 Score:', round((metrics.r2_score(y, pred)), 3))\n",
    "print('MSE:', round((metrics.mean_squared_error(y, pred)), 3))\n",
    "print('RMSE:', round(np.sqrt(metrics.mean_squared_error(y, pred)), 3))\n",
    "print('MAE:', round(metrics.mean_absolute_error(y, pred), 3))"
   ]
  },
  {
   "cell_type": "markdown",
   "id": "709bebf9",
   "metadata": {},
   "source": [
    "### LHP 4-Seam RV Table"
   ]
  },
  {
   "cell_type": "code",
   "execution_count": 9,
   "id": "a5496a00",
   "metadata": {},
   "outputs": [
    {
     "data": {
      "text/html": [
       "<div><div id=a7b570f5-2e43-4589-8aeb-ab7eb76cdd5d style=\"display:none; background-color:#9D6CFF; color:white; width:200px; height:30px; padding-left:5px; border-radius:4px; flex-direction:row; justify-content:space-around; align-items:center;\" onmouseover=\"this.style.backgroundColor='#BA9BF8'\" onmouseout=\"this.style.backgroundColor='#9D6CFF'\" onclick=\"window.commands?.execute('create-mitosheet-from-dataframe-output');\">See Full Dataframe in Mito</div> <script> if (window.commands.hasCommand('create-mitosheet-from-dataframe-output')) document.getElementById('a7b570f5-2e43-4589-8aeb-ab7eb76cdd5d').style.display = 'flex' </script> <table border=\"1\" class=\"dataframe\">\n",
       "  <thead>\n",
       "    <tr style=\"text-align: right;\">\n",
       "      <th></th>\n",
       "      <th>velo</th>\n",
       "      <th>spin_rate</th>\n",
       "      <th>HB</th>\n",
       "      <th>VB</th>\n",
       "      <th>release_pos_x</th>\n",
       "      <th>release_pos_z</th>\n",
       "      <th>arm_angle</th>\n",
       "      <th>release_extension</th>\n",
       "      <th>xRV</th>\n",
       "    </tr>\n",
       "  </thead>\n",
       "  <tbody>\n",
       "    <tr>\n",
       "      <th>0</th>\n",
       "      <td>84.0</td>\n",
       "      <td>2251.0</td>\n",
       "      <td>-4.7</td>\n",
       "      <td>10.4</td>\n",
       "      <td>-1.4</td>\n",
       "      <td>5.2</td>\n",
       "      <td>45.0</td>\n",
       "      <td>4.9</td>\n",
       "      <td>0.53725</td>\n",
       "    </tr>\n",
       "  </tbody>\n",
       "</table></div>"
      ],
      "text/plain": [
       "   velo  spin_rate   HB    VB  release_pos_x  release_pos_z  arm_angle  \\\n",
       "0  84.0     2251.0 -4.7  10.4           -1.4            5.2       45.0   \n",
       "\n",
       "   release_extension      xRV  \n",
       "0                4.9  0.53725  "
      ]
     },
     "execution_count": 9,
     "metadata": {},
     "output_type": "execute_result"
    }
   ],
   "source": [
    "ff_lhp = ff_l.copy()\n",
    "ff_lhp['xRV'] = pred\n",
    "ff_lhp['xRV'] = round(ff_lhp['xRV'], 3)\n",
    "ff_lhp['n_pitches'] = [1 if x == 'FF' else 0 for x in ff_lhp['pitch_type']]\n",
    "\n",
    "new_input = [[84.0, 2251.0, -4.7, 10.4, -1.40, 5.20, 45.0, 4.9]]\n",
    "pred_new = rf_ff_l.predict(new_input)\n",
    "columns = ['velo', 'spin_rate', 'HB', 'VB', 'release_pos_x', \n",
    "           'release_pos_z', 'arm_angle', 'release_extension']\n",
    "new = pd.DataFrame(data = new_input, columns = columns)\n",
    "new['xRV'] = pred_new\n",
    "new.head()"
   ]
  },
  {
   "cell_type": "code",
   "execution_count": 10,
   "id": "3912e964",
   "metadata": {},
   "outputs": [
    {
     "data": {
      "image/png": "[encoded data removed]",
      "text/plain": [
       "<Figure size 576x432 with 2 Axes>"
      ]
     },
     "metadata": {
      "needs_background": "light"
     },
     "output_type": "display_data"
    }
   ],
   "source": [
    "plt.figure(figsize = (8, 6))\n",
    "ax = plt.hexbin(ff_lhp['pfx_x'], ff_lhp['pfx_z'], C = ff_lhp['xRV'], cmap = 'coolwarm', mincnt = 20, gridsize = 8)\n",
    "plt.scatter(new['HB'], new['VB'], color = 'black')\n",
    "plt.plot([0, -30], [0, 30], ls=\"-\", c=\".3\", label = 'FF Dead Zone')\n",
    "cb = plt.colorbar(ax, shrink = .6)\n",
    "plt.xlabel('HB'), plt.ylabel('VB'), plt.xlim(-30, 30), plt.ylim(-30, 30), cb.ax.set_title('xRV') \n",
    "#cb.set_ticks([0, 0, .10, .20]) \n",
    "plt.axhline(0, color = 'black', ls = '--'), plt.axvline(0, color = 'black', ls = '--'), plt.legend()\n",
    "plt.title('LHP 4-Seam HB & VB Axis', fontsize = 14, fontweight = 'bold', pad = 15);"
   ]
  },
  {
   "cell_type": "markdown",
   "id": "a077354c",
   "metadata": {},
   "source": [
    "# Cutter RHP"
   ]
  },
  {
   "cell_type": "code",
   "execution_count": 11,
   "id": "2f054e80",
   "metadata": {},
   "outputs": [
    {
     "name": "stdout",
     "output_type": "stream",
     "text": [
      "R2 Test Score: -0.052\n",
      "MSE: 0.097\n",
      "RMSE: 0.311\n",
      "MAE: 0.173 \n",
      "\n",
      "R2 Score: 0.622\n",
      "MSE: 0.034\n",
      "RMSE: 0.185\n",
      "MAE: 0.091\n"
     ]
    }
   ],
   "source": [
    "features_fc_r = fc_r.select_dtypes([np.number])\n",
    "X = features_fc_r.drop(columns = ['rv'])\n",
    "y = features_fc_r['rv']\n",
    "\n",
    "X_train, X_test, y_train, y_test = train_test_split(X, y, random_state = 1)\n",
    "\n",
    "rf_fc_r = RandomForestRegressor(random_state = 1).fit(X_train, y_train)\n",
    "pred_fc_r = rf_fc_r.predict(X_test)\n",
    "pred = rf_fc_r.predict(X)\n",
    "\n",
    "print('R2 Test Score:', round((metrics.r2_score(y_test, pred_fc_r)), 3))\n",
    "print('MSE:', round((metrics.mean_squared_error(y_test, pred_fc_r)), 3))\n",
    "print('RMSE:', round(np.sqrt(metrics.mean_squared_error(y_test, pred_fc_r)), 3))\n",
    "print('MAE:', round(metrics.mean_absolute_error(y_test, pred_fc_r), 3), '\\n')\n",
    "print('R2 Score:', round((metrics.r2_score(y, pred)), 3))\n",
    "print('MSE:', round((metrics.mean_squared_error(y, pred)), 3))\n",
    "print('RMSE:', round(np.sqrt(metrics.mean_squared_error(y, pred)), 3))\n",
    "print('MAE:', round(metrics.mean_absolute_error(y, pred), 3))"
   ]
  },
  {
   "cell_type": "markdown",
   "id": "08504f54",
   "metadata": {},
   "source": [
    "### RHP Cutter RV Table"
   ]
  },
  {
   "cell_type": "code",
   "execution_count": 12,
   "id": "9844cbc3",
   "metadata": {},
   "outputs": [
    {
     "data": {
      "text/html": [
       "<div><div id=a0f31bf8-5e0e-4b80-9ec2-2c940cc0fa27 style=\"display:none; background-color:#9D6CFF; color:white; width:200px; height:30px; padding-left:5px; border-radius:4px; flex-direction:row; justify-content:space-around; align-items:center;\" onmouseover=\"this.style.backgroundColor='#BA9BF8'\" onmouseout=\"this.style.backgroundColor='#9D6CFF'\" onclick=\"window.commands?.execute('create-mitosheet-from-dataframe-output');\">See Full Dataframe in Mito</div> <script> if (window.commands.hasCommand('create-mitosheet-from-dataframe-output')) document.getElementById('a0f31bf8-5e0e-4b80-9ec2-2c940cc0fa27').style.display = 'flex' </script> <table border=\"1\" class=\"dataframe\">\n",
       "  <thead>\n",
       "    <tr style=\"text-align: right;\">\n",
       "      <th></th>\n",
       "      <th>velo</th>\n",
       "      <th>spin_rate</th>\n",
       "      <th>HB</th>\n",
       "      <th>VB</th>\n",
       "      <th>release_pos_x</th>\n",
       "      <th>release_pos_z</th>\n",
       "      <th>arm_angle</th>\n",
       "      <th>release_extension</th>\n",
       "      <th>xRV</th>\n",
       "    </tr>\n",
       "  </thead>\n",
       "  <tbody>\n",
       "    <tr>\n",
       "      <th>0</th>\n",
       "      <td>80.8</td>\n",
       "      <td>2044.0</td>\n",
       "      <td>3.2</td>\n",
       "      <td>12.2</td>\n",
       "      <td>1.2</td>\n",
       "      <td>5.4</td>\n",
       "      <td>45.0</td>\n",
       "      <td>4.9</td>\n",
       "      <td>0.32829</td>\n",
       "    </tr>\n",
       "  </tbody>\n",
       "</table></div>"
      ],
      "text/plain": [
       "   velo  spin_rate   HB    VB  release_pos_x  release_pos_z  arm_angle  \\\n",
       "0  80.8     2044.0  3.2  12.2            1.2            5.4       45.0   \n",
       "\n",
       "   release_extension      xRV  \n",
       "0                4.9  0.32829  "
      ]
     },
     "execution_count": 12,
     "metadata": {},
     "output_type": "execute_result"
    }
   ],
   "source": [
    "fc_rhp = fc_r.copy()\n",
    "fc_rhp['xRV'] = pred\n",
    "fc_rhp['xRV'] = round(fc_rhp['xRV'], 3)\n",
    "fc_rhp['n_pitches'] = [1 if x == 'FF' else 0 for x in fc_rhp['pitch_type']]\n",
    "\n",
    "new_input = [[80.8, 2044.0, 3.2, 12.2, 1.20, 5.40, 45.0, 4.9]]\n",
    "pred_new = rf_fc_r.predict(new_input)\n",
    "columns = ['velo', 'spin_rate', 'HB', 'VB', 'release_pos_x', \n",
    "           'release_pos_z', 'arm_angle', 'release_extension']\n",
    "new = pd.DataFrame(data = new_input, columns = columns)\n",
    "new['xRV'] = pred_new\n",
    "new.head()"
   ]
  },
  {
   "cell_type": "code",
   "execution_count": 13,
   "id": "3cc22409",
   "metadata": {},
   "outputs": [
    {
     "data": {
      "image/png": "[encoded data removed]",
      "text/plain": [
       "<Figure size 576x432 with 2 Axes>"
      ]
     },
     "metadata": {
      "needs_background": "light"
     },
     "output_type": "display_data"
    }
   ],
   "source": [
    "plt.figure(figsize = (8, 6))\n",
    "ax = plt.hexbin(fc_rhp['pfx_x'], fc_rhp['pfx_z'], C = fc_rhp['xRV'], cmap = 'coolwarm', mincnt = 20, gridsize = 8)\n",
    "plt.scatter(new['HB'], new['VB'], color = 'black')\n",
    "cb = plt.colorbar(ax, shrink = .6)\n",
    "plt.xlabel('HB'), plt.ylabel('VB'), plt.xlim(-30, 30), plt.ylim(-30, 30), cb.ax.set_title('xRV') \n",
    "plt.axhline(0, color = 'black', ls = '--'), plt.axvline(0, color = 'black', ls = '--')\n",
    "plt.title('RHP Cutter HB & VB Axis', fontsize = 14, fontweight = 'bold', pad = 15);"
   ]
  },
  {
   "cell_type": "markdown",
   "id": "01e73e27",
   "metadata": {},
   "source": [
    "## Cutter LHP"
   ]
  },
  {
   "cell_type": "code",
   "execution_count": 14,
   "id": "380ba153",
   "metadata": {},
   "outputs": [
    {
     "name": "stdout",
     "output_type": "stream",
     "text": [
      "R2 Test Score: -0.04\n",
      "MSE: 0.105\n",
      "RMSE: 0.325\n",
      "MAE: 0.182 \n",
      "\n",
      "R2 Score: 0.62\n",
      "MSE: 0.037\n",
      "RMSE: 0.192\n",
      "MAE: 0.096\n"
     ]
    }
   ],
   "source": [
    "features_fc_l = fc_l.select_dtypes([np.number])\n",
    "X = features_fc_l.drop(columns = ['rv'])\n",
    "y = features_fc_l['rv']\n",
    "\n",
    "X_train, X_test, y_train, y_test = train_test_split(X, y, random_state = 1)\n",
    "\n",
    "rf_fc_l = RandomForestRegressor(random_state = 1).fit(X_train, y_train)\n",
    "pred_fc_l = rf_fc_l.predict(X_test)\n",
    "pred = rf_fc_l.predict(X)\n",
    "\n",
    "print('R2 Test Score:', round((metrics.r2_score(y_test, pred_fc_l)), 3))\n",
    "print('MSE:', round((metrics.mean_squared_error(y_test, pred_fc_l)), 3))\n",
    "print('RMSE:', round(np.sqrt(metrics.mean_squared_error(y_test, pred_fc_l)), 3))\n",
    "print('MAE:', round(metrics.mean_absolute_error(y_test, pred_fc_l), 3), '\\n')\n",
    "print('R2 Score:', round((metrics.r2_score(y, pred)), 3))\n",
    "print('MSE:', round((metrics.mean_squared_error(y, pred)), 3))\n",
    "print('RMSE:', round(np.sqrt(metrics.mean_squared_error(y, pred)), 3))\n",
    "print('MAE:', round(metrics.mean_absolute_error(y, pred), 3))"
   ]
  },
  {
   "cell_type": "markdown",
   "id": "eabfb812",
   "metadata": {},
   "source": [
    "### LHP Cutter RV Table"
   ]
  },
  {
   "cell_type": "code",
   "execution_count": 15,
   "id": "df31b848",
   "metadata": {},
   "outputs": [
    {
     "data": {
      "text/html": [
       "<div><div id=9bb8b854-d113-4419-bdee-ffa757dd4d3d style=\"display:none; background-color:#9D6CFF; color:white; width:200px; height:30px; padding-left:5px; border-radius:4px; flex-direction:row; justify-content:space-around; align-items:center;\" onmouseover=\"this.style.backgroundColor='#BA9BF8'\" onmouseout=\"this.style.backgroundColor='#9D6CFF'\" onclick=\"window.commands?.execute('create-mitosheet-from-dataframe-output');\">See Full Dataframe in Mito</div> <script> if (window.commands.hasCommand('create-mitosheet-from-dataframe-output')) document.getElementById('9bb8b854-d113-4419-bdee-ffa757dd4d3d').style.display = 'flex' </script> <table border=\"1\" class=\"dataframe\">\n",
       "  <thead>\n",
       "    <tr style=\"text-align: right;\">\n",
       "      <th></th>\n",
       "      <th>velo</th>\n",
       "      <th>spin_rate</th>\n",
       "      <th>HB</th>\n",
       "      <th>VB</th>\n",
       "      <th>release_pos_x</th>\n",
       "      <th>release_pos_z</th>\n",
       "      <th>arm_angle</th>\n",
       "      <th>release_extension</th>\n",
       "      <th>xRV</th>\n",
       "    </tr>\n",
       "  </thead>\n",
       "  <tbody>\n",
       "    <tr>\n",
       "      <th>0</th>\n",
       "      <td>80.8</td>\n",
       "      <td>2044.0</td>\n",
       "      <td>-3.2</td>\n",
       "      <td>12.2</td>\n",
       "      <td>-1.2</td>\n",
       "      <td>5.4</td>\n",
       "      <td>45.0</td>\n",
       "      <td>4.9</td>\n",
       "      <td>0.55859</td>\n",
       "    </tr>\n",
       "  </tbody>\n",
       "</table></div>"
      ],
      "text/plain": [
       "   velo  spin_rate   HB    VB  release_pos_x  release_pos_z  arm_angle  \\\n",
       "0  80.8     2044.0 -3.2  12.2           -1.2            5.4       45.0   \n",
       "\n",
       "   release_extension      xRV  \n",
       "0                4.9  0.55859  "
      ]
     },
     "execution_count": 15,
     "metadata": {},
     "output_type": "execute_result"
    }
   ],
   "source": [
    "fc_lhp = fc_l.copy()\n",
    "fc_lhp['xRV'] = pred\n",
    "fc_lhp['xRV'] = round(fc_lhp['xRV'], 3)\n",
    "fc_lhp['n_pitches'] = [1 if x == 'FF' else 0 for x in fc_lhp['pitch_type']]\n",
    "\n",
    "new_input = [[80.8, 2044.0, -3.2, 12.2, -1.20, 5.40, 45.0, 4.9]]\n",
    "pred_new = rf_fc_l.predict(new_input)\n",
    "columns = ['velo', 'spin_rate', 'HB', 'VB', 'release_pos_x', \n",
    "           'release_pos_z', 'arm_angle', 'release_extension']\n",
    "new = pd.DataFrame(data = new_input, columns = columns)\n",
    "new['xRV'] = pred_new\n",
    "new.head()"
   ]
  },
  {
   "cell_type": "markdown",
   "id": "db748019",
   "metadata": {},
   "source": [
    "### LHP Cutter HB & VB"
   ]
  },
  {
   "cell_type": "code",
   "execution_count": 16,
   "id": "745c1731",
   "metadata": {},
   "outputs": [
    {
     "data": {
      "image/png": "[encoded data removed]",
      "text/plain": [
       "<Figure size 576x432 with 2 Axes>"
      ]
     },
     "metadata": {
      "needs_background": "light"
     },
     "output_type": "display_data"
    }
   ],
   "source": [
    "plt.figure(figsize = (8, 6))\n",
    "ax = plt.hexbin(fc_lhp['pfx_x'], fc_lhp['pfx_z'], C = fc_lhp['xRV'], cmap = 'coolwarm', mincnt = 20, gridsize = 8)\n",
    "plt.scatter(new['HB'], new['VB'], color = 'black')\n",
    "cb = plt.colorbar(ax, shrink = .6)\n",
    "plt.xlabel('HB'), plt.ylabel('VB'), plt.xlim(-30, 30), plt.ylim(-30, 30), cb.ax.set_title('xRV') \n",
    "plt.axhline(0, color = 'black', ls = '--'), plt.axvline(0, color = 'black', ls = '--')\n",
    "plt.title('LHP Cutter HB & VB Axis', fontsize = 14, fontweight = 'bold', pad = 15);"
   ]
  },
  {
   "cell_type": "markdown",
   "id": "22f7c0aa",
   "metadata": {},
   "source": [
    "## Sinker RHP"
   ]
  },
  {
   "cell_type": "code",
   "execution_count": 17,
   "id": "8266e961",
   "metadata": {},
   "outputs": [
    {
     "name": "stdout",
     "output_type": "stream",
     "text": [
      "R2 Test Score: -0.048\n",
      "MSE: 0.104\n",
      "RMSE: 0.323\n",
      "MAE: 0.192 \n",
      "\n",
      "R2 Score: 0.621\n",
      "MSE: 0.037\n",
      "RMSE: 0.191\n",
      "MAE: 0.101\n"
     ]
    }
   ],
   "source": [
    "features_si_r = si_r.select_dtypes([np.number])\n",
    "X = features_si_r.drop(columns = ['rv'])\n",
    "y = features_si_r['rv']\n",
    "\n",
    "X_train, X_test, y_train, y_test = train_test_split(X, y, random_state = 1)\n",
    "\n",
    "rf_si_r = RandomForestRegressor(random_state = 1).fit(X_train, y_train)\n",
    "pred_si_r = rf_si_r.predict(X_test)\n",
    "pred = rf_si_r.predict(X)\n",
    "\n",
    "print('R2 Test Score:', round((metrics.r2_score(y_test, pred_si_r)), 3))\n",
    "print('MSE:', round((metrics.mean_squared_error(y_test, pred_si_r)), 3))\n",
    "print('RMSE:', round(np.sqrt(metrics.mean_squared_error(y_test, pred_si_r)), 3))\n",
    "print('MAE:', round(metrics.mean_absolute_error(y_test, pred_si_r), 3), '\\n')\n",
    "print('R2 Score:', round((metrics.r2_score(y, pred)), 3))\n",
    "print('MSE:', round((metrics.mean_squared_error(y, pred)), 3))\n",
    "print('RMSE:', round(np.sqrt(metrics.mean_squared_error(y, pred)), 3))\n",
    "print('MAE:', round(metrics.mean_absolute_error(y, pred), 3))"
   ]
  },
  {
   "cell_type": "markdown",
   "id": "0d535588",
   "metadata": {},
   "source": [
    "### RHP Sinker RV Table"
   ]
  },
  {
   "cell_type": "code",
   "execution_count": 18,
   "id": "211bf125",
   "metadata": {},
   "outputs": [
    {
     "data": {
      "text/html": [
       "<div><div id=0101b463-412b-49f0-9e32-80bc3db0d234 style=\"display:none; background-color:#9D6CFF; color:white; width:200px; height:30px; padding-left:5px; border-radius:4px; flex-direction:row; justify-content:space-around; align-items:center;\" onmouseover=\"this.style.backgroundColor='#BA9BF8'\" onmouseout=\"this.style.backgroundColor='#9D6CFF'\" onclick=\"window.commands?.execute('create-mitosheet-from-dataframe-output');\">See Full Dataframe in Mito</div> <script> if (window.commands.hasCommand('create-mitosheet-from-dataframe-output')) document.getElementById('0101b463-412b-49f0-9e32-80bc3db0d234').style.display = 'flex' </script> <table border=\"1\" class=\"dataframe\">\n",
       "  <thead>\n",
       "    <tr style=\"text-align: right;\">\n",
       "      <th></th>\n",
       "      <th>velo</th>\n",
       "      <th>spin_rate</th>\n",
       "      <th>HB</th>\n",
       "      <th>VB</th>\n",
       "      <th>release_pos_x</th>\n",
       "      <th>release_pos_z</th>\n",
       "      <th>arm_angle</th>\n",
       "      <th>release_extension</th>\n",
       "      <th>xRV</th>\n",
       "    </tr>\n",
       "  </thead>\n",
       "  <tbody>\n",
       "    <tr>\n",
       "      <th>0</th>\n",
       "      <td>80.8</td>\n",
       "      <td>2044.0</td>\n",
       "      <td>3.2</td>\n",
       "      <td>12.2</td>\n",
       "      <td>1.2</td>\n",
       "      <td>5.4</td>\n",
       "      <td>45.0</td>\n",
       "      <td>4.9</td>\n",
       "      <td>0.48693</td>\n",
       "    </tr>\n",
       "  </tbody>\n",
       "</table></div>"
      ],
      "text/plain": [
       "   velo  spin_rate   HB    VB  release_pos_x  release_pos_z  arm_angle  \\\n",
       "0  80.8     2044.0  3.2  12.2            1.2            5.4       45.0   \n",
       "\n",
       "   release_extension      xRV  \n",
       "0                4.9  0.48693  "
      ]
     },
     "execution_count": 18,
     "metadata": {},
     "output_type": "execute_result"
    }
   ],
   "source": [
    "si_rhp = si_r.copy()\n",
    "si_rhp['xRV'] = pred\n",
    "si_rhp['xRV'] = round(si_rhp['xRV'], 3)\n",
    "si_rhp['n_pitches'] = [1 if x == 'FF' else 0 for x in si_rhp['pitch_type']]\n",
    "\n",
    "new_input = [[80.8, 2044.0, 3.2, 12.2, 1.20, 5.40, 45.0, 4.9]]\n",
    "pred_new = rf_si_r.predict(new_input)\n",
    "columns = ['velo', 'spin_rate', 'HB', 'VB', 'release_pos_x', \n",
    "           'release_pos_z', 'arm_angle', 'release_extension']\n",
    "new = pd.DataFrame(data = new_input, columns = columns)\n",
    "new['xRV'] = pred_new\n",
    "new.head()"
   ]
  },
  {
   "cell_type": "markdown",
   "id": "c2d737ee",
   "metadata": {},
   "source": [
    "### RHP Sinker HB & VB"
   ]
  },
  {
   "cell_type": "code",
   "execution_count": 19,
   "id": "629bca23",
   "metadata": {},
   "outputs": [
    {
     "data": {
      "image/png": "[encoded data removed]",
      "text/plain": [
       "<Figure size 576x432 with 2 Axes>"
      ]
     },
     "metadata": {
      "needs_background": "light"
     },
     "output_type": "display_data"
    }
   ],
   "source": [
    "plt.figure(figsize = (8, 6))\n",
    "ax = plt.hexbin(si_rhp['pfx_x'], si_rhp['pfx_z'], C = si_rhp['xRV'], cmap = 'coolwarm', mincnt = 20, gridsize = 8)\n",
    "plt.scatter(new['HB'], new['VB'], color = 'black')\n",
    "cb = plt.colorbar(ax, shrink = .6)\n",
    "plt.xlabel('HB'), plt.ylabel('VB'), plt.xlim(-30, 30), plt.ylim(-30, 30), cb.ax.set_title('xRV') \n",
    "plt.axhline(0, color = 'black', ls = '--'), plt.axvline(0, color = 'black', ls = '--')\n",
    "plt.title('RHP Sinker HB & VB Axis', fontsize = 14, fontweight = 'bold', pad = 15);"
   ]
  },
  {
   "cell_type": "markdown",
   "id": "528a10ae",
   "metadata": {},
   "source": [
    "## Sinker LHP"
   ]
  },
  {
   "cell_type": "code",
   "execution_count": 20,
   "id": "41a535fb",
   "metadata": {},
   "outputs": [
    {
     "name": "stdout",
     "output_type": "stream",
     "text": [
      "R2 Test Score: -0.057\n",
      "MSE: 0.099\n",
      "RMSE: 0.314\n",
      "MAE: 0.185 \n",
      "\n",
      "R2 Score: 0.627\n",
      "MSE: 0.035\n",
      "RMSE: 0.188\n",
      "MAE: 0.099\n"
     ]
    }
   ],
   "source": [
    "features_si_l = si_l.select_dtypes([np.number])\n",
    "X = features_si_l.drop(columns = ['rv'])\n",
    "y = features_si_l['rv']\n",
    "\n",
    "X_train, X_test, y_train, y_test = train_test_split(X, y, random_state = 1)\n",
    "\n",
    "rf_si_l = RandomForestRegressor(random_state = 1).fit(X_train, y_train)\n",
    "pred_si_l = rf_si_l.predict(X_test)\n",
    "pred = rf_si_l.predict(X)\n",
    "\n",
    "print('R2 Test Score:', round((metrics.r2_score(y_test, pred_si_l)), 3))\n",
    "print('MSE:', round((metrics.mean_squared_error(y_test, pred_si_l)), 3))\n",
    "print('RMSE:', round(np.sqrt(metrics.mean_squared_error(y_test, pred_si_l)), 3))\n",
    "print('MAE:', round(metrics.mean_absolute_error(y_test, pred_si_l), 3), '\\n')\n",
    "print('R2 Score:', round((metrics.r2_score(y, pred)), 3))\n",
    "print('MSE:', round((metrics.mean_squared_error(y, pred)), 3))\n",
    "print('RMSE:', round(np.sqrt(metrics.mean_squared_error(y, pred)), 3))\n",
    "print('MAE:', round(metrics.mean_absolute_error(y, pred), 3))"
   ]
  },
  {
   "cell_type": "markdown",
   "id": "8393983f",
   "metadata": {},
   "source": [
    "### LHP Sinker RV Table"
   ]
  },
  {
   "cell_type": "code",
   "execution_count": 21,
   "id": "e3bf2590",
   "metadata": {},
   "outputs": [
    {
     "data": {
      "text/html": [
       "<div><div id=af8fbf49-81a5-4dca-b9f6-96cea08871e7 style=\"display:none; background-color:#9D6CFF; color:white; width:200px; height:30px; padding-left:5px; border-radius:4px; flex-direction:row; justify-content:space-around; align-items:center;\" onmouseover=\"this.style.backgroundColor='#BA9BF8'\" onmouseout=\"this.style.backgroundColor='#9D6CFF'\" onclick=\"window.commands?.execute('create-mitosheet-from-dataframe-output');\">See Full Dataframe in Mito</div> <script> if (window.commands.hasCommand('create-mitosheet-from-dataframe-output')) document.getElementById('af8fbf49-81a5-4dca-b9f6-96cea08871e7').style.display = 'flex' </script> <table border=\"1\" class=\"dataframe\">\n",
       "  <thead>\n",
       "    <tr style=\"text-align: right;\">\n",
       "      <th></th>\n",
       "      <th>velo</th>\n",
       "      <th>spin_rate</th>\n",
       "      <th>HB</th>\n",
       "      <th>VB</th>\n",
       "      <th>release_pos_x</th>\n",
       "      <th>release_pos_z</th>\n",
       "      <th>arm_angle</th>\n",
       "      <th>release_extension</th>\n",
       "      <th>xRV</th>\n",
       "    </tr>\n",
       "  </thead>\n",
       "  <tbody>\n",
       "    <tr>\n",
       "      <th>0</th>\n",
       "      <td>84.0</td>\n",
       "      <td>2251.0</td>\n",
       "      <td>4.7</td>\n",
       "      <td>10.4</td>\n",
       "      <td>1.4</td>\n",
       "      <td>5.2</td>\n",
       "      <td>45.0</td>\n",
       "      <td>4.9</td>\n",
       "      <td>0.48665</td>\n",
       "    </tr>\n",
       "  </tbody>\n",
       "</table></div>"
      ],
      "text/plain": [
       "   velo  spin_rate   HB    VB  release_pos_x  release_pos_z  arm_angle  \\\n",
       "0  84.0     2251.0  4.7  10.4            1.4            5.2       45.0   \n",
       "\n",
       "   release_extension      xRV  \n",
       "0                4.9  0.48665  "
      ]
     },
     "execution_count": 21,
     "metadata": {},
     "output_type": "execute_result"
    }
   ],
   "source": [
    "si_lhp = si_l.copy()\n",
    "si_lhp['xRV'] = pred\n",
    "si_lhp['xRV'] = round(si_lhp['xRV'], 3)\n",
    "si_lhp['n_pitches'] = [1 if x == 'FF' else 0 for x in si_lhp['pitch_type']]\n",
    "\n",
    "new_input = [[84.0, 2251.0, 4.7, 10.4, 1.40, 5.20, 45.0, 4.9]]\n",
    "pred_new = rf_si_l.predict(new_input)\n",
    "columns = ['velo', 'spin_rate', 'HB', 'VB', 'release_pos_x', \n",
    "           'release_pos_z', 'arm_angle', 'release_extension']\n",
    "new = pd.DataFrame(data = new_input, columns = columns)\n",
    "new['xRV'] = pred_new\n",
    "new.head()"
   ]
  },
  {
   "cell_type": "code",
   "execution_count": 22,
   "id": "324ac410",
   "metadata": {},
   "outputs": [
    {
     "data": {
      "image/png": "[encoded data removed]",
      "text/plain": [
       "<Figure size 576x432 with 2 Axes>"
      ]
     },
     "metadata": {
      "needs_background": "light"
     },
     "output_type": "display_data"
    }
   ],
   "source": [
    "plt.figure(figsize = (8, 6))\n",
    "\n",
    "ax = plt.hexbin(si_lhp['pfx_x'], si_lhp['pfx_z'], C = si_lhp['xRV'], cmap = 'coolwarm', mincnt = 20, gridsize = 8)\n",
    "plt.scatter(new['HB'], new['VB'], color = 'black')\n",
    "cb = plt.colorbar(ax, shrink = .6)\n",
    "plt.xlabel('HB'), plt.ylabel('VB'), plt.xlim(-30, 30), plt.ylim(-30, 30), cb.ax.set_title('xRV') \n",
    "cb.set_ticks([0, 0, .10, .20], update_ticks = True)\n",
    "plt.axhline(0, color = 'black', ls = '--'), plt.axvline(0, color = 'black', ls = '--'), plt.legend()\n",
    "plt.title('LHP Sinker HB & VB Axis', fontsize = 14, fontweight = 'bold', pad = 15);"
   ]
  },
  {
   "cell_type": "markdown",
   "id": "b33eda55",
   "metadata": {},
   "source": [
    "## Slider RHP"
   ]
  },
  {
   "cell_type": "code",
   "execution_count": 23,
   "id": "88debe5b",
   "metadata": {},
   "outputs": [
    {
     "name": "stdout",
     "output_type": "stream",
     "text": [
      "R2 Test Score: -0.038\n",
      "MSE: 0.089\n",
      "RMSE: 0.298\n",
      "MAE: 0.159 \n",
      "\n",
      "R2 Score: 0.622\n",
      "MSE: 0.031\n",
      "RMSE: 0.177\n",
      "MAE: 0.085\n"
     ]
    }
   ],
   "source": [
    "features_sl_r = sl_r.select_dtypes([np.number])\n",
    "X = features_sl_r.drop(columns = ['rv'])\n",
    "y = features_sl_r['rv']\n",
    "\n",
    "X_train, X_test, y_train, y_test = train_test_split(X, y, random_state = 1)\n",
    "\n",
    "rf_si_r = RandomForestRegressor(random_state = 1).fit(X_train, y_train)\n",
    "pred_sl_r = rf_si_r.predict(X_test)\n",
    "pred = rf_si_r.predict(X)\n",
    "\n",
    "print('R2 Test Score:', round((metrics.r2_score(y_test, pred_sl_r)), 3))\n",
    "print('MSE:', round((metrics.mean_squared_error(y_test, pred_sl_r)), 3))\n",
    "print('RMSE:', round(np.sqrt(metrics.mean_squared_error(y_test, pred_sl_r)), 3))\n",
    "print('MAE:', round(metrics.mean_absolute_error(y_test, pred_sl_r), 3), '\\n')\n",
    "print('R2 Score:', round((metrics.r2_score(y, pred)), 3))\n",
    "print('MSE:', round((metrics.mean_squared_error(y, pred)), 3))\n",
    "print('RMSE:', round(np.sqrt(metrics.mean_squared_error(y, pred)), 3))\n",
    "print('MAE:', round(metrics.mean_absolute_error(y, pred), 3))"
   ]
  },
  {
   "cell_type": "markdown",
   "id": "3de4976a",
   "metadata": {},
   "source": [
    "### RHP Slider RV Table"
   ]
  },
  {
   "cell_type": "code",
   "execution_count": 24,
   "id": "8d6651e5",
   "metadata": {},
   "outputs": [
    {
     "data": {
      "text/html": [
       "<div><div id=067d329a-f0f4-4cc5-abb9-35248e97bb0a style=\"display:none; background-color:#9D6CFF; color:white; width:200px; height:30px; padding-left:5px; border-radius:4px; flex-direction:row; justify-content:space-around; align-items:center;\" onmouseover=\"this.style.backgroundColor='#BA9BF8'\" onmouseout=\"this.style.backgroundColor='#9D6CFF'\" onclick=\"window.commands?.execute('create-mitosheet-from-dataframe-output');\">See Full Dataframe in Mito</div> <script> if (window.commands.hasCommand('create-mitosheet-from-dataframe-output')) document.getElementById('067d329a-f0f4-4cc5-abb9-35248e97bb0a').style.display = 'flex' </script> <table border=\"1\" class=\"dataframe\">\n",
       "  <thead>\n",
       "    <tr style=\"text-align: right;\">\n",
       "      <th></th>\n",
       "      <th>velo</th>\n",
       "      <th>spin_rate</th>\n",
       "      <th>HB</th>\n",
       "      <th>VB</th>\n",
       "      <th>release_pos_x</th>\n",
       "      <th>release_pos_z</th>\n",
       "      <th>arm_angle</th>\n",
       "      <th>release_extension</th>\n",
       "      <th>xRV</th>\n",
       "    </tr>\n",
       "  </thead>\n",
       "  <tbody>\n",
       "    <tr>\n",
       "      <th>0</th>\n",
       "      <td>73.8</td>\n",
       "      <td>2143.0</td>\n",
       "      <td>-0.5</td>\n",
       "      <td>-5.4</td>\n",
       "      <td>1.4</td>\n",
       "      <td>5.2</td>\n",
       "      <td>45.0</td>\n",
       "      <td>4.9</td>\n",
       "      <td>0.61323</td>\n",
       "    </tr>\n",
       "  </tbody>\n",
       "</table></div>"
      ],
      "text/plain": [
       "   velo  spin_rate   HB   VB  release_pos_x  release_pos_z  arm_angle  \\\n",
       "0  73.8     2143.0 -0.5 -5.4            1.4            5.2       45.0   \n",
       "\n",
       "   release_extension      xRV  \n",
       "0                4.9  0.61323  "
      ]
     },
     "execution_count": 24,
     "metadata": {},
     "output_type": "execute_result"
    }
   ],
   "source": [
    "sl_rhp = sl_r.copy()\n",
    "sl_rhp['xRV'] = pred\n",
    "sl_rhp['xRV'] = round(sl_rhp['xRV'], 3)\n",
    "sl_rhp['n_pitches'] = [1 if x == 'FF' else 0 for x in sl_rhp['pitch_type']]\n",
    "\n",
    "new_input = [[73.8, 2143.0, -0.5, -5.4, 1.40, 5.20, 45.0, 4.9]]\n",
    "pred_new = rf_si_r.predict(new_input)\n",
    "columns = ['velo', 'spin_rate', 'HB', 'VB', 'release_pos_x', \n",
    "           'release_pos_z', 'arm_angle', 'release_extension']\n",
    "new = pd.DataFrame(data = new_input, columns = columns)\n",
    "new['xRV'] = pred_new\n",
    "new.head()"
   ]
  },
  {
   "cell_type": "code",
   "execution_count": 25,
   "id": "1dd0527c",
   "metadata": {},
   "outputs": [
    {
     "name": "stderr",
     "output_type": "stream",
     "text": [
      "No handles with labels found to put in legend.\n"
     ]
    },
    {
     "data": {
      "image/png": "[encoded data removed]",
      "text/plain": [
       "<Figure size 576x432 with 2 Axes>"
      ]
     },
     "metadata": {
      "needs_background": "light"
     },
     "output_type": "display_data"
    }
   ],
   "source": [
    "plt.figure(figsize = (8, 6))\n",
    "\n",
    "ax = plt.hexbin(sl_rhp['pfx_x'], sl_rhp['pfx_z'], C = sl_rhp['xRV'], cmap = 'coolwarm', mincnt = 20, gridsize = 8)\n",
    "plt.scatter(new['HB'], new['VB'], color = 'black')\n",
    "cb = plt.colorbar(ax, shrink = .6)\n",
    "plt.xlabel('HB'), plt.ylabel('VB'), plt.xlim(-30, 30), plt.ylim(-30, 30), cb.ax.set_title('xRV') \n",
    "cb.set_ticks([0, 0, .10, .20], update_ticks = True)\n",
    "plt.axhline(0, color = 'black', ls = '--'), plt.axvline(0, color = 'black', ls = '--'), plt.legend()\n",
    "plt.title('RHP Slider HB & VB Axis', fontsize = 14, fontweight = 'bold', pad = 15);"
   ]
  },
  {
   "cell_type": "markdown",
   "id": "9f850587",
   "metadata": {},
   "source": [
    "## Slider LHP"
   ]
  },
  {
   "cell_type": "code",
   "execution_count": 26,
   "id": "c36e6d74",
   "metadata": {},
   "outputs": [
    {
     "name": "stdout",
     "output_type": "stream",
     "text": [
      "R2 Test Score: -0.054\n",
      "MSE: 0.087\n",
      "RMSE: 0.294\n",
      "MAE: 0.161 \n",
      "\n",
      "R2 Score: 0.623\n",
      "MSE: 0.031\n",
      "RMSE: 0.175\n",
      "MAE: 0.085\n"
     ]
    }
   ],
   "source": [
    "features_sl_l = sl_l.select_dtypes([np.number])\n",
    "X = features_sl_l.drop(columns = ['rv'])\n",
    "y = features_sl_l['rv']\n",
    "\n",
    "X_train, X_test, y_train, y_test = train_test_split(X, y, random_state = 1)\n",
    "\n",
    "rf_sl_l = RandomForestRegressor(random_state = 1).fit(X_train, y_train)\n",
    "pred_sl_l = rf_sl_l.predict(X_test)\n",
    "pred = rf_sl_l.predict(X)\n",
    "\n",
    "print('R2 Test Score:', round((metrics.r2_score(y_test, pred_sl_l)), 3))\n",
    "print('MSE:', round((metrics.mean_squared_error(y_test, pred_sl_l)), 3))\n",
    "print('RMSE:', round(np.sqrt(metrics.mean_squared_error(y_test, pred_sl_l)), 3))\n",
    "print('MAE:', round(metrics.mean_absolute_error(y_test, pred_sl_l), 3), '\\n')\n",
    "print('R2 Score:', round((metrics.r2_score(y, pred)), 3))\n",
    "print('MSE:', round((metrics.mean_squared_error(y, pred)), 3))\n",
    "print('RMSE:', round(np.sqrt(metrics.mean_squared_error(y, pred)), 3))\n",
    "print('MAE:', round(metrics.mean_absolute_error(y, pred), 3))"
   ]
  },
  {
   "cell_type": "markdown",
   "id": "bc88475f",
   "metadata": {},
   "source": [
    "### LHP Slider RV Table"
   ]
  },
  {
   "cell_type": "code",
   "execution_count": 27,
   "id": "6ac3e8ca",
   "metadata": {},
   "outputs": [
    {
     "data": {
      "text/html": [
       "<div><div id=93e92df3-e13d-4550-9fb3-c6088ee14365 style=\"display:none; background-color:#9D6CFF; color:white; width:200px; height:30px; padding-left:5px; border-radius:4px; flex-direction:row; justify-content:space-around; align-items:center;\" onmouseover=\"this.style.backgroundColor='#BA9BF8'\" onmouseout=\"this.style.backgroundColor='#9D6CFF'\" onclick=\"window.commands?.execute('create-mitosheet-from-dataframe-output');\">See Full Dataframe in Mito</div> <script> if (window.commands.hasCommand('create-mitosheet-from-dataframe-output')) document.getElementById('93e92df3-e13d-4550-9fb3-c6088ee14365').style.display = 'flex' </script> <table border=\"1\" class=\"dataframe\">\n",
       "  <thead>\n",
       "    <tr style=\"text-align: right;\">\n",
       "      <th></th>\n",
       "      <th>velo</th>\n",
       "      <th>spin_rate</th>\n",
       "      <th>HB</th>\n",
       "      <th>VB</th>\n",
       "      <th>release_pos_x</th>\n",
       "      <th>release_pos_z</th>\n",
       "      <th>arm_angle</th>\n",
       "      <th>release_extension</th>\n",
       "      <th>xRV</th>\n",
       "    </tr>\n",
       "  </thead>\n",
       "  <tbody>\n",
       "    <tr>\n",
       "      <th>0</th>\n",
       "      <td>73.8</td>\n",
       "      <td>2143.0</td>\n",
       "      <td>0.5</td>\n",
       "      <td>-5.4</td>\n",
       "      <td>-1.4</td>\n",
       "      <td>5.2</td>\n",
       "      <td>45.0</td>\n",
       "      <td>4.9</td>\n",
       "      <td>0.19349</td>\n",
       "    </tr>\n",
       "  </tbody>\n",
       "</table></div>"
      ],
      "text/plain": [
       "   velo  spin_rate   HB   VB  release_pos_x  release_pos_z  arm_angle  \\\n",
       "0  73.8     2143.0  0.5 -5.4           -1.4            5.2       45.0   \n",
       "\n",
       "   release_extension      xRV  \n",
       "0                4.9  0.19349  "
      ]
     },
     "execution_count": 27,
     "metadata": {},
     "output_type": "execute_result"
    }
   ],
   "source": [
    "sl_lhp = sl_l.copy()\n",
    "sl_lhp['xRV'] = pred\n",
    "sl_lhp['xRV'] = round(sl_lhp['xRV'], 3)\n",
    "sl_lhp['n_pitches'] = [1 if x == 'FF' else 0 for x in sl_lhp['pitch_type']]\n",
    "\n",
    "new_input = [[73.8, 2143.0, 0.5, -5.4, -1.40, 5.20, 45.0, 4.9]]\n",
    "pred_new = rf_sl_l.predict(new_input)\n",
    "columns = ['velo', 'spin_rate', 'HB', 'VB', 'release_pos_x', \n",
    "           'release_pos_z', 'arm_angle', 'release_extension']\n",
    "new = pd.DataFrame(data = new_input, columns = columns)\n",
    "new['xRV'] = pred_new\n",
    "new.head()"
   ]
  },
  {
   "cell_type": "code",
   "execution_count": 28,
   "id": "d50536eb",
   "metadata": {},
   "outputs": [
    {
     "name": "stderr",
     "output_type": "stream",
     "text": [
      "No handles with labels found to put in legend.\n"
     ]
    },
    {
     "data": {
      "image/png": "[encoded data removed]",
      "text/plain": [
       "<Figure size 576x432 with 2 Axes>"
      ]
     },
     "metadata": {
      "needs_background": "light"
     },
     "output_type": "display_data"
    }
   ],
   "source": [
    "plt.figure(figsize = (8, 6))\n",
    "\n",
    "ax = plt.hexbin(sl_lhp['pfx_x'], sl_lhp['pfx_z'], C = sl_lhp['xRV'], cmap = 'coolwarm', mincnt = 20, gridsize = 8)\n",
    "plt.scatter(new['HB'], new['VB'], color = 'black')\n",
    "cb = plt.colorbar(ax, shrink = .6)\n",
    "plt.xlabel('HB'), plt.ylabel('VB'), plt.xlim(-30, 30), plt.ylim(-30, 30), cb.ax.set_title('xRV') \n",
    "cb.set_ticks([0, 0, .10, .20], update_ticks = True)\n",
    "plt.axhline(0, color = 'black', ls = '--'), plt.axvline(0, color = 'black', ls = '--'), plt.legend()\n",
    "plt.title('LHP Slider HB & VB Axis', fontsize = 14, fontweight = 'bold', pad = 15);"
   ]
  },
  {
   "cell_type": "markdown",
   "id": "5b15f278",
   "metadata": {},
   "source": [
    "## Curveball RHP"
   ]
  },
  {
   "cell_type": "code",
   "execution_count": 29,
   "id": "b146355b",
   "metadata": {},
   "outputs": [
    {
     "name": "stdout",
     "output_type": "stream",
     "text": [
      "R2 Test Score: -0.053\n",
      "MSE: 0.078\n",
      "RMSE: 0.279\n",
      "MAE: 0.143 \n",
      "\n",
      "R2 Score: 0.612\n",
      "MSE: 0.027\n",
      "RMSE: 0.164\n",
      "MAE: 0.075\n"
     ]
    }
   ],
   "source": [
    "features_cu_r = cu_r.select_dtypes([np.number])\n",
    "X = features_cu_r.drop(columns = ['rv'])\n",
    "y = features_cu_r['rv']\n",
    "\n",
    "X_train, X_test, y_train, y_test = train_test_split(X, y, random_state = 1)\n",
    "\n",
    "rf_cu_r = RandomForestRegressor(random_state = 1).fit(X_train, y_train)\n",
    "pred_cu_r = rf_cu_r.predict(X_test)\n",
    "pred = rf_cu_r.predict(X)\n",
    "\n",
    "print('R2 Test Score:', round((metrics.r2_score(y_test, pred_cu_r)), 3))\n",
    "print('MSE:', round((metrics.mean_squared_error(y_test, pred_cu_r)), 3))\n",
    "print('RMSE:', round(np.sqrt(metrics.mean_squared_error(y_test, pred_cu_r)), 3))\n",
    "print('MAE:', round(metrics.mean_absolute_error(y_test, pred_cu_r), 3), '\\n')\n",
    "print('R2 Score:', round((metrics.r2_score(y, pred)), 3))\n",
    "print('MSE:', round((metrics.mean_squared_error(y, pred)), 3))\n",
    "print('RMSE:', round(np.sqrt(metrics.mean_squared_error(y, pred)), 3))\n",
    "print('MAE:', round(metrics.mean_absolute_error(y, pred), 3))"
   ]
  },
  {
   "cell_type": "markdown",
   "id": "757c0c96",
   "metadata": {},
   "source": [
    "### RHP Curveball RV Table"
   ]
  },
  {
   "cell_type": "code",
   "execution_count": 30,
   "id": "da2be0b0",
   "metadata": {},
   "outputs": [
    {
     "data": {
      "text/html": [
       "<div><div id=7f2a3b13-f0a5-41b1-8027-bebab212e247 style=\"display:none; background-color:#9D6CFF; color:white; width:200px; height:30px; padding-left:5px; border-radius:4px; flex-direction:row; justify-content:space-around; align-items:center;\" onmouseover=\"this.style.backgroundColor='#BA9BF8'\" onmouseout=\"this.style.backgroundColor='#9D6CFF'\" onclick=\"window.commands?.execute('create-mitosheet-from-dataframe-output');\">See Full Dataframe in Mito</div> <script> if (window.commands.hasCommand('create-mitosheet-from-dataframe-output')) document.getElementById('7f2a3b13-f0a5-41b1-8027-bebab212e247').style.display = 'flex' </script> <table border=\"1\" class=\"dataframe\">\n",
       "  <thead>\n",
       "    <tr style=\"text-align: right;\">\n",
       "      <th></th>\n",
       "      <th>velo</th>\n",
       "      <th>spin_rate</th>\n",
       "      <th>HB</th>\n",
       "      <th>VB</th>\n",
       "      <th>release_pos_x</th>\n",
       "      <th>release_pos_z</th>\n",
       "      <th>arm_angle</th>\n",
       "      <th>release_extension</th>\n",
       "      <th>xRV</th>\n",
       "    </tr>\n",
       "  </thead>\n",
       "  <tbody>\n",
       "    <tr>\n",
       "      <th>0</th>\n",
       "      <td>67.6</td>\n",
       "      <td>1696.0</td>\n",
       "      <td>-4.9</td>\n",
       "      <td>-18.1</td>\n",
       "      <td>1.4</td>\n",
       "      <td>5.2</td>\n",
       "      <td>45.0</td>\n",
       "      <td>4.9</td>\n",
       "      <td>0.34722</td>\n",
       "    </tr>\n",
       "  </tbody>\n",
       "</table></div>"
      ],
      "text/plain": [
       "   velo  spin_rate   HB    VB  release_pos_x  release_pos_z  arm_angle  \\\n",
       "0  67.6     1696.0 -4.9 -18.1            1.4            5.2       45.0   \n",
       "\n",
       "   release_extension      xRV  \n",
       "0                4.9  0.34722  "
      ]
     },
     "execution_count": 30,
     "metadata": {},
     "output_type": "execute_result"
    }
   ],
   "source": [
    "cu_rhp = cu_r.copy()\n",
    "cu_rhp['xRV'] = pred\n",
    "cu_rhp['xRV'] = round(cu_rhp['xRV'], 3)\n",
    "cu_rhp['n_pitches'] = [1 if x == 'FF' else 0 for x in cu_rhp['pitch_type']]\n",
    "\n",
    "new_input = [[67.6, 1696.0, -4.9, -18.1, 1.40, 5.20, 45.0, 4.9]]\n",
    "pred_new = rf_cu_r.predict(new_input)\n",
    "columns = ['velo', 'spin_rate', 'HB', 'VB', 'release_pos_x', \n",
    "           'release_pos_z', 'arm_angle', 'release_extension']\n",
    "new = pd.DataFrame(data = new_input, columns = columns)\n",
    "new['xRV'] = pred_new\n",
    "new.head()"
   ]
  },
  {
   "cell_type": "code",
   "execution_count": 31,
   "id": "6a8269a6",
   "metadata": {},
   "outputs": [
    {
     "name": "stderr",
     "output_type": "stream",
     "text": [
      "No handles with labels found to put in legend.\n"
     ]
    },
    {
     "data": {
      "image/png": "[encoded data removed]",
      "text/plain": [
       "<Figure size 576x432 with 2 Axes>"
      ]
     },
     "metadata": {
      "needs_background": "light"
     },
     "output_type": "display_data"
    }
   ],
   "source": [
    "plt.figure(figsize = (8, 6))\n",
    "\n",
    "ax = plt.hexbin(cu_rhp['pfx_x'], cu_rhp['pfx_z'], C = cu_rhp['xRV'], cmap = 'coolwarm', mincnt = 20, gridsize = 8)\n",
    "plt.scatter(new['HB'], new['VB'], color = 'black')\n",
    "cb = plt.colorbar(ax, shrink = .6)\n",
    "plt.xlabel('HB'), plt.ylabel('VB'), plt.xlim(-30, 30), plt.ylim(-30, 30), cb.ax.set_title('xRV') \n",
    "cb.set_ticks([0, 0, .10, .20], update_ticks = True)\n",
    "plt.axhline(0, color = 'black', ls = '--'), plt.axvline(0, color = 'black', ls = '--'), plt.legend()\n",
    "plt.title('RHP Curveball HB & VB Axis', fontsize = 14, fontweight = 'bold', pad = 15);"
   ]
  },
  {
   "cell_type": "markdown",
   "id": "5dd40694",
   "metadata": {},
   "source": [
    "## Curveball LHP"
   ]
  },
  {
   "cell_type": "code",
   "execution_count": 32,
   "id": "c2b31b44",
   "metadata": {},
   "outputs": [
    {
     "name": "stdout",
     "output_type": "stream",
     "text": [
      "R2 Test Score: -0.075\n",
      "MSE: 0.074\n",
      "RMSE: 0.271\n",
      "MAE: 0.144 \n",
      "\n",
      "R2 Score: 0.629\n",
      "MSE: 0.026\n",
      "RMSE: 0.163\n",
      "MAE: 0.078\n"
     ]
    }
   ],
   "source": [
    "features_cu_l = cu_l.select_dtypes([np.number])\n",
    "X = features_cu_l.drop(columns = ['rv'])\n",
    "y = features_cu_l['rv']\n",
    "\n",
    "X_train, X_test, y_train, y_test = train_test_split(X, y, random_state = 1)\n",
    "\n",
    "rf_cu_l = RandomForestRegressor(random_state = 1).fit(X_train, y_train)\n",
    "pred_cu_l = rf_cu_l.predict(X_test)\n",
    "pred = rf_cu_l.predict(X)\n",
    "\n",
    "print('R2 Test Score:', round((metrics.r2_score(y_test, pred_cu_l)), 3))\n",
    "print('MSE:', round((metrics.mean_squared_error(y_test, pred_cu_l)), 3))\n",
    "print('RMSE:', round(np.sqrt(metrics.mean_squared_error(y_test, pred_cu_l)), 3))\n",
    "print('MAE:', round(metrics.mean_absolute_error(y_test, pred_cu_l), 3), '\\n')\n",
    "print('R2 Score:', round((metrics.r2_score(y, pred)), 3))\n",
    "print('MSE:', round((metrics.mean_squared_error(y, pred)), 3))\n",
    "print('RMSE:', round(np.sqrt(metrics.mean_squared_error(y, pred)), 3))\n",
    "print('MAE:', round(metrics.mean_absolute_error(y, pred), 3))"
   ]
  },
  {
   "cell_type": "markdown",
   "id": "bac3c18c",
   "metadata": {},
   "source": [
    "### LHP Curveball RV Table"
   ]
  },
  {
   "cell_type": "code",
   "execution_count": 33,
   "id": "a3a718d0",
   "metadata": {},
   "outputs": [
    {
     "data": {
      "text/html": [
       "<div><div id=e8a0c460-a381-4470-bcaf-7a9ebd584669 style=\"display:none; background-color:#9D6CFF; color:white; width:200px; height:30px; padding-left:5px; border-radius:4px; flex-direction:row; justify-content:space-around; align-items:center;\" onmouseover=\"this.style.backgroundColor='#BA9BF8'\" onmouseout=\"this.style.backgroundColor='#9D6CFF'\" onclick=\"window.commands?.execute('create-mitosheet-from-dataframe-output');\">See Full Dataframe in Mito</div> <script> if (window.commands.hasCommand('create-mitosheet-from-dataframe-output')) document.getElementById('e8a0c460-a381-4470-bcaf-7a9ebd584669').style.display = 'flex' </script> <table border=\"1\" class=\"dataframe\">\n",
       "  <thead>\n",
       "    <tr style=\"text-align: right;\">\n",
       "      <th></th>\n",
       "      <th>velo</th>\n",
       "      <th>spin_rate</th>\n",
       "      <th>HB</th>\n",
       "      <th>VB</th>\n",
       "      <th>release_pos_x</th>\n",
       "      <th>release_pos_z</th>\n",
       "      <th>arm_angle</th>\n",
       "      <th>release_extension</th>\n",
       "      <th>xRV</th>\n",
       "    </tr>\n",
       "  </thead>\n",
       "  <tbody>\n",
       "    <tr>\n",
       "      <th>0</th>\n",
       "      <td>67.6</td>\n",
       "      <td>1696.0</td>\n",
       "      <td>4.9</td>\n",
       "      <td>-18.1</td>\n",
       "      <td>-1.4</td>\n",
       "      <td>5.2</td>\n",
       "      <td>45.0</td>\n",
       "      <td>4.9</td>\n",
       "      <td>0.50107</td>\n",
       "    </tr>\n",
       "    <tr>\n",
       "      <th>1</th>\n",
       "      <td>69.2</td>\n",
       "      <td>2020.0</td>\n",
       "      <td>8.7</td>\n",
       "      <td>-4.6</td>\n",
       "      <td>-1.4</td>\n",
       "      <td>5.2</td>\n",
       "      <td>45.0</td>\n",
       "      <td>4.9</td>\n",
       "      <td>0.11365</td>\n",
       "    </tr>\n",
       "  </tbody>\n",
       "</table></div>"
      ],
      "text/plain": [
       "   velo  spin_rate   HB    VB  release_pos_x  release_pos_z  arm_angle  \\\n",
       "0  67.6     1696.0  4.9 -18.1           -1.4            5.2       45.0   \n",
       "1  69.2     2020.0  8.7  -4.6           -1.4            5.2       45.0   \n",
       "\n",
       "   release_extension      xRV  \n",
       "0                4.9  0.50107  \n",
       "1                4.9  0.11365  "
      ]
     },
     "execution_count": 33,
     "metadata": {},
     "output_type": "execute_result"
    }
   ],
   "source": [
    "cu_lhp = cu_l.copy()\n",
    "cu_lhp['xRV'] = pred\n",
    "cu_lhp['xRV'] = round(cu_lhp['xRV'], 3)\n",
    "cu_lhp['n_pitches'] = [1 if x == 'FF' else 0 for x in cu_lhp['pitch_type']]\n",
    "\n",
    "new_input = [[67.6, 1696.0, 4.9, -18.1, -1.40, 5.20, 45.0, 4.9], \n",
    "             [69.2, 2020.0, 8.7, -4.6, -1.40, 5.20, 45.0, 4.9]]\n",
    "pred_new = rf_cu_l.predict(new_input)\n",
    "columns = ['velo', 'spin_rate', 'HB', 'VB', 'release_pos_x', \n",
    "           'release_pos_z', 'arm_angle', 'release_extension']\n",
    "new = pd.DataFrame(data = new_input, columns = columns)\n",
    "new['xRV'] = pred_new\n",
    "new.head()"
   ]
  },
  {
   "cell_type": "code",
   "execution_count": 34,
   "id": "5c0be513",
   "metadata": {},
   "outputs": [
    {
     "name": "stderr",
     "output_type": "stream",
     "text": [
      "No handles with labels found to put in legend.\n"
     ]
    },
    {
     "data": {
      "image/png": "[encoded data removed]",
      "text/plain": [
       "<Figure size 576x432 with 2 Axes>"
      ]
     },
     "metadata": {
      "needs_background": "light"
     },
     "output_type": "display_data"
    }
   ],
   "source": [
    "plt.figure(figsize = (8, 6))\n",
    "\n",
    "ax = plt.hexbin(cu_lhp['pfx_x'], cu_lhp['pfx_z'], C = cu_lhp['xRV'], cmap = 'coolwarm', mincnt = 20, gridsize = 8)\n",
    "plt.scatter(new['HB'], new['VB'], color = 'black')\n",
    "cb = plt.colorbar(ax, shrink = .6)\n",
    "plt.xlabel('HB'), plt.ylabel('VB'), plt.xlim(-30, 30), plt.ylim(-30, 30), cb.ax.set_title('xRV') \n",
    "cb.set_ticks([0, 0, .10, .20], update_ticks = True)\n",
    "plt.axhline(0, color = 'black', ls = '--'), plt.axvline(0, color = 'black', ls = '--'), plt.legend()\n",
    "plt.title('LHP Curveball HB & VB Axis', fontsize = 14, fontweight = 'bold', pad = 15);"
   ]
  },
  {
   "cell_type": "markdown",
   "id": "95207a22",
   "metadata": {},
   "source": [
    "## Changeup RHP"
   ]
  },
  {
   "cell_type": "code",
   "execution_count": 35,
   "id": "82026c30",
   "metadata": {},
   "outputs": [
    {
     "name": "stdout",
     "output_type": "stream",
     "text": [
      "R2 Test Score: -0.059\n",
      "MSE: 0.093\n",
      "RMSE: 0.304\n",
      "MAE: 0.17 \n",
      "\n",
      "R2 Score: 0.629\n",
      "MSE: 0.033\n",
      "RMSE: 0.182\n",
      "MAE: 0.091\n"
     ]
    }
   ],
   "source": [
    "features_ch_r = ch_r.select_dtypes([np.number])\n",
    "X = features_ch_r.drop(columns = ['rv'])\n",
    "y = features_ch_r['rv']\n",
    "\n",
    "X_train, X_test, y_train, y_test = train_test_split(X, y, random_state = 1)\n",
    "\n",
    "rf_ch_r = RandomForestRegressor().fit(X_train, y_train)\n",
    "pred_ch_r = rf_ch_r.predict(X_test)\n",
    "pred = rf_ch_r.predict(X)\n",
    "\n",
    "print('R2 Test Score:', round((metrics.r2_score(y_test, pred_ch_r)), 3))\n",
    "print('MSE:', round((metrics.mean_squared_error(y_test, pred_ch_r)), 3))\n",
    "print('RMSE:', round(np.sqrt(metrics.mean_squared_error(y_test, pred_ch_r)), 3))\n",
    "print('MAE:', round(metrics.mean_absolute_error(y_test, pred_ch_r), 3), '\\n')\n",
    "print('R2 Score:', round((metrics.r2_score(y, pred)), 3))\n",
    "print('MSE:', round((metrics.mean_squared_error(y, pred)), 3))\n",
    "print('RMSE:', round(np.sqrt(metrics.mean_squared_error(y, pred)), 3))\n",
    "print('MAE:', round(metrics.mean_absolute_error(y, pred), 3))"
   ]
  },
  {
   "cell_type": "markdown",
   "id": "8c4a64c1",
   "metadata": {},
   "source": [
    "### RHP Changeup RV Table"
   ]
  },
  {
   "cell_type": "code",
   "execution_count": 36,
   "id": "f80b30c2",
   "metadata": {},
   "outputs": [
    {
     "data": {
      "text/html": [
       "<div><div id=11799594-5ca6-4ea7-bf21-b878b286b322 style=\"display:none; background-color:#9D6CFF; color:white; width:200px; height:30px; padding-left:5px; border-radius:4px; flex-direction:row; justify-content:space-around; align-items:center;\" onmouseover=\"this.style.backgroundColor='#BA9BF8'\" onmouseout=\"this.style.backgroundColor='#9D6CFF'\" onclick=\"window.commands?.execute('create-mitosheet-from-dataframe-output');\">See Full Dataframe in Mito</div> <script> if (window.commands.hasCommand('create-mitosheet-from-dataframe-output')) document.getElementById('11799594-5ca6-4ea7-bf21-b878b286b322').style.display = 'flex' </script> <table border=\"1\" class=\"dataframe\">\n",
       "  <thead>\n",
       "    <tr style=\"text-align: right;\">\n",
       "      <th></th>\n",
       "      <th>velo</th>\n",
       "      <th>spin_rate</th>\n",
       "      <th>HB</th>\n",
       "      <th>VB</th>\n",
       "      <th>release_pos_x</th>\n",
       "      <th>release_pos_z</th>\n",
       "      <th>arm_angle</th>\n",
       "      <th>release_extension</th>\n",
       "      <th>xRV</th>\n",
       "    </tr>\n",
       "  </thead>\n",
       "  <tbody>\n",
       "    <tr>\n",
       "      <th>0</th>\n",
       "      <td>75.0</td>\n",
       "      <td>1434.0</td>\n",
       "      <td>3.2</td>\n",
       "      <td>12.8</td>\n",
       "      <td>1.3</td>\n",
       "      <td>5.3</td>\n",
       "      <td>45.0</td>\n",
       "      <td>4.9</td>\n",
       "      <td>0.34446</td>\n",
       "    </tr>\n",
       "  </tbody>\n",
       "</table></div>"
      ],
      "text/plain": [
       "   velo  spin_rate   HB    VB  release_pos_x  release_pos_z  arm_angle  \\\n",
       "0  75.0     1434.0  3.2  12.8            1.3            5.3       45.0   \n",
       "\n",
       "   release_extension      xRV  \n",
       "0                4.9  0.34446  "
      ]
     },
     "execution_count": 36,
     "metadata": {},
     "output_type": "execute_result"
    }
   ],
   "source": [
    "ch_rhp = ch_r.copy()\n",
    "ch_rhp['xRV'] = pred\n",
    "ch_rhp['xRV'] = round(ch_rhp['xRV'], 3)\n",
    "ch_rhp['n_pitches'] = [1 if x == 'FF' else 0 for x in ch_rhp['pitch_type']]\n",
    "\n",
    "new_input = [[75.0, 1434.0, 3.2, 12.8, 1.30, 5.30, 45.0, 4.9]]\n",
    "pred_new = rf_ch_r.predict(new_input)\n",
    "columns = ['velo', 'spin_rate', 'HB', 'VB', 'release_pos_x', \n",
    "           'release_pos_z', 'arm_angle', 'release_extension']\n",
    "new = pd.DataFrame(data = new_input, columns = columns)\n",
    "new['xRV'] = pred_new\n",
    "new.head()"
   ]
  },
  {
   "cell_type": "code",
   "execution_count": 37,
   "id": "95f63098",
   "metadata": {},
   "outputs": [
    {
     "name": "stderr",
     "output_type": "stream",
     "text": [
      "No handles with labels found to put in legend.\n"
     ]
    },
    {
     "data": {
      "image/png": "[encoded data removed]",
      "text/plain": [
       "<Figure size 576x432 with 2 Axes>"
      ]
     },
     "metadata": {
      "needs_background": "light"
     },
     "output_type": "display_data"
    }
   ],
   "source": [
    "plt.figure(figsize = (8, 6))\n",
    "\n",
    "ax = plt.hexbin(ch_rhp['pfx_x'], ch_rhp['pfx_z'], C = ch_rhp['xRV'], cmap = 'coolwarm', mincnt = 20, gridsize = 8)\n",
    "plt.scatter(new['HB'], new['VB'], color = 'black')\n",
    "cb = plt.colorbar(ax, shrink = .6)\n",
    "plt.xlabel('HB'), plt.ylabel('VB'), plt.xlim(-30, 30), plt.ylim(-30, 30), cb.ax.set_title('xRV') \n",
    "cb.set_ticks([0, 0, .10, .20], update_ticks = True)\n",
    "plt.axhline(0, color = 'black', ls = '--'), plt.axvline(0, color = 'black', ls = '--'), plt.legend()\n",
    "plt.title('RHP Changeup HB & VB Axis', fontsize = 14, fontweight = 'bold', pad = 15);"
   ]
  },
  {
   "cell_type": "markdown",
   "id": "b522a778",
   "metadata": {},
   "source": [
    "## Changeup LHP"
   ]
  },
  {
   "cell_type": "code",
   "execution_count": 38,
   "id": "69c327fc",
   "metadata": {},
   "outputs": [
    {
     "name": "stdout",
     "output_type": "stream",
     "text": [
      "R2 Test Score: -0.048\n",
      "MSE: 0.1\n",
      "RMSE: 0.317\n",
      "MAE: 0.179 \n",
      "\n",
      "R2 Score: 0.618\n",
      "MSE: 0.035\n",
      "RMSE: 0.188\n",
      "MAE: 0.094\n"
     ]
    }
   ],
   "source": [
    "features_ch_l = ch_l.select_dtypes([np.number])\n",
    "X = features_ch_l.drop(columns = ['rv'])\n",
    "y = features_ch_l['rv']\n",
    "\n",
    "X_train, X_test, y_train, y_test = train_test_split(X, y, random_state = 1)\n",
    "\n",
    "rf_ch_l = RandomForestRegressor().fit(X_train, y_train)\n",
    "pred_ch_l = rf_ch_l.predict(X_test)\n",
    "pred = rf_ch_l.predict(X)\n",
    "\n",
    "print('R2 Test Score:', round((metrics.r2_score(y_test, pred_ch_l)), 3))\n",
    "print('MSE:', round((metrics.mean_squared_error(y_test, pred_ch_l)), 3))\n",
    "print('RMSE:', round(np.sqrt(metrics.mean_squared_error(y_test, pred_ch_l)), 3))\n",
    "print('MAE:', round(metrics.mean_absolute_error(y_test, pred_ch_l), 3), '\\n')\n",
    "print('R2 Score:', round((metrics.r2_score(y, pred)), 3))\n",
    "print('MSE:', round((metrics.mean_squared_error(y, pred)), 3))\n",
    "print('RMSE:', round(np.sqrt(metrics.mean_squared_error(y, pred)), 3))\n",
    "print('MAE:', round(metrics.mean_absolute_error(y, pred), 3))"
   ]
  },
  {
   "cell_type": "markdown",
   "id": "f1c07ce8",
   "metadata": {},
   "source": [
    "### LHP Changeup RV Table"
   ]
  },
  {
   "cell_type": "code",
   "execution_count": 39,
   "id": "efcafaf5",
   "metadata": {},
   "outputs": [
    {
     "data": {
      "text/html": [
       "<div><div id=b70d1956-348e-48bd-af61-7b1cc8d6bfae style=\"display:none; background-color:#9D6CFF; color:white; width:200px; height:30px; padding-left:5px; border-radius:4px; flex-direction:row; justify-content:space-around; align-items:center;\" onmouseover=\"this.style.backgroundColor='#BA9BF8'\" onmouseout=\"this.style.backgroundColor='#9D6CFF'\" onclick=\"window.commands?.execute('create-mitosheet-from-dataframe-output');\">See Full Dataframe in Mito</div> <script> if (window.commands.hasCommand('create-mitosheet-from-dataframe-output')) document.getElementById('b70d1956-348e-48bd-af61-7b1cc8d6bfae').style.display = 'flex' </script> <table border=\"1\" class=\"dataframe\">\n",
       "  <thead>\n",
       "    <tr style=\"text-align: right;\">\n",
       "      <th></th>\n",
       "      <th>velo</th>\n",
       "      <th>spin_rate</th>\n",
       "      <th>HB</th>\n",
       "      <th>VB</th>\n",
       "      <th>release_pos_x</th>\n",
       "      <th>release_pos_z</th>\n",
       "      <th>arm_angle</th>\n",
       "      <th>release_extension</th>\n",
       "      <th>xRV</th>\n",
       "    </tr>\n",
       "  </thead>\n",
       "  <tbody>\n",
       "    <tr>\n",
       "      <th>0</th>\n",
       "      <td>75.0</td>\n",
       "      <td>1434.0</td>\n",
       "      <td>-3.2</td>\n",
       "      <td>12.8</td>\n",
       "      <td>-1.3</td>\n",
       "      <td>5.3</td>\n",
       "      <td>45.0</td>\n",
       "      <td>4.9</td>\n",
       "      <td>0.7185</td>\n",
       "    </tr>\n",
       "  </tbody>\n",
       "</table></div>"
      ],
      "text/plain": [
       "   velo  spin_rate   HB    VB  release_pos_x  release_pos_z  arm_angle  \\\n",
       "0  75.0     1434.0 -3.2  12.8           -1.3            5.3       45.0   \n",
       "\n",
       "   release_extension     xRV  \n",
       "0                4.9  0.7185  "
      ]
     },
     "execution_count": 39,
     "metadata": {},
     "output_type": "execute_result"
    }
   ],
   "source": [
    "ch_lhp = ch_l.copy()\n",
    "ch_lhp['xRV'] = pred\n",
    "ch_lhp['xRV'] = round(ch_lhp['xRV'], 3)\n",
    "ch_lhp['n_pitches'] = [1 if x == 'FF' else 0 for x in ch_lhp['pitch_type']]\n",
    "\n",
    "new_input = [[75.0, 1434.0, -3.2, 12.8, -1.30, 5.30, 45.0, 4.9]]\n",
    "pred_new = rf_ch_l.predict(new_input)\n",
    "columns = ['velo', 'spin_rate', 'HB', 'VB', 'release_pos_x', \n",
    "           'release_pos_z', 'arm_angle', 'release_extension']\n",
    "new = pd.DataFrame(data = new_input, columns = columns)\n",
    "new['xRV'] = pred_new\n",
    "new.head()"
   ]
  },
  {
   "cell_type": "code",
   "execution_count": 40,
   "id": "6ce50c96",
   "metadata": {},
   "outputs": [
    {
     "name": "stderr",
     "output_type": "stream",
     "text": [
      "No handles with labels found to put in legend.\n"
     ]
    },
    {
     "data": {
      "image/png": "[encoded data removed]",
      "text/plain": [
       "<Figure size 576x432 with 2 Axes>"
      ]
     },
     "metadata": {
      "needs_background": "light"
     },
     "output_type": "display_data"
    }
   ],
   "source": [
    "plt.figure(figsize = (8, 6))\n",
    "\n",
    "ax = plt.hexbin(ch_lhp['pfx_x'], ch_lhp['pfx_z'], C = ch_lhp['xRV'], cmap = 'coolwarm', mincnt = 20, gridsize = 8)\n",
    "plt.scatter(new['HB'], new['VB'], color = 'black')\n",
    "cb = plt.colorbar(ax, shrink = .6)\n",
    "plt.xlabel('HB'), plt.ylabel('VB'), plt.xlim(-30, 30), plt.ylim(-30, 30), cb.ax.set_title('xRV') \n",
    "cb.set_ticks([0, 0, .10, .20], update_ticks = True)\n",
    "plt.axhline(0, color = 'black', ls = '--'), plt.axvline(0, color = 'black', ls = '--'), plt.legend()\n",
    "plt.title('LHP Changeup HB & VB Axis', fontsize = 14, fontweight = 'bold', pad = 15);"
   ]
  },
  {
   "cell_type": "markdown",
   "id": "8cdd6fb5",
   "metadata": {},
   "source": [
    "# Grouped Pitches"
   ]
  },
  {
   "cell_type": "markdown",
   "id": "2a1e4669",
   "metadata": {},
   "source": [
    "## Fastball RHP\n",
    "\n",
    "#### 4-Seam, Cutter, Sinker"
   ]
  },
  {
   "cell_type": "code",
   "execution_count": 41,
   "id": "803096d1",
   "metadata": {},
   "outputs": [
    {
     "name": "stdout",
     "output_type": "stream",
     "text": [
      "R2 Score: -0.038\n",
      "MSE: 0.101\n",
      "RMSE: 0.318\n",
      "MAE: 0.182 \n",
      "\n",
      "R2 Score: 0.628\n",
      "MSE: 0.036\n",
      "RMSE: 0.189\n",
      "MAE: 0.096\n"
     ]
    }
   ],
   "source": [
    "features_fastball_r = rhp_fastball.select_dtypes([np.number])\n",
    "X = features_fastball_r.drop(columns = ['rv'])\n",
    "y = features_fastball_r['rv']\n",
    "\n",
    "X_train, X_test, y_train, y_test = train_test_split(X, y, random_state = 1)\n",
    "\n",
    "rf_fastball_r = RandomForestRegressor().fit(X_train, y_train)\n",
    "pred_fastball_r = rf_fastball_r.predict(X_test)\n",
    "pred = rf_fastball_r.predict(X)\n",
    "\n",
    "print('R2 Score:', round((metrics.r2_score(y_test, pred_fastball_r)), 3))\n",
    "print('MSE:', round((metrics.mean_squared_error(y_test, pred_fastball_r)), 3))\n",
    "print('RMSE:', round(np.sqrt(metrics.mean_squared_error(y_test, pred_fastball_r)), 3))\n",
    "print('MAE:', round(metrics.mean_absolute_error(y_test, pred_fastball_r), 3), '\\n')\n",
    "print('R2 Score:', round((metrics.r2_score(y, pred)), 3))\n",
    "print('MSE:', round((metrics.mean_squared_error(y, pred)), 3))\n",
    "print('RMSE:', round(np.sqrt(metrics.mean_squared_error(y, pred)), 3))\n",
    "print('MAE:', round(metrics.mean_absolute_error(y, pred), 3))"
   ]
  },
  {
   "cell_type": "markdown",
   "id": "7820d23b",
   "metadata": {},
   "source": [
    "### RHP Fastball RV Table"
   ]
  },
  {
   "cell_type": "code",
   "execution_count": 43,
   "id": "c1ece660",
   "metadata": {},
   "outputs": [
    {
     "data": {
      "text/html": [
       "<div><div id=e12328fe-53a8-40f6-b79f-c3788d71f2d8 style=\"display:none; background-color:#9D6CFF; color:white; width:200px; height:30px; padding-left:5px; border-radius:4px; flex-direction:row; justify-content:space-around; align-items:center;\" onmouseover=\"this.style.backgroundColor='#BA9BF8'\" onmouseout=\"this.style.backgroundColor='#9D6CFF'\" onclick=\"window.commands?.execute('create-mitosheet-from-dataframe-output');\">See Full Dataframe in Mito</div> <script> if (window.commands.hasCommand('create-mitosheet-from-dataframe-output')) document.getElementById('e12328fe-53a8-40f6-b79f-c3788d71f2d8').style.display = 'flex' </script> <table border=\"1\" class=\"dataframe\">\n",
       "  <thead>\n",
       "    <tr style=\"text-align: right;\">\n",
       "      <th></th>\n",
       "      <th>velo</th>\n",
       "      <th>spin_rate</th>\n",
       "      <th>HB</th>\n",
       "      <th>VB</th>\n",
       "      <th>release_pos_x</th>\n",
       "      <th>release_pos_z</th>\n",
       "      <th>arm_angle</th>\n",
       "      <th>release_extension</th>\n",
       "      <th>xRV</th>\n",
       "    </tr>\n",
       "  </thead>\n",
       "  <tbody>\n",
       "    <tr>\n",
       "      <th>0</th>\n",
       "      <td>84.0</td>\n",
       "      <td>2251.0</td>\n",
       "      <td>4.7</td>\n",
       "      <td>10.4</td>\n",
       "      <td>1.4</td>\n",
       "      <td>5.2</td>\n",
       "      <td>45.0</td>\n",
       "      <td>4.9</td>\n",
       "      <td>0.37319</td>\n",
       "    </tr>\n",
       "  </tbody>\n",
       "</table></div>"
      ],
      "text/plain": [
       "   velo  spin_rate   HB    VB  release_pos_x  release_pos_z  arm_angle  \\\n",
       "0  84.0     2251.0  4.7  10.4            1.4            5.2       45.0   \n",
       "\n",
       "   release_extension      xRV  \n",
       "0                4.9  0.37319  "
      ]
     },
     "execution_count": 43,
     "metadata": {},
     "output_type": "execute_result"
    }
   ],
   "source": [
    "fastball_rhp = rhp_fastball.copy()\n",
    "fastball_rhp['xRV'] = pred\n",
    "fastball_rhp['xRV'] = round(ff_rhp['xRV'], 3)\n",
    "#fastball_rhp['n_pitches'] = [1 if x == 'FF' else 0 for x in fastball_rhp['pitch_type']]\n",
    "\n",
    "new_input = [[84.0, 2251.0, 4.7, 10.4, 1.40, 5.20, 45.0, 4.9]]\n",
    "pred_new = rf_fastball_r.predict(new_input)\n",
    "columns = ['velo', 'spin_rate', 'HB', 'VB', 'release_pos_x', \n",
    "           'release_pos_z', 'arm_angle', 'release_extension']\n",
    "new = pd.DataFrame(data = new_input, columns = columns)\n",
    "new['xRV'] = pred_new\n",
    "new.head()"
   ]
  },
  {
   "cell_type": "code",
   "execution_count": 45,
   "id": "efca6568",
   "metadata": {},
   "outputs": [
    {
     "data": {
      "image/png": "[encoded data removed]",
      "text/plain": [
       "<Figure size 576x432 with 2 Axes>"
      ]
     },
     "metadata": {
      "needs_background": "light"
     },
     "output_type": "display_data"
    }
   ],
   "source": [
    "plt.figure(figsize = (8, 6))\n",
    "\n",
    "ax = plt.hexbin(fastball_rhp['pfx_x'], fastball_rhp['pfx_z'], C = fastball_rhp['xRV'], \n",
    "                cmap = 'coolwarm', mincnt = 20, gridsize = 8)\n",
    "plt.scatter(new['HB'], new['VB'], color = 'black')\n",
    "plt.plot([0, 30], [0, 30], ls=\"-\", c=\".3\", label = 'FF Dead Zone')\n",
    "cb = plt.colorbar(ax, shrink = .6)\n",
    "plt.xlabel('HB'), plt.ylabel('VB'), plt.xlim(-30, 30), plt.ylim(-30, 30), cb.ax.set_title('xRV') \n",
    "plt.axhline(0, color = 'black', ls = '--'), plt.axvline(0, color = 'black', ls = '--'), plt.legend()\n",
    "plt.title('RHP Fastball HB & VB Axis', fontsize = 14, fontweight = 'bold', pad = 15);"
   ]
  },
  {
   "cell_type": "markdown",
   "id": "7534c3e2",
   "metadata": {},
   "source": [
    "## Fastball LHP\n",
    "\n",
    "#### 4-Seam, Cutter, Sinker"
   ]
  },
  {
   "cell_type": "code",
   "execution_count": 46,
   "id": "98d32db6",
   "metadata": {},
   "outputs": [
    {
     "name": "stdout",
     "output_type": "stream",
     "text": [
      "R2 Score: -0.05\n",
      "MSE: 0.1\n",
      "RMSE: 0.317\n",
      "MAE: 0.181 \n",
      "\n",
      "R2 Score: 0.627\n",
      "MSE: 0.036\n",
      "RMSE: 0.189\n",
      "MAE: 0.097\n"
     ]
    }
   ],
   "source": [
    "features_fastball_l = lhp_fastball.select_dtypes([np.number])\n",
    "X = features_fastball_l.drop(columns = ['rv'])\n",
    "y = features_fastball_l['rv']\n",
    "\n",
    "X_train, X_test, y_train, y_test = train_test_split(X, y, random_state = 1)\n",
    "\n",
    "rf_fastball_l = RandomForestRegressor(random_state = 1).fit(X_train, y_train)\n",
    "pred_fastball_l = rf_fastball_l.predict(X_test)\n",
    "pred = rf_fastball_l.predict(X)\n",
    "\n",
    "print('R2 Score:', round((metrics.r2_score(y_test, pred_fastball_l)), 3))\n",
    "print('MSE:', round((metrics.mean_squared_error(y_test, pred_fastball_l)), 3))\n",
    "print('RMSE:', round(np.sqrt(metrics.mean_squared_error(y_test, pred_fastball_l)), 3))\n",
    "print('MAE:', round(metrics.mean_absolute_error(y_test, pred_fastball_l), 3), '\\n')\n",
    "print('R2 Score:', round((metrics.r2_score(y, pred)), 3))\n",
    "print('MSE:', round((metrics.mean_squared_error(y, pred)), 3))\n",
    "print('RMSE:', round(np.sqrt(metrics.mean_squared_error(y, pred)), 3))\n",
    "print('MAE:', round(metrics.mean_absolute_error(y, pred), 3))"
   ]
  },
  {
   "cell_type": "markdown",
   "id": "9deec87c",
   "metadata": {},
   "source": [
    "### LHP Fastball RV Table"
   ]
  },
  {
   "cell_type": "code",
   "execution_count": 47,
   "id": "0a489812",
   "metadata": {},
   "outputs": [
    {
     "data": {
      "text/html": [
       "<div><div id=992a3c14-5c4c-4da5-b575-fd7f79fc396f style=\"display:none; background-color:#9D6CFF; color:white; width:200px; height:30px; padding-left:5px; border-radius:4px; flex-direction:row; justify-content:space-around; align-items:center;\" onmouseover=\"this.style.backgroundColor='#BA9BF8'\" onmouseout=\"this.style.backgroundColor='#9D6CFF'\" onclick=\"window.commands?.execute('create-mitosheet-from-dataframe-output');\">See Full Dataframe in Mito</div> <script> if (window.commands.hasCommand('create-mitosheet-from-dataframe-output')) document.getElementById('992a3c14-5c4c-4da5-b575-fd7f79fc396f').style.display = 'flex' </script> <table border=\"1\" class=\"dataframe\">\n",
       "  <thead>\n",
       "    <tr style=\"text-align: right;\">\n",
       "      <th></th>\n",
       "      <th>velo</th>\n",
       "      <th>spin_rate</th>\n",
       "      <th>HB</th>\n",
       "      <th>VB</th>\n",
       "      <th>release_pos_x</th>\n",
       "      <th>release_pos_z</th>\n",
       "      <th>arm_angle</th>\n",
       "      <th>release_extension</th>\n",
       "      <th>xRV</th>\n",
       "    </tr>\n",
       "  </thead>\n",
       "  <tbody>\n",
       "    <tr>\n",
       "      <th>0</th>\n",
       "      <td>84.0</td>\n",
       "      <td>2251.0</td>\n",
       "      <td>4.7</td>\n",
       "      <td>10.4</td>\n",
       "      <td>1.4</td>\n",
       "      <td>5.2</td>\n",
       "      <td>45.0</td>\n",
       "      <td>4.9</td>\n",
       "      <td>0.75328</td>\n",
       "    </tr>\n",
       "  </tbody>\n",
       "</table></div>"
      ],
      "text/plain": [
       "   velo  spin_rate   HB    VB  release_pos_x  release_pos_z  arm_angle  \\\n",
       "0  84.0     2251.0  4.7  10.4            1.4            5.2       45.0   \n",
       "\n",
       "   release_extension      xRV  \n",
       "0                4.9  0.75328  "
      ]
     },
     "execution_count": 47,
     "metadata": {},
     "output_type": "execute_result"
    }
   ],
   "source": [
    "fastball_lhp = lhp_fastball.copy()\n",
    "fastball_lhp['xRV'] = pred\n",
    "fastball_lhp['xRV'] = round(fastball_lhp['xRV'], 3)\n",
    "#fastball_lhp['n_pitches'] = [1 if x == 'FF' else 0 for x in fastball_lhp['pitch_type']]\n",
    "\n",
    "new_input = [[84.0, 2251.0, 4.7, 10.4, 1.40, 5.20, 45.0, 4.9]]\n",
    "pred_new = rf_fastball_l.predict(new_input)\n",
    "columns = ['velo', 'spin_rate', 'HB', 'VB', 'release_pos_x', \n",
    "           'release_pos_z', 'arm_angle', 'release_extension']\n",
    "new = pd.DataFrame(data = new_input, columns = columns)\n",
    "new['xRV'] = pred_new\n",
    "new.head()"
   ]
  },
  {
   "cell_type": "code",
   "execution_count": 48,
   "id": "318442cd",
   "metadata": {},
   "outputs": [
    {
     "data": {
      "image/png": "[encoded data removed]",
      "text/plain": [
       "<Figure size 576x432 with 2 Axes>"
      ]
     },
     "metadata": {
      "needs_background": "light"
     },
     "output_type": "display_data"
    }
   ],
   "source": [
    "plt.figure(figsize = (8, 6))\n",
    "\n",
    "ax = plt.hexbin(fastball_lhp['pfx_x'], fastball_lhp['pfx_z'], C = fastball_lhp['xRV'], \n",
    "                cmap = 'coolwarm', mincnt = 20, gridsize = 8)\n",
    "plt.scatter(new['HB'], new['VB'], color = 'black')\n",
    "plt.plot([0, 30], [0, 30], ls=\"-\", c=\".3\", label = 'FF Dead Zone')\n",
    "cb = plt.colorbar(ax, shrink = .6)\n",
    "plt.xlabel('HB'), plt.ylabel('VB'), plt.xlim(-30, 30), plt.ylim(-30, 30), cb.ax.set_title('xRV') \n",
    "cb.set_ticks([0, 0, .10, .20], update_ticks = True)\n",
    "plt.axhline(0, color = 'black', ls = '--'), plt.axvline(0, color = 'black', ls = '--'), plt.legend()\n",
    "plt.title('LHP Fastball HB & VB Axis', fontsize = 14, fontweight = 'bold', pad = 15);"
   ]
  },
  {
   "cell_type": "markdown",
   "id": "11f5c470",
   "metadata": {},
   "source": [
    "## Breaking Ball RHP\n",
    "\n",
    "#### Slider, Curveball, Knuckle Curve"
   ]
  },
  {
   "cell_type": "code",
   "execution_count": 49,
   "id": "fe675009",
   "metadata": {},
   "outputs": [
    {
     "name": "stdout",
     "output_type": "stream",
     "text": [
      "R2 Test Score: -0.042\n",
      "MSE: 0.081\n",
      "RMSE: 0.284\n",
      "MAE: 0.151 \n",
      "\n",
      "R2 Score: 0.632\n",
      "MSE: 0.029\n",
      "RMSE: 0.17\n",
      "MAE: 0.081\n"
     ]
    }
   ],
   "source": [
    "features_bb_r = rhp_breaking_ball.select_dtypes([np.number])\n",
    "X = features_bb_r.drop(columns = ['rv'])\n",
    "y = features_bb_r['rv']\n",
    "\n",
    "X_train, X_test, y_train, y_test = train_test_split(X, y, random_state = 1)\n",
    "\n",
    "rf_bb_r = RandomForestRegressor(random_state = 1).fit(X_train, y_train)\n",
    "pred_bb_r = rf_bb_r.predict(X_test)\n",
    "pred = rf_bb_r.predict(X)\n",
    "\n",
    "print('R2 Test Score:', round((metrics.r2_score(y_test, pred_bb_r)), 3))\n",
    "print('MSE:', round((metrics.mean_squared_error(y_test, pred_bb_r)), 3))\n",
    "print('RMSE:', round(np.sqrt(metrics.mean_squared_error(y_test, pred_bb_r)), 3))\n",
    "print('MAE:', round(metrics.mean_absolute_error(y_test, pred_bb_r), 3), '\\n')\n",
    "print('R2 Score:', round((metrics.r2_score(y, pred)), 3))\n",
    "print('MSE:', round((metrics.mean_squared_error(y, pred)), 3))\n",
    "print('RMSE:', round(np.sqrt(metrics.mean_squared_error(y, pred)), 3))\n",
    "print('MAE:', round(metrics.mean_absolute_error(y, pred), 3))"
   ]
  },
  {
   "cell_type": "markdown",
   "id": "daaf1cba",
   "metadata": {},
   "source": [
    "### RHP Breaking Ball RV Table"
   ]
  },
  {
   "cell_type": "code",
   "execution_count": 51,
   "id": "f4099e06",
   "metadata": {},
   "outputs": [
    {
     "data": {
      "text/html": [
       "<div><div id=6b6ce43e-9ae9-4b1e-b15c-5fc6bf6e98c3 style=\"display:none; background-color:#9D6CFF; color:white; width:200px; height:30px; padding-left:5px; border-radius:4px; flex-direction:row; justify-content:space-around; align-items:center;\" onmouseover=\"this.style.backgroundColor='#BA9BF8'\" onmouseout=\"this.style.backgroundColor='#9D6CFF'\" onclick=\"window.commands?.execute('create-mitosheet-from-dataframe-output');\">See Full Dataframe in Mito</div> <script> if (window.commands.hasCommand('create-mitosheet-from-dataframe-output')) document.getElementById('6b6ce43e-9ae9-4b1e-b15c-5fc6bf6e98c3').style.display = 'flex' </script> <table border=\"1\" class=\"dataframe\">\n",
       "  <thead>\n",
       "    <tr style=\"text-align: right;\">\n",
       "      <th></th>\n",
       "      <th>velo</th>\n",
       "      <th>spin_rate</th>\n",
       "      <th>HB</th>\n",
       "      <th>VB</th>\n",
       "      <th>release_pos_x</th>\n",
       "      <th>release_pos_z</th>\n",
       "      <th>arm_angle</th>\n",
       "      <th>release_extension</th>\n",
       "      <th>xRV</th>\n",
       "    </tr>\n",
       "  </thead>\n",
       "  <tbody>\n",
       "    <tr>\n",
       "      <th>0</th>\n",
       "      <td>73.8</td>\n",
       "      <td>2143.0</td>\n",
       "      <td>-0.5</td>\n",
       "      <td>-5.4</td>\n",
       "      <td>1.4</td>\n",
       "      <td>5.2</td>\n",
       "      <td>45.0</td>\n",
       "      <td>4.9</td>\n",
       "      <td>0.46364</td>\n",
       "    </tr>\n",
       "    <tr>\n",
       "      <th>1</th>\n",
       "      <td>67.6</td>\n",
       "      <td>1696.0</td>\n",
       "      <td>-4.9</td>\n",
       "      <td>-18.1</td>\n",
       "      <td>1.4</td>\n",
       "      <td>5.2</td>\n",
       "      <td>45.0</td>\n",
       "      <td>4.9</td>\n",
       "      <td>0.53185</td>\n",
       "    </tr>\n",
       "    <tr>\n",
       "      <th>2</th>\n",
       "      <td>69.2</td>\n",
       "      <td>2020.0</td>\n",
       "      <td>-8.7</td>\n",
       "      <td>-4.6</td>\n",
       "      <td>1.4</td>\n",
       "      <td>5.2</td>\n",
       "      <td>45.0</td>\n",
       "      <td>4.9</td>\n",
       "      <td>0.33700</td>\n",
       "    </tr>\n",
       "  </tbody>\n",
       "</table></div>"
      ],
      "text/plain": [
       "   velo  spin_rate   HB    VB  release_pos_x  release_pos_z  arm_angle  \\\n",
       "0  73.8     2143.0 -0.5  -5.4            1.4            5.2       45.0   \n",
       "1  67.6     1696.0 -4.9 -18.1            1.4            5.2       45.0   \n",
       "2  69.2     2020.0 -8.7  -4.6            1.4            5.2       45.0   \n",
       "\n",
       "   release_extension      xRV  \n",
       "0                4.9  0.46364  \n",
       "1                4.9  0.53185  \n",
       "2                4.9  0.33700  "
      ]
     },
     "execution_count": 51,
     "metadata": {},
     "output_type": "execute_result"
    }
   ],
   "source": [
    "bb_rhp = rhp_breaking_ball.copy()\n",
    "bb_rhp['xRV'] = pred\n",
    "bb_rhp['xRV'] = round(bb_rhp['xRV'], 3)\n",
    "bb_rhp['n_pitches'] = [1 if x == 'FF' else 0 for x in bb_rhp['pitch_type']]\n",
    "\n",
    "new_input = [[73.8, 2143.0, -0.5, -5.4, 1.40, 5.20, 45.0, 4.9], \n",
    "             [67.6, 1696.0, -4.9, -18.1, 1.40, 5.20, 45.0, 4.9], \n",
    "             [69.2, 2020.0, -8.7, -4.6, 1.40, 5.20, 45.0, 4.9]]\n",
    "pred_new = rf_bb_r.predict(new_input)\n",
    "columns = ['velo', 'spin_rate', 'HB', 'VB', 'release_pos_x', \n",
    "           'release_pos_z', 'arm_angle', 'release_extension']\n",
    "new = pd.DataFrame(data = new_input, columns = columns)\n",
    "new['xRV'] = pred_new\n",
    "new.head()"
   ]
  },
  {
   "cell_type": "code",
   "execution_count": 53,
   "id": "22708945",
   "metadata": {},
   "outputs": [
    {
     "data": {
      "image/png": "[encoded data removed]",
      "text/plain": [
       "<Figure size 576x432 with 2 Axes>"
      ]
     },
     "metadata": {
      "needs_background": "light"
     },
     "output_type": "display_data"
    }
   ],
   "source": [
    "plt.figure(figsize = (8, 6))\n",
    "\n",
    "ax = plt.hexbin(bb_rhp['pfx_x'], bb_rhp['pfx_z'], C = bb_rhp['xRV'], cmap = 'coolwarm', mincnt = 20, gridsize = 8)\n",
    "plt.scatter(new['HB'], new['VB'], color = 'black')\n",
    "cb = plt.colorbar(ax, shrink = .6)\n",
    "plt.xlabel('HB'), plt.ylabel('VB'), plt.xlim(-30, 30), plt.ylim(-30, 30), cb.ax.set_title('xRV') \n",
    "cb.set_ticks([0, 0, .10, .20], update_ticks = True)\n",
    "plt.axhline(0, color = 'black', ls = '--'), plt.axvline(0, color = 'black', ls = '--')\n",
    "plt.title('RHP Breaking Ball HB & VB Axis', fontsize = 14, fontweight = 'bold', pad = 15);"
   ]
  },
  {
   "cell_type": "markdown",
   "id": "aa5eb027",
   "metadata": {},
   "source": [
    "## Breaking Ball LHP\n",
    "\n",
    "#### Slider, Curveball, Knuckle Curve"
   ]
  },
  {
   "cell_type": "code",
   "execution_count": 54,
   "id": "55e7a7c7",
   "metadata": {},
   "outputs": [
    {
     "name": "stdout",
     "output_type": "stream",
     "text": [
      "R2 Test Score: -0.042\n",
      "MSE: 0.082\n",
      "RMSE: 0.287\n",
      "MAE: 0.152 \n",
      "\n",
      "R2 Score: 0.626\n",
      "MSE: 0.029\n",
      "RMSE: 0.17\n",
      "MAE: 0.081\n"
     ]
    }
   ],
   "source": [
    "features_bb_l = lhp_breaking_ball.select_dtypes([np.number])\n",
    "X = features_bb_l.drop(columns = ['rv'])\n",
    "y = features_bb_l['rv']\n",
    "\n",
    "X_train, X_test, y_train, y_test = train_test_split(X, y, random_state = 1)\n",
    "\n",
    "rf_bb_l = RandomForestRegressor(random_state = 1).fit(X_train, y_train)\n",
    "pred_bb_l = rf_bb_l.predict(X_test)\n",
    "pred = rf_bb_l.predict(X)\n",
    "\n",
    "print('R2 Test Score:', round((metrics.r2_score(y_test, pred_bb_l)), 3))\n",
    "print('MSE:', round((metrics.mean_squared_error(y_test, pred_bb_l)), 3))\n",
    "print('RMSE:', round(np.sqrt(metrics.mean_squared_error(y_test, pred_bb_l)), 3))\n",
    "print('MAE:', round(metrics.mean_absolute_error(y_test, pred_bb_l), 3), '\\n')\n",
    "print('R2 Score:', round((metrics.r2_score(y, pred)), 3))\n",
    "print('MSE:', round((metrics.mean_squared_error(y, pred)), 3))\n",
    "print('RMSE:', round(np.sqrt(metrics.mean_squared_error(y, pred)), 3))\n",
    "print('MAE:', round(metrics.mean_absolute_error(y, pred), 3))"
   ]
  },
  {
   "cell_type": "markdown",
   "id": "79e4a332",
   "metadata": {},
   "source": [
    "### LHP Breaking Ball RV Table"
   ]
  },
  {
   "cell_type": "code",
   "execution_count": 55,
   "id": "d0615844",
   "metadata": {},
   "outputs": [
    {
     "data": {
      "text/html": [
       "<div><div id=738d28ca-4a89-43b6-b9f3-73ab46ebaa47 style=\"display:none; background-color:#9D6CFF; color:white; width:200px; height:30px; padding-left:5px; border-radius:4px; flex-direction:row; justify-content:space-around; align-items:center;\" onmouseover=\"this.style.backgroundColor='#BA9BF8'\" onmouseout=\"this.style.backgroundColor='#9D6CFF'\" onclick=\"window.commands?.execute('create-mitosheet-from-dataframe-output');\">See Full Dataframe in Mito</div> <script> if (window.commands.hasCommand('create-mitosheet-from-dataframe-output')) document.getElementById('738d28ca-4a89-43b6-b9f3-73ab46ebaa47').style.display = 'flex' </script> <table border=\"1\" class=\"dataframe\">\n",
       "  <thead>\n",
       "    <tr style=\"text-align: right;\">\n",
       "      <th></th>\n",
       "      <th>velo</th>\n",
       "      <th>spin_rate</th>\n",
       "      <th>HB</th>\n",
       "      <th>VB</th>\n",
       "      <th>release_pos_x</th>\n",
       "      <th>release_pos_z</th>\n",
       "      <th>arm_angle</th>\n",
       "      <th>release_extension</th>\n",
       "      <th>xRV</th>\n",
       "    </tr>\n",
       "  </thead>\n",
       "  <tbody>\n",
       "    <tr>\n",
       "      <th>0</th>\n",
       "      <td>73.8</td>\n",
       "      <td>2143.0</td>\n",
       "      <td>0.5</td>\n",
       "      <td>-5.4</td>\n",
       "      <td>-1.4</td>\n",
       "      <td>5.2</td>\n",
       "      <td>45.0</td>\n",
       "      <td>4.9</td>\n",
       "      <td>0.16590</td>\n",
       "    </tr>\n",
       "    <tr>\n",
       "      <th>1</th>\n",
       "      <td>67.6</td>\n",
       "      <td>1696.0</td>\n",
       "      <td>4.9</td>\n",
       "      <td>-18.1</td>\n",
       "      <td>-1.4</td>\n",
       "      <td>5.2</td>\n",
       "      <td>45.0</td>\n",
       "      <td>4.9</td>\n",
       "      <td>0.20228</td>\n",
       "    </tr>\n",
       "    <tr>\n",
       "      <th>2</th>\n",
       "      <td>69.2</td>\n",
       "      <td>2020.0</td>\n",
       "      <td>8.7</td>\n",
       "      <td>-4.6</td>\n",
       "      <td>-1.4</td>\n",
       "      <td>5.2</td>\n",
       "      <td>45.0</td>\n",
       "      <td>4.9</td>\n",
       "      <td>0.24779</td>\n",
       "    </tr>\n",
       "  </tbody>\n",
       "</table></div>"
      ],
      "text/plain": [
       "   velo  spin_rate   HB    VB  release_pos_x  release_pos_z  arm_angle  \\\n",
       "0  73.8     2143.0  0.5  -5.4           -1.4            5.2       45.0   \n",
       "1  67.6     1696.0  4.9 -18.1           -1.4            5.2       45.0   \n",
       "2  69.2     2020.0  8.7  -4.6           -1.4            5.2       45.0   \n",
       "\n",
       "   release_extension      xRV  \n",
       "0                4.9  0.16590  \n",
       "1                4.9  0.20228  \n",
       "2                4.9  0.24779  "
      ]
     },
     "execution_count": 55,
     "metadata": {},
     "output_type": "execute_result"
    }
   ],
   "source": [
    "bb_lhp = lhp_breaking_ball.copy()\n",
    "bb_lhp['xRV'] = pred\n",
    "bb_lhp['xRV'] = round(bb_lhp['xRV'], 3)\n",
    "bb_lhp['n_pitches'] = [1 if x == 'FF' else 0 for x in bb_lhp['pitch_type']]\n",
    "\n",
    "new_input = [[73.8, 2143.0, 0.5, -5.4, -1.40, 5.20, 45.0, 4.9], \n",
    "             [67.6, 1696.0, 4.9, -18.1, -1.40, 5.20, 45.0, 4.9], \n",
    "             [69.2, 2020.0, 8.7, -4.6, -1.40, 5.20, 45.0, 4.9]]\n",
    "pred_new = rf_bb_l.predict(new_input)\n",
    "columns = ['velo', 'spin_rate', 'HB', 'VB', 'release_pos_x', \n",
    "           'release_pos_z', 'arm_angle', 'release_extension']\n",
    "new = pd.DataFrame(data = new_input, columns = columns)\n",
    "new['xRV'] = pred_new\n",
    "new.head()"
   ]
  },
  {
   "cell_type": "code",
   "execution_count": 56,
   "id": "e6b48db0",
   "metadata": {},
   "outputs": [
    {
     "name": "stderr",
     "output_type": "stream",
     "text": [
      "No handles with labels found to put in legend.\n"
     ]
    },
    {
     "data": {
      "image/png": "[encoded data removed]",
      "text/plain": [
       "<Figure size 576x432 with 2 Axes>"
      ]
     },
     "metadata": {
      "needs_background": "light"
     },
     "output_type": "display_data"
    }
   ],
   "source": [
    "plt.figure(figsize = (8, 6))\n",
    "\n",
    "ax = plt.hexbin(bb_lhp['pfx_x'], bb_lhp['pfx_z'], C = bb_lhp['xRV'], cmap = 'coolwarm', mincnt = 20, gridsize = 8)\n",
    "plt.scatter(new['HB'], new['VB'], color = 'black')\n",
    "cb = plt.colorbar(ax, shrink = .6)\n",
    "plt.xlabel('HB'), plt.ylabel('VB'), plt.xlim(-30, 30), plt.ylim(-30, 30), cb.ax.set_title('xRV') \n",
    "cb.set_ticks([0, 0, .10, .20], update_ticks = True)\n",
    "plt.axhline(0, color = 'black', ls = '--'), plt.axvline(0, color = 'black', ls = '--'), plt.legend()\n",
    "plt.title('LHP Breaking Ball HB & VB Axis', fontsize = 14, fontweight = 'bold', pad = 15);"
   ]
  },
  {
   "cell_type": "markdown",
   "id": "86ec1113",
   "metadata": {},
   "source": [
    "## Off-Speed RHP\n",
    "\n",
    "#### Changeup, Splitter"
   ]
  },
  {
   "cell_type": "code",
   "execution_count": 57,
   "id": "8a8ac50c",
   "metadata": {},
   "outputs": [
    {
     "name": "stdout",
     "output_type": "stream",
     "text": [
      "R2 Score: -0.053\n",
      "MSE: 0.09\n",
      "RMSE: 0.301\n",
      "MAE: 0.166 \n",
      "\n",
      "R2 Score: 0.629\n",
      "MSE: 0.032\n",
      "RMSE: 0.18\n",
      "MAE: 0.089\n"
     ]
    }
   ],
   "source": [
    "features_os_r = rhp_offspeed.select_dtypes([np.number])\n",
    "X = features_os_r.drop(columns = ['rv'])\n",
    "y = features_os_r['rv']\n",
    "\n",
    "X_train, X_test, y_train, y_test = train_test_split(X, y, random_state = 1)\n",
    "\n",
    "rf_os_r = RandomForestRegressor(random_state = 1).fit(X_train, y_train)\n",
    "pred_os_r = rf_os_r.predict(X_test)\n",
    "pred = rf_os_r.predict(X)\n",
    "\n",
    "print('R2 Score:', round((metrics.r2_score(y_test, pred_os_r)), 3))\n",
    "print('MSE:', round((metrics.mean_squared_error(y_test, pred_os_r)), 3))\n",
    "print('RMSE:', round(np.sqrt(metrics.mean_squared_error(y_test, pred_os_r)), 3))\n",
    "print('MAE:', round(metrics.mean_absolute_error(y_test, pred_os_r), 3), '\\n')\n",
    "print('R2 Score:', round((metrics.r2_score(y, pred)), 3))\n",
    "print('MSE:', round((metrics.mean_squared_error(y, pred)), 3))\n",
    "print('RMSE:', round(np.sqrt(metrics.mean_squared_error(y, pred)), 3))\n",
    "print('MAE:', round(metrics.mean_absolute_error(y, pred), 3))"
   ]
  },
  {
   "cell_type": "markdown",
   "id": "e2b68791",
   "metadata": {},
   "source": [
    "### RHP Off-Speed RV Table"
   ]
  },
  {
   "cell_type": "code",
   "execution_count": 58,
   "id": "265f97d4",
   "metadata": {},
   "outputs": [
    {
     "data": {
      "text/html": [
       "<div><div id=f4b51146-8e20-4987-add8-95467fe3c0a4 style=\"display:none; background-color:#9D6CFF; color:white; width:200px; height:30px; padding-left:5px; border-radius:4px; flex-direction:row; justify-content:space-around; align-items:center;\" onmouseover=\"this.style.backgroundColor='#BA9BF8'\" onmouseout=\"this.style.backgroundColor='#9D6CFF'\" onclick=\"window.commands?.execute('create-mitosheet-from-dataframe-output');\">See Full Dataframe in Mito</div> <script> if (window.commands.hasCommand('create-mitosheet-from-dataframe-output')) document.getElementById('f4b51146-8e20-4987-add8-95467fe3c0a4').style.display = 'flex' </script> <table border=\"1\" class=\"dataframe\">\n",
       "  <thead>\n",
       "    <tr style=\"text-align: right;\">\n",
       "      <th></th>\n",
       "      <th>velo</th>\n",
       "      <th>spin_rate</th>\n",
       "      <th>HB</th>\n",
       "      <th>VB</th>\n",
       "      <th>release_pos_x</th>\n",
       "      <th>release_pos_z</th>\n",
       "      <th>arm_angle</th>\n",
       "      <th>release_extension</th>\n",
       "      <th>xRV</th>\n",
       "    </tr>\n",
       "  </thead>\n",
       "  <tbody>\n",
       "    <tr>\n",
       "      <th>0</th>\n",
       "      <td>75.0</td>\n",
       "      <td>1434.0</td>\n",
       "      <td>3.2</td>\n",
       "      <td>12.8</td>\n",
       "      <td>1.3</td>\n",
       "      <td>5.3</td>\n",
       "      <td>45.0</td>\n",
       "      <td>4.9</td>\n",
       "      <td>0.30272</td>\n",
       "    </tr>\n",
       "  </tbody>\n",
       "</table></div>"
      ],
      "text/plain": [
       "   velo  spin_rate   HB    VB  release_pos_x  release_pos_z  arm_angle  \\\n",
       "0  75.0     1434.0  3.2  12.8            1.3            5.3       45.0   \n",
       "\n",
       "   release_extension      xRV  \n",
       "0                4.9  0.30272  "
      ]
     },
     "execution_count": 58,
     "metadata": {},
     "output_type": "execute_result"
    }
   ],
   "source": [
    "os_rhp = rhp_offspeed.copy()\n",
    "os_rhp['xRV'] = pred\n",
    "os_rhp['xRV'] = round(os_rhp['xRV'], 3)\n",
    "os_rhp['n_pitches'] = [1 if x == 'FF' else 0 for x in os_rhp['pitch_type']]\n",
    "\n",
    "new_input = [[75.0, 1434.0, 3.2, 12.8, 1.30, 5.30, 45.0, 4.9]]\n",
    "pred_new = rf_os_r.predict(new_input)\n",
    "columns = ['velo', 'spin_rate', 'HB', 'VB', 'release_pos_x', \n",
    "           'release_pos_z', 'arm_angle', 'release_extension']\n",
    "new = pd.DataFrame(data = new_input, columns = columns)\n",
    "new['xRV'] = pred_new\n",
    "new.head()"
   ]
  },
  {
   "cell_type": "code",
   "execution_count": 59,
   "id": "1e33092a",
   "metadata": {},
   "outputs": [
    {
     "name": "stderr",
     "output_type": "stream",
     "text": [
      "No handles with labels found to put in legend.\n"
     ]
    },
    {
     "data": {
      "image/png": "[encoded data removed]",
      "text/plain": [
       "<Figure size 576x432 with 2 Axes>"
      ]
     },
     "metadata": {
      "needs_background": "light"
     },
     "output_type": "display_data"
    }
   ],
   "source": [
    "plt.figure(figsize = (8, 6))\n",
    "\n",
    "ax = plt.hexbin(os_rhp['pfx_x'], os_rhp['pfx_z'], C = os_rhp['xRV'], cmap = 'coolwarm', mincnt = 20, gridsize = 8)\n",
    "plt.scatter(new['HB'], new['VB'], color = 'black')\n",
    "cb = plt.colorbar(ax, shrink = .6)\n",
    "plt.xlabel('HB'), plt.ylabel('VB'), plt.xlim(-30, 30), plt.ylim(-30, 30), cb.ax.set_title('xRV') \n",
    "cb.set_ticks([0, 0, .10, .20], update_ticks = True)\n",
    "plt.axhline(0, color = 'black', ls = '--'), plt.axvline(0, color = 'black', ls = '--'), plt.legend()\n",
    "plt.title('RHP Off-Speed HB & VB Axis', fontsize = 14, fontweight = 'bold', pad = 15);"
   ]
  },
  {
   "cell_type": "markdown",
   "id": "d92cd3b2",
   "metadata": {},
   "source": [
    "## Off-speed LHP\n",
    "\n",
    "#### Changeup, Splitter"
   ]
  },
  {
   "cell_type": "code",
   "execution_count": 60,
   "id": "ff1ef1fa",
   "metadata": {},
   "outputs": [
    {
     "name": "stdout",
     "output_type": "stream",
     "text": [
      "R2 Score: -0.037\n",
      "MSE: 0.099\n",
      "RMSE: 0.315\n",
      "MAE: 0.175 \n",
      "\n",
      "R2 Score: 0.62\n",
      "MSE: 0.035\n",
      "RMSE: 0.187\n",
      "MAE: 0.093\n"
     ]
    }
   ],
   "source": [
    "features_os_l = lhp_offspeed.select_dtypes([np.number])\n",
    "X = features_os_l.drop(columns = ['rv'])\n",
    "y = features_os_l['rv']\n",
    "\n",
    "X_train, X_test, y_train, y_test = train_test_split(X, y, random_state = 1)\n",
    "\n",
    "rf_os_l = RandomForestRegressor(random_state = 1).fit(X_train, y_train)\n",
    "pred_os_l = rf_os_l.predict(X_test)\n",
    "pred = rf_os_l.predict(X)\n",
    "\n",
    "print('R2 Score:', round((metrics.r2_score(y_test, pred_os_l)), 3))\n",
    "print('MSE:', round((metrics.mean_squared_error(y_test, pred_os_l)), 3))\n",
    "print('RMSE:', round(np.sqrt(metrics.mean_squared_error(y_test, pred_os_l)), 3))\n",
    "print('MAE:', round(metrics.mean_absolute_error(y_test, pred_os_l), 3), '\\n')\n",
    "print('R2 Score:', round((metrics.r2_score(y, pred)), 3))\n",
    "print('MSE:', round((metrics.mean_squared_error(y, pred)), 3))\n",
    "print('RMSE:', round(np.sqrt(metrics.mean_squared_error(y, pred)), 3))\n",
    "print('MAE:', round(metrics.mean_absolute_error(y, pred), 3))"
   ]
  },
  {
   "cell_type": "markdown",
   "id": "c041ffe9",
   "metadata": {},
   "source": [
    "### LHP Off-Speed RV Table"
   ]
  },
  {
   "cell_type": "code",
   "execution_count": 61,
   "id": "9b294da1",
   "metadata": {},
   "outputs": [
    {
     "data": {
      "text/html": [
       "<div><div id=2b95b8d3-b60d-4da1-903a-0d3830d76bb3 style=\"display:none; background-color:#9D6CFF; color:white; width:200px; height:30px; padding-left:5px; border-radius:4px; flex-direction:row; justify-content:space-around; align-items:center;\" onmouseover=\"this.style.backgroundColor='#BA9BF8'\" onmouseout=\"this.style.backgroundColor='#9D6CFF'\" onclick=\"window.commands?.execute('create-mitosheet-from-dataframe-output');\">See Full Dataframe in Mito</div> <script> if (window.commands.hasCommand('create-mitosheet-from-dataframe-output')) document.getElementById('2b95b8d3-b60d-4da1-903a-0d3830d76bb3').style.display = 'flex' </script> <table border=\"1\" class=\"dataframe\">\n",
       "  <thead>\n",
       "    <tr style=\"text-align: right;\">\n",
       "      <th></th>\n",
       "      <th>velo</th>\n",
       "      <th>spin_rate</th>\n",
       "      <th>HB</th>\n",
       "      <th>VB</th>\n",
       "      <th>release_pos_x</th>\n",
       "      <th>release_pos_z</th>\n",
       "      <th>arm_angle</th>\n",
       "      <th>release_extension</th>\n",
       "      <th>xRV</th>\n",
       "    </tr>\n",
       "  </thead>\n",
       "  <tbody>\n",
       "    <tr>\n",
       "      <th>0</th>\n",
       "      <td>75.0</td>\n",
       "      <td>1434.0</td>\n",
       "      <td>-3.2</td>\n",
       "      <td>12.8</td>\n",
       "      <td>-1.3</td>\n",
       "      <td>5.3</td>\n",
       "      <td>45.0</td>\n",
       "      <td>4.9</td>\n",
       "      <td>0.63331</td>\n",
       "    </tr>\n",
       "  </tbody>\n",
       "</table></div>"
      ],
      "text/plain": [
       "   velo  spin_rate   HB    VB  release_pos_x  release_pos_z  arm_angle  \\\n",
       "0  75.0     1434.0 -3.2  12.8           -1.3            5.3       45.0   \n",
       "\n",
       "   release_extension      xRV  \n",
       "0                4.9  0.63331  "
      ]
     },
     "execution_count": 61,
     "metadata": {},
     "output_type": "execute_result"
    }
   ],
   "source": [
    "os_lhp = lhp_offspeed.copy()\n",
    "os_lhp['xRV'] = pred\n",
    "os_lhp['xRV'] = round(os_lhp['xRV'], 3)\n",
    "os_lhp['n_pitches'] = [1 if x == 'FF' else 0 for x in os_lhp['pitch_type']]\n",
    "\n",
    "new_input = [[75.0, 1434.0, -3.2, 12.8, -1.30, 5.30, 45.0, 4.9]]\n",
    "pred_new = rf_os_l.predict(new_input)\n",
    "columns = ['velo', 'spin_rate', 'HB', 'VB', 'release_pos_x', \n",
    "           'release_pos_z', 'arm_angle', 'release_extension']\n",
    "new = pd.DataFrame(data = new_input, columns = columns)\n",
    "new['xRV'] = pred_new\n",
    "new.head()"
   ]
  },
  {
   "cell_type": "code",
   "execution_count": 62,
   "id": "3bb70e34",
   "metadata": {},
   "outputs": [
    {
     "name": "stderr",
     "output_type": "stream",
     "text": [
      "No handles with labels found to put in legend.\n"
     ]
    },
    {
     "data": {
      "image/png": "[encoded data removed]",
      "text/plain": [
       "<Figure size 576x432 with 2 Axes>"
      ]
     },
     "metadata": {
      "needs_background": "light"
     },
     "output_type": "display_data"
    }
   ],
   "source": [
    "plt.figure(figsize = (8, 6))\n",
    "\n",
    "ax = plt.hexbin(os_lhp['pfx_x'], os_lhp['pfx_z'], C = os_lhp['xRV'], cmap = 'coolwarm', mincnt = 20, gridsize = 8)\n",
    "plt.scatter(new['HB'], new['VB'], color = 'black')\n",
    "cb = plt.colorbar(ax, shrink = .6)\n",
    "plt.xlabel('HB'), plt.ylabel('VB'), plt.xlim(-30, 30), plt.ylim(-30, 30), cb.ax.set_title('xRV') \n",
    "cb.set_ticks([0, 0, .10, .20], update_ticks = True)\n",
    "plt.axhline(0, color = 'black', ls = '--'), plt.axvline(0, color = 'black', ls = '--')\n",
    "plt.title('LHP Off-Speed HB & VB Axis', fontsize = 14, fontweight = 'bold', pad = 15);"
   ]
  }
 ],
 "metadata": {
  "kernelspec": {
   "display_name": "Python 3",
   "language": "python",
   "name": "python3"
  },
  "language_info": {
   "codemirror_mode": {
    "name": "ipython",
    "version": 3
   },
   "file_extension": ".py",
   "mimetype": "text/x-python",
   "name": "python",
   "nbconvert_exporter": "python",
   "pygments_lexer": "ipython3",
   "version": "3.8.8"
  }
 },
 "nbformat": 4,
 "nbformat_minor": 5
}
