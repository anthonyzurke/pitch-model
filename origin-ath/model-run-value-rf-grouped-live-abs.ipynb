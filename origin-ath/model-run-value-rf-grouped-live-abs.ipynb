{
 "cells": [
  {
   "cell_type": "markdown",
   "id": "426268f7",
   "metadata": {},
   "source": [
    "# Notebook Contents\n",
    "\n",
    "- [Imports](#Imports)\n",
    "- [Data](#Data)\n",
    "- [Features](#Features)\n",
    "- [Random Forest](#Random-Forest-Regression-Model)\n",
    "    - [Fastball RHP](#Fastball-RHP)\n",
    "    - [Fastball LHP](#Fastball-LHP)\n",
    "    - [Breaking Ball RHP](#Breaking-Ball-RHP)\n",
    "    - [BreakingBall LHP](#Breaking-Ball-LHP)\n",
    "    - [Off-Speed RHP](#off-Speed-RHP)\n",
    "    - [Off-Speed LHP](#Off-Speed-LHP)"
   ]
  },
  {
   "cell_type": "markdown",
   "id": "9a8c2c47",
   "metadata": {},
   "source": [
    "# Imports"
   ]
  },
  {
   "cell_type": "code",
   "execution_count": 1,
   "id": "3b41894e",
   "metadata": {},
   "outputs": [],
   "source": [
    "from sklearn import metrics\n",
    "from sklearn.model_selection import train_test_split, cross_val_score, GridSearchCV, RandomizedSearchCV\n",
    "from sklearn.ensemble import RandomForestRegressor\n",
    "from matplotlib.patches import Rectangle\n",
    "\n",
    "import warnings\n",
    "warnings.filterwarnings('ignore')"
   ]
  },
  {
   "cell_type": "markdown",
   "id": "7a31fda9",
   "metadata": {},
   "source": [
    "# Data"
   ]
  },
  {
   "cell_type": "code",
   "execution_count": 2,
   "id": "40799b48",
   "metadata": {},
   "outputs": [
    {
     "name": "stdout",
     "output_type": "stream",
     "text": [
      "(705396, 68)\n"
     ]
    },
    {
     "data": {
      "text/html": [
       "<div><div id=37afd07f-0c06-4a75-970b-d37e415b1fa1 style=\"display:none; background-color:#9D6CFF; color:white; width:200px; height:30px; padding-left:5px; border-radius:4px; flex-direction:row; justify-content:space-around; align-items:center;\" onmouseover=\"this.style.backgroundColor='#BA9BF8'\" onmouseout=\"this.style.backgroundColor='#9D6CFF'\" onclick=\"window.commands?.execute('create-mitosheet-from-dataframe-output');\">See Full Dataframe in Mito</div> <script> if (window.commands.hasCommand('create-mitosheet-from-dataframe-output')) document.getElementById('37afd07f-0c06-4a75-970b-d37e415b1fa1').style.display = 'flex' </script> <table border=\"1\" class=\"dataframe\">\n",
       "  <thead>\n",
       "    <tr style=\"text-align: right;\">\n",
       "      <th></th>\n",
       "      <th>player_name</th>\n",
       "      <th>p_throws</th>\n",
       "      <th>pitch_type</th>\n",
       "      <th>velo</th>\n",
       "      <th>spin_rate</th>\n",
       "      <th>spin_axis</th>\n",
       "      <th>pfx_x</th>\n",
       "      <th>pfx_z</th>\n",
       "      <th>bauer_units</th>\n",
       "      <th>effective_speed</th>\n",
       "      <th>release_pos_x</th>\n",
       "      <th>release_pos_z</th>\n",
       "      <th>release_extension</th>\n",
       "      <th>release_pos_y</th>\n",
       "      <th>plate_x</th>\n",
       "      <th>plate_z</th>\n",
       "      <th>type</th>\n",
       "      <th>balls</th>\n",
       "      <th>strikes</th>\n",
       "      <th>pitch_count</th>\n",
       "      <th>delta_run_exp</th>\n",
       "      <th>stand</th>\n",
       "      <th>bb_type</th>\n",
       "      <th>description</th>\n",
       "      <th>events</th>\n",
       "      <th>hit_distance_sc</th>\n",
       "      <th>exit_velo</th>\n",
       "      <th>launch_angle</th>\n",
       "      <th>launch_speed_angle</th>\n",
       "      <th>woba_value</th>\n",
       "      <th>woba_denom</th>\n",
       "      <th>xba</th>\n",
       "      <th>xwoba</th>\n",
       "      <th>babip_value</th>\n",
       "      <th>iso_value</th>\n",
       "      <th>at_bat_number</th>\n",
       "      <th>pitch_number</th>\n",
       "      <th>inning</th>\n",
       "      <th>inning_topbot</th>\n",
       "      <th>home_score</th>\n",
       "      <th>away_score</th>\n",
       "      <th>post_home_score</th>\n",
       "      <th>post_away_score</th>\n",
       "      <th>on_1b</th>\n",
       "      <th>on_2b</th>\n",
       "      <th>on_3b</th>\n",
       "      <th>outs_when_up</th>\n",
       "      <th>arm_angle</th>\n",
       "      <th>slot</th>\n",
       "      <th>is_strike</th>\n",
       "      <th>is_ball</th>\n",
       "      <th>final_pitch_ab</th>\n",
       "      <th>out_to_end_inning</th>\n",
       "      <th>home_runs</th>\n",
       "      <th>away_runs</th>\n",
       "      <th>runs</th>\n",
       "      <th>re</th>\n",
       "      <th>re_change</th>\n",
       "      <th>re_end_state</th>\n",
       "      <th>re24</th>\n",
       "      <th>lin_weight_above_avg</th>\n",
       "      <th>lin_weight_above_outs</th>\n",
       "      <th>woba_scale</th>\n",
       "      <th>lin_weights_above_avg_scale</th>\n",
       "      <th>lin_weights_above_outs_scale</th>\n",
       "      <th>woba</th>\n",
       "      <th>wraa_change</th>\n",
       "      <th>rv</th>\n",
       "    </tr>\n",
       "  </thead>\n",
       "  <tbody>\n",
       "    <tr>\n",
       "      <th>0</th>\n",
       "      <td>Smith, Will</td>\n",
       "      <td>L</td>\n",
       "      <td>FF</td>\n",
       "      <td>92.3</td>\n",
       "      <td>2330.0</td>\n",
       "      <td>148.0</td>\n",
       "      <td>-8.28</td>\n",
       "      <td>16.56</td>\n",
       "      <td>25.243770</td>\n",
       "      <td>92.8</td>\n",
       "      <td>-1.40</td>\n",
       "      <td>6.80</td>\n",
       "      <td>6.5</td>\n",
       "      <td>54.03</td>\n",
       "      <td>0.69</td>\n",
       "      <td>2.83</td>\n",
       "      <td>X</td>\n",
       "      <td>1</td>\n",
       "      <td>2</td>\n",
       "      <td>1-2</td>\n",
       "      <td>-0.073</td>\n",
       "      <td>R</td>\n",
       "      <td>ground_ball</td>\n",
       "      <td>hit_into_play</td>\n",
       "      <td>field_out</td>\n",
       "      <td>13.0</td>\n",
       "      <td>95.2</td>\n",
       "      <td>-13.0</td>\n",
       "      <td>2.0</td>\n",
       "      <td>0.0</td>\n",
       "      <td>1.0</td>\n",
       "      <td>0.174</td>\n",
       "      <td>0.158</td>\n",
       "      <td>0.0</td>\n",
       "      <td>0.0</td>\n",
       "      <td>61</td>\n",
       "      <td>4</td>\n",
       "      <td>9</td>\n",
       "      <td>0</td>\n",
       "      <td>5</td>\n",
       "      <td>0</td>\n",
       "      <td>5</td>\n",
       "      <td>0</td>\n",
       "      <td>0</td>\n",
       "      <td>0</td>\n",
       "      <td>0</td>\n",
       "      <td>2</td>\n",
       "      <td>36.0</td>\n",
       "      <td>1</td>\n",
       "      <td>1</td>\n",
       "      <td>0</td>\n",
       "      <td>1</td>\n",
       "      <td>1</td>\n",
       "      <td>0</td>\n",
       "      <td>0</td>\n",
       "      <td>0</td>\n",
       "      <td>0.11</td>\n",
       "      <td>-0.11</td>\n",
       "      <td>0.00</td>\n",
       "      <td>-0.11</td>\n",
       "      <td>-0.271</td>\n",
       "      <td>0.0</td>\n",
       "      <td>1.209</td>\n",
       "      <td>-0.328</td>\n",
       "      <td>0.0</td>\n",
       "      <td>0.222</td>\n",
       "      <td>-0.152</td>\n",
       "      <td>-0.262</td>\n",
       "    </tr>\n",
       "    <tr>\n",
       "      <th>1</th>\n",
       "      <td>Smith, Will</td>\n",
       "      <td>L</td>\n",
       "      <td>SL</td>\n",
       "      <td>80.6</td>\n",
       "      <td>2254.0</td>\n",
       "      <td>315.0</td>\n",
       "      <td>9.24</td>\n",
       "      <td>5.76</td>\n",
       "      <td>27.965261</td>\n",
       "      <td>81.2</td>\n",
       "      <td>-1.60</td>\n",
       "      <td>6.64</td>\n",
       "      <td>6.4</td>\n",
       "      <td>54.15</td>\n",
       "      <td>0.71</td>\n",
       "      <td>2.62</td>\n",
       "      <td>S</td>\n",
       "      <td>1</td>\n",
       "      <td>1</td>\n",
       "      <td>1-1</td>\n",
       "      <td>-0.027</td>\n",
       "      <td>R</td>\n",
       "      <td>NaN</td>\n",
       "      <td>strike</td>\n",
       "      <td>NaN</td>\n",
       "      <td>108.0</td>\n",
       "      <td>75.3</td>\n",
       "      <td>75.0</td>\n",
       "      <td>NaN</td>\n",
       "      <td>NaN</td>\n",
       "      <td>NaN</td>\n",
       "      <td>NaN</td>\n",
       "      <td>NaN</td>\n",
       "      <td>NaN</td>\n",
       "      <td>NaN</td>\n",
       "      <td>61</td>\n",
       "      <td>3</td>\n",
       "      <td>9</td>\n",
       "      <td>0</td>\n",
       "      <td>5</td>\n",
       "      <td>0</td>\n",
       "      <td>5</td>\n",
       "      <td>0</td>\n",
       "      <td>0</td>\n",
       "      <td>0</td>\n",
       "      <td>0</td>\n",
       "      <td>2</td>\n",
       "      <td>45.8</td>\n",
       "      <td>2</td>\n",
       "      <td>1</td>\n",
       "      <td>0</td>\n",
       "      <td>0</td>\n",
       "      <td>0</td>\n",
       "      <td>0</td>\n",
       "      <td>0</td>\n",
       "      <td>0</td>\n",
       "      <td>0.11</td>\n",
       "      <td>0.00</td>\n",
       "      <td>0.11</td>\n",
       "      <td>0.00</td>\n",
       "      <td>NaN</td>\n",
       "      <td>NaN</td>\n",
       "      <td>1.209</td>\n",
       "      <td>0.000</td>\n",
       "      <td>0.0</td>\n",
       "      <td>0.300</td>\n",
       "      <td>-0.053</td>\n",
       "      <td>-0.053</td>\n",
       "    </tr>\n",
       "    <tr>\n",
       "      <th>2</th>\n",
       "      <td>Smith, Will</td>\n",
       "      <td>L</td>\n",
       "      <td>CU</td>\n",
       "      <td>75.5</td>\n",
       "      <td>1940.0</td>\n",
       "      <td>328.0</td>\n",
       "      <td>7.80</td>\n",
       "      <td>-6.12</td>\n",
       "      <td>25.695364</td>\n",
       "      <td>75.2</td>\n",
       "      <td>-1.46</td>\n",
       "      <td>6.88</td>\n",
       "      <td>6.2</td>\n",
       "      <td>54.34</td>\n",
       "      <td>0.04</td>\n",
       "      <td>2.46</td>\n",
       "      <td>S</td>\n",
       "      <td>1</td>\n",
       "      <td>0</td>\n",
       "      <td>1-0</td>\n",
       "      <td>-0.020</td>\n",
       "      <td>R</td>\n",
       "      <td>NaN</td>\n",
       "      <td>strike</td>\n",
       "      <td>NaN</td>\n",
       "      <td>157.0</td>\n",
       "      <td>83.5</td>\n",
       "      <td>65.0</td>\n",
       "      <td>NaN</td>\n",
       "      <td>NaN</td>\n",
       "      <td>NaN</td>\n",
       "      <td>NaN</td>\n",
       "      <td>NaN</td>\n",
       "      <td>NaN</td>\n",
       "      <td>NaN</td>\n",
       "      <td>61</td>\n",
       "      <td>2</td>\n",
       "      <td>9</td>\n",
       "      <td>0</td>\n",
       "      <td>5</td>\n",
       "      <td>0</td>\n",
       "      <td>5</td>\n",
       "      <td>0</td>\n",
       "      <td>0</td>\n",
       "      <td>0</td>\n",
       "      <td>0</td>\n",
       "      <td>2</td>\n",
       "      <td>38.4</td>\n",
       "      <td>1</td>\n",
       "      <td>1</td>\n",
       "      <td>0</td>\n",
       "      <td>0</td>\n",
       "      <td>0</td>\n",
       "      <td>0</td>\n",
       "      <td>0</td>\n",
       "      <td>0</td>\n",
       "      <td>0.11</td>\n",
       "      <td>0.00</td>\n",
       "      <td>0.11</td>\n",
       "      <td>0.00</td>\n",
       "      <td>NaN</td>\n",
       "      <td>NaN</td>\n",
       "      <td>1.209</td>\n",
       "      <td>0.000</td>\n",
       "      <td>0.0</td>\n",
       "      <td>0.356</td>\n",
       "      <td>-0.038</td>\n",
       "      <td>-0.038</td>\n",
       "    </tr>\n",
       "    <tr>\n",
       "      <th>3</th>\n",
       "      <td>Smith, Will</td>\n",
       "      <td>L</td>\n",
       "      <td>CU</td>\n",
       "      <td>75.0</td>\n",
       "      <td>2017.0</td>\n",
       "      <td>330.0</td>\n",
       "      <td>8.28</td>\n",
       "      <td>-8.28</td>\n",
       "      <td>26.893333</td>\n",
       "      <td>74.5</td>\n",
       "      <td>-1.53</td>\n",
       "      <td>6.83</td>\n",
       "      <td>5.9</td>\n",
       "      <td>54.61</td>\n",
       "      <td>-2.10</td>\n",
       "      <td>3.89</td>\n",
       "      <td>B</td>\n",
       "      <td>0</td>\n",
       "      <td>0</td>\n",
       "      <td>0-0</td>\n",
       "      <td>0.016</td>\n",
       "      <td>R</td>\n",
       "      <td>NaN</td>\n",
       "      <td>ball</td>\n",
       "      <td>NaN</td>\n",
       "      <td>NaN</td>\n",
       "      <td>NaN</td>\n",
       "      <td>NaN</td>\n",
       "      <td>NaN</td>\n",
       "      <td>NaN</td>\n",
       "      <td>NaN</td>\n",
       "      <td>NaN</td>\n",
       "      <td>NaN</td>\n",
       "      <td>NaN</td>\n",
       "      <td>NaN</td>\n",
       "      <td>61</td>\n",
       "      <td>1</td>\n",
       "      <td>9</td>\n",
       "      <td>0</td>\n",
       "      <td>5</td>\n",
       "      <td>0</td>\n",
       "      <td>5</td>\n",
       "      <td>0</td>\n",
       "      <td>0</td>\n",
       "      <td>0</td>\n",
       "      <td>0</td>\n",
       "      <td>2</td>\n",
       "      <td>38.4</td>\n",
       "      <td>1</td>\n",
       "      <td>0</td>\n",
       "      <td>1</td>\n",
       "      <td>0</td>\n",
       "      <td>0</td>\n",
       "      <td>0</td>\n",
       "      <td>0</td>\n",
       "      <td>0</td>\n",
       "      <td>0.11</td>\n",
       "      <td>0.00</td>\n",
       "      <td>0.11</td>\n",
       "      <td>0.00</td>\n",
       "      <td>NaN</td>\n",
       "      <td>NaN</td>\n",
       "      <td>1.209</td>\n",
       "      <td>0.000</td>\n",
       "      <td>0.0</td>\n",
       "      <td>0.314</td>\n",
       "      <td>0.028</td>\n",
       "      <td>0.028</td>\n",
       "    </tr>\n",
       "    <tr>\n",
       "      <th>4</th>\n",
       "      <td>Smith, Will</td>\n",
       "      <td>L</td>\n",
       "      <td>FF</td>\n",
       "      <td>91.2</td>\n",
       "      <td>2281.0</td>\n",
       "      <td>143.0</td>\n",
       "      <td>-7.56</td>\n",
       "      <td>15.36</td>\n",
       "      <td>25.010965</td>\n",
       "      <td>90.9</td>\n",
       "      <td>-1.49</td>\n",
       "      <td>6.66</td>\n",
       "      <td>6.3</td>\n",
       "      <td>54.15</td>\n",
       "      <td>0.31</td>\n",
       "      <td>2.80</td>\n",
       "      <td>X</td>\n",
       "      <td>1</td>\n",
       "      <td>0</td>\n",
       "      <td>1-0</td>\n",
       "      <td>-0.189</td>\n",
       "      <td>L</td>\n",
       "      <td>ground_ball</td>\n",
       "      <td>hit_into_play</td>\n",
       "      <td>field_out</td>\n",
       "      <td>9.0</td>\n",
       "      <td>93.3</td>\n",
       "      <td>-18.0</td>\n",
       "      <td>2.0</td>\n",
       "      <td>0.0</td>\n",
       "      <td>1.0</td>\n",
       "      <td>0.100</td>\n",
       "      <td>0.090</td>\n",
       "      <td>0.0</td>\n",
       "      <td>0.0</td>\n",
       "      <td>60</td>\n",
       "      <td>2</td>\n",
       "      <td>9</td>\n",
       "      <td>0</td>\n",
       "      <td>5</td>\n",
       "      <td>0</td>\n",
       "      <td>5</td>\n",
       "      <td>0</td>\n",
       "      <td>0</td>\n",
       "      <td>0</td>\n",
       "      <td>0</td>\n",
       "      <td>1</td>\n",
       "      <td>36.0</td>\n",
       "      <td>1</td>\n",
       "      <td>1</td>\n",
       "      <td>0</td>\n",
       "      <td>1</td>\n",
       "      <td>0</td>\n",
       "      <td>0</td>\n",
       "      <td>0</td>\n",
       "      <td>0</td>\n",
       "      <td>0.29</td>\n",
       "      <td>-0.18</td>\n",
       "      <td>0.11</td>\n",
       "      <td>-0.18</td>\n",
       "      <td>-0.271</td>\n",
       "      <td>0.0</td>\n",
       "      <td>1.209</td>\n",
       "      <td>-0.328</td>\n",
       "      <td>0.0</td>\n",
       "      <td>0.356</td>\n",
       "      <td>-0.038</td>\n",
       "      <td>-0.218</td>\n",
       "    </tr>\n",
       "  </tbody>\n",
       "</table></div>"
      ],
      "text/plain": [
       "   player_name p_throws pitch_type  velo  spin_rate  spin_axis  pfx_x  pfx_z  \\\n",
       "0  Smith, Will        L         FF  92.3     2330.0      148.0  -8.28  16.56   \n",
       "1  Smith, Will        L         SL  80.6     2254.0      315.0   9.24   5.76   \n",
       "2  Smith, Will        L         CU  75.5     1940.0      328.0   7.80  -6.12   \n",
       "3  Smith, Will        L         CU  75.0     2017.0      330.0   8.28  -8.28   \n",
       "4  Smith, Will        L         FF  91.2     2281.0      143.0  -7.56  15.36   \n",
       "\n",
       "   bauer_units  effective_speed  release_pos_x  release_pos_z  \\\n",
       "0    25.243770             92.8          -1.40           6.80   \n",
       "1    27.965261             81.2          -1.60           6.64   \n",
       "2    25.695364             75.2          -1.46           6.88   \n",
       "3    26.893333             74.5          -1.53           6.83   \n",
       "4    25.010965             90.9          -1.49           6.66   \n",
       "\n",
       "   release_extension  release_pos_y  plate_x  plate_z type  balls  strikes  \\\n",
       "0                6.5          54.03     0.69     2.83    X      1        2   \n",
       "1                6.4          54.15     0.71     2.62    S      1        1   \n",
       "2                6.2          54.34     0.04     2.46    S      1        0   \n",
       "3                5.9          54.61    -2.10     3.89    B      0        0   \n",
       "4                6.3          54.15     0.31     2.80    X      1        0   \n",
       "\n",
       "  pitch_count  delta_run_exp stand      bb_type    description     events  \\\n",
       "0         1-2         -0.073     R  ground_ball  hit_into_play  field_out   \n",
       "1         1-1         -0.027     R          NaN         strike        NaN   \n",
       "2         1-0         -0.020     R          NaN         strike        NaN   \n",
       "3         0-0          0.016     R          NaN           ball        NaN   \n",
       "4         1-0         -0.189     L  ground_ball  hit_into_play  field_out   \n",
       "\n",
       "   hit_distance_sc  exit_velo  launch_angle  launch_speed_angle  woba_value  \\\n",
       "0             13.0       95.2         -13.0                 2.0         0.0   \n",
       "1            108.0       75.3          75.0                 NaN         NaN   \n",
       "2            157.0       83.5          65.0                 NaN         NaN   \n",
       "3              NaN        NaN           NaN                 NaN         NaN   \n",
       "4              9.0       93.3         -18.0                 2.0         0.0   \n",
       "\n",
       "   woba_denom    xba  xwoba  babip_value  iso_value  at_bat_number  \\\n",
       "0         1.0  0.174  0.158          0.0        0.0             61   \n",
       "1         NaN    NaN    NaN          NaN        NaN             61   \n",
       "2         NaN    NaN    NaN          NaN        NaN             61   \n",
       "3         NaN    NaN    NaN          NaN        NaN             61   \n",
       "4         1.0  0.100  0.090          0.0        0.0             60   \n",
       "\n",
       "   pitch_number  inning  inning_topbot  home_score  away_score  \\\n",
       "0             4       9              0           5           0   \n",
       "1             3       9              0           5           0   \n",
       "2             2       9              0           5           0   \n",
       "3             1       9              0           5           0   \n",
       "4             2       9              0           5           0   \n",
       "\n",
       "   post_home_score  post_away_score  on_1b  on_2b  on_3b  outs_when_up  \\\n",
       "0                5                0      0      0      0             2   \n",
       "1                5                0      0      0      0             2   \n",
       "2                5                0      0      0      0             2   \n",
       "3                5                0      0      0      0             2   \n",
       "4                5                0      0      0      0             1   \n",
       "\n",
       "   arm_angle  slot  is_strike  is_ball  final_pitch_ab  out_to_end_inning  \\\n",
       "0       36.0     1          1        0               1                  1   \n",
       "1       45.8     2          1        0               0                  0   \n",
       "2       38.4     1          1        0               0                  0   \n",
       "3       38.4     1          0        1               0                  0   \n",
       "4       36.0     1          1        0               1                  0   \n",
       "\n",
       "   home_runs  away_runs  runs    re  re_change  re_end_state  re24  \\\n",
       "0          0          0     0  0.11      -0.11          0.00 -0.11   \n",
       "1          0          0     0  0.11       0.00          0.11  0.00   \n",
       "2          0          0     0  0.11       0.00          0.11  0.00   \n",
       "3          0          0     0  0.11       0.00          0.11  0.00   \n",
       "4          0          0     0  0.29      -0.18          0.11 -0.18   \n",
       "\n",
       "   lin_weight_above_avg  lin_weight_above_outs  woba_scale  \\\n",
       "0                -0.271                    0.0       1.209   \n",
       "1                   NaN                    NaN       1.209   \n",
       "2                   NaN                    NaN       1.209   \n",
       "3                   NaN                    NaN       1.209   \n",
       "4                -0.271                    0.0       1.209   \n",
       "\n",
       "   lin_weights_above_avg_scale  lin_weights_above_outs_scale   woba  \\\n",
       "0                       -0.328                           0.0  0.222   \n",
       "1                        0.000                           0.0  0.300   \n",
       "2                        0.000                           0.0  0.356   \n",
       "3                        0.000                           0.0  0.314   \n",
       "4                       -0.328                           0.0  0.356   \n",
       "\n",
       "   wraa_change     rv  \n",
       "0       -0.152 -0.262  \n",
       "1       -0.053 -0.053  \n",
       "2       -0.038 -0.038  \n",
       "3        0.028  0.028  \n",
       "4       -0.038 -0.218  "
      ]
     },
     "execution_count": 2,
     "metadata": {},
     "output_type": "execute_result"
    }
   ],
   "source": [
    "data = pd.read_csv('../data/model-pitches-rv.csv', index_col = [0])\n",
    "data.drop(columns = ['plate_x', 'release_pos_x'], inplace = True)\n",
    "data.rename(columns = {'pfx_-x': 'pfx_x', \n",
    "                       'plate_-x': 'plate_x', \n",
    "                       'release_pos_-x': 'release_pos_x'}, \n",
    "            inplace = True)\n",
    "\n",
    "pd.set_option('max_columns', None)\n",
    "print(data.shape)\n",
    "data.head()"
   ]
  },
  {
   "cell_type": "markdown",
   "id": "fa5c37af",
   "metadata": {},
   "source": [
    "### Features\n",
    "\n",
    "**Independent Variables:** Velocity, Spin Rate, HB, VB, Release Side, Release Height, Arm Angle, Release Extension\n",
    "\n",
    "**Dependent Variable:** Run Value"
   ]
  },
  {
   "cell_type": "code",
   "execution_count": 7,
   "id": "d1050d6f",
   "metadata": {},
   "outputs": [],
   "source": [
    "features = data[['player_name', 'p_throws', 'pitch_type', 'velo', 'spin_rate', 'pfx_x', 'pfx_z', \n",
    "                 'release_pos_x', 'release_pos_z', 'rv']]"
   ]
  },
  {
   "cell_type": "code",
   "execution_count": 8,
   "id": "86bd6810",
   "metadata": {},
   "outputs": [],
   "source": [
    "fastball = features[features['pitch_type'].isin(['FF', 'FC', 'SI'])]\n",
    "breaking_ball = features[features['pitch_type'].isin(['SL', 'CU', 'KC'])]\n",
    "offspeed = features[features['pitch_type'].isin(['CH', 'FS'])]\n",
    "rhp = features.loc[features['p_throws'] == 'R']\n",
    "lhp = features.loc[features['p_throws'] == 'L']\n",
    "rhp_fastball = fastball.loc[fastball['p_throws'] == 'R']\n",
    "lhp_fastball = fastball.loc[fastball['p_throws'] == 'L']\n",
    "rhp_breaking_ball = breaking_ball.loc[breaking_ball['p_throws'] == 'R']\n",
    "lhp_breaking_ball = breaking_ball.loc[breaking_ball['p_throws'] == 'L']\n",
    "rhp_offspeed = offspeed.loc[offspeed['p_throws'] == 'R']\n",
    "lhp_offspeed = offspeed.loc[offspeed['p_throws'] == 'L']\n",
    "ff_r = rhp.loc[rhp['pitch_type'] == 'FF']\n",
    "ff_l = lhp.loc[lhp['pitch_type'] == 'FF']\n",
    "fc_r = rhp.loc[rhp['pitch_type'] == 'FC']\n",
    "fc_l = lhp.loc[lhp['pitch_type'] == 'FC']\n",
    "si_r = rhp.loc[rhp['pitch_type'] == 'SI']\n",
    "si_l = lhp.loc[lhp['pitch_type'] == 'SI']\n",
    "sl_r = rhp.loc[rhp['pitch_type'] == 'SL']\n",
    "sl_l = lhp.loc[lhp['pitch_type'] == 'SL']\n",
    "cu_r = rhp.loc[rhp['pitch_type'] == 'CU']\n",
    "cu_l = lhp.loc[lhp['pitch_type'] == 'CU']\n",
    "ch_r = rhp.loc[rhp['pitch_type'] == 'CH']\n",
    "ch_l = lhp.loc[lhp['pitch_type'] == 'CH']"
   ]
  },
  {
   "cell_type": "markdown",
   "id": "11f6154a",
   "metadata": {},
   "source": [
    "# Random Forest Regression Model"
   ]
  },
  {
   "cell_type": "markdown",
   "id": "8cdd6fb5",
   "metadata": {},
   "source": [
    "## Fastball RHP Grouped\n",
    "\n",
    "#### 4-Seam, Cutter, Sinker"
   ]
  },
  {
   "cell_type": "code",
   "execution_count": 9,
   "id": "1f6676ca",
   "metadata": {},
   "outputs": [
    {
     "name": "stdout",
     "output_type": "stream",
     "text": [
      "Baseline RHP Fastball RunValue Accuracy Score: -0.02\n"
     ]
    }
   ],
   "source": [
    "print('Baseline RHP Fastball RunValue Accuracy Score:', round(rhp_fastball.rv.mean(), 2))"
   ]
  },
  {
   "cell_type": "code",
   "execution_count": 10,
   "id": "803096d1",
   "metadata": {},
   "outputs": [
    {
     "name": "stdout",
     "output_type": "stream",
     "text": [
      "R2 Score: -0.04\n",
      "Test RMSE: 0.282\n",
      "Test MAE: 0.159 \n",
      "\n",
      "R2 Score: 0.632\n",
      "RMSE: 0.168\n",
      "MAE: 0.085\n"
     ]
    }
   ],
   "source": [
    "features_fastball_r = rhp_fastball.select_dtypes([np.number])\n",
    "X = features_fastball_r.drop(columns = ['rv'])\n",
    "y = features_fastball_r['rv']\n",
    "\n",
    "X_train, X_test, y_train, y_test = train_test_split(X, y, random_state = 1)\n",
    "\n",
    "rf = RandomForestRegressor(random_state = 1).fit(X_train, y_train)\n",
    "pred_fastball_r = rf.predict(X_test)\n",
    "pred = rf.predict(X)\n",
    "\n",
    "print('R2 Score:', round((metrics.r2_score(y_test, pred_fastball_r)), 3))\n",
    "print('Test RMSE:', round(np.sqrt(metrics.mean_squared_error(y_test, pred_fastball_r)), 3))\n",
    "print('Test MAE:', round(metrics.mean_absolute_error(y_test, pred_fastball_r), 3), '\\n')\n",
    "print('R2 Score:', round((metrics.r2_score(y, pred)), 3))\n",
    "print('RMSE:', round(np.sqrt(metrics.mean_squared_error(y, pred)), 3))\n",
    "print('MAE:', round(metrics.mean_absolute_error(y, pred), 3))"
   ]
  },
  {
   "cell_type": "markdown",
   "id": "c4385dad",
   "metadata": {},
   "source": [
    "### RV"
   ]
  },
  {
   "cell_type": "code",
   "execution_count": null,
   "id": "8e879181",
   "metadata": {},
   "outputs": [],
   "source": [
    "fastball_rhp = rhp_fastball.copy()\n",
    "fastball_rhp['xRV'] = pred\n",
    "fastball_rhp['xRV'] = round(fastball_rhp['xRV'], 3)\n",
    "rhp_fastball['FF_count'] = [1 if x == 'FF' else 0 for x in rhp_fastball['pitch_type']]\n",
    "rhp_fastball['SI_count'] = [1 if x == 'SI' else 0 for x in rhp_fastball['pitch_type']]\n",
    "rhp_fastball['FC_count'] = [1 if x == 'FC' else 0 for x in rhp_fastball['pitch_type']]\n",
    "\n",
    "feldman_ff = \n",
    "pred_feldman_ff = rf.predict(feldman_ff)\n",
    "columns = ['player_name', 'pitch_type', 'velo', 'spin_rate', 'HB', 'VB', 'release_pos_x', 'release_pos_z']\n",
    "feldman_rv = pd.DataFrame(data = feldman_ff, columns = columns)\n",
    "feldman_ff['xRV'] = pred_feldman_ff\n",
    "feldman_ff.head()"
   ]
  },
  {
   "cell_type": "code",
   "execution_count": null,
   "id": "af90eef5",
   "metadata": {},
   "outputs": [],
   "source": [
    "steinfort_ff = \n",
    "pred_steinfort_ff = rf.predict(steinfort_ff)\n",
    "steinfort_rv = pd.DataFrame(data = steinfort_ff, columns = columns)\n",
    "steinfort_ff['xRV'] = pred_steinfort_ff\n",
    "steinfort_ff.head()"
   ]
  },
  {
   "cell_type": "markdown",
   "id": "7820d23b",
   "metadata": {},
   "source": [
    "### RHP Fastball RV Table"
   ]
  },
  {
   "cell_type": "markdown",
   "id": "4e3e6f78",
   "metadata": {},
   "source": [
    "Velocity, Spin Rate, HB, VB, Release Side, Release Height, Arm Angle, Release Extension"
   ]
  },
  {
   "cell_type": "markdown",
   "id": "0b40e7d9",
   "metadata": {},
   "source": [
    "### RHP Fastball xRV by HB & VB"
   ]
  },
  {
   "cell_type": "code",
   "execution_count": null,
   "id": "ae280e52",
   "metadata": {},
   "outputs": [],
   "source": [
    "plt.figure(figsize = (8, 6))\n",
    "\n",
    "ax = plt.hexbin(rhp_fastball['pfx_x'], rhp_fastball['pfx_z'], C = rhp_fastball['xRV'], \n",
    "                cmap = 'coolwarm', mincnt = 20, gridsize = 10)\n",
    "sns.scatterplot(data = feldman_ff, x = 'HB', y = 'VB', cmap = 'coolwarm_r')\n",
    "plt.plot([0, 30], [0, 30], ls=\"-\", c=\".3\", label = 'FF Dead Zone')\n",
    "cb = plt.colorbar(ax, ticks = [-.2,-.1, 0, .1, .2], shrink = .6)\n",
    "cb.ax.set_title('xRV'), plt.clim(-.2, .2)\n",
    "plt.xlabel('HB'), plt.ylabel('VB'), plt.xlim(-30, 30), plt.ylim(-30, 30)\n",
    "plt.axhline(0, color = 'black', ls = '--'), plt.axvline(0, color = 'black', ls = '--'), plt.legend()\n",
    "plt.title('RHP Fastball xRV HB & VB Axis', fontsize = 14, fontweight = 'bold', pad = 15);"
   ]
  },
  {
   "cell_type": "code",
   "execution_count": 9,
   "id": "85a065e4",
   "metadata": {},
   "outputs": [
    {
     "name": "stdout",
     "output_type": "stream",
     "text": [
      "RHP Fastball Avg xRunValue: -0.02\n"
     ]
    },
    {
     "data": {
      "image/png": "[encoded data removed]",
      "text/plain": [
       "<Figure size 576x432 with 2 Axes>"
      ]
     },
     "metadata": {
      "needs_background": "light"
     },
     "output_type": "display_data"
    }
   ],
   "source": [
    "plt.figure(figsize = (8, 6))\n",
    "plt.hexbin(rhp_fastball['pfx_x'], rhp_fastball['pfx_z'], C = rhp_fastball['xRV'], cmap = 'coolwarm', \n",
    "           mincnt = 1, gridsize = 20)\n",
    "cb = plt.colorbar(ticks = [-.2,-.1, 0, .1, .2], shrink = .6)\n",
    "cb.ax.set_title('xRV'), plt.clim(-.2, .2)\n",
    "plt.xlabel('HB'), plt.ylabel('VB'), plt.xlim(-30, 30), plt.ylim(-30, 30)\n",
    "plt.axhline(0, color = 'black', ls = '--'), plt.axvline(0, color = 'black', ls = '--')\n",
    "plt.title('RHP Fastball xRV HB & VB Axis', fontsize = 14, fontweight = 'bold', pad = 15);\n",
    "print('RHP Fastball Avg xRunValue:', round(rhp_fastball.xRV.mean(), 2))"
   ]
  },
  {
   "cell_type": "markdown",
   "id": "11f5c470",
   "metadata": {},
   "source": [
    "## Breaking Ball RHP\n",
    "\n",
    "#### Slider, Curveball, Knuckle Curve"
   ]
  },
  {
   "cell_type": "code",
   "execution_count": 21,
   "id": "a93113cf",
   "metadata": {},
   "outputs": [
    {
     "name": "stdout",
     "output_type": "stream",
     "text": [
      "Baseline RHP Breaking Ball RunValue Accuracy Score: -0.04\n"
     ]
    }
   ],
   "source": [
    "print('Baseline RHP Breaking Ball RunValue Accuracy Score:', round(rhp_breaking_ball.rv.mean(), 2))"
   ]
  },
  {
   "cell_type": "code",
   "execution_count": 22,
   "id": "fe675009",
   "metadata": {},
   "outputs": [
    {
     "name": "stdout",
     "output_type": "stream",
     "text": [
      "R2 Test Score: -0.035\n",
      "Test RMSE: 0.275\n",
      "MAE: 0.158 \n",
      "\n",
      "R2 Score: 0.634\n",
      "Test RMSE: 0.164\n",
      "MAE: 0.084\n"
     ]
    }
   ],
   "source": [
    "features_bb_r = rhp_breaking_ball.select_dtypes([np.number])\n",
    "X = features_bb_r.drop(columns = ['rv'])\n",
    "y = features_bb_r['rv']\n",
    "\n",
    "X_train, X_test, y_train, y_test = train_test_split(X, y, random_state = 1)\n",
    "\n",
    "rf = RandomForestRegressor(random_state = 1).fit(X_train, y_train)\n",
    "pred_bb_r = rf.predict(X_test)\n",
    "pred = rf.predict(X)\n",
    "\n",
    "print('R2 Test Score:', round((metrics.r2_score(y_test, pred_bb_r)), 3))\n",
    "print('Test RMSE:', round(np.sqrt(metrics.mean_squared_error(y_test, pred_bb_r)), 3))\n",
    "print('MAE:', round(metrics.mean_absolute_error(y_test, pred_bb_r), 3), '\\n')\n",
    "print('R2 Score:', round((metrics.r2_score(y, pred)), 3))\n",
    "print('Test RMSE:', round(np.sqrt(metrics.mean_squared_error(y, pred)), 3))\n",
    "print('MAE:', round(metrics.mean_absolute_error(y, pred), 3))"
   ]
  },
  {
   "cell_type": "markdown",
   "id": "6b8a3054",
   "metadata": {},
   "source": [
    "### RHP Breaking Ball RV"
   ]
  },
  {
   "cell_type": "code",
   "execution_count": null,
   "id": "042f6a32",
   "metadata": {},
   "outputs": [],
   "source": [
    "rhp_bb = rhp_breaking_ball.copy()\n",
    "rhp_bb['xRV'] = pred\n",
    "rhp_bb['xRV'] = round(rhp_bb['xRV'], 3)\n",
    "rhp_bb['SL_count'] = [1 if x == 'SL' else 0 for x in rhp_fastball['pitch_type']]\n",
    "rhp_bb['CU_count'] = [1 if x == 'CU' else 0 for x in rhp_fastball['pitch_type']]\n",
    "rhp_bb['KC_count'] = [1 if x == 'KC' else 0 for x in rhp_fastball['pitch_type']]\n",
    "\n",
    "feldman_bb = \n",
    "pred_feldman_bb = rf.predict(feldman_bb)\n",
    "#columns = ['player_name', 'pitch_type', 'velo', 'spin_rate', 'HB', 'VB', 'release_pos_x', 'release_pos_z']\n",
    "feldman_rv_bb = pd.DataFrame(data = feldman_bb, columns = columns)\n",
    "feldman_bb['xRV'] = pred_feldman_bb\n",
    "feldman_bb.head()"
   ]
  },
  {
   "cell_type": "code",
   "execution_count": null,
   "id": "ebd683e1",
   "metadata": {},
   "outputs": [],
   "source": [
    "steinfort_bb = \n",
    "pred_steinfort_bb = rf.predict(steinfort_bb)\n",
    "steinfort_rv_bb = pd.DataFrame(data = steinfort_bb, columns = columns)\n",
    "steinfort_bb['xRV'] = pred_steinfort_bb\n",
    "steinfort_bb.head()"
   ]
  },
  {
   "cell_type": "markdown",
   "id": "48b5f49a",
   "metadata": {},
   "source": [
    "### RHP Breaking Ball xRV by HB & VB"
   ]
  },
  {
   "cell_type": "code",
   "execution_count": 25,
   "id": "22fb63cc",
   "metadata": {},
   "outputs": [
    {
     "name": "stdout",
     "output_type": "stream",
     "text": [
      "RHP Breaking Ball Avg xRunValue: -0.04\n"
     ]
    },
    {
     "data": {
      "image/png": "[encoded data removed]",
      "text/plain": [
       "<Figure size 576x432 with 2 Axes>"
      ]
     },
     "metadata": {
      "needs_background": "light"
     },
     "output_type": "display_data"
    }
   ],
   "source": [
    "plt.figure(figsize = (8, 6))\n",
    "\n",
    "ax = plt.hexbin(rhp_breaking_ball['pfx_x'], rhp_breaking_ball['pfx_z'], C = rhp_breaking_ball['xRV'],\n",
    "                cmap='coolwarm', mincnt = 1, gridsize = 20)\n",
    "sns.scatterplot(data = feldman_ff, x = 'HB', y = 'VB', cmap = 'coolwarm_r')\n",
    "cb = plt.colorbar(ax, ticks = [-.2,-.1, 0, .1, .2], shrink = .6)\n",
    "cb.ax.set_title('xRV'), plt.clim(-.2, .2)\n",
    "plt.xlabel('HB'), plt.ylabel('VB'), plt.xlim(-30, 30), plt.ylim(-30, 30)\n",
    "plt.axhline(0, color = 'black', ls = '--'), plt.axvline(0, color = 'black', ls = '--')\n",
    "plt.title('RHP Breaking Ball xRV HB & VB Axis', fontsize = 14, fontweight = 'bold', pad = 15);"
   ]
  },
  {
   "cell_type": "markdown",
   "id": "86ec1113",
   "metadata": {},
   "source": [
    "## Off-Speed RHP\n",
    "\n",
    "#### Changeup, Splitter"
   ]
  },
  {
   "cell_type": "code",
   "execution_count": 37,
   "id": "a8895c07",
   "metadata": {},
   "outputs": [
    {
     "name": "stdout",
     "output_type": "stream",
     "text": [
      "Baseline RHP Off-Speed RunValue Accuracy Score: -0.04\n"
     ]
    }
   ],
   "source": [
    "print('Baseline RHP Off-Speed RunValue Accuracy Score:', round(rhp_offspeed.rv.mean(), 2))"
   ]
  },
  {
   "cell_type": "code",
   "execution_count": 38,
   "id": "8a8ac50c",
   "metadata": {},
   "outputs": [
    {
     "name": "stdout",
     "output_type": "stream",
     "text": [
      "R2 Score: -0.037\n",
      "Test RMSE: 0.282\n",
      "Test MAE: 0.166 \n",
      "\n",
      "R2 Score: 0.632\n",
      "RMSE: 0.168\n",
      "MAE: 0.089\n"
     ]
    }
   ],
   "source": [
    "features_os_r = rhp_offspeed.select_dtypes([np.number])\n",
    "X = features_os_r.drop(columns = ['rv'])\n",
    "y = features_os_r['rv']\n",
    "\n",
    "X_train, X_test, y_train, y_test = train_test_split(X, y, random_state = 1)\n",
    "\n",
    "rf = RandomForestRegressor(random_state = 1).fit(X_train, y_train)\n",
    "pred_os_r = rf.predict(X_test)\n",
    "pred = rf.predict(X)\n",
    "\n",
    "print('R2 Score:', round((metrics.r2_score(y_test, pred_os_r)), 3))\n",
    "print('Test RMSE:', round(np.sqrt(metrics.mean_squared_error(y_test, pred_os_r)), 3))\n",
    "print('Test MAE:', round(metrics.mean_absolute_error(y_test, pred_os_r), 3), '\\n')\n",
    "print('R2 Score:', round((metrics.r2_score(y, pred)), 3))\n",
    "print('RMSE:', round(np.sqrt(metrics.mean_squared_error(y, pred)), 3))\n",
    "print('MAE:', round(metrics.mean_absolute_error(y, pred), 3))"
   ]
  },
  {
   "cell_type": "markdown",
   "id": "7c7a5e1d",
   "metadata": {},
   "source": [
    "### RHP OS RV"
   ]
  },
  {
   "cell_type": "code",
   "execution_count": null,
   "id": "d3ad60ef",
   "metadata": {},
   "outputs": [],
   "source": [
    "rhp_os = rhp_os.copy()\n",
    "rhp_os['xRV'] = pred\n",
    "rhp_os['xRV'] = round(rhp_os['xRV'], 3)\n",
    "rhp_os['SL_count'] = [1 if x == 'CH' else 0 for x in rhp_os['pitch_type']]\n",
    "rhp_os['CU_count'] = [1 if x == 'FS' else 0 for x in rhp_os['pitch_type']]\n",
    "\n",
    "feldman_os = \n",
    "pred_feldman_os = rf.predict(feldman_os)\n",
    "#columns = ['player_name', 'pitch_type', 'velo', 'spin_rate', 'HB', 'VB', 'release_pos_x', 'release_pos_z']\n",
    "feldman_rv_os = pd.DataFrame(data = feldman_os, columns = columns)\n",
    "feldman_os['xRV'] = pred_feldman_os\n",
    "feldman_os.head()"
   ]
  },
  {
   "cell_type": "code",
   "execution_count": null,
   "id": "b8202338",
   "metadata": {},
   "outputs": [],
   "source": [
    "steinfort_os = \n",
    "pred_steinfort_os = rf.predict(steinfort_os)\n",
    "steinfort_rv_os = pd.DataFrame(data = steinfort_os, columns = columns)\n",
    "steinfort_os['xRV'] = pred_steinfort_os\n",
    "steinfort_os.head()"
   ]
  },
  {
   "cell_type": "markdown",
   "id": "4091ba4e",
   "metadata": {},
   "source": [
    "### RHP Off-Speed xRV by HB & VB"
   ]
  },
  {
   "cell_type": "code",
   "execution_count": 41,
   "id": "e423aa1b",
   "metadata": {},
   "outputs": [
    {
     "name": "stdout",
     "output_type": "stream",
     "text": [
      "RHP Off-Speed Avg xRunValue: -0.03\n"
     ]
    },
    {
     "data": {
      "image/png": "[encoded data removed]",
      "text/plain": [
       "<Figure size 576x432 with 2 Axes>"
      ]
     },
     "metadata": {
      "needs_background": "light"
     },
     "output_type": "display_data"
    }
   ],
   "source": [
    "plt.figure(figsize = (8, 6))\n",
    "\n",
    "ax = plt.hexbin(rhp_os['pfx_x'], rhp_os['pfx_z'], C = rhp_os['xRV'], cmap = 'coolwarm', \n",
    "           mincnt = 1, gridsize = 20)\n",
    "sns.scatterplot(data = feldman_os, x = 'HB', y = 'VB', hue = 'xRV', cmap = 'coolwarm_r')\n",
    "cb = plt.colorbar(ax, ticks = [-.2,-.1, 0, .1, .2], shrink = .6)\n",
    "cb.ax.set_title('xRV'), plt.clim(-.2, .2)\n",
    "plt.xlabel('HB'), plt.ylabel('VB'), plt.xlim(-30, 30), plt.ylim(-30, 30)\n",
    "plt.axhline(0, color = 'black', ls = '--'), plt.axvline(0, color = 'black', ls = '--')\n",
    "plt.title('Feldman Off-Speed xRV HB & VB Axis', fontsize = 14, fontweight = 'bold', pad = 15);\n",
    "print('RHP Off-Speed Avg xRunValue:', round(rhp_offspeed.xRV.mean(), 2))"
   ]
  },
  {
   "cell_type": "code",
   "execution_count": null,
   "id": "6158fd7f",
   "metadata": {},
   "outputs": [],
   "source": [
    "plt.figure(figsize = (8, 6))\n",
    "\n",
    "ax = plt.hexbin(rhp_os['pfx_x'], rhp_os['pfx_z'], C = rhp_os['xRV'], cmap = 'coolwarm', \n",
    "           mincnt = 1, gridsize = 20)\n",
    "sns.scatterplot(data = steinfort_os, x = 'HB', y = 'VB', hue = 'xRV', cmap = 'coolwarm_r')\n",
    "cb = plt.colorbar(ax, ticks = [-.2,-.1, 0, .1, .2], shrink = .6)\n",
    "cb.ax.set_title('xRV'), plt.clim(-.2, .2)\n",
    "plt.xlabel('HB'), plt.ylabel('VB'), plt.xlim(-30, 30), plt.ylim(-30, 30)\n",
    "plt.axhline(0, color = 'black', ls = '--'), plt.axvline(0, color = 'black', ls = '--')\n",
    "plt.title('RHP Off-Speed xRV HB & VB Axis', fontsize = 14, fontweight = 'bold', pad = 15);\n",
    "print('Steinfort Off-Speed Avg xRunValue:', round(rhp_offspeed.xRV.mean(), 2))"
   ]
  }
 ],
 "metadata": {
  "kernelspec": {
   "display_name": "Python 3",
   "language": "python",
   "name": "python3"
  },
  "language_info": {
   "codemirror_mode": {
    "name": "ipython",
    "version": 3
   },
   "file_extension": ".py",
   "mimetype": "text/x-python",
   "name": "python",
   "nbconvert_exporter": "python",
   "pygments_lexer": "ipython3",
   "version": "3.8.8"
  }
 },
 "nbformat": 4,
 "nbformat_minor": 5
}
