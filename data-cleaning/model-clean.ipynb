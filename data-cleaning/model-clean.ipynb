{
 "cells": [
  {
   "cell_type": "code",
   "execution_count": 1,
   "id": "6d462188",
   "metadata": {},
   "outputs": [],
   "source": [
    "# Clean data for modeling\n",
    "\n",
    "pitch = pd.read_csv('../data/mlb-pitches.csv', index_col = [0])\n",
    "pitch = pitch[['player_name', 'p_throws', 'pitch_type','release_speed', 'release_spin_rate', 'spin_axis', \n",
    "               'pfx_-x', 'pfx_z', 'bauer_units', 'effective_speed', 'release_pos_x', 'release_pos_z', \n",
    "               'release_extension', 'release_pos_y', 'plate_-x', 'plate_x', 'plate_z', 'type', 'balls', \n",
    "               'strikes', 'delta_run_exp', 'stand', 'description', 'events', 'hit_distance_sc', 'launch_speed', \n",
    "               'launch_angle', 'launch_speed_angle', 'estimated_ba_using_speedangle', \n",
    "               'estimated_woba_using_speedangle', 'woba_value', 'woba_denom', 'babip_value', 'iso_value',\n",
    "               'at_bat_number', 'pitch_number', 'inning', 'inning_topbot', 'home_score', 'away_score', \n",
    "               'post_home_score', 'post_away_score', 'on_1b', 'on_2b', 'on_3b', 'outs_when_up']].copy()\n",
    "\n",
    "#Rename some columns\n",
    "col_dict = {\n",
    "    'release_speed': 'velo',\n",
    "    'release_spin_rate': 'spin_rate',\n",
    "    'launch_speed': 'exit_velo',\n",
    "    'estimated_ba_using_speedangle': 'xba',\n",
    "    'estimated_woba_using_speedangle': 'xwobacon'\n",
    "}\n",
    "pitch.rename(columns = col_dict, inplace = True)\n",
    "pitch.to_csv('../data/model-pitches.csv')"
   ]
  },
  {
   "cell_type": "code",
   "execution_count": 2,
   "id": "75f7e68d",
   "metadata": {},
   "outputs": [],
   "source": [
    "# Run Expectany Table\n",
    "matrix = [[0, 0, 0, 0, 0.481], [1, 0, 0, 0, 0.859], [0, 1, 0, 0, 1.100], [1, 1, 0, 0, 1.437], \n",
    "          [0, 0, 1, 0, 1.350], [1, 0, 1, 0, 1.784], [0, 1, 1, 0, 1.964], [1, 1, 1, 0, 2.292], \n",
    "          [0, 0, 0, 1, 0.254], [1, 0, 0, 1, 0.509], [0, 1, 0, 1, 0.664], [1, 1, 0, 1, 0.884], \n",
    "          [0, 0, 1, 1, 0.950], [1, 0, 1, 1, 1.130], [0, 1, 1, 1, 1.376], [1, 1, 1, 1, 1.541],\n",
    "          [0, 0, 0, 2, 0.098], [1, 0, 0, 2, 0.224], [0, 1, 0, 2, 0.319], [1, 1, 0, 2, 0.429], \n",
    "          [0, 0, 1, 2, 0.353], [1, 0, 1, 2, 0.478], [0, 1, 1, 2, 0.580], [1, 1, 1, 2, 0.752]]\n",
    "\n",
    "re = pd.DataFrame(matrix, columns = ['on_1b', 'on_2b', 'on_3b', 'outs_when_up', 're'])\n",
    "re.to_csv('../data/run_expectancy_table.csv')"
   ]
  }
 ],
 "metadata": {
  "kernelspec": {
   "display_name": "Python 3",
   "language": "python",
   "name": "python3"
  },
  "language_info": {
   "codemirror_mode": {
    "name": "ipython",
    "version": 3
   },
   "file_extension": ".py",
   "mimetype": "text/x-python",
   "name": "python",
   "nbconvert_exporter": "python",
   "pygments_lexer": "ipython3",
   "version": "3.8.8"
  }
 },
 "nbformat": 4,
 "nbformat_minor": 5
}
