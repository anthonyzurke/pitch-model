{
 "cells": [
  {
   "cell_type": "code",
   "execution_count": null,
   "id": "fce1f292",
   "metadata": {},
   "outputs": [],
   "source": [
    "pd.set_option('max_columns', None)\n",
    "\n",
    "arsenal = pd.read_csv('../data/pitch-arsenal-stats.csv')\n",
    "arsenal = arsenal.sort_values(by = ['last_name'], ascending = True)\n",
    "#print(arsenal.shape)\n",
    "\n",
    "spin = pd.read_csv('../data/spin-direction-pitches.csv')\n",
    "spin.drop(columns = ['year', 'hawkeye_measured_clock_minutes', 'movement_inferred_clock_minutes'], inplace = True)\n",
    "spin = spin.sort_values(by = ['last_name'], ascending = True)\n",
    "spin.rename(columns={'api_pitch_type': 'pitch_type', 'api_pitch_name': 'pitch_name'}, inplace=True)\n",
    "#print(spin.shape)\n",
    "\n",
    "df = pd.merge(arsenal, spin, how = 'inner', on = ['player_id', 'pitch_type', 'pitch_type'])\n",
    "df.drop_duplicates(subset = ['player_id', 'pitch_type'], inplace = True)\n",
    "df = df[['last_name_x', 'last_name_y', ' first_name_x', 'player_id', 'pitch_hand',\n",
    "         'pitch_type', 'pitch_name_x', 'pitch_name_y', 'pitches', 'n_pitches', 'pitch_usage',\n",
    "         'release_speed', 'spin_rate', 'movement_inches', 'active_spin_formatted', 'alan_active_spin_pct', \n",
    "         'active_spin', 'hawkeye_measured', 'movement_inferred', 'diff_measured_inferred', 'diff2', \n",
    "         'run_value_per_100', 'run_value', 'pa', 'ba', 'slg', 'woba', 'whiff_percent', 'k_percent', \n",
    "         'put_away', 'est_ba', 'est_slg', 'est_woba', 'hard_hit_percent', 'diff_measured_inferred_minutes', \n",
    "         'hawkeye_measured_clock_hh', 'hawkeye_measured_clock_mm', 'movement_inferred_clock_hh', \n",
    "         'movement_inferred_clock_mm', 'diff_clock_hh', 'diff_clock_mm', 'hawkeye_measured_clock_label', \n",
    "         'movement_inferred_clock_label', 'diff_clock_label', 'team_name_alt']]\n",
    "\n",
    "df['bauer_units'] = df['spin_rate'] / df['release_speed']\n",
    "#print(df.shape)\n",
    "\n",
    "col_dict = {\n",
    "    'active_spin_formatted': 'spin_eff%', \n",
    "}\n",
    "\n",
    "df.rename(columns = col_dict, inplace = True)\n",
    "df.to_csv('../data/arsenal-spin.csv')"
   ]
  }
 ],
 "metadata": {
  "kernelspec": {
   "display_name": "Python 3",
   "language": "python",
   "name": "python3"
  },
  "language_info": {
   "codemirror_mode": {
    "name": "ipython",
    "version": 3
   },
   "file_extension": ".py",
   "mimetype": "text/x-python",
   "name": "python",
   "nbconvert_exporter": "python",
   "pygments_lexer": "ipython3",
   "version": "3.8.8"
  }
 },
 "nbformat": 4,
 "nbformat_minor": 5
}
