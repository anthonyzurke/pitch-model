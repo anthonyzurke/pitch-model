{
 "cells": [
  {
   "cell_type": "markdown",
   "id": "426268f7",
   "metadata": {},
   "source": [
    "# Notebook Contents\n",
    "\n",
    "- [Imports](#Imports)\n",
    "- [Data](#Data)\n",
    "- [Preprocessing](#Preprocessing)\n",
    "    - [Multicolinearity - VIF](#Multicolinearity---VIF)\n",
    "- [Clustering](#Clustering)\n",
    "    - [4-Seam Fastball](#4-Seam-Fastball)\n",
    "        - [4-Seam Cluster Label](#Cluster-Labels---4-Seam)\n",
    "    - [Slider](#Slider)\n",
    "        - [Slider Cluster Label](#Cluster-Labels---Slider)\n",
    "    - [Changeup](#Changeup)\n",
    "        - [Changeup Cluster Label](#Cluster-Labels---Changeup)\n",
    "    - [Cutter](#Cutter)\n",
    "        - [Cutter Cluster Label](#Cluster-Labels---Cutter)"
   ]
  },
  {
   "cell_type": "markdown",
   "id": "9a8c2c47",
   "metadata": {},
   "source": [
    "# Imports"
   ]
  },
  {
   "cell_type": "code",
   "execution_count": 1,
   "id": "3b41894e",
   "metadata": {},
   "outputs": [],
   "source": [
    "from statsmodels.stats.outliers_influence import variance_inflation_factor\n",
    "from sklearn.preprocessing import StandardScaler\n",
    "from sklearn.decomposition import PCA\n",
    "from sklearn.cluster import KMeans, k_means\n",
    "import statsmodels.api as sm\n",
    "from sklearn.linear_model import LinearRegression\n",
    "from sklearn.metrics import silhouette_score, silhouette_samples\n",
    "from sklearn.feature_selection import SelectKBest\n",
    "from sklearn import metrics\n",
    "from sklearn.model_selection import train_test_split, cross_val_score\n",
    "\n",
    "import warnings\n",
    "warnings.filterwarnings('ignore')"
   ]
  },
  {
   "cell_type": "markdown",
   "id": "7a31fda9",
   "metadata": {},
   "source": [
    "# Data"
   ]
  },
  {
   "cell_type": "code",
   "execution_count": 2,
   "id": "40799b48",
   "metadata": {},
   "outputs": [
    {
     "name": "stdout",
     "output_type": "stream",
     "text": [
      "(680887, 27)\n"
     ]
    },
    {
     "data": {
      "text/html": [
       "<div>\n",
       "<style scoped>\n",
       "    .dataframe tbody tr th:only-of-type {\n",
       "        vertical-align: middle;\n",
       "    }\n",
       "\n",
       "    .dataframe tbody tr th {\n",
       "        vertical-align: top;\n",
       "    }\n",
       "\n",
       "    .dataframe thead th {\n",
       "        text-align: right;\n",
       "    }\n",
       "</style>\n",
       "<table border=\"1\" class=\"dataframe\">\n",
       "  <thead>\n",
       "    <tr style=\"text-align: right;\">\n",
       "      <th></th>\n",
       "      <th>pitch_type</th>\n",
       "      <th>velo</th>\n",
       "      <th>spin_rate</th>\n",
       "      <th>spin_axis</th>\n",
       "      <th>pfx_-x</th>\n",
       "      <th>pfx_z</th>\n",
       "      <th>bauer_units</th>\n",
       "      <th>effective_speed</th>\n",
       "      <th>release_pos_x</th>\n",
       "      <th>release_pos_z</th>\n",
       "      <th>release_extension</th>\n",
       "      <th>release_pos_y</th>\n",
       "      <th>plate_-x</th>\n",
       "      <th>plate_x</th>\n",
       "      <th>plate_z</th>\n",
       "      <th>swing_miss</th>\n",
       "      <th>delta_run_exp</th>\n",
       "      <th>hit_distance_sc</th>\n",
       "      <th>exit_velo</th>\n",
       "      <th>launch_angle</th>\n",
       "      <th>launch_speed_angle</th>\n",
       "      <th>estimated_ba_using_speedangle</th>\n",
       "      <th>estimated_woba_using_speedangle</th>\n",
       "      <th>woba_value</th>\n",
       "      <th>woba_denom</th>\n",
       "      <th>babip_value</th>\n",
       "      <th>iso_value</th>\n",
       "    </tr>\n",
       "  </thead>\n",
       "  <tbody>\n",
       "    <tr>\n",
       "      <th>0</th>\n",
       "      <td>FF</td>\n",
       "      <td>92.3</td>\n",
       "      <td>2330.0</td>\n",
       "      <td>148.0</td>\n",
       "      <td>-8.28</td>\n",
       "      <td>16.56</td>\n",
       "      <td>25.243770</td>\n",
       "      <td>92.8</td>\n",
       "      <td>1.40</td>\n",
       "      <td>6.80</td>\n",
       "      <td>6.5</td>\n",
       "      <td>54.03</td>\n",
       "      <td>0.69</td>\n",
       "      <td>-0.69</td>\n",
       "      <td>2.83</td>\n",
       "      <td>0</td>\n",
       "      <td>-0.073</td>\n",
       "      <td>13.0</td>\n",
       "      <td>95.2</td>\n",
       "      <td>-13.0</td>\n",
       "      <td>2.0</td>\n",
       "      <td>0.174</td>\n",
       "      <td>0.158</td>\n",
       "      <td>0.0</td>\n",
       "      <td>1.0</td>\n",
       "      <td>0.0</td>\n",
       "      <td>0.0</td>\n",
       "    </tr>\n",
       "    <tr>\n",
       "      <th>1</th>\n",
       "      <td>SL</td>\n",
       "      <td>80.6</td>\n",
       "      <td>2254.0</td>\n",
       "      <td>315.0</td>\n",
       "      <td>9.24</td>\n",
       "      <td>5.76</td>\n",
       "      <td>27.965261</td>\n",
       "      <td>81.2</td>\n",
       "      <td>1.60</td>\n",
       "      <td>6.64</td>\n",
       "      <td>6.4</td>\n",
       "      <td>54.15</td>\n",
       "      <td>0.71</td>\n",
       "      <td>-0.71</td>\n",
       "      <td>2.62</td>\n",
       "      <td>0</td>\n",
       "      <td>-0.027</td>\n",
       "      <td>108.0</td>\n",
       "      <td>75.3</td>\n",
       "      <td>75.0</td>\n",
       "      <td>0.0</td>\n",
       "      <td>0.000</td>\n",
       "      <td>0.000</td>\n",
       "      <td>0.0</td>\n",
       "      <td>0.0</td>\n",
       "      <td>0.0</td>\n",
       "      <td>0.0</td>\n",
       "    </tr>\n",
       "    <tr>\n",
       "      <th>2</th>\n",
       "      <td>CU</td>\n",
       "      <td>75.5</td>\n",
       "      <td>1940.0</td>\n",
       "      <td>328.0</td>\n",
       "      <td>7.80</td>\n",
       "      <td>-6.12</td>\n",
       "      <td>25.695364</td>\n",
       "      <td>75.2</td>\n",
       "      <td>1.46</td>\n",
       "      <td>6.88</td>\n",
       "      <td>6.2</td>\n",
       "      <td>54.34</td>\n",
       "      <td>0.04</td>\n",
       "      <td>-0.04</td>\n",
       "      <td>2.46</td>\n",
       "      <td>0</td>\n",
       "      <td>-0.020</td>\n",
       "      <td>157.0</td>\n",
       "      <td>83.5</td>\n",
       "      <td>65.0</td>\n",
       "      <td>0.0</td>\n",
       "      <td>0.000</td>\n",
       "      <td>0.000</td>\n",
       "      <td>0.0</td>\n",
       "      <td>0.0</td>\n",
       "      <td>0.0</td>\n",
       "      <td>0.0</td>\n",
       "    </tr>\n",
       "    <tr>\n",
       "      <th>3</th>\n",
       "      <td>CU</td>\n",
       "      <td>75.0</td>\n",
       "      <td>2017.0</td>\n",
       "      <td>330.0</td>\n",
       "      <td>8.28</td>\n",
       "      <td>-8.28</td>\n",
       "      <td>26.893333</td>\n",
       "      <td>74.5</td>\n",
       "      <td>1.53</td>\n",
       "      <td>6.83</td>\n",
       "      <td>5.9</td>\n",
       "      <td>54.61</td>\n",
       "      <td>-2.10</td>\n",
       "      <td>2.10</td>\n",
       "      <td>3.89</td>\n",
       "      <td>0</td>\n",
       "      <td>0.016</td>\n",
       "      <td>0.0</td>\n",
       "      <td>0.0</td>\n",
       "      <td>0.0</td>\n",
       "      <td>0.0</td>\n",
       "      <td>0.000</td>\n",
       "      <td>0.000</td>\n",
       "      <td>0.0</td>\n",
       "      <td>0.0</td>\n",
       "      <td>0.0</td>\n",
       "      <td>0.0</td>\n",
       "    </tr>\n",
       "    <tr>\n",
       "      <th>4</th>\n",
       "      <td>FF</td>\n",
       "      <td>91.2</td>\n",
       "      <td>2281.0</td>\n",
       "      <td>143.0</td>\n",
       "      <td>-7.56</td>\n",
       "      <td>15.36</td>\n",
       "      <td>25.010965</td>\n",
       "      <td>90.9</td>\n",
       "      <td>1.49</td>\n",
       "      <td>6.66</td>\n",
       "      <td>6.3</td>\n",
       "      <td>54.15</td>\n",
       "      <td>0.31</td>\n",
       "      <td>-0.31</td>\n",
       "      <td>2.80</td>\n",
       "      <td>0</td>\n",
       "      <td>-0.189</td>\n",
       "      <td>9.0</td>\n",
       "      <td>93.3</td>\n",
       "      <td>-18.0</td>\n",
       "      <td>2.0</td>\n",
       "      <td>0.100</td>\n",
       "      <td>0.090</td>\n",
       "      <td>0.0</td>\n",
       "      <td>1.0</td>\n",
       "      <td>0.0</td>\n",
       "      <td>0.0</td>\n",
       "    </tr>\n",
       "  </tbody>\n",
       "</table>\n",
       "</div>"
      ],
      "text/plain": [
       "  pitch_type  velo  spin_rate  spin_axis  pfx_-x  pfx_z  bauer_units  \\\n",
       "0         FF  92.3     2330.0      148.0   -8.28  16.56    25.243770   \n",
       "1         SL  80.6     2254.0      315.0    9.24   5.76    27.965261   \n",
       "2         CU  75.5     1940.0      328.0    7.80  -6.12    25.695364   \n",
       "3         CU  75.0     2017.0      330.0    8.28  -8.28    26.893333   \n",
       "4         FF  91.2     2281.0      143.0   -7.56  15.36    25.010965   \n",
       "\n",
       "   effective_speed  release_pos_x  release_pos_z  release_extension  \\\n",
       "0             92.8           1.40           6.80                6.5   \n",
       "1             81.2           1.60           6.64                6.4   \n",
       "2             75.2           1.46           6.88                6.2   \n",
       "3             74.5           1.53           6.83                5.9   \n",
       "4             90.9           1.49           6.66                6.3   \n",
       "\n",
       "   release_pos_y  plate_-x  plate_x  plate_z  swing_miss  delta_run_exp  \\\n",
       "0          54.03      0.69    -0.69     2.83           0         -0.073   \n",
       "1          54.15      0.71    -0.71     2.62           0         -0.027   \n",
       "2          54.34      0.04    -0.04     2.46           0         -0.020   \n",
       "3          54.61     -2.10     2.10     3.89           0          0.016   \n",
       "4          54.15      0.31    -0.31     2.80           0         -0.189   \n",
       "\n",
       "   hit_distance_sc  exit_velo  launch_angle  launch_speed_angle  \\\n",
       "0             13.0       95.2         -13.0                 2.0   \n",
       "1            108.0       75.3          75.0                 0.0   \n",
       "2            157.0       83.5          65.0                 0.0   \n",
       "3              0.0        0.0           0.0                 0.0   \n",
       "4              9.0       93.3         -18.0                 2.0   \n",
       "\n",
       "   estimated_ba_using_speedangle  estimated_woba_using_speedangle  woba_value  \\\n",
       "0                          0.174                            0.158         0.0   \n",
       "1                          0.000                            0.000         0.0   \n",
       "2                          0.000                            0.000         0.0   \n",
       "3                          0.000                            0.000         0.0   \n",
       "4                          0.100                            0.090         0.0   \n",
       "\n",
       "   woba_denom  babip_value  iso_value  \n",
       "0         1.0          0.0        0.0  \n",
       "1         0.0          0.0        0.0  \n",
       "2         0.0          0.0        0.0  \n",
       "3         0.0          0.0        0.0  \n",
       "4         1.0          0.0        0.0  "
      ]
     },
     "execution_count": 2,
     "metadata": {},
     "output_type": "execute_result"
    }
   ],
   "source": [
    "data = pd.read_csv('../data/model-pitches.csv')\n",
    "data.drop(columns = ['Unnamed: 0'], inplace = True) \n",
    "data.dropna(inplace = True)\n",
    "\n",
    "pd.set_option('max_columns', None)\n",
    "print(data.shape)\n",
    "data.head(5)"
   ]
  },
  {
   "cell_type": "markdown",
   "id": "6de88ec9",
   "metadata": {},
   "source": [
    "Pitch Types:\n",
    "\n",
    "4-Seam, Cutter, Sinker, Slider, Curveball, Changeup"
   ]
  },
  {
   "cell_type": "markdown",
   "id": "8674541e",
   "metadata": {},
   "source": [
    "# Preprocessing"
   ]
  },
  {
   "cell_type": "markdown",
   "id": "4682dbc5",
   "metadata": {},
   "source": [
    "### Multicolinearity - VIF"
   ]
  },
  {
   "cell_type": "code",
   "execution_count": 3,
   "id": "62e20f9a",
   "metadata": {},
   "outputs": [
    {
     "data": {
      "text/html": [
       "<div>\n",
       "<style scoped>\n",
       "    .dataframe tbody tr th:only-of-type {\n",
       "        vertical-align: middle;\n",
       "    }\n",
       "\n",
       "    .dataframe tbody tr th {\n",
       "        vertical-align: top;\n",
       "    }\n",
       "\n",
       "    .dataframe thead th {\n",
       "        text-align: right;\n",
       "    }\n",
       "</style>\n",
       "<table border=\"1\" class=\"dataframe\">\n",
       "  <thead>\n",
       "    <tr style=\"text-align: right;\">\n",
       "      <th></th>\n",
       "      <th>feature</th>\n",
       "      <th>VIF</th>\n",
       "    </tr>\n",
       "  </thead>\n",
       "  <tbody>\n",
       "    <tr>\n",
       "      <th>14</th>\n",
       "      <td>swing_miss</td>\n",
       "      <td>1.436037e+00</td>\n",
       "    </tr>\n",
       "    <tr>\n",
       "      <th>7</th>\n",
       "      <td>release_pos_x</td>\n",
       "      <td>1.711329e+00</td>\n",
       "    </tr>\n",
       "    <tr>\n",
       "      <th>18</th>\n",
       "      <td>launch_angle</td>\n",
       "      <td>2.512807e+00</td>\n",
       "    </tr>\n",
       "    <tr>\n",
       "      <th>3</th>\n",
       "      <td>pfx_-x</td>\n",
       "      <td>3.458728e+00</td>\n",
       "    </tr>\n",
       "    <tr>\n",
       "      <th>15</th>\n",
       "      <td>delta_run_exp</td>\n",
       "      <td>3.935160e+00</td>\n",
       "    </tr>\n",
       "    <tr>\n",
       "      <th>24</th>\n",
       "      <td>babip_value</td>\n",
       "      <td>5.173555e+00</td>\n",
       "    </tr>\n",
       "    <tr>\n",
       "      <th>17</th>\n",
       "      <td>exit_velo</td>\n",
       "      <td>5.178644e+00</td>\n",
       "    </tr>\n",
       "    <tr>\n",
       "      <th>23</th>\n",
       "      <td>woba_denom</td>\n",
       "      <td>5.194367e+00</td>\n",
       "    </tr>\n",
       "    <tr>\n",
       "      <th>4</th>\n",
       "      <td>pfx_z</td>\n",
       "      <td>5.370648e+00</td>\n",
       "    </tr>\n",
       "    <tr>\n",
       "      <th>25</th>\n",
       "      <td>iso_value</td>\n",
       "      <td>5.935403e+00</td>\n",
       "    </tr>\n",
       "    <tr>\n",
       "      <th>16</th>\n",
       "      <td>hit_distance_sc</td>\n",
       "      <td>7.021958e+00</td>\n",
       "    </tr>\n",
       "    <tr>\n",
       "      <th>13</th>\n",
       "      <td>plate_z</td>\n",
       "      <td>8.048006e+00</td>\n",
       "    </tr>\n",
       "    <tr>\n",
       "      <th>19</th>\n",
       "      <td>launch_speed_angle</td>\n",
       "      <td>9.788678e+00</td>\n",
       "    </tr>\n",
       "    <tr>\n",
       "      <th>22</th>\n",
       "      <td>woba_value</td>\n",
       "      <td>1.212123e+01</td>\n",
       "    </tr>\n",
       "    <tr>\n",
       "      <th>2</th>\n",
       "      <td>spin_axis</td>\n",
       "      <td>2.128815e+01</td>\n",
       "    </tr>\n",
       "    <tr>\n",
       "      <th>20</th>\n",
       "      <td>estimated_ba_using_speedangle</td>\n",
       "      <td>2.545703e+01</td>\n",
       "    </tr>\n",
       "    <tr>\n",
       "      <th>21</th>\n",
       "      <td>estimated_woba_using_speedangle</td>\n",
       "      <td>2.748355e+01</td>\n",
       "    </tr>\n",
       "    <tr>\n",
       "      <th>8</th>\n",
       "      <td>release_pos_z</td>\n",
       "      <td>1.323659e+02</td>\n",
       "    </tr>\n",
       "    <tr>\n",
       "      <th>9</th>\n",
       "      <td>release_extension</td>\n",
       "      <td>9.478417e+02</td>\n",
       "    </tr>\n",
       "    <tr>\n",
       "      <th>10</th>\n",
       "      <td>release_pos_y</td>\n",
       "      <td>7.483558e+03</td>\n",
       "    </tr>\n",
       "    <tr>\n",
       "      <th>5</th>\n",
       "      <td>bauer_units</td>\n",
       "      <td>9.058980e+03</td>\n",
       "    </tr>\n",
       "    <tr>\n",
       "      <th>1</th>\n",
       "      <td>spin_rate</td>\n",
       "      <td>9.775452e+03</td>\n",
       "    </tr>\n",
       "    <tr>\n",
       "      <th>6</th>\n",
       "      <td>effective_speed</td>\n",
       "      <td>6.033182e+04</td>\n",
       "    </tr>\n",
       "    <tr>\n",
       "      <th>0</th>\n",
       "      <td>velo</td>\n",
       "      <td>6.171695e+04</td>\n",
       "    </tr>\n",
       "    <tr>\n",
       "      <th>11</th>\n",
       "      <td>plate_-x</td>\n",
       "      <td>inf</td>\n",
       "    </tr>\n",
       "    <tr>\n",
       "      <th>12</th>\n",
       "      <td>plate_x</td>\n",
       "      <td>inf</td>\n",
       "    </tr>\n",
       "  </tbody>\n",
       "</table>\n",
       "</div>"
      ],
      "text/plain": [
       "                            feature           VIF\n",
       "14                       swing_miss  1.436037e+00\n",
       "7                     release_pos_x  1.711329e+00\n",
       "18                     launch_angle  2.512807e+00\n",
       "3                            pfx_-x  3.458728e+00\n",
       "15                    delta_run_exp  3.935160e+00\n",
       "24                      babip_value  5.173555e+00\n",
       "17                        exit_velo  5.178644e+00\n",
       "23                       woba_denom  5.194367e+00\n",
       "4                             pfx_z  5.370648e+00\n",
       "25                        iso_value  5.935403e+00\n",
       "16                  hit_distance_sc  7.021958e+00\n",
       "13                          plate_z  8.048006e+00\n",
       "19               launch_speed_angle  9.788678e+00\n",
       "22                       woba_value  1.212123e+01\n",
       "2                         spin_axis  2.128815e+01\n",
       "20    estimated_ba_using_speedangle  2.545703e+01\n",
       "21  estimated_woba_using_speedangle  2.748355e+01\n",
       "8                     release_pos_z  1.323659e+02\n",
       "9                 release_extension  9.478417e+02\n",
       "10                    release_pos_y  7.483558e+03\n",
       "5                       bauer_units  9.058980e+03\n",
       "1                         spin_rate  9.775452e+03\n",
       "6                   effective_speed  6.033182e+04\n",
       "0                              velo  6.171695e+04\n",
       "11                         plate_-x           inf\n",
       "12                          plate_x           inf"
      ]
     },
     "execution_count": 3,
     "metadata": {},
     "output_type": "execute_result"
    }
   ],
   "source": [
    "features = data.select_dtypes([np.number])\n",
    "vif_data = pd.DataFrame()\n",
    "vif_data[\"feature\"] = features.columns\n",
    "\n",
    "vif_data[\"VIF\"] = [variance_inflation_factor(features.values, i)\n",
    "                   for i in range(len(features.columns))]\n",
    "\n",
    "vif_data.sort_values(by = 'VIF').head(27)"
   ]
  },
  {
   "cell_type": "markdown",
   "id": "83093c8d",
   "metadata": {},
   "source": [
    "# Features"
   ]
  },
  {
   "cell_type": "code",
   "execution_count": 4,
   "id": "56e22023",
   "metadata": {},
   "outputs": [
    {
     "name": "stdout",
     "output_type": "stream",
     "text": [
      "4-seam shape: (249672, 8)\n",
      "Cutter shape: (47442, 8)\n",
      "Sinker shape: (109145, 8)\n",
      "Slider shape: (135539, 8)\n",
      "Curveball shape: (58767, 8)\n",
      "Changeup shape: (80322, 8)\n"
     ]
    }
   ],
   "source": [
    "features = data[['velo', 'pfx_-x', 'pfx_z', 'delta_run_exp', \n",
    "                 'woba_value', 'plate_x', 'plate_z', 'pitch_type']]\n",
    "\n",
    "ff = features.loc[features['pitch_type'] == 'FF']\n",
    "print('4-seam shape:', ff.shape)\n",
    "fc = features.loc[features['pitch_type'] == 'FC']\n",
    "print('Cutter shape:', fc.shape)\n",
    "si = features.loc[features['pitch_type'] == 'SI']\n",
    "print('Sinker shape:', si.shape)\n",
    "sl = features.loc[features['pitch_type'] == 'SL']\n",
    "print('Slider shape:', sl.shape)\n",
    "cu = features.loc[features['pitch_type'] == 'CU']\n",
    "print('Curveball shape:', cu.shape)\n",
    "ch = features.loc[features['pitch_type'] == 'CH']\n",
    "print('Changeup shape:', ch.shape)"
   ]
  },
  {
   "cell_type": "markdown",
   "id": "185cf9e5",
   "metadata": {},
   "source": [
    "# Clustering "
   ]
  },
  {
   "cell_type": "markdown",
   "id": "89931699",
   "metadata": {},
   "source": [
    "## 4-Seam Fastball"
   ]
  },
  {
   "cell_type": "code",
   "execution_count": 5,
   "id": "b4d9010b",
   "metadata": {},
   "outputs": [
    {
     "name": "stdout",
     "output_type": "stream",
     "text": [
      "Number of iterations: 24\n",
      "Number of features: 7\n",
      "Number of clusters: 2\n",
      "Inertia: 1424797.4302240366 \n",
      "\n",
      "Predicted clusters to points:  [0 0 0 0 0 0 0 0 0 0] \n",
      "\n"
     ]
    }
   ],
   "source": [
    "features_ff = ff.select_dtypes([np.number])\n",
    "X_ff = features_ff\n",
    "\n",
    "ss = StandardScaler()\n",
    "X_ff_scaled = ss.fit_transform(X_ff)\n",
    "X_ff_scaled[:,:] *= -1\n",
    "\n",
    "pca_ff = PCA().fit_transform(X_ff_scaled) # X_ff_scaled\n",
    "model_ff = pd.DataFrame(data = pca_ff, columns = X_ff.columns)\n",
    "\n",
    "km_ff = KMeans(n_clusters = 2, \n",
    "               random_state = 1)\n",
    "km_ff.fit(model_ff)\n",
    "label_ff = km_ff.fit_predict(model_ff)\n",
    "\n",
    "print('Number of iterations:', km_ff.n_iter_)\n",
    "print('Number of features:', km_ff.n_features_in_)\n",
    "print('Number of clusters:', km_ff.n_clusters)\n",
    "print('Inertia:', km_ff.inertia_, '\\n')\n",
    "print('Predicted clusters to points: ', label_ff[:10], '\\n')"
   ]
  },
  {
   "cell_type": "markdown",
   "id": "83399927",
   "metadata": {},
   "source": [
    "### Cluster Labels - 4-Seam"
   ]
  },
  {
   "cell_type": "code",
   "execution_count": 6,
   "id": "3dafce24",
   "metadata": {},
   "outputs": [
    {
     "data": {
      "text/html": [
       "<div>\n",
       "<style scoped>\n",
       "    .dataframe tbody tr th:only-of-type {\n",
       "        vertical-align: middle;\n",
       "    }\n",
       "\n",
       "    .dataframe tbody tr th {\n",
       "        vertical-align: top;\n",
       "    }\n",
       "\n",
       "    .dataframe thead th {\n",
       "        text-align: right;\n",
       "    }\n",
       "</style>\n",
       "<table border=\"1\" class=\"dataframe\">\n",
       "  <thead>\n",
       "    <tr style=\"text-align: right;\">\n",
       "      <th>label</th>\n",
       "      <th>0</th>\n",
       "      <th>1</th>\n",
       "    </tr>\n",
       "  </thead>\n",
       "  <tbody>\n",
       "    <tr>\n",
       "      <th>velo</th>\n",
       "      <td>93.709321</td>\n",
       "      <td>93.613378</td>\n",
       "    </tr>\n",
       "    <tr>\n",
       "      <th>pfx_-x</th>\n",
       "      <td>2.846771</td>\n",
       "      <td>2.778358</td>\n",
       "    </tr>\n",
       "    <tr>\n",
       "      <th>pfx_z</th>\n",
       "      <td>16.138414</td>\n",
       "      <td>15.708836</td>\n",
       "    </tr>\n",
       "    <tr>\n",
       "      <th>delta_run_exp</th>\n",
       "      <td>-0.048176</td>\n",
       "      <td>0.522770</td>\n",
       "    </tr>\n",
       "    <tr>\n",
       "      <th>woba_value</th>\n",
       "      <td>0.000332</td>\n",
       "      <td>1.009910</td>\n",
       "    </tr>\n",
       "    <tr>\n",
       "      <th>plate_x</th>\n",
       "      <td>0.004738</td>\n",
       "      <td>-0.028969</td>\n",
       "    </tr>\n",
       "    <tr>\n",
       "      <th>plate_z</th>\n",
       "      <td>2.755221</td>\n",
       "      <td>2.616340</td>\n",
       "    </tr>\n",
       "  </tbody>\n",
       "</table>\n",
       "</div>"
      ],
      "text/plain": [
       "label                  0          1\n",
       "velo           93.709321  93.613378\n",
       "pfx_-x          2.846771   2.778358\n",
       "pfx_z          16.138414  15.708836\n",
       "delta_run_exp  -0.048176   0.522770\n",
       "woba_value      0.000332   1.009910\n",
       "plate_x         0.004738  -0.028969\n",
       "plate_z         2.755221   2.616340"
      ]
     },
     "execution_count": 6,
     "metadata": {},
     "output_type": "execute_result"
    }
   ],
   "source": [
    "# 0 good, 1 bad\n",
    "\n",
    "X_ff['label'] = label_ff\n",
    "model_ff['label'] = label_ff\n",
    "#model_ff.groupby(by = 'label').mean().T\n",
    "X_ff.groupby(by = 'label').mean().T"
   ]
  },
  {
   "cell_type": "markdown",
   "id": "0682f386",
   "metadata": {},
   "source": [
    "### Heatmaps of Features - 4-Seam"
   ]
  },
  {
   "cell_type": "code",
   "execution_count": 7,
   "id": "07a2783d",
   "metadata": {},
   "outputs": [
    {
     "data": {
      "image/png": "[encoded data removed]",
      "text/plain": [
       "<Figure size 576x432 with 2 Axes>"
      ]
     },
     "metadata": {
      "needs_background": "light"
     },
     "output_type": "display_data"
    }
   ],
   "source": [
    "plt.figure(figsize = (8, 6))\n",
    "sns.heatmap(ff.corr()[['delta_run_exp']].sort_values(('delta_run_exp'), ascending = False), \n",
    "            annot = True, cmap = 'coolwarm', vmin = -1, vmax = 1, linewidths = 2)\n",
    "plt.title('Correlations to 4-seam RE', fontweight = 'bold', pad = 15);"
   ]
  },
  {
   "cell_type": "markdown",
   "id": "3c20c8ec",
   "metadata": {},
   "source": [
    "Positively correlated with label, as the positive values increase the run exp increases\n",
    "\n",
    "Negatively correlated with lablel, as the negative values increase the run exp decreases and vice versa"
   ]
  },
  {
   "cell_type": "markdown",
   "id": "07803f35",
   "metadata": {},
   "source": [
    "Positively correlated with label, as the positive values increase the label increases\n",
    "\n",
    "Negatively correlated with lablel, as the negative values increase the label decreases and vice versa"
   ]
  },
  {
   "cell_type": "markdown",
   "id": "6b28b964",
   "metadata": {},
   "source": [
    "## Cutter"
   ]
  },
  {
   "cell_type": "code",
   "execution_count": 8,
   "id": "54758bb4",
   "metadata": {},
   "outputs": [
    {
     "name": "stdout",
     "output_type": "stream",
     "text": [
      "Number of iterations: 10\n",
      "Number of features: 7\n",
      "Number of clusters: 2\n",
      "Inertia: 1560316.2224547956 \n",
      "\n",
      "Predicted clusters to points:  [1 0 0 1 0 0 0 0 0 1] \n",
      "\n"
     ]
    }
   ],
   "source": [
    "features_fc = fc.select_dtypes([np.number])\n",
    "X_fc = features_fc\n",
    "\n",
    "#X_fc_scaled = ss.fit_transform(X_fc)\n",
    "#X_fc_scaled[:,:] *= -1\n",
    "\n",
    "pca_fc = PCA().fit(X_fc) # X_fc_scaled\n",
    "principal_components_fc = pca_fc.transform(X_fc) # X_fc_scaled\n",
    "model_fc = pd.DataFrame(data = principal_components_fc, columns = X_fc.columns)\n",
    "\n",
    "km_fc = KMeans(n_clusters = 2, \n",
    "               random_state = 1)\n",
    "\n",
    "km_fc.fit(model_fc)\n",
    "label_fc = km_fc.fit_predict(model_fc)\n",
    "\n",
    "print('Number of iterations:', km_fc.n_iter_)\n",
    "print('Number of features:', km_fc.n_features_in_)\n",
    "print('Number of clusters:', km_fc.n_clusters)\n",
    "print('Inertia:', km_fc.inertia_, '\\n')\n",
    "print(\"Predicted clusters to points: \", label_fc[:10], '\\n')"
   ]
  },
  {
   "cell_type": "markdown",
   "id": "4cfb0b4c",
   "metadata": {},
   "source": [
    "### Cluster Labels - Cutter"
   ]
  },
  {
   "cell_type": "code",
   "execution_count": 9,
   "id": "9e862bd1",
   "metadata": {},
   "outputs": [
    {
     "data": {
      "text/html": [
       "<div>\n",
       "<style scoped>\n",
       "    .dataframe tbody tr th:only-of-type {\n",
       "        vertical-align: middle;\n",
       "    }\n",
       "\n",
       "    .dataframe tbody tr th {\n",
       "        vertical-align: top;\n",
       "    }\n",
       "\n",
       "    .dataframe thead th {\n",
       "        text-align: right;\n",
       "    }\n",
       "</style>\n",
       "<table border=\"1\" class=\"dataframe\">\n",
       "  <thead>\n",
       "    <tr style=\"text-align: right;\">\n",
       "      <th>label</th>\n",
       "      <th>0</th>\n",
       "      <th>1</th>\n",
       "    </tr>\n",
       "  </thead>\n",
       "  <tbody>\n",
       "    <tr>\n",
       "      <th>velo</th>\n",
       "      <td>86.861087</td>\n",
       "      <td>90.751834</td>\n",
       "    </tr>\n",
       "    <tr>\n",
       "      <th>pfx_-x</th>\n",
       "      <td>-1.294488</td>\n",
       "      <td>-1.496073</td>\n",
       "    </tr>\n",
       "    <tr>\n",
       "      <th>pfx_z</th>\n",
       "      <td>5.347334</td>\n",
       "      <td>11.366731</td>\n",
       "    </tr>\n",
       "    <tr>\n",
       "      <th>delta_run_exp</th>\n",
       "      <td>-0.001147</td>\n",
       "      <td>0.000324</td>\n",
       "    </tr>\n",
       "    <tr>\n",
       "      <th>woba_value</th>\n",
       "      <td>0.085248</td>\n",
       "      <td>0.085419</td>\n",
       "    </tr>\n",
       "    <tr>\n",
       "      <th>plate_x</th>\n",
       "      <td>0.127956</td>\n",
       "      <td>0.200255</td>\n",
       "    </tr>\n",
       "    <tr>\n",
       "      <th>plate_z</th>\n",
       "      <td>2.262973</td>\n",
       "      <td>2.412979</td>\n",
       "    </tr>\n",
       "  </tbody>\n",
       "</table>\n",
       "</div>"
      ],
      "text/plain": [
       "label                  0          1\n",
       "velo           86.861087  90.751834\n",
       "pfx_-x         -1.294488  -1.496073\n",
       "pfx_z           5.347334  11.366731\n",
       "delta_run_exp  -0.001147   0.000324\n",
       "woba_value      0.085248   0.085419\n",
       "plate_x         0.127956   0.200255\n",
       "plate_z         2.262973   2.412979"
      ]
     },
     "execution_count": 9,
     "metadata": {},
     "output_type": "execute_result"
    }
   ],
   "source": [
    "# 0 good, 1 bad\n",
    "\n",
    "X_fc['label'] = label_fc\n",
    "model_fc['label'] = label_fc\n",
    "\n",
    "X_fc.groupby(by = 'label').mean().T"
   ]
  },
  {
   "cell_type": "markdown",
   "id": "3d5caf1e",
   "metadata": {},
   "source": [
    "### Heatmap of Features - Cutter"
   ]
  },
  {
   "cell_type": "code",
   "execution_count": 10,
   "id": "5e8df4af",
   "metadata": {},
   "outputs": [
    {
     "data": {
      "image/png": "[encoded data removed]",
      "text/plain": [
       "<Figure size 576x576 with 2 Axes>"
      ]
     },
     "metadata": {
      "needs_background": "light"
     },
     "output_type": "display_data"
    }
   ],
   "source": [
    "plt.figure(figsize = (8, 8))\n",
    "sns.heatmap(X_fc.corr()[['delta_run_exp']].sort_values(('delta_run_exp'), ascending = False), \n",
    "            annot = True, cmap = 'coolwarm', vmin = -1, vmax = 1, linewidths = 2)\n",
    "plt.title('Correlations to Cutter RE', fontweight = 'bold', pad = 15);"
   ]
  },
  {
   "cell_type": "markdown",
   "id": "dcf098e4",
   "metadata": {},
   "source": [
    "# Sinker"
   ]
  },
  {
   "cell_type": "code",
   "execution_count": 11,
   "id": "3bd87c52",
   "metadata": {},
   "outputs": [
    {
     "name": "stdout",
     "output_type": "stream",
     "text": [
      "Number of iterations: 5\n",
      "Number of features: 7\n",
      "Number of clusters: 2\n",
      "Inertia: 619114.1661527505 \n",
      "\n",
      "Predicted clusters to points:  [1 1 1 1 1 1 1 1 1 1] \n",
      "\n"
     ]
    }
   ],
   "source": [
    "features_si = si.select_dtypes([np.number])\n",
    "X_si = features_si\n",
    "\n",
    "X_si_scaled = ss.fit_transform(X_si)\n",
    "X_si_scaled[:,:] *= -1\n",
    "\n",
    "pca = PCA().fit(X_si_scaled)\n",
    "principal_components_si = pca.transform(X_si_scaled)\n",
    "model_si = pd.DataFrame(data = principal_components_si, columns = X_si.columns)\n",
    "\n",
    "km_si = KMeans(n_clusters = 2, \n",
    "               random_state = 1)\n",
    "\n",
    "km_si.fit(model_si)\n",
    "label_si = km_si.fit_predict(model_si)\n",
    "\n",
    "print('Number of iterations:', km_si.n_iter_)\n",
    "print('Number of features:', km_si.n_features_in_)\n",
    "print('Number of clusters:', km_si.n_clusters)\n",
    "print('Inertia:', km_si.inertia_, '\\n')\n",
    "print(\"Predicted clusters to points: \", label_si[:10], '\\n')"
   ]
  },
  {
   "cell_type": "markdown",
   "id": "a0d4394d",
   "metadata": {},
   "source": [
    "### Cluster Labels - Sinker"
   ]
  },
  {
   "cell_type": "code",
   "execution_count": 12,
   "id": "2d8e9ae8",
   "metadata": {},
   "outputs": [
    {
     "data": {
      "text/html": [
       "<div>\n",
       "<style scoped>\n",
       "    .dataframe tbody tr th:only-of-type {\n",
       "        vertical-align: middle;\n",
       "    }\n",
       "\n",
       "    .dataframe tbody tr th {\n",
       "        vertical-align: top;\n",
       "    }\n",
       "\n",
       "    .dataframe thead th {\n",
       "        text-align: right;\n",
       "    }\n",
       "</style>\n",
       "<table border=\"1\" class=\"dataframe\">\n",
       "  <thead>\n",
       "    <tr style=\"text-align: right;\">\n",
       "      <th>label</th>\n",
       "      <th>0</th>\n",
       "      <th>1</th>\n",
       "    </tr>\n",
       "  </thead>\n",
       "  <tbody>\n",
       "    <tr>\n",
       "      <th>velo</th>\n",
       "      <td>92.984034</td>\n",
       "      <td>93.009306</td>\n",
       "    </tr>\n",
       "    <tr>\n",
       "      <th>pfx_-x</th>\n",
       "      <td>5.925047</td>\n",
       "      <td>5.616560</td>\n",
       "    </tr>\n",
       "    <tr>\n",
       "      <th>pfx_z</th>\n",
       "      <td>8.991775</td>\n",
       "      <td>9.256590</td>\n",
       "    </tr>\n",
       "    <tr>\n",
       "      <th>delta_run_exp</th>\n",
       "      <td>0.510040</td>\n",
       "      <td>-0.055920</td>\n",
       "    </tr>\n",
       "    <tr>\n",
       "      <th>woba_value</th>\n",
       "      <td>0.967467</td>\n",
       "      <td>0.000000</td>\n",
       "    </tr>\n",
       "    <tr>\n",
       "      <th>plate_x</th>\n",
       "      <td>-0.116970</td>\n",
       "      <td>-0.071817</td>\n",
       "    </tr>\n",
       "    <tr>\n",
       "      <th>plate_z</th>\n",
       "      <td>2.359687</td>\n",
       "      <td>2.332495</td>\n",
       "    </tr>\n",
       "  </tbody>\n",
       "</table>\n",
       "</div>"
      ],
      "text/plain": [
       "label                  0          1\n",
       "velo           92.984034  93.009306\n",
       "pfx_-x          5.925047   5.616560\n",
       "pfx_z           8.991775   9.256590\n",
       "delta_run_exp   0.510040  -0.055920\n",
       "woba_value      0.967467   0.000000\n",
       "plate_x        -0.116970  -0.071817\n",
       "plate_z         2.359687   2.332495"
      ]
     },
     "execution_count": 12,
     "metadata": {},
     "output_type": "execute_result"
    }
   ],
   "source": [
    "# 0 bad, 1 good\n",
    "\n",
    "X_si['label'] = label_si\n",
    "model_si['label'] = label_si\n",
    "\n",
    "X_si.groupby(by = 'label').mean().T"
   ]
  },
  {
   "cell_type": "markdown",
   "id": "efd9f7bd",
   "metadata": {},
   "source": [
    "### Heatmap of Features - Sinker"
   ]
  },
  {
   "cell_type": "code",
   "execution_count": 13,
   "id": "4c9343d1",
   "metadata": {},
   "outputs": [
    {
     "data": {
      "image/png": "[encoded data removed]",
      "text/plain": [
       "<Figure size 576x576 with 2 Axes>"
      ]
     },
     "metadata": {
      "needs_background": "light"
     },
     "output_type": "display_data"
    }
   ],
   "source": [
    "plt.figure(figsize = (8, 8))\n",
    "sns.heatmap(X_si.corr()[['delta_run_exp']].sort_values(('delta_run_exp'), ascending = False), \n",
    "            annot = True, cmap = 'coolwarm', vmin = -1, vmax = 1, linewidths = 2)\n",
    "plt.title('Correlations to Sinker RE', fontweight = 'bold', pad = 15);"
   ]
  },
  {
   "cell_type": "markdown",
   "id": "809aaa04",
   "metadata": {},
   "source": [
    "## Slider"
   ]
  },
  {
   "cell_type": "code",
   "execution_count": 14,
   "id": "5acf61f0",
   "metadata": {},
   "outputs": [
    {
     "name": "stdout",
     "output_type": "stream",
     "text": [
      "Number of iterations: 5\n",
      "Number of features: 7\n",
      "Number of clusters: 2\n",
      "Inertia: 768258.8055072734 \n",
      "\n",
      "Predicted clusters to points:  [1 1 1 1 1 1 1 1 1 1] \n",
      "\n"
     ]
    }
   ],
   "source": [
    "features_sl = sl.select_dtypes([np.number])\n",
    "X_sl = features_sl\n",
    "\n",
    "X_sl_scaled = ss.fit_transform(X_sl)\n",
    "X_sl_scaled[:,:] *= -1\n",
    "\n",
    "pca = PCA().fit(X_sl_scaled)\n",
    "principal_components_sl = pca.transform(X_sl_scaled)\n",
    "model_sl = pd.DataFrame(data = principal_components_sl, columns = X_sl.columns)\n",
    "\n",
    "km_sl = KMeans(n_clusters = 2, \n",
    "               random_state = 1)\n",
    "\n",
    "km_sl.fit(model_sl)\n",
    "label_sl = km_sl.fit_predict(model_sl)\n",
    "\n",
    "print('Number of iterations:', km_sl.n_iter_)\n",
    "print('Number of features:', km_sl.n_features_in_)\n",
    "print('Number of clusters:', km_sl.n_clusters)\n",
    "print('Inertia:', km_sl.inertia_, '\\n')\n",
    "print(\"Predicted clusters to points: \", label_sl[:10], '\\n')"
   ]
  },
  {
   "cell_type": "markdown",
   "id": "7d8eeaca",
   "metadata": {},
   "source": [
    "### Cluster Labels - Slider"
   ]
  },
  {
   "cell_type": "code",
   "execution_count": 15,
   "id": "f28eee91",
   "metadata": {},
   "outputs": [
    {
     "data": {
      "text/html": [
       "<div>\n",
       "<style scoped>\n",
       "    .dataframe tbody tr th:only-of-type {\n",
       "        vertical-align: middle;\n",
       "    }\n",
       "\n",
       "    .dataframe tbody tr th {\n",
       "        vertical-align: top;\n",
       "    }\n",
       "\n",
       "    .dataframe thead th {\n",
       "        text-align: right;\n",
       "    }\n",
       "</style>\n",
       "<table border=\"1\" class=\"dataframe\">\n",
       "  <thead>\n",
       "    <tr style=\"text-align: right;\">\n",
       "      <th>label</th>\n",
       "      <th>0</th>\n",
       "      <th>1</th>\n",
       "    </tr>\n",
       "  </thead>\n",
       "  <tbody>\n",
       "    <tr>\n",
       "      <th>velo</th>\n",
       "      <td>84.677486</td>\n",
       "      <td>84.650161</td>\n",
       "    </tr>\n",
       "    <tr>\n",
       "      <th>pfx_-x</th>\n",
       "      <td>-3.145046</td>\n",
       "      <td>-3.227867</td>\n",
       "    </tr>\n",
       "    <tr>\n",
       "      <th>pfx_z</th>\n",
       "      <td>1.616998</td>\n",
       "      <td>1.710300</td>\n",
       "    </tr>\n",
       "    <tr>\n",
       "      <th>delta_run_exp</th>\n",
       "      <td>0.617844</td>\n",
       "      <td>-0.049092</td>\n",
       "    </tr>\n",
       "    <tr>\n",
       "      <th>woba_value</th>\n",
       "      <td>1.038080</td>\n",
       "      <td>0.001352</td>\n",
       "    </tr>\n",
       "    <tr>\n",
       "      <th>plate_x</th>\n",
       "      <td>0.113741</td>\n",
       "      <td>0.241411</td>\n",
       "    </tr>\n",
       "    <tr>\n",
       "      <th>plate_z</th>\n",
       "      <td>2.090473</td>\n",
       "      <td>1.870027</td>\n",
       "    </tr>\n",
       "  </tbody>\n",
       "</table>\n",
       "</div>"
      ],
      "text/plain": [
       "label                  0          1\n",
       "velo           84.677486  84.650161\n",
       "pfx_-x         -3.145046  -3.227867\n",
       "pfx_z           1.616998   1.710300\n",
       "delta_run_exp   0.617844  -0.049092\n",
       "woba_value      1.038080   0.001352\n",
       "plate_x         0.113741   0.241411\n",
       "plate_z         2.090473   1.870027"
      ]
     },
     "execution_count": 15,
     "metadata": {},
     "output_type": "execute_result"
    }
   ],
   "source": [
    "# 0 bad, 1 good\n",
    "\n",
    "X_sl['label'] = label_sl\n",
    "model_sl['label'] = label_sl\n",
    "\n",
    "X_sl.groupby(by = 'label').mean().T"
   ]
  },
  {
   "cell_type": "markdown",
   "id": "99a0ad84",
   "metadata": {},
   "source": [
    "### Heatmap of Features - Slider"
   ]
  },
  {
   "cell_type": "code",
   "execution_count": 16,
   "id": "818a2c8a",
   "metadata": {},
   "outputs": [
    {
     "data": {
      "image/png": "[encoded data removed]",
      "text/plain": [
       "<Figure size 576x576 with 2 Axes>"
      ]
     },
     "metadata": {
      "needs_background": "light"
     },
     "output_type": "display_data"
    }
   ],
   "source": [
    "plt.figure(figsize = (8, 8))\n",
    "sns.heatmap(X_sl.corr()[['delta_run_exp']].sort_values(('delta_run_exp'), ascending = False), \n",
    "            annot = True, cmap = 'coolwarm', vmin = -1, vmax = 1, linewidths = 2)\n",
    "plt.title('Correlations to Slider RE', fontweight = 'bold', pad = 15);"
   ]
  },
  {
   "cell_type": "markdown",
   "id": "37d184f1",
   "metadata": {},
   "source": [
    "# Curveball"
   ]
  },
  {
   "cell_type": "code",
   "execution_count": 17,
   "id": "b44abbe0",
   "metadata": {},
   "outputs": [
    {
     "name": "stdout",
     "output_type": "stream",
     "text": [
      "Number of iterations: 4\n",
      "Number of features: 7\n",
      "Number of clusters: 2\n",
      "Inertia: 331917.90441493475 \n",
      "\n",
      "Predicted clusters to points:  [1 1 1 1 1 1 1 1 1 1] \n",
      "\n"
     ]
    }
   ],
   "source": [
    "features_cu = cu.select_dtypes([np.number])\n",
    "X_cu = features_cu\n",
    "\n",
    "X_cu_scaled = ss.fit_transform(X_cu)\n",
    "X_cu_scaled[:,:] *= -1\n",
    "\n",
    "pca = PCA().fit(X_cu_scaled)\n",
    "principal_components_cu = pca.transform(X_cu_scaled)\n",
    "model_cu = pd.DataFrame(data = principal_components_cu, columns = X_cu.columns)\n",
    "\n",
    "km_cu = KMeans(n_clusters = 2, \n",
    "               random_state = 1)\n",
    "\n",
    "km_cu.fit(model_cu)\n",
    "label_cu = km_cu.fit_predict(model_cu)\n",
    "\n",
    "print('Number of iterations:', km_cu.n_iter_)\n",
    "print('Number of features:', km_cu.n_features_in_)\n",
    "print('Number of clusters:', km_cu.n_clusters)\n",
    "print('Inertia:', km_cu.inertia_, '\\n')\n",
    "print(\"Predicted clusters to points: \", label_cu[:10], '\\n')"
   ]
  },
  {
   "cell_type": "markdown",
   "id": "8834fc6a",
   "metadata": {},
   "source": [
    "### Cluster Labels - Curveball"
   ]
  },
  {
   "cell_type": "code",
   "execution_count": 18,
   "id": "7318a85e",
   "metadata": {},
   "outputs": [
    {
     "data": {
      "text/html": [
       "<div>\n",
       "<style scoped>\n",
       "    .dataframe tbody tr th:only-of-type {\n",
       "        vertical-align: middle;\n",
       "    }\n",
       "\n",
       "    .dataframe tbody tr th {\n",
       "        vertical-align: top;\n",
       "    }\n",
       "\n",
       "    .dataframe thead th {\n",
       "        text-align: right;\n",
       "    }\n",
       "</style>\n",
       "<table border=\"1\" class=\"dataframe\">\n",
       "  <thead>\n",
       "    <tr style=\"text-align: right;\">\n",
       "      <th>label</th>\n",
       "      <th>0</th>\n",
       "      <th>1</th>\n",
       "    </tr>\n",
       "  </thead>\n",
       "  <tbody>\n",
       "    <tr>\n",
       "      <th>velo</th>\n",
       "      <td>78.607686</td>\n",
       "      <td>78.753530</td>\n",
       "    </tr>\n",
       "    <tr>\n",
       "      <th>pfx_-x</th>\n",
       "      <td>-3.524066</td>\n",
       "      <td>-3.884551</td>\n",
       "    </tr>\n",
       "    <tr>\n",
       "      <th>pfx_z</th>\n",
       "      <td>-8.777653</td>\n",
       "      <td>-8.738095</td>\n",
       "    </tr>\n",
       "    <tr>\n",
       "      <th>delta_run_exp</th>\n",
       "      <td>0.601095</td>\n",
       "      <td>-0.038624</td>\n",
       "    </tr>\n",
       "    <tr>\n",
       "      <th>woba_value</th>\n",
       "      <td>1.028140</td>\n",
       "      <td>0.000457</td>\n",
       "    </tr>\n",
       "    <tr>\n",
       "      <th>plate_x</th>\n",
       "      <td>0.012116</td>\n",
       "      <td>0.072239</td>\n",
       "    </tr>\n",
       "    <tr>\n",
       "      <th>plate_z</th>\n",
       "      <td>2.039716</td>\n",
       "      <td>1.819645</td>\n",
       "    </tr>\n",
       "  </tbody>\n",
       "</table>\n",
       "</div>"
      ],
      "text/plain": [
       "label                  0          1\n",
       "velo           78.607686  78.753530\n",
       "pfx_-x         -3.524066  -3.884551\n",
       "pfx_z          -8.777653  -8.738095\n",
       "delta_run_exp   0.601095  -0.038624\n",
       "woba_value      1.028140   0.000457\n",
       "plate_x         0.012116   0.072239\n",
       "plate_z         2.039716   1.819645"
      ]
     },
     "execution_count": 18,
     "metadata": {},
     "output_type": "execute_result"
    }
   ],
   "source": [
    "# 0 bad, 1 good\n",
    "\n",
    "X_cu['label'] = label_cu\n",
    "model_cu['label'] = label_cu\n",
    "\n",
    "X_cu.groupby(by = 'label').mean().T"
   ]
  },
  {
   "cell_type": "markdown",
   "id": "227ebfcb",
   "metadata": {},
   "source": [
    "### Heatmaps of Features - Curveball"
   ]
  },
  {
   "cell_type": "code",
   "execution_count": 19,
   "id": "2ef27915",
   "metadata": {},
   "outputs": [
    {
     "data": {
      "image/png": "[encoded data removed]",
      "text/plain": [
       "<Figure size 576x576 with 2 Axes>"
      ]
     },
     "metadata": {
      "needs_background": "light"
     },
     "output_type": "display_data"
    }
   ],
   "source": [
    "plt.figure(figsize = (8, 8))\n",
    "sns.heatmap(X_cu.corr()[['delta_run_exp']].sort_values(('delta_run_exp'), ascending = False), \n",
    "            annot = True, cmap = 'coolwarm', vmin = -1, vmax = 1, linewidths = 2)\n",
    "plt.title('Correlations to Curveball RE', fontweight = 'bold', pad = 15);"
   ]
  },
  {
   "cell_type": "markdown",
   "id": "3c72e08b",
   "metadata": {},
   "source": [
    "## Changeup"
   ]
  },
  {
   "cell_type": "code",
   "execution_count": 20,
   "id": "e579998c",
   "metadata": {},
   "outputs": [
    {
     "name": "stdout",
     "output_type": "stream",
     "text": [
      "Number of iterations: 3\n",
      "Number of features: 7\n",
      "Number of clusters: 2\n",
      "Inertia: 3874161.98662429 \n",
      "\n",
      "Predicted clusters to points:  [0 0 0 0 0 0 0 0 0 0] \n",
      "\n"
     ]
    }
   ],
   "source": [
    "features_ch = ch.select_dtypes([np.number])\n",
    "X_ch = features_ch\n",
    "\n",
    "X_ch_scaled = ss.fit_transform(X_ch)\n",
    "X_ch_scaled[:,:] *= -1\n",
    "\n",
    "pca = PCA().fit(X_ch)\n",
    "principal_components_ch = pca.transform(X_ch)\n",
    "model_ch = pd.DataFrame(data = principal_components_ch, columns = X_ch.columns)\n",
    "\n",
    "km_ch = KMeans(n_clusters = 2, random_state = 1)\n",
    "\n",
    "km_ch.fit(model_ch)\n",
    "label_ch = km_ch.fit_predict(model_ch)\n",
    "\n",
    "print('Number of iterations:', km_ch.n_iter_)\n",
    "print('Number of features:', km_ch.n_features_in_)\n",
    "print('Number of clusters:', km_ch.n_clusters)\n",
    "print('Inertia:', km_ch.inertia_, '\\n')\n",
    "print(\"Predicted clusters to points: \", label_ch[:10], '\\n')"
   ]
  },
  {
   "cell_type": "markdown",
   "id": "f4ddb95c",
   "metadata": {},
   "source": [
    "### Cluster Labels - Changeup"
   ]
  },
  {
   "cell_type": "code",
   "execution_count": 21,
   "id": "decc0285",
   "metadata": {},
   "outputs": [
    {
     "data": {
      "text/html": [
       "<div>\n",
       "<style scoped>\n",
       "    .dataframe tbody tr th:only-of-type {\n",
       "        vertical-align: middle;\n",
       "    }\n",
       "\n",
       "    .dataframe tbody tr th {\n",
       "        vertical-align: top;\n",
       "    }\n",
       "\n",
       "    .dataframe thead th {\n",
       "        text-align: right;\n",
       "    }\n",
       "</style>\n",
       "<table border=\"1\" class=\"dataframe\">\n",
       "  <thead>\n",
       "    <tr style=\"text-align: right;\">\n",
       "      <th>label</th>\n",
       "      <th>0</th>\n",
       "      <th>1</th>\n",
       "    </tr>\n",
       "  </thead>\n",
       "  <tbody>\n",
       "    <tr>\n",
       "      <th>velo</th>\n",
       "      <td>85.531494</td>\n",
       "      <td>83.573328</td>\n",
       "    </tr>\n",
       "    <tr>\n",
       "      <th>pfx_-x</th>\n",
       "      <td>13.864524</td>\n",
       "      <td>-13.891458</td>\n",
       "    </tr>\n",
       "    <tr>\n",
       "      <th>pfx_z</th>\n",
       "      <td>6.279576</td>\n",
       "      <td>7.763038</td>\n",
       "    </tr>\n",
       "    <tr>\n",
       "      <th>delta_run_exp</th>\n",
       "      <td>0.002985</td>\n",
       "      <td>0.003150</td>\n",
       "    </tr>\n",
       "    <tr>\n",
       "      <th>woba_value</th>\n",
       "      <td>0.081480</td>\n",
       "      <td>0.086321</td>\n",
       "    </tr>\n",
       "    <tr>\n",
       "      <th>plate_x</th>\n",
       "      <td>-0.349740</td>\n",
       "      <td>0.486184</td>\n",
       "    </tr>\n",
       "    <tr>\n",
       "      <th>plate_z</th>\n",
       "      <td>1.838259</td>\n",
       "      <td>1.870819</td>\n",
       "    </tr>\n",
       "  </tbody>\n",
       "</table>\n",
       "</div>"
      ],
      "text/plain": [
       "label                  0          1\n",
       "velo           85.531494  83.573328\n",
       "pfx_-x         13.864524 -13.891458\n",
       "pfx_z           6.279576   7.763038\n",
       "delta_run_exp   0.002985   0.003150\n",
       "woba_value      0.081480   0.086321\n",
       "plate_x        -0.349740   0.486184\n",
       "plate_z         1.838259   1.870819"
      ]
     },
     "execution_count": 21,
     "metadata": {},
     "output_type": "execute_result"
    }
   ],
   "source": [
    "# 0 good, 1 bad\n",
    "\n",
    "X_ch['label'] = label_ch\n",
    "model_ch['label'] = label_ch\n",
    "\n",
    "X_ch.groupby(by = 'label').mean().T"
   ]
  },
  {
   "cell_type": "markdown",
   "id": "431a5042",
   "metadata": {},
   "source": [
    "### Heatmap of Features - Changeup"
   ]
  },
  {
   "cell_type": "code",
   "execution_count": 22,
   "id": "7f65cf63",
   "metadata": {},
   "outputs": [
    {
     "data": {
      "image/png": "[encoded data removed]",
      "text/plain": [
       "<Figure size 576x576 with 2 Axes>"
      ]
     },
     "metadata": {
      "needs_background": "light"
     },
     "output_type": "display_data"
    }
   ],
   "source": [
    "plt.figure(figsize = (8, 8))\n",
    "sns.heatmap(X_ch.corr()[['delta_run_exp']].sort_values(('delta_run_exp'), ascending = False), \n",
    "            annot = True, cmap = 'coolwarm', vmin = -1, vmax = 1, linewidths = 2)\n",
    "plt.title('Correlations to Changeup Label', fontweight = 'bold', pad = 15);"
   ]
  },
  {
   "cell_type": "markdown",
   "id": "f946c450",
   "metadata": {},
   "source": [
    "# Modeling"
   ]
  },
  {
   "cell_type": "markdown",
   "id": "982b64ba",
   "metadata": {},
   "source": [
    "## Linear Regression - 4-Seam"
   ]
  },
  {
   "cell_type": "code",
   "execution_count": 23,
   "id": "14d82d28",
   "metadata": {},
   "outputs": [
    {
     "data": {
      "text/html": [
       "<table class=\"simpletable\">\n",
       "<caption>OLS Regression Results</caption>\n",
       "<tr>\n",
       "  <th>Dep. Variable:</th>      <td>delta_run_exp</td>  <th>  R-squared:         </th>  <td>   0.605</td> \n",
       "</tr>\n",
       "<tr>\n",
       "  <th>Model:</th>                   <td>OLS</td>       <th>  Adj. R-squared:    </th>  <td>   0.605</td> \n",
       "</tr>\n",
       "<tr>\n",
       "  <th>Method:</th>             <td>Least Squares</td>  <th>  F-statistic:       </th>  <td>5.461e+04</td>\n",
       "</tr>\n",
       "<tr>\n",
       "  <th>Date:</th>             <td>Sat, 26 Feb 2022</td> <th>  Prob (F-statistic):</th>   <td>  0.00</td>  \n",
       "</tr>\n",
       "<tr>\n",
       "  <th>Time:</th>                 <td>16:36:52</td>     <th>  Log-Likelihood:    </th> <td>1.1742e+05</td>\n",
       "</tr>\n",
       "<tr>\n",
       "  <th>No. Observations:</th>      <td>249672</td>      <th>  AIC:               </th> <td>-2.348e+05</td>\n",
       "</tr>\n",
       "<tr>\n",
       "  <th>Df Residuals:</th>          <td>249664</td>      <th>  BIC:               </th> <td>-2.348e+05</td>\n",
       "</tr>\n",
       "<tr>\n",
       "  <th>Df Model:</th>              <td>     7</td>      <th>                     </th>      <td> </td>    \n",
       "</tr>\n",
       "<tr>\n",
       "  <th>Covariance Type:</th>      <td>nonrobust</td>    <th>                     </th>      <td> </td>    \n",
       "</tr>\n",
       "</table>\n",
       "<table class=\"simpletable\">\n",
       "<tr>\n",
       "       <td></td>         <th>coef</th>     <th>std err</th>      <th>t</th>      <th>P>|t|</th>  <th>[0.025</th>    <th>0.975]</th>  \n",
       "</tr>\n",
       "<tr>\n",
       "  <th>const</th>      <td>   -0.0525</td> <td>    0.012</td> <td>   -4.549</td> <td> 0.000</td> <td>   -0.075</td> <td>   -0.030</td>\n",
       "</tr>\n",
       "<tr>\n",
       "  <th>velo</th>       <td>   -0.0002</td> <td>    0.000</td> <td>   -1.945</td> <td> 0.052</td> <td>   -0.000</td> <td> 1.91e-06</td>\n",
       "</tr>\n",
       "<tr>\n",
       "  <th>pfx_-x</th>     <td> 2.977e-05</td> <td>    4e-05</td> <td>    0.745</td> <td> 0.456</td> <td>-4.85e-05</td> <td>    0.000</td>\n",
       "</tr>\n",
       "<tr>\n",
       "  <th>pfx_z</th>      <td>  7.07e-05</td> <td> 9.29e-05</td> <td>    0.761</td> <td> 0.447</td> <td>   -0.000</td> <td>    0.000</td>\n",
       "</tr>\n",
       "<tr>\n",
       "  <th>woba_value</th> <td>    0.8286</td> <td>    0.003</td> <td>  322.837</td> <td> 0.000</td> <td>    0.824</td> <td>    0.834</td>\n",
       "</tr>\n",
       "<tr>\n",
       "  <th>plate_x</th>    <td>    0.0013</td> <td>    0.000</td> <td>    3.181</td> <td> 0.001</td> <td>    0.000</td> <td>    0.002</td>\n",
       "</tr>\n",
       "<tr>\n",
       "  <th>plate_z</th>    <td>    0.0092</td> <td>    0.000</td> <td>   26.200</td> <td> 0.000</td> <td>    0.009</td> <td>    0.010</td>\n",
       "</tr>\n",
       "<tr>\n",
       "  <th>label</th>      <td>   -0.2643</td> <td>    0.003</td> <td>  -94.044</td> <td> 0.000</td> <td>   -0.270</td> <td>   -0.259</td>\n",
       "</tr>\n",
       "</table>\n",
       "<table class=\"simpletable\">\n",
       "<tr>\n",
       "  <th>Omnibus:</th>       <td>56545.156</td> <th>  Durbin-Watson:     </th>  <td>   2.082</td>  \n",
       "</tr>\n",
       "<tr>\n",
       "  <th>Prob(Omnibus):</th>  <td> 0.000</td>   <th>  Jarque-Bera (JB):  </th> <td>2278173.723</td>\n",
       "</tr>\n",
       "<tr>\n",
       "  <th>Skew:</th>           <td> 0.297</td>   <th>  Prob(JB):          </th>  <td>    0.00</td>  \n",
       "</tr>\n",
       "<tr>\n",
       "  <th>Kurtosis:</th>       <td>17.786</td>   <th>  Cond. No.          </th>  <td>3.63e+03</td>  \n",
       "</tr>\n",
       "</table><br/><br/>Notes:<br/>[1] Standard Errors assume that the covariance matrix of the errors is correctly specified.<br/>[2] The condition number is large, 3.63e+03. This might indicate that there are<br/>strong multicollinearity or other numerical problems."
      ],
      "text/plain": [
       "<class 'statsmodels.iolib.summary.Summary'>\n",
       "\"\"\"\n",
       "                            OLS Regression Results                            \n",
       "==============================================================================\n",
       "Dep. Variable:          delta_run_exp   R-squared:                       0.605\n",
       "Model:                            OLS   Adj. R-squared:                  0.605\n",
       "Method:                 Least Squares   F-statistic:                 5.461e+04\n",
       "Date:                Sat, 26 Feb 2022   Prob (F-statistic):               0.00\n",
       "Time:                        16:36:52   Log-Likelihood:             1.1742e+05\n",
       "No. Observations:              249672   AIC:                        -2.348e+05\n",
       "Df Residuals:                  249664   BIC:                        -2.348e+05\n",
       "Df Model:                           7                                         \n",
       "Covariance Type:            nonrobust                                         \n",
       "==============================================================================\n",
       "                 coef    std err          t      P>|t|      [0.025      0.975]\n",
       "------------------------------------------------------------------------------\n",
       "const         -0.0525      0.012     -4.549      0.000      -0.075      -0.030\n",
       "velo          -0.0002      0.000     -1.945      0.052      -0.000    1.91e-06\n",
       "pfx_-x      2.977e-05      4e-05      0.745      0.456   -4.85e-05       0.000\n",
       "pfx_z        7.07e-05   9.29e-05      0.761      0.447      -0.000       0.000\n",
       "woba_value     0.8286      0.003    322.837      0.000       0.824       0.834\n",
       "plate_x        0.0013      0.000      3.181      0.001       0.000       0.002\n",
       "plate_z        0.0092      0.000     26.200      0.000       0.009       0.010\n",
       "label         -0.2643      0.003    -94.044      0.000      -0.270      -0.259\n",
       "==============================================================================\n",
       "Omnibus:                    56545.156   Durbin-Watson:                   2.082\n",
       "Prob(Omnibus):                  0.000   Jarque-Bera (JB):          2278173.723\n",
       "Skew:                           0.297   Prob(JB):                         0.00\n",
       "Kurtosis:                      17.786   Cond. No.                     3.63e+03\n",
       "==============================================================================\n",
       "\n",
       "Notes:\n",
       "[1] Standard Errors assume that the covariance matrix of the errors is correctly specified.\n",
       "[2] The condition number is large, 3.63e+03. This might indicate that there are\n",
       "strong multicollinearity or other numerical problems.\n",
       "\"\"\""
      ]
     },
     "execution_count": 23,
     "metadata": {},
     "output_type": "execute_result"
    }
   ],
   "source": [
    "X = X_ff.drop(columns = ['delta_run_exp'])\n",
    "X = sm.add_constant(X)\n",
    "y = X_ff['delta_run_exp']\n",
    "\n",
    "ols_ff = sm.OLS(y, X)\n",
    "ols_ff = ols_ff.fit()\n",
    "pred_ff = ols_ff.predict(X)\n",
    "ols_ff.summary()"
   ]
  },
  {
   "cell_type": "code",
   "execution_count": 24,
   "id": "784beb67",
   "metadata": {},
   "outputs": [
    {
     "data": {
      "image/png": "[encoded data removed]",
      "text/plain": [
       "<Figure size 576x576 with 1 Axes>"
      ]
     },
     "metadata": {
      "needs_background": "light"
     },
     "output_type": "display_data"
    },
    {
     "name": "stdout",
     "output_type": "stream",
     "text": [
      "MSE: 0.0229\n",
      "RMSE: 0.1512\n",
      "MAE: 0.0947\n"
     ]
    }
   ],
   "source": [
    "plt.figure(figsize = (8, 8))\n",
    "\n",
    "plt.scatter(pred_ff, y, s = 20, c = 'b', marker = 'o')\n",
    "plt.plot(pred_ff, np.poly1d(np.polyfit(pred_ff, y, 1))(pred_ff), c = 'r')\n",
    "plt.xlabel('Predicted Values from - $\\hat{y}$', fontsize = 11), plt.ylabel('run_exp', fontsize = 11)\n",
    "plt.title('Predicted 4-Seam RE Values', fontsize = 14, fontweight = 'bold', pad = 15), plt.show();\n",
    "print('MSE:', round(metrics.mean_squared_error(y, pred_ff), 4))\n",
    "print('RMSE:', round(np.sqrt(metrics.mean_squared_error(y, pred_ff)), 4))\n",
    "print('MAE:', round(metrics.mean_absolute_error(y, pred_ff), 4))\n",
    "#print('Cross val score', round(cross_val_score(model, X, y).mean(), 4))"
   ]
  },
  {
   "cell_type": "markdown",
   "id": "f57a8c80",
   "metadata": {},
   "source": [
    "## Linear Regression - Cutter"
   ]
  },
  {
   "cell_type": "code",
   "execution_count": 25,
   "id": "cf3bfb81",
   "metadata": {},
   "outputs": [
    {
     "data": {
      "text/html": [
       "<table class=\"simpletable\">\n",
       "<caption>OLS Regression Results</caption>\n",
       "<tr>\n",
       "  <th>Dep. Variable:</th>      <td>delta_run_exp</td>  <th>  R-squared:         </th>  <td>   0.591</td> \n",
       "</tr>\n",
       "<tr>\n",
       "  <th>Model:</th>                   <td>OLS</td>       <th>  Adj. R-squared:    </th>  <td>   0.591</td> \n",
       "</tr>\n",
       "<tr>\n",
       "  <th>Method:</th>             <td>Least Squares</td>  <th>  F-statistic:       </th>  <td>   9778.</td> \n",
       "</tr>\n",
       "<tr>\n",
       "  <th>Date:</th>             <td>Sat, 26 Feb 2022</td> <th>  Prob (F-statistic):</th>   <td>  0.00</td>  \n",
       "</tr>\n",
       "<tr>\n",
       "  <th>Time:</th>                 <td>16:36:53</td>     <th>  Log-Likelihood:    </th>  <td>  18990.</td> \n",
       "</tr>\n",
       "<tr>\n",
       "  <th>No. Observations:</th>      <td> 47442</td>      <th>  AIC:               </th> <td>-3.796e+04</td>\n",
       "</tr>\n",
       "<tr>\n",
       "  <th>Df Residuals:</th>          <td> 47434</td>      <th>  BIC:               </th> <td>-3.789e+04</td>\n",
       "</tr>\n",
       "<tr>\n",
       "  <th>Df Model:</th>              <td>     7</td>      <th>                     </th>      <td> </td>    \n",
       "</tr>\n",
       "<tr>\n",
       "  <th>Covariance Type:</th>      <td>nonrobust</td>    <th>                     </th>      <td> </td>    \n",
       "</tr>\n",
       "</table>\n",
       "<table class=\"simpletable\">\n",
       "<tr>\n",
       "       <td></td>         <th>coef</th>     <th>std err</th>      <th>t</th>      <th>P>|t|</th>  <th>[0.025</th>    <th>0.975]</th>  \n",
       "</tr>\n",
       "<tr>\n",
       "  <th>const</th>      <td>    0.0370</td> <td>    0.024</td> <td>    1.558</td> <td> 0.119</td> <td>   -0.010</td> <td>    0.084</td>\n",
       "</tr>\n",
       "<tr>\n",
       "  <th>velo</th>       <td>   -0.0009</td> <td>    0.000</td> <td>   -3.466</td> <td> 0.001</td> <td>   -0.001</td> <td>   -0.000</td>\n",
       "</tr>\n",
       "<tr>\n",
       "  <th>pfx_-x</th>     <td>    0.0003</td> <td>    0.000</td> <td>    1.273</td> <td> 0.203</td> <td>   -0.000</td> <td>    0.001</td>\n",
       "</tr>\n",
       "<tr>\n",
       "  <th>pfx_z</th>      <td>    0.0004</td> <td>    0.000</td> <td>    1.472</td> <td> 0.141</td> <td>   -0.000</td> <td>    0.001</td>\n",
       "</tr>\n",
       "<tr>\n",
       "  <th>woba_value</th> <td>    0.6426</td> <td>    0.002</td> <td>  261.501</td> <td> 0.000</td> <td>    0.638</td> <td>    0.647</td>\n",
       "</tr>\n",
       "<tr>\n",
       "  <th>plate_x</th>    <td>    0.0063</td> <td>    0.001</td> <td>    6.870</td> <td> 0.000</td> <td>    0.005</td> <td>    0.008</td>\n",
       "</tr>\n",
       "<tr>\n",
       "  <th>plate_z</th>    <td>   -0.0060</td> <td>    0.001</td> <td>   -7.033</td> <td> 0.000</td> <td>   -0.008</td> <td>   -0.004</td>\n",
       "</tr>\n",
       "<tr>\n",
       "  <th>label</th>      <td>    0.0032</td> <td>    0.002</td> <td>    1.325</td> <td> 0.185</td> <td>   -0.002</td> <td>    0.008</td>\n",
       "</tr>\n",
       "</table>\n",
       "<table class=\"simpletable\">\n",
       "<tr>\n",
       "  <th>Omnibus:</th>       <td>10644.523</td> <th>  Durbin-Watson:     </th>  <td>   2.084</td> \n",
       "</tr>\n",
       "<tr>\n",
       "  <th>Prob(Omnibus):</th>  <td> 0.000</td>   <th>  Jarque-Bera (JB):  </th> <td>373630.325</td>\n",
       "</tr>\n",
       "<tr>\n",
       "  <th>Skew:</th>           <td> 0.349</td>   <th>  Prob(JB):          </th>  <td>    0.00</td> \n",
       "</tr>\n",
       "<tr>\n",
       "  <th>Kurtosis:</th>       <td>16.730</td>   <th>  Cond. No.          </th>  <td>2.85e+03</td> \n",
       "</tr>\n",
       "</table><br/><br/>Notes:<br/>[1] Standard Errors assume that the covariance matrix of the errors is correctly specified.<br/>[2] The condition number is large, 2.85e+03. This might indicate that there are<br/>strong multicollinearity or other numerical problems."
      ],
      "text/plain": [
       "<class 'statsmodels.iolib.summary.Summary'>\n",
       "\"\"\"\n",
       "                            OLS Regression Results                            \n",
       "==============================================================================\n",
       "Dep. Variable:          delta_run_exp   R-squared:                       0.591\n",
       "Model:                            OLS   Adj. R-squared:                  0.591\n",
       "Method:                 Least Squares   F-statistic:                     9778.\n",
       "Date:                Sat, 26 Feb 2022   Prob (F-statistic):               0.00\n",
       "Time:                        16:36:53   Log-Likelihood:                 18990.\n",
       "No. Observations:               47442   AIC:                        -3.796e+04\n",
       "Df Residuals:                   47434   BIC:                        -3.789e+04\n",
       "Df Model:                           7                                         \n",
       "Covariance Type:            nonrobust                                         \n",
       "==============================================================================\n",
       "                 coef    std err          t      P>|t|      [0.025      0.975]\n",
       "------------------------------------------------------------------------------\n",
       "const          0.0370      0.024      1.558      0.119      -0.010       0.084\n",
       "velo          -0.0009      0.000     -3.466      0.001      -0.001      -0.000\n",
       "pfx_-x         0.0003      0.000      1.273      0.203      -0.000       0.001\n",
       "pfx_z          0.0004      0.000      1.472      0.141      -0.000       0.001\n",
       "woba_value     0.6426      0.002    261.501      0.000       0.638       0.647\n",
       "plate_x        0.0063      0.001      6.870      0.000       0.005       0.008\n",
       "plate_z       -0.0060      0.001     -7.033      0.000      -0.008      -0.004\n",
       "label          0.0032      0.002      1.325      0.185      -0.002       0.008\n",
       "==============================================================================\n",
       "Omnibus:                    10644.523   Durbin-Watson:                   2.084\n",
       "Prob(Omnibus):                  0.000   Jarque-Bera (JB):           373630.325\n",
       "Skew:                           0.349   Prob(JB):                         0.00\n",
       "Kurtosis:                      16.730   Cond. No.                     2.85e+03\n",
       "==============================================================================\n",
       "\n",
       "Notes:\n",
       "[1] Standard Errors assume that the covariance matrix of the errors is correctly specified.\n",
       "[2] The condition number is large, 2.85e+03. This might indicate that there are\n",
       "strong multicollinearity or other numerical problems.\n",
       "\"\"\""
      ]
     },
     "execution_count": 25,
     "metadata": {},
     "output_type": "execute_result"
    }
   ],
   "source": [
    "X = X_fc.drop(columns = ['delta_run_exp'])\n",
    "X = sm.add_constant(X)\n",
    "y = X_fc['delta_run_exp']\n",
    "\n",
    "ols_fc = sm.OLS(y, X)\n",
    "ols_fc = ols_fc.fit()\n",
    "pred_fc = ols_fc.predict(X)\n",
    "ols_fc.summary()"
   ]
  },
  {
   "cell_type": "code",
   "execution_count": 26,
   "id": "28d5fdae",
   "metadata": {},
   "outputs": [
    {
     "data": {
      "image/png": "[encoded data removed]",
      "text/plain": [
       "<Figure size 576x576 with 1 Axes>"
      ]
     },
     "metadata": {
      "needs_background": "light"
     },
     "output_type": "display_data"
    },
    {
     "name": "stdout",
     "output_type": "stream",
     "text": [
      "MSE: 0.0263\n",
      "RMSE: 0.1622\n",
      "MAE: 0.1037\n"
     ]
    }
   ],
   "source": [
    "plt.figure(figsize = (8, 8))\n",
    "\n",
    "plt.scatter(pred_fc, y, s = 20, c = 'b', marker = 'o')\n",
    "plt.plot(pred_fc, np.poly1d(np.polyfit(pred_fc, y, 1))(pred_fc), c = 'r')\n",
    "plt.xlabel('Predicted Values from - $\\hat{y}$', fontsize = 11), plt.ylabel('run_exp', fontsize = 11)\n",
    "plt.title('Predicted Cutter RE Values', fontsize = 14, fontweight = 'bold', pad = 15), plt.show();\n",
    "print('MSE:', round(metrics.mean_squared_error(y, pred_fc), 4))\n",
    "print('RMSE:', round(np.sqrt(metrics.mean_squared_error(y, pred_fc)), 4))\n",
    "print('MAE:', round(metrics.mean_absolute_error(y, pred_fc), 4))"
   ]
  },
  {
   "cell_type": "markdown",
   "id": "b540feab",
   "metadata": {},
   "source": [
    "## Linear Regression - Sinker"
   ]
  },
  {
   "cell_type": "code",
   "execution_count": 27,
   "id": "b09d5d0d",
   "metadata": {},
   "outputs": [
    {
     "data": {
      "text/html": [
       "<table class=\"simpletable\">\n",
       "<caption>OLS Regression Results</caption>\n",
       "<tr>\n",
       "  <th>Dep. Variable:</th>      <td>delta_run_exp</td>  <th>  R-squared:         </th>  <td>   0.583</td> \n",
       "</tr>\n",
       "<tr>\n",
       "  <th>Model:</th>                   <td>OLS</td>       <th>  Adj. R-squared:    </th>  <td>   0.583</td> \n",
       "</tr>\n",
       "<tr>\n",
       "  <th>Method:</th>             <td>Least Squares</td>  <th>  F-statistic:       </th>  <td>2.183e+04</td>\n",
       "</tr>\n",
       "<tr>\n",
       "  <th>Date:</th>             <td>Sat, 26 Feb 2022</td> <th>  Prob (F-statistic):</th>   <td>  0.00</td>  \n",
       "</tr>\n",
       "<tr>\n",
       "  <th>Time:</th>                 <td>16:36:53</td>     <th>  Log-Likelihood:    </th>  <td>  42681.</td> \n",
       "</tr>\n",
       "<tr>\n",
       "  <th>No. Observations:</th>      <td>109145</td>      <th>  AIC:               </th> <td>-8.535e+04</td>\n",
       "</tr>\n",
       "<tr>\n",
       "  <th>Df Residuals:</th>          <td>109137</td>      <th>  BIC:               </th> <td>-8.527e+04</td>\n",
       "</tr>\n",
       "<tr>\n",
       "  <th>Df Model:</th>              <td>     7</td>      <th>                     </th>      <td> </td>    \n",
       "</tr>\n",
       "<tr>\n",
       "  <th>Covariance Type:</th>      <td>nonrobust</td>    <th>                     </th>      <td> </td>    \n",
       "</tr>\n",
       "</table>\n",
       "<table class=\"simpletable\">\n",
       "<tr>\n",
       "       <td></td>         <th>coef</th>     <th>std err</th>      <th>t</th>      <th>P>|t|</th>  <th>[0.025</th>    <th>0.975]</th>  \n",
       "</tr>\n",
       "<tr>\n",
       "  <th>const</th>      <td>   -0.2936</td> <td>    0.017</td> <td>  -17.486</td> <td> 0.000</td> <td>   -0.326</td> <td>   -0.261</td>\n",
       "</tr>\n",
       "<tr>\n",
       "  <th>velo</th>       <td>   -0.0003</td> <td>    0.000</td> <td>   -1.618</td> <td> 0.106</td> <td>   -0.001</td> <td> 5.94e-05</td>\n",
       "</tr>\n",
       "<tr>\n",
       "  <th>pfx_-x</th>     <td>-1.835e-05</td> <td> 3.72e-05</td> <td>   -0.493</td> <td> 0.622</td> <td>-9.12e-05</td> <td> 5.45e-05</td>\n",
       "</tr>\n",
       "<tr>\n",
       "  <th>pfx_z</th>      <td>    0.0006</td> <td>    0.000</td> <td>    5.282</td> <td> 0.000</td> <td>    0.000</td> <td>    0.001</td>\n",
       "</tr>\n",
       "<tr>\n",
       "  <th>woba_value</th> <td>    0.8666</td> <td>    0.005</td> <td>  188.119</td> <td> 0.000</td> <td>    0.858</td> <td>    0.876</td>\n",
       "</tr>\n",
       "<tr>\n",
       "  <th>plate_x</th>    <td>    0.0004</td> <td>    0.001</td> <td>    0.660</td> <td> 0.509</td> <td>   -0.001</td> <td>    0.002</td>\n",
       "</tr>\n",
       "<tr>\n",
       "  <th>plate_z</th>    <td>   -0.0058</td> <td>    0.001</td> <td>   -9.134</td> <td> 0.000</td> <td>   -0.007</td> <td>   -0.005</td>\n",
       "</tr>\n",
       "<tr>\n",
       "  <th>label</th>      <td>    0.2722</td> <td>    0.005</td> <td>   57.249</td> <td> 0.000</td> <td>    0.263</td> <td>    0.281</td>\n",
       "</tr>\n",
       "</table>\n",
       "<table class=\"simpletable\">\n",
       "<tr>\n",
       "  <th>Omnibus:</th>       <td>19165.211</td> <th>  Durbin-Watson:     </th>  <td>   2.086</td> \n",
       "</tr>\n",
       "<tr>\n",
       "  <th>Prob(Omnibus):</th>  <td> 0.000</td>   <th>  Jarque-Bera (JB):  </th> <td>462325.662</td>\n",
       "</tr>\n",
       "<tr>\n",
       "  <th>Skew:</th>           <td>-0.088</td>   <th>  Prob(JB):          </th>  <td>    0.00</td> \n",
       "</tr>\n",
       "<tr>\n",
       "  <th>Kurtosis:</th>       <td>13.081</td>   <th>  Cond. No.          </th>  <td>3.20e+03</td> \n",
       "</tr>\n",
       "</table><br/><br/>Notes:<br/>[1] Standard Errors assume that the covariance matrix of the errors is correctly specified.<br/>[2] The condition number is large, 3.2e+03. This might indicate that there are<br/>strong multicollinearity or other numerical problems."
      ],
      "text/plain": [
       "<class 'statsmodels.iolib.summary.Summary'>\n",
       "\"\"\"\n",
       "                            OLS Regression Results                            \n",
       "==============================================================================\n",
       "Dep. Variable:          delta_run_exp   R-squared:                       0.583\n",
       "Model:                            OLS   Adj. R-squared:                  0.583\n",
       "Method:                 Least Squares   F-statistic:                 2.183e+04\n",
       "Date:                Sat, 26 Feb 2022   Prob (F-statistic):               0.00\n",
       "Time:                        16:36:53   Log-Likelihood:                 42681.\n",
       "No. Observations:              109145   AIC:                        -8.535e+04\n",
       "Df Residuals:                  109137   BIC:                        -8.527e+04\n",
       "Df Model:                           7                                         \n",
       "Covariance Type:            nonrobust                                         \n",
       "==============================================================================\n",
       "                 coef    std err          t      P>|t|      [0.025      0.975]\n",
       "------------------------------------------------------------------------------\n",
       "const         -0.2936      0.017    -17.486      0.000      -0.326      -0.261\n",
       "velo          -0.0003      0.000     -1.618      0.106      -0.001    5.94e-05\n",
       "pfx_-x     -1.835e-05   3.72e-05     -0.493      0.622   -9.12e-05    5.45e-05\n",
       "pfx_z          0.0006      0.000      5.282      0.000       0.000       0.001\n",
       "woba_value     0.8666      0.005    188.119      0.000       0.858       0.876\n",
       "plate_x        0.0004      0.001      0.660      0.509      -0.001       0.002\n",
       "plate_z       -0.0058      0.001     -9.134      0.000      -0.007      -0.005\n",
       "label          0.2722      0.005     57.249      0.000       0.263       0.281\n",
       "==============================================================================\n",
       "Omnibus:                    19165.211   Durbin-Watson:                   2.086\n",
       "Prob(Omnibus):                  0.000   Jarque-Bera (JB):           462325.662\n",
       "Skew:                          -0.088   Prob(JB):                         0.00\n",
       "Kurtosis:                      13.081   Cond. No.                     3.20e+03\n",
       "==============================================================================\n",
       "\n",
       "Notes:\n",
       "[1] Standard Errors assume that the covariance matrix of the errors is correctly specified.\n",
       "[2] The condition number is large, 3.2e+03. This might indicate that there are\n",
       "strong multicollinearity or other numerical problems.\n",
       "\"\"\""
      ]
     },
     "execution_count": 27,
     "metadata": {},
     "output_type": "execute_result"
    }
   ],
   "source": [
    "X = X_si.drop(columns = ['delta_run_exp'])\n",
    "X = sm.add_constant(X)\n",
    "y = X_si['delta_run_exp']\n",
    "\n",
    "ols_si = sm.OLS(y, X)\n",
    "ols_si = ols_si.fit()\n",
    "pred_si = ols_si.predict(X)\n",
    "ols_si.summary()"
   ]
  },
  {
   "cell_type": "code",
   "execution_count": 28,
   "id": "adb8de73",
   "metadata": {},
   "outputs": [
    {
     "data": {
      "image/png": "[encoded data removed]",
      "text/plain": [
       "<Figure size 576x576 with 1 Axes>"
      ]
     },
     "metadata": {
      "needs_background": "light"
     },
     "output_type": "display_data"
    },
    {
     "name": "stdout",
     "output_type": "stream",
     "text": [
      "MSE: 0.0268\n",
      "RMSE: 0.1637\n",
      "MAE: 0.1055\n"
     ]
    }
   ],
   "source": [
    "plt.figure(figsize = (8, 8))\n",
    "\n",
    "plt.scatter(pred_si, y, s = 20, c = 'b', marker = 'o')\n",
    "plt.plot(pred_si, np.poly1d(np.polyfit(pred_si, y, 1))(pred_si), c = 'r')\n",
    "plt.xlabel('Predicted Values from - $\\hat{y}$', fontsize = 11), plt.ylabel('run_exp', fontsize = 11)\n",
    "plt.title('Predicted Sinker RE Values', fontsize = 14, fontweight = 'bold', pad = 15), plt.show();\n",
    "print('MSE:', round(metrics.mean_squared_error(y, pred_si), 4))\n",
    "print('RMSE:', round(np.sqrt(metrics.mean_squared_error(y, pred_si)), 4))\n",
    "print('MAE:', round(metrics.mean_absolute_error(y, pred_si), 4))"
   ]
  },
  {
   "cell_type": "markdown",
   "id": "9ccade27",
   "metadata": {},
   "source": [
    "## Linear Regression - Slider"
   ]
  },
  {
   "cell_type": "code",
   "execution_count": 29,
   "id": "16411d95",
   "metadata": {},
   "outputs": [
    {
     "data": {
      "text/html": [
       "<table class=\"simpletable\">\n",
       "<caption>OLS Regression Results</caption>\n",
       "<tr>\n",
       "  <th>Dep. Variable:</th>      <td>delta_run_exp</td>  <th>  R-squared:         </th>  <td>   0.604</td> \n",
       "</tr>\n",
       "<tr>\n",
       "  <th>Model:</th>                   <td>OLS</td>       <th>  Adj. R-squared:    </th>  <td>   0.604</td> \n",
       "</tr>\n",
       "<tr>\n",
       "  <th>Method:</th>             <td>Least Squares</td>  <th>  F-statistic:       </th>  <td>2.950e+04</td>\n",
       "</tr>\n",
       "<tr>\n",
       "  <th>Date:</th>             <td>Sat, 26 Feb 2022</td> <th>  Prob (F-statistic):</th>   <td>  0.00</td>  \n",
       "</tr>\n",
       "<tr>\n",
       "  <th>Time:</th>                 <td>16:36:53</td>     <th>  Log-Likelihood:    </th>  <td>  59817.</td> \n",
       "</tr>\n",
       "<tr>\n",
       "  <th>No. Observations:</th>      <td>135539</td>      <th>  AIC:               </th> <td>-1.196e+05</td>\n",
       "</tr>\n",
       "<tr>\n",
       "  <th>Df Residuals:</th>          <td>135531</td>      <th>  BIC:               </th> <td>-1.195e+05</td>\n",
       "</tr>\n",
       "<tr>\n",
       "  <th>Df Model:</th>              <td>     7</td>      <th>                     </th>      <td> </td>    \n",
       "</tr>\n",
       "<tr>\n",
       "  <th>Covariance Type:</th>      <td>nonrobust</td>    <th>                     </th>      <td> </td>    \n",
       "</tr>\n",
       "</table>\n",
       "<table class=\"simpletable\">\n",
       "<tr>\n",
       "       <td></td>         <th>coef</th>     <th>std err</th>      <th>t</th>      <th>P>|t|</th>  <th>[0.025</th>    <th>0.975]</th>  \n",
       "</tr>\n",
       "<tr>\n",
       "  <th>const</th>      <td>   -0.0840</td> <td>    0.012</td> <td>   -7.224</td> <td> 0.000</td> <td>   -0.107</td> <td>   -0.061</td>\n",
       "</tr>\n",
       "<tr>\n",
       "  <th>velo</th>       <td>   -0.0013</td> <td>    0.000</td> <td>  -10.670</td> <td> 0.000</td> <td>   -0.002</td> <td>   -0.001</td>\n",
       "</tr>\n",
       "<tr>\n",
       "  <th>pfx_-x</th>     <td>    0.0002</td> <td> 6.09e-05</td> <td>    4.072</td> <td> 0.000</td> <td>    0.000</td> <td>    0.000</td>\n",
       "</tr>\n",
       "<tr>\n",
       "  <th>pfx_z</th>      <td>    0.0003</td> <td> 9.83e-05</td> <td>    3.123</td> <td> 0.002</td> <td>    0.000</td> <td>    0.000</td>\n",
       "</tr>\n",
       "<tr>\n",
       "  <th>woba_value</th> <td>    0.8183</td> <td>    0.004</td> <td>  209.654</td> <td> 0.000</td> <td>    0.811</td> <td>    0.826</td>\n",
       "</tr>\n",
       "<tr>\n",
       "  <th>plate_x</th>    <td>    0.0049</td> <td>    0.000</td> <td>    9.871</td> <td> 0.000</td> <td>    0.004</td> <td>    0.006</td>\n",
       "</tr>\n",
       "<tr>\n",
       "  <th>plate_z</th>    <td>   -0.0165</td> <td>    0.000</td> <td>  -35.089</td> <td> 0.000</td> <td>   -0.017</td> <td>   -0.016</td>\n",
       "</tr>\n",
       "<tr>\n",
       "  <th>label</th>      <td>    0.1771</td> <td>    0.004</td> <td>   40.488</td> <td> 0.000</td> <td>    0.169</td> <td>    0.186</td>\n",
       "</tr>\n",
       "</table>\n",
       "<table class=\"simpletable\">\n",
       "<tr>\n",
       "  <th>Omnibus:</th>       <td>29245.794</td> <th>  Durbin-Watson:     </th>  <td>   2.064</td>  \n",
       "</tr>\n",
       "<tr>\n",
       "  <th>Prob(Omnibus):</th>  <td> 0.000</td>   <th>  Jarque-Bera (JB):  </th> <td>1011297.020</td>\n",
       "</tr>\n",
       "<tr>\n",
       "  <th>Skew:</th>           <td> 0.290</td>   <th>  Prob(JB):          </th>  <td>    0.00</td>  \n",
       "</tr>\n",
       "<tr>\n",
       "  <th>Kurtosis:</th>       <td>16.369</td>   <th>  Cond. No.          </th>  <td>2.39e+03</td>  \n",
       "</tr>\n",
       "</table><br/><br/>Notes:<br/>[1] Standard Errors assume that the covariance matrix of the errors is correctly specified.<br/>[2] The condition number is large, 2.39e+03. This might indicate that there are<br/>strong multicollinearity or other numerical problems."
      ],
      "text/plain": [
       "<class 'statsmodels.iolib.summary.Summary'>\n",
       "\"\"\"\n",
       "                            OLS Regression Results                            \n",
       "==============================================================================\n",
       "Dep. Variable:          delta_run_exp   R-squared:                       0.604\n",
       "Model:                            OLS   Adj. R-squared:                  0.604\n",
       "Method:                 Least Squares   F-statistic:                 2.950e+04\n",
       "Date:                Sat, 26 Feb 2022   Prob (F-statistic):               0.00\n",
       "Time:                        16:36:53   Log-Likelihood:                 59817.\n",
       "No. Observations:              135539   AIC:                        -1.196e+05\n",
       "Df Residuals:                  135531   BIC:                        -1.195e+05\n",
       "Df Model:                           7                                         \n",
       "Covariance Type:            nonrobust                                         \n",
       "==============================================================================\n",
       "                 coef    std err          t      P>|t|      [0.025      0.975]\n",
       "------------------------------------------------------------------------------\n",
       "const         -0.0840      0.012     -7.224      0.000      -0.107      -0.061\n",
       "velo          -0.0013      0.000    -10.670      0.000      -0.002      -0.001\n",
       "pfx_-x         0.0002   6.09e-05      4.072      0.000       0.000       0.000\n",
       "pfx_z          0.0003   9.83e-05      3.123      0.002       0.000       0.000\n",
       "woba_value     0.8183      0.004    209.654      0.000       0.811       0.826\n",
       "plate_x        0.0049      0.000      9.871      0.000       0.004       0.006\n",
       "plate_z       -0.0165      0.000    -35.089      0.000      -0.017      -0.016\n",
       "label          0.1771      0.004     40.488      0.000       0.169       0.186\n",
       "==============================================================================\n",
       "Omnibus:                    29245.794   Durbin-Watson:                   2.064\n",
       "Prob(Omnibus):                  0.000   Jarque-Bera (JB):          1011297.020\n",
       "Skew:                           0.290   Prob(JB):                         0.00\n",
       "Kurtosis:                      16.369   Cond. No.                     2.39e+03\n",
       "==============================================================================\n",
       "\n",
       "Notes:\n",
       "[1] Standard Errors assume that the covariance matrix of the errors is correctly specified.\n",
       "[2] The condition number is large, 2.39e+03. This might indicate that there are\n",
       "strong multicollinearity or other numerical problems.\n",
       "\"\"\""
      ]
     },
     "execution_count": 29,
     "metadata": {},
     "output_type": "execute_result"
    }
   ],
   "source": [
    "X = X_sl.drop(columns = ['delta_run_exp'])\n",
    "X = sm.add_constant(X)\n",
    "y = X_sl['delta_run_exp']\n",
    "\n",
    "ols_sl = sm.OLS(y, X)\n",
    "ols_sl = ols_sl.fit()\n",
    "pred_sl = ols_sl.predict(X)\n",
    "ols_sl.summary()"
   ]
  },
  {
   "cell_type": "code",
   "execution_count": 30,
   "id": "1cb2e2f5",
   "metadata": {},
   "outputs": [
    {
     "data": {
      "image/png": "[encoded data removed]",
      "text/plain": [
       "<Figure size 576x576 with 1 Axes>"
      ]
     },
     "metadata": {
      "needs_background": "light"
     },
     "output_type": "display_data"
    },
    {
     "name": "stdout",
     "output_type": "stream",
     "text": [
      "MSE: 0.0242\n",
      "RMSE: 0.1556\n",
      "MAE: 0.0998\n"
     ]
    }
   ],
   "source": [
    "plt.figure(figsize = (8, 8))\n",
    "\n",
    "plt.scatter(pred_sl, y, s = 20, c = 'b', marker = 'o')\n",
    "plt.plot(pred_sl, np.poly1d(np.polyfit(pred_sl, y, 1))(pred_sl), c = 'r')\n",
    "plt.xlabel('Predicted Values from - $\\hat{y}$', fontsize = 11), plt.ylabel('run_exp', fontsize = 11)\n",
    "plt.title('Predicted Slider RE Values', fontsize = 14, fontweight = 'bold', pad = 15), plt.show();\n",
    "print('MSE:', round(metrics.mean_squared_error(y, pred_sl), 4))\n",
    "print('RMSE:', round(np.sqrt(metrics.mean_squared_error(y, pred_sl)), 4))\n",
    "print('MAE:', round(metrics.mean_absolute_error(y, pred_sl), 4))"
   ]
  },
  {
   "cell_type": "markdown",
   "id": "3bc74d5a",
   "metadata": {},
   "source": [
    "## Linear Regression - Curveball"
   ]
  },
  {
   "cell_type": "code",
   "execution_count": 31,
   "id": "e500468d",
   "metadata": {},
   "outputs": [
    {
     "data": {
      "text/html": [
       "<table class=\"simpletable\">\n",
       "<caption>OLS Regression Results</caption>\n",
       "<tr>\n",
       "  <th>Dep. Variable:</th>      <td>delta_run_exp</td>  <th>  R-squared:         </th>  <td>   0.605</td> \n",
       "</tr>\n",
       "<tr>\n",
       "  <th>Model:</th>                   <td>OLS</td>       <th>  Adj. R-squared:    </th>  <td>   0.605</td> \n",
       "</tr>\n",
       "<tr>\n",
       "  <th>Method:</th>             <td>Least Squares</td>  <th>  F-statistic:       </th>  <td>1.284e+04</td>\n",
       "</tr>\n",
       "<tr>\n",
       "  <th>Date:</th>             <td>Sat, 26 Feb 2022</td> <th>  Prob (F-statistic):</th>   <td>  0.00</td>  \n",
       "</tr>\n",
       "<tr>\n",
       "  <th>Time:</th>                 <td>16:36:53</td>     <th>  Log-Likelihood:    </th>  <td>  32022.</td> \n",
       "</tr>\n",
       "<tr>\n",
       "  <th>No. Observations:</th>      <td> 58767</td>      <th>  AIC:               </th> <td>-6.403e+04</td>\n",
       "</tr>\n",
       "<tr>\n",
       "  <th>Df Residuals:</th>          <td> 58759</td>      <th>  BIC:               </th> <td>-6.396e+04</td>\n",
       "</tr>\n",
       "<tr>\n",
       "  <th>Df Model:</th>              <td>     7</td>      <th>                     </th>      <td> </td>    \n",
       "</tr>\n",
       "<tr>\n",
       "  <th>Covariance Type:</th>      <td>nonrobust</td>    <th>                     </th>      <td> </td>    \n",
       "</tr>\n",
       "</table>\n",
       "<table class=\"simpletable\">\n",
       "<tr>\n",
       "       <td></td>         <th>coef</th>     <th>std err</th>      <th>t</th>      <th>P>|t|</th>  <th>[0.025</th>    <th>0.975]</th>  \n",
       "</tr>\n",
       "<tr>\n",
       "  <th>const</th>      <td>   -0.1782</td> <td>    0.015</td> <td>  -12.151</td> <td> 0.000</td> <td>   -0.207</td> <td>   -0.149</td>\n",
       "</tr>\n",
       "<tr>\n",
       "  <th>velo</th>       <td>   -0.0008</td> <td>    0.000</td> <td>   -5.219</td> <td> 0.000</td> <td>   -0.001</td> <td>   -0.001</td>\n",
       "</tr>\n",
       "<tr>\n",
       "  <th>pfx_-x</th>     <td> 7.094e-05</td> <td> 5.97e-05</td> <td>    1.188</td> <td> 0.235</td> <td>-4.61e-05</td> <td>    0.000</td>\n",
       "</tr>\n",
       "<tr>\n",
       "  <th>pfx_z</th>      <td> -8.04e-05</td> <td>    0.000</td> <td>   -0.776</td> <td> 0.438</td> <td>   -0.000</td> <td>    0.000</td>\n",
       "</tr>\n",
       "<tr>\n",
       "  <th>woba_value</th> <td>    0.8416</td> <td>    0.006</td> <td>  137.171</td> <td> 0.000</td> <td>    0.830</td> <td>    0.854</td>\n",
       "</tr>\n",
       "<tr>\n",
       "  <th>plate_x</th>    <td>    0.0003</td> <td>    0.001</td> <td>    0.419</td> <td> 0.675</td> <td>   -0.001</td> <td>    0.002</td>\n",
       "</tr>\n",
       "<tr>\n",
       "  <th>plate_z</th>    <td>   -0.0105</td> <td>    0.001</td> <td>  -18.735</td> <td> 0.000</td> <td>   -0.012</td> <td>   -0.009</td>\n",
       "</tr>\n",
       "<tr>\n",
       "  <th>label</th>      <td>    0.2230</td> <td>    0.007</td> <td>   33.053</td> <td> 0.000</td> <td>    0.210</td> <td>    0.236</td>\n",
       "</tr>\n",
       "</table>\n",
       "<table class=\"simpletable\">\n",
       "<tr>\n",
       "  <th>Omnibus:</th>       <td>15091.414</td> <th>  Durbin-Watson:     </th>  <td>   2.021</td> \n",
       "</tr>\n",
       "<tr>\n",
       "  <th>Prob(Omnibus):</th>  <td> 0.000</td>   <th>  Jarque-Bera (JB):  </th> <td>717860.068</td>\n",
       "</tr>\n",
       "<tr>\n",
       "  <th>Skew:</th>           <td> 0.441</td>   <th>  Prob(JB):          </th>  <td>    0.00</td> \n",
       "</tr>\n",
       "<tr>\n",
       "  <th>Kurtosis:</th>       <td>20.099</td>   <th>  Cond. No.          </th>  <td>2.12e+03</td> \n",
       "</tr>\n",
       "</table><br/><br/>Notes:<br/>[1] Standard Errors assume that the covariance matrix of the errors is correctly specified.<br/>[2] The condition number is large, 2.12e+03. This might indicate that there are<br/>strong multicollinearity or other numerical problems."
      ],
      "text/plain": [
       "<class 'statsmodels.iolib.summary.Summary'>\n",
       "\"\"\"\n",
       "                            OLS Regression Results                            \n",
       "==============================================================================\n",
       "Dep. Variable:          delta_run_exp   R-squared:                       0.605\n",
       "Model:                            OLS   Adj. R-squared:                  0.605\n",
       "Method:                 Least Squares   F-statistic:                 1.284e+04\n",
       "Date:                Sat, 26 Feb 2022   Prob (F-statistic):               0.00\n",
       "Time:                        16:36:53   Log-Likelihood:                 32022.\n",
       "No. Observations:               58767   AIC:                        -6.403e+04\n",
       "Df Residuals:                   58759   BIC:                        -6.396e+04\n",
       "Df Model:                           7                                         \n",
       "Covariance Type:            nonrobust                                         \n",
       "==============================================================================\n",
       "                 coef    std err          t      P>|t|      [0.025      0.975]\n",
       "------------------------------------------------------------------------------\n",
       "const         -0.1782      0.015    -12.151      0.000      -0.207      -0.149\n",
       "velo          -0.0008      0.000     -5.219      0.000      -0.001      -0.001\n",
       "pfx_-x      7.094e-05   5.97e-05      1.188      0.235   -4.61e-05       0.000\n",
       "pfx_z       -8.04e-05      0.000     -0.776      0.438      -0.000       0.000\n",
       "woba_value     0.8416      0.006    137.171      0.000       0.830       0.854\n",
       "plate_x        0.0003      0.001      0.419      0.675      -0.001       0.002\n",
       "plate_z       -0.0105      0.001    -18.735      0.000      -0.012      -0.009\n",
       "label          0.2230      0.007     33.053      0.000       0.210       0.236\n",
       "==============================================================================\n",
       "Omnibus:                    15091.414   Durbin-Watson:                   2.021\n",
       "Prob(Omnibus):                  0.000   Jarque-Bera (JB):           717860.068\n",
       "Skew:                           0.441   Prob(JB):                         0.00\n",
       "Kurtosis:                      20.099   Cond. No.                     2.12e+03\n",
       "==============================================================================\n",
       "\n",
       "Notes:\n",
       "[1] Standard Errors assume that the covariance matrix of the errors is correctly specified.\n",
       "[2] The condition number is large, 2.12e+03. This might indicate that there are\n",
       "strong multicollinearity or other numerical problems.\n",
       "\"\"\""
      ]
     },
     "execution_count": 31,
     "metadata": {},
     "output_type": "execute_result"
    }
   ],
   "source": [
    "X = X_cu.drop(columns = ['delta_run_exp'])\n",
    "X = sm.add_constant(X)\n",
    "y = X_cu['delta_run_exp']\n",
    "\n",
    "ols_cu = sm.OLS(y, X)\n",
    "ols_cu = ols_cu.fit()\n",
    "pred_cu = ols_cu.predict(X)\n",
    "ols_cu.summary()"
   ]
  },
  {
   "cell_type": "code",
   "execution_count": 32,
   "id": "ad6462d0",
   "metadata": {},
   "outputs": [
    {
     "data": {
      "image/png": "[encoded data removed]",
      "text/plain": [
       "<Figure size 576x576 with 1 Axes>"
      ]
     },
     "metadata": {
      "needs_background": "light"
     },
     "output_type": "display_data"
    },
    {
     "name": "stdout",
     "output_type": "stream",
     "text": [
      "MSE: 0.0197\n",
      "RMSE: 0.1403\n",
      "MAE: 0.0879\n"
     ]
    }
   ],
   "source": [
    "plt.figure(figsize = (8, 8))\n",
    "\n",
    "plt.scatter(pred_cu, y, s = 20, c = 'b', marker = 'o')\n",
    "plt.plot(pred_cu, np.poly1d(np.polyfit(pred_cu, y, 1))(pred_cu), c = 'r')\n",
    "plt.xlabel('Predicted Values from - $\\hat{y}$', fontsize = 11), plt.ylabel('run_exp', fontsize = 11)\n",
    "plt.title('Predicted Curveball RE Values', fontsize = 14, fontweight = 'bold', pad = 15), plt.show();\n",
    "print('MSE:', round(metrics.mean_squared_error(y, pred_cu), 4))\n",
    "print('RMSE:', round(np.sqrt(metrics.mean_squared_error(y, pred_cu)), 4))\n",
    "print('MAE:', round(metrics.mean_absolute_error(y, pred_cu), 4))"
   ]
  },
  {
   "cell_type": "markdown",
   "id": "3938f75e",
   "metadata": {},
   "source": [
    "## Linear Regression - Changeup"
   ]
  },
  {
   "cell_type": "code",
   "execution_count": 33,
   "id": "5f610ccd",
   "metadata": {},
   "outputs": [
    {
     "data": {
      "text/html": [
       "<table class=\"simpletable\">\n",
       "<caption>OLS Regression Results</caption>\n",
       "<tr>\n",
       "  <th>Dep. Variable:</th>      <td>delta_run_exp</td>  <th>  R-squared:         </th>  <td>   0.599</td> \n",
       "</tr>\n",
       "<tr>\n",
       "  <th>Model:</th>                   <td>OLS</td>       <th>  Adj. R-squared:    </th>  <td>   0.599</td> \n",
       "</tr>\n",
       "<tr>\n",
       "  <th>Method:</th>             <td>Least Squares</td>  <th>  F-statistic:       </th>  <td>2.000e+04</td>\n",
       "</tr>\n",
       "<tr>\n",
       "  <th>Date:</th>             <td>Sat, 26 Feb 2022</td> <th>  Prob (F-statistic):</th>   <td>  0.00</td>  \n",
       "</tr>\n",
       "<tr>\n",
       "  <th>Time:</th>                 <td>16:36:54</td>     <th>  Log-Likelihood:    </th>  <td>  33571.</td> \n",
       "</tr>\n",
       "<tr>\n",
       "  <th>No. Observations:</th>      <td> 80322</td>      <th>  AIC:               </th> <td>-6.713e+04</td>\n",
       "</tr>\n",
       "<tr>\n",
       "  <th>Df Residuals:</th>          <td> 80315</td>      <th>  BIC:               </th> <td>-6.706e+04</td>\n",
       "</tr>\n",
       "<tr>\n",
       "  <th>Df Model:</th>              <td>     6</td>      <th>                     </th>      <td> </td>    \n",
       "</tr>\n",
       "<tr>\n",
       "  <th>Covariance Type:</th>      <td>nonrobust</td>    <th>                     </th>      <td> </td>    \n",
       "</tr>\n",
       "</table>\n",
       "<table class=\"simpletable\">\n",
       "<tr>\n",
       "       <td></td>         <th>coef</th>     <th>std err</th>      <th>t</th>      <th>P>|t|</th>  <th>[0.025</th>    <th>0.975]</th>  \n",
       "</tr>\n",
       "<tr>\n",
       "  <th>const</th>      <td>   -0.0153</td> <td>    0.014</td> <td>   -1.066</td> <td> 0.286</td> <td>   -0.043</td> <td>    0.013</td>\n",
       "</tr>\n",
       "<tr>\n",
       "  <th>velo</th>       <td>-7.391e-05</td> <td>    0.000</td> <td>   -0.442</td> <td> 0.659</td> <td>   -0.000</td> <td>    0.000</td>\n",
       "</tr>\n",
       "<tr>\n",
       "  <th>pfx_-x</th>     <td> 4.968e-05</td> <td> 4.77e-05</td> <td>    1.041</td> <td> 0.298</td> <td>-4.38e-05</td> <td>    0.000</td>\n",
       "</tr>\n",
       "<tr>\n",
       "  <th>pfx_z</th>      <td>    0.0005</td> <td>    0.000</td> <td>    4.523</td> <td> 0.000</td> <td>    0.000</td> <td>    0.001</td>\n",
       "</tr>\n",
       "<tr>\n",
       "  <th>woba_value</th> <td>    0.6504</td> <td>    0.002</td> <td>  346.410</td> <td> 0.000</td> <td>    0.647</td> <td>    0.654</td>\n",
       "</tr>\n",
       "<tr>\n",
       "  <th>plate_x</th>    <td>   -0.0024</td> <td>    0.001</td> <td>   -3.262</td> <td> 0.001</td> <td>   -0.004</td> <td>   -0.001</td>\n",
       "</tr>\n",
       "<tr>\n",
       "  <th>plate_z</th>    <td>   -0.0181</td> <td>    0.001</td> <td>  -28.262</td> <td> 0.000</td> <td>   -0.019</td> <td>   -0.017</td>\n",
       "</tr>\n",
       "</table>\n",
       "<table class=\"simpletable\">\n",
       "<tr>\n",
       "  <th>Omnibus:</th>       <td>16481.940</td> <th>  Durbin-Watson:     </th>  <td>   2.053</td> \n",
       "</tr>\n",
       "<tr>\n",
       "  <th>Prob(Omnibus):</th>  <td> 0.000</td>   <th>  Jarque-Bera (JB):  </th> <td>482239.403</td>\n",
       "</tr>\n",
       "<tr>\n",
       "  <th>Skew:</th>           <td> 0.292</td>   <th>  Prob(JB):          </th>  <td>    0.00</td> \n",
       "</tr>\n",
       "<tr>\n",
       "  <th>Kurtosis:</th>       <td>14.990</td>   <th>  Cond. No.          </th>  <td>2.18e+03</td> \n",
       "</tr>\n",
       "</table><br/><br/>Notes:<br/>[1] Standard Errors assume that the covariance matrix of the errors is correctly specified.<br/>[2] The condition number is large, 2.18e+03. This might indicate that there are<br/>strong multicollinearity or other numerical problems."
      ],
      "text/plain": [
       "<class 'statsmodels.iolib.summary.Summary'>\n",
       "\"\"\"\n",
       "                            OLS Regression Results                            \n",
       "==============================================================================\n",
       "Dep. Variable:          delta_run_exp   R-squared:                       0.599\n",
       "Model:                            OLS   Adj. R-squared:                  0.599\n",
       "Method:                 Least Squares   F-statistic:                 2.000e+04\n",
       "Date:                Sat, 26 Feb 2022   Prob (F-statistic):               0.00\n",
       "Time:                        16:36:54   Log-Likelihood:                 33571.\n",
       "No. Observations:               80322   AIC:                        -6.713e+04\n",
       "Df Residuals:                   80315   BIC:                        -6.706e+04\n",
       "Df Model:                           6                                         \n",
       "Covariance Type:            nonrobust                                         \n",
       "==============================================================================\n",
       "                 coef    std err          t      P>|t|      [0.025      0.975]\n",
       "------------------------------------------------------------------------------\n",
       "const         -0.0153      0.014     -1.066      0.286      -0.043       0.013\n",
       "velo       -7.391e-05      0.000     -0.442      0.659      -0.000       0.000\n",
       "pfx_-x      4.968e-05   4.77e-05      1.041      0.298   -4.38e-05       0.000\n",
       "pfx_z          0.0005      0.000      4.523      0.000       0.000       0.001\n",
       "woba_value     0.6504      0.002    346.410      0.000       0.647       0.654\n",
       "plate_x       -0.0024      0.001     -3.262      0.001      -0.004      -0.001\n",
       "plate_z       -0.0181      0.001    -28.262      0.000      -0.019      -0.017\n",
       "==============================================================================\n",
       "Omnibus:                    16481.940   Durbin-Watson:                   2.053\n",
       "Prob(Omnibus):                  0.000   Jarque-Bera (JB):           482239.403\n",
       "Skew:                           0.292   Prob(JB):                         0.00\n",
       "Kurtosis:                      14.990   Cond. No.                     2.18e+03\n",
       "==============================================================================\n",
       "\n",
       "Notes:\n",
       "[1] Standard Errors assume that the covariance matrix of the errors is correctly specified.\n",
       "[2] The condition number is large, 2.18e+03. This might indicate that there are\n",
       "strong multicollinearity or other numerical problems.\n",
       "\"\"\""
      ]
     },
     "execution_count": 33,
     "metadata": {},
     "output_type": "execute_result"
    }
   ],
   "source": [
    "X = X_ch.drop(columns = ['delta_run_exp', 'label'])\n",
    "X = sm.add_constant(X)\n",
    "y = X_ch['delta_run_exp']\n",
    "\n",
    "ols_ch = sm.OLS(y, X)\n",
    "ols_ch = ols_ch.fit()\n",
    "pred_ch = ols_ch.predict(X)\n",
    "ols_ch.summary()"
   ]
  },
  {
   "cell_type": "code",
   "execution_count": 34,
   "id": "723fc505",
   "metadata": {},
   "outputs": [
    {
     "data": {
      "image/png": "[encoded data removed]",
      "text/plain": [
       "<Figure size 576x576 with 1 Axes>"
      ]
     },
     "metadata": {
      "needs_background": "light"
     },
     "output_type": "display_data"
    },
    {
     "name": "stdout",
     "output_type": "stream",
     "text": [
      "MSE: 0.0254\n",
      "RMSE: 0.1593\n",
      "MAE: 0.1057\n"
     ]
    }
   ],
   "source": [
    "plt.figure(figsize = (8, 8))\n",
    "plt.scatter(pred_ch, y, s = 20, c = 'b', marker = 'o')\n",
    "plt.plot(pred_ch, np.poly1d(np.polyfit(pred_ch, y, 1))(pred_ch), c = 'r')\n",
    "plt.xlabel('Predicted Values from - $\\hat{y}$', fontsize = 11), plt.ylabel('run_exp', fontsize = 11)\n",
    "plt.title('Predicted Changeup RE Values', fontsize = 14, fontweight = 'bold', pad = 15), plt.show();\n",
    "print('MSE:', round(metrics.mean_squared_error(y, pred_ch), 4))\n",
    "print('RMSE:', round(np.sqrt(metrics.mean_squared_error(y, pred_ch)), 4))\n",
    "print('MAE:', round(metrics.mean_absolute_error(y, pred_ch), 4))"
   ]
  }
 ],
 "metadata": {
  "kernelspec": {
   "display_name": "Python 3",
   "language": "python",
   "name": "python3"
  },
  "language_info": {
   "codemirror_mode": {
    "name": "ipython",
    "version": 3
   },
   "file_extension": ".py",
   "mimetype": "text/x-python",
   "name": "python",
   "nbconvert_exporter": "python",
   "pygments_lexer": "ipython3",
   "version": "3.8.8"
  }
 },
 "nbformat": 4,
 "nbformat_minor": 5
}
