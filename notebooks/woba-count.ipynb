{
 "cells": [
  {
   "cell_type": "code",
   "execution_count": 1,
   "id": "0f76c5d6",
   "metadata": {},
   "outputs": [],
   "source": [
    "# wOBA by Count\n",
    "\n",
    "count_woba = [['0-0', 0.331], ['0-1', 0.281], ['0-2', 0.207], ['1-0', 0.374], ['1-1', 0.313], ['1-2', 0.233], \n",
    "              ['2-0', 0.444], ['2-1', 0.372], ['2-2', 0.282], ['3-0', 0.588], ['3-1', 0.488], ['3-2', 0.387]]\n",
    "\n",
    "woba_value = pd.DataFrame(count_woba, columns = ['pitch_count', 'count_woba_value'])\n",
    "woba_value.to_csv('../data/count_woba_value.csv')"
   ]
  }
 ],
 "metadata": {
  "kernelspec": {
   "display_name": "Python 3",
   "language": "python",
   "name": "python3"
  },
  "language_info": {
   "codemirror_mode": {
    "name": "ipython",
    "version": 3
   },
   "file_extension": ".py",
   "mimetype": "text/x-python",
   "name": "python",
   "nbconvert_exporter": "python",
   "pygments_lexer": "ipython3",
   "version": "3.8.8"
  }
 },
 "nbformat": 4,
 "nbformat_minor": 5
}
