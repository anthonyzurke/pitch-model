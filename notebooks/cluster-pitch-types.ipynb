{
 "cells": [
  {
   "cell_type": "markdown",
   "id": "426268f7",
   "metadata": {},
   "source": [
    "# Notebook Contents\n",
    "\n",
    "- [Imports](#Imports)\n",
    "- [Data](#Data)\n",
    "- [Features](#Features)\n",
    "- [Clustering](#Clustering)\n",
    "    - [4-Seam](#4-Seam-Fastball)\n",
    "    - [Cutter](#Cutter)\n",
    "    - [Sinker](#Sinker)\n",
    "    - [Slider](#Slider)\n",
    "    - [Curveball](#Curveball)\n",
    "    - [Changeup](#Changeup)"
   ]
  },
  {
   "cell_type": "markdown",
   "id": "9a8c2c47",
   "metadata": {},
   "source": [
    "# Imports"
   ]
  },
  {
   "cell_type": "code",
   "execution_count": 1,
   "id": "3b41894e",
   "metadata": {},
   "outputs": [],
   "source": [
    "from sklearn.preprocessing import StandardScaler\n",
    "from sklearn.decomposition import PCA\n",
    "from sklearn.cluster import KMeans, k_means\n",
    "from sklearn import metrics\n",
    "\n",
    "import warnings\n",
    "warnings.filterwarnings('ignore')"
   ]
  },
  {
   "cell_type": "markdown",
   "id": "7a31fda9",
   "metadata": {},
   "source": [
    "# Data"
   ]
  },
  {
   "cell_type": "code",
   "execution_count": 2,
   "id": "40799b48",
   "metadata": {},
   "outputs": [
    {
     "name": "stdout",
     "output_type": "stream",
     "text": [
      "(705434, 65)\n"
     ]
    },
    {
     "data": {
      "text/html": [
       "<div><div id=359acef1-74be-4efd-95b8-10e5f9909748 style=\"display:none; background-color:#9D6CFF; color:white; width:200px; height:30px; padding-left:5px; border-radius:4px; flex-direction:row; justify-content:space-around; align-items:center;\" onmouseover=\"this.style.backgroundColor='#BA9BF8'\" onmouseout=\"this.style.backgroundColor='#9D6CFF'\" onclick=\"window.commands?.execute('create-mitosheet-from-dataframe-output');\">See Full Dataframe in Mito</div> <script> if (window.commands.hasCommand('create-mitosheet-from-dataframe-output')) document.getElementById('359acef1-74be-4efd-95b8-10e5f9909748').style.display = 'flex' </script> <table border=\"1\" class=\"dataframe\">\n",
       "  <thead>\n",
       "    <tr style=\"text-align: right;\">\n",
       "      <th></th>\n",
       "      <th>player_name</th>\n",
       "      <th>p_throws</th>\n",
       "      <th>pitch_type</th>\n",
       "      <th>velo</th>\n",
       "      <th>spin_rate</th>\n",
       "      <th>spin_axis</th>\n",
       "      <th>pfx_-x</th>\n",
       "      <th>pfx_z</th>\n",
       "      <th>bauer_units</th>\n",
       "      <th>effective_speed</th>\n",
       "      <th>release_pos_-x</th>\n",
       "      <th>release_pos_x</th>\n",
       "      <th>release_pos_z</th>\n",
       "      <th>release_extension</th>\n",
       "      <th>release_pos_y</th>\n",
       "      <th>plate_-x</th>\n",
       "      <th>plate_x</th>\n",
       "      <th>plate_z</th>\n",
       "      <th>type</th>\n",
       "      <th>balls</th>\n",
       "      <th>strikes</th>\n",
       "      <th>pitch_count</th>\n",
       "      <th>stand</th>\n",
       "      <th>bb_type</th>\n",
       "      <th>description</th>\n",
       "      <th>events</th>\n",
       "      <th>hit_distance_sc</th>\n",
       "      <th>exit_velo</th>\n",
       "      <th>launch_angle</th>\n",
       "      <th>woba_value</th>\n",
       "      <th>woba_denom</th>\n",
       "      <th>xwoba</th>\n",
       "      <th>at_bat_number</th>\n",
       "      <th>pitch_number</th>\n",
       "      <th>inning</th>\n",
       "      <th>inning_topbot</th>\n",
       "      <th>home_score</th>\n",
       "      <th>away_score</th>\n",
       "      <th>post_home_score</th>\n",
       "      <th>post_away_score</th>\n",
       "      <th>on_1b</th>\n",
       "      <th>on_2b</th>\n",
       "      <th>on_3b</th>\n",
       "      <th>outs_when_up</th>\n",
       "      <th>arm_angle</th>\n",
       "      <th>slot</th>\n",
       "      <th>is_strike</th>\n",
       "      <th>is_ball</th>\n",
       "      <th>final_pitch_ab</th>\n",
       "      <th>out_to_end_inning</th>\n",
       "      <th>home_runs</th>\n",
       "      <th>away_runs</th>\n",
       "      <th>runs</th>\n",
       "      <th>re</th>\n",
       "      <th>re_change</th>\n",
       "      <th>re_end_state</th>\n",
       "      <th>re24</th>\n",
       "      <th>lin_weight_above_avg</th>\n",
       "      <th>lin_weight_above_outs</th>\n",
       "      <th>woba_scale</th>\n",
       "      <th>lin_weights_above_avg_scale</th>\n",
       "      <th>lin_weights_above_outs_scale</th>\n",
       "      <th>woba</th>\n",
       "      <th>wraa_change</th>\n",
       "      <th>rv</th>\n",
       "    </tr>\n",
       "  </thead>\n",
       "  <tbody>\n",
       "    <tr>\n",
       "      <th>0</th>\n",
       "      <td>Smith, Will</td>\n",
       "      <td>L</td>\n",
       "      <td>FF</td>\n",
       "      <td>92.3</td>\n",
       "      <td>2330.0</td>\n",
       "      <td>148.0</td>\n",
       "      <td>-8.28</td>\n",
       "      <td>16.56</td>\n",
       "      <td>25.243770</td>\n",
       "      <td>92.8</td>\n",
       "      <td>-1.40</td>\n",
       "      <td>1.40</td>\n",
       "      <td>6.80</td>\n",
       "      <td>6.5</td>\n",
       "      <td>54.03</td>\n",
       "      <td>0.69</td>\n",
       "      <td>-0.69</td>\n",
       "      <td>2.83</td>\n",
       "      <td>X</td>\n",
       "      <td>1</td>\n",
       "      <td>2</td>\n",
       "      <td>1-2</td>\n",
       "      <td>R</td>\n",
       "      <td>ground_ball</td>\n",
       "      <td>hit_into_play</td>\n",
       "      <td>field_out</td>\n",
       "      <td>13.0</td>\n",
       "      <td>95.2</td>\n",
       "      <td>-13.0</td>\n",
       "      <td>0.0</td>\n",
       "      <td>1.0</td>\n",
       "      <td>0.158</td>\n",
       "      <td>61</td>\n",
       "      <td>4</td>\n",
       "      <td>9</td>\n",
       "      <td>0</td>\n",
       "      <td>5</td>\n",
       "      <td>0</td>\n",
       "      <td>5</td>\n",
       "      <td>0</td>\n",
       "      <td>0</td>\n",
       "      <td>0</td>\n",
       "      <td>0</td>\n",
       "      <td>2</td>\n",
       "      <td>36.0</td>\n",
       "      <td>1</td>\n",
       "      <td>1</td>\n",
       "      <td>0</td>\n",
       "      <td>1</td>\n",
       "      <td>1</td>\n",
       "      <td>0</td>\n",
       "      <td>0</td>\n",
       "      <td>0</td>\n",
       "      <td>0.11</td>\n",
       "      <td>-0.11</td>\n",
       "      <td>0.00</td>\n",
       "      <td>-0.11</td>\n",
       "      <td>-0.271</td>\n",
       "      <td>0.0</td>\n",
       "      <td>1.209</td>\n",
       "      <td>-0.328</td>\n",
       "      <td>0.0</td>\n",
       "      <td>0.222</td>\n",
       "      <td>-0.152</td>\n",
       "      <td>-0.11</td>\n",
       "    </tr>\n",
       "    <tr>\n",
       "      <th>1</th>\n",
       "      <td>Smith, Will</td>\n",
       "      <td>L</td>\n",
       "      <td>SL</td>\n",
       "      <td>80.6</td>\n",
       "      <td>2254.0</td>\n",
       "      <td>315.0</td>\n",
       "      <td>9.24</td>\n",
       "      <td>5.76</td>\n",
       "      <td>27.965261</td>\n",
       "      <td>81.2</td>\n",
       "      <td>-1.60</td>\n",
       "      <td>1.60</td>\n",
       "      <td>6.64</td>\n",
       "      <td>6.4</td>\n",
       "      <td>54.15</td>\n",
       "      <td>0.71</td>\n",
       "      <td>-0.71</td>\n",
       "      <td>2.62</td>\n",
       "      <td>S</td>\n",
       "      <td>1</td>\n",
       "      <td>1</td>\n",
       "      <td>1-1</td>\n",
       "      <td>R</td>\n",
       "      <td>NaN</td>\n",
       "      <td>strike</td>\n",
       "      <td>NaN</td>\n",
       "      <td>108.0</td>\n",
       "      <td>75.3</td>\n",
       "      <td>75.0</td>\n",
       "      <td>NaN</td>\n",
       "      <td>NaN</td>\n",
       "      <td>NaN</td>\n",
       "      <td>61</td>\n",
       "      <td>3</td>\n",
       "      <td>9</td>\n",
       "      <td>0</td>\n",
       "      <td>5</td>\n",
       "      <td>0</td>\n",
       "      <td>5</td>\n",
       "      <td>0</td>\n",
       "      <td>0</td>\n",
       "      <td>0</td>\n",
       "      <td>0</td>\n",
       "      <td>2</td>\n",
       "      <td>45.8</td>\n",
       "      <td>2</td>\n",
       "      <td>1</td>\n",
       "      <td>0</td>\n",
       "      <td>0</td>\n",
       "      <td>0</td>\n",
       "      <td>0</td>\n",
       "      <td>0</td>\n",
       "      <td>0</td>\n",
       "      <td>0.11</td>\n",
       "      <td>0.00</td>\n",
       "      <td>0.11</td>\n",
       "      <td>0.00</td>\n",
       "      <td>NaN</td>\n",
       "      <td>NaN</td>\n",
       "      <td>1.209</td>\n",
       "      <td>0.000</td>\n",
       "      <td>0.0</td>\n",
       "      <td>0.300</td>\n",
       "      <td>-0.053</td>\n",
       "      <td>0.00</td>\n",
       "    </tr>\n",
       "    <tr>\n",
       "      <th>2</th>\n",
       "      <td>Smith, Will</td>\n",
       "      <td>L</td>\n",
       "      <td>CU</td>\n",
       "      <td>75.5</td>\n",
       "      <td>1940.0</td>\n",
       "      <td>328.0</td>\n",
       "      <td>7.80</td>\n",
       "      <td>-6.12</td>\n",
       "      <td>25.695364</td>\n",
       "      <td>75.2</td>\n",
       "      <td>-1.46</td>\n",
       "      <td>1.46</td>\n",
       "      <td>6.88</td>\n",
       "      <td>6.2</td>\n",
       "      <td>54.34</td>\n",
       "      <td>0.04</td>\n",
       "      <td>-0.04</td>\n",
       "      <td>2.46</td>\n",
       "      <td>S</td>\n",
       "      <td>1</td>\n",
       "      <td>0</td>\n",
       "      <td>1-0</td>\n",
       "      <td>R</td>\n",
       "      <td>NaN</td>\n",
       "      <td>strike</td>\n",
       "      <td>NaN</td>\n",
       "      <td>157.0</td>\n",
       "      <td>83.5</td>\n",
       "      <td>65.0</td>\n",
       "      <td>NaN</td>\n",
       "      <td>NaN</td>\n",
       "      <td>NaN</td>\n",
       "      <td>61</td>\n",
       "      <td>2</td>\n",
       "      <td>9</td>\n",
       "      <td>0</td>\n",
       "      <td>5</td>\n",
       "      <td>0</td>\n",
       "      <td>5</td>\n",
       "      <td>0</td>\n",
       "      <td>0</td>\n",
       "      <td>0</td>\n",
       "      <td>0</td>\n",
       "      <td>2</td>\n",
       "      <td>38.4</td>\n",
       "      <td>1</td>\n",
       "      <td>1</td>\n",
       "      <td>0</td>\n",
       "      <td>0</td>\n",
       "      <td>0</td>\n",
       "      <td>0</td>\n",
       "      <td>0</td>\n",
       "      <td>0</td>\n",
       "      <td>0.11</td>\n",
       "      <td>0.00</td>\n",
       "      <td>0.11</td>\n",
       "      <td>0.00</td>\n",
       "      <td>NaN</td>\n",
       "      <td>NaN</td>\n",
       "      <td>1.209</td>\n",
       "      <td>0.000</td>\n",
       "      <td>0.0</td>\n",
       "      <td>0.356</td>\n",
       "      <td>-0.038</td>\n",
       "      <td>0.00</td>\n",
       "    </tr>\n",
       "    <tr>\n",
       "      <th>3</th>\n",
       "      <td>Smith, Will</td>\n",
       "      <td>L</td>\n",
       "      <td>CU</td>\n",
       "      <td>75.0</td>\n",
       "      <td>2017.0</td>\n",
       "      <td>330.0</td>\n",
       "      <td>8.28</td>\n",
       "      <td>-8.28</td>\n",
       "      <td>26.893333</td>\n",
       "      <td>74.5</td>\n",
       "      <td>-1.53</td>\n",
       "      <td>1.53</td>\n",
       "      <td>6.83</td>\n",
       "      <td>5.9</td>\n",
       "      <td>54.61</td>\n",
       "      <td>-2.10</td>\n",
       "      <td>2.10</td>\n",
       "      <td>3.89</td>\n",
       "      <td>B</td>\n",
       "      <td>0</td>\n",
       "      <td>0</td>\n",
       "      <td>0-0</td>\n",
       "      <td>R</td>\n",
       "      <td>NaN</td>\n",
       "      <td>ball</td>\n",
       "      <td>NaN</td>\n",
       "      <td>NaN</td>\n",
       "      <td>NaN</td>\n",
       "      <td>NaN</td>\n",
       "      <td>NaN</td>\n",
       "      <td>NaN</td>\n",
       "      <td>NaN</td>\n",
       "      <td>61</td>\n",
       "      <td>1</td>\n",
       "      <td>9</td>\n",
       "      <td>0</td>\n",
       "      <td>5</td>\n",
       "      <td>0</td>\n",
       "      <td>5</td>\n",
       "      <td>0</td>\n",
       "      <td>0</td>\n",
       "      <td>0</td>\n",
       "      <td>0</td>\n",
       "      <td>2</td>\n",
       "      <td>38.4</td>\n",
       "      <td>1</td>\n",
       "      <td>0</td>\n",
       "      <td>1</td>\n",
       "      <td>0</td>\n",
       "      <td>0</td>\n",
       "      <td>0</td>\n",
       "      <td>0</td>\n",
       "      <td>0</td>\n",
       "      <td>0.11</td>\n",
       "      <td>0.00</td>\n",
       "      <td>0.11</td>\n",
       "      <td>0.00</td>\n",
       "      <td>NaN</td>\n",
       "      <td>NaN</td>\n",
       "      <td>1.209</td>\n",
       "      <td>0.000</td>\n",
       "      <td>0.0</td>\n",
       "      <td>0.314</td>\n",
       "      <td>0.028</td>\n",
       "      <td>0.00</td>\n",
       "    </tr>\n",
       "    <tr>\n",
       "      <th>4</th>\n",
       "      <td>Smith, Will</td>\n",
       "      <td>L</td>\n",
       "      <td>FF</td>\n",
       "      <td>91.2</td>\n",
       "      <td>2281.0</td>\n",
       "      <td>143.0</td>\n",
       "      <td>-7.56</td>\n",
       "      <td>15.36</td>\n",
       "      <td>25.010965</td>\n",
       "      <td>90.9</td>\n",
       "      <td>-1.49</td>\n",
       "      <td>1.49</td>\n",
       "      <td>6.66</td>\n",
       "      <td>6.3</td>\n",
       "      <td>54.15</td>\n",
       "      <td>0.31</td>\n",
       "      <td>-0.31</td>\n",
       "      <td>2.80</td>\n",
       "      <td>X</td>\n",
       "      <td>1</td>\n",
       "      <td>0</td>\n",
       "      <td>1-0</td>\n",
       "      <td>L</td>\n",
       "      <td>ground_ball</td>\n",
       "      <td>hit_into_play</td>\n",
       "      <td>field_out</td>\n",
       "      <td>9.0</td>\n",
       "      <td>93.3</td>\n",
       "      <td>-18.0</td>\n",
       "      <td>0.0</td>\n",
       "      <td>1.0</td>\n",
       "      <td>0.090</td>\n",
       "      <td>60</td>\n",
       "      <td>2</td>\n",
       "      <td>9</td>\n",
       "      <td>0</td>\n",
       "      <td>5</td>\n",
       "      <td>0</td>\n",
       "      <td>5</td>\n",
       "      <td>0</td>\n",
       "      <td>0</td>\n",
       "      <td>0</td>\n",
       "      <td>0</td>\n",
       "      <td>1</td>\n",
       "      <td>36.0</td>\n",
       "      <td>1</td>\n",
       "      <td>1</td>\n",
       "      <td>0</td>\n",
       "      <td>1</td>\n",
       "      <td>0</td>\n",
       "      <td>0</td>\n",
       "      <td>0</td>\n",
       "      <td>0</td>\n",
       "      <td>0.29</td>\n",
       "      <td>-0.18</td>\n",
       "      <td>0.11</td>\n",
       "      <td>-0.18</td>\n",
       "      <td>-0.271</td>\n",
       "      <td>0.0</td>\n",
       "      <td>1.209</td>\n",
       "      <td>-0.328</td>\n",
       "      <td>0.0</td>\n",
       "      <td>0.356</td>\n",
       "      <td>-0.038</td>\n",
       "      <td>-0.18</td>\n",
       "    </tr>\n",
       "  </tbody>\n",
       "</table></div>"
      ],
      "text/plain": [
       "   player_name p_throws pitch_type  velo  spin_rate  spin_axis  pfx_-x  pfx_z  \\\n",
       "0  Smith, Will        L         FF  92.3     2330.0      148.0   -8.28  16.56   \n",
       "1  Smith, Will        L         SL  80.6     2254.0      315.0    9.24   5.76   \n",
       "2  Smith, Will        L         CU  75.5     1940.0      328.0    7.80  -6.12   \n",
       "3  Smith, Will        L         CU  75.0     2017.0      330.0    8.28  -8.28   \n",
       "4  Smith, Will        L         FF  91.2     2281.0      143.0   -7.56  15.36   \n",
       "\n",
       "   bauer_units  effective_speed  release_pos_-x  release_pos_x  release_pos_z  \\\n",
       "0    25.243770             92.8           -1.40           1.40           6.80   \n",
       "1    27.965261             81.2           -1.60           1.60           6.64   \n",
       "2    25.695364             75.2           -1.46           1.46           6.88   \n",
       "3    26.893333             74.5           -1.53           1.53           6.83   \n",
       "4    25.010965             90.9           -1.49           1.49           6.66   \n",
       "\n",
       "   release_extension  release_pos_y  plate_-x  plate_x  plate_z type  balls  \\\n",
       "0                6.5          54.03      0.69    -0.69     2.83    X      1   \n",
       "1                6.4          54.15      0.71    -0.71     2.62    S      1   \n",
       "2                6.2          54.34      0.04    -0.04     2.46    S      1   \n",
       "3                5.9          54.61     -2.10     2.10     3.89    B      0   \n",
       "4                6.3          54.15      0.31    -0.31     2.80    X      1   \n",
       "\n",
       "   strikes pitch_count stand      bb_type    description     events  \\\n",
       "0        2         1-2     R  ground_ball  hit_into_play  field_out   \n",
       "1        1         1-1     R          NaN         strike        NaN   \n",
       "2        0         1-0     R          NaN         strike        NaN   \n",
       "3        0         0-0     R          NaN           ball        NaN   \n",
       "4        0         1-0     L  ground_ball  hit_into_play  field_out   \n",
       "\n",
       "   hit_distance_sc  exit_velo  launch_angle  woba_value  woba_denom  xwoba  \\\n",
       "0             13.0       95.2         -13.0         0.0         1.0  0.158   \n",
       "1            108.0       75.3          75.0         NaN         NaN    NaN   \n",
       "2            157.0       83.5          65.0         NaN         NaN    NaN   \n",
       "3              NaN        NaN           NaN         NaN         NaN    NaN   \n",
       "4              9.0       93.3         -18.0         0.0         1.0  0.090   \n",
       "\n",
       "   at_bat_number  pitch_number  inning  inning_topbot  home_score  away_score  \\\n",
       "0             61             4       9              0           5           0   \n",
       "1             61             3       9              0           5           0   \n",
       "2             61             2       9              0           5           0   \n",
       "3             61             1       9              0           5           0   \n",
       "4             60             2       9              0           5           0   \n",
       "\n",
       "   post_home_score  post_away_score  on_1b  on_2b  on_3b  outs_when_up  \\\n",
       "0                5                0      0      0      0             2   \n",
       "1                5                0      0      0      0             2   \n",
       "2                5                0      0      0      0             2   \n",
       "3                5                0      0      0      0             2   \n",
       "4                5                0      0      0      0             1   \n",
       "\n",
       "   arm_angle  slot  is_strike  is_ball  final_pitch_ab  out_to_end_inning  \\\n",
       "0       36.0     1          1        0               1                  1   \n",
       "1       45.8     2          1        0               0                  0   \n",
       "2       38.4     1          1        0               0                  0   \n",
       "3       38.4     1          0        1               0                  0   \n",
       "4       36.0     1          1        0               1                  0   \n",
       "\n",
       "   home_runs  away_runs  runs    re  re_change  re_end_state  re24  \\\n",
       "0          0          0     0  0.11      -0.11          0.00 -0.11   \n",
       "1          0          0     0  0.11       0.00          0.11  0.00   \n",
       "2          0          0     0  0.11       0.00          0.11  0.00   \n",
       "3          0          0     0  0.11       0.00          0.11  0.00   \n",
       "4          0          0     0  0.29      -0.18          0.11 -0.18   \n",
       "\n",
       "   lin_weight_above_avg  lin_weight_above_outs  woba_scale  \\\n",
       "0                -0.271                    0.0       1.209   \n",
       "1                   NaN                    NaN       1.209   \n",
       "2                   NaN                    NaN       1.209   \n",
       "3                   NaN                    NaN       1.209   \n",
       "4                -0.271                    0.0       1.209   \n",
       "\n",
       "   lin_weights_above_avg_scale  lin_weights_above_outs_scale   woba  \\\n",
       "0                       -0.328                           0.0  0.222   \n",
       "1                        0.000                           0.0  0.300   \n",
       "2                        0.000                           0.0  0.356   \n",
       "3                        0.000                           0.0  0.314   \n",
       "4                       -0.328                           0.0  0.356   \n",
       "\n",
       "   wraa_change    rv  \n",
       "0       -0.152 -0.11  \n",
       "1       -0.053  0.00  \n",
       "2       -0.038  0.00  \n",
       "3        0.028  0.00  \n",
       "4       -0.038 -0.18  "
      ]
     },
     "execution_count": 2,
     "metadata": {},
     "output_type": "execute_result"
    }
   ],
   "source": [
    "data = pd.read_csv('../data/model-pitches-rv.csv', index_col = [0])\n",
    "\n",
    "pd.set_option('max_columns', None)\n",
    "print(data.shape)\n",
    "data.head(5)"
   ]
  },
  {
   "cell_type": "markdown",
   "id": "6de88ec9",
   "metadata": {},
   "source": [
    "Pitch Types:\n",
    "\n",
    "4-Seam, Cutter, Sinker, Slider, Curveball, Changeup"
   ]
  },
  {
   "cell_type": "markdown",
   "id": "83093c8d",
   "metadata": {},
   "source": [
    "# Features"
   ]
  },
  {
   "cell_type": "code",
   "execution_count": 3,
   "id": "c75aa09f",
   "metadata": {},
   "outputs": [],
   "source": [
    "features = data[['pitch_type', 'p_throws', 'velo', 'spin_rate', 'pfx_-x', 'pfx_z', 'release_extension', \n",
    "                 'release_pos_x', 'release_pos_z', 'rv']]"
   ]
  },
  {
   "cell_type": "code",
   "execution_count": 4,
   "id": "56e22023",
   "metadata": {},
   "outputs": [
    {
     "name": "stdout",
     "output_type": "stream",
     "text": [
      "4-Seam shape: (249682, 10)\n",
      "RHP 4-Seam shape: (176387, 10)\n",
      "LHP 4-Seam shape: (73295, 10) \n",
      "\n",
      "Cutter shape: (47445, 10)\n",
      "RHP Cutter shape: (31183, 10)\n",
      "LHP Cutter shape: (16262, 10) \n",
      "\n",
      "Sinker shape: (109151, 10)\n",
      "RHP Sinker shape: (75681, 10)\n",
      "LHP Sinker shape: (33470, 10) \n",
      "\n",
      "Slider shape: (135534, 10)\n",
      "RHP Slider shape: (100754, 10)\n",
      "LHP Slider shape: (34780, 10) \n",
      "\n",
      "Curveball shape: (58770, 10)\n",
      "RHP Curveball shape: (39992, 10)\n",
      "LHP Curveball shape: (18778, 10) \n",
      "\n",
      "Changeup shape: (80338, 10)\n",
      "RHP Changeup shape: (50661, 10)\n",
      "LHP Changeup shape: (29677, 10)\n"
     ]
    }
   ],
   "source": [
    "ff = features.loc[features['pitch_type'] == 'FF']\n",
    "print('4-Seam shape:', ff.shape)\n",
    "ff_r = features.loc[(features['pitch_type'] == 'FF') & (features['p_throws'] == 'R')]\n",
    "print('RHP 4-Seam shape:', ff_r.shape)\n",
    "ff_l = features.loc[(features['pitch_type'] == 'FF') & (features['p_throws'] == 'L')]\n",
    "print('LHP 4-Seam shape:', ff_l.shape, '\\n')\n",
    "fc = features.loc[features['pitch_type'] == 'FC']\n",
    "print('Cutter shape:', fc.shape)\n",
    "fc_r = features.loc[(features['pitch_type'] == 'FC') & (features['p_throws'] == 'R')]\n",
    "print('RHP Cutter shape:', fc_r.shape)\n",
    "fc_l = features.loc[(features['pitch_type'] == 'FC') & (features['p_throws'] == 'L')]\n",
    "print('LHP Cutter shape:', fc_l.shape, '\\n')\n",
    "si = features.loc[features['pitch_type'] == 'SI']\n",
    "print('Sinker shape:', si.shape)\n",
    "si_r = features.loc[(features['pitch_type'] == 'SI') & (features['p_throws'] == 'R')]\n",
    "print('RHP Sinker shape:', si_r.shape)\n",
    "si_l = features.loc[(features['pitch_type'] == 'SI') & (features['p_throws'] == 'L')]\n",
    "print('LHP Sinker shape:', si_l.shape, '\\n')\n",
    "sl = features.loc[features['pitch_type'] == 'SL']\n",
    "print('Slider shape:', sl.shape)\n",
    "sl_r = features.loc[(features['pitch_type'] == 'SL') & (features['p_throws'] == 'R')]\n",
    "print('RHP Slider shape:', sl_r.shape)\n",
    "sl_l = features.loc[(features['pitch_type'] == 'SL') & (features['p_throws'] == 'L')]\n",
    "print('LHP Slider shape:', sl_l.shape, '\\n')\n",
    "cu = features.loc[features['pitch_type'] == 'CU']\n",
    "print('Curveball shape:', cu.shape)\n",
    "cu_r = features.loc[(features['pitch_type'] == 'CU') & (features['p_throws'] == 'R')]\n",
    "print('RHP Curveball shape:', cu_r.shape)\n",
    "cu_l = features.loc[(features['pitch_type'] == 'CU') & (features['p_throws'] == 'L')]\n",
    "print('LHP Curveball shape:', cu_l.shape, '\\n')\n",
    "ch = features.loc[features['pitch_type'] == 'CH']\n",
    "print('Changeup shape:', ch.shape)\n",
    "ch_r = features.loc[(features['pitch_type'] == 'CH') & (features['p_throws'] == 'R')]\n",
    "print('RHP Changeup shape:', ch_r.shape)\n",
    "ch_l = features.loc[(features['pitch_type'] == 'CH') & (features['p_throws'] == 'L')]\n",
    "print('LHP Changeup shape:', ch_l.shape)"
   ]
  },
  {
   "cell_type": "markdown",
   "id": "185cf9e5",
   "metadata": {},
   "source": [
    "# Clustering"
   ]
  },
  {
   "cell_type": "markdown",
   "id": "89931699",
   "metadata": {},
   "source": [
    "## 4-Seam"
   ]
  },
  {
   "cell_type": "markdown",
   "id": "de9c21ac",
   "metadata": {},
   "source": [
    "### RHP"
   ]
  },
  {
   "cell_type": "code",
   "execution_count": 5,
   "id": "b4d9010b",
   "metadata": {},
   "outputs": [
    {
     "name": "stdout",
     "output_type": "stream",
     "text": [
      "Number of iterations: 11\n",
      "Number of features: 8\n",
      "Number of clusters: 2\n",
      "Inertia: 1213894.3865452572 \n",
      "\n",
      "Predicted clusters to points:  [0 0 0 1 1 1 1 1 1 1]\n"
     ]
    }
   ],
   "source": [
    "features_ff_r = ff_r.select_dtypes([np.number])\n",
    "X_ff_r = features_ff_r\n",
    "\n",
    "ss = StandardScaler()\n",
    "X_ff_r_scaled = ss.fit_transform(X_ff_r)\n",
    "X_ff_r_scaled[:,:] *= -1\n",
    "\n",
    "pca_ff_r = PCA().fit_transform(X_ff_r_scaled)\n",
    "model_ff_r = pd.DataFrame(data = pca_ff_r, columns = X_ff_r.columns)\n",
    "\n",
    "km_ff_r = KMeans(n_clusters = 2, \n",
    "               random_state = 1)\n",
    "km_ff_r.fit(model_ff_r)\n",
    "label_ff_r = km_ff_r.fit_predict(model_ff_r)\n",
    "\n",
    "print('Number of iterations:', km_ff_r.n_iter_)\n",
    "print('Number of features:', km_ff_r.n_features_in_)\n",
    "print('Number of clusters:', km_ff_r.n_clusters)\n",
    "print('Inertia:', km_ff_r.inertia_, '\\n')\n",
    "print('Predicted clusters to points: ', label_ff_r[:10])"
   ]
  },
  {
   "cell_type": "markdown",
   "id": "df1e4fe7",
   "metadata": {},
   "source": [
    "### LHP"
   ]
  },
  {
   "cell_type": "code",
   "execution_count": 6,
   "id": "60d4b97a",
   "metadata": {},
   "outputs": [
    {
     "name": "stdout",
     "output_type": "stream",
     "text": [
      "Number of iterations: 13\n",
      "Number of features: 8\n",
      "Number of clusters: 2\n",
      "Inertia: 501451.47215650795 \n",
      "\n",
      "Predicted clusters to points:  [1 1 1 1 1 1 1 1 1 1]\n"
     ]
    }
   ],
   "source": [
    "features_ff_l = ff_l.select_dtypes([np.number])\n",
    "X_ff_l = features_ff_l\n",
    "\n",
    "ss = StandardScaler()\n",
    "X_ff_l_scaled = ss.fit_transform(X_ff_l)\n",
    "X_ff_l_scaled[:,:] *= -1\n",
    "\n",
    "pca_ff_l = PCA().fit_transform(X_ff_l_scaled)\n",
    "model_ff_l = pd.DataFrame(data = pca_ff_l, columns = X_ff_l.columns)\n",
    "\n",
    "km_ff_l = KMeans(n_clusters = 2, \n",
    "               random_state = 1)\n",
    "km_ff_l.fit(model_ff_l)\n",
    "label_ff_l = km_ff_l.fit_predict(model_ff_l)\n",
    "\n",
    "print('Number of iterations:', km_ff_l.n_iter_)\n",
    "print('Number of features:', km_ff_l.n_features_in_)\n",
    "print('Number of clusters:', km_ff_l.n_clusters)\n",
    "print('Inertia:', km_ff_l.inertia_, '\\n')\n",
    "print('Predicted clusters to points: ', label_ff_l[:10])"
   ]
  },
  {
   "cell_type": "markdown",
   "id": "83399927",
   "metadata": {},
   "source": [
    "### Cluster Labels - RHP 4-Seam"
   ]
  },
  {
   "cell_type": "code",
   "execution_count": 7,
   "id": "3dafce24",
   "metadata": {},
   "outputs": [
    {
     "name": "stdout",
     "output_type": "stream",
     "text": [
      "label                        0            1\n",
      "velo                 93.884496    94.231525\n",
      "spin_rate          2221.410641  2331.288823\n",
      "pfx_-x                8.920628     5.759854\n",
      "pfx_z                14.051447    17.635370\n",
      "release_extension     6.401837     6.394756\n",
      "release_pos_x        -2.299302    -1.378883\n",
      "release_pos_z         5.617284     6.095369\n",
      "rv                    0.009575     0.002635\n"
     ]
    }
   ],
   "source": [
    "X_ff_r['label'] = label_ff_r\n",
    "model_ff_r['label'] = label_ff_r\n",
    "\n",
    "print(X_ff_r.groupby(by = 'label').mean().T)"
   ]
  },
  {
   "cell_type": "markdown",
   "id": "1fa8b98b",
   "metadata": {},
   "source": [
    "### Cluster Labels - LHP 4-Seam"
   ]
  },
  {
   "cell_type": "code",
   "execution_count": 8,
   "id": "a7fffe00",
   "metadata": {},
   "outputs": [
    {
     "name": "stdout",
     "output_type": "stream",
     "text": [
      "label                        0            1\n",
      "velo                 92.507488    92.996651\n",
      "spin_rate          2176.299910  2302.765937\n",
      "pfx_-x               -9.293286    -6.190213\n",
      "pfx_z                14.341496    17.518691\n",
      "release_extension     6.394253     6.221770\n",
      "release_pos_x         2.341104     1.564646\n",
      "release_pos_z         5.705273     6.194861\n",
      "rv                    0.007559     0.003181\n"
     ]
    }
   ],
   "source": [
    "X_ff_l['label'] = label_ff_l\n",
    "model_ff_l['label'] = label_ff_l\n",
    "\n",
    "print(X_ff_l.groupby(by = 'label').mean().T)"
   ]
  },
  {
   "cell_type": "markdown",
   "id": "6b28b964",
   "metadata": {},
   "source": [
    "## Cutter"
   ]
  },
  {
   "cell_type": "markdown",
   "id": "5b5b8ee2",
   "metadata": {},
   "source": [
    "### RHP"
   ]
  },
  {
   "cell_type": "code",
   "execution_count": 9,
   "id": "54758bb4",
   "metadata": {},
   "outputs": [
    {
     "name": "stdout",
     "output_type": "stream",
     "text": [
      "Number of iterations: 17\n",
      "Number of features: 8\n",
      "Number of clusters: 2\n",
      "Inertia: 213795.27690716175 \n",
      "\n",
      "Predicted clusters to points:  [1 1 0 1 0 0 0 0 0 0]\n"
     ]
    }
   ],
   "source": [
    "features_fc_r = fc_r.select_dtypes([np.number])\n",
    "X_fc_r = features_fc_r\n",
    "\n",
    "X_fc_r_scaled = ss.fit_transform(X_fc_r)\n",
    "X_fc_r_scaled[:,:] *= -1\n",
    "\n",
    "pca_fc_r = PCA().fit_transform(X_fc_r_scaled)\n",
    "model_fc_r = pd.DataFrame(data = pca_fc_r, columns = X_fc_r.columns)\n",
    "\n",
    "km_fc_r = KMeans(n_clusters = 2, \n",
    "               random_state = 1)\n",
    "\n",
    "km_fc_r.fit(model_fc_r)\n",
    "label_fc_r = km_fc_r.fit_predict(model_fc_r)\n",
    "\n",
    "print('Number of iterations:', km_fc_r.n_iter_)\n",
    "print('Number of features:', km_fc_r.n_features_in_)\n",
    "print('Number of clusters:', km_fc_r.n_clusters)\n",
    "print('Inertia:', km_fc_r.inertia_, '\\n')\n",
    "print(\"Predicted clusters to points: \", label_fc_r[:10])"
   ]
  },
  {
   "cell_type": "markdown",
   "id": "f3f5d80f",
   "metadata": {},
   "source": [
    "### LHP"
   ]
  },
  {
   "cell_type": "code",
   "execution_count": 10,
   "id": "481ca5f0",
   "metadata": {},
   "outputs": [
    {
     "name": "stdout",
     "output_type": "stream",
     "text": [
      "Number of iterations: 21\n",
      "Number of features: 8\n",
      "Number of clusters: 2\n",
      "Inertia: 107914.88531818759 \n",
      "\n",
      "Predicted clusters to points:  [1 1 1 1 1 1 1 1 1 1]\n"
     ]
    }
   ],
   "source": [
    "features_fc_l = fc_l.select_dtypes([np.number])\n",
    "X_fc_l = features_fc_l\n",
    "\n",
    "X_fc_l_scaled = ss.fit_transform(X_fc_l)\n",
    "X_fc_l_scaled[:,:] *= -1\n",
    "\n",
    "pca_fc_l = PCA().fit_transform(X_fc_l_scaled)\n",
    "model_fc_l = pd.DataFrame(data = pca_fc_l, columns = X_fc_l.columns)\n",
    "\n",
    "km_fc_l = KMeans(n_clusters = 2, \n",
    "               random_state = 1)\n",
    "\n",
    "km_fc_l.fit(model_fc_l)\n",
    "label_fc_l = km_fc_r.fit_predict(model_fc_l)\n",
    "\n",
    "print('Number of iterations:', km_fc_l.n_iter_)\n",
    "print('Number of features:', km_fc_l.n_features_in_)\n",
    "print('Number of clusters:', km_fc_l.n_clusters)\n",
    "print('Inertia:', km_fc_l.inertia_, '\\n')\n",
    "print(\"Predicted clusters to points: \", label_fc_l[:10])"
   ]
  },
  {
   "cell_type": "markdown",
   "id": "4cfb0b4c",
   "metadata": {},
   "source": [
    "### Cluster Labels - RHP Cutter"
   ]
  },
  {
   "cell_type": "code",
   "execution_count": 11,
   "id": "9e862bd1",
   "metadata": {},
   "outputs": [
    {
     "name": "stdout",
     "output_type": "stream",
     "text": [
      "label                        0            1\n",
      "velo                 87.697869    91.242683\n",
      "spin_rate          2456.643686  2387.689284\n",
      "pfx_-x               -4.753178    -1.179551\n",
      "pfx_z                 5.081799    10.810929\n",
      "release_extension     6.215025     6.384406\n",
      "release_pos_x        -1.612614    -1.900926\n",
      "release_pos_z         6.012866     5.866886\n",
      "rv                    0.004374     0.002366\n"
     ]
    }
   ],
   "source": [
    "X_fc_r['label'] = label_fc_r\n",
    "model_fc_r['label'] = label_fc_r\n",
    "\n",
    "print(X_fc_r.groupby(by = 'label').mean().T)"
   ]
  },
  {
   "cell_type": "markdown",
   "id": "992045d9",
   "metadata": {},
   "source": [
    "### Cluster Labels - LHP Cutter"
   ]
  },
  {
   "cell_type": "code",
   "execution_count": 12,
   "id": "4da57fff",
   "metadata": {},
   "outputs": [
    {
     "name": "stdout",
     "output_type": "stream",
     "text": [
      "label                        0            1\n",
      "velo                 86.135976    87.144008\n",
      "spin_rate          2162.481853  2333.178257\n",
      "pfx_-x                0.840611     2.238806\n",
      "pfx_z                 7.958930     7.933768\n",
      "release_extension     6.453550     6.019890\n",
      "release_pos_x         2.785064     1.696875\n",
      "release_pos_z         5.502318     6.031029\n",
      "rv                    0.008360     0.001597\n"
     ]
    }
   ],
   "source": [
    "X_fc_l['label'] = label_fc_l\n",
    "model_fc_l['label'] = label_fc_l\n",
    "\n",
    "print(X_fc_l.groupby(by = 'label').mean().T)"
   ]
  },
  {
   "cell_type": "markdown",
   "id": "dcf098e4",
   "metadata": {},
   "source": [
    "## Sinker"
   ]
  },
  {
   "cell_type": "markdown",
   "id": "154ca06f",
   "metadata": {},
   "source": [
    "### RHP"
   ]
  },
  {
   "cell_type": "code",
   "execution_count": 13,
   "id": "3bd87c52",
   "metadata": {},
   "outputs": [
    {
     "name": "stdout",
     "output_type": "stream",
     "text": [
      "Number of iterations: 11\n",
      "Number of features: 8\n",
      "Number of clusters: 2\n",
      "Inertia: 519839.2521872819 \n",
      "\n",
      "Predicted clusters to points:  [0 1 0 0 0 1 1 0 0 1]\n"
     ]
    }
   ],
   "source": [
    "features_si_r = si_r.select_dtypes([np.number])\n",
    "X_si_r = features_si_r\n",
    "\n",
    "X_si_r_scaled = ss.fit_transform(X_si_r)\n",
    "X_si_r_scaled[:,:] *= -1\n",
    "\n",
    "pca_si_r = PCA().fit_transform(X_si_r_scaled)\n",
    "model_si_r = pd.DataFrame(data = pca_si_r, columns = X_si_r.columns)\n",
    "\n",
    "km_si_r = KMeans(n_clusters = 2, \n",
    "                 random_state = 1)\n",
    "\n",
    "km_si_r.fit(model_si_r)\n",
    "label_si_r = km_si_r.fit_predict(model_si_r)\n",
    "\n",
    "print('Number of iterations:', km_si_r.n_iter_)\n",
    "print('Number of features:', km_si_r.n_features_in_)\n",
    "print('Number of clusters:', km_si_r.n_clusters)\n",
    "print('Inertia:', km_si_r.inertia_, '\\n')\n",
    "print(\"Predicted clusters to points: \", label_si_r[:10])"
   ]
  },
  {
   "cell_type": "markdown",
   "id": "83322042",
   "metadata": {},
   "source": [
    "### LHP"
   ]
  },
  {
   "cell_type": "code",
   "execution_count": 14,
   "id": "95e40be6",
   "metadata": {},
   "outputs": [
    {
     "name": "stdout",
     "output_type": "stream",
     "text": [
      "Number of iterations: 6\n",
      "Number of features: 8\n",
      "Number of clusters: 2\n",
      "Inertia: 225389.5500483192 \n",
      "\n",
      "Predicted clusters to points:  [0 0 1 1 1 1 1 1 1 1]\n"
     ]
    }
   ],
   "source": [
    "features_si_l = si_l.select_dtypes([np.number])\n",
    "X_si_l = features_si_l\n",
    "\n",
    "X_si_l_scaled = ss.fit_transform(X_si_l)\n",
    "X_si_l_scaled[:,:] *= -1\n",
    "\n",
    "pca_si_l = PCA().fit_transform(X_si_l_scaled)\n",
    "model_si_l = pd.DataFrame(data = pca_si_l, columns = X_si_l.columns)\n",
    "\n",
    "km_si_l = KMeans(n_clusters = 2, \n",
    "                 random_state = 1)\n",
    "\n",
    "km_si_l.fit(model_si_l)\n",
    "label_si_l = km_si_l.fit_predict(model_si_l)\n",
    "\n",
    "print('Number of iterations:', km_si_l.n_iter_)\n",
    "print('Number of features:', km_si_l.n_features_in_)\n",
    "print('Number of clusters:', km_si_l.n_clusters)\n",
    "print('Inertia:', km_si_l.inertia_, '\\n')\n",
    "print(\"Predicted clusters to points: \", label_si_l[:10])"
   ]
  },
  {
   "cell_type": "markdown",
   "id": "a0d4394d",
   "metadata": {},
   "source": [
    "### Cluster Labels - RHP Sinker"
   ]
  },
  {
   "cell_type": "code",
   "execution_count": 15,
   "id": "2d8e9ae8",
   "metadata": {},
   "outputs": [
    {
     "name": "stdout",
     "output_type": "stream",
     "text": [
      "label                        0            1\n",
      "velo                 94.370120    91.839217\n",
      "spin_rate          2194.666166  2062.438001\n",
      "pfx_-x               14.001226    16.015725\n",
      "pfx_z                11.100466     6.089766\n",
      "release_extension     6.330377     6.292280\n",
      "release_pos_x        -1.588890    -2.355398\n",
      "release_pos_z         5.902023     5.395513\n",
      "rv                    0.004125     0.016031\n"
     ]
    }
   ],
   "source": [
    "X_si_r['label'] = label_si_r\n",
    "model_si_r['label'] = label_si_r\n",
    "\n",
    "print(X_si_r.groupby(by = 'label').mean().T)"
   ]
  },
  {
   "cell_type": "markdown",
   "id": "837f65f2",
   "metadata": {},
   "source": [
    "### Cluster Labels - LHP Sinker"
   ]
  },
  {
   "cell_type": "code",
   "execution_count": 16,
   "id": "cd2c56e4",
   "metadata": {},
   "outputs": [
    {
     "name": "stdout",
     "output_type": "stream",
     "text": [
      "label                        0            1\n",
      "velo                 91.320315    92.506468\n",
      "spin_rate          2011.789898  2108.916866\n",
      "pfx_-x              -16.344466   -14.330524\n",
      "pfx_z                 6.220937    10.864621\n",
      "release_extension     6.423682     6.221591\n",
      "release_pos_x         2.869173     1.755551\n",
      "release_pos_z         5.313150     6.010566\n",
      "rv                    0.003425     0.009921\n"
     ]
    }
   ],
   "source": [
    "X_si_l['label'] = label_si_l\n",
    "model_si_l['label'] = label_si_l\n",
    "\n",
    "print(X_si_l.groupby(by = 'label').mean().T)"
   ]
  },
  {
   "cell_type": "markdown",
   "id": "809aaa04",
   "metadata": {},
   "source": [
    "## Slider"
   ]
  },
  {
   "cell_type": "markdown",
   "id": "39e0c9ec",
   "metadata": {},
   "source": [
    "### RHP"
   ]
  },
  {
   "cell_type": "code",
   "execution_count": 17,
   "id": "5acf61f0",
   "metadata": {},
   "outputs": [
    {
     "name": "stdout",
     "output_type": "stream",
     "text": [
      "Number of iterations: 17\n",
      "Number of features: 8\n",
      "Number of clusters: 2\n",
      "Inertia: 672045.571424603 \n",
      "\n",
      "Predicted clusters to points:  [0 0 0 0 1 0 0 0 1 1]\n"
     ]
    }
   ],
   "source": [
    "features_sl_r = sl_r.select_dtypes([np.number])\n",
    "X_sl_r = features_sl_r\n",
    "\n",
    "X_sl_r_scaled = ss.fit_transform(X_sl_r)\n",
    "X_sl_r_scaled[:,:] *= -1\n",
    "\n",
    "pca_sl_r = PCA().fit_transform(X_sl_r_scaled)\n",
    "model_sl_r = pd.DataFrame(data = pca_sl_r, columns = X_sl_r.columns)\n",
    "\n",
    "km_sl_r = KMeans(n_clusters = 2, random_state = 1)\n",
    "\n",
    "km_sl_r.fit(model_sl_r)\n",
    "label_sl_r = km_sl_r.fit_predict(model_sl_r)\n",
    "\n",
    "print('Number of iterations:', km_sl_r.n_iter_)\n",
    "print('Number of features:', km_sl_r.n_features_in_)\n",
    "print('Number of clusters:', km_sl_r.n_clusters)\n",
    "print('Inertia:', km_sl_r.inertia_, '\\n')\n",
    "print(\"Predicted clusters to points: \", label_sl_r[:10])"
   ]
  },
  {
   "cell_type": "markdown",
   "id": "53cfab2f",
   "metadata": {},
   "source": [
    "### LHP"
   ]
  },
  {
   "cell_type": "code",
   "execution_count": 18,
   "id": "8005bb99",
   "metadata": {},
   "outputs": [
    {
     "name": "stdout",
     "output_type": "stream",
     "text": [
      "Number of iterations: 12\n",
      "Number of features: 8\n",
      "Number of clusters: 2\n",
      "Inertia: 229764.19415032002 \n",
      "\n",
      "Predicted clusters to points:  [0 0 0 1 1 1 1 1 1 1]\n"
     ]
    }
   ],
   "source": [
    "features_sl_l = sl_l.select_dtypes([np.number])\n",
    "X_sl_l = features_sl_l\n",
    "\n",
    "X_sl_l_scaled = ss.fit_transform(X_sl_l)\n",
    "X_sl_l_scaled[:,:] *= -1\n",
    "\n",
    "pca_sl_l = PCA().fit_transform(X_sl_l_scaled)\n",
    "model_sl_l = pd.DataFrame(data = pca_sl_l, columns = X_sl_l.columns)\n",
    "\n",
    "km_sl_l = KMeans(n_clusters = 2, random_state = 1)\n",
    "\n",
    "km_sl_l.fit(model_sl_l)\n",
    "label_sl_l = km_sl_l.fit_predict(model_sl_l)\n",
    "\n",
    "print('Number of iterations:', km_sl_l.n_iter_)\n",
    "print('Number of features:', km_sl_l.n_features_in_)\n",
    "print('Number of clusters:', km_sl_l.n_clusters)\n",
    "print('Inertia:', km_sl_l.inertia_, '\\n')\n",
    "print(\"Predicted clusters to points: \", label_sl_l[:10])"
   ]
  },
  {
   "cell_type": "markdown",
   "id": "7d8eeaca",
   "metadata": {},
   "source": [
    "### Cluster Labels - RHP Slider"
   ]
  },
  {
   "cell_type": "code",
   "execution_count": 19,
   "id": "f28eee91",
   "metadata": {},
   "outputs": [
    {
     "name": "stdout",
     "output_type": "stream",
     "text": [
      "label                        0            1\n",
      "velo                 86.241145    81.962939\n",
      "spin_rate          2375.703255  2575.429667\n",
      "pfx_-x               -3.602967   -12.288642\n",
      "pfx_z                 2.397120     0.461306\n",
      "release_extension     6.232297     6.326041\n",
      "release_pos_x        -1.771397    -2.316838\n",
      "release_pos_z         5.943565     5.380770\n",
      "rv                   -0.005570    -0.011784\n"
     ]
    }
   ],
   "source": [
    "X_sl_r['label'] = label_sl_r\n",
    "model_sl_r['label'] = label_sl_r\n",
    "\n",
    "print(X_sl_r.groupby(by = 'label').mean().T)"
   ]
  },
  {
   "cell_type": "markdown",
   "id": "318be5bc",
   "metadata": {},
   "source": [
    "### Cluster Labels - LHP Slider"
   ]
  },
  {
   "cell_type": "code",
   "execution_count": 20,
   "id": "6e2ff3cf",
   "metadata": {},
   "outputs": [
    {
     "name": "stdout",
     "output_type": "stream",
     "text": [
      "label                        0            1\n",
      "velo                 85.353751    82.066202\n",
      "spin_rate          2261.490288  2482.323906\n",
      "pfx_-x                3.273650     9.014443\n",
      "pfx_z                 3.532761    -1.268162\n",
      "release_extension     6.349774     6.116351\n",
      "release_pos_x         1.887685     2.135162\n",
      "release_pos_z         6.056659     5.641745\n",
      "rv                   -0.009501    -0.006512\n"
     ]
    }
   ],
   "source": [
    "X_sl_l['label'] = label_sl_l\n",
    "model_sl_l['label'] = label_sl_l\n",
    "\n",
    "print(X_sl_l.groupby(by = 'label').mean().T)"
   ]
  },
  {
   "cell_type": "markdown",
   "id": "37d184f1",
   "metadata": {},
   "source": [
    "## Curveball"
   ]
  },
  {
   "cell_type": "markdown",
   "id": "39891fff",
   "metadata": {},
   "source": [
    "### RHP"
   ]
  },
  {
   "cell_type": "code",
   "execution_count": 21,
   "id": "b44abbe0",
   "metadata": {},
   "outputs": [
    {
     "name": "stdout",
     "output_type": "stream",
     "text": [
      "Number of iterations: 11\n",
      "Number of features: 8\n",
      "Number of clusters: 2\n",
      "Inertia: 273737.521374984 \n",
      "\n",
      "Predicted clusters to points:  [1 1 1 0 0 1 1 1 1 1]\n"
     ]
    }
   ],
   "source": [
    "features_cu_r = cu_r.select_dtypes([np.number])\n",
    "X_cu_r = features_cu_r\n",
    "\n",
    "X_cu_r_scaled = ss.fit_transform(X_cu_r)\n",
    "X_cu_r_scaled[:,:] *= -1\n",
    "\n",
    "pca_cu_r = PCA().fit_transform(X_cu_r_scaled)\n",
    "model_cu_r = pd.DataFrame(data = pca_cu_r, columns = X_cu_r.columns)\n",
    "\n",
    "km_cu_r = KMeans(n_clusters = 2, random_state = 1)\n",
    "\n",
    "km_cu_r.fit(model_cu_r)\n",
    "label_cu_r = km_cu_r.fit_predict(model_cu_r)\n",
    "\n",
    "print('Number of iterations:', km_cu_r.n_iter_)\n",
    "print('Number of features:', km_cu_r.n_features_in_)\n",
    "print('Number of clusters:', km_cu_r.n_clusters)\n",
    "print('Inertia:', km_cu_r.inertia_, '\\n')\n",
    "print(\"Predicted clusters to points: \", label_cu_r[:10])"
   ]
  },
  {
   "cell_type": "markdown",
   "id": "7e86769f",
   "metadata": {},
   "source": [
    "### LHP"
   ]
  },
  {
   "cell_type": "code",
   "execution_count": 22,
   "id": "23d6fc4e",
   "metadata": {},
   "outputs": [
    {
     "name": "stdout",
     "output_type": "stream",
     "text": [
      "Number of iterations: 13\n",
      "Number of features: 8\n",
      "Number of clusters: 2\n",
      "Inertia: 123054.08084347605 \n",
      "\n",
      "Predicted clusters to points:  [0 1 0 0 0 0 0 0 0 0]\n"
     ]
    }
   ],
   "source": [
    "features_cu_l = cu_l.select_dtypes([np.number])\n",
    "X_cu_l = features_cu_l\n",
    "\n",
    "X_cu_l_scaled = ss.fit_transform(X_cu_l)\n",
    "X_cu_l_scaled[:,:] *= -1\n",
    "\n",
    "pca_cu_l = PCA().fit_transform(X_cu_l_scaled)\n",
    "model_cu_l = pd.DataFrame(data = pca_cu_l, columns = X_cu_l.columns)\n",
    "\n",
    "km_cu_l = KMeans(n_clusters = 2, random_state = 1)\n",
    "\n",
    "km_cu_l.fit(model_cu_l)\n",
    "label_cu_l = km_cu_l.fit_predict(model_cu_l)\n",
    "\n",
    "print('Number of iterations:', km_cu_l.n_iter_)\n",
    "print('Number of features:', km_cu_l.n_features_in_)\n",
    "print('Number of clusters:', km_cu_l.n_clusters)\n",
    "print('Inertia:', km_cu_l.inertia_, '\\n')\n",
    "print(\"Predicted clusters to points: \", label_cu_l[:10])"
   ]
  },
  {
   "cell_type": "markdown",
   "id": "8834fc6a",
   "metadata": {},
   "source": [
    "### Cluster Labels - RHP Curveball"
   ]
  },
  {
   "cell_type": "code",
   "execution_count": 23,
   "id": "7318a85e",
   "metadata": {},
   "outputs": [
    {
     "name": "stdout",
     "output_type": "stream",
     "text": [
      "label                        0            1\n",
      "velo                 78.726190    80.167136\n",
      "spin_rate          2504.591520  2603.805185\n",
      "pfx_-x               -8.188820   -12.469659\n",
      "pfx_z               -11.470115    -5.109886\n",
      "release_extension     6.251365     6.236496\n",
      "release_pos_x        -1.389616    -2.176828\n",
      "release_pos_z         6.142124     5.621763\n",
      "rv                   -0.003701    -0.014405\n"
     ]
    }
   ],
   "source": [
    "X_cu_r['label'] = label_cu_r\n",
    "model_cu_r['label'] = label_cu_r\n",
    "\n",
    "print(X_cu_r.groupby(by = 'label').mean().T)"
   ]
  },
  {
   "cell_type": "markdown",
   "id": "47927ae5",
   "metadata": {},
   "source": [
    "### Cluster Labels - LHP Curveball"
   ]
  },
  {
   "cell_type": "code",
   "execution_count": 24,
   "id": "dff500a6",
   "metadata": {},
   "outputs": [
    {
     "name": "stdout",
     "output_type": "stream",
     "text": [
      "label                        0            1\n",
      "velo                 78.646391    77.018745\n",
      "spin_rate          2237.941756  2600.724237\n",
      "pfx_-x                5.419945    10.857112\n",
      "pfx_z                -2.831522   -11.268908\n",
      "release_extension     6.184965     6.080088\n",
      "release_pos_x         2.453813     1.482822\n",
      "release_pos_z         5.893891     6.079133\n",
      "rv                   -0.003242    -0.012251\n"
     ]
    }
   ],
   "source": [
    "X_cu_l['label'] = label_cu_l\n",
    "model_cu_l['label'] = label_cu_l\n",
    "\n",
    "print(X_cu_l.groupby(by = 'label').mean().T)"
   ]
  },
  {
   "cell_type": "markdown",
   "id": "3c72e08b",
   "metadata": {},
   "source": [
    "## Changeup"
   ]
  },
  {
   "cell_type": "markdown",
   "id": "7992cd5a",
   "metadata": {},
   "source": [
    "### RHP"
   ]
  },
  {
   "cell_type": "code",
   "execution_count": 25,
   "id": "e579998c",
   "metadata": {},
   "outputs": [
    {
     "name": "stdout",
     "output_type": "stream",
     "text": [
      "Number of iterations: 9\n",
      "Number of features: 8\n",
      "Number of clusters: 2\n",
      "Inertia: 1769855897.73446 \n",
      "\n",
      "Predicted clusters to points:  [1 1 1 1 1 0 1 0 0 0]\n"
     ]
    }
   ],
   "source": [
    "features_ch_r = ch_r.select_dtypes([np.number])\n",
    "X_ch_r = features_ch_r\n",
    "\n",
    "X_ch_r_scaled = ss.fit_transform(X_ch_r)\n",
    "X_ch_r_scaled[:,:] *= -1\n",
    "\n",
    "pca_ch_r = PCA().fit_transform(X_ch_r)\n",
    "model_ch_r = pd.DataFrame(data = pca_ch_r, columns = X_ch_r.columns)\n",
    "\n",
    "km_ch_r = KMeans(n_clusters = 2, random_state = 1)\n",
    "\n",
    "km_ch_r.fit(model_ch_r)\n",
    "label_ch_r = km_ch_r.fit_predict(model_ch_r)\n",
    "\n",
    "print('Number of iterations:', km_ch_r.n_iter_)\n",
    "print('Number of features:', km_ch_r.n_features_in_)\n",
    "print('Number of clusters:', km_ch_r.n_clusters)\n",
    "print('Inertia:', km_ch_r.inertia_, '\\n')\n",
    "print(\"Predicted clusters to points: \", label_ch_r[:10])"
   ]
  },
  {
   "cell_type": "markdown",
   "id": "c84ee6f4",
   "metadata": {},
   "source": [
    "### LHP"
   ]
  },
  {
   "cell_type": "code",
   "execution_count": 26,
   "id": "d17ac6ce",
   "metadata": {},
   "outputs": [
    {
     "name": "stdout",
     "output_type": "stream",
     "text": [
      "Number of iterations: 12\n",
      "Number of features: 8\n",
      "Number of clusters: 2\n",
      "Inertia: 900210333.1016059 \n",
      "\n",
      "Predicted clusters to points:  [1 1 1 1 1 1 1 1 1 1]\n"
     ]
    }
   ],
   "source": [
    "features_ch_l = ch_l.select_dtypes([np.number])\n",
    "X_ch_l = features_ch_l\n",
    "\n",
    "X_ch_l_scaled = ss.fit_transform(X_ch_l)\n",
    "X_ch_l_scaled[:,:] *= -1\n",
    "\n",
    "pca_ch_l = PCA().fit_transform(X_ch_l)\n",
    "model_ch_l = pd.DataFrame(data = pca_ch_l, columns = X_ch_l.columns)\n",
    "\n",
    "km_ch_l = KMeans(n_clusters = 2, random_state = 1)\n",
    "\n",
    "km_ch_l.fit(model_ch_l)\n",
    "label_ch_l = km_ch_l.fit_predict(model_ch_l)\n",
    "\n",
    "print('Number of iterations:', km_ch_l.n_iter_)\n",
    "print('Number of features:', km_ch_l.n_features_in_)\n",
    "print('Number of clusters:', km_ch_l.n_clusters)\n",
    "print('Inertia:', km_ch_l.inertia_, '\\n')\n",
    "print(\"Predicted clusters to points: \", label_ch_l[:10])"
   ]
  },
  {
   "cell_type": "markdown",
   "id": "f4ddb95c",
   "metadata": {},
   "source": [
    "### Cluster Labels - RHP Changeup"
   ]
  },
  {
   "cell_type": "code",
   "execution_count": 27,
   "id": "decc0285",
   "metadata": {},
   "outputs": [
    {
     "name": "stdout",
     "output_type": "stream",
     "text": [
      "label                        0            1\n",
      "velo                 85.956140    85.248104\n",
      "spin_rate          2051.267830  1564.045441\n",
      "pfx_-x               15.162111    12.986649\n",
      "pfx_z                 6.325095     6.256120\n",
      "release_extension     6.248504     6.404805\n",
      "release_pos_x        -2.030577    -1.881358\n",
      "release_pos_z         5.692579     5.821656\n",
      "rv                   -0.004496    -0.002545\n"
     ]
    }
   ],
   "source": [
    "X_ch_r['label'] = label_ch_r\n",
    "model_ch_r['label'] = label_ch_r\n",
    "\n",
    "print(X_ch_r.groupby(by = 'label').mean().T)"
   ]
  },
  {
   "cell_type": "markdown",
   "id": "b47585b3",
   "metadata": {},
   "source": [
    "### Cluster Labels - LHP Changeup"
   ]
  },
  {
   "cell_type": "code",
   "execution_count": 28,
   "id": "1633b5ff",
   "metadata": {},
   "outputs": [
    {
     "name": "stdout",
     "output_type": "stream",
     "text": [
      "label                        0            1\n",
      "velo                 83.838162    83.424920\n",
      "spin_rate          2049.361838  1558.404507\n",
      "pfx_-x              -15.570225   -12.955998\n",
      "pfx_z                 8.828259     7.150670\n",
      "release_extension     6.185523     6.279761\n",
      "release_pos_x         1.966345     2.082765\n",
      "release_pos_z         5.795536     5.867756\n",
      "rv                   -0.002954    -0.002318\n"
     ]
    }
   ],
   "source": [
    "X_ch_l['label'] = label_ch_l\n",
    "model_ch_l['label'] = label_ch_l\n",
    "\n",
    "print(X_ch_l.groupby(by = 'label').mean().T)"
   ]
  }
 ],
 "metadata": {
  "kernelspec": {
   "display_name": "Python 3",
   "language": "python",
   "name": "python3"
  },
  "language_info": {
   "codemirror_mode": {
    "name": "ipython",
    "version": 3
   },
   "file_extension": ".py",
   "mimetype": "text/x-python",
   "name": "python",
   "nbconvert_exporter": "python",
   "pygments_lexer": "ipython3",
   "version": "3.8.8"
  }
 },
 "nbformat": 4,
 "nbformat_minor": 5
}
