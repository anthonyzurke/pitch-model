{
 "cells": [
  {
   "cell_type": "markdown",
   "id": "426268f7",
   "metadata": {},
   "source": [
    "# Notebook Contents\n",
    "\n",
    "- [Imports](#Imports)\n",
    "- [Data](#Data)\n",
    "- [Features](#Features)\n",
    "- [Clustering](#Clustering)\n",
    "    - [4-Seam](#4-Seam-Fastball)\n",
    "    - [Cutter](#Cutter)\n",
    "    - [Sinker](#Sinker)\n",
    "    - [Slider](#Slider)\n",
    "    - [Curveball](#Curveball)\n",
    "    - [Changeup](#Changeup)"
   ]
  },
  {
   "cell_type": "markdown",
   "id": "9a8c2c47",
   "metadata": {},
   "source": [
    "# Imports"
   ]
  },
  {
   "cell_type": "code",
   "execution_count": 1,
   "id": "3b41894e",
   "metadata": {},
   "outputs": [],
   "source": [
    "from sklearn.preprocessing import StandardScaler\n",
    "from sklearn.decomposition import PCA\n",
    "from sklearn.cluster import KMeans, k_means\n",
    "from sklearn import metrics\n",
    "\n",
    "import warnings\n",
    "warnings.filterwarnings('ignore')"
   ]
  },
  {
   "cell_type": "markdown",
   "id": "7a31fda9",
   "metadata": {},
   "source": [
    "# Data"
   ]
  },
  {
   "cell_type": "code",
   "execution_count": 2,
   "id": "40799b48",
   "metadata": {},
   "outputs": [
    {
     "name": "stdout",
     "output_type": "stream",
     "text": [
      "(705396, 74)\n"
     ]
    },
    {
     "data": {
      "text/html": [
       "<div><div id=a3cfcab6-7f87-42c1-a379-f4df98a08115 style=\"display:none; background-color:#9D6CFF; color:white; width:200px; height:30px; padding-left:5px; border-radius:4px; flex-direction:row; justify-content:space-around; align-items:center;\" onmouseover=\"this.style.backgroundColor='#BA9BF8'\" onmouseout=\"this.style.backgroundColor='#9D6CFF'\" onclick=\"window.commands?.execute('create-mitosheet-from-dataframe-output');\">See Full Dataframe in Mito</div> <script> if (window.commands.hasCommand('create-mitosheet-from-dataframe-output')) document.getElementById('a3cfcab6-7f87-42c1-a379-f4df98a08115').style.display = 'flex' </script> <table border=\"1\" class=\"dataframe\">\n",
       "  <thead>\n",
       "    <tr style=\"text-align: right;\">\n",
       "      <th></th>\n",
       "      <th>player_name</th>\n",
       "      <th>p_throws</th>\n",
       "      <th>pitch_type</th>\n",
       "      <th>velo</th>\n",
       "      <th>spin_rate</th>\n",
       "      <th>spin_axis</th>\n",
       "      <th>pfx_-x</th>\n",
       "      <th>pfx_z</th>\n",
       "      <th>bauer_units</th>\n",
       "      <th>effective_speed</th>\n",
       "      <th>release_pos_-x</th>\n",
       "      <th>release_pos_x</th>\n",
       "      <th>release_pos_z</th>\n",
       "      <th>release_extension</th>\n",
       "      <th>release_pos_y</th>\n",
       "      <th>plate_-x</th>\n",
       "      <th>plate_x</th>\n",
       "      <th>plate_z</th>\n",
       "      <th>type</th>\n",
       "      <th>balls</th>\n",
       "      <th>strikes</th>\n",
       "      <th>pitch_count</th>\n",
       "      <th>delta_run_exp</th>\n",
       "      <th>stand</th>\n",
       "      <th>bb_type</th>\n",
       "      <th>description</th>\n",
       "      <th>events</th>\n",
       "      <th>hit_distance_sc</th>\n",
       "      <th>exit_velo</th>\n",
       "      <th>launch_angle</th>\n",
       "      <th>launch_speed_angle</th>\n",
       "      <th>woba_value</th>\n",
       "      <th>woba_denom</th>\n",
       "      <th>xba</th>\n",
       "      <th>xwoba</th>\n",
       "      <th>babip_value</th>\n",
       "      <th>iso_value</th>\n",
       "      <th>at_bat_number</th>\n",
       "      <th>pitch_number</th>\n",
       "      <th>inning</th>\n",
       "      <th>inning_topbot</th>\n",
       "      <th>home_score</th>\n",
       "      <th>away_score</th>\n",
       "      <th>post_home_score</th>\n",
       "      <th>post_away_score</th>\n",
       "      <th>on_1b</th>\n",
       "      <th>on_2b</th>\n",
       "      <th>on_3b</th>\n",
       "      <th>outs_when_up</th>\n",
       "      <th>arm_angle</th>\n",
       "      <th>slot</th>\n",
       "      <th>is_strike</th>\n",
       "      <th>is_ball</th>\n",
       "      <th>final_pitch_ab</th>\n",
       "      <th>out_to_end_inning</th>\n",
       "      <th>home_runs</th>\n",
       "      <th>away_runs</th>\n",
       "      <th>runs</th>\n",
       "      <th>re</th>\n",
       "      <th>re_change</th>\n",
       "      <th>re_end_state</th>\n",
       "      <th>re24</th>\n",
       "      <th>lin_weight_above_avg</th>\n",
       "      <th>lin_weight_above_outs</th>\n",
       "      <th>woba_scale</th>\n",
       "      <th>lin_weights_above_avg_scale</th>\n",
       "      <th>lin_weights_above_outs_scale</th>\n",
       "      <th>woba</th>\n",
       "      <th>wraa_change</th>\n",
       "      <th>count_re</th>\n",
       "      <th>bs_lin_weight</th>\n",
       "      <th>bs_lin_weight_scale</th>\n",
       "      <th>rv_above_avg</th>\n",
       "      <th>rv</th>\n",
       "    </tr>\n",
       "  </thead>\n",
       "  <tbody>\n",
       "    <tr>\n",
       "      <th>0</th>\n",
       "      <td>Smith, Will</td>\n",
       "      <td>L</td>\n",
       "      <td>FF</td>\n",
       "      <td>92.3</td>\n",
       "      <td>2330.0</td>\n",
       "      <td>148.0</td>\n",
       "      <td>-8.28</td>\n",
       "      <td>16.56</td>\n",
       "      <td>25.243770</td>\n",
       "      <td>92.8</td>\n",
       "      <td>-1.40</td>\n",
       "      <td>1.40</td>\n",
       "      <td>6.80</td>\n",
       "      <td>6.5</td>\n",
       "      <td>54.03</td>\n",
       "      <td>0.69</td>\n",
       "      <td>-0.69</td>\n",
       "      <td>2.83</td>\n",
       "      <td>X</td>\n",
       "      <td>1</td>\n",
       "      <td>2</td>\n",
       "      <td>1-2</td>\n",
       "      <td>-0.073</td>\n",
       "      <td>R</td>\n",
       "      <td>ground_ball</td>\n",
       "      <td>hit_into_play</td>\n",
       "      <td>field_out</td>\n",
       "      <td>13.0</td>\n",
       "      <td>95.2</td>\n",
       "      <td>-13.0</td>\n",
       "      <td>2.0</td>\n",
       "      <td>0.0</td>\n",
       "      <td>1.0</td>\n",
       "      <td>0.174</td>\n",
       "      <td>0.158</td>\n",
       "      <td>0.0</td>\n",
       "      <td>0.0</td>\n",
       "      <td>61</td>\n",
       "      <td>4</td>\n",
       "      <td>9</td>\n",
       "      <td>0</td>\n",
       "      <td>5</td>\n",
       "      <td>0</td>\n",
       "      <td>5</td>\n",
       "      <td>0</td>\n",
       "      <td>0</td>\n",
       "      <td>0</td>\n",
       "      <td>0</td>\n",
       "      <td>2</td>\n",
       "      <td>36.0</td>\n",
       "      <td>overhead</td>\n",
       "      <td>1</td>\n",
       "      <td>0</td>\n",
       "      <td>1</td>\n",
       "      <td>1</td>\n",
       "      <td>0</td>\n",
       "      <td>0</td>\n",
       "      <td>0</td>\n",
       "      <td>0.098</td>\n",
       "      <td>-0.098</td>\n",
       "      <td>0.000</td>\n",
       "      <td>-0.098</td>\n",
       "      <td>-0.25</td>\n",
       "      <td>0.0</td>\n",
       "      <td>1.209</td>\n",
       "      <td>-0.302</td>\n",
       "      <td>0.0</td>\n",
       "      <td>0.223</td>\n",
       "      <td>-0.184</td>\n",
       "      <td>-0.282</td>\n",
       "      <td>-0.141</td>\n",
       "      <td>-0.170</td>\n",
       "      <td>-0.472</td>\n",
       "      <td>-0.170</td>\n",
       "    </tr>\n",
       "    <tr>\n",
       "      <th>1</th>\n",
       "      <td>Smith, Will</td>\n",
       "      <td>L</td>\n",
       "      <td>SL</td>\n",
       "      <td>80.6</td>\n",
       "      <td>2254.0</td>\n",
       "      <td>315.0</td>\n",
       "      <td>9.24</td>\n",
       "      <td>5.76</td>\n",
       "      <td>27.965261</td>\n",
       "      <td>81.2</td>\n",
       "      <td>-1.60</td>\n",
       "      <td>1.60</td>\n",
       "      <td>6.64</td>\n",
       "      <td>6.4</td>\n",
       "      <td>54.15</td>\n",
       "      <td>0.71</td>\n",
       "      <td>-0.71</td>\n",
       "      <td>2.62</td>\n",
       "      <td>S</td>\n",
       "      <td>1</td>\n",
       "      <td>1</td>\n",
       "      <td>1-1</td>\n",
       "      <td>-0.027</td>\n",
       "      <td>R</td>\n",
       "      <td>NaN</td>\n",
       "      <td>strike</td>\n",
       "      <td>NaN</td>\n",
       "      <td>108.0</td>\n",
       "      <td>75.3</td>\n",
       "      <td>75.0</td>\n",
       "      <td>NaN</td>\n",
       "      <td>NaN</td>\n",
       "      <td>NaN</td>\n",
       "      <td>NaN</td>\n",
       "      <td>NaN</td>\n",
       "      <td>NaN</td>\n",
       "      <td>NaN</td>\n",
       "      <td>61</td>\n",
       "      <td>3</td>\n",
       "      <td>9</td>\n",
       "      <td>0</td>\n",
       "      <td>5</td>\n",
       "      <td>0</td>\n",
       "      <td>5</td>\n",
       "      <td>0</td>\n",
       "      <td>0</td>\n",
       "      <td>0</td>\n",
       "      <td>0</td>\n",
       "      <td>2</td>\n",
       "      <td>45.8</td>\n",
       "      <td>3/4</td>\n",
       "      <td>1</td>\n",
       "      <td>0</td>\n",
       "      <td>0</td>\n",
       "      <td>0</td>\n",
       "      <td>0</td>\n",
       "      <td>0</td>\n",
       "      <td>0</td>\n",
       "      <td>0.098</td>\n",
       "      <td>0.000</td>\n",
       "      <td>0.098</td>\n",
       "      <td>0.000</td>\n",
       "      <td>NaN</td>\n",
       "      <td>NaN</td>\n",
       "      <td>1.209</td>\n",
       "      <td>0.000</td>\n",
       "      <td>0.0</td>\n",
       "      <td>0.293</td>\n",
       "      <td>-0.058</td>\n",
       "      <td>-0.058</td>\n",
       "      <td>-0.006</td>\n",
       "      <td>-0.007</td>\n",
       "      <td>-0.007</td>\n",
       "      <td>-0.007</td>\n",
       "    </tr>\n",
       "    <tr>\n",
       "      <th>2</th>\n",
       "      <td>Smith, Will</td>\n",
       "      <td>L</td>\n",
       "      <td>CU</td>\n",
       "      <td>75.5</td>\n",
       "      <td>1940.0</td>\n",
       "      <td>328.0</td>\n",
       "      <td>7.80</td>\n",
       "      <td>-6.12</td>\n",
       "      <td>25.695364</td>\n",
       "      <td>75.2</td>\n",
       "      <td>-1.46</td>\n",
       "      <td>1.46</td>\n",
       "      <td>6.88</td>\n",
       "      <td>6.2</td>\n",
       "      <td>54.34</td>\n",
       "      <td>0.04</td>\n",
       "      <td>-0.04</td>\n",
       "      <td>2.46</td>\n",
       "      <td>S</td>\n",
       "      <td>1</td>\n",
       "      <td>0</td>\n",
       "      <td>1-0</td>\n",
       "      <td>-0.020</td>\n",
       "      <td>R</td>\n",
       "      <td>NaN</td>\n",
       "      <td>strike</td>\n",
       "      <td>NaN</td>\n",
       "      <td>157.0</td>\n",
       "      <td>83.5</td>\n",
       "      <td>65.0</td>\n",
       "      <td>NaN</td>\n",
       "      <td>NaN</td>\n",
       "      <td>NaN</td>\n",
       "      <td>NaN</td>\n",
       "      <td>NaN</td>\n",
       "      <td>NaN</td>\n",
       "      <td>NaN</td>\n",
       "      <td>61</td>\n",
       "      <td>2</td>\n",
       "      <td>9</td>\n",
       "      <td>0</td>\n",
       "      <td>5</td>\n",
       "      <td>0</td>\n",
       "      <td>5</td>\n",
       "      <td>0</td>\n",
       "      <td>0</td>\n",
       "      <td>0</td>\n",
       "      <td>0</td>\n",
       "      <td>2</td>\n",
       "      <td>38.4</td>\n",
       "      <td>overhead</td>\n",
       "      <td>1</td>\n",
       "      <td>0</td>\n",
       "      <td>0</td>\n",
       "      <td>0</td>\n",
       "      <td>0</td>\n",
       "      <td>0</td>\n",
       "      <td>0</td>\n",
       "      <td>0.098</td>\n",
       "      <td>0.000</td>\n",
       "      <td>0.098</td>\n",
       "      <td>0.000</td>\n",
       "      <td>NaN</td>\n",
       "      <td>NaN</td>\n",
       "      <td>1.209</td>\n",
       "      <td>0.000</td>\n",
       "      <td>0.0</td>\n",
       "      <td>0.355</td>\n",
       "      <td>-0.051</td>\n",
       "      <td>-0.051</td>\n",
       "      <td>0.001</td>\n",
       "      <td>0.001</td>\n",
       "      <td>0.001</td>\n",
       "      <td>0.001</td>\n",
       "    </tr>\n",
       "    <tr>\n",
       "      <th>3</th>\n",
       "      <td>Smith, Will</td>\n",
       "      <td>L</td>\n",
       "      <td>CU</td>\n",
       "      <td>75.0</td>\n",
       "      <td>2017.0</td>\n",
       "      <td>330.0</td>\n",
       "      <td>8.28</td>\n",
       "      <td>-8.28</td>\n",
       "      <td>26.893333</td>\n",
       "      <td>74.5</td>\n",
       "      <td>-1.53</td>\n",
       "      <td>1.53</td>\n",
       "      <td>6.83</td>\n",
       "      <td>5.9</td>\n",
       "      <td>54.61</td>\n",
       "      <td>-2.10</td>\n",
       "      <td>2.10</td>\n",
       "      <td>3.89</td>\n",
       "      <td>B</td>\n",
       "      <td>0</td>\n",
       "      <td>0</td>\n",
       "      <td>0-0</td>\n",
       "      <td>0.016</td>\n",
       "      <td>R</td>\n",
       "      <td>NaN</td>\n",
       "      <td>ball</td>\n",
       "      <td>NaN</td>\n",
       "      <td>NaN</td>\n",
       "      <td>NaN</td>\n",
       "      <td>NaN</td>\n",
       "      <td>NaN</td>\n",
       "      <td>NaN</td>\n",
       "      <td>NaN</td>\n",
       "      <td>NaN</td>\n",
       "      <td>NaN</td>\n",
       "      <td>NaN</td>\n",
       "      <td>NaN</td>\n",
       "      <td>61</td>\n",
       "      <td>1</td>\n",
       "      <td>9</td>\n",
       "      <td>0</td>\n",
       "      <td>5</td>\n",
       "      <td>0</td>\n",
       "      <td>5</td>\n",
       "      <td>0</td>\n",
       "      <td>0</td>\n",
       "      <td>0</td>\n",
       "      <td>0</td>\n",
       "      <td>2</td>\n",
       "      <td>38.4</td>\n",
       "      <td>overhead</td>\n",
       "      <td>0</td>\n",
       "      <td>1</td>\n",
       "      <td>0</td>\n",
       "      <td>0</td>\n",
       "      <td>0</td>\n",
       "      <td>0</td>\n",
       "      <td>0</td>\n",
       "      <td>0.098</td>\n",
       "      <td>0.000</td>\n",
       "      <td>0.098</td>\n",
       "      <td>0.000</td>\n",
       "      <td>NaN</td>\n",
       "      <td>NaN</td>\n",
       "      <td>1.209</td>\n",
       "      <td>0.000</td>\n",
       "      <td>0.0</td>\n",
       "      <td>0.314</td>\n",
       "      <td>0.034</td>\n",
       "      <td>0.034</td>\n",
       "      <td>-0.003</td>\n",
       "      <td>-0.004</td>\n",
       "      <td>-0.004</td>\n",
       "      <td>-0.004</td>\n",
       "    </tr>\n",
       "    <tr>\n",
       "      <th>4</th>\n",
       "      <td>Smith, Will</td>\n",
       "      <td>L</td>\n",
       "      <td>FF</td>\n",
       "      <td>91.2</td>\n",
       "      <td>2281.0</td>\n",
       "      <td>143.0</td>\n",
       "      <td>-7.56</td>\n",
       "      <td>15.36</td>\n",
       "      <td>25.010965</td>\n",
       "      <td>90.9</td>\n",
       "      <td>-1.49</td>\n",
       "      <td>1.49</td>\n",
       "      <td>6.66</td>\n",
       "      <td>6.3</td>\n",
       "      <td>54.15</td>\n",
       "      <td>0.31</td>\n",
       "      <td>-0.31</td>\n",
       "      <td>2.80</td>\n",
       "      <td>X</td>\n",
       "      <td>1</td>\n",
       "      <td>0</td>\n",
       "      <td>1-0</td>\n",
       "      <td>-0.189</td>\n",
       "      <td>L</td>\n",
       "      <td>ground_ball</td>\n",
       "      <td>hit_into_play</td>\n",
       "      <td>field_out</td>\n",
       "      <td>9.0</td>\n",
       "      <td>93.3</td>\n",
       "      <td>-18.0</td>\n",
       "      <td>2.0</td>\n",
       "      <td>0.0</td>\n",
       "      <td>1.0</td>\n",
       "      <td>0.100</td>\n",
       "      <td>0.090</td>\n",
       "      <td>0.0</td>\n",
       "      <td>0.0</td>\n",
       "      <td>60</td>\n",
       "      <td>2</td>\n",
       "      <td>9</td>\n",
       "      <td>0</td>\n",
       "      <td>5</td>\n",
       "      <td>0</td>\n",
       "      <td>5</td>\n",
       "      <td>0</td>\n",
       "      <td>0</td>\n",
       "      <td>0</td>\n",
       "      <td>0</td>\n",
       "      <td>1</td>\n",
       "      <td>36.0</td>\n",
       "      <td>overhead</td>\n",
       "      <td>1</td>\n",
       "      <td>0</td>\n",
       "      <td>1</td>\n",
       "      <td>0</td>\n",
       "      <td>0</td>\n",
       "      <td>0</td>\n",
       "      <td>0</td>\n",
       "      <td>0.254</td>\n",
       "      <td>-0.156</td>\n",
       "      <td>0.098</td>\n",
       "      <td>-0.156</td>\n",
       "      <td>-0.25</td>\n",
       "      <td>0.0</td>\n",
       "      <td>1.209</td>\n",
       "      <td>-0.302</td>\n",
       "      <td>0.0</td>\n",
       "      <td>0.355</td>\n",
       "      <td>-0.051</td>\n",
       "      <td>-0.207</td>\n",
       "      <td>0.001</td>\n",
       "      <td>0.001</td>\n",
       "      <td>-0.301</td>\n",
       "      <td>0.001</td>\n",
       "    </tr>\n",
       "  </tbody>\n",
       "</table></div>"
      ],
      "text/plain": [
       "   player_name p_throws pitch_type  velo  spin_rate  spin_axis  pfx_-x  pfx_z  \\\n",
       "0  Smith, Will        L         FF  92.3     2330.0      148.0   -8.28  16.56   \n",
       "1  Smith, Will        L         SL  80.6     2254.0      315.0    9.24   5.76   \n",
       "2  Smith, Will        L         CU  75.5     1940.0      328.0    7.80  -6.12   \n",
       "3  Smith, Will        L         CU  75.0     2017.0      330.0    8.28  -8.28   \n",
       "4  Smith, Will        L         FF  91.2     2281.0      143.0   -7.56  15.36   \n",
       "\n",
       "   bauer_units  effective_speed  release_pos_-x  release_pos_x  release_pos_z  \\\n",
       "0    25.243770             92.8           -1.40           1.40           6.80   \n",
       "1    27.965261             81.2           -1.60           1.60           6.64   \n",
       "2    25.695364             75.2           -1.46           1.46           6.88   \n",
       "3    26.893333             74.5           -1.53           1.53           6.83   \n",
       "4    25.010965             90.9           -1.49           1.49           6.66   \n",
       "\n",
       "   release_extension  release_pos_y  plate_-x  plate_x  plate_z type  balls  \\\n",
       "0                6.5          54.03      0.69    -0.69     2.83    X      1   \n",
       "1                6.4          54.15      0.71    -0.71     2.62    S      1   \n",
       "2                6.2          54.34      0.04    -0.04     2.46    S      1   \n",
       "3                5.9          54.61     -2.10     2.10     3.89    B      0   \n",
       "4                6.3          54.15      0.31    -0.31     2.80    X      1   \n",
       "\n",
       "   strikes pitch_count  delta_run_exp stand      bb_type    description  \\\n",
       "0        2         1-2         -0.073     R  ground_ball  hit_into_play   \n",
       "1        1         1-1         -0.027     R          NaN         strike   \n",
       "2        0         1-0         -0.020     R          NaN         strike   \n",
       "3        0         0-0          0.016     R          NaN           ball   \n",
       "4        0         1-0         -0.189     L  ground_ball  hit_into_play   \n",
       "\n",
       "      events  hit_distance_sc  exit_velo  launch_angle  launch_speed_angle  \\\n",
       "0  field_out             13.0       95.2         -13.0                 2.0   \n",
       "1        NaN            108.0       75.3          75.0                 NaN   \n",
       "2        NaN            157.0       83.5          65.0                 NaN   \n",
       "3        NaN              NaN        NaN           NaN                 NaN   \n",
       "4  field_out              9.0       93.3         -18.0                 2.0   \n",
       "\n",
       "   woba_value  woba_denom    xba  xwoba  babip_value  iso_value  \\\n",
       "0         0.0         1.0  0.174  0.158          0.0        0.0   \n",
       "1         NaN         NaN    NaN    NaN          NaN        NaN   \n",
       "2         NaN         NaN    NaN    NaN          NaN        NaN   \n",
       "3         NaN         NaN    NaN    NaN          NaN        NaN   \n",
       "4         0.0         1.0  0.100  0.090          0.0        0.0   \n",
       "\n",
       "   at_bat_number  pitch_number  inning  inning_topbot  home_score  away_score  \\\n",
       "0             61             4       9              0           5           0   \n",
       "1             61             3       9              0           5           0   \n",
       "2             61             2       9              0           5           0   \n",
       "3             61             1       9              0           5           0   \n",
       "4             60             2       9              0           5           0   \n",
       "\n",
       "   post_home_score  post_away_score  on_1b  on_2b  on_3b  outs_when_up  \\\n",
       "0                5                0      0      0      0             2   \n",
       "1                5                0      0      0      0             2   \n",
       "2                5                0      0      0      0             2   \n",
       "3                5                0      0      0      0             2   \n",
       "4                5                0      0      0      0             1   \n",
       "\n",
       "   arm_angle      slot  is_strike  is_ball  final_pitch_ab  out_to_end_inning  \\\n",
       "0       36.0  overhead          1        0               1                  1   \n",
       "1       45.8       3/4          1        0               0                  0   \n",
       "2       38.4  overhead          1        0               0                  0   \n",
       "3       38.4  overhead          0        1               0                  0   \n",
       "4       36.0  overhead          1        0               1                  0   \n",
       "\n",
       "   home_runs  away_runs  runs     re  re_change  re_end_state   re24  \\\n",
       "0          0          0     0  0.098     -0.098         0.000 -0.098   \n",
       "1          0          0     0  0.098      0.000         0.098  0.000   \n",
       "2          0          0     0  0.098      0.000         0.098  0.000   \n",
       "3          0          0     0  0.098      0.000         0.098  0.000   \n",
       "4          0          0     0  0.254     -0.156         0.098 -0.156   \n",
       "\n",
       "   lin_weight_above_avg  lin_weight_above_outs  woba_scale  \\\n",
       "0                 -0.25                    0.0       1.209   \n",
       "1                   NaN                    NaN       1.209   \n",
       "2                   NaN                    NaN       1.209   \n",
       "3                   NaN                    NaN       1.209   \n",
       "4                 -0.25                    0.0       1.209   \n",
       "\n",
       "   lin_weights_above_avg_scale  lin_weights_above_outs_scale   woba  \\\n",
       "0                       -0.302                           0.0  0.223   \n",
       "1                        0.000                           0.0  0.293   \n",
       "2                        0.000                           0.0  0.355   \n",
       "3                        0.000                           0.0  0.314   \n",
       "4                       -0.302                           0.0  0.355   \n",
       "\n",
       "   wraa_change  count_re  bs_lin_weight  bs_lin_weight_scale  rv_above_avg  \\\n",
       "0       -0.184    -0.282         -0.141               -0.170        -0.472   \n",
       "1       -0.058    -0.058         -0.006               -0.007        -0.007   \n",
       "2       -0.051    -0.051          0.001                0.001         0.001   \n",
       "3        0.034     0.034         -0.003               -0.004        -0.004   \n",
       "4       -0.051    -0.207          0.001                0.001        -0.301   \n",
       "\n",
       "      rv  \n",
       "0 -0.170  \n",
       "1 -0.007  \n",
       "2  0.001  \n",
       "3 -0.004  \n",
       "4  0.001  "
      ]
     },
     "execution_count": 2,
     "metadata": {},
     "output_type": "execute_result"
    }
   ],
   "source": [
    "data = pd.read_csv('../data/model-pitches-rv.csv', index_col = [0])\n",
    "\n",
    "pd.set_option('max_columns', None)\n",
    "print(data.shape)\n",
    "data.head(5)"
   ]
  },
  {
   "cell_type": "markdown",
   "id": "6de88ec9",
   "metadata": {},
   "source": [
    "Pitch Types:\n",
    "\n",
    "4-Seam, Cutter, Sinker, Slider, Curveball, Changeup"
   ]
  },
  {
   "cell_type": "markdown",
   "id": "83093c8d",
   "metadata": {},
   "source": [
    "# Features"
   ]
  },
  {
   "cell_type": "code",
   "execution_count": 3,
   "id": "c75aa09f",
   "metadata": {},
   "outputs": [],
   "source": [
    "features = data[['velo', 'spin_rate', 'pfx_-x', 'pfx_z', 'release_extension', \n",
    "                 'release_pos_x', 'release_pos_z', 'arm_angle', 'plate_x', \n",
    "                 'plate_z', 'rv', 'pitch_type', 'p_throws', 'stand']]"
   ]
  },
  {
   "cell_type": "code",
   "execution_count": 4,
   "id": "56e22023",
   "metadata": {},
   "outputs": [
    {
     "name": "stdout",
     "output_type": "stream",
     "text": [
      "4-Seam shape: (249663, 14)\n",
      "RHP 4-Seam shape: (176369, 14)\n",
      "LHP 4-Seam shape: (73294, 14) \n",
      "\n",
      "Cutter shape: (47442, 14)\n",
      "RHP Cutter shape: (31180, 14)\n",
      "LHP Cutter shape: (16262, 14) \n",
      "\n",
      "Sinker shape: (109145, 14)\n",
      "RHP Sinker shape: (75675, 14)\n",
      "LHP Sinker shape: (33470, 14) \n",
      "\n",
      "Slider shape: (135533, 14)\n",
      "RHP Slider shape: (100753, 14)\n",
      "LHP Slider shape: (34780, 14) \n",
      "\n",
      "Curveball shape: (58770, 14)\n",
      "RHP Curveball shape: (39992, 14)\n",
      "LHP Curveball shape: (18778, 14) \n",
      "\n",
      "Changeup shape: (80330, 14)\n",
      "RHP Changeup shape: (50653, 14)\n",
      "LHP Changeup shape: (29677, 14)\n"
     ]
    }
   ],
   "source": [
    "ff = features.loc[features['pitch_type'] == 'FF']\n",
    "print('4-Seam shape:', ff.shape)\n",
    "ff_r = features.loc[(features['pitch_type'] == 'FF') & (features['p_throws'] == 'R')]\n",
    "print('RHP 4-Seam shape:', ff_r.shape)\n",
    "ff_l = features.loc[(features['pitch_type'] == 'FF') & (features['p_throws'] == 'L')]\n",
    "print('LHP 4-Seam shape:', ff_l.shape, '\\n')\n",
    "fc = features.loc[features['pitch_type'] == 'FC']\n",
    "print('Cutter shape:', fc.shape)\n",
    "fc_r = features.loc[(features['pitch_type'] == 'FC') & (features['p_throws'] == 'R')]\n",
    "print('RHP Cutter shape:', fc_r.shape)\n",
    "fc_l = features.loc[(features['pitch_type'] == 'FC') & (features['p_throws'] == 'L')]\n",
    "print('LHP Cutter shape:', fc_l.shape, '\\n')\n",
    "si = features.loc[features['pitch_type'] == 'SI']\n",
    "print('Sinker shape:', si.shape)\n",
    "si_r = features.loc[(features['pitch_type'] == 'SI') & (features['p_throws'] == 'R')]\n",
    "print('RHP Sinker shape:', si_r.shape)\n",
    "si_l = features.loc[(features['pitch_type'] == 'SI') & (features['p_throws'] == 'L')]\n",
    "print('LHP Sinker shape:', si_l.shape, '\\n')\n",
    "sl = features.loc[features['pitch_type'] == 'SL']\n",
    "print('Slider shape:', sl.shape)\n",
    "sl_r = features.loc[(features['pitch_type'] == 'SL') & (features['p_throws'] == 'R')]\n",
    "print('RHP Slider shape:', sl_r.shape)\n",
    "sl_l = features.loc[(features['pitch_type'] == 'SL') & (features['p_throws'] == 'L')]\n",
    "print('LHP Slider shape:', sl_l.shape, '\\n')\n",
    "cu = features.loc[features['pitch_type'] == 'CU']\n",
    "print('Curveball shape:', cu.shape)\n",
    "cu_r = features.loc[(features['pitch_type'] == 'CU') & (features['p_throws'] == 'R')]\n",
    "print('RHP Curveball shape:', cu_r.shape)\n",
    "cu_l = features.loc[(features['pitch_type'] == 'CU') & (features['p_throws'] == 'L')]\n",
    "print('LHP Curveball shape:', cu_l.shape, '\\n')\n",
    "ch = features.loc[features['pitch_type'] == 'CH']\n",
    "print('Changeup shape:', ch.shape)\n",
    "ch_r = features.loc[(features['pitch_type'] == 'CH') & (features['p_throws'] == 'R')]\n",
    "print('RHP Changeup shape:', ch_r.shape)\n",
    "ch_l = features.loc[(features['pitch_type'] == 'CH') & (features['p_throws'] == 'L')]\n",
    "print('LHP Changeup shape:', ch_l.shape)"
   ]
  },
  {
   "cell_type": "markdown",
   "id": "185cf9e5",
   "metadata": {},
   "source": [
    "# Clustering"
   ]
  },
  {
   "cell_type": "markdown",
   "id": "89931699",
   "metadata": {},
   "source": [
    "## 4-Seam"
   ]
  },
  {
   "cell_type": "markdown",
   "id": "de9c21ac",
   "metadata": {},
   "source": [
    "### RHP"
   ]
  },
  {
   "cell_type": "code",
   "execution_count": 5,
   "id": "b4d9010b",
   "metadata": {},
   "outputs": [
    {
     "name": "stdout",
     "output_type": "stream",
     "text": [
      "Number of iterations: 12\n",
      "Number of features: 11\n",
      "Number of clusters: 2\n",
      "Inertia: 1657402.975489033 \n",
      "\n",
      "Predicted clusters to points:  [0 0 0 1 1 1 1 1 1 1]\n"
     ]
    }
   ],
   "source": [
    "features_ff_r = ff_r.select_dtypes([np.number])\n",
    "X_ff_r = features_ff_r\n",
    "\n",
    "ss = StandardScaler()\n",
    "X_ff_r_scaled = ss.fit_transform(X_ff_r)\n",
    "X_ff_r_scaled[:,:] *= -1\n",
    "\n",
    "pca_ff_r = PCA().fit_transform(X_ff_r_scaled)\n",
    "model_ff_r = pd.DataFrame(data = pca_ff_r, columns = X_ff_r.columns)\n",
    "\n",
    "km_ff_r = KMeans(n_clusters = 2, \n",
    "               random_state = 1)\n",
    "km_ff_r.fit(model_ff_r)\n",
    "label_ff_r = km_ff_r.fit_predict(model_ff_r)\n",
    "\n",
    "print('Number of iterations:', km_ff_r.n_iter_)\n",
    "print('Number of features:', km_ff_r.n_features_in_)\n",
    "print('Number of clusters:', km_ff_r.n_clusters)\n",
    "print('Inertia:', km_ff_r.inertia_, '\\n')\n",
    "print('Predicted clusters to points: ', label_ff_r[:10])"
   ]
  },
  {
   "cell_type": "markdown",
   "id": "df1e4fe7",
   "metadata": {},
   "source": [
    "### LHP"
   ]
  },
  {
   "cell_type": "code",
   "execution_count": 6,
   "id": "60d4b97a",
   "metadata": {},
   "outputs": [
    {
     "name": "stdout",
     "output_type": "stream",
     "text": [
      "Number of iterations: 13\n",
      "Number of features: 11\n",
      "Number of clusters: 2\n",
      "Inertia: 687023.0731165606 \n",
      "\n",
      "Predicted clusters to points:  [0 0 0 0 0 0 0 0 0 0]\n"
     ]
    }
   ],
   "source": [
    "features_ff_l = ff_l.select_dtypes([np.number])\n",
    "X_ff_l = features_ff_l\n",
    "\n",
    "ss = StandardScaler()\n",
    "X_ff_l_scaled = ss.fit_transform(X_ff_l)\n",
    "X_ff_l_scaled[:,:] *= -1\n",
    "\n",
    "pca_ff_l = PCA().fit_transform(X_ff_l_scaled)\n",
    "model_ff_l = pd.DataFrame(data = pca_ff_l, columns = X_ff_l.columns)\n",
    "\n",
    "km_ff_l = KMeans(n_clusters = 2, \n",
    "               random_state = 1)\n",
    "km_ff_l.fit(model_ff_l)\n",
    "label_ff_l = km_ff_l.fit_predict(model_ff_l)\n",
    "\n",
    "print('Number of iterations:', km_ff_l.n_iter_)\n",
    "print('Number of features:', km_ff_l.n_features_in_)\n",
    "print('Number of clusters:', km_ff_l.n_clusters)\n",
    "print('Inertia:', km_ff_l.inertia_, '\\n')\n",
    "print('Predicted clusters to points: ', label_ff_l[:10])"
   ]
  },
  {
   "cell_type": "markdown",
   "id": "83399927",
   "metadata": {},
   "source": [
    "### Cluster Labels - RHP 4-Seam"
   ]
  },
  {
   "cell_type": "code",
   "execution_count": 7,
   "id": "3dafce24",
   "metadata": {},
   "outputs": [
    {
     "name": "stdout",
     "output_type": "stream",
     "text": [
      "label                        0            1\n",
      "velo                 93.997935    94.151239\n",
      "spin_rate          2244.150136  2317.016045\n",
      "pfx_-x                8.606419     5.878836\n",
      "pfx_z                14.418286    17.491435\n",
      "release_extension     6.419318     6.379437\n",
      "release_pos_x        -2.344367    -1.296113\n",
      "release_pos_z         5.640120     6.098574\n",
      "arm_angle            39.047619    24.598148\n",
      "plate_x              -0.045525     0.101352\n",
      "plate_z               2.724675     2.773745\n",
      "rv                    0.037642     0.035196\n"
     ]
    }
   ],
   "source": [
    "X_ff_r['label'] = label_ff_r\n",
    "model_ff_r['label'] = label_ff_r\n",
    "\n",
    "print(X_ff_r.groupby(by = 'label').mean().T)"
   ]
  },
  {
   "cell_type": "markdown",
   "id": "1fa8b98b",
   "metadata": {},
   "source": [
    "### Cluster Labels - LHP 4-Seam"
   ]
  },
  {
   "cell_type": "code",
   "execution_count": 8,
   "id": "a7fffe00",
   "metadata": {},
   "outputs": [
    {
     "name": "stdout",
     "output_type": "stream",
     "text": [
      "label                        0            1\n",
      "velo                 92.726930    92.873134\n",
      "spin_rate          2270.323188  2221.734944\n",
      "pfx_-x               -6.133745    -9.301478\n",
      "pfx_z                17.175977    14.860720\n",
      "release_extension     6.255128     6.346647\n",
      "release_pos_x         1.435285     2.494942\n",
      "release_pos_z         6.182845     5.731561\n",
      "arm_angle            41.782183    82.119019\n",
      "plate_x              -0.105211    -0.033343\n",
      "plate_z               2.740620     2.704735\n",
      "rv                    0.039777     0.036286\n"
     ]
    }
   ],
   "source": [
    "X_ff_l['label'] = label_ff_l\n",
    "model_ff_l['label'] = label_ff_l\n",
    "\n",
    "print(X_ff_l.groupby(by = 'label').mean().T)"
   ]
  },
  {
   "cell_type": "markdown",
   "id": "6b28b964",
   "metadata": {},
   "source": [
    "## Cutter"
   ]
  },
  {
   "cell_type": "markdown",
   "id": "5b5b8ee2",
   "metadata": {},
   "source": [
    "### RHP"
   ]
  },
  {
   "cell_type": "code",
   "execution_count": 9,
   "id": "54758bb4",
   "metadata": {},
   "outputs": [
    {
     "name": "stdout",
     "output_type": "stream",
     "text": [
      "Number of iterations: 11\n",
      "Number of features: 11\n",
      "Number of clusters: 2\n",
      "Inertia: 292576.7214263378 \n",
      "\n",
      "Predicted clusters to points:  [1 1 1 1 1 1 0 0 0 0]\n"
     ]
    }
   ],
   "source": [
    "features_fc_r = fc_r.select_dtypes([np.number])\n",
    "X_fc_r = features_fc_r\n",
    "\n",
    "X_fc_r_scaled = ss.fit_transform(X_fc_r)\n",
    "X_fc_r_scaled[:,:] *= -1\n",
    "\n",
    "pca_fc_r = PCA().fit_transform(X_fc_r_scaled)\n",
    "model_fc_r = pd.DataFrame(data = pca_fc_r, columns = X_fc_r.columns)\n",
    "\n",
    "km_fc_r = KMeans(n_clusters = 2, \n",
    "               random_state = 1)\n",
    "\n",
    "km_fc_r.fit(model_fc_r)\n",
    "label_fc_r = km_fc_r.fit_predict(model_fc_r)\n",
    "\n",
    "print('Number of iterations:', km_fc_r.n_iter_)\n",
    "print('Number of features:', km_fc_r.n_features_in_)\n",
    "print('Number of clusters:', km_fc_r.n_clusters)\n",
    "print('Inertia:', km_fc_r.inertia_, '\\n')\n",
    "print(\"Predicted clusters to points: \", label_fc_r[:10])"
   ]
  },
  {
   "cell_type": "markdown",
   "id": "f3f5d80f",
   "metadata": {},
   "source": [
    "### LHP"
   ]
  },
  {
   "cell_type": "code",
   "execution_count": 10,
   "id": "481ca5f0",
   "metadata": {},
   "outputs": [
    {
     "name": "stdout",
     "output_type": "stream",
     "text": [
      "Number of iterations: 7\n",
      "Number of features: 11\n",
      "Number of clusters: 2\n",
      "Inertia: 147750.78029808225 \n",
      "\n",
      "Predicted clusters to points:  [1 1 1 1 1 1 1 1 1 1]\n"
     ]
    }
   ],
   "source": [
    "features_fc_l = fc_l.select_dtypes([np.number])\n",
    "X_fc_l = features_fc_l\n",
    "\n",
    "X_fc_l_scaled = ss.fit_transform(X_fc_l)\n",
    "X_fc_l_scaled[:,:] *= -1\n",
    "\n",
    "pca_fc_l = PCA().fit_transform(X_fc_l_scaled)\n",
    "model_fc_l = pd.DataFrame(data = pca_fc_l, columns = X_fc_l.columns)\n",
    "\n",
    "km_fc_l = KMeans(n_clusters = 2, \n",
    "               random_state = 1)\n",
    "\n",
    "km_fc_l.fit(model_fc_l)\n",
    "label_fc_l = km_fc_r.fit_predict(model_fc_l)\n",
    "\n",
    "print('Number of iterations:', km_fc_l.n_iter_)\n",
    "print('Number of features:', km_fc_l.n_features_in_)\n",
    "print('Number of clusters:', km_fc_l.n_clusters)\n",
    "print('Inertia:', km_fc_l.inertia_, '\\n')\n",
    "print(\"Predicted clusters to points: \", label_fc_l[:10])"
   ]
  },
  {
   "cell_type": "markdown",
   "id": "4cfb0b4c",
   "metadata": {},
   "source": [
    "### Cluster Labels - RHP Cutter"
   ]
  },
  {
   "cell_type": "code",
   "execution_count": 11,
   "id": "9e862bd1",
   "metadata": {},
   "outputs": [
    {
     "name": "stdout",
     "output_type": "stream",
     "text": [
      "label                        0            1\n",
      "velo                 89.312421    89.591175\n",
      "spin_rate          2496.959807  2346.883476\n",
      "pfx_-x               -4.414663    -1.534325\n",
      "pfx_z                 7.291572     8.546483\n",
      "release_extension     6.281773     6.316058\n",
      "release_pos_x        -1.209966    -2.309860\n",
      "release_pos_z         6.109049     5.769489\n",
      "arm_angle            23.145930    37.907182\n",
      "plate_x               0.473079     0.340223\n",
      "plate_z               2.201263     2.415541\n",
      "rv                    0.034568     0.042467\n"
     ]
    }
   ],
   "source": [
    "X_fc_r['label'] = label_fc_r\n",
    "model_fc_r['label'] = label_fc_r\n",
    "\n",
    "print(X_fc_r.groupby(by = 'label').mean().T)"
   ]
  },
  {
   "cell_type": "markdown",
   "id": "992045d9",
   "metadata": {},
   "source": [
    "### Cluster Labels - LHP Cutter"
   ]
  },
  {
   "cell_type": "code",
   "execution_count": 12,
   "id": "4da57fff",
   "metadata": {},
   "outputs": [
    {
     "name": "stdout",
     "output_type": "stream",
     "text": [
      "label                        0            1\n",
      "velo                 86.219041    87.133026\n",
      "spin_rate          2182.855933  2326.861266\n",
      "pfx_-x                0.939237     2.235294\n",
      "pfx_z                 8.012304     7.894864\n",
      "release_extension     6.431769     6.014755\n",
      "release_pos_x         2.771013     1.655300\n",
      "release_pos_z         5.519112     6.044186\n",
      "arm_angle            94.484569    51.039333\n",
      "plate_x              -0.102032    -0.469255\n",
      "plate_z               2.429924     2.319047\n",
      "rv                    0.043880     0.039217\n"
     ]
    }
   ],
   "source": [
    "X_fc_l['label'] = label_fc_l\n",
    "model_fc_l['label'] = label_fc_l\n",
    "\n",
    "print(X_fc_l.groupby(by = 'label').mean().T)"
   ]
  },
  {
   "cell_type": "markdown",
   "id": "dcf098e4",
   "metadata": {},
   "source": [
    "## Sinker"
   ]
  },
  {
   "cell_type": "markdown",
   "id": "154ca06f",
   "metadata": {},
   "source": [
    "### RHP"
   ]
  },
  {
   "cell_type": "code",
   "execution_count": 13,
   "id": "3bd87c52",
   "metadata": {},
   "outputs": [
    {
     "name": "stdout",
     "output_type": "stream",
     "text": [
      "Number of iterations: 7\n",
      "Number of features: 11\n",
      "Number of clusters: 2\n",
      "Inertia: 712683.0238255451 \n",
      "\n",
      "Predicted clusters to points:  [0 0 0 0 0 0 0 1 1 1]\n"
     ]
    }
   ],
   "source": [
    "features_si_r = si_r.select_dtypes([np.number])\n",
    "X_si_r = features_si_r\n",
    "\n",
    "X_si_r_scaled = ss.fit_transform(X_si_r)\n",
    "X_si_r_scaled[:,:] *= -1\n",
    "\n",
    "pca_si_r = PCA().fit_transform(X_si_r_scaled)\n",
    "model_si_r = pd.DataFrame(data = pca_si_r, columns = X_si_r.columns)\n",
    "\n",
    "km_si_r = KMeans(n_clusters = 2, \n",
    "                 random_state = 1)\n",
    "\n",
    "km_si_r.fit(model_si_r)\n",
    "label_si_r = km_si_r.fit_predict(model_si_r)\n",
    "\n",
    "print('Number of iterations:', km_si_r.n_iter_)\n",
    "print('Number of features:', km_si_r.n_features_in_)\n",
    "print('Number of clusters:', km_si_r.n_clusters)\n",
    "print('Inertia:', km_si_r.inertia_, '\\n')\n",
    "print(\"Predicted clusters to points: \", label_si_r[:10])"
   ]
  },
  {
   "cell_type": "markdown",
   "id": "83322042",
   "metadata": {},
   "source": [
    "### LHP"
   ]
  },
  {
   "cell_type": "code",
   "execution_count": 14,
   "id": "95e40be6",
   "metadata": {},
   "outputs": [
    {
     "name": "stdout",
     "output_type": "stream",
     "text": [
      "Number of iterations: 13\n",
      "Number of features: 11\n",
      "Number of clusters: 2\n",
      "Inertia: 307680.72839331074 \n",
      "\n",
      "Predicted clusters to points:  [1 1 0 0 0 0 0 0 0 0]\n"
     ]
    }
   ],
   "source": [
    "features_si_l = si_l.select_dtypes([np.number])\n",
    "X_si_l = features_si_l\n",
    "\n",
    "X_si_l_scaled = ss.fit_transform(X_si_l)\n",
    "X_si_l_scaled[:,:] *= -1\n",
    "\n",
    "pca_si_l = PCA().fit_transform(X_si_l_scaled)\n",
    "model_si_l = pd.DataFrame(data = pca_si_l, columns = X_si_l.columns)\n",
    "\n",
    "km_si_l = KMeans(n_clusters = 2, \n",
    "                 random_state = 1)\n",
    "\n",
    "km_si_l.fit(model_si_l)\n",
    "label_si_l = km_si_l.fit_predict(model_si_l)\n",
    "\n",
    "print('Number of iterations:', km_si_l.n_iter_)\n",
    "print('Number of features:', km_si_l.n_features_in_)\n",
    "print('Number of clusters:', km_si_l.n_clusters)\n",
    "print('Inertia:', km_si_l.inertia_, '\\n')\n",
    "print(\"Predicted clusters to points: \", label_si_l[:10])"
   ]
  },
  {
   "cell_type": "markdown",
   "id": "a0d4394d",
   "metadata": {},
   "source": [
    "### Cluster Labels - RHP Sinker"
   ]
  },
  {
   "cell_type": "code",
   "execution_count": 15,
   "id": "2d8e9ae8",
   "metadata": {},
   "outputs": [
    {
     "name": "stdout",
     "output_type": "stream",
     "text": [
      "label                        0            1\n",
      "velo                 94.194312    92.304808\n",
      "spin_rate          2168.522941  2110.104001\n",
      "pfx_-x               14.027794    15.801817\n",
      "pfx_z                10.702462     7.079005\n",
      "release_extension     6.308428     6.325900\n",
      "release_pos_x        -1.442963    -2.488654\n",
      "release_pos_z         5.897663     5.446172\n",
      "arm_angle            27.394923    41.607376\n",
      "plate_x              -0.171007    -0.241957\n",
      "plate_z               2.375299     2.269648\n",
      "rv                    0.051848     0.071974\n"
     ]
    }
   ],
   "source": [
    "X_si_r['label'] = label_si_r\n",
    "model_si_r['label'] = label_si_r\n",
    "\n",
    "print(X_si_r.groupby(by = 'label').mean().T)"
   ]
  },
  {
   "cell_type": "markdown",
   "id": "837f65f2",
   "metadata": {},
   "source": [
    "### Cluster Labels - LHP Sinker"
   ]
  },
  {
   "cell_type": "code",
   "execution_count": 16,
   "id": "cd2c56e4",
   "metadata": {},
   "outputs": [
    {
     "name": "stdout",
     "output_type": "stream",
     "text": [
      "label                        0            1\n",
      "velo                 92.497392    91.389524\n",
      "spin_rate          2107.903420  2017.978383\n",
      "pfx_-x              -14.372237   -16.176212\n",
      "pfx_z                10.791192     6.564996\n",
      "release_extension     6.217665     6.422449\n",
      "release_pos_x         1.720689     2.887895\n",
      "release_pos_z         6.013647     5.337602\n",
      "arm_angle            53.175159   100.988360\n",
      "plate_x               0.171487     0.270365\n",
      "plate_z               2.348397     2.338510\n",
      "rv                    0.056786     0.049338\n"
     ]
    }
   ],
   "source": [
    "X_si_l['label'] = label_si_l\n",
    "model_si_l['label'] = label_si_l\n",
    "\n",
    "print(X_si_l.groupby(by = 'label').mean().T)"
   ]
  },
  {
   "cell_type": "markdown",
   "id": "809aaa04",
   "metadata": {},
   "source": [
    "## Slider"
   ]
  },
  {
   "cell_type": "markdown",
   "id": "39e0c9ec",
   "metadata": {},
   "source": [
    "### RHP"
   ]
  },
  {
   "cell_type": "code",
   "execution_count": 17,
   "id": "5acf61f0",
   "metadata": {},
   "outputs": [
    {
     "name": "stdout",
     "output_type": "stream",
     "text": [
      "Number of iterations: 11\n",
      "Number of features: 11\n",
      "Number of clusters: 2\n",
      "Inertia: 953442.1221373946 \n",
      "\n",
      "Predicted clusters to points:  [0 0 0 0 1 0 0 0 1 1]\n"
     ]
    }
   ],
   "source": [
    "features_sl_r = sl_r.select_dtypes([np.number])\n",
    "X_sl_r = features_sl_r\n",
    "\n",
    "X_sl_r_scaled = ss.fit_transform(X_sl_r)\n",
    "X_sl_r_scaled[:,:] *= -1\n",
    "\n",
    "pca_sl_r = PCA().fit_transform(X_sl_r_scaled)\n",
    "model_sl_r = pd.DataFrame(data = pca_sl_r, columns = X_sl_r.columns)\n",
    "\n",
    "km_sl_r = KMeans(n_clusters = 2, random_state = 1)\n",
    "\n",
    "km_sl_r.fit(model_sl_r)\n",
    "label_sl_r = km_sl_r.fit_predict(model_sl_r)\n",
    "\n",
    "print('Number of iterations:', km_sl_r.n_iter_)\n",
    "print('Number of features:', km_sl_r.n_features_in_)\n",
    "print('Number of clusters:', km_sl_r.n_clusters)\n",
    "print('Inertia:', km_sl_r.inertia_, '\\n')\n",
    "print(\"Predicted clusters to points: \", label_sl_r[:10])"
   ]
  },
  {
   "cell_type": "markdown",
   "id": "53cfab2f",
   "metadata": {},
   "source": [
    "### LHP"
   ]
  },
  {
   "cell_type": "code",
   "execution_count": 18,
   "id": "8005bb99",
   "metadata": {},
   "outputs": [
    {
     "name": "stdout",
     "output_type": "stream",
     "text": [
      "Number of iterations: 24\n",
      "Number of features: 11\n",
      "Number of clusters: 2\n",
      "Inertia: 326847.2413245266 \n",
      "\n",
      "Predicted clusters to points:  [1 1 1 1 1 1 1 1 1 1]\n"
     ]
    }
   ],
   "source": [
    "features_sl_l = sl_l.select_dtypes([np.number])\n",
    "X_sl_l = features_sl_l\n",
    "\n",
    "X_sl_l_scaled = ss.fit_transform(X_sl_l)\n",
    "X_sl_l_scaled[:,:] *= -1\n",
    "\n",
    "pca_sl_l = PCA().fit_transform(X_sl_l_scaled)\n",
    "model_sl_l = pd.DataFrame(data = pca_sl_l, columns = X_sl_l.columns)\n",
    "\n",
    "km_sl_l = KMeans(n_clusters = 2, random_state = 1)\n",
    "\n",
    "km_sl_l.fit(model_sl_l)\n",
    "label_sl_l = km_sl_l.fit_predict(model_sl_l)\n",
    "\n",
    "print('Number of iterations:', km_sl_l.n_iter_)\n",
    "print('Number of features:', km_sl_l.n_features_in_)\n",
    "print('Number of clusters:', km_sl_l.n_clusters)\n",
    "print('Inertia:', km_sl_l.inertia_, '\\n')\n",
    "print(\"Predicted clusters to points: \", label_sl_l[:10])"
   ]
  },
  {
   "cell_type": "markdown",
   "id": "7d8eeaca",
   "metadata": {},
   "source": [
    "### Cluster Labels - RHP Slider"
   ]
  },
  {
   "cell_type": "code",
   "execution_count": 19,
   "id": "f28eee91",
   "metadata": {},
   "outputs": [
    {
     "name": "stdout",
     "output_type": "stream",
     "text": [
      "label                        0            1\n",
      "velo                 86.135851    82.001383\n",
      "spin_rate          2407.027561  2511.586254\n",
      "pfx_-x               -4.198659   -11.313162\n",
      "pfx_z                 2.149295     0.948780\n",
      "release_extension     6.226364     6.344550\n",
      "release_pos_x        -1.677255    -2.564693\n",
      "release_pos_z         5.956287     5.323356\n",
      "arm_angle            29.904334    42.744517\n",
      "plate_x               0.503078     0.319051\n",
      "plate_z               1.854102     2.014840\n",
      "rv                    0.010488     0.008776\n"
     ]
    }
   ],
   "source": [
    "X_sl_r['label'] = label_sl_r\n",
    "model_sl_r['label'] = label_sl_r\n",
    "\n",
    "print(X_sl_r.groupby(by = 'label').mean().T)"
   ]
  },
  {
   "cell_type": "markdown",
   "id": "318be5bc",
   "metadata": {},
   "source": [
    "### Cluster Labels - LHP Slider"
   ]
  },
  {
   "cell_type": "code",
   "execution_count": 20,
   "id": "6e2ff3cf",
   "metadata": {},
   "outputs": [
    {
     "name": "stdout",
     "output_type": "stream",
     "text": [
      "label                        0            1\n",
      "velo                 82.128186    84.740198\n",
      "spin_rate          2452.647604  2314.177567\n",
      "pfx_-x                9.121613     4.248178\n",
      "pfx_z                -0.598298     2.376231\n",
      "release_extension     6.144286     6.295628\n",
      "release_pos_x         2.586637     1.728740\n",
      "release_pos_z         5.472257     6.058963\n",
      "arm_angle            89.474103    52.522746\n",
      "plate_x              -0.281436    -0.441960\n",
      "plate_z               1.922607     1.798435\n",
      "rv                    0.006022     0.004535\n"
     ]
    }
   ],
   "source": [
    "X_sl_l['label'] = label_sl_l\n",
    "model_sl_l['label'] = label_sl_l\n",
    "\n",
    "print(X_sl_l.groupby(by = 'label').mean().T)"
   ]
  },
  {
   "cell_type": "markdown",
   "id": "37d184f1",
   "metadata": {},
   "source": [
    "## Curveball"
   ]
  },
  {
   "cell_type": "markdown",
   "id": "39891fff",
   "metadata": {},
   "source": [
    "### RHP"
   ]
  },
  {
   "cell_type": "code",
   "execution_count": 21,
   "id": "b44abbe0",
   "metadata": {},
   "outputs": [
    {
     "name": "stdout",
     "output_type": "stream",
     "text": [
      "Number of iterations: 14\n",
      "Number of features: 11\n",
      "Number of clusters: 2\n",
      "Inertia: 376280.8428535383 \n",
      "\n",
      "Predicted clusters to points:  [1 1 1 1 1 1 1 1 1 1]\n"
     ]
    }
   ],
   "source": [
    "features_cu_r = cu_r.select_dtypes([np.number])\n",
    "X_cu_r = features_cu_r\n",
    "\n",
    "X_cu_r_scaled = ss.fit_transform(X_cu_r)\n",
    "X_cu_r_scaled[:,:] *= -1\n",
    "\n",
    "pca_cu_r = PCA().fit_transform(X_cu_r_scaled)\n",
    "model_cu_r = pd.DataFrame(data = pca_cu_r, columns = X_cu_r.columns)\n",
    "\n",
    "km_cu_r = KMeans(n_clusters = 2, random_state = 1)\n",
    "\n",
    "km_cu_r.fit(model_cu_r)\n",
    "label_cu_r = km_cu_r.fit_predict(model_cu_r)\n",
    "\n",
    "print('Number of iterations:', km_cu_r.n_iter_)\n",
    "print('Number of features:', km_cu_r.n_features_in_)\n",
    "print('Number of clusters:', km_cu_r.n_clusters)\n",
    "print('Inertia:', km_cu_r.inertia_, '\\n')\n",
    "print(\"Predicted clusters to points: \", label_cu_r[:10])"
   ]
  },
  {
   "cell_type": "markdown",
   "id": "7e86769f",
   "metadata": {},
   "source": [
    "### LHP"
   ]
  },
  {
   "cell_type": "code",
   "execution_count": 22,
   "id": "23d6fc4e",
   "metadata": {},
   "outputs": [
    {
     "name": "stdout",
     "output_type": "stream",
     "text": [
      "Number of iterations: 18\n",
      "Number of features: 11\n",
      "Number of clusters: 2\n",
      "Inertia: 170828.7922830631 \n",
      "\n",
      "Predicted clusters to points:  [0 0 1 0 0 0 0 0 0 0]\n"
     ]
    }
   ],
   "source": [
    "features_cu_l = cu_l.select_dtypes([np.number])\n",
    "X_cu_l = features_cu_l\n",
    "\n",
    "X_cu_l_scaled = ss.fit_transform(X_cu_l)\n",
    "X_cu_l_scaled[:,:] *= -1\n",
    "\n",
    "pca_cu_l = PCA().fit_transform(X_cu_l_scaled)\n",
    "model_cu_l = pd.DataFrame(data = pca_cu_l, columns = X_cu_l.columns)\n",
    "\n",
    "km_cu_l = KMeans(n_clusters = 2, random_state = 1)\n",
    "\n",
    "km_cu_l.fit(model_cu_l)\n",
    "label_cu_l = km_cu_l.fit_predict(model_cu_l)\n",
    "\n",
    "print('Number of iterations:', km_cu_l.n_iter_)\n",
    "print('Number of features:', km_cu_l.n_features_in_)\n",
    "print('Number of clusters:', km_cu_l.n_clusters)\n",
    "print('Inertia:', km_cu_l.inertia_, '\\n')\n",
    "print(\"Predicted clusters to points: \", label_cu_l[:10])"
   ]
  },
  {
   "cell_type": "markdown",
   "id": "8834fc6a",
   "metadata": {},
   "source": [
    "### Cluster Labels - RHP Curveball"
   ]
  },
  {
   "cell_type": "code",
   "execution_count": 23,
   "id": "7318a85e",
   "metadata": {},
   "outputs": [
    {
     "name": "stdout",
     "output_type": "stream",
     "text": [
      "label                        0            1\n",
      "velo                 78.939429    79.525352\n",
      "spin_rate          2525.058609  2553.118290\n",
      "pfx_-x               -8.165876   -11.300388\n",
      "pfx_z               -11.373739    -6.993671\n",
      "release_extension     6.255395     6.236119\n",
      "release_pos_x        -1.185469    -2.186384\n",
      "release_pos_z         6.166673     5.739452\n",
      "arm_angle            22.595614    36.847146\n",
      "plate_x               0.169066     0.201430\n",
      "plate_z               1.785628     1.864594\n",
      "rv                    0.002237     0.001310\n"
     ]
    }
   ],
   "source": [
    "X_cu_r['label'] = label_cu_r\n",
    "model_cu_r['label'] = label_cu_r\n",
    "\n",
    "print(X_cu_r.groupby(by = 'label').mean().T)"
   ]
  },
  {
   "cell_type": "markdown",
   "id": "47927ae5",
   "metadata": {},
   "source": [
    "### Cluster Labels - LHP Curveball"
   ]
  },
  {
   "cell_type": "code",
   "execution_count": 24,
   "id": "dff500a6",
   "metadata": {},
   "outputs": [
    {
     "name": "stdout",
     "output_type": "stream",
     "text": [
      "label                        0            1\n",
      "velo                 77.414522    78.256430\n",
      "spin_rate          2543.611454  2275.639252\n",
      "pfx_-x                9.658076     6.527861\n",
      "pfx_z               -10.468282    -2.873184\n",
      "release_extension     6.112271     6.149264\n",
      "release_pos_x         1.439155     2.663940\n",
      "release_pos_z         6.155152     5.746681\n",
      "arm_angle            42.216920    88.121373\n",
      "plate_x              -0.141645    -0.235830\n",
      "plate_z               1.903045     1.780942\n",
      "rv                   -0.006542     0.007368\n"
     ]
    }
   ],
   "source": [
    "X_cu_l['label'] = label_cu_l\n",
    "model_cu_l['label'] = label_cu_l\n",
    "\n",
    "print(X_cu_l.groupby(by = 'label').mean().T)"
   ]
  },
  {
   "cell_type": "markdown",
   "id": "3c72e08b",
   "metadata": {},
   "source": [
    "## Changeup"
   ]
  },
  {
   "cell_type": "markdown",
   "id": "7992cd5a",
   "metadata": {},
   "source": [
    "### RHP"
   ]
  },
  {
   "cell_type": "code",
   "execution_count": 25,
   "id": "e579998c",
   "metadata": {},
   "outputs": [
    {
     "name": "stdout",
     "output_type": "stream",
     "text": [
      "Number of iterations: 10\n",
      "Number of features: 11\n",
      "Number of clusters: 2\n",
      "Inertia: 1773203337.25135 \n",
      "\n",
      "Predicted clusters to points:  [1 1 1 1 1 0 1 0 0 0]\n"
     ]
    }
   ],
   "source": [
    "features_ch_r = ch_r.select_dtypes([np.number])\n",
    "X_ch_r = features_ch_r\n",
    "\n",
    "X_ch_r_scaled = ss.fit_transform(X_ch_r)\n",
    "X_ch_r_scaled[:,:] *= -1\n",
    "\n",
    "pca_ch_r = PCA().fit_transform(X_ch_r)\n",
    "model_ch_r = pd.DataFrame(data = pca_ch_r, columns = X_ch_r.columns)\n",
    "\n",
    "km_ch_r = KMeans(n_clusters = 2, random_state = 1)\n",
    "\n",
    "km_ch_r.fit(model_ch_r)\n",
    "label_ch_r = km_ch_r.fit_predict(model_ch_r)\n",
    "\n",
    "print('Number of iterations:', km_ch_r.n_iter_)\n",
    "print('Number of features:', km_ch_r.n_features_in_)\n",
    "print('Number of clusters:', km_ch_r.n_clusters)\n",
    "print('Inertia:', km_ch_r.inertia_, '\\n')\n",
    "print(\"Predicted clusters to points: \", label_ch_r[:10])"
   ]
  },
  {
   "cell_type": "markdown",
   "id": "c84ee6f4",
   "metadata": {},
   "source": [
    "### LHP"
   ]
  },
  {
   "cell_type": "code",
   "execution_count": 26,
   "id": "d17ac6ce",
   "metadata": {},
   "outputs": [
    {
     "name": "stdout",
     "output_type": "stream",
     "text": [
      "Number of iterations: 13\n",
      "Number of features: 11\n",
      "Number of clusters: 2\n",
      "Inertia: 920658024.4250917 \n",
      "\n",
      "Predicted clusters to points:  [0 0 0 0 0 0 0 0 0 0]\n"
     ]
    }
   ],
   "source": [
    "features_ch_l = ch_l.select_dtypes([np.number])\n",
    "X_ch_l = features_ch_l\n",
    "\n",
    "X_ch_l_scaled = ss.fit_transform(X_ch_l)\n",
    "X_ch_l_scaled[:,:] *= -1\n",
    "\n",
    "pca_ch_l = PCA().fit_transform(X_ch_l)\n",
    "model_ch_l = pd.DataFrame(data = pca_ch_l, columns = X_ch_l.columns)\n",
    "\n",
    "km_ch_l = KMeans(n_clusters = 2, random_state = 1)\n",
    "\n",
    "km_ch_l.fit(model_ch_l)\n",
    "label_ch_l = km_ch_l.fit_predict(model_ch_l)\n",
    "\n",
    "print('Number of iterations:', km_ch_l.n_iter_)\n",
    "print('Number of features:', km_ch_l.n_features_in_)\n",
    "print('Number of clusters:', km_ch_l.n_clusters)\n",
    "print('Inertia:', km_ch_l.inertia_, '\\n')\n",
    "print(\"Predicted clusters to points: \", label_ch_l[:10])"
   ]
  },
  {
   "cell_type": "markdown",
   "id": "f4ddb95c",
   "metadata": {},
   "source": [
    "### Cluster Labels - RHP Changeup"
   ]
  },
  {
   "cell_type": "code",
   "execution_count": 27,
   "id": "decc0285",
   "metadata": {},
   "outputs": [
    {
     "name": "stdout",
     "output_type": "stream",
     "text": [
      "label                        0            1\n",
      "velo                 85.956297    85.248104\n",
      "spin_rate          2051.217743  1564.045441\n",
      "pfx_-x               15.165121    12.986649\n",
      "pfx_z                 6.321285     6.256120\n",
      "release_extension     6.248753     6.404805\n",
      "release_pos_x        -2.030620    -1.881358\n",
      "release_pos_z         5.692416     5.821656\n",
      "arm_angle            35.284248    32.871275\n",
      "plate_x              -0.292740    -0.385455\n",
      "plate_z               1.803669     1.862081\n",
      "rv                    0.018157     0.022268\n"
     ]
    }
   ],
   "source": [
    "X_ch_r['label'] = label_ch_r\n",
    "model_ch_r['label'] = label_ch_r\n",
    "\n",
    "print(X_ch_r.groupby(by = 'label').mean().T)"
   ]
  },
  {
   "cell_type": "markdown",
   "id": "b47585b3",
   "metadata": {},
   "source": [
    "### Cluster Labels - LHP Changeup"
   ]
  },
  {
   "cell_type": "code",
   "execution_count": 28,
   "id": "1633b5ff",
   "metadata": {},
   "outputs": [
    {
     "name": "stdout",
     "output_type": "stream",
     "text": [
      "label                        0            1\n",
      "velo                 83.426990    83.837590\n",
      "spin_rate          1559.444192  2051.185899\n",
      "pfx_-x              -12.960786   -15.581257\n",
      "pfx_z                 7.156511     8.830455\n",
      "release_extension     6.279377     6.185499\n",
      "release_pos_x         2.082711     1.965572\n",
      "release_pos_z         5.867780     5.794954\n",
      "arm_angle            66.777709    64.322455\n",
      "plate_x               0.520617     0.424509\n",
      "plate_z               1.877259     1.856021\n",
      "rv                    0.030358     0.028574\n"
     ]
    }
   ],
   "source": [
    "X_ch_l['label'] = label_ch_l\n",
    "model_ch_l['label'] = label_ch_l\n",
    "\n",
    "print(X_ch_l.groupby(by = 'label').mean().T)"
   ]
  }
 ],
 "metadata": {
  "kernelspec": {
   "display_name": "Python 3",
   "language": "python",
   "name": "python3"
  },
  "language_info": {
   "codemirror_mode": {
    "name": "ipython",
    "version": 3
   },
   "file_extension": ".py",
   "mimetype": "text/x-python",
   "name": "python",
   "nbconvert_exporter": "python",
   "pygments_lexer": "ipython3",
   "version": "3.8.8"
  }
 },
 "nbformat": 4,
 "nbformat_minor": 5
}
