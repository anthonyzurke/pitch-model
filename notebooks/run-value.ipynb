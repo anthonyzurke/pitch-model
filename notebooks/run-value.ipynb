{
 "cells": [
  {
   "cell_type": "markdown",
   "id": "426268f7",
   "metadata": {},
   "source": [
    "# Notebook Contents\n",
    "\n",
    "- [Imports](#Imports)\n",
    "- [Data](#Data)\n",
    "- [Preprocessing](#Preprocessing)\n",
    "    - [Multicolinearity - VIF](#Multicolinearity---VIF)\n",
    "- [Clustering](#Clustering)\n",
    "    - [4-Seam Fastball](#4-Seam-Fastball)\n",
    "        - [4-Seam Cluster Label](#Cluster-Labels---4-Seam)\n",
    "    - [Slider](#Slider)\n",
    "        - [Slider Cluster Label](#Cluster-Labels---Slider)\n",
    "    - [Changeup](#Changeup)\n",
    "        - [Changeup Cluster Label](#Cluster-Labels---Changeup)\n",
    "    - [Cutter](#Cutter)\n",
    "        - [Cutter Cluster Label](#Cluster-Labels---Cutter)"
   ]
  },
  {
   "cell_type": "markdown",
   "id": "9a8c2c47",
   "metadata": {},
   "source": [
    "# Imports"
   ]
  },
  {
   "cell_type": "code",
   "execution_count": 1,
   "id": "3b41894e",
   "metadata": {},
   "outputs": [],
   "source": [
    "from statsmodels.stats.outliers_influence import variance_inflation_factor\n",
    "from sklearn.preprocessing import StandardScaler\n",
    "from sklearn.decomposition import PCA\n",
    "from sklearn.cluster import KMeans, k_means\n",
    "from sklearn.linear_model import LogisticRegression\n",
    "from sklearn.metrics import silhouette_score, silhouette_samples\n",
    "from sklearn.feature_selection import SelectKBest\n",
    "from sklearn import metrics\n",
    "from sklearn.model_selection import train_test_split, cross_val_score\n",
    "\n",
    "import warnings\n",
    "warnings.filterwarnings('ignore')"
   ]
  },
  {
   "cell_type": "markdown",
   "id": "7a31fda9",
   "metadata": {},
   "source": [
    "# Data"
   ]
  },
  {
   "cell_type": "code",
   "execution_count": 2,
   "id": "b19190a2",
   "metadata": {},
   "outputs": [
    {
     "name": "stdout",
     "output_type": "stream",
     "text": [
      "(869, 31)\n"
     ]
    },
    {
     "data": {
      "text/html": [
       "<div>\n",
       "<style scoped>\n",
       "    .dataframe tbody tr th:only-of-type {\n",
       "        vertical-align: middle;\n",
       "    }\n",
       "\n",
       "    .dataframe tbody tr th {\n",
       "        vertical-align: top;\n",
       "    }\n",
       "\n",
       "    .dataframe thead th {\n",
       "        text-align: right;\n",
       "    }\n",
       "</style>\n",
       "<table border=\"1\" class=\"dataframe\">\n",
       "  <thead>\n",
       "    <tr style=\"text-align: right;\">\n",
       "      <th></th>\n",
       "      <th>last_name_x</th>\n",
       "      <th>last_name_y</th>\n",
       "      <th>first_name_x</th>\n",
       "      <th>pitch_type</th>\n",
       "      <th>pitch_name_x</th>\n",
       "      <th>pitch_name_y</th>\n",
       "      <th>pitch_usage</th>\n",
       "      <th>release_speed</th>\n",
       "      <th>spin_rate</th>\n",
       "      <th>movement_inches</th>\n",
       "      <th>spin_eff%</th>\n",
       "      <th>active_spin</th>\n",
       "      <th>run_value_per_100</th>\n",
       "      <th>run_value</th>\n",
       "      <th>pa</th>\n",
       "      <th>ba</th>\n",
       "      <th>slg</th>\n",
       "      <th>woba</th>\n",
       "      <th>whiff_percent</th>\n",
       "      <th>k_percent</th>\n",
       "      <th>put_away</th>\n",
       "      <th>est_ba</th>\n",
       "      <th>est_slg</th>\n",
       "      <th>est_woba</th>\n",
       "      <th>hard_hit_percent</th>\n",
       "      <th>hawkeye_measured_clock_label</th>\n",
       "      <th>movement_inferred_clock_label</th>\n",
       "      <th>diff_clock_label</th>\n",
       "      <th>team_name_alt</th>\n",
       "      <th>pitch_hand_L</th>\n",
       "      <th>pitch_hand_R</th>\n",
       "    </tr>\n",
       "  </thead>\n",
       "  <tbody>\n",
       "    <tr>\n",
       "      <th>0</th>\n",
       "      <td>Abreu</td>\n",
       "      <td>Abreu</td>\n",
       "      <td>Bryan</td>\n",
       "      <td>2</td>\n",
       "      <td>Slider</td>\n",
       "      <td>Slider</td>\n",
       "      <td>37.2</td>\n",
       "      <td>88.9</td>\n",
       "      <td>2526</td>\n",
       "      <td>6.2</td>\n",
       "      <td>32</td>\n",
       "      <td>0.324769</td>\n",
       "      <td>1.9</td>\n",
       "      <td>5</td>\n",
       "      <td>63</td>\n",
       "      <td>0.246</td>\n",
       "      <td>0.456</td>\n",
       "      <td>0.338</td>\n",
       "      <td>38.0</td>\n",
       "      <td>28.6</td>\n",
       "      <td>22.5</td>\n",
       "      <td>0.253</td>\n",
       "      <td>0.423</td>\n",
       "      <td>0.332</td>\n",
       "      <td>45.0</td>\n",
       "      <td>7:30</td>\n",
       "      <td>7:30</td>\n",
       "      <td>0H 00M</td>\n",
       "      <td>HOU</td>\n",
       "      <td>0</td>\n",
       "      <td>1</td>\n",
       "    </tr>\n",
       "    <tr>\n",
       "      <th>1</th>\n",
       "      <td>Abreu</td>\n",
       "      <td>Abreu</td>\n",
       "      <td>Bryan</td>\n",
       "      <td>1</td>\n",
       "      <td>4-Seamer</td>\n",
       "      <td>4-Seam Fastball</td>\n",
       "      <td>45.0</td>\n",
       "      <td>95.7</td>\n",
       "      <td>2216</td>\n",
       "      <td>18.6</td>\n",
       "      <td>93</td>\n",
       "      <td>0.925214</td>\n",
       "      <td>-0.1</td>\n",
       "      <td>0</td>\n",
       "      <td>66</td>\n",
       "      <td>0.273</td>\n",
       "      <td>0.418</td>\n",
       "      <td>0.379</td>\n",
       "      <td>23.9</td>\n",
       "      <td>12.1</td>\n",
       "      <td>11.4</td>\n",
       "      <td>0.274</td>\n",
       "      <td>0.428</td>\n",
       "      <td>0.367</td>\n",
       "      <td>34.0</td>\n",
       "      <td>1:00</td>\n",
       "      <td>1:00</td>\n",
       "      <td>0H 00M</td>\n",
       "      <td>HOU</td>\n",
       "      <td>0</td>\n",
       "      <td>1</td>\n",
       "    </tr>\n",
       "    <tr>\n",
       "      <th>2</th>\n",
       "      <td>Adams</td>\n",
       "      <td>Adams</td>\n",
       "      <td>Austin</td>\n",
       "      <td>2</td>\n",
       "      <td>Slider</td>\n",
       "      <td>Slider</td>\n",
       "      <td>87.1</td>\n",
       "      <td>86.9</td>\n",
       "      <td>2837</td>\n",
       "      <td>10.8</td>\n",
       "      <td>37</td>\n",
       "      <td>0.370953</td>\n",
       "      <td>-0.8</td>\n",
       "      <td>-7</td>\n",
       "      <td>217</td>\n",
       "      <td>0.145</td>\n",
       "      <td>0.208</td>\n",
       "      <td>0.288</td>\n",
       "      <td>35.3</td>\n",
       "      <td>33.2</td>\n",
       "      <td>28.7</td>\n",
       "      <td>0.158</td>\n",
       "      <td>0.256</td>\n",
       "      <td>0.307</td>\n",
       "      <td>23.7</td>\n",
       "      <td>8:15</td>\n",
       "      <td>9:00</td>\n",
       "      <td>-0H 45M</td>\n",
       "      <td>SD</td>\n",
       "      <td>0</td>\n",
       "      <td>1</td>\n",
       "    </tr>\n",
       "    <tr>\n",
       "      <th>3</th>\n",
       "      <td>Akin</td>\n",
       "      <td>Akin</td>\n",
       "      <td>Keegan</td>\n",
       "      <td>3</td>\n",
       "      <td>Changeup</td>\n",
       "      <td>Changeup</td>\n",
       "      <td>19.5</td>\n",
       "      <td>81.9</td>\n",
       "      <td>1936</td>\n",
       "      <td>17.4</td>\n",
       "      <td>95</td>\n",
       "      <td>0.953193</td>\n",
       "      <td>2.8</td>\n",
       "      <td>9</td>\n",
       "      <td>100</td>\n",
       "      <td>0.333</td>\n",
       "      <td>0.494</td>\n",
       "      <td>0.405</td>\n",
       "      <td>29.1</td>\n",
       "      <td>16.0</td>\n",
       "      <td>17.6</td>\n",
       "      <td>0.248</td>\n",
       "      <td>0.425</td>\n",
       "      <td>0.334</td>\n",
       "      <td>38.9</td>\n",
       "      <td>10:00</td>\n",
       "      <td>9:45</td>\n",
       "      <td>+0H 15M</td>\n",
       "      <td>BAL</td>\n",
       "      <td>1</td>\n",
       "      <td>0</td>\n",
       "    </tr>\n",
       "    <tr>\n",
       "      <th>4</th>\n",
       "      <td>Akin</td>\n",
       "      <td>Akin</td>\n",
       "      <td>Keegan</td>\n",
       "      <td>1</td>\n",
       "      <td>4-Seamer</td>\n",
       "      <td>4-Seam Fastball</td>\n",
       "      <td>57.2</td>\n",
       "      <td>92.0</td>\n",
       "      <td>2337</td>\n",
       "      <td>20.7</td>\n",
       "      <td>97</td>\n",
       "      <td>0.969171</td>\n",
       "      <td>-0.6</td>\n",
       "      <td>-6</td>\n",
       "      <td>231</td>\n",
       "      <td>0.250</td>\n",
       "      <td>0.451</td>\n",
       "      <td>0.331</td>\n",
       "      <td>20.0</td>\n",
       "      <td>22.1</td>\n",
       "      <td>14.2</td>\n",
       "      <td>0.253</td>\n",
       "      <td>0.487</td>\n",
       "      <td>0.353</td>\n",
       "      <td>43.9</td>\n",
       "      <td>10:45</td>\n",
       "      <td>11:00</td>\n",
       "      <td>-0H 15M</td>\n",
       "      <td>BAL</td>\n",
       "      <td>1</td>\n",
       "      <td>0</td>\n",
       "    </tr>\n",
       "  </tbody>\n",
       "</table>\n",
       "</div>"
      ],
      "text/plain": [
       "  last_name_x last_name_y  first_name_x  pitch_type pitch_name_x  \\\n",
       "0       Abreu       Abreu         Bryan           2       Slider   \n",
       "1       Abreu       Abreu         Bryan           1     4-Seamer   \n",
       "2       Adams       Adams        Austin           2       Slider   \n",
       "3        Akin        Akin        Keegan           3     Changeup   \n",
       "4        Akin        Akin        Keegan           1     4-Seamer   \n",
       "\n",
       "      pitch_name_y  pitch_usage  release_speed  spin_rate  movement_inches  \\\n",
       "0           Slider         37.2           88.9       2526              6.2   \n",
       "1  4-Seam Fastball         45.0           95.7       2216             18.6   \n",
       "2           Slider         87.1           86.9       2837             10.8   \n",
       "3         Changeup         19.5           81.9       1936             17.4   \n",
       "4  4-Seam Fastball         57.2           92.0       2337             20.7   \n",
       "\n",
       "   spin_eff%  active_spin  run_value_per_100  run_value   pa     ba    slg  \\\n",
       "0         32     0.324769                1.9          5   63  0.246  0.456   \n",
       "1         93     0.925214               -0.1          0   66  0.273  0.418   \n",
       "2         37     0.370953               -0.8         -7  217  0.145  0.208   \n",
       "3         95     0.953193                2.8          9  100  0.333  0.494   \n",
       "4         97     0.969171               -0.6         -6  231  0.250  0.451   \n",
       "\n",
       "    woba  whiff_percent  k_percent  put_away  est_ba  est_slg  est_woba  \\\n",
       "0  0.338           38.0       28.6      22.5   0.253    0.423     0.332   \n",
       "1  0.379           23.9       12.1      11.4   0.274    0.428     0.367   \n",
       "2  0.288           35.3       33.2      28.7   0.158    0.256     0.307   \n",
       "3  0.405           29.1       16.0      17.6   0.248    0.425     0.334   \n",
       "4  0.331           20.0       22.1      14.2   0.253    0.487     0.353   \n",
       "\n",
       "   hard_hit_percent hawkeye_measured_clock_label  \\\n",
       "0              45.0                         7:30   \n",
       "1              34.0                         1:00   \n",
       "2              23.7                         8:15   \n",
       "3              38.9                        10:00   \n",
       "4              43.9                        10:45   \n",
       "\n",
       "  movement_inferred_clock_label diff_clock_label team_name_alt  pitch_hand_L  \\\n",
       "0                          7:30           0H 00M           HOU             0   \n",
       "1                          1:00           0H 00M           HOU             0   \n",
       "2                          9:00          -0H 45M            SD             0   \n",
       "3                          9:45          +0H 15M           BAL             1   \n",
       "4                         11:00          -0H 15M           BAL             1   \n",
       "\n",
       "   pitch_hand_R  \n",
       "0             1  \n",
       "1             1  \n",
       "2             1  \n",
       "3             0  \n",
       "4             0  "
      ]
     },
     "execution_count": 2,
     "metadata": {},
     "output_type": "execute_result"
    }
   ],
   "source": [
    "pd.set_option('max_columns', None)\n",
    "\n",
    "data = pd.read_csv('../data/arsenal-spin.csv')\n",
    "data.drop(columns = ['Unnamed: 0', 'player_id', 'pitches', 'n_pitches',\n",
    "                     'diff_measured_inferred_minutes', 'diff_clock_hh', \n",
    "                     'diff_measured_inferred', 'hawkeye_measured', 'movement_inferred', \n",
    "                     'alan_active_spin_pct', 'diff2', 'diff_clock_mm', 'hawkeye_measured_clock_hh', \n",
    "                     'hawkeye_measured_clock_mm', 'hawkeye_measured_clock_hh', 'hawkeye_measured_clock_mm', \n",
    "                     'movement_inferred_clock_hh', 'movement_inferred_clock_mm'], inplace = True)\n",
    "data = data.sort_values(by = ['last_name_x'], ascending = True)\n",
    "\n",
    "# Binarize pitch types\n",
    "data['pitch_type'] = data['pitch_type'].map({'FS': 5, 'FC': 4, 'CH': 3, 'SL': 2, 'FF': 1})\n",
    "\n",
    "data = pd.get_dummies(data, columns = ['pitch_hand'])\n",
    "\n",
    "# Index by Pitch Name\n",
    "ff = data.loc[data['pitch_name_y'] == '4-Seam Fastball']\n",
    "sl = data.loc[data['pitch_name_y'] == 'Slider']\n",
    "ch = data.loc[data['pitch_name_y'] == 'Changeup']\n",
    "fc = data.loc[data['pitch_name_y'] == 'Cutter']\n",
    "fs = data.loc[data['pitch_name_y'] == 'Splitter']\n",
    "\n",
    "print(data.shape)\n",
    "data.head()"
   ]
  },
  {
   "cell_type": "markdown",
   "id": "8674541e",
   "metadata": {},
   "source": [
    "# Preprocessing"
   ]
  },
  {
   "cell_type": "markdown",
   "id": "4682dbc5",
   "metadata": {},
   "source": [
    "### Multicolinearity - VIF"
   ]
  },
  {
   "cell_type": "code",
   "execution_count": 3,
   "id": "62e20f9a",
   "metadata": {},
   "outputs": [
    {
     "data": {
      "text/html": [
       "<div>\n",
       "<style scoped>\n",
       "    .dataframe tbody tr th:only-of-type {\n",
       "        vertical-align: middle;\n",
       "    }\n",
       "\n",
       "    .dataframe tbody tr th {\n",
       "        vertical-align: top;\n",
       "    }\n",
       "\n",
       "    .dataframe thead th {\n",
       "        text-align: right;\n",
       "    }\n",
       "</style>\n",
       "<table border=\"1\" class=\"dataframe\">\n",
       "  <thead>\n",
       "    <tr style=\"text-align: right;\">\n",
       "      <th></th>\n",
       "      <th>feature</th>\n",
       "      <th>VIF</th>\n",
       "    </tr>\n",
       "  </thead>\n",
       "  <tbody>\n",
       "    <tr>\n",
       "      <th>9</th>\n",
       "      <td>pa</td>\n",
       "      <td>1.330905</td>\n",
       "    </tr>\n",
       "    <tr>\n",
       "      <th>1</th>\n",
       "      <td>pitch_usage</td>\n",
       "      <td>1.689636</td>\n",
       "    </tr>\n",
       "    <tr>\n",
       "      <th>0</th>\n",
       "      <td>pitch_type</td>\n",
       "      <td>2.182406</td>\n",
       "    </tr>\n",
       "    <tr>\n",
       "      <th>19</th>\n",
       "      <td>hard_hit_percent</td>\n",
       "      <td>2.850410</td>\n",
       "    </tr>\n",
       "    <tr>\n",
       "      <th>3</th>\n",
       "      <td>spin_rate</td>\n",
       "      <td>3.298621</td>\n",
       "    </tr>\n",
       "    <tr>\n",
       "      <th>2</th>\n",
       "      <td>release_speed</td>\n",
       "      <td>3.428532</td>\n",
       "    </tr>\n",
       "    <tr>\n",
       "      <th>15</th>\n",
       "      <td>put_away</td>\n",
       "      <td>4.288307</td>\n",
       "    </tr>\n",
       "    <tr>\n",
       "      <th>13</th>\n",
       "      <td>whiff_percent</td>\n",
       "      <td>4.553517</td>\n",
       "    </tr>\n",
       "    <tr>\n",
       "      <th>8</th>\n",
       "      <td>run_value</td>\n",
       "      <td>5.535584</td>\n",
       "    </tr>\n",
       "    <tr>\n",
       "      <th>7</th>\n",
       "      <td>run_value_per_100</td>\n",
       "      <td>7.202815</td>\n",
       "    </tr>\n",
       "    <tr>\n",
       "      <th>14</th>\n",
       "      <td>k_percent</td>\n",
       "      <td>8.577577</td>\n",
       "    </tr>\n",
       "  </tbody>\n",
       "</table>\n",
       "</div>"
      ],
      "text/plain": [
       "              feature       VIF\n",
       "9                  pa  1.330905\n",
       "1         pitch_usage  1.689636\n",
       "0          pitch_type  2.182406\n",
       "19   hard_hit_percent  2.850410\n",
       "3           spin_rate  3.298621\n",
       "2       release_speed  3.428532\n",
       "15           put_away  4.288307\n",
       "13      whiff_percent  4.553517\n",
       "8           run_value  5.535584\n",
       "7   run_value_per_100  7.202815\n",
       "14          k_percent  8.577577"
      ]
     },
     "execution_count": 3,
     "metadata": {},
     "output_type": "execute_result"
    }
   ],
   "source": [
    "features = data.select_dtypes([np.number])\n",
    "vif_data = pd.DataFrame()\n",
    "vif_data[\"feature\"] = features.columns\n",
    "\n",
    "vif_data[\"VIF\"] = [variance_inflation_factor(features.values, i)\n",
    "                   for i in range(len(features.columns))]\n",
    "\n",
    "vif_data.sort_values(by = 'VIF').head(11)"
   ]
  },
  {
   "cell_type": "markdown",
   "id": "185cf9e5",
   "metadata": {},
   "source": [
    "# Clustering "
   ]
  },
  {
   "cell_type": "markdown",
   "id": "89931699",
   "metadata": {},
   "source": [
    "## 4-Seam Fastball"
   ]
  },
  {
   "cell_type": "code",
   "execution_count": 4,
   "id": "b4d9010b",
   "metadata": {},
   "outputs": [
    {
     "name": "stdout",
     "output_type": "stream",
     "text": [
      "Number of iterations: 8\n",
      "Number of features: 22\n",
      "Number of clusters: 2\n",
      "Inertia: 6183.260335388712 \n",
      "\n",
      "Predicted clusters to points:  [0 1 1 1 0 1 1 0 0 0] \n",
      "\n"
     ]
    }
   ],
   "source": [
    "features_ff = ff.select_dtypes([np.number])\n",
    "X_ff = features_ff\n",
    "\n",
    "ss = StandardScaler()\n",
    "X_ff_scaled = ss.fit_transform(X_ff)\n",
    "X_ff_scaled[:,:] *= -1\n",
    "\n",
    "pca = PCA().fit(X_ff_scaled)\n",
    "principal_components_ff = pca.transform(X_ff_scaled)\n",
    "model_ff = pd.DataFrame(data = principal_components_ff, columns = X_ff.columns)\n",
    "\n",
    "km_ff = KMeans(n_clusters = 2, \n",
    "               random_state = 1)\n",
    "km_ff.fit(model_ff)\n",
    "label_ff = km_ff.fit_predict(model_ff)\n",
    "\n",
    "print('Number of iterations:', km_ff.n_iter_)\n",
    "print('Number of features:', km_ff.n_features_in_)\n",
    "print('Number of clusters:', km_ff.n_clusters)\n",
    "print('Inertia:', km_ff.inertia_, '\\n')\n",
    "print(\"Predicted clusters to points: \", label_ff[:10], '\\n')\n",
    "#centroids = km_ff.cluster_centers_\n",
    "#print(\"Location of centroids: \")\n",
    "#print(centroids)"
   ]
  },
  {
   "cell_type": "markdown",
   "id": "83399927",
   "metadata": {},
   "source": [
    "### Cluster Labels - 4-Seam"
   ]
  },
  {
   "cell_type": "code",
   "execution_count": 5,
   "id": "3dafce24",
   "metadata": {},
   "outputs": [
    {
     "data": {
      "text/html": [
       "<div>\n",
       "<style scoped>\n",
       "    .dataframe tbody tr th:only-of-type {\n",
       "        vertical-align: middle;\n",
       "    }\n",
       "\n",
       "    .dataframe tbody tr th {\n",
       "        vertical-align: top;\n",
       "    }\n",
       "\n",
       "    .dataframe thead th {\n",
       "        text-align: right;\n",
       "    }\n",
       "</style>\n",
       "<table border=\"1\" class=\"dataframe\">\n",
       "  <thead>\n",
       "    <tr style=\"text-align: right;\">\n",
       "      <th>label</th>\n",
       "      <th>0</th>\n",
       "      <th>1</th>\n",
       "    </tr>\n",
       "  </thead>\n",
       "  <tbody>\n",
       "    <tr>\n",
       "      <th>pitch_type</th>\n",
       "      <td>1.000000</td>\n",
       "      <td>1.000000</td>\n",
       "    </tr>\n",
       "    <tr>\n",
       "      <th>pitch_usage</th>\n",
       "      <td>43.844382</td>\n",
       "      <td>49.488152</td>\n",
       "    </tr>\n",
       "    <tr>\n",
       "      <th>release_speed</th>\n",
       "      <td>93.211798</td>\n",
       "      <td>94.227488</td>\n",
       "    </tr>\n",
       "    <tr>\n",
       "      <th>spin_rate</th>\n",
       "      <td>2239.455056</td>\n",
       "      <td>2301.791469</td>\n",
       "    </tr>\n",
       "    <tr>\n",
       "      <th>movement_inches</th>\n",
       "      <td>17.359551</td>\n",
       "      <td>17.965877</td>\n",
       "    </tr>\n",
       "    <tr>\n",
       "      <th>spin_eff%</th>\n",
       "      <td>89.792135</td>\n",
       "      <td>89.867299</td>\n",
       "    </tr>\n",
       "    <tr>\n",
       "      <th>active_spin</th>\n",
       "      <td>0.897835</td>\n",
       "      <td>0.898870</td>\n",
       "    </tr>\n",
       "    <tr>\n",
       "      <th>run_value_per_100</th>\n",
       "      <td>0.912360</td>\n",
       "      <td>-0.713744</td>\n",
       "    </tr>\n",
       "    <tr>\n",
       "      <th>run_value</th>\n",
       "      <td>3.893258</td>\n",
       "      <td>-4.360190</td>\n",
       "    </tr>\n",
       "    <tr>\n",
       "      <th>pa</th>\n",
       "      <td>128.657303</td>\n",
       "      <td>148.772512</td>\n",
       "    </tr>\n",
       "    <tr>\n",
       "      <th>ba</th>\n",
       "      <td>0.299152</td>\n",
       "      <td>0.218232</td>\n",
       "    </tr>\n",
       "    <tr>\n",
       "      <th>slg</th>\n",
       "      <td>0.530287</td>\n",
       "      <td>0.381327</td>\n",
       "    </tr>\n",
       "    <tr>\n",
       "      <th>woba</th>\n",
       "      <td>0.400421</td>\n",
       "      <td>0.312645</td>\n",
       "    </tr>\n",
       "    <tr>\n",
       "      <th>whiff_percent</th>\n",
       "      <td>17.992135</td>\n",
       "      <td>25.090047</td>\n",
       "    </tr>\n",
       "    <tr>\n",
       "      <th>k_percent</th>\n",
       "      <td>16.339888</td>\n",
       "      <td>26.616588</td>\n",
       "    </tr>\n",
       "    <tr>\n",
       "      <th>put_away</th>\n",
       "      <td>15.608989</td>\n",
       "      <td>20.806635</td>\n",
       "    </tr>\n",
       "    <tr>\n",
       "      <th>est_ba</th>\n",
       "      <td>0.288522</td>\n",
       "      <td>0.220919</td>\n",
       "    </tr>\n",
       "    <tr>\n",
       "      <th>est_slg</th>\n",
       "      <td>0.523011</td>\n",
       "      <td>0.396270</td>\n",
       "    </tr>\n",
       "    <tr>\n",
       "      <th>est_woba</th>\n",
       "      <td>0.389112</td>\n",
       "      <td>0.315180</td>\n",
       "    </tr>\n",
       "    <tr>\n",
       "      <th>hard_hit_percent</th>\n",
       "      <td>46.771348</td>\n",
       "      <td>41.324645</td>\n",
       "    </tr>\n",
       "    <tr>\n",
       "      <th>pitch_hand_L</th>\n",
       "      <td>0.269663</td>\n",
       "      <td>0.293839</td>\n",
       "    </tr>\n",
       "    <tr>\n",
       "      <th>pitch_hand_R</th>\n",
       "      <td>0.730337</td>\n",
       "      <td>0.706161</td>\n",
       "    </tr>\n",
       "  </tbody>\n",
       "</table>\n",
       "</div>"
      ],
      "text/plain": [
       "label                        0            1\n",
       "pitch_type            1.000000     1.000000\n",
       "pitch_usage          43.844382    49.488152\n",
       "release_speed        93.211798    94.227488\n",
       "spin_rate          2239.455056  2301.791469\n",
       "movement_inches      17.359551    17.965877\n",
       "spin_eff%            89.792135    89.867299\n",
       "active_spin           0.897835     0.898870\n",
       "run_value_per_100     0.912360    -0.713744\n",
       "run_value             3.893258    -4.360190\n",
       "pa                  128.657303   148.772512\n",
       "ba                    0.299152     0.218232\n",
       "slg                   0.530287     0.381327\n",
       "woba                  0.400421     0.312645\n",
       "whiff_percent        17.992135    25.090047\n",
       "k_percent            16.339888    26.616588\n",
       "put_away             15.608989    20.806635\n",
       "est_ba                0.288522     0.220919\n",
       "est_slg               0.523011     0.396270\n",
       "est_woba              0.389112     0.315180\n",
       "hard_hit_percent     46.771348    41.324645\n",
       "pitch_hand_L          0.269663     0.293839\n",
       "pitch_hand_R          0.730337     0.706161"
      ]
     },
     "execution_count": 5,
     "metadata": {},
     "output_type": "execute_result"
    }
   ],
   "source": [
    "X_ff['label'] = label_ff\n",
    "model_ff['label'] = label_ff\n",
    "#model_ff.groupby(by = 'label').mean().T\n",
    "X_ff.groupby(by = 'label').mean().T"
   ]
  },
  {
   "cell_type": "markdown",
   "id": "809aaa04",
   "metadata": {},
   "source": [
    "## Slider"
   ]
  },
  {
   "cell_type": "code",
   "execution_count": 6,
   "id": "5acf61f0",
   "metadata": {},
   "outputs": [
    {
     "name": "stdout",
     "output_type": "stream",
     "text": [
      "Number of iterations: 8\n",
      "Number of features: 22\n",
      "Number of clusters: 2\n",
      "Inertia: 3997.1463372894314 \n",
      "\n",
      "Predicted clusters to points:  [1 0 1 0 0 1 1 0 1 1] \n",
      "\n"
     ]
    }
   ],
   "source": [
    "features_sl = sl.select_dtypes([np.number])\n",
    "X_sl = features_sl\n",
    "\n",
    "X_sl_scaled = ss.fit_transform(X_sl)\n",
    "X_sl_scaled[:,:] *= -1\n",
    "\n",
    "pca = PCA().fit(X_sl_scaled)\n",
    "principal_components_sl = pca.transform(X_sl_scaled)\n",
    "model_sl = pd.DataFrame(data = principal_components_sl, columns = X_sl.columns)\n",
    "\n",
    "km_sl = KMeans(n_clusters = 2, \n",
    "               random_state = 1)\n",
    "\n",
    "km_sl.fit(model_sl)\n",
    "label_sl = km_sl.fit_predict(model_sl)\n",
    "\n",
    "print('Number of iterations:', km_sl.n_iter_)\n",
    "print('Number of features:', km_sl.n_features_in_)\n",
    "print('Number of clusters:', km_sl.n_clusters)\n",
    "print('Inertia:', km_sl.inertia_, '\\n')\n",
    "print(\"Predicted clusters to points: \", label_sl[:10], '\\n')"
   ]
  },
  {
   "cell_type": "markdown",
   "id": "7d8eeaca",
   "metadata": {},
   "source": [
    "### Cluster Labels - Slider"
   ]
  },
  {
   "cell_type": "code",
   "execution_count": 7,
   "id": "f28eee91",
   "metadata": {},
   "outputs": [
    {
     "data": {
      "text/html": [
       "<div>\n",
       "<style scoped>\n",
       "    .dataframe tbody tr th:only-of-type {\n",
       "        vertical-align: middle;\n",
       "    }\n",
       "\n",
       "    .dataframe tbody tr th {\n",
       "        vertical-align: top;\n",
       "    }\n",
       "\n",
       "    .dataframe thead th {\n",
       "        text-align: right;\n",
       "    }\n",
       "</style>\n",
       "<table border=\"1\" class=\"dataframe\">\n",
       "  <thead>\n",
       "    <tr style=\"text-align: right;\">\n",
       "      <th>label</th>\n",
       "      <th>0</th>\n",
       "      <th>1</th>\n",
       "    </tr>\n",
       "  </thead>\n",
       "  <tbody>\n",
       "    <tr>\n",
       "      <th>pitch_type</th>\n",
       "      <td>2.000000</td>\n",
       "      <td>2.000000</td>\n",
       "    </tr>\n",
       "    <tr>\n",
       "      <th>pitch_usage</th>\n",
       "      <td>35.265625</td>\n",
       "      <td>28.982031</td>\n",
       "    </tr>\n",
       "    <tr>\n",
       "      <th>release_speed</th>\n",
       "      <td>84.846094</td>\n",
       "      <td>84.442969</td>\n",
       "    </tr>\n",
       "    <tr>\n",
       "      <th>spin_rate</th>\n",
       "      <td>2476.359375</td>\n",
       "      <td>2370.906250</td>\n",
       "    </tr>\n",
       "    <tr>\n",
       "      <th>movement_inches</th>\n",
       "      <td>9.587500</td>\n",
       "      <td>7.346875</td>\n",
       "    </tr>\n",
       "    <tr>\n",
       "      <th>spin_eff%</th>\n",
       "      <td>38.898438</td>\n",
       "      <td>34.218750</td>\n",
       "    </tr>\n",
       "    <tr>\n",
       "      <th>active_spin</th>\n",
       "      <td>0.389190</td>\n",
       "      <td>0.342528</td>\n",
       "    </tr>\n",
       "    <tr>\n",
       "      <th>run_value_per_100</th>\n",
       "      <td>-1.462500</td>\n",
       "      <td>0.589063</td>\n",
       "    </tr>\n",
       "    <tr>\n",
       "      <th>run_value</th>\n",
       "      <td>-5.851562</td>\n",
       "      <td>1.757812</td>\n",
       "    </tr>\n",
       "    <tr>\n",
       "      <th>pa</th>\n",
       "      <td>109.742188</td>\n",
       "      <td>104.945312</td>\n",
       "    </tr>\n",
       "    <tr>\n",
       "      <th>ba</th>\n",
       "      <td>0.163336</td>\n",
       "      <td>0.247000</td>\n",
       "    </tr>\n",
       "    <tr>\n",
       "      <th>slg</th>\n",
       "      <td>0.272937</td>\n",
       "      <td>0.437164</td>\n",
       "    </tr>\n",
       "    <tr>\n",
       "      <th>woba</th>\n",
       "      <td>0.228188</td>\n",
       "      <td>0.327172</td>\n",
       "    </tr>\n",
       "    <tr>\n",
       "      <th>whiff_percent</th>\n",
       "      <td>40.412500</td>\n",
       "      <td>31.575000</td>\n",
       "    </tr>\n",
       "    <tr>\n",
       "      <th>k_percent</th>\n",
       "      <td>38.332813</td>\n",
       "      <td>25.903906</td>\n",
       "    </tr>\n",
       "    <tr>\n",
       "      <th>put_away</th>\n",
       "      <td>26.488281</td>\n",
       "      <td>20.247656</td>\n",
       "    </tr>\n",
       "    <tr>\n",
       "      <th>est_ba</th>\n",
       "      <td>0.167633</td>\n",
       "      <td>0.236313</td>\n",
       "    </tr>\n",
       "    <tr>\n",
       "      <th>est_slg</th>\n",
       "      <td>0.270281</td>\n",
       "      <td>0.409117</td>\n",
       "    </tr>\n",
       "    <tr>\n",
       "      <th>est_woba</th>\n",
       "      <td>0.226219</td>\n",
       "      <td>0.307078</td>\n",
       "    </tr>\n",
       "    <tr>\n",
       "      <th>hard_hit_percent</th>\n",
       "      <td>28.446875</td>\n",
       "      <td>35.933594</td>\n",
       "    </tr>\n",
       "    <tr>\n",
       "      <th>pitch_hand_L</th>\n",
       "      <td>0.257812</td>\n",
       "      <td>0.273438</td>\n",
       "    </tr>\n",
       "    <tr>\n",
       "      <th>pitch_hand_R</th>\n",
       "      <td>0.742188</td>\n",
       "      <td>0.726562</td>\n",
       "    </tr>\n",
       "  </tbody>\n",
       "</table>\n",
       "</div>"
      ],
      "text/plain": [
       "label                        0            1\n",
       "pitch_type            2.000000     2.000000\n",
       "pitch_usage          35.265625    28.982031\n",
       "release_speed        84.846094    84.442969\n",
       "spin_rate          2476.359375  2370.906250\n",
       "movement_inches       9.587500     7.346875\n",
       "spin_eff%            38.898438    34.218750\n",
       "active_spin           0.389190     0.342528\n",
       "run_value_per_100    -1.462500     0.589063\n",
       "run_value            -5.851562     1.757812\n",
       "pa                  109.742188   104.945312\n",
       "ba                    0.163336     0.247000\n",
       "slg                   0.272937     0.437164\n",
       "woba                  0.228188     0.327172\n",
       "whiff_percent        40.412500    31.575000\n",
       "k_percent            38.332813    25.903906\n",
       "put_away             26.488281    20.247656\n",
       "est_ba                0.167633     0.236313\n",
       "est_slg               0.270281     0.409117\n",
       "est_woba              0.226219     0.307078\n",
       "hard_hit_percent     28.446875    35.933594\n",
       "pitch_hand_L          0.257812     0.273438\n",
       "pitch_hand_R          0.742188     0.726562"
      ]
     },
     "execution_count": 7,
     "metadata": {},
     "output_type": "execute_result"
    }
   ],
   "source": [
    "X_sl['label'] = label_sl\n",
    "model_sl['label'] = label_sl\n",
    "\n",
    "X_sl.groupby(by = 'label').mean().T"
   ]
  },
  {
   "cell_type": "markdown",
   "id": "3c72e08b",
   "metadata": {},
   "source": [
    "## Changeup"
   ]
  },
  {
   "cell_type": "code",
   "execution_count": 8,
   "id": "e579998c",
   "metadata": {},
   "outputs": [
    {
     "name": "stdout",
     "output_type": "stream",
     "text": [
      "Number of iterations: 3\n",
      "Number of features: 22\n",
      "Number of clusters: 2\n",
      "Inertia: 1992.513376580886 \n",
      "\n",
      "Predicted clusters to points:  [1 0 1 1 1 0 0 0 1 0] \n",
      "\n"
     ]
    }
   ],
   "source": [
    "features_ch = ch.select_dtypes([np.number])\n",
    "X_ch = features_ch\n",
    "\n",
    "X_ch_scaled = ss.fit_transform(X_ch)\n",
    "X_ch_scaled[:,:] *= -1\n",
    "\n",
    "pca = PCA().fit(X_ch_scaled)\n",
    "principal_components_ch = pca.transform(X_ch_scaled)\n",
    "model_ch = pd.DataFrame(data = principal_components_ch, columns = X_ch.columns)\n",
    "\n",
    "km_ch = KMeans(n_clusters = 2, \n",
    "               random_state = 1)\n",
    "\n",
    "km_ch.fit(model_ch)\n",
    "label_ch = km_ch.fit_predict(model_ch)\n",
    "\n",
    "print('Number of iterations:', km_ch.n_iter_)\n",
    "print('Number of features:', km_ch.n_features_in_)\n",
    "print('Number of clusters:', km_ch.n_clusters)\n",
    "print('Inertia:', km_ch.inertia_, '\\n')\n",
    "print(\"Predicted clusters to points: \", label_ch[:10], '\\n')"
   ]
  },
  {
   "cell_type": "markdown",
   "id": "f4ddb95c",
   "metadata": {},
   "source": [
    "### Cluster Labels - Changeup"
   ]
  },
  {
   "cell_type": "code",
   "execution_count": 9,
   "id": "decc0285",
   "metadata": {},
   "outputs": [
    {
     "data": {
      "text/html": [
       "<div>\n",
       "<style scoped>\n",
       "    .dataframe tbody tr th:only-of-type {\n",
       "        vertical-align: middle;\n",
       "    }\n",
       "\n",
       "    .dataframe tbody tr th {\n",
       "        vertical-align: top;\n",
       "    }\n",
       "\n",
       "    .dataframe thead th {\n",
       "        text-align: right;\n",
       "    }\n",
       "</style>\n",
       "<table border=\"1\" class=\"dataframe\">\n",
       "  <thead>\n",
       "    <tr style=\"text-align: right;\">\n",
       "      <th>label</th>\n",
       "      <th>0</th>\n",
       "      <th>1</th>\n",
       "    </tr>\n",
       "  </thead>\n",
       "  <tbody>\n",
       "    <tr>\n",
       "      <th>pitch_type</th>\n",
       "      <td>3.000000</td>\n",
       "      <td>3.000000</td>\n",
       "    </tr>\n",
       "    <tr>\n",
       "      <th>pitch_usage</th>\n",
       "      <td>27.473770</td>\n",
       "      <td>20.987302</td>\n",
       "    </tr>\n",
       "    <tr>\n",
       "      <th>release_speed</th>\n",
       "      <td>85.098361</td>\n",
       "      <td>84.225397</td>\n",
       "    </tr>\n",
       "    <tr>\n",
       "      <th>spin_rate</th>\n",
       "      <td>1803.524590</td>\n",
       "      <td>1704.476190</td>\n",
       "    </tr>\n",
       "    <tr>\n",
       "      <th>movement_inches</th>\n",
       "      <td>16.691803</td>\n",
       "      <td>15.800000</td>\n",
       "    </tr>\n",
       "    <tr>\n",
       "      <th>spin_eff%</th>\n",
       "      <td>90.836066</td>\n",
       "      <td>89.492063</td>\n",
       "    </tr>\n",
       "    <tr>\n",
       "      <th>active_spin</th>\n",
       "      <td>0.909538</td>\n",
       "      <td>0.895655</td>\n",
       "    </tr>\n",
       "    <tr>\n",
       "      <th>run_value_per_100</th>\n",
       "      <td>-1.052459</td>\n",
       "      <td>0.963492</td>\n",
       "    </tr>\n",
       "    <tr>\n",
       "      <th>run_value</th>\n",
       "      <td>-4.295082</td>\n",
       "      <td>3.444444</td>\n",
       "    </tr>\n",
       "    <tr>\n",
       "      <th>pa</th>\n",
       "      <td>119.688525</td>\n",
       "      <td>110.777778</td>\n",
       "    </tr>\n",
       "    <tr>\n",
       "      <th>ba</th>\n",
       "      <td>0.195492</td>\n",
       "      <td>0.268698</td>\n",
       "    </tr>\n",
       "    <tr>\n",
       "      <th>slg</th>\n",
       "      <td>0.310656</td>\n",
       "      <td>0.435571</td>\n",
       "    </tr>\n",
       "    <tr>\n",
       "      <th>woba</th>\n",
       "      <td>0.256197</td>\n",
       "      <td>0.336460</td>\n",
       "    </tr>\n",
       "    <tr>\n",
       "      <th>whiff_percent</th>\n",
       "      <td>33.583607</td>\n",
       "      <td>26.669841</td>\n",
       "    </tr>\n",
       "    <tr>\n",
       "      <th>k_percent</th>\n",
       "      <td>26.508197</td>\n",
       "      <td>17.063492</td>\n",
       "    </tr>\n",
       "    <tr>\n",
       "      <th>put_away</th>\n",
       "      <td>21.249180</td>\n",
       "      <td>16.092063</td>\n",
       "    </tr>\n",
       "    <tr>\n",
       "      <th>est_ba</th>\n",
       "      <td>0.208164</td>\n",
       "      <td>0.271079</td>\n",
       "    </tr>\n",
       "    <tr>\n",
       "      <th>est_slg</th>\n",
       "      <td>0.314754</td>\n",
       "      <td>0.434460</td>\n",
       "    </tr>\n",
       "    <tr>\n",
       "      <th>est_woba</th>\n",
       "      <td>0.256918</td>\n",
       "      <td>0.327984</td>\n",
       "    </tr>\n",
       "    <tr>\n",
       "      <th>hard_hit_percent</th>\n",
       "      <td>29.103279</td>\n",
       "      <td>36.152381</td>\n",
       "    </tr>\n",
       "    <tr>\n",
       "      <th>pitch_hand_L</th>\n",
       "      <td>0.377049</td>\n",
       "      <td>0.444444</td>\n",
       "    </tr>\n",
       "    <tr>\n",
       "      <th>pitch_hand_R</th>\n",
       "      <td>0.622951</td>\n",
       "      <td>0.555556</td>\n",
       "    </tr>\n",
       "  </tbody>\n",
       "</table>\n",
       "</div>"
      ],
      "text/plain": [
       "label                        0            1\n",
       "pitch_type            3.000000     3.000000\n",
       "pitch_usage          27.473770    20.987302\n",
       "release_speed        85.098361    84.225397\n",
       "spin_rate          1803.524590  1704.476190\n",
       "movement_inches      16.691803    15.800000\n",
       "spin_eff%            90.836066    89.492063\n",
       "active_spin           0.909538     0.895655\n",
       "run_value_per_100    -1.052459     0.963492\n",
       "run_value            -4.295082     3.444444\n",
       "pa                  119.688525   110.777778\n",
       "ba                    0.195492     0.268698\n",
       "slg                   0.310656     0.435571\n",
       "woba                  0.256197     0.336460\n",
       "whiff_percent        33.583607    26.669841\n",
       "k_percent            26.508197    17.063492\n",
       "put_away             21.249180    16.092063\n",
       "est_ba                0.208164     0.271079\n",
       "est_slg               0.314754     0.434460\n",
       "est_woba              0.256918     0.327984\n",
       "hard_hit_percent     29.103279    36.152381\n",
       "pitch_hand_L          0.377049     0.444444\n",
       "pitch_hand_R          0.622951     0.555556"
      ]
     },
     "execution_count": 9,
     "metadata": {},
     "output_type": "execute_result"
    }
   ],
   "source": [
    "X_ch['label'] = label_ch\n",
    "model_ch['label'] = label_ch\n",
    "\n",
    "X_ch.groupby(by = 'label').mean().T"
   ]
  },
  {
   "cell_type": "markdown",
   "id": "6b28b964",
   "metadata": {},
   "source": [
    "## Cutter"
   ]
  },
  {
   "cell_type": "code",
   "execution_count": 10,
   "id": "54758bb4",
   "metadata": {},
   "outputs": [
    {
     "name": "stdout",
     "output_type": "stream",
     "text": [
      "Number of iterations: 6\n",
      "Number of features: 22\n",
      "Number of clusters: 2\n",
      "Inertia: 1251.98592372935 \n",
      "\n",
      "Predicted clusters to points:  [1 0 1 0 1 0 1 1 0 1] \n",
      "\n"
     ]
    }
   ],
   "source": [
    "features_fc = fc.select_dtypes([np.number])\n",
    "X_fc = features_fc\n",
    "\n",
    "X_fc_scaled = ss.fit_transform(X_fc)\n",
    "X_fc_scaled[:,:] *= -1\n",
    "\n",
    "pca = PCA().fit(X_fc_scaled)\n",
    "principal_components_fc = pca.transform(X_fc_scaled)\n",
    "model_fc = pd.DataFrame(data = principal_components_fc, columns = X_fc.columns)\n",
    "\n",
    "km_fc = KMeans(n_clusters = 2, \n",
    "               random_state = 1)\n",
    "\n",
    "km_fc.fit(model_fc)\n",
    "label_fc = km_fc.fit_predict(model_fc)\n",
    "\n",
    "print('Number of iterations:', km_fc.n_iter_)\n",
    "print('Number of features:', km_fc.n_features_in_)\n",
    "print('Number of clusters:', km_fc.n_clusters)\n",
    "print('Inertia:', km_fc.inertia_, '\\n')\n",
    "print(\"Predicted clusters to points: \", label_fc[:10], '\\n')"
   ]
  },
  {
   "cell_type": "markdown",
   "id": "4cfb0b4c",
   "metadata": {},
   "source": [
    "### Cluster Labels - Cutter"
   ]
  },
  {
   "cell_type": "code",
   "execution_count": 11,
   "id": "9e862bd1",
   "metadata": {},
   "outputs": [
    {
     "data": {
      "text/html": [
       "<div>\n",
       "<style scoped>\n",
       "    .dataframe tbody tr th:only-of-type {\n",
       "        vertical-align: middle;\n",
       "    }\n",
       "\n",
       "    .dataframe tbody tr th {\n",
       "        vertical-align: top;\n",
       "    }\n",
       "\n",
       "    .dataframe thead th {\n",
       "        text-align: right;\n",
       "    }\n",
       "</style>\n",
       "<table border=\"1\" class=\"dataframe\">\n",
       "  <thead>\n",
       "    <tr style=\"text-align: right;\">\n",
       "      <th>label</th>\n",
       "      <th>0</th>\n",
       "      <th>1</th>\n",
       "    </tr>\n",
       "  </thead>\n",
       "  <tbody>\n",
       "    <tr>\n",
       "      <th>pitch_type</th>\n",
       "      <td>4.000000</td>\n",
       "      <td>4.000000</td>\n",
       "    </tr>\n",
       "    <tr>\n",
       "      <th>pitch_usage</th>\n",
       "      <td>27.987805</td>\n",
       "      <td>35.787179</td>\n",
       "    </tr>\n",
       "    <tr>\n",
       "      <th>release_speed</th>\n",
       "      <td>87.965854</td>\n",
       "      <td>88.907692</td>\n",
       "    </tr>\n",
       "    <tr>\n",
       "      <th>spin_rate</th>\n",
       "      <td>2291.390244</td>\n",
       "      <td>2447.769231</td>\n",
       "    </tr>\n",
       "    <tr>\n",
       "      <th>movement_inches</th>\n",
       "      <td>8.919512</td>\n",
       "      <td>8.100000</td>\n",
       "    </tr>\n",
       "    <tr>\n",
       "      <th>spin_eff%</th>\n",
       "      <td>51.682927</td>\n",
       "      <td>42.564103</td>\n",
       "    </tr>\n",
       "    <tr>\n",
       "      <th>active_spin</th>\n",
       "      <td>0.517060</td>\n",
       "      <td>0.426159</td>\n",
       "    </tr>\n",
       "    <tr>\n",
       "      <th>run_value_per_100</th>\n",
       "      <td>0.748780</td>\n",
       "      <td>-1.041026</td>\n",
       "    </tr>\n",
       "    <tr>\n",
       "      <th>run_value</th>\n",
       "      <td>2.951220</td>\n",
       "      <td>-5.000000</td>\n",
       "    </tr>\n",
       "    <tr>\n",
       "      <th>pa</th>\n",
       "      <td>125.146341</td>\n",
       "      <td>115.512821</td>\n",
       "    </tr>\n",
       "    <tr>\n",
       "      <th>ba</th>\n",
       "      <td>0.286707</td>\n",
       "      <td>0.219538</td>\n",
       "    </tr>\n",
       "    <tr>\n",
       "      <th>slg</th>\n",
       "      <td>0.502268</td>\n",
       "      <td>0.347795</td>\n",
       "    </tr>\n",
       "    <tr>\n",
       "      <th>woba</th>\n",
       "      <td>0.375415</td>\n",
       "      <td>0.289590</td>\n",
       "    </tr>\n",
       "    <tr>\n",
       "      <th>whiff_percent</th>\n",
       "      <td>20.673171</td>\n",
       "      <td>27.505128</td>\n",
       "    </tr>\n",
       "    <tr>\n",
       "      <th>k_percent</th>\n",
       "      <td>15.302439</td>\n",
       "      <td>23.238462</td>\n",
       "    </tr>\n",
       "    <tr>\n",
       "      <th>put_away</th>\n",
       "      <td>16.385366</td>\n",
       "      <td>21.335897</td>\n",
       "    </tr>\n",
       "    <tr>\n",
       "      <th>est_ba</th>\n",
       "      <td>0.280000</td>\n",
       "      <td>0.227795</td>\n",
       "    </tr>\n",
       "    <tr>\n",
       "      <th>est_slg</th>\n",
       "      <td>0.495756</td>\n",
       "      <td>0.357846</td>\n",
       "    </tr>\n",
       "    <tr>\n",
       "      <th>est_woba</th>\n",
       "      <td>0.361024</td>\n",
       "      <td>0.290744</td>\n",
       "    </tr>\n",
       "    <tr>\n",
       "      <th>hard_hit_percent</th>\n",
       "      <td>37.882927</td>\n",
       "      <td>33.464103</td>\n",
       "    </tr>\n",
       "    <tr>\n",
       "      <th>pitch_hand_L</th>\n",
       "      <td>0.463415</td>\n",
       "      <td>0.230769</td>\n",
       "    </tr>\n",
       "    <tr>\n",
       "      <th>pitch_hand_R</th>\n",
       "      <td>0.536585</td>\n",
       "      <td>0.769231</td>\n",
       "    </tr>\n",
       "  </tbody>\n",
       "</table>\n",
       "</div>"
      ],
      "text/plain": [
       "label                        0            1\n",
       "pitch_type            4.000000     4.000000\n",
       "pitch_usage          27.987805    35.787179\n",
       "release_speed        87.965854    88.907692\n",
       "spin_rate          2291.390244  2447.769231\n",
       "movement_inches       8.919512     8.100000\n",
       "spin_eff%            51.682927    42.564103\n",
       "active_spin           0.517060     0.426159\n",
       "run_value_per_100     0.748780    -1.041026\n",
       "run_value             2.951220    -5.000000\n",
       "pa                  125.146341   115.512821\n",
       "ba                    0.286707     0.219538\n",
       "slg                   0.502268     0.347795\n",
       "woba                  0.375415     0.289590\n",
       "whiff_percent        20.673171    27.505128\n",
       "k_percent            15.302439    23.238462\n",
       "put_away             16.385366    21.335897\n",
       "est_ba                0.280000     0.227795\n",
       "est_slg               0.495756     0.357846\n",
       "est_woba              0.361024     0.290744\n",
       "hard_hit_percent     37.882927    33.464103\n",
       "pitch_hand_L          0.463415     0.230769\n",
       "pitch_hand_R          0.536585     0.769231"
      ]
     },
     "execution_count": 11,
     "metadata": {},
     "output_type": "execute_result"
    }
   ],
   "source": [
    "X_fc['label'] = label_fc\n",
    "model_fc['label'] = label_fc\n",
    "\n",
    "X_fc.groupby(by = 'label').mean().T"
   ]
  },
  {
   "cell_type": "markdown",
   "id": "f946c450",
   "metadata": {},
   "source": [
    "# Modeling"
   ]
  },
  {
   "cell_type": "markdown",
   "id": "982b64ba",
   "metadata": {},
   "source": [
    "## Logistic Regression - 4-Seam"
   ]
  },
  {
   "cell_type": "markdown",
   "id": "0682f386",
   "metadata": {},
   "source": [
    "### Heatmaps of Features - 4-Seam"
   ]
  },
  {
   "cell_type": "code",
   "execution_count": 12,
   "id": "e807a527",
   "metadata": {},
   "outputs": [
    {
     "data": {
      "image/png": "[encoded data removed]",
      "text/plain": [
       "<Figure size 576x576 with 2 Axes>"
      ]
     },
     "metadata": {
      "needs_background": "light"
     },
     "output_type": "display_data"
    }
   ],
   "source": [
    "plt.figure(figsize = (8, 8))\n",
    "sns.heatmap(X_ff.corr()[['label']].sort_values(('label'), ascending = False), \n",
    "            annot = True, cmap = 'coolwarm', vmin = -1, vmax = 1, linewidths = 2)\n",
    "plt.title('Correlations to 4-seam Label', fontweight = 'bold', pad = 15);"
   ]
  },
  {
   "cell_type": "markdown",
   "id": "07803f35",
   "metadata": {},
   "source": [
    "Positively correlated with label\n",
    "\n",
    "Negatively correlated with lablel so the better the negatives the lower the run value / 100"
   ]
  },
  {
   "cell_type": "code",
   "execution_count": 13,
   "id": "13f501a7",
   "metadata": {},
   "outputs": [
    {
     "name": "stdout",
     "output_type": "stream",
     "text": [
      "Train score: 0.93\n",
      "Test score: 0.91\n",
      "Cross val score 0.9243\n"
     ]
    }
   ],
   "source": [
    "X = X_ff.drop(columns = ['label'])\n",
    "y = X_ff['label']\n",
    "\n",
    "X_train, X_test, y_train, y_test = train_test_split(X, y, random_state = 1)\n",
    "\n",
    "lr = LogisticRegression(random_state = 1)\n",
    "lr.fit(X_train, y_train)\n",
    "\n",
    "pred_ff = lr.predict(X_test)\n",
    "pred_probs_ff = lr.predict_proba(X_test)[:,1]\n",
    "\n",
    "print('Train score:', round(lr.score(X_train, y_train), 2))\n",
    "print('Test score:', round(lr.score(X_test, y_test), 2)) \n",
    "print('Cross val score', round(cross_val_score(lr, X_train, y_train).mean(), 4))"
   ]
  },
  {
   "cell_type": "code",
   "execution_count": 14,
   "id": "784beb67",
   "metadata": {},
   "outputs": [
    {
     "data": {
      "image/png": "[encoded data removed]",
      "text/plain": [
       "<Figure size 720x432 with 1 Axes>"
      ]
     },
     "metadata": {
      "needs_background": "light"
     },
     "output_type": "display_data"
    }
   ],
   "source": [
    "pred_ff_df = pd.DataFrame({'true_values': y_test, 'pred_probs': pred_probs_ff})\n",
    "labels = ('Poor 4-Seam', 'Good 4-Seam')\n",
    "plt.figure(figsize = (10, 6))\n",
    "for group in pred_ff_df.groupby('true_values'):\n",
    "    sns.distplot(group[1], kde = False, bins = 20)\n",
    "plt.xlabel('Predicted Probability of 4-Seam to Label')\n",
    "plt.legend(labels)\n",
    "plt.title('Distributions of Predicted Probabilities by Actual Values', fontweight = 'bold', pad = 15);"
   ]
  },
  {
   "cell_type": "code",
   "execution_count": 15,
   "id": "4fce2a23",
   "metadata": {},
   "outputs": [
    {
     "data": {
      "image/png": "[encoded data removed]",
      "text/plain": [
       "<Figure size 576x432 with 1 Axes>"
      ]
     },
     "metadata": {
      "needs_background": "light"
     },
     "output_type": "display_data"
    }
   ],
   "source": [
    "plt.figure(figsize = (8, 6))\n",
    "sns.regplot(x = X_ff['run_value_per_100'], y = X_ff['label'], data = X_ff, logistic = True, ci = None,\n",
    "            scatter_kws = {'color': 'black'}, line_kws = {'color': 'red'})\n",
    "plt.title('Predicting RV / 100 from 4-Seam Cluster Label', fontweight = 'bold', fontsize = 15, pad = 15);"
   ]
  },
  {
   "cell_type": "markdown",
   "id": "9ccade27",
   "metadata": {},
   "source": [
    "## Logistic Regression - Slider"
   ]
  },
  {
   "cell_type": "markdown",
   "id": "99a0ad84",
   "metadata": {},
   "source": [
    "### Heatmap of Features - Slider"
   ]
  },
  {
   "cell_type": "code",
   "execution_count": 16,
   "id": "818a2c8a",
   "metadata": {},
   "outputs": [
    {
     "data": {
      "image/png": "[encoded data removed]",
      "text/plain": [
       "<Figure size 576x576 with 2 Axes>"
      ]
     },
     "metadata": {
      "needs_background": "light"
     },
     "output_type": "display_data"
    }
   ],
   "source": [
    "plt.figure(figsize = (8, 8))\n",
    "sns.heatmap(X_sl.corr()[['label']].sort_values(('label'), ascending = False), \n",
    "            annot = True, cmap = 'coolwarm', vmin = -1, vmax = 1, linewidths = 2)\n",
    "plt.title('Correlations to Slider Label', fontweight = 'bold', pad = 15);"
   ]
  },
  {
   "cell_type": "code",
   "execution_count": 17,
   "id": "0efb2246",
   "metadata": {},
   "outputs": [
    {
     "name": "stdout",
     "output_type": "stream",
     "text": [
      "Train score: 0.93\n",
      "Test score: 0.92\n",
      "Cross val score 0.9113\n"
     ]
    }
   ],
   "source": [
    "X = X_sl.drop(columns = ['label'])\n",
    "y = X_sl['label']\n",
    "\n",
    "X_train, X_test, y_train, y_test = train_test_split(X, y, random_state = 1)\n",
    "\n",
    "lr = LogisticRegression(random_state = 1)\n",
    "lr.fit(X_train, y_train)\n",
    "\n",
    "pred_sl = lr.predict(X_test)\n",
    "pred_probs_sl = lr.predict_proba(X_test)[:,1]\n",
    "\n",
    "print('Train score:', round(lr.score(X_train, y_train), 2))\n",
    "print('Test score:', round(lr.score(X_test, y_test), 2)) \n",
    "print('Cross val score', round(cross_val_score(lr, X_train, y_train).mean(), 4))"
   ]
  },
  {
   "cell_type": "code",
   "execution_count": 18,
   "id": "e0688067",
   "metadata": {},
   "outputs": [
    {
     "data": {
      "image/png": "[encoded data removed]",
      "text/plain": [
       "<Figure size 720x432 with 1 Axes>"
      ]
     },
     "metadata": {
      "needs_background": "light"
     },
     "output_type": "display_data"
    }
   ],
   "source": [
    "pred_sl_df = pd.DataFrame({'true_values': y_test, 'pred_probs': pred_probs_sl})\n",
    "labels = ('Good Slider', 'Poor Slider')\n",
    "plt.figure(figsize = (10, 6))\n",
    "for group in pred_sl_df.groupby('true_values'):\n",
    "    sns.distplot(group[1], kde = False, bins = 20)\n",
    "plt.xlabel('Predicted Probability of Slider to Label')\n",
    "plt.legend(labels)\n",
    "plt.title('Distributions of Predicted Probabilities by Actual Values', fontweight = 'bold', pad = 15);"
   ]
  },
  {
   "cell_type": "code",
   "execution_count": 19,
   "id": "9b5a3362",
   "metadata": {},
   "outputs": [
    {
     "data": {
      "image/png": "[encoded data removed]",
      "text/plain": [
       "<Figure size 576x432 with 1 Axes>"
      ]
     },
     "metadata": {
      "needs_background": "light"
     },
     "output_type": "display_data"
    }
   ],
   "source": [
    "plt.figure(figsize = (8, 6))\n",
    "sns.regplot(x = X_sl['run_value_per_100'], y = X_sl['label'], data = X_sl, logistic = True, ci = None,\n",
    "            scatter_kws = {'color': 'black'}, line_kws = {'color': 'red'})\n",
    "plt.title('Predicting RV / 100 from Slider Cluster Label', fontweight = 'bold', fontsize = 15, pad = 15);"
   ]
  },
  {
   "cell_type": "markdown",
   "id": "3938f75e",
   "metadata": {},
   "source": [
    "## Logistic Regression - Changeup"
   ]
  },
  {
   "cell_type": "markdown",
   "id": "431a5042",
   "metadata": {},
   "source": [
    "### Heatmap of Features - Changeup"
   ]
  },
  {
   "cell_type": "code",
   "execution_count": 20,
   "id": "7f65cf63",
   "metadata": {},
   "outputs": [
    {
     "data": {
      "image/png": "[encoded data removed]",
      "text/plain": [
       "<Figure size 576x576 with 2 Axes>"
      ]
     },
     "metadata": {
      "needs_background": "light"
     },
     "output_type": "display_data"
    }
   ],
   "source": [
    "plt.figure(figsize = (8, 8))\n",
    "sns.heatmap(X_ch.corr()[['label']].sort_values(('label'), ascending = False), \n",
    "            annot = True, cmap = 'coolwarm', vmin = -1, vmax = 1, linewidths = 2)\n",
    "plt.title('Correlations to Changeup Label', fontweight = 'bold', pad = 15);"
   ]
  },
  {
   "cell_type": "code",
   "execution_count": 21,
   "id": "ba70b584",
   "metadata": {},
   "outputs": [
    {
     "name": "stdout",
     "output_type": "stream",
     "text": [
      "Train score: 0.96\n",
      "Test score: 0.9\n",
      "Cross val score 0.8813\n"
     ]
    }
   ],
   "source": [
    "X = X_ch.drop(columns = ['label'])\n",
    "y = X_ch['label']\n",
    "\n",
    "X_train, X_test, y_train, y_test = train_test_split(X, y, random_state = 1)\n",
    "\n",
    "lr = LogisticRegression(random_state = 1)\n",
    "lr.fit(X_train, y_train)\n",
    "\n",
    "pred_ch = lr.predict(X_test)\n",
    "pred_probs_ch = lr.predict_proba(X_test)[:,1]\n",
    "\n",
    "print('Train score:', round(lr.score(X_train, y_train), 2))\n",
    "print('Test score:', round(lr.score(X_test, y_test), 2)) \n",
    "print('Cross val score', round(cross_val_score(lr, X_train, y_train).mean(), 4))"
   ]
  },
  {
   "cell_type": "code",
   "execution_count": 22,
   "id": "b5a3930f",
   "metadata": {},
   "outputs": [
    {
     "data": {
      "image/png": "[encoded data removed]",
      "text/plain": [
       "<Figure size 720x432 with 1 Axes>"
      ]
     },
     "metadata": {
      "needs_background": "light"
     },
     "output_type": "display_data"
    }
   ],
   "source": [
    "pred_ch_df = pd.DataFrame({'true_values': y_test, 'pred_probs': pred_probs_ch})\n",
    "labels = ('Good Changeup', 'Poor Changeup')\n",
    "plt.figure(figsize = (10, 6))\n",
    "for group in pred_ch_df.groupby('true_values'):\n",
    "    sns.distplot(group[1], kde = False, bins = 20)\n",
    "plt.xlabel('Predicted Probability of Changeup to Label');\n",
    "plt.legend(labels)\n",
    "plt.title('Distributions of Predicted Probabilities by Actual Values', fontweight = 'bold', pad = 15);"
   ]
  },
  {
   "cell_type": "code",
   "execution_count": 23,
   "id": "e2c36d7f",
   "metadata": {},
   "outputs": [
    {
     "data": {
      "image/png": "[encoded data removed]",
      "text/plain": [
       "<Figure size 576x432 with 1 Axes>"
      ]
     },
     "metadata": {
      "needs_background": "light"
     },
     "output_type": "display_data"
    }
   ],
   "source": [
    "plt.figure(figsize = (8, 6))\n",
    "sns.regplot(x = X_ch['run_value_per_100'], y = X_ch['label'], data = X_ch, logistic = True, ci = None,\n",
    "            scatter_kws = {'color': 'black'}, line_kws = {'color': 'red'})\n",
    "plt.title('Predicting RV / 100 from Changeup Cluster Label', fontweight = 'bold', fontsize = 15, pad = 15);"
   ]
  },
  {
   "cell_type": "markdown",
   "id": "f57a8c80",
   "metadata": {},
   "source": [
    "## Logistic Regression - Cutter"
   ]
  },
  {
   "cell_type": "markdown",
   "id": "3d5caf1e",
   "metadata": {},
   "source": [
    "### Heatmap of Features - Cutter"
   ]
  },
  {
   "cell_type": "code",
   "execution_count": 24,
   "id": "5e8df4af",
   "metadata": {},
   "outputs": [
    {
     "data": {
      "image/png": "[encoded data removed]",
      "text/plain": [
       "<Figure size 576x576 with 2 Axes>"
      ]
     },
     "metadata": {
      "needs_background": "light"
     },
     "output_type": "display_data"
    }
   ],
   "source": [
    "plt.figure(figsize = (8, 8))\n",
    "sns.heatmap(X_fc.corr()[['label']].sort_values(('label'), ascending = False), \n",
    "            annot = True, cmap = 'coolwarm', vmin = -1, vmax = 1, linewidths = 2)\n",
    "plt.title('Correlations to Cutter Label', fontweight = 'bold', pad = 15);"
   ]
  },
  {
   "cell_type": "code",
   "execution_count": 25,
   "id": "81b189cc",
   "metadata": {},
   "outputs": [
    {
     "name": "stdout",
     "output_type": "stream",
     "text": [
      "Train score: 1.0\n",
      "Test score: 0.7\n",
      "Cross val score 0.8833\n"
     ]
    }
   ],
   "source": [
    "X = X_fc.drop(columns = ['label'])\n",
    "y = X_fc['label']\n",
    "\n",
    "X_train, X_test, y_train, y_test = train_test_split(X, y, random_state = 1)\n",
    "\n",
    "lr = LogisticRegression(random_state = 1)\n",
    "lr.fit(X_train, y_train)\n",
    "\n",
    "pred_fc = lr.predict(X_test)\n",
    "pred_probs_fc = lr.predict_proba(X_test)[:,1]\n",
    "\n",
    "print('Train score:', round(lr.score(X_train, y_train), 2))\n",
    "print('Test score:', round(lr.score(X_test, y_test), 2)) \n",
    "print('Cross val score', round(cross_val_score(lr, X_train, y_train).mean(), 4))"
   ]
  },
  {
   "cell_type": "code",
   "execution_count": 26,
   "id": "293da155",
   "metadata": {},
   "outputs": [
    {
     "data": {
      "image/png": "[encoded data removed]",
      "text/plain": [
       "<Figure size 720x432 with 1 Axes>"
      ]
     },
     "metadata": {
      "needs_background": "light"
     },
     "output_type": "display_data"
    }
   ],
   "source": [
    "pred_fc_df = pd.DataFrame({'true_values': y_test, 'pred_probs': pred_probs_fc})\n",
    "labels = ('Poor Cutter', 'Good Cutter')\n",
    "plt.figure(figsize = (10, 6))\n",
    "for group in pred_fc_df.groupby('true_values'):\n",
    "    sns.distplot(group[1], kde = False, bins = 20)\n",
    "plt.xlabel('Predicted Probability of Cutter to Label')\n",
    "plt.legend(labels)\n",
    "plt.title('Distributions of Predicted Probabilities by Actual Values', fontweight = 'bold', pad = 15);"
   ]
  },
  {
   "cell_type": "code",
   "execution_count": 27,
   "id": "31b98f99",
   "metadata": {},
   "outputs": [
    {
     "data": {
      "image/png": "[encoded data removed]",
      "text/plain": [
       "<Figure size 576x432 with 1 Axes>"
      ]
     },
     "metadata": {
      "needs_background": "light"
     },
     "output_type": "display_data"
    }
   ],
   "source": [
    "plt.figure(figsize = (8, 6))\n",
    "sns.regplot(x = X_fc['run_value_per_100'], y = X_fc['label'], data = X_fc, logistic = True, ci = None,\n",
    "            scatter_kws = {'color': 'black'}, line_kws = {'color': 'red'})\n",
    "plt.title('Predicting RV / 100 from Cutter Cluster Label', fontweight = 'bold', fontsize = 15, pad = 15);"
   ]
  }
 ],
 "metadata": {
  "kernelspec": {
   "display_name": "Python 3",
   "language": "python",
   "name": "python3"
  },
  "language_info": {
   "codemirror_mode": {
    "name": "ipython",
    "version": 3
   },
   "file_extension": ".py",
   "mimetype": "text/x-python",
   "name": "python",
   "nbconvert_exporter": "python",
   "pygments_lexer": "ipython3",
   "version": "3.8.8"
  }
 },
 "nbformat": 4,
 "nbformat_minor": 5
}
