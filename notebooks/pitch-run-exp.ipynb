{
 "cells": [
  {
   "cell_type": "markdown",
   "id": "426268f7",
   "metadata": {},
   "source": [
    "# Notebook Contents\n",
    "\n",
    "- [Imports](#Imports)\n",
    "- [Data](#Data)\n",
    "- [Preprocessing](#Preprocessing)\n",
    "    - [Multicolinearity - VIF](#Multicolinearity---VIF)\n",
    "- [Clustering](#Clustering)\n",
    "    - [4-Seam Fastball](#4-Seam-Fastball)\n",
    "        - [4-Seam Cluster Label](#Cluster-Labels---4-Seam)\n",
    "    - [Slider](#Slider)\n",
    "        - [Slider Cluster Label](#Cluster-Labels---Slider)\n",
    "    - [Changeup](#Changeup)\n",
    "        - [Changeup Cluster Label](#Cluster-Labels---Changeup)\n",
    "    - [Cutter](#Cutter)\n",
    "        - [Cutter Cluster Label](#Cluster-Labels---Cutter)"
   ]
  },
  {
   "cell_type": "markdown",
   "id": "9a8c2c47",
   "metadata": {},
   "source": [
    "# Imports"
   ]
  },
  {
   "cell_type": "code",
   "execution_count": 1,
   "id": "3b41894e",
   "metadata": {},
   "outputs": [],
   "source": [
    "from statsmodels.stats.outliers_influence import variance_inflation_factor\n",
    "from sklearn.preprocessing import StandardScaler\n",
    "from sklearn.decomposition import PCA\n",
    "from sklearn.cluster import KMeans, k_means\n",
    "import statsmodels.api as sm\n",
    "from sklearn.linear_model import LinearRegression\n",
    "from sklearn.metrics import silhouette_score, silhouette_samples\n",
    "from sklearn.feature_selection import SelectKBest\n",
    "from sklearn import metrics\n",
    "from sklearn.model_selection import train_test_split, cross_val_score\n",
    "\n",
    "import warnings\n",
    "warnings.filterwarnings('ignore')"
   ]
  },
  {
   "cell_type": "markdown",
   "id": "7a31fda9",
   "metadata": {},
   "source": [
    "# Data"
   ]
  },
  {
   "cell_type": "code",
   "execution_count": 2,
   "id": "40799b48",
   "metadata": {},
   "outputs": [
    {
     "name": "stdout",
     "output_type": "stream",
     "text": [
      "(680887, 24)\n"
     ]
    },
    {
     "data": {
      "text/html": [
       "<div>\n",
       "<style scoped>\n",
       "    .dataframe tbody tr th:only-of-type {\n",
       "        vertical-align: middle;\n",
       "    }\n",
       "\n",
       "    .dataframe tbody tr th {\n",
       "        vertical-align: top;\n",
       "    }\n",
       "\n",
       "    .dataframe thead th {\n",
       "        text-align: right;\n",
       "    }\n",
       "</style>\n",
       "<table border=\"1\" class=\"dataframe\">\n",
       "  <thead>\n",
       "    <tr style=\"text-align: right;\">\n",
       "      <th></th>\n",
       "      <th>pitch_type</th>\n",
       "      <th>velo</th>\n",
       "      <th>spin_rate</th>\n",
       "      <th>spin_axis</th>\n",
       "      <th>pfx_-x</th>\n",
       "      <th>pfx_z</th>\n",
       "      <th>bauer_units</th>\n",
       "      <th>effective_speed</th>\n",
       "      <th>release_pos_x</th>\n",
       "      <th>release_pos_z</th>\n",
       "      <th>release_extension</th>\n",
       "      <th>release_pos_y</th>\n",
       "      <th>swing_miss</th>\n",
       "      <th>delta_run_exp</th>\n",
       "      <th>hit_distance_sc</th>\n",
       "      <th>exit_velo</th>\n",
       "      <th>launch_angle</th>\n",
       "      <th>launch_speed_angle</th>\n",
       "      <th>estimated_ba_using_speedangle</th>\n",
       "      <th>estimated_woba_using_speedangle</th>\n",
       "      <th>woba_value</th>\n",
       "      <th>woba_denom</th>\n",
       "      <th>babip_value</th>\n",
       "      <th>iso_value</th>\n",
       "    </tr>\n",
       "  </thead>\n",
       "  <tbody>\n",
       "    <tr>\n",
       "      <th>0</th>\n",
       "      <td>FF</td>\n",
       "      <td>92.3</td>\n",
       "      <td>2330.0</td>\n",
       "      <td>148.0</td>\n",
       "      <td>-8.28</td>\n",
       "      <td>16.56</td>\n",
       "      <td>25.243770</td>\n",
       "      <td>92.8</td>\n",
       "      <td>1.40</td>\n",
       "      <td>6.80</td>\n",
       "      <td>6.5</td>\n",
       "      <td>54.03</td>\n",
       "      <td>0</td>\n",
       "      <td>-0.073</td>\n",
       "      <td>13.0</td>\n",
       "      <td>95.2</td>\n",
       "      <td>-13.0</td>\n",
       "      <td>2.0</td>\n",
       "      <td>0.174</td>\n",
       "      <td>0.158</td>\n",
       "      <td>0.0</td>\n",
       "      <td>1.0</td>\n",
       "      <td>0.0</td>\n",
       "      <td>0.0</td>\n",
       "    </tr>\n",
       "    <tr>\n",
       "      <th>1</th>\n",
       "      <td>SL</td>\n",
       "      <td>80.6</td>\n",
       "      <td>2254.0</td>\n",
       "      <td>315.0</td>\n",
       "      <td>9.24</td>\n",
       "      <td>5.76</td>\n",
       "      <td>27.965261</td>\n",
       "      <td>81.2</td>\n",
       "      <td>1.60</td>\n",
       "      <td>6.64</td>\n",
       "      <td>6.4</td>\n",
       "      <td>54.15</td>\n",
       "      <td>0</td>\n",
       "      <td>-0.027</td>\n",
       "      <td>108.0</td>\n",
       "      <td>75.3</td>\n",
       "      <td>75.0</td>\n",
       "      <td>0.0</td>\n",
       "      <td>0.000</td>\n",
       "      <td>0.000</td>\n",
       "      <td>0.0</td>\n",
       "      <td>0.0</td>\n",
       "      <td>0.0</td>\n",
       "      <td>0.0</td>\n",
       "    </tr>\n",
       "    <tr>\n",
       "      <th>2</th>\n",
       "      <td>CU</td>\n",
       "      <td>75.5</td>\n",
       "      <td>1940.0</td>\n",
       "      <td>328.0</td>\n",
       "      <td>7.80</td>\n",
       "      <td>-6.12</td>\n",
       "      <td>25.695364</td>\n",
       "      <td>75.2</td>\n",
       "      <td>1.46</td>\n",
       "      <td>6.88</td>\n",
       "      <td>6.2</td>\n",
       "      <td>54.34</td>\n",
       "      <td>0</td>\n",
       "      <td>-0.020</td>\n",
       "      <td>157.0</td>\n",
       "      <td>83.5</td>\n",
       "      <td>65.0</td>\n",
       "      <td>0.0</td>\n",
       "      <td>0.000</td>\n",
       "      <td>0.000</td>\n",
       "      <td>0.0</td>\n",
       "      <td>0.0</td>\n",
       "      <td>0.0</td>\n",
       "      <td>0.0</td>\n",
       "    </tr>\n",
       "    <tr>\n",
       "      <th>3</th>\n",
       "      <td>CU</td>\n",
       "      <td>75.0</td>\n",
       "      <td>2017.0</td>\n",
       "      <td>330.0</td>\n",
       "      <td>8.28</td>\n",
       "      <td>-8.28</td>\n",
       "      <td>26.893333</td>\n",
       "      <td>74.5</td>\n",
       "      <td>1.53</td>\n",
       "      <td>6.83</td>\n",
       "      <td>5.9</td>\n",
       "      <td>54.61</td>\n",
       "      <td>0</td>\n",
       "      <td>0.016</td>\n",
       "      <td>0.0</td>\n",
       "      <td>0.0</td>\n",
       "      <td>0.0</td>\n",
       "      <td>0.0</td>\n",
       "      <td>0.000</td>\n",
       "      <td>0.000</td>\n",
       "      <td>0.0</td>\n",
       "      <td>0.0</td>\n",
       "      <td>0.0</td>\n",
       "      <td>0.0</td>\n",
       "    </tr>\n",
       "    <tr>\n",
       "      <th>4</th>\n",
       "      <td>FF</td>\n",
       "      <td>91.2</td>\n",
       "      <td>2281.0</td>\n",
       "      <td>143.0</td>\n",
       "      <td>-7.56</td>\n",
       "      <td>15.36</td>\n",
       "      <td>25.010965</td>\n",
       "      <td>90.9</td>\n",
       "      <td>1.49</td>\n",
       "      <td>6.66</td>\n",
       "      <td>6.3</td>\n",
       "      <td>54.15</td>\n",
       "      <td>0</td>\n",
       "      <td>-0.189</td>\n",
       "      <td>9.0</td>\n",
       "      <td>93.3</td>\n",
       "      <td>-18.0</td>\n",
       "      <td>2.0</td>\n",
       "      <td>0.100</td>\n",
       "      <td>0.090</td>\n",
       "      <td>0.0</td>\n",
       "      <td>1.0</td>\n",
       "      <td>0.0</td>\n",
       "      <td>0.0</td>\n",
       "    </tr>\n",
       "  </tbody>\n",
       "</table>\n",
       "</div>"
      ],
      "text/plain": [
       "  pitch_type  velo  spin_rate  spin_axis  pfx_-x  pfx_z  bauer_units  \\\n",
       "0         FF  92.3     2330.0      148.0   -8.28  16.56    25.243770   \n",
       "1         SL  80.6     2254.0      315.0    9.24   5.76    27.965261   \n",
       "2         CU  75.5     1940.0      328.0    7.80  -6.12    25.695364   \n",
       "3         CU  75.0     2017.0      330.0    8.28  -8.28    26.893333   \n",
       "4         FF  91.2     2281.0      143.0   -7.56  15.36    25.010965   \n",
       "\n",
       "   effective_speed  release_pos_x  release_pos_z  release_extension  \\\n",
       "0             92.8           1.40           6.80                6.5   \n",
       "1             81.2           1.60           6.64                6.4   \n",
       "2             75.2           1.46           6.88                6.2   \n",
       "3             74.5           1.53           6.83                5.9   \n",
       "4             90.9           1.49           6.66                6.3   \n",
       "\n",
       "   release_pos_y  swing_miss  delta_run_exp  hit_distance_sc  exit_velo  \\\n",
       "0          54.03           0         -0.073             13.0       95.2   \n",
       "1          54.15           0         -0.027            108.0       75.3   \n",
       "2          54.34           0         -0.020            157.0       83.5   \n",
       "3          54.61           0          0.016              0.0        0.0   \n",
       "4          54.15           0         -0.189              9.0       93.3   \n",
       "\n",
       "   launch_angle  launch_speed_angle  estimated_ba_using_speedangle  \\\n",
       "0         -13.0                 2.0                          0.174   \n",
       "1          75.0                 0.0                          0.000   \n",
       "2          65.0                 0.0                          0.000   \n",
       "3           0.0                 0.0                          0.000   \n",
       "4         -18.0                 2.0                          0.100   \n",
       "\n",
       "   estimated_woba_using_speedangle  woba_value  woba_denom  babip_value  \\\n",
       "0                            0.158         0.0         1.0          0.0   \n",
       "1                            0.000         0.0         0.0          0.0   \n",
       "2                            0.000         0.0         0.0          0.0   \n",
       "3                            0.000         0.0         0.0          0.0   \n",
       "4                            0.090         0.0         1.0          0.0   \n",
       "\n",
       "   iso_value  \n",
       "0        0.0  \n",
       "1        0.0  \n",
       "2        0.0  \n",
       "3        0.0  \n",
       "4        0.0  "
      ]
     },
     "execution_count": 2,
     "metadata": {},
     "output_type": "execute_result"
    }
   ],
   "source": [
    "data = pd.read_csv('../data/model-pitches.csv')\n",
    "data.drop(columns = ['Unnamed: 0'], inplace = True) \n",
    "data.dropna(inplace = True)\n",
    "\n",
    "pd.set_option('max_columns', None)\n",
    "print(data.shape)\n",
    "data.head(5)"
   ]
  },
  {
   "cell_type": "markdown",
   "id": "6de88ec9",
   "metadata": {},
   "source": [
    "Pitch Types:\n",
    "\n",
    "4-Seam, Cutter, Sinker, Slider, Curveball, Changeup"
   ]
  },
  {
   "cell_type": "markdown",
   "id": "8674541e",
   "metadata": {},
   "source": [
    "# Preprocessing"
   ]
  },
  {
   "cell_type": "markdown",
   "id": "4682dbc5",
   "metadata": {},
   "source": [
    "### Multicolinearity - VIF"
   ]
  },
  {
   "cell_type": "code",
   "execution_count": 3,
   "id": "62e20f9a",
   "metadata": {},
   "outputs": [
    {
     "data": {
      "text/html": [
       "<div>\n",
       "<style scoped>\n",
       "    .dataframe tbody tr th:only-of-type {\n",
       "        vertical-align: middle;\n",
       "    }\n",
       "\n",
       "    .dataframe tbody tr th {\n",
       "        vertical-align: top;\n",
       "    }\n",
       "\n",
       "    .dataframe thead th {\n",
       "        text-align: right;\n",
       "    }\n",
       "</style>\n",
       "<table border=\"1\" class=\"dataframe\">\n",
       "  <thead>\n",
       "    <tr style=\"text-align: right;\">\n",
       "      <th></th>\n",
       "      <th>feature</th>\n",
       "      <th>VIF</th>\n",
       "    </tr>\n",
       "  </thead>\n",
       "  <tbody>\n",
       "    <tr>\n",
       "      <th>11</th>\n",
       "      <td>swing_miss</td>\n",
       "      <td>1.435700</td>\n",
       "    </tr>\n",
       "    <tr>\n",
       "      <th>7</th>\n",
       "      <td>release_pos_x</td>\n",
       "      <td>1.685610</td>\n",
       "    </tr>\n",
       "    <tr>\n",
       "      <th>15</th>\n",
       "      <td>launch_angle</td>\n",
       "      <td>2.508363</td>\n",
       "    </tr>\n",
       "    <tr>\n",
       "      <th>3</th>\n",
       "      <td>pfx_-x</td>\n",
       "      <td>3.341261</td>\n",
       "    </tr>\n",
       "    <tr>\n",
       "      <th>12</th>\n",
       "      <td>delta_run_exp</td>\n",
       "      <td>3.934273</td>\n",
       "    </tr>\n",
       "    <tr>\n",
       "      <th>4</th>\n",
       "      <td>pfx_z</td>\n",
       "      <td>5.052088</td>\n",
       "    </tr>\n",
       "    <tr>\n",
       "      <th>21</th>\n",
       "      <td>babip_value</td>\n",
       "      <td>5.172847</td>\n",
       "    </tr>\n",
       "    <tr>\n",
       "      <th>14</th>\n",
       "      <td>exit_velo</td>\n",
       "      <td>5.176083</td>\n",
       "    </tr>\n",
       "    <tr>\n",
       "      <th>20</th>\n",
       "      <td>woba_denom</td>\n",
       "      <td>5.194216</td>\n",
       "    </tr>\n",
       "    <tr>\n",
       "      <th>22</th>\n",
       "      <td>iso_value</td>\n",
       "      <td>5.934894</td>\n",
       "    </tr>\n",
       "    <tr>\n",
       "      <th>13</th>\n",
       "      <td>hit_distance_sc</td>\n",
       "      <td>7.019825</td>\n",
       "    </tr>\n",
       "    <tr>\n",
       "      <th>16</th>\n",
       "      <td>launch_speed_angle</td>\n",
       "      <td>9.787129</td>\n",
       "    </tr>\n",
       "    <tr>\n",
       "      <th>19</th>\n",
       "      <td>woba_value</td>\n",
       "      <td>12.117213</td>\n",
       "    </tr>\n",
       "    <tr>\n",
       "      <th>2</th>\n",
       "      <td>spin_axis</td>\n",
       "      <td>21.271194</td>\n",
       "    </tr>\n",
       "    <tr>\n",
       "      <th>17</th>\n",
       "      <td>estimated_ba_using_speedangle</td>\n",
       "      <td>25.456988</td>\n",
       "    </tr>\n",
       "    <tr>\n",
       "      <th>18</th>\n",
       "      <td>estimated_woba_using_speedangle</td>\n",
       "      <td>27.483520</td>\n",
       "    </tr>\n",
       "    <tr>\n",
       "      <th>8</th>\n",
       "      <td>release_pos_z</td>\n",
       "      <td>132.269900</td>\n",
       "    </tr>\n",
       "    <tr>\n",
       "      <th>9</th>\n",
       "      <td>release_extension</td>\n",
       "      <td>909.171842</td>\n",
       "    </tr>\n",
       "    <tr>\n",
       "      <th>10</th>\n",
       "      <td>release_pos_y</td>\n",
       "      <td>7454.238277</td>\n",
       "    </tr>\n",
       "    <tr>\n",
       "      <th>5</th>\n",
       "      <td>bauer_units</td>\n",
       "      <td>8881.875248</td>\n",
       "    </tr>\n",
       "    <tr>\n",
       "      <th>1</th>\n",
       "      <td>spin_rate</td>\n",
       "      <td>9591.238538</td>\n",
       "    </tr>\n",
       "    <tr>\n",
       "      <th>6</th>\n",
       "      <td>effective_speed</td>\n",
       "      <td>58878.089875</td>\n",
       "    </tr>\n",
       "    <tr>\n",
       "      <th>0</th>\n",
       "      <td>velo</td>\n",
       "      <td>61138.442122</td>\n",
       "    </tr>\n",
       "  </tbody>\n",
       "</table>\n",
       "</div>"
      ],
      "text/plain": [
       "                            feature           VIF\n",
       "11                       swing_miss      1.435700\n",
       "7                     release_pos_x      1.685610\n",
       "15                     launch_angle      2.508363\n",
       "3                            pfx_-x      3.341261\n",
       "12                    delta_run_exp      3.934273\n",
       "4                             pfx_z      5.052088\n",
       "21                      babip_value      5.172847\n",
       "14                        exit_velo      5.176083\n",
       "20                       woba_denom      5.194216\n",
       "22                        iso_value      5.934894\n",
       "13                  hit_distance_sc      7.019825\n",
       "16               launch_speed_angle      9.787129\n",
       "19                       woba_value     12.117213\n",
       "2                         spin_axis     21.271194\n",
       "17    estimated_ba_using_speedangle     25.456988\n",
       "18  estimated_woba_using_speedangle     27.483520\n",
       "8                     release_pos_z    132.269900\n",
       "9                 release_extension    909.171842\n",
       "10                    release_pos_y   7454.238277\n",
       "5                       bauer_units   8881.875248\n",
       "1                         spin_rate   9591.238538\n",
       "6                   effective_speed  58878.089875\n",
       "0                              velo  61138.442122"
      ]
     },
     "execution_count": 3,
     "metadata": {},
     "output_type": "execute_result"
    }
   ],
   "source": [
    "features = data.select_dtypes([np.number])\n",
    "vif_data = pd.DataFrame()\n",
    "vif_data[\"feature\"] = features.columns\n",
    "\n",
    "vif_data[\"VIF\"] = [variance_inflation_factor(features.values, i)\n",
    "                   for i in range(len(features.columns))]\n",
    "\n",
    "vif_data.sort_values(by = 'VIF').head(24)"
   ]
  },
  {
   "cell_type": "markdown",
   "id": "83093c8d",
   "metadata": {},
   "source": [
    "# Features"
   ]
  },
  {
   "cell_type": "code",
   "execution_count": 4,
   "id": "56e22023",
   "metadata": {},
   "outputs": [
    {
     "name": "stdout",
     "output_type": "stream",
     "text": [
      "4-seam shape: (249672, 11)\n",
      "Cutter shape: (47442, 11)\n",
      "Sinker shape: (109145, 11)\n",
      "Slider shape: (135539, 11)\n",
      "Curveball shape: (58767, 11)\n",
      "Changeup shape: (80322, 11)\n"
     ]
    }
   ],
   "source": [
    "features = data[['velo', 'pfx_-x', 'pfx_z', 'delta_run_exp', \n",
    "                 'woba_value', 'babip_value', 'iso_value', \n",
    "                 'estimated_ba_using_speedangle', \n",
    "                 'estimated_woba_using_speedangle', \n",
    "                 'swing_miss',  'pitch_type']]\n",
    "\n",
    "ff = features.loc[features['pitch_type'] == 'FF']\n",
    "print('4-seam shape:', ff.shape)\n",
    "fc = features.loc[features['pitch_type'] == 'FC']\n",
    "print('Cutter shape:', fc.shape)\n",
    "si = features.loc[features['pitch_type'] == 'SI']\n",
    "print('Sinker shape:', si.shape)\n",
    "sl = features.loc[features['pitch_type'] == 'SL']\n",
    "print('Slider shape:', sl.shape)\n",
    "cu = features.loc[features['pitch_type'] == 'CU']\n",
    "print('Curveball shape:', cu.shape)\n",
    "ch = features.loc[features['pitch_type'] == 'CH']\n",
    "print('Changeup shape:', ch.shape)"
   ]
  },
  {
   "cell_type": "markdown",
   "id": "185cf9e5",
   "metadata": {},
   "source": [
    "# Clustering "
   ]
  },
  {
   "cell_type": "markdown",
   "id": "89931699",
   "metadata": {},
   "source": [
    "## 4-Seam Fastball"
   ]
  },
  {
   "cell_type": "code",
   "execution_count": 5,
   "id": "b4d9010b",
   "metadata": {},
   "outputs": [
    {
     "name": "stdout",
     "output_type": "stream",
     "text": [
      "Number of iterations: 7\n",
      "Number of features: 10\n",
      "Number of clusters: 2\n",
      "Inertia: 1638094.7718413887 \n",
      "\n",
      "Predicted clusters to points:  [0 0 0 0 0 0 0 0 0 0] \n",
      "\n"
     ]
    }
   ],
   "source": [
    "features_ff = ff.select_dtypes([np.number])\n",
    "X_ff = features_ff\n",
    "\n",
    "ss = StandardScaler()\n",
    "X_ff_scaled = ss.fit_transform(X_ff)\n",
    "X_ff_scaled[:,:] *= -1\n",
    "\n",
    "pca = PCA().fit(X_ff_scaled)\n",
    "principal_components_ff = pca.transform(X_ff_scaled)\n",
    "model_ff = pd.DataFrame(data = principal_components_ff, columns = X_ff.columns)\n",
    "\n",
    "km_ff = KMeans(n_clusters = 2, \n",
    "               random_state = 1)\n",
    "km_ff.fit(model_ff)\n",
    "label_ff = km_ff.fit_predict(model_ff)\n",
    "\n",
    "print('Number of iterations:', km_ff.n_iter_)\n",
    "print('Number of features:', km_ff.n_features_in_)\n",
    "print('Number of clusters:', km_ff.n_clusters)\n",
    "print('Inertia:', km_ff.inertia_, '\\n')\n",
    "print('Predicted clusters to points: ', label_ff[:10], '\\n')"
   ]
  },
  {
   "cell_type": "markdown",
   "id": "83399927",
   "metadata": {},
   "source": [
    "### Cluster Labels - 4-Seam"
   ]
  },
  {
   "cell_type": "code",
   "execution_count": 6,
   "id": "3dafce24",
   "metadata": {},
   "outputs": [
    {
     "data": {
      "text/html": [
       "<div>\n",
       "<style scoped>\n",
       "    .dataframe tbody tr th:only-of-type {\n",
       "        vertical-align: middle;\n",
       "    }\n",
       "\n",
       "    .dataframe tbody tr th {\n",
       "        vertical-align: top;\n",
       "    }\n",
       "\n",
       "    .dataframe thead th {\n",
       "        text-align: right;\n",
       "    }\n",
       "</style>\n",
       "<table border=\"1\" class=\"dataframe\">\n",
       "  <thead>\n",
       "    <tr style=\"text-align: right;\">\n",
       "      <th>label</th>\n",
       "      <th>0</th>\n",
       "      <th>1</th>\n",
       "    </tr>\n",
       "  </thead>\n",
       "  <tbody>\n",
       "    <tr>\n",
       "      <th>velo</th>\n",
       "      <td>93.709491</td>\n",
       "      <td>93.558200</td>\n",
       "    </tr>\n",
       "    <tr>\n",
       "      <th>pfx_-x</th>\n",
       "      <td>2.842062</td>\n",
       "      <td>2.821841</td>\n",
       "    </tr>\n",
       "    <tr>\n",
       "      <th>pfx_z</th>\n",
       "      <td>16.132601</td>\n",
       "      <td>15.574475</td>\n",
       "    </tr>\n",
       "    <tr>\n",
       "      <th>delta_run_exp</th>\n",
       "      <td>-0.038624</td>\n",
       "      <td>0.670027</td>\n",
       "    </tr>\n",
       "    <tr>\n",
       "      <th>woba_value</th>\n",
       "      <td>0.023159</td>\n",
       "      <td>1.168494</td>\n",
       "    </tr>\n",
       "    <tr>\n",
       "      <th>babip_value</th>\n",
       "      <td>0.000081</td>\n",
       "      <td>0.813899</td>\n",
       "    </tr>\n",
       "    <tr>\n",
       "      <th>iso_value</th>\n",
       "      <td>0.000000</td>\n",
       "      <td>0.764685</td>\n",
       "    </tr>\n",
       "    <tr>\n",
       "      <th>estimated_ba_using_speedangle</th>\n",
       "      <td>0.022046</td>\n",
       "      <td>0.610139</td>\n",
       "    </tr>\n",
       "    <tr>\n",
       "      <th>estimated_woba_using_speedangle</th>\n",
       "      <td>0.024532</td>\n",
       "      <td>0.748993</td>\n",
       "    </tr>\n",
       "    <tr>\n",
       "      <th>swing_miss</th>\n",
       "      <td>0.097967</td>\n",
       "      <td>0.000000</td>\n",
       "    </tr>\n",
       "  </tbody>\n",
       "</table>\n",
       "</div>"
      ],
      "text/plain": [
       "label                                    0          1\n",
       "velo                             93.709491  93.558200\n",
       "pfx_-x                            2.842062   2.821841\n",
       "pfx_z                            16.132601  15.574475\n",
       "delta_run_exp                    -0.038624   0.670027\n",
       "woba_value                        0.023159   1.168494\n",
       "babip_value                       0.000081   0.813899\n",
       "iso_value                         0.000000   0.764685\n",
       "estimated_ba_using_speedangle     0.022046   0.610139\n",
       "estimated_woba_using_speedangle   0.024532   0.748993\n",
       "swing_miss                        0.097967   0.000000"
      ]
     },
     "execution_count": 6,
     "metadata": {},
     "output_type": "execute_result"
    }
   ],
   "source": [
    "# 0 bad, 1 good\n",
    "\n",
    "X_ff['label'] = label_ff\n",
    "model_ff['label'] = label_ff\n",
    "#model_ff.groupby(by = 'label').mean().T\n",
    "X_ff.groupby(by = 'label').mean().T"
   ]
  },
  {
   "cell_type": "code",
   "execution_count": 7,
   "id": "a52a02f0",
   "metadata": {},
   "outputs": [],
   "source": [
    "#score = silhouette_score(X_ff, label_ff, metric=\"euclidean\")\n",
    "#score"
   ]
  },
  {
   "cell_type": "markdown",
   "id": "0682f386",
   "metadata": {},
   "source": [
    "### Heatmaps of Features - 4-Seam"
   ]
  },
  {
   "cell_type": "code",
   "execution_count": 8,
   "id": "07a2783d",
   "metadata": {},
   "outputs": [
    {
     "data": {
      "image/png": "[encoded data removed]",
      "text/plain": [
       "<Figure size 576x432 with 2 Axes>"
      ]
     },
     "metadata": {
      "needs_background": "light"
     },
     "output_type": "display_data"
    }
   ],
   "source": [
    "plt.figure(figsize = (8, 6))\n",
    "sns.heatmap(ff.corr()[['delta_run_exp']].sort_values(('delta_run_exp'), ascending = False), \n",
    "            annot = True, cmap = 'coolwarm', vmin = -1, vmax = 1, linewidths = 2)\n",
    "plt.title('Correlations to 4-seam RE', fontweight = 'bold', pad = 15);"
   ]
  },
  {
   "cell_type": "markdown",
   "id": "3c20c8ec",
   "metadata": {},
   "source": [
    "Positively correlated with label, as the positive values increase the run exp increases\n",
    "\n",
    "Negatively correlated with lablel, as the negative values increase the run exp decreases and vice versa"
   ]
  },
  {
   "cell_type": "markdown",
   "id": "07803f35",
   "metadata": {},
   "source": [
    "Positively correlated with label, as the positive values increase the label increases\n",
    "\n",
    "Negatively correlated with lablel, as the negative values increase the label decreases and vice versa"
   ]
  },
  {
   "cell_type": "markdown",
   "id": "6b28b964",
   "metadata": {},
   "source": [
    "## Cutter"
   ]
  },
  {
   "cell_type": "code",
   "execution_count": 9,
   "id": "54758bb4",
   "metadata": {},
   "outputs": [
    {
     "name": "stdout",
     "output_type": "stream",
     "text": [
      "Number of iterations: 4\n",
      "Number of features: 10\n",
      "Number of clusters: 2\n",
      "Inertia: 311130.3457966881 \n",
      "\n",
      "Predicted clusters to points:  [0 0 0 0 0 0 0 0 1 0] \n",
      "\n"
     ]
    }
   ],
   "source": [
    "features_fc = fc.select_dtypes([np.number])\n",
    "X_fc = features_fc\n",
    "\n",
    "X_fc_scaled = ss.fit_transform(X_fc)\n",
    "X_fc_scaled[:,:] *= -1\n",
    "\n",
    "pca = PCA().fit(X_fc_scaled)\n",
    "principal_components_fc = pca.transform(X_fc_scaled)\n",
    "model_fc = pd.DataFrame(data = principal_components_fc, columns = X_fc.columns)\n",
    "\n",
    "km_fc = KMeans(n_clusters = 2, \n",
    "               random_state = 1)\n",
    "\n",
    "km_fc.fit(model_fc)\n",
    "label_fc = km_fc.fit_predict(model_fc)\n",
    "\n",
    "print('Number of iterations:', km_fc.n_iter_)\n",
    "print('Number of features:', km_fc.n_features_in_)\n",
    "print('Number of clusters:', km_fc.n_clusters)\n",
    "print('Inertia:', km_fc.inertia_, '\\n')\n",
    "print(\"Predicted clusters to points: \", label_fc[:10], '\\n')"
   ]
  },
  {
   "cell_type": "markdown",
   "id": "4cfb0b4c",
   "metadata": {},
   "source": [
    "### Cluster Labels - Cutter"
   ]
  },
  {
   "cell_type": "code",
   "execution_count": 10,
   "id": "9e862bd1",
   "metadata": {},
   "outputs": [
    {
     "data": {
      "text/html": [
       "<div>\n",
       "<style scoped>\n",
       "    .dataframe tbody tr th:only-of-type {\n",
       "        vertical-align: middle;\n",
       "    }\n",
       "\n",
       "    .dataframe tbody tr th {\n",
       "        vertical-align: top;\n",
       "    }\n",
       "\n",
       "    .dataframe thead th {\n",
       "        text-align: right;\n",
       "    }\n",
       "</style>\n",
       "<table border=\"1\" class=\"dataframe\">\n",
       "  <thead>\n",
       "    <tr style=\"text-align: right;\">\n",
       "      <th>label</th>\n",
       "      <th>0</th>\n",
       "      <th>1</th>\n",
       "    </tr>\n",
       "  </thead>\n",
       "  <tbody>\n",
       "    <tr>\n",
       "      <th>velo</th>\n",
       "      <td>88.537120</td>\n",
       "      <td>88.360014</td>\n",
       "    </tr>\n",
       "    <tr>\n",
       "      <th>pfx_-x</th>\n",
       "      <td>-1.392300</td>\n",
       "      <td>-1.200505</td>\n",
       "    </tr>\n",
       "    <tr>\n",
       "      <th>pfx_z</th>\n",
       "      <td>7.928830</td>\n",
       "      <td>7.846257</td>\n",
       "    </tr>\n",
       "    <tr>\n",
       "      <th>delta_run_exp</th>\n",
       "      <td>-0.043880</td>\n",
       "      <td>0.677698</td>\n",
       "    </tr>\n",
       "    <tr>\n",
       "      <th>woba_value</th>\n",
       "      <td>0.018394</td>\n",
       "      <td>1.132094</td>\n",
       "    </tr>\n",
       "    <tr>\n",
       "      <th>babip_value</th>\n",
       "      <td>0.000022</td>\n",
       "      <td>0.842862</td>\n",
       "    </tr>\n",
       "    <tr>\n",
       "      <th>iso_value</th>\n",
       "      <td>0.000000</td>\n",
       "      <td>0.665731</td>\n",
       "    </tr>\n",
       "    <tr>\n",
       "      <th>estimated_ba_using_speedangle</th>\n",
       "      <td>0.025243</td>\n",
       "      <td>0.588757</td>\n",
       "    </tr>\n",
       "    <tr>\n",
       "      <th>estimated_woba_using_speedangle</th>\n",
       "      <td>0.026544</td>\n",
       "      <td>0.697647</td>\n",
       "    </tr>\n",
       "    <tr>\n",
       "      <th>swing_miss</th>\n",
       "      <td>0.117759</td>\n",
       "      <td>0.000000</td>\n",
       "    </tr>\n",
       "  </tbody>\n",
       "</table>\n",
       "</div>"
      ],
      "text/plain": [
       "label                                    0          1\n",
       "velo                             88.537120  88.360014\n",
       "pfx_-x                           -1.392300  -1.200505\n",
       "pfx_z                             7.928830   7.846257\n",
       "delta_run_exp                    -0.043880   0.677698\n",
       "woba_value                        0.018394   1.132094\n",
       "babip_value                       0.000022   0.842862\n",
       "iso_value                         0.000000   0.665731\n",
       "estimated_ba_using_speedangle     0.025243   0.588757\n",
       "estimated_woba_using_speedangle   0.026544   0.697647\n",
       "swing_miss                        0.117759   0.000000"
      ]
     },
     "execution_count": 10,
     "metadata": {},
     "output_type": "execute_result"
    }
   ],
   "source": [
    "# 0 good, 1 bad\n",
    "\n",
    "X_fc['label'] = label_fc\n",
    "model_fc['label'] = label_fc\n",
    "\n",
    "X_fc.groupby(by = 'label').mean().T"
   ]
  },
  {
   "cell_type": "markdown",
   "id": "3d5caf1e",
   "metadata": {},
   "source": [
    "### Heatmap of Features - Cutter"
   ]
  },
  {
   "cell_type": "code",
   "execution_count": 11,
   "id": "5e8df4af",
   "metadata": {},
   "outputs": [
    {
     "data": {
      "image/png": "[encoded data removed]",
      "text/plain": [
       "<Figure size 576x576 with 2 Axes>"
      ]
     },
     "metadata": {
      "needs_background": "light"
     },
     "output_type": "display_data"
    }
   ],
   "source": [
    "plt.figure(figsize = (8, 8))\n",
    "sns.heatmap(X_fc.corr()[['delta_run_exp']].sort_values(('delta_run_exp'), ascending = False), \n",
    "            annot = True, cmap = 'coolwarm', vmin = -1, vmax = 1, linewidths = 2)\n",
    "plt.title('Correlations to Cutter RE', fontweight = 'bold', pad = 15);"
   ]
  },
  {
   "cell_type": "markdown",
   "id": "dcf098e4",
   "metadata": {},
   "source": [
    "# Sinker"
   ]
  },
  {
   "cell_type": "code",
   "execution_count": 12,
   "id": "3bd87c52",
   "metadata": {},
   "outputs": [
    {
     "name": "stdout",
     "output_type": "stream",
     "text": [
      "Number of iterations: 8\n",
      "Number of features: 10\n",
      "Number of clusters: 2\n",
      "Inertia: 728665.5874750072 \n",
      "\n",
      "Predicted clusters to points:  [0 0 0 0 0 0 0 0 0 0] \n",
      "\n"
     ]
    }
   ],
   "source": [
    "features_si = si.select_dtypes([np.number])\n",
    "X_si = features_si\n",
    "\n",
    "X_si_scaled = ss.fit_transform(X_si)\n",
    "X_si_scaled[:,:] *= -1\n",
    "\n",
    "pca = PCA().fit(X_si_scaled)\n",
    "principal_components_si = pca.transform(X_si_scaled)\n",
    "model_si = pd.DataFrame(data = principal_components_si, columns = X_si.columns)\n",
    "\n",
    "km_si = KMeans(n_clusters = 2, \n",
    "               random_state = 1)\n",
    "\n",
    "km_si.fit(model_si)\n",
    "label_si = km_si.fit_predict(model_si)\n",
    "\n",
    "print('Number of iterations:', km_si.n_iter_)\n",
    "print('Number of features:', km_si.n_features_in_)\n",
    "print('Number of clusters:', km_si.n_clusters)\n",
    "print('Inertia:', km_si.inertia_, '\\n')\n",
    "print(\"Predicted clusters to points: \", label_si[:10], '\\n')"
   ]
  },
  {
   "cell_type": "markdown",
   "id": "a0d4394d",
   "metadata": {},
   "source": [
    "### Cluster Labels - Sinker"
   ]
  },
  {
   "cell_type": "code",
   "execution_count": 13,
   "id": "2d8e9ae8",
   "metadata": {},
   "outputs": [
    {
     "data": {
      "text/html": [
       "<div>\n",
       "<style scoped>\n",
       "    .dataframe tbody tr th:only-of-type {\n",
       "        vertical-align: middle;\n",
       "    }\n",
       "\n",
       "    .dataframe tbody tr th {\n",
       "        vertical-align: top;\n",
       "    }\n",
       "\n",
       "    .dataframe thead th {\n",
       "        text-align: right;\n",
       "    }\n",
       "</style>\n",
       "<table border=\"1\" class=\"dataframe\">\n",
       "  <thead>\n",
       "    <tr style=\"text-align: right;\">\n",
       "      <th>label</th>\n",
       "      <th>0</th>\n",
       "      <th>1</th>\n",
       "    </tr>\n",
       "  </thead>\n",
       "  <tbody>\n",
       "    <tr>\n",
       "      <th>velo</th>\n",
       "      <td>93.015631</td>\n",
       "      <td>92.885030</td>\n",
       "    </tr>\n",
       "    <tr>\n",
       "      <th>pfx_-x</th>\n",
       "      <td>5.640407</td>\n",
       "      <td>5.743059</td>\n",
       "    </tr>\n",
       "    <tr>\n",
       "      <th>pfx_z</th>\n",
       "      <td>9.257199</td>\n",
       "      <td>8.857963</td>\n",
       "    </tr>\n",
       "    <tr>\n",
       "      <th>delta_run_exp</th>\n",
       "      <td>-0.044860</td>\n",
       "      <td>0.625962</td>\n",
       "    </tr>\n",
       "    <tr>\n",
       "      <th>woba_value</th>\n",
       "      <td>0.024942</td>\n",
       "      <td>1.082576</td>\n",
       "    </tr>\n",
       "    <tr>\n",
       "      <th>babip_value</th>\n",
       "      <td>0.000020</td>\n",
       "      <td>0.878296</td>\n",
       "    </tr>\n",
       "    <tr>\n",
       "      <th>iso_value</th>\n",
       "      <td>0.000000</td>\n",
       "      <td>0.526707</td>\n",
       "    </tr>\n",
       "    <tr>\n",
       "      <th>estimated_ba_using_speedangle</th>\n",
       "      <td>0.029931</td>\n",
       "      <td>0.562477</td>\n",
       "    </tr>\n",
       "    <tr>\n",
       "      <th>estimated_woba_using_speedangle</th>\n",
       "      <td>0.030656</td>\n",
       "      <td>0.641823</td>\n",
       "    </tr>\n",
       "    <tr>\n",
       "      <th>swing_miss</th>\n",
       "      <td>0.066988</td>\n",
       "      <td>0.000000</td>\n",
       "    </tr>\n",
       "  </tbody>\n",
       "</table>\n",
       "</div>"
      ],
      "text/plain": [
       "label                                    0          1\n",
       "velo                             93.015631  92.885030\n",
       "pfx_-x                            5.640407   5.743059\n",
       "pfx_z                             9.257199   8.857963\n",
       "delta_run_exp                    -0.044860   0.625962\n",
       "woba_value                        0.024942   1.082576\n",
       "babip_value                       0.000020   0.878296\n",
       "iso_value                         0.000000   0.526707\n",
       "estimated_ba_using_speedangle     0.029931   0.562477\n",
       "estimated_woba_using_speedangle   0.030656   0.641823\n",
       "swing_miss                        0.066988   0.000000"
      ]
     },
     "execution_count": 13,
     "metadata": {},
     "output_type": "execute_result"
    }
   ],
   "source": [
    "# 0 good, 1 bad\n",
    "\n",
    "X_si['label'] = label_si\n",
    "model_si['label'] = label_si\n",
    "\n",
    "X_si.groupby(by = 'label').mean().T"
   ]
  },
  {
   "cell_type": "markdown",
   "id": "efd9f7bd",
   "metadata": {},
   "source": [
    "### Heatmap of Features - Sinker"
   ]
  },
  {
   "cell_type": "code",
   "execution_count": 14,
   "id": "4c9343d1",
   "metadata": {},
   "outputs": [
    {
     "data": {
      "image/png": "[encoded data removed]",
      "text/plain": [
       "<Figure size 576x576 with 2 Axes>"
      ]
     },
     "metadata": {
      "needs_background": "light"
     },
     "output_type": "display_data"
    }
   ],
   "source": [
    "plt.figure(figsize = (8, 8))\n",
    "sns.heatmap(X_si.corr()[['delta_run_exp']].sort_values(('delta_run_exp'), ascending = False), \n",
    "            annot = True, cmap = 'coolwarm', vmin = -1, vmax = 1, linewidths = 2)\n",
    "plt.title('Correlations to Sinker RE', fontweight = 'bold', pad = 15);"
   ]
  },
  {
   "cell_type": "markdown",
   "id": "809aaa04",
   "metadata": {},
   "source": [
    "## Slider"
   ]
  },
  {
   "cell_type": "code",
   "execution_count": 15,
   "id": "5acf61f0",
   "metadata": {},
   "outputs": [
    {
     "name": "stdout",
     "output_type": "stream",
     "text": [
      "Number of iterations: 4\n",
      "Number of features: 10\n",
      "Number of clusters: 2\n",
      "Inertia: 885773.2904635705 \n",
      "\n",
      "Predicted clusters to points:  [0 0 0 0 0 0 0 0 0 0] \n",
      "\n"
     ]
    }
   ],
   "source": [
    "features_sl = sl.select_dtypes([np.number])\n",
    "X_sl = features_sl\n",
    "\n",
    "X_sl_scaled = ss.fit_transform(X_sl)\n",
    "X_sl_scaled[:,:] *= -1\n",
    "\n",
    "pca = PCA().fit(X_sl_scaled)\n",
    "principal_components_sl = pca.transform(X_sl_scaled)\n",
    "model_sl = pd.DataFrame(data = principal_components_sl, columns = X_sl.columns)\n",
    "\n",
    "km_sl = KMeans(n_clusters = 2, \n",
    "               random_state = 1)\n",
    "\n",
    "km_sl.fit(model_sl)\n",
    "label_sl = km_sl.fit_predict(model_sl)\n",
    "\n",
    "print('Number of iterations:', km_sl.n_iter_)\n",
    "print('Number of features:', km_sl.n_features_in_)\n",
    "print('Number of clusters:', km_sl.n_clusters)\n",
    "print('Inertia:', km_sl.inertia_, '\\n')\n",
    "print(\"Predicted clusters to points: \", label_sl[:10], '\\n')"
   ]
  },
  {
   "cell_type": "markdown",
   "id": "7d8eeaca",
   "metadata": {},
   "source": [
    "### Cluster Labels - Slider"
   ]
  },
  {
   "cell_type": "code",
   "execution_count": 16,
   "id": "f28eee91",
   "metadata": {},
   "outputs": [
    {
     "data": {
      "text/html": [
       "<div>\n",
       "<style scoped>\n",
       "    .dataframe tbody tr th:only-of-type {\n",
       "        vertical-align: middle;\n",
       "    }\n",
       "\n",
       "    .dataframe tbody tr th {\n",
       "        vertical-align: top;\n",
       "    }\n",
       "\n",
       "    .dataframe thead th {\n",
       "        text-align: right;\n",
       "    }\n",
       "</style>\n",
       "<table border=\"1\" class=\"dataframe\">\n",
       "  <thead>\n",
       "    <tr style=\"text-align: right;\">\n",
       "      <th>label</th>\n",
       "      <th>0</th>\n",
       "      <th>1</th>\n",
       "    </tr>\n",
       "  </thead>\n",
       "  <tbody>\n",
       "    <tr>\n",
       "      <th>velo</th>\n",
       "      <td>84.653085</td>\n",
       "      <td>84.632906</td>\n",
       "    </tr>\n",
       "    <tr>\n",
       "      <th>pfx_-x</th>\n",
       "      <td>-3.228850</td>\n",
       "      <td>-3.095633</td>\n",
       "    </tr>\n",
       "    <tr>\n",
       "      <th>pfx_z</th>\n",
       "      <td>1.707480</td>\n",
       "      <td>1.634954</td>\n",
       "    </tr>\n",
       "    <tr>\n",
       "      <th>delta_run_exp</th>\n",
       "      <td>-0.041580</td>\n",
       "      <td>0.726635</td>\n",
       "    </tr>\n",
       "    <tr>\n",
       "      <th>woba_value</th>\n",
       "      <td>0.016000</td>\n",
       "      <td>1.151486</td>\n",
       "    </tr>\n",
       "    <tr>\n",
       "      <th>babip_value</th>\n",
       "      <td>0.000023</td>\n",
       "      <td>0.827385</td>\n",
       "    </tr>\n",
       "    <tr>\n",
       "      <th>iso_value</th>\n",
       "      <td>0.000000</td>\n",
       "      <td>0.720466</td>\n",
       "    </tr>\n",
       "    <tr>\n",
       "      <th>estimated_ba_using_speedangle</th>\n",
       "      <td>0.020860</td>\n",
       "      <td>0.584721</td>\n",
       "    </tr>\n",
       "    <tr>\n",
       "      <th>estimated_woba_using_speedangle</th>\n",
       "      <td>0.022073</td>\n",
       "      <td>0.695887</td>\n",
       "    </tr>\n",
       "    <tr>\n",
       "      <th>swing_miss</th>\n",
       "      <td>0.170835</td>\n",
       "      <td>0.000000</td>\n",
       "    </tr>\n",
       "  </tbody>\n",
       "</table>\n",
       "</div>"
      ],
      "text/plain": [
       "label                                    0          1\n",
       "velo                             84.653085  84.632906\n",
       "pfx_-x                           -3.228850  -3.095633\n",
       "pfx_z                             1.707480   1.634954\n",
       "delta_run_exp                    -0.041580   0.726635\n",
       "woba_value                        0.016000   1.151486\n",
       "babip_value                       0.000023   0.827385\n",
       "iso_value                         0.000000   0.720466\n",
       "estimated_ba_using_speedangle     0.020860   0.584721\n",
       "estimated_woba_using_speedangle   0.022073   0.695887\n",
       "swing_miss                        0.170835   0.000000"
      ]
     },
     "execution_count": 16,
     "metadata": {},
     "output_type": "execute_result"
    }
   ],
   "source": [
    "# 0 bad, 1 good\n",
    "\n",
    "X_sl['label'] = label_sl\n",
    "model_sl['label'] = label_sl\n",
    "\n",
    "X_sl.groupby(by = 'label').mean().T"
   ]
  },
  {
   "cell_type": "markdown",
   "id": "99a0ad84",
   "metadata": {},
   "source": [
    "### Heatmap of Features - Slider"
   ]
  },
  {
   "cell_type": "code",
   "execution_count": 17,
   "id": "818a2c8a",
   "metadata": {},
   "outputs": [
    {
     "data": {
      "image/png": "[encoded data removed]",
      "text/plain": [
       "<Figure size 576x576 with 2 Axes>"
      ]
     },
     "metadata": {
      "needs_background": "light"
     },
     "output_type": "display_data"
    }
   ],
   "source": [
    "plt.figure(figsize = (8, 8))\n",
    "sns.heatmap(X_sl.corr()[['delta_run_exp']].sort_values(('delta_run_exp'), ascending = False), \n",
    "            annot = True, cmap = 'coolwarm', vmin = -1, vmax = 1, linewidths = 2)\n",
    "plt.title('Correlations to Slider RE', fontweight = 'bold', pad = 15);"
   ]
  },
  {
   "cell_type": "markdown",
   "id": "37d184f1",
   "metadata": {},
   "source": [
    "# Curveball"
   ]
  },
  {
   "cell_type": "code",
   "execution_count": 18,
   "id": "b44abbe0",
   "metadata": {},
   "outputs": [
    {
     "name": "stdout",
     "output_type": "stream",
     "text": [
      "Number of iterations: 24\n",
      "Number of features: 10\n",
      "Number of clusters: 2\n",
      "Inertia: 383618.71467478166 \n",
      "\n",
      "Predicted clusters to points:  [0 0 0 0 0 0 0 0 0 0] \n",
      "\n"
     ]
    }
   ],
   "source": [
    "features_cu = cu.select_dtypes([np.number])\n",
    "X_cu = features_cu\n",
    "\n",
    "X_cu_scaled = ss.fit_transform(X_cu)\n",
    "X_cu_scaled[:,:] *= -1\n",
    "\n",
    "pca = PCA().fit(X_cu_scaled)\n",
    "principal_components_cu = pca.transform(X_cu_scaled)\n",
    "model_cu = pd.DataFrame(data = principal_components_cu, columns = X_cu.columns)\n",
    "\n",
    "km_cu = KMeans(n_clusters = 2, \n",
    "               random_state = 1)\n",
    "\n",
    "km_cu.fit(model_cu)\n",
    "label_cu = km_cu.fit_predict(model_cu)\n",
    "\n",
    "print('Number of iterations:', km_cu.n_iter_)\n",
    "print('Number of features:', km_cu.n_features_in_)\n",
    "print('Number of clusters:', km_cu.n_clusters)\n",
    "print('Inertia:', km_cu.inertia_, '\\n')\n",
    "print(\"Predicted clusters to points: \", label_cu[:10], '\\n')"
   ]
  },
  {
   "cell_type": "markdown",
   "id": "8834fc6a",
   "metadata": {},
   "source": [
    "### Cluster Labels - Curveball"
   ]
  },
  {
   "cell_type": "code",
   "execution_count": 19,
   "id": "7318a85e",
   "metadata": {},
   "outputs": [
    {
     "data": {
      "text/html": [
       "<div>\n",
       "<style scoped>\n",
       "    .dataframe tbody tr th:only-of-type {\n",
       "        vertical-align: middle;\n",
       "    }\n",
       "\n",
       "    .dataframe tbody tr th {\n",
       "        vertical-align: top;\n",
       "    }\n",
       "\n",
       "    .dataframe thead th {\n",
       "        text-align: right;\n",
       "    }\n",
       "</style>\n",
       "<table border=\"1\" class=\"dataframe\">\n",
       "  <thead>\n",
       "    <tr style=\"text-align: right;\">\n",
       "      <th>label</th>\n",
       "      <th>0</th>\n",
       "      <th>1</th>\n",
       "    </tr>\n",
       "  </thead>\n",
       "  <tbody>\n",
       "    <tr>\n",
       "      <th>velo</th>\n",
       "      <td>78.756450</td>\n",
       "      <td>78.500984</td>\n",
       "    </tr>\n",
       "    <tr>\n",
       "      <th>pfx_-x</th>\n",
       "      <td>-3.868649</td>\n",
       "      <td>-3.732332</td>\n",
       "    </tr>\n",
       "    <tr>\n",
       "      <th>pfx_z</th>\n",
       "      <td>-8.737747</td>\n",
       "      <td>-8.797522</td>\n",
       "    </tr>\n",
       "    <tr>\n",
       "      <th>delta_run_exp</th>\n",
       "      <td>-0.032888</td>\n",
       "      <td>0.690532</td>\n",
       "    </tr>\n",
       "    <tr>\n",
       "      <th>woba_value</th>\n",
       "      <td>0.012147</td>\n",
       "      <td>1.121301</td>\n",
       "    </tr>\n",
       "    <tr>\n",
       "      <th>babip_value</th>\n",
       "      <td>0.000000</td>\n",
       "      <td>0.854592</td>\n",
       "    </tr>\n",
       "    <tr>\n",
       "      <th>iso_value</th>\n",
       "      <td>0.000000</td>\n",
       "      <td>0.638848</td>\n",
       "    </tr>\n",
       "    <tr>\n",
       "      <th>estimated_ba_using_speedangle</th>\n",
       "      <td>0.020318</td>\n",
       "      <td>0.583561</td>\n",
       "    </tr>\n",
       "    <tr>\n",
       "      <th>estimated_woba_using_speedangle</th>\n",
       "      <td>0.021118</td>\n",
       "      <td>0.674107</td>\n",
       "    </tr>\n",
       "    <tr>\n",
       "      <th>swing_miss</th>\n",
       "      <td>0.131143</td>\n",
       "      <td>0.000000</td>\n",
       "    </tr>\n",
       "  </tbody>\n",
       "</table>\n",
       "</div>"
      ],
      "text/plain": [
       "label                                    0          1\n",
       "velo                             78.756450  78.500984\n",
       "pfx_-x                           -3.868649  -3.732332\n",
       "pfx_z                            -8.737747  -8.797522\n",
       "delta_run_exp                    -0.032888   0.690532\n",
       "woba_value                        0.012147   1.121301\n",
       "babip_value                       0.000000   0.854592\n",
       "iso_value                         0.000000   0.638848\n",
       "estimated_ba_using_speedangle     0.020318   0.583561\n",
       "estimated_woba_using_speedangle   0.021118   0.674107\n",
       "swing_miss                        0.131143   0.000000"
      ]
     },
     "execution_count": 19,
     "metadata": {},
     "output_type": "execute_result"
    }
   ],
   "source": [
    "# 0 good, 1 bad\n",
    "\n",
    "X_cu['label'] = label_cu\n",
    "model_cu['label'] = label_cu\n",
    "\n",
    "X_cu.groupby(by = 'label').mean().T"
   ]
  },
  {
   "cell_type": "markdown",
   "id": "227ebfcb",
   "metadata": {},
   "source": [
    "### Heatmaps of Features - Curveball"
   ]
  },
  {
   "cell_type": "code",
   "execution_count": 20,
   "id": "2ef27915",
   "metadata": {},
   "outputs": [
    {
     "data": {
      "image/png": "[encoded data removed]",
      "text/plain": [
       "<Figure size 576x576 with 2 Axes>"
      ]
     },
     "metadata": {
      "needs_background": "light"
     },
     "output_type": "display_data"
    }
   ],
   "source": [
    "plt.figure(figsize = (8, 8))\n",
    "sns.heatmap(X_cu.corr()[['delta_run_exp']].sort_values(('delta_run_exp'), ascending = False), \n",
    "            annot = True, cmap = 'coolwarm', vmin = -1, vmax = 1, linewidths = 2)\n",
    "plt.title('Correlations to Curveball RE', fontweight = 'bold', pad = 15);"
   ]
  },
  {
   "cell_type": "markdown",
   "id": "3c72e08b",
   "metadata": {},
   "source": [
    "## Changeup"
   ]
  },
  {
   "cell_type": "code",
   "execution_count": 21,
   "id": "e579998c",
   "metadata": {},
   "outputs": [
    {
     "name": "stdout",
     "output_type": "stream",
     "text": [
      "Number of iterations: 8\n",
      "Number of features: 10\n",
      "Number of clusters: 2\n",
      "Inertia: 527634.5057626753 \n",
      "\n",
      "Predicted clusters to points:  [0 0 1 0 0 0 0 0 0 0] \n",
      "\n"
     ]
    }
   ],
   "source": [
    "features_ch = ch.select_dtypes([np.number])\n",
    "X_ch = features_ch\n",
    "\n",
    "X_ch_scaled = ss.fit_transform(X_ch)\n",
    "X_ch_scaled[:,:] *= -1\n",
    "\n",
    "pca = PCA().fit(X_ch_scaled)\n",
    "principal_components_ch = pca.transform(X_ch_scaled)\n",
    "model_ch = pd.DataFrame(data = principal_components_ch, columns = X_ch.columns)\n",
    "\n",
    "km_ch = KMeans(n_clusters = 2, \n",
    "               random_state = 1)\n",
    "\n",
    "km_ch.fit(model_ch)\n",
    "label_ch = km_ch.fit_predict(model_ch)\n",
    "\n",
    "print('Number of iterations:', km_ch.n_iter_)\n",
    "print('Number of features:', km_ch.n_features_in_)\n",
    "print('Number of clusters:', km_ch.n_clusters)\n",
    "print('Inertia:', km_ch.inertia_, '\\n')\n",
    "print(\"Predicted clusters to points: \", label_ch[:10], '\\n')"
   ]
  },
  {
   "cell_type": "markdown",
   "id": "f4ddb95c",
   "metadata": {},
   "source": [
    "### Cluster Labels - Changeup"
   ]
  },
  {
   "cell_type": "code",
   "execution_count": 22,
   "id": "decc0285",
   "metadata": {},
   "outputs": [
    {
     "data": {
      "text/html": [
       "<div>\n",
       "<style scoped>\n",
       "    .dataframe tbody tr th:only-of-type {\n",
       "        vertical-align: middle;\n",
       "    }\n",
       "\n",
       "    .dataframe tbody tr th {\n",
       "        vertical-align: top;\n",
       "    }\n",
       "\n",
       "    .dataframe thead th {\n",
       "        text-align: right;\n",
       "    }\n",
       "</style>\n",
       "<table border=\"1\" class=\"dataframe\">\n",
       "  <thead>\n",
       "    <tr style=\"text-align: right;\">\n",
       "      <th>label</th>\n",
       "      <th>0</th>\n",
       "      <th>1</th>\n",
       "    </tr>\n",
       "  </thead>\n",
       "  <tbody>\n",
       "    <tr>\n",
       "      <th>velo</th>\n",
       "      <td>84.816814</td>\n",
       "      <td>84.656705</td>\n",
       "    </tr>\n",
       "    <tr>\n",
       "      <th>pfx_-x</th>\n",
       "      <td>3.649818</td>\n",
       "      <td>2.765732</td>\n",
       "    </tr>\n",
       "    <tr>\n",
       "      <th>pfx_z</th>\n",
       "      <td>6.829012</td>\n",
       "      <td>6.818959</td>\n",
       "    </tr>\n",
       "    <tr>\n",
       "      <th>delta_run_exp</th>\n",
       "      <td>-0.041273</td>\n",
       "      <td>0.685364</td>\n",
       "    </tr>\n",
       "    <tr>\n",
       "      <th>woba_value</th>\n",
       "      <td>0.015649</td>\n",
       "      <td>1.124352</td>\n",
       "    </tr>\n",
       "    <tr>\n",
       "      <th>babip_value</th>\n",
       "      <td>0.000040</td>\n",
       "      <td>0.851602</td>\n",
       "    </tr>\n",
       "    <tr>\n",
       "      <th>iso_value</th>\n",
       "      <td>0.000000</td>\n",
       "      <td>0.637681</td>\n",
       "    </tr>\n",
       "    <tr>\n",
       "      <th>estimated_ba_using_speedangle</th>\n",
       "      <td>0.028534</td>\n",
       "      <td>0.574957</td>\n",
       "    </tr>\n",
       "    <tr>\n",
       "      <th>estimated_woba_using_speedangle</th>\n",
       "      <td>0.029332</td>\n",
       "      <td>0.665303</td>\n",
       "    </tr>\n",
       "    <tr>\n",
       "      <th>swing_miss</th>\n",
       "      <td>0.154396</td>\n",
       "      <td>0.000000</td>\n",
       "    </tr>\n",
       "  </tbody>\n",
       "</table>\n",
       "</div>"
      ],
      "text/plain": [
       "label                                    0          1\n",
       "velo                             84.816814  84.656705\n",
       "pfx_-x                            3.649818   2.765732\n",
       "pfx_z                             6.829012   6.818959\n",
       "delta_run_exp                    -0.041273   0.685364\n",
       "woba_value                        0.015649   1.124352\n",
       "babip_value                       0.000040   0.851602\n",
       "iso_value                         0.000000   0.637681\n",
       "estimated_ba_using_speedangle     0.028534   0.574957\n",
       "estimated_woba_using_speedangle   0.029332   0.665303\n",
       "swing_miss                        0.154396   0.000000"
      ]
     },
     "execution_count": 22,
     "metadata": {},
     "output_type": "execute_result"
    }
   ],
   "source": [
    "# 0 good, 1 bad\n",
    "\n",
    "X_ch['label'] = label_ch\n",
    "model_ch['label'] = label_ch\n",
    "\n",
    "X_ch.groupby(by = 'label').mean().T"
   ]
  },
  {
   "cell_type": "markdown",
   "id": "431a5042",
   "metadata": {},
   "source": [
    "### Heatmap of Features - Changeup"
   ]
  },
  {
   "cell_type": "code",
   "execution_count": 23,
   "id": "7f65cf63",
   "metadata": {},
   "outputs": [
    {
     "data": {
      "image/png": "[encoded data removed]",
      "text/plain": [
       "<Figure size 576x576 with 2 Axes>"
      ]
     },
     "metadata": {
      "needs_background": "light"
     },
     "output_type": "display_data"
    }
   ],
   "source": [
    "plt.figure(figsize = (8, 8))\n",
    "sns.heatmap(X_ch.corr()[['delta_run_exp']].sort_values(('delta_run_exp'), ascending = False), \n",
    "            annot = True, cmap = 'coolwarm', vmin = -1, vmax = 1, linewidths = 2)\n",
    "plt.title('Correlations to Changeup Label', fontweight = 'bold', pad = 15);"
   ]
  },
  {
   "cell_type": "markdown",
   "id": "f946c450",
   "metadata": {},
   "source": [
    "# Modeling"
   ]
  },
  {
   "cell_type": "markdown",
   "id": "982b64ba",
   "metadata": {},
   "source": [
    "## Linear Regression - 4-Seam"
   ]
  },
  {
   "cell_type": "code",
   "execution_count": 24,
   "id": "14d82d28",
   "metadata": {},
   "outputs": [
    {
     "data": {
      "text/html": [
       "<table class=\"simpletable\">\n",
       "<caption>OLS Regression Results</caption>\n",
       "<tr>\n",
       "  <th>Dep. Variable:</th>      <td>delta_run_exp</td>  <th>  R-squared:         </th>  <td>   0.645</td> \n",
       "</tr>\n",
       "<tr>\n",
       "  <th>Model:</th>                   <td>OLS</td>       <th>  Adj. R-squared:    </th>  <td>   0.645</td> \n",
       "</tr>\n",
       "<tr>\n",
       "  <th>Method:</th>             <td>Least Squares</td>  <th>  F-statistic:       </th>  <td>4.533e+04</td>\n",
       "</tr>\n",
       "<tr>\n",
       "  <th>Date:</th>             <td>Sat, 26 Feb 2022</td> <th>  Prob (F-statistic):</th>   <td>  0.00</td>  \n",
       "</tr>\n",
       "<tr>\n",
       "  <th>Time:</th>                 <td>14:06:58</td>     <th>  Log-Likelihood:    </th> <td>1.3072e+05</td>\n",
       "</tr>\n",
       "<tr>\n",
       "  <th>No. Observations:</th>      <td>249672</td>      <th>  AIC:               </th> <td>-2.614e+05</td>\n",
       "</tr>\n",
       "<tr>\n",
       "  <th>Df Residuals:</th>          <td>249661</td>      <th>  BIC:               </th> <td>-2.613e+05</td>\n",
       "</tr>\n",
       "<tr>\n",
       "  <th>Df Model:</th>              <td>    10</td>      <th>                     </th>      <td> </td>    \n",
       "</tr>\n",
       "<tr>\n",
       "  <th>Covariance Type:</th>      <td>nonrobust</td>    <th>                     </th>      <td> </td>    \n",
       "</tr>\n",
       "</table>\n",
       "<table class=\"simpletable\">\n",
       "<tr>\n",
       "                 <td></td>                    <th>coef</th>     <th>std err</th>      <th>t</th>      <th>P>|t|</th>  <th>[0.025</th>    <th>0.975]</th>  \n",
       "</tr>\n",
       "<tr>\n",
       "  <th>const</th>                           <td>   -0.0546</td> <td>    0.011</td> <td>   -5.008</td> <td> 0.000</td> <td>   -0.076</td> <td>   -0.033</td>\n",
       "</tr>\n",
       "<tr>\n",
       "  <th>velo</th>                            <td>    0.0002</td> <td>    0.000</td> <td>    1.929</td> <td> 0.054</td> <td>-3.63e-06</td> <td>    0.000</td>\n",
       "</tr>\n",
       "<tr>\n",
       "  <th>pfx_-x</th>                          <td> 1.202e-05</td> <td> 3.79e-05</td> <td>    0.317</td> <td> 0.751</td> <td>-6.22e-05</td> <td> 8.63e-05</td>\n",
       "</tr>\n",
       "<tr>\n",
       "  <th>pfx_z</th>                           <td>    0.0002</td> <td> 8.82e-05</td> <td>    2.014</td> <td> 0.044</td> <td> 4.79e-06</td> <td>    0.000</td>\n",
       "</tr>\n",
       "<tr>\n",
       "  <th>woba_value</th>                      <td>    0.3970</td> <td>    0.002</td> <td>  170.744</td> <td> 0.000</td> <td>    0.392</td> <td>    0.402</td>\n",
       "</tr>\n",
       "<tr>\n",
       "  <th>babip_value</th>                     <td>   -0.0102</td> <td>    0.007</td> <td>   -1.498</td> <td> 0.134</td> <td>   -0.024</td> <td>    0.003</td>\n",
       "</tr>\n",
       "<tr>\n",
       "  <th>iso_value</th>                       <td>    0.1727</td> <td>    0.003</td> <td>   68.197</td> <td> 0.000</td> <td>    0.168</td> <td>    0.178</td>\n",
       "</tr>\n",
       "<tr>\n",
       "  <th>estimated_ba_using_speedangle</th>   <td>   -0.3600</td> <td>    0.008</td> <td>  -47.099</td> <td> 0.000</td> <td>   -0.375</td> <td>   -0.345</td>\n",
       "</tr>\n",
       "<tr>\n",
       "  <th>estimated_woba_using_speedangle</th> <td>   -0.0224</td> <td>    0.006</td> <td>   -3.592</td> <td> 0.000</td> <td>   -0.035</td> <td>   -0.010</td>\n",
       "</tr>\n",
       "<tr>\n",
       "  <th>swing_miss</th>                      <td>   -0.0910</td> <td>    0.001</td> <td>  -91.029</td> <td> 0.000</td> <td>   -0.093</td> <td>   -0.089</td>\n",
       "</tr>\n",
       "<tr>\n",
       "  <th>label</th>                           <td>    0.3493</td> <td>    0.007</td> <td>   46.591</td> <td> 0.000</td> <td>    0.335</td> <td>    0.364</td>\n",
       "</tr>\n",
       "</table>\n",
       "<table class=\"simpletable\">\n",
       "<tr>\n",
       "  <th>Omnibus:</th>       <td>68611.696</td> <th>  Durbin-Watson:     </th>  <td>   2.057</td>  \n",
       "</tr>\n",
       "<tr>\n",
       "  <th>Prob(Omnibus):</th>  <td> 0.000</td>   <th>  Jarque-Bera (JB):  </th> <td>3490417.380</td>\n",
       "</tr>\n",
       "<tr>\n",
       "  <th>Skew:</th>           <td> 0.528</td>   <th>  Prob(JB):          </th>  <td>    0.00</td>  \n",
       "</tr>\n",
       "<tr>\n",
       "  <th>Kurtosis:</th>       <td>21.287</td>   <th>  Cond. No.          </th>  <td>3.63e+03</td>  \n",
       "</tr>\n",
       "</table><br/><br/>Notes:<br/>[1] Standard Errors assume that the covariance matrix of the errors is correctly specified.<br/>[2] The condition number is large, 3.63e+03. This might indicate that there are<br/>strong multicollinearity or other numerical problems."
      ],
      "text/plain": [
       "<class 'statsmodels.iolib.summary.Summary'>\n",
       "\"\"\"\n",
       "                            OLS Regression Results                            \n",
       "==============================================================================\n",
       "Dep. Variable:          delta_run_exp   R-squared:                       0.645\n",
       "Model:                            OLS   Adj. R-squared:                  0.645\n",
       "Method:                 Least Squares   F-statistic:                 4.533e+04\n",
       "Date:                Sat, 26 Feb 2022   Prob (F-statistic):               0.00\n",
       "Time:                        14:06:58   Log-Likelihood:             1.3072e+05\n",
       "No. Observations:              249672   AIC:                        -2.614e+05\n",
       "Df Residuals:                  249661   BIC:                        -2.613e+05\n",
       "Df Model:                          10                                         \n",
       "Covariance Type:            nonrobust                                         \n",
       "===================================================================================================\n",
       "                                      coef    std err          t      P>|t|      [0.025      0.975]\n",
       "---------------------------------------------------------------------------------------------------\n",
       "const                              -0.0546      0.011     -5.008      0.000      -0.076      -0.033\n",
       "velo                                0.0002      0.000      1.929      0.054   -3.63e-06       0.000\n",
       "pfx_-x                           1.202e-05   3.79e-05      0.317      0.751   -6.22e-05    8.63e-05\n",
       "pfx_z                               0.0002   8.82e-05      2.014      0.044    4.79e-06       0.000\n",
       "woba_value                          0.3970      0.002    170.744      0.000       0.392       0.402\n",
       "babip_value                        -0.0102      0.007     -1.498      0.134      -0.024       0.003\n",
       "iso_value                           0.1727      0.003     68.197      0.000       0.168       0.178\n",
       "estimated_ba_using_speedangle      -0.3600      0.008    -47.099      0.000      -0.375      -0.345\n",
       "estimated_woba_using_speedangle    -0.0224      0.006     -3.592      0.000      -0.035      -0.010\n",
       "swing_miss                         -0.0910      0.001    -91.029      0.000      -0.093      -0.089\n",
       "label                               0.3493      0.007     46.591      0.000       0.335       0.364\n",
       "==============================================================================\n",
       "Omnibus:                    68611.696   Durbin-Watson:                   2.057\n",
       "Prob(Omnibus):                  0.000   Jarque-Bera (JB):          3490417.380\n",
       "Skew:                           0.528   Prob(JB):                         0.00\n",
       "Kurtosis:                      21.287   Cond. No.                     3.63e+03\n",
       "==============================================================================\n",
       "\n",
       "Notes:\n",
       "[1] Standard Errors assume that the covariance matrix of the errors is correctly specified.\n",
       "[2] The condition number is large, 3.63e+03. This might indicate that there are\n",
       "strong multicollinearity or other numerical problems.\n",
       "\"\"\""
      ]
     },
     "execution_count": 24,
     "metadata": {},
     "output_type": "execute_result"
    }
   ],
   "source": [
    "X = X_ff.drop(columns = ['delta_run_exp'])\n",
    "X = sm.add_constant(X)\n",
    "y = X_ff['delta_run_exp']\n",
    "\n",
    "ols_model_ff = sm.OLS(y, X)\n",
    "ols_model_ff = ols_model_ff.fit()\n",
    "pred_ff = ols_model_ff.predict(X)\n",
    "ols_model_ff.summary()"
   ]
  },
  {
   "cell_type": "code",
   "execution_count": 25,
   "id": "784beb67",
   "metadata": {},
   "outputs": [
    {
     "data": {
      "image/png": "[encoded data removed]",
      "text/plain": [
       "<Figure size 576x576 with 1 Axes>"
      ]
     },
     "metadata": {
      "needs_background": "light"
     },
     "output_type": "display_data"
    },
    {
     "name": "stdout",
     "output_type": "stream",
     "text": [
      "MSE: 0.0205\n",
      "RMSE: 0.1433\n",
      "MAE: 0.0869\n"
     ]
    }
   ],
   "source": [
    "plt.figure(figsize = (8, 8))\n",
    "\n",
    "plt.scatter(pred_ff, y, s = 20, c = 'b', marker = 'o')\n",
    "plt.plot(pred_ff, np.poly1d(np.polyfit(pred_ff, y, 1))(pred_ff), c = 'r')\n",
    "plt.xlabel('Predicted Values from - $\\hat{y}$', fontsize = 11), plt.ylabel('run_exp', fontsize = 11)\n",
    "plt.title('Predicted 4-Seam RE Values', fontsize = 14, fontweight = 'bold', pad = 15), plt.show();\n",
    "print('MSE:', round(metrics.mean_squared_error(y, pred_ff), 4))\n",
    "print('RMSE:', round(np.sqrt(metrics.mean_squared_error(y, pred_ff)), 4))\n",
    "print('MAE:', round(metrics.mean_absolute_error(y, pred_ff), 4))\n",
    "#print('Cross val score', round(cross_val_score(model, X, y).mean(), 4))"
   ]
  },
  {
   "cell_type": "markdown",
   "id": "f57a8c80",
   "metadata": {},
   "source": [
    "## Linear Regression - Cutter"
   ]
  },
  {
   "cell_type": "code",
   "execution_count": 26,
   "id": "cf3bfb81",
   "metadata": {},
   "outputs": [
    {
     "data": {
      "text/html": [
       "<table class=\"simpletable\">\n",
       "<caption>OLS Regression Results</caption>\n",
       "<tr>\n",
       "  <th>Dep. Variable:</th>      <td>delta_run_exp</td>  <th>  R-squared:         </th>  <td>   0.640</td> \n",
       "</tr>\n",
       "<tr>\n",
       "  <th>Model:</th>                   <td>OLS</td>       <th>  Adj. R-squared:    </th>  <td>   0.640</td> \n",
       "</tr>\n",
       "<tr>\n",
       "  <th>Method:</th>             <td>Least Squares</td>  <th>  F-statistic:       </th>  <td>   8427.</td> \n",
       "</tr>\n",
       "<tr>\n",
       "  <th>Date:</th>             <td>Sat, 26 Feb 2022</td> <th>  Prob (F-statistic):</th>   <td>  0.00</td>  \n",
       "</tr>\n",
       "<tr>\n",
       "  <th>Time:</th>                 <td>14:06:58</td>     <th>  Log-Likelihood:    </th>  <td>  22026.</td> \n",
       "</tr>\n",
       "<tr>\n",
       "  <th>No. Observations:</th>      <td> 47442</td>      <th>  AIC:               </th> <td>-4.403e+04</td>\n",
       "</tr>\n",
       "<tr>\n",
       "  <th>Df Residuals:</th>          <td> 47431</td>      <th>  BIC:               </th> <td>-4.393e+04</td>\n",
       "</tr>\n",
       "<tr>\n",
       "  <th>Df Model:</th>              <td>    10</td>      <th>                     </th>      <td> </td>    \n",
       "</tr>\n",
       "<tr>\n",
       "  <th>Covariance Type:</th>      <td>nonrobust</td>    <th>                     </th>      <td> </td>    \n",
       "</tr>\n",
       "</table>\n",
       "<table class=\"simpletable\">\n",
       "<tr>\n",
       "                 <td></td>                    <th>coef</th>     <th>std err</th>      <th>t</th>      <th>P>|t|</th>  <th>[0.025</th>    <th>0.975]</th>  \n",
       "</tr>\n",
       "<tr>\n",
       "  <th>const</th>                           <td>   -0.0292</td> <td>    0.020</td> <td>   -1.479</td> <td> 0.139</td> <td>   -0.068</td> <td>    0.009</td>\n",
       "</tr>\n",
       "<tr>\n",
       "  <th>velo</th>                            <td>-3.939e-05</td> <td>    0.000</td> <td>   -0.171</td> <td> 0.864</td> <td>   -0.000</td> <td>    0.000</td>\n",
       "</tr>\n",
       "<tr>\n",
       "  <th>pfx_-x</th>                          <td>   -0.0001</td> <td>    0.000</td> <td>   -0.797</td> <td> 0.426</td> <td>   -0.001</td> <td>    0.000</td>\n",
       "</tr>\n",
       "<tr>\n",
       "  <th>pfx_z</th>                           <td>-5.734e-05</td> <td>    0.000</td> <td>   -0.308</td> <td> 0.758</td> <td>   -0.000</td> <td>    0.000</td>\n",
       "</tr>\n",
       "<tr>\n",
       "  <th>woba_value</th>                      <td>    0.4444</td> <td>    0.006</td> <td>   70.763</td> <td> 0.000</td> <td>    0.432</td> <td>    0.457</td>\n",
       "</tr>\n",
       "<tr>\n",
       "  <th>babip_value</th>                     <td>   -0.1233</td> <td>    0.017</td> <td>   -7.383</td> <td> 0.000</td> <td>   -0.156</td> <td>   -0.091</td>\n",
       "</tr>\n",
       "<tr>\n",
       "  <th>iso_value</th>                       <td>    0.1091</td> <td>    0.006</td> <td>   17.835</td> <td> 0.000</td> <td>    0.097</td> <td>    0.121</td>\n",
       "</tr>\n",
       "<tr>\n",
       "  <th>estimated_ba_using_speedangle</th>   <td>   -0.5076</td> <td>    0.018</td> <td>  -27.639</td> <td> 0.000</td> <td>   -0.544</td> <td>   -0.472</td>\n",
       "</tr>\n",
       "<tr>\n",
       "  <th>estimated_woba_using_speedangle</th> <td>    0.1048</td> <td>    0.016</td> <td>    6.635</td> <td> 0.000</td> <td>    0.074</td> <td>    0.136</td>\n",
       "</tr>\n",
       "<tr>\n",
       "  <th>swing_miss</th>                      <td>   -0.0770</td> <td>    0.002</td> <td>  -34.232</td> <td> 0.000</td> <td>   -0.081</td> <td>   -0.073</td>\n",
       "</tr>\n",
       "<tr>\n",
       "  <th>label</th>                           <td>    0.4646</td> <td>    0.018</td> <td>   25.437</td> <td> 0.000</td> <td>    0.429</td> <td>    0.500</td>\n",
       "</tr>\n",
       "</table>\n",
       "<table class=\"simpletable\">\n",
       "<tr>\n",
       "  <th>Omnibus:</th>       <td>11266.125</td> <th>  Durbin-Watson:     </th>  <td>   2.059</td> \n",
       "</tr>\n",
       "<tr>\n",
       "  <th>Prob(Omnibus):</th>  <td> 0.000</td>   <th>  Jarque-Bera (JB):  </th> <td>470793.582</td>\n",
       "</tr>\n",
       "<tr>\n",
       "  <th>Skew:</th>           <td> 0.363</td>   <th>  Prob(JB):          </th>  <td>    0.00</td> \n",
       "</tr>\n",
       "<tr>\n",
       "  <th>Kurtosis:</th>       <td>18.416</td>   <th>  Cond. No.          </th>  <td>3.50e+03</td> \n",
       "</tr>\n",
       "</table><br/><br/>Notes:<br/>[1] Standard Errors assume that the covariance matrix of the errors is correctly specified.<br/>[2] The condition number is large, 3.5e+03. This might indicate that there are<br/>strong multicollinearity or other numerical problems."
      ],
      "text/plain": [
       "<class 'statsmodels.iolib.summary.Summary'>\n",
       "\"\"\"\n",
       "                            OLS Regression Results                            \n",
       "==============================================================================\n",
       "Dep. Variable:          delta_run_exp   R-squared:                       0.640\n",
       "Model:                            OLS   Adj. R-squared:                  0.640\n",
       "Method:                 Least Squares   F-statistic:                     8427.\n",
       "Date:                Sat, 26 Feb 2022   Prob (F-statistic):               0.00\n",
       "Time:                        14:06:58   Log-Likelihood:                 22026.\n",
       "No. Observations:               47442   AIC:                        -4.403e+04\n",
       "Df Residuals:                   47431   BIC:                        -4.393e+04\n",
       "Df Model:                          10                                         \n",
       "Covariance Type:            nonrobust                                         \n",
       "===================================================================================================\n",
       "                                      coef    std err          t      P>|t|      [0.025      0.975]\n",
       "---------------------------------------------------------------------------------------------------\n",
       "const                              -0.0292      0.020     -1.479      0.139      -0.068       0.009\n",
       "velo                            -3.939e-05      0.000     -0.171      0.864      -0.000       0.000\n",
       "pfx_-x                             -0.0001      0.000     -0.797      0.426      -0.001       0.000\n",
       "pfx_z                           -5.734e-05      0.000     -0.308      0.758      -0.000       0.000\n",
       "woba_value                          0.4444      0.006     70.763      0.000       0.432       0.457\n",
       "babip_value                        -0.1233      0.017     -7.383      0.000      -0.156      -0.091\n",
       "iso_value                           0.1091      0.006     17.835      0.000       0.097       0.121\n",
       "estimated_ba_using_speedangle      -0.5076      0.018    -27.639      0.000      -0.544      -0.472\n",
       "estimated_woba_using_speedangle     0.1048      0.016      6.635      0.000       0.074       0.136\n",
       "swing_miss                         -0.0770      0.002    -34.232      0.000      -0.081      -0.073\n",
       "label                               0.4646      0.018     25.437      0.000       0.429       0.500\n",
       "==============================================================================\n",
       "Omnibus:                    11266.125   Durbin-Watson:                   2.059\n",
       "Prob(Omnibus):                  0.000   Jarque-Bera (JB):           470793.582\n",
       "Skew:                           0.363   Prob(JB):                         0.00\n",
       "Kurtosis:                      18.416   Cond. No.                     3.50e+03\n",
       "==============================================================================\n",
       "\n",
       "Notes:\n",
       "[1] Standard Errors assume that the covariance matrix of the errors is correctly specified.\n",
       "[2] The condition number is large, 3.5e+03. This might indicate that there are\n",
       "strong multicollinearity or other numerical problems.\n",
       "\"\"\""
      ]
     },
     "execution_count": 26,
     "metadata": {},
     "output_type": "execute_result"
    }
   ],
   "source": [
    "X = X_fc.drop(columns = ['delta_run_exp'])\n",
    "X = sm.add_constant(X)\n",
    "y = X_fc['delta_run_exp']\n",
    "\n",
    "ols_model_fc = sm.OLS(y, X)\n",
    "ols_model_fc = ols_model_fc.fit()\n",
    "pred_fc = ols_model_fc.predict(X)\n",
    "ols_model_fc.summary()"
   ]
  },
  {
   "cell_type": "code",
   "execution_count": 27,
   "id": "28d5fdae",
   "metadata": {},
   "outputs": [
    {
     "data": {
      "image/png": "[encoded data removed]",
      "text/plain": [
       "<Figure size 576x576 with 1 Axes>"
      ]
     },
     "metadata": {
      "needs_background": "light"
     },
     "output_type": "display_data"
    },
    {
     "name": "stdout",
     "output_type": "stream",
     "text": [
      "MSE: 0.0231\n",
      "RMSE: 0.1521\n",
      "MAE: 0.093\n"
     ]
    }
   ],
   "source": [
    "plt.figure(figsize = (8, 8))\n",
    "\n",
    "plt.scatter(pred_fc, y, s = 20, c = 'b', marker = 'o')\n",
    "plt.plot(pred_fc, np.poly1d(np.polyfit(pred_fc, y, 1))(pred_fc), c = 'r')\n",
    "plt.xlabel('Predicted Values from - $\\hat{y}$', fontsize = 11), plt.ylabel('run_exp', fontsize = 11)\n",
    "plt.title('Predicted Cutter RE Values', fontsize = 14, fontweight = 'bold', pad = 15), plt.show();\n",
    "print('MSE:', round(metrics.mean_squared_error(y, pred_fc), 4))\n",
    "print('RMSE:', round(np.sqrt(metrics.mean_squared_error(y, pred_fc)), 4))\n",
    "print('MAE:', round(metrics.mean_absolute_error(y, pred_fc), 4))"
   ]
  },
  {
   "cell_type": "markdown",
   "id": "b540feab",
   "metadata": {},
   "source": [
    "## Linear Regression - Sinker"
   ]
  },
  {
   "cell_type": "code",
   "execution_count": 28,
   "id": "b09d5d0d",
   "metadata": {},
   "outputs": [
    {
     "data": {
      "text/html": [
       "<table class=\"simpletable\">\n",
       "<caption>OLS Regression Results</caption>\n",
       "<tr>\n",
       "  <th>Dep. Variable:</th>      <td>delta_run_exp</td>  <th>  R-squared:         </th>  <td>   0.630</td> \n",
       "</tr>\n",
       "<tr>\n",
       "  <th>Model:</th>                   <td>OLS</td>       <th>  Adj. R-squared:    </th>  <td>   0.630</td> \n",
       "</tr>\n",
       "<tr>\n",
       "  <th>Method:</th>             <td>Least Squares</td>  <th>  F-statistic:       </th>  <td>1.855e+04</td>\n",
       "</tr>\n",
       "<tr>\n",
       "  <th>Date:</th>             <td>Sat, 26 Feb 2022</td> <th>  Prob (F-statistic):</th>   <td>  0.00</td>  \n",
       "</tr>\n",
       "<tr>\n",
       "  <th>Time:</th>                 <td>14:06:59</td>     <th>  Log-Likelihood:    </th>  <td>  49105.</td> \n",
       "</tr>\n",
       "<tr>\n",
       "  <th>No. Observations:</th>      <td>109145</td>      <th>  AIC:               </th> <td>-9.819e+04</td>\n",
       "</tr>\n",
       "<tr>\n",
       "  <th>Df Residuals:</th>          <td>109134</td>      <th>  BIC:               </th> <td>-9.808e+04</td>\n",
       "</tr>\n",
       "<tr>\n",
       "  <th>Df Model:</th>              <td>    10</td>      <th>                     </th>      <td> </td>    \n",
       "</tr>\n",
       "<tr>\n",
       "  <th>Covariance Type:</th>      <td>nonrobust</td>    <th>                     </th>      <td> </td>    \n",
       "</tr>\n",
       "</table>\n",
       "<table class=\"simpletable\">\n",
       "<tr>\n",
       "                 <td></td>                    <th>coef</th>     <th>std err</th>      <th>t</th>      <th>P>|t|</th>  <th>[0.025</th>    <th>0.975]</th>  \n",
       "</tr>\n",
       "<tr>\n",
       "  <th>const</th>                           <td>   -0.0231</td> <td>    0.015</td> <td>   -1.531</td> <td> 0.126</td> <td>   -0.053</td> <td>    0.006</td>\n",
       "</tr>\n",
       "<tr>\n",
       "  <th>velo</th>                            <td>   -0.0002</td> <td>    0.000</td> <td>   -1.186</td> <td> 0.236</td> <td>   -0.001</td> <td>    0.000</td>\n",
       "</tr>\n",
       "<tr>\n",
       "  <th>pfx_-x</th>                          <td>-2.305e-05</td> <td> 3.41e-05</td> <td>   -0.676</td> <td> 0.499</td> <td>-8.99e-05</td> <td> 4.38e-05</td>\n",
       "</tr>\n",
       "<tr>\n",
       "  <th>pfx_z</th>                           <td>    0.0004</td> <td>    0.000</td> <td>    4.098</td> <td> 0.000</td> <td>    0.000</td> <td>    0.001</td>\n",
       "</tr>\n",
       "<tr>\n",
       "  <th>woba_value</th>                      <td>    0.4303</td> <td>    0.004</td> <td>  117.735</td> <td> 0.000</td> <td>    0.423</td> <td>    0.437</td>\n",
       "</tr>\n",
       "<tr>\n",
       "  <th>babip_value</th>                     <td>   -0.0436</td> <td>    0.011</td> <td>   -4.135</td> <td> 0.000</td> <td>   -0.064</td> <td>   -0.023</td>\n",
       "</tr>\n",
       "<tr>\n",
       "  <th>iso_value</th>                       <td>    0.1615</td> <td>    0.004</td> <td>   42.079</td> <td> 0.000</td> <td>    0.154</td> <td>    0.169</td>\n",
       "</tr>\n",
       "<tr>\n",
       "  <th>estimated_ba_using_speedangle</th>   <td>   -0.4443</td> <td>    0.012</td> <td>  -35.865</td> <td> 0.000</td> <td>   -0.469</td> <td>   -0.420</td>\n",
       "</tr>\n",
       "<tr>\n",
       "  <th>estimated_woba_using_speedangle</th> <td>    0.0040</td> <td>    0.011</td> <td>    0.364</td> <td> 0.716</td> <td>   -0.018</td> <td>    0.026</td>\n",
       "</tr>\n",
       "<tr>\n",
       "  <th>swing_miss</th>                      <td>   -0.0738</td> <td>    0.002</td> <td>  -37.960</td> <td> 0.000</td> <td>   -0.078</td> <td>   -0.070</td>\n",
       "</tr>\n",
       "<tr>\n",
       "  <th>label</th>                           <td>    0.3983</td> <td>    0.011</td> <td>   35.077</td> <td> 0.000</td> <td>    0.376</td> <td>    0.421</td>\n",
       "</tr>\n",
       "</table>\n",
       "<table class=\"simpletable\">\n",
       "<tr>\n",
       "  <th>Omnibus:</th>       <td>22631.331</td> <th>  Durbin-Watson:     </th>  <td>   2.068</td> \n",
       "</tr>\n",
       "<tr>\n",
       "  <th>Prob(Omnibus):</th>  <td> 0.000</td>   <th>  Jarque-Bera (JB):  </th> <td>793438.067</td>\n",
       "</tr>\n",
       "<tr>\n",
       "  <th>Skew:</th>           <td> 0.196</td>   <th>  Prob(JB):          </th>  <td>    0.00</td> \n",
       "</tr>\n",
       "<tr>\n",
       "  <th>Kurtosis:</th>       <td>16.203</td>   <th>  Cond. No.          </th>  <td>3.66e+03</td> \n",
       "</tr>\n",
       "</table><br/><br/>Notes:<br/>[1] Standard Errors assume that the covariance matrix of the errors is correctly specified.<br/>[2] The condition number is large, 3.66e+03. This might indicate that there are<br/>strong multicollinearity or other numerical problems."
      ],
      "text/plain": [
       "<class 'statsmodels.iolib.summary.Summary'>\n",
       "\"\"\"\n",
       "                            OLS Regression Results                            \n",
       "==============================================================================\n",
       "Dep. Variable:          delta_run_exp   R-squared:                       0.630\n",
       "Model:                            OLS   Adj. R-squared:                  0.630\n",
       "Method:                 Least Squares   F-statistic:                 1.855e+04\n",
       "Date:                Sat, 26 Feb 2022   Prob (F-statistic):               0.00\n",
       "Time:                        14:06:59   Log-Likelihood:                 49105.\n",
       "No. Observations:              109145   AIC:                        -9.819e+04\n",
       "Df Residuals:                  109134   BIC:                        -9.808e+04\n",
       "Df Model:                          10                                         \n",
       "Covariance Type:            nonrobust                                         \n",
       "===================================================================================================\n",
       "                                      coef    std err          t      P>|t|      [0.025      0.975]\n",
       "---------------------------------------------------------------------------------------------------\n",
       "const                              -0.0231      0.015     -1.531      0.126      -0.053       0.006\n",
       "velo                               -0.0002      0.000     -1.186      0.236      -0.001       0.000\n",
       "pfx_-x                          -2.305e-05   3.41e-05     -0.676      0.499   -8.99e-05    4.38e-05\n",
       "pfx_z                               0.0004      0.000      4.098      0.000       0.000       0.001\n",
       "woba_value                          0.4303      0.004    117.735      0.000       0.423       0.437\n",
       "babip_value                        -0.0436      0.011     -4.135      0.000      -0.064      -0.023\n",
       "iso_value                           0.1615      0.004     42.079      0.000       0.154       0.169\n",
       "estimated_ba_using_speedangle      -0.4443      0.012    -35.865      0.000      -0.469      -0.420\n",
       "estimated_woba_using_speedangle     0.0040      0.011      0.364      0.716      -0.018       0.026\n",
       "swing_miss                         -0.0738      0.002    -37.960      0.000      -0.078      -0.070\n",
       "label                               0.3983      0.011     35.077      0.000       0.376       0.421\n",
       "==============================================================================\n",
       "Omnibus:                    22631.331   Durbin-Watson:                   2.068\n",
       "Prob(Omnibus):                  0.000   Jarque-Bera (JB):           793438.067\n",
       "Skew:                           0.196   Prob(JB):                         0.00\n",
       "Kurtosis:                      16.203   Cond. No.                     3.66e+03\n",
       "==============================================================================\n",
       "\n",
       "Notes:\n",
       "[1] Standard Errors assume that the covariance matrix of the errors is correctly specified.\n",
       "[2] The condition number is large, 3.66e+03. This might indicate that there are\n",
       "strong multicollinearity or other numerical problems.\n",
       "\"\"\""
      ]
     },
     "execution_count": 28,
     "metadata": {},
     "output_type": "execute_result"
    }
   ],
   "source": [
    "X = X_si.drop(columns = ['delta_run_exp'])\n",
    "X = sm.add_constant(X)\n",
    "y = X_si['delta_run_exp']\n",
    "\n",
    "ols_model_si = sm.OLS(y, X)\n",
    "ols_model_si = ols_model_si.fit()\n",
    "pred_si = ols_model_si.predict(X)\n",
    "ols_model_si.summary()"
   ]
  },
  {
   "cell_type": "code",
   "execution_count": 29,
   "id": "adb8de73",
   "metadata": {},
   "outputs": [
    {
     "data": {
      "image/png": "[encoded data removed]",
      "text/plain": [
       "<Figure size 576x576 with 1 Axes>"
      ]
     },
     "metadata": {
      "needs_background": "light"
     },
     "output_type": "display_data"
    },
    {
     "name": "stdout",
     "output_type": "stream",
     "text": [
      "MSE: 0.0238\n",
      "RMSE: 0.1543\n",
      "MAE: 0.0951\n"
     ]
    }
   ],
   "source": [
    "plt.figure(figsize = (8, 8))\n",
    "\n",
    "plt.scatter(pred_si, y, s = 20, c = 'b', marker = 'o')\n",
    "plt.plot(pred_si, np.poly1d(np.polyfit(pred_si, y, 1))(pred_si), c = 'r')\n",
    "plt.xlabel('Predicted Values from - $\\hat{y}$', fontsize = 11), plt.ylabel('run_exp', fontsize = 11)\n",
    "plt.title('Predicted Sinker RE Values', fontsize = 14, fontweight = 'bold', pad = 15), plt.show();\n",
    "print('MSE:', round(metrics.mean_squared_error(y, pred_si), 4))\n",
    "print('RMSE:', round(np.sqrt(metrics.mean_squared_error(y, pred_si)), 4))\n",
    "print('MAE:', round(metrics.mean_absolute_error(y, pred_si), 4))"
   ]
  },
  {
   "cell_type": "markdown",
   "id": "9ccade27",
   "metadata": {},
   "source": [
    "## Linear Regression - Slider"
   ]
  },
  {
   "cell_type": "code",
   "execution_count": 30,
   "id": "16411d95",
   "metadata": {},
   "outputs": [
    {
     "data": {
      "text/html": [
       "<table class=\"simpletable\">\n",
       "<caption>OLS Regression Results</caption>\n",
       "<tr>\n",
       "  <th>Dep. Variable:</th>      <td>delta_run_exp</td>  <th>  R-squared:         </th>  <td>   0.646</td> \n",
       "</tr>\n",
       "<tr>\n",
       "  <th>Model:</th>                   <td>OLS</td>       <th>  Adj. R-squared:    </th>  <td>   0.646</td> \n",
       "</tr>\n",
       "<tr>\n",
       "  <th>Method:</th>             <td>Least Squares</td>  <th>  F-statistic:       </th>  <td>2.478e+04</td>\n",
       "</tr>\n",
       "<tr>\n",
       "  <th>Date:</th>             <td>Sat, 26 Feb 2022</td> <th>  Prob (F-statistic):</th>   <td>  0.00</td>  \n",
       "</tr>\n",
       "<tr>\n",
       "  <th>Time:</th>                 <td>14:06:59</td>     <th>  Log-Likelihood:    </th>  <td>  67549.</td> \n",
       "</tr>\n",
       "<tr>\n",
       "  <th>No. Observations:</th>      <td>135539</td>      <th>  AIC:               </th> <td>-1.351e+05</td>\n",
       "</tr>\n",
       "<tr>\n",
       "  <th>Df Residuals:</th>          <td>135528</td>      <th>  BIC:               </th> <td>-1.350e+05</td>\n",
       "</tr>\n",
       "<tr>\n",
       "  <th>Df Model:</th>              <td>    10</td>      <th>                     </th>      <td> </td>    \n",
       "</tr>\n",
       "<tr>\n",
       "  <th>Covariance Type:</th>      <td>nonrobust</td>    <th>                     </th>      <td> </td>    \n",
       "</tr>\n",
       "</table>\n",
       "<table class=\"simpletable\">\n",
       "<tr>\n",
       "                 <td></td>                    <th>coef</th>     <th>std err</th>      <th>t</th>      <th>P>|t|</th>  <th>[0.025</th>    <th>0.975]</th>  \n",
       "</tr>\n",
       "<tr>\n",
       "  <th>const</th>                           <td>   -0.0370</td> <td>    0.010</td> <td>   -3.736</td> <td> 0.000</td> <td>   -0.056</td> <td>   -0.018</td>\n",
       "</tr>\n",
       "<tr>\n",
       "  <th>velo</th>                            <td>    0.0002</td> <td>    0.000</td> <td>    1.402</td> <td> 0.161</td> <td>-6.53e-05</td> <td>    0.000</td>\n",
       "</tr>\n",
       "<tr>\n",
       "  <th>pfx_-x</th>                          <td>    0.0001</td> <td> 5.42e-05</td> <td>    2.279</td> <td> 0.023</td> <td> 1.73e-05</td> <td>    0.000</td>\n",
       "</tr>\n",
       "<tr>\n",
       "  <th>pfx_z</th>                           <td>   -0.0004</td> <td> 9.19e-05</td> <td>   -4.409</td> <td> 0.000</td> <td>   -0.001</td> <td>   -0.000</td>\n",
       "</tr>\n",
       "<tr>\n",
       "  <th>woba_value</th>                      <td>    0.4670</td> <td>    0.004</td> <td>  122.181</td> <td> 0.000</td> <td>    0.460</td> <td>    0.475</td>\n",
       "</tr>\n",
       "<tr>\n",
       "  <th>babip_value</th>                     <td>   -0.0004</td> <td>    0.010</td> <td>   -0.044</td> <td> 0.965</td> <td>   -0.020</td> <td>    0.019</td>\n",
       "</tr>\n",
       "<tr>\n",
       "  <th>iso_value</th>                       <td>    0.1477</td> <td>    0.004</td> <td>   40.261</td> <td> 0.000</td> <td>    0.140</td> <td>    0.155</td>\n",
       "</tr>\n",
       "<tr>\n",
       "  <th>estimated_ba_using_speedangle</th>   <td>   -0.4171</td> <td>    0.011</td> <td>  -37.058</td> <td> 0.000</td> <td>   -0.439</td> <td>   -0.395</td>\n",
       "</tr>\n",
       "<tr>\n",
       "  <th>estimated_woba_using_speedangle</th> <td>    0.0366</td> <td>    0.010</td> <td>    3.810</td> <td> 0.000</td> <td>    0.018</td> <td>    0.055</td>\n",
       "</tr>\n",
       "<tr>\n",
       "  <th>swing_miss</th>                      <td>   -0.0994</td> <td>    0.001</td> <td>  -90.590</td> <td> 0.000</td> <td>   -0.102</td> <td>   -0.097</td>\n",
       "</tr>\n",
       "<tr>\n",
       "  <th>label</th>                           <td>    0.3254</td> <td>    0.011</td> <td>   29.836</td> <td> 0.000</td> <td>    0.304</td> <td>    0.347</td>\n",
       "</tr>\n",
       "</table>\n",
       "<table class=\"simpletable\">\n",
       "<tr>\n",
       "  <th>Omnibus:</th>       <td>35184.399</td> <th>  Durbin-Watson:     </th>  <td>   2.040</td>  \n",
       "</tr>\n",
       "<tr>\n",
       "  <th>Prob(Omnibus):</th>  <td> 0.000</td>   <th>  Jarque-Bera (JB):  </th> <td>1630661.561</td>\n",
       "</tr>\n",
       "<tr>\n",
       "  <th>Skew:</th>           <td> 0.470</td>   <th>  Prob(JB):          </th>  <td>    0.00</td>  \n",
       "</tr>\n",
       "<tr>\n",
       "  <th>Kurtosis:</th>       <td>19.966</td>   <th>  Cond. No.          </th>  <td>3.52e+03</td>  \n",
       "</tr>\n",
       "</table><br/><br/>Notes:<br/>[1] Standard Errors assume that the covariance matrix of the errors is correctly specified.<br/>[2] The condition number is large, 3.52e+03. This might indicate that there are<br/>strong multicollinearity or other numerical problems."
      ],
      "text/plain": [
       "<class 'statsmodels.iolib.summary.Summary'>\n",
       "\"\"\"\n",
       "                            OLS Regression Results                            \n",
       "==============================================================================\n",
       "Dep. Variable:          delta_run_exp   R-squared:                       0.646\n",
       "Model:                            OLS   Adj. R-squared:                  0.646\n",
       "Method:                 Least Squares   F-statistic:                 2.478e+04\n",
       "Date:                Sat, 26 Feb 2022   Prob (F-statistic):               0.00\n",
       "Time:                        14:06:59   Log-Likelihood:                 67549.\n",
       "No. Observations:              135539   AIC:                        -1.351e+05\n",
       "Df Residuals:                  135528   BIC:                        -1.350e+05\n",
       "Df Model:                          10                                         \n",
       "Covariance Type:            nonrobust                                         \n",
       "===================================================================================================\n",
       "                                      coef    std err          t      P>|t|      [0.025      0.975]\n",
       "---------------------------------------------------------------------------------------------------\n",
       "const                              -0.0370      0.010     -3.736      0.000      -0.056      -0.018\n",
       "velo                                0.0002      0.000      1.402      0.161   -6.53e-05       0.000\n",
       "pfx_-x                              0.0001   5.42e-05      2.279      0.023    1.73e-05       0.000\n",
       "pfx_z                              -0.0004   9.19e-05     -4.409      0.000      -0.001      -0.000\n",
       "woba_value                          0.4670      0.004    122.181      0.000       0.460       0.475\n",
       "babip_value                        -0.0004      0.010     -0.044      0.965      -0.020       0.019\n",
       "iso_value                           0.1477      0.004     40.261      0.000       0.140       0.155\n",
       "estimated_ba_using_speedangle      -0.4171      0.011    -37.058      0.000      -0.439      -0.395\n",
       "estimated_woba_using_speedangle     0.0366      0.010      3.810      0.000       0.018       0.055\n",
       "swing_miss                         -0.0994      0.001    -90.590      0.000      -0.102      -0.097\n",
       "label                               0.3254      0.011     29.836      0.000       0.304       0.347\n",
       "==============================================================================\n",
       "Omnibus:                    35184.399   Durbin-Watson:                   2.040\n",
       "Prob(Omnibus):                  0.000   Jarque-Bera (JB):          1630661.561\n",
       "Skew:                           0.470   Prob(JB):                         0.00\n",
       "Kurtosis:                      19.966   Cond. No.                     3.52e+03\n",
       "==============================================================================\n",
       "\n",
       "Notes:\n",
       "[1] Standard Errors assume that the covariance matrix of the errors is correctly specified.\n",
       "[2] The condition number is large, 3.52e+03. This might indicate that there are\n",
       "strong multicollinearity or other numerical problems.\n",
       "\"\"\""
      ]
     },
     "execution_count": 30,
     "metadata": {},
     "output_type": "execute_result"
    }
   ],
   "source": [
    "X = X_sl.drop(columns = ['delta_run_exp'])\n",
    "X = sm.add_constant(X)\n",
    "y = X_sl['delta_run_exp']\n",
    "\n",
    "ols_model_sl = sm.OLS(y, X)\n",
    "ols_model_sl = ols_model_sl.fit()\n",
    "pred_sl = ols_model_sl.predict(X)\n",
    "ols_model_sl.summary()"
   ]
  },
  {
   "cell_type": "code",
   "execution_count": 31,
   "id": "1cb2e2f5",
   "metadata": {},
   "outputs": [
    {
     "data": {
      "image/png": "[encoded data removed]",
      "text/plain": [
       "<Figure size 576x576 with 1 Axes>"
      ]
     },
     "metadata": {
      "needs_background": "light"
     },
     "output_type": "display_data"
    },
    {
     "name": "stdout",
     "output_type": "stream",
     "text": [
      "MSE: 0.0216\n",
      "RMSE: 0.147\n",
      "MAE: 0.0905\n"
     ]
    }
   ],
   "source": [
    "plt.figure(figsize = (8, 8))\n",
    "\n",
    "plt.scatter(pred_sl, y, s = 20, c = 'b', marker = 'o')\n",
    "plt.plot(pred_sl, np.poly1d(np.polyfit(pred_sl, y, 1))(pred_sl), c = 'r')\n",
    "plt.xlabel('Predicted Values from - $\\hat{y}$', fontsize = 11), plt.ylabel('run_exp', fontsize = 11)\n",
    "plt.title('Predicted Slider RE Values', fontsize = 14, fontweight = 'bold', pad = 15), plt.show();\n",
    "print('MSE:', round(metrics.mean_squared_error(y, pred_sl), 4))\n",
    "print('RMSE:', round(np.sqrt(metrics.mean_squared_error(y, pred_sl)), 4))\n",
    "print('MAE:', round(metrics.mean_absolute_error(y, pred_sl), 4))"
   ]
  },
  {
   "cell_type": "markdown",
   "id": "3bc74d5a",
   "metadata": {},
   "source": [
    "## Linear Regression - Curveball"
   ]
  },
  {
   "cell_type": "code",
   "execution_count": 32,
   "id": "e500468d",
   "metadata": {},
   "outputs": [
    {
     "data": {
      "text/html": [
       "<table class=\"simpletable\">\n",
       "<caption>OLS Regression Results</caption>\n",
       "<tr>\n",
       "  <th>Dep. Variable:</th>      <td>delta_run_exp</td>  <th>  R-squared:         </th>  <td>   0.656</td> \n",
       "</tr>\n",
       "<tr>\n",
       "  <th>Model:</th>                   <td>OLS</td>       <th>  Adj. R-squared:    </th>  <td>   0.656</td> \n",
       "</tr>\n",
       "<tr>\n",
       "  <th>Method:</th>             <td>Least Squares</td>  <th>  F-statistic:       </th>  <td>1.119e+04</td>\n",
       "</tr>\n",
       "<tr>\n",
       "  <th>Date:</th>             <td>Sat, 26 Feb 2022</td> <th>  Prob (F-statistic):</th>   <td>  0.00</td>  \n",
       "</tr>\n",
       "<tr>\n",
       "  <th>Time:</th>                 <td>14:06:59</td>     <th>  Log-Likelihood:    </th>  <td>  36076.</td> \n",
       "</tr>\n",
       "<tr>\n",
       "  <th>No. Observations:</th>      <td> 58767</td>      <th>  AIC:               </th> <td>-7.213e+04</td>\n",
       "</tr>\n",
       "<tr>\n",
       "  <th>Df Residuals:</th>          <td> 58756</td>      <th>  BIC:               </th> <td>-7.203e+04</td>\n",
       "</tr>\n",
       "<tr>\n",
       "  <th>Df Model:</th>              <td>    10</td>      <th>                     </th>      <td> </td>    \n",
       "</tr>\n",
       "<tr>\n",
       "  <th>Covariance Type:</th>      <td>nonrobust</td>    <th>                     </th>      <td> </td>    \n",
       "</tr>\n",
       "</table>\n",
       "<table class=\"simpletable\">\n",
       "<tr>\n",
       "                 <td></td>                    <th>coef</th>     <th>std err</th>      <th>t</th>      <th>P>|t|</th>  <th>[0.025</th>    <th>0.975]</th>  \n",
       "</tr>\n",
       "<tr>\n",
       "  <th>const</th>                           <td>   -0.0462</td> <td>    0.012</td> <td>   -3.951</td> <td> 0.000</td> <td>   -0.069</td> <td>   -0.023</td>\n",
       "</tr>\n",
       "<tr>\n",
       "  <th>velo</th>                            <td>    0.0003</td> <td>    0.000</td> <td>    2.277</td> <td> 0.023</td> <td> 4.62e-05</td> <td>    0.001</td>\n",
       "</tr>\n",
       "<tr>\n",
       "  <th>pfx_-x</th>                          <td>  7.67e-05</td> <td> 5.49e-05</td> <td>    1.396</td> <td> 0.163</td> <td> -3.1e-05</td> <td>    0.000</td>\n",
       "</tr>\n",
       "<tr>\n",
       "  <th>pfx_z</th>                           <td>   -0.0004</td> <td> 9.61e-05</td> <td>   -4.032</td> <td> 0.000</td> <td>   -0.001</td> <td>   -0.000</td>\n",
       "</tr>\n",
       "<tr>\n",
       "  <th>woba_value</th>                      <td>    0.4694</td> <td>    0.006</td> <td>   79.965</td> <td> 0.000</td> <td>    0.458</td> <td>    0.481</td>\n",
       "</tr>\n",
       "<tr>\n",
       "  <th>babip_value</th>                     <td>   -0.0089</td> <td>    0.014</td> <td>   -0.641</td> <td> 0.521</td> <td>   -0.036</td> <td>    0.018</td>\n",
       "</tr>\n",
       "<tr>\n",
       "  <th>iso_value</th>                       <td>    0.1334</td> <td>    0.005</td> <td>   25.874</td> <td> 0.000</td> <td>    0.123</td> <td>    0.143</td>\n",
       "</tr>\n",
       "<tr>\n",
       "  <th>estimated_ba_using_speedangle</th>   <td>   -0.4429</td> <td>    0.016</td> <td>  -27.478</td> <td> 0.000</td> <td>   -0.474</td> <td>   -0.411</td>\n",
       "</tr>\n",
       "<tr>\n",
       "  <th>estimated_woba_using_speedangle</th> <td>    0.0560</td> <td>    0.014</td> <td>    3.947</td> <td> 0.000</td> <td>    0.028</td> <td>    0.084</td>\n",
       "</tr>\n",
       "<tr>\n",
       "  <th>swing_miss</th>                      <td>   -0.1052</td> <td>    0.002</td> <td>  -63.797</td> <td> 0.000</td> <td>   -0.108</td> <td>   -0.102</td>\n",
       "</tr>\n",
       "<tr>\n",
       "  <th>label</th>                           <td>    0.3243</td> <td>    0.015</td> <td>   21.044</td> <td> 0.000</td> <td>    0.294</td> <td>    0.354</td>\n",
       "</tr>\n",
       "</table>\n",
       "<table class=\"simpletable\">\n",
       "<tr>\n",
       "  <th>Omnibus:</th>       <td>19710.411</td> <th>  Durbin-Watson:     </th>  <td>   2.011</td>  \n",
       "</tr>\n",
       "<tr>\n",
       "  <th>Prob(Omnibus):</th>  <td> 0.000</td>   <th>  Jarque-Bera (JB):  </th> <td>1247536.271</td>\n",
       "</tr>\n",
       "<tr>\n",
       "  <th>Skew:</th>           <td> 0.783</td>   <th>  Prob(JB):          </th>  <td>    0.00</td>  \n",
       "</tr>\n",
       "<tr>\n",
       "  <th>Kurtosis:</th>       <td>25.517</td>   <th>  Cond. No.          </th>  <td>3.52e+03</td>  \n",
       "</tr>\n",
       "</table><br/><br/>Notes:<br/>[1] Standard Errors assume that the covariance matrix of the errors is correctly specified.<br/>[2] The condition number is large, 3.52e+03. This might indicate that there are<br/>strong multicollinearity or other numerical problems."
      ],
      "text/plain": [
       "<class 'statsmodels.iolib.summary.Summary'>\n",
       "\"\"\"\n",
       "                            OLS Regression Results                            \n",
       "==============================================================================\n",
       "Dep. Variable:          delta_run_exp   R-squared:                       0.656\n",
       "Model:                            OLS   Adj. R-squared:                  0.656\n",
       "Method:                 Least Squares   F-statistic:                 1.119e+04\n",
       "Date:                Sat, 26 Feb 2022   Prob (F-statistic):               0.00\n",
       "Time:                        14:06:59   Log-Likelihood:                 36076.\n",
       "No. Observations:               58767   AIC:                        -7.213e+04\n",
       "Df Residuals:                   58756   BIC:                        -7.203e+04\n",
       "Df Model:                          10                                         \n",
       "Covariance Type:            nonrobust                                         \n",
       "===================================================================================================\n",
       "                                      coef    std err          t      P>|t|      [0.025      0.975]\n",
       "---------------------------------------------------------------------------------------------------\n",
       "const                              -0.0462      0.012     -3.951      0.000      -0.069      -0.023\n",
       "velo                                0.0003      0.000      2.277      0.023    4.62e-05       0.001\n",
       "pfx_-x                            7.67e-05   5.49e-05      1.396      0.163    -3.1e-05       0.000\n",
       "pfx_z                              -0.0004   9.61e-05     -4.032      0.000      -0.001      -0.000\n",
       "woba_value                          0.4694      0.006     79.965      0.000       0.458       0.481\n",
       "babip_value                        -0.0089      0.014     -0.641      0.521      -0.036       0.018\n",
       "iso_value                           0.1334      0.005     25.874      0.000       0.123       0.143\n",
       "estimated_ba_using_speedangle      -0.4429      0.016    -27.478      0.000      -0.474      -0.411\n",
       "estimated_woba_using_speedangle     0.0560      0.014      3.947      0.000       0.028       0.084\n",
       "swing_miss                         -0.1052      0.002    -63.797      0.000      -0.108      -0.102\n",
       "label                               0.3243      0.015     21.044      0.000       0.294       0.354\n",
       "==============================================================================\n",
       "Omnibus:                    19710.411   Durbin-Watson:                   2.011\n",
       "Prob(Omnibus):                  0.000   Jarque-Bera (JB):          1247536.271\n",
       "Skew:                           0.783   Prob(JB):                         0.00\n",
       "Kurtosis:                      25.517   Cond. No.                     3.52e+03\n",
       "==============================================================================\n",
       "\n",
       "Notes:\n",
       "[1] Standard Errors assume that the covariance matrix of the errors is correctly specified.\n",
       "[2] The condition number is large, 3.52e+03. This might indicate that there are\n",
       "strong multicollinearity or other numerical problems.\n",
       "\"\"\""
      ]
     },
     "execution_count": 32,
     "metadata": {},
     "output_type": "execute_result"
    }
   ],
   "source": [
    "X = X_cu.drop(columns = ['delta_run_exp'])\n",
    "X = sm.add_constant(X)\n",
    "y = X_cu['delta_run_exp']\n",
    "\n",
    "ols_model_cu = sm.OLS(y, X)\n",
    "ols_model_cu = ols_model_cu.fit()\n",
    "pred_cu = ols_model_cu.predict(X)\n",
    "ols_model_cu.summary()"
   ]
  },
  {
   "cell_type": "code",
   "execution_count": 33,
   "id": "ad6462d0",
   "metadata": {},
   "outputs": [
    {
     "data": {
      "image/png": "[encoded data removed]",
      "text/plain": [
       "<Figure size 576x576 with 1 Axes>"
      ]
     },
     "metadata": {
      "needs_background": "light"
     },
     "output_type": "display_data"
    },
    {
     "name": "stdout",
     "output_type": "stream",
     "text": [
      "MSE: 0.0172\n",
      "RMSE: 0.131\n",
      "MAE: 0.0787\n"
     ]
    }
   ],
   "source": [
    "plt.figure(figsize = (8, 8))\n",
    "\n",
    "plt.scatter(pred_cu, y, s = 20, c = 'b', marker = 'o')\n",
    "plt.plot(pred_cu, np.poly1d(np.polyfit(pred_cu, y, 1))(pred_cu), c = 'r')\n",
    "plt.xlabel('Predicted Values from - $\\hat{y}$', fontsize = 11), plt.ylabel('run_exp', fontsize = 11)\n",
    "plt.title('Predicted Curveball RE Values', fontsize = 14, fontweight = 'bold', pad = 15), plt.show();\n",
    "print('MSE:', round(metrics.mean_squared_error(y, pred_cu), 4))\n",
    "print('RMSE:', round(np.sqrt(metrics.mean_squared_error(y, pred_cu)), 4))\n",
    "print('MAE:', round(metrics.mean_absolute_error(y, pred_cu), 4))"
   ]
  },
  {
   "cell_type": "markdown",
   "id": "3938f75e",
   "metadata": {},
   "source": [
    "## Linear Regression - Changeup"
   ]
  },
  {
   "cell_type": "code",
   "execution_count": 34,
   "id": "5f610ccd",
   "metadata": {},
   "outputs": [
    {
     "data": {
      "text/html": [
       "<table class=\"simpletable\">\n",
       "<caption>OLS Regression Results</caption>\n",
       "<tr>\n",
       "  <th>Dep. Variable:</th>      <td>delta_run_exp</td>  <th>  R-squared:         </th>  <td>   0.652</td> \n",
       "</tr>\n",
       "<tr>\n",
       "  <th>Model:</th>                   <td>OLS</td>       <th>  Adj. R-squared:    </th>  <td>   0.651</td> \n",
       "</tr>\n",
       "<tr>\n",
       "  <th>Method:</th>             <td>Least Squares</td>  <th>  F-statistic:       </th>  <td>1.501e+04</td>\n",
       "</tr>\n",
       "<tr>\n",
       "  <th>Date:</th>             <td>Sat, 26 Feb 2022</td> <th>  Prob (F-statistic):</th>   <td>  0.00</td>  \n",
       "</tr>\n",
       "<tr>\n",
       "  <th>Time:</th>                 <td>14:07:00</td>     <th>  Log-Likelihood:    </th>  <td>  39201.</td> \n",
       "</tr>\n",
       "<tr>\n",
       "  <th>No. Observations:</th>      <td> 80322</td>      <th>  AIC:               </th> <td>-7.838e+04</td>\n",
       "</tr>\n",
       "<tr>\n",
       "  <th>Df Residuals:</th>          <td> 80311</td>      <th>  BIC:               </th> <td>-7.828e+04</td>\n",
       "</tr>\n",
       "<tr>\n",
       "  <th>Df Model:</th>              <td>    10</td>      <th>                     </th>      <td> </td>    \n",
       "</tr>\n",
       "<tr>\n",
       "  <th>Covariance Type:</th>      <td>nonrobust</td>    <th>                     </th>      <td> </td>    \n",
       "</tr>\n",
       "</table>\n",
       "<table class=\"simpletable\">\n",
       "<tr>\n",
       "                 <td></td>                    <th>coef</th>     <th>std err</th>      <th>t</th>      <th>P>|t|</th>  <th>[0.025</th>    <th>0.975]</th>  \n",
       "</tr>\n",
       "<tr>\n",
       "  <th>const</th>                           <td>   -0.0424</td> <td>    0.013</td> <td>   -3.212</td> <td> 0.001</td> <td>   -0.068</td> <td>   -0.017</td>\n",
       "</tr>\n",
       "<tr>\n",
       "  <th>velo</th>                            <td>    0.0002</td> <td>    0.000</td> <td>    1.543</td> <td> 0.123</td> <td>-6.48e-05</td> <td>    0.001</td>\n",
       "</tr>\n",
       "<tr>\n",
       "  <th>pfx_-x</th>                          <td> 4.975e-05</td> <td> 3.99e-05</td> <td>    1.247</td> <td> 0.212</td> <td>-2.84e-05</td> <td>    0.000</td>\n",
       "</tr>\n",
       "<tr>\n",
       "  <th>pfx_z</th>                           <td>   -0.0001</td> <td>    0.000</td> <td>   -1.351</td> <td> 0.177</td> <td>   -0.000</td> <td> 6.57e-05</td>\n",
       "</tr>\n",
       "<tr>\n",
       "  <th>woba_value</th>                      <td>    0.4359</td> <td>    0.005</td> <td>   85.945</td> <td> 0.000</td> <td>    0.426</td> <td>    0.446</td>\n",
       "</tr>\n",
       "<tr>\n",
       "  <th>babip_value</th>                     <td>   -0.0046</td> <td>    0.012</td> <td>   -0.375</td> <td> 0.708</td> <td>   -0.029</td> <td>    0.019</td>\n",
       "</tr>\n",
       "<tr>\n",
       "  <th>iso_value</th>                       <td>    0.1502</td> <td>    0.005</td> <td>   32.633</td> <td> 0.000</td> <td>    0.141</td> <td>    0.159</td>\n",
       "</tr>\n",
       "<tr>\n",
       "  <th>estimated_ba_using_speedangle</th>   <td>   -0.4115</td> <td>    0.014</td> <td>  -29.606</td> <td> 0.000</td> <td>   -0.439</td> <td>   -0.384</td>\n",
       "</tr>\n",
       "<tr>\n",
       "  <th>estimated_woba_using_speedangle</th> <td>    0.0011</td> <td>    0.012</td> <td>    0.086</td> <td> 0.931</td> <td>   -0.023</td> <td>    0.025</td>\n",
       "</tr>\n",
       "<tr>\n",
       "  <th>swing_miss</th>                      <td>   -0.0874</td> <td>    0.002</td> <td>  -57.948</td> <td> 0.000</td> <td>   -0.090</td> <td>   -0.084</td>\n",
       "</tr>\n",
       "<tr>\n",
       "  <th>label</th>                           <td>    0.3622</td> <td>    0.014</td> <td>   26.749</td> <td> 0.000</td> <td>    0.336</td> <td>    0.389</td>\n",
       "</tr>\n",
       "</table>\n",
       "<table class=\"simpletable\">\n",
       "<tr>\n",
       "  <th>Omnibus:</th>       <td>18348.466</td> <th>  Durbin-Watson:     </th>  <td>   2.026</td> \n",
       "</tr>\n",
       "<tr>\n",
       "  <th>Prob(Omnibus):</th>  <td> 0.000</td>   <th>  Jarque-Bera (JB):  </th> <td>716650.583</td>\n",
       "</tr>\n",
       "<tr>\n",
       "  <th>Skew:</th>           <td> 0.329</td>   <th>  Prob(JB):          </th>  <td>    0.00</td> \n",
       "</tr>\n",
       "<tr>\n",
       "  <th>Kurtosis:</th>       <td>17.619</td>   <th>  Cond. No.          </th>  <td>3.33e+03</td> \n",
       "</tr>\n",
       "</table><br/><br/>Notes:<br/>[1] Standard Errors assume that the covariance matrix of the errors is correctly specified.<br/>[2] The condition number is large, 3.33e+03. This might indicate that there are<br/>strong multicollinearity or other numerical problems."
      ],
      "text/plain": [
       "<class 'statsmodels.iolib.summary.Summary'>\n",
       "\"\"\"\n",
       "                            OLS Regression Results                            \n",
       "==============================================================================\n",
       "Dep. Variable:          delta_run_exp   R-squared:                       0.652\n",
       "Model:                            OLS   Adj. R-squared:                  0.651\n",
       "Method:                 Least Squares   F-statistic:                 1.501e+04\n",
       "Date:                Sat, 26 Feb 2022   Prob (F-statistic):               0.00\n",
       "Time:                        14:07:00   Log-Likelihood:                 39201.\n",
       "No. Observations:               80322   AIC:                        -7.838e+04\n",
       "Df Residuals:                   80311   BIC:                        -7.828e+04\n",
       "Df Model:                          10                                         \n",
       "Covariance Type:            nonrobust                                         \n",
       "===================================================================================================\n",
       "                                      coef    std err          t      P>|t|      [0.025      0.975]\n",
       "---------------------------------------------------------------------------------------------------\n",
       "const                              -0.0424      0.013     -3.212      0.001      -0.068      -0.017\n",
       "velo                                0.0002      0.000      1.543      0.123   -6.48e-05       0.001\n",
       "pfx_-x                           4.975e-05   3.99e-05      1.247      0.212   -2.84e-05       0.000\n",
       "pfx_z                              -0.0001      0.000     -1.351      0.177      -0.000    6.57e-05\n",
       "woba_value                          0.4359      0.005     85.945      0.000       0.426       0.446\n",
       "babip_value                        -0.0046      0.012     -0.375      0.708      -0.029       0.019\n",
       "iso_value                           0.1502      0.005     32.633      0.000       0.141       0.159\n",
       "estimated_ba_using_speedangle      -0.4115      0.014    -29.606      0.000      -0.439      -0.384\n",
       "estimated_woba_using_speedangle     0.0011      0.012      0.086      0.931      -0.023       0.025\n",
       "swing_miss                         -0.0874      0.002    -57.948      0.000      -0.090      -0.084\n",
       "label                               0.3622      0.014     26.749      0.000       0.336       0.389\n",
       "==============================================================================\n",
       "Omnibus:                    18348.466   Durbin-Watson:                   2.026\n",
       "Prob(Omnibus):                  0.000   Jarque-Bera (JB):           716650.583\n",
       "Skew:                           0.329   Prob(JB):                         0.00\n",
       "Kurtosis:                      17.619   Cond. No.                     3.33e+03\n",
       "==============================================================================\n",
       "\n",
       "Notes:\n",
       "[1] Standard Errors assume that the covariance matrix of the errors is correctly specified.\n",
       "[2] The condition number is large, 3.33e+03. This might indicate that there are\n",
       "strong multicollinearity or other numerical problems.\n",
       "\"\"\""
      ]
     },
     "execution_count": 34,
     "metadata": {},
     "output_type": "execute_result"
    }
   ],
   "source": [
    "X = X_ch.drop(columns = ['delta_run_exp'])\n",
    "X = sm.add_constant(X)\n",
    "y = X_ch['delta_run_exp']\n",
    "\n",
    "ols_model_ch = sm.OLS(y, X)\n",
    "ols_model_ch = ols_model_ch.fit()\n",
    "pred_ch = ols_model_ch.predict(X)\n",
    "ols_model_ch.summary()"
   ]
  },
  {
   "cell_type": "code",
   "execution_count": 35,
   "id": "723fc505",
   "metadata": {},
   "outputs": [
    {
     "data": {
      "image/png": "[encoded data removed]",
      "text/plain": [
       "<Figure size 576x576 with 1 Axes>"
      ]
     },
     "metadata": {
      "needs_background": "light"
     },
     "output_type": "display_data"
    },
    {
     "name": "stdout",
     "output_type": "stream",
     "text": [
      "MSE: 0.0221\n",
      "RMSE: 0.1485\n",
      "MAE: 0.0935\n"
     ]
    }
   ],
   "source": [
    "plt.figure(figsize = (8, 8))\n",
    "plt.scatter(pred_ch, y, s = 20, c = 'b', marker = 'o')\n",
    "plt.plot(pred_ch, np.poly1d(np.polyfit(pred_ch, y, 1))(pred_ch), c = 'r')\n",
    "plt.xlabel('Predicted Values from - $\\hat{y}$', fontsize = 11), plt.ylabel('run_exp', fontsize = 11)\n",
    "plt.title('Predicted Changeup RE Values', fontsize = 14, fontweight = 'bold', pad = 15), plt.show();\n",
    "print('MSE:', round(metrics.mean_squared_error(y, pred_ch), 4))\n",
    "print('RMSE:', round(np.sqrt(metrics.mean_squared_error(y, pred_ch)), 4))\n",
    "print('MAE:', round(metrics.mean_absolute_error(y, pred_ch), 4))"
   ]
  }
 ],
 "metadata": {
  "kernelspec": {
   "display_name": "Python 3",
   "language": "python",
   "name": "python3"
  },
  "language_info": {
   "codemirror_mode": {
    "name": "ipython",
    "version": 3
   },
   "file_extension": ".py",
   "mimetype": "text/x-python",
   "name": "python",
   "nbconvert_exporter": "python",
   "pygments_lexer": "ipython3",
   "version": "3.8.8"
  }
 },
 "nbformat": 4,
 "nbformat_minor": 5
}
