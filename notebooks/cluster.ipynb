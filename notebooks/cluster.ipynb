{
 "cells": [
  {
   "cell_type": "markdown",
   "id": "426268f7",
   "metadata": {},
   "source": [
    "# Notebook Contents\n",
    "\n",
    "- [Imports](#Imports)\n",
    "- [Data](#Data)\n",
    "- [Features](#Features)\n",
    "- [Clustering](#Clustering)\n",
    "    - [4-Seam](#4-Seam-Fastball)\n",
    "    - [Cutter](#Cutter)\n",
    "    - [Sinker](#Sinker)\n",
    "    - [Slider](#Slider)\n",
    "    - [Curveball](#Curveball)\n",
    "    - [Changeup](#Changeup)"
   ]
  },
  {
   "cell_type": "markdown",
   "id": "9a8c2c47",
   "metadata": {},
   "source": [
    "# Imports"
   ]
  },
  {
   "cell_type": "code",
   "execution_count": 1,
   "id": "3b41894e",
   "metadata": {},
   "outputs": [],
   "source": [
    "from sklearn.preprocessing import StandardScaler\n",
    "from sklearn.decomposition import PCA\n",
    "from sklearn.cluster import KMeans, k_means\n",
    "from sklearn import metrics\n",
    "\n",
    "import warnings\n",
    "warnings.filterwarnings('ignore')"
   ]
  },
  {
   "cell_type": "markdown",
   "id": "7a31fda9",
   "metadata": {},
   "source": [
    "# Data"
   ]
  },
  {
   "cell_type": "code",
   "execution_count": 2,
   "id": "40799b48",
   "metadata": {},
   "outputs": [
    {
     "name": "stdout",
     "output_type": "stream",
     "text": [
      "(116889, 31)\n"
     ]
    },
    {
     "data": {
      "text/html": [
       "<div><div id=d49a4cca-a5c2-4d88-828c-06bbfaf1c7b6 style=\"display:none; background-color:#9D6CFF; color:white; width:200px; height:30px; padding-left:5px; border-radius:4px; flex-direction:row; justify-content:space-around; align-items:center;\" onmouseover=\"this.style.backgroundColor='#BA9BF8'\" onmouseout=\"this.style.backgroundColor='#9D6CFF'\" onclick=\"window.commands?.execute('create-mitosheet-from-dataframe-output');\">See Full Dataframe in Mito</div> <script> if (window.commands.hasCommand('create-mitosheet-from-dataframe-output')) document.getElementById('d49a4cca-a5c2-4d88-828c-06bbfaf1c7b6').style.display = 'flex' </script> <table border=\"1\" class=\"dataframe\">\n",
       "  <thead>\n",
       "    <tr style=\"text-align: right;\">\n",
       "      <th></th>\n",
       "      <th>player_name</th>\n",
       "      <th>p_throws</th>\n",
       "      <th>pitch_type</th>\n",
       "      <th>velo</th>\n",
       "      <th>spin_rate</th>\n",
       "      <th>spin_axis</th>\n",
       "      <th>pfx_-x</th>\n",
       "      <th>pfx_z</th>\n",
       "      <th>bauer_units</th>\n",
       "      <th>effective_speed</th>\n",
       "      <th>release_pos_x</th>\n",
       "      <th>release_pos_z</th>\n",
       "      <th>release_extension</th>\n",
       "      <th>release_pos_y</th>\n",
       "      <th>plate_-x</th>\n",
       "      <th>plate_x</th>\n",
       "      <th>plate_z</th>\n",
       "      <th>delta_run_exp</th>\n",
       "      <th>stand</th>\n",
       "      <th>events</th>\n",
       "      <th>description</th>\n",
       "      <th>hit_distance_sc</th>\n",
       "      <th>exit_velo</th>\n",
       "      <th>launch_angle</th>\n",
       "      <th>launch_speed_angle</th>\n",
       "      <th>xba</th>\n",
       "      <th>xwobacon</th>\n",
       "      <th>woba_value</th>\n",
       "      <th>woba_denom</th>\n",
       "      <th>babip_value</th>\n",
       "      <th>iso_value</th>\n",
       "    </tr>\n",
       "  </thead>\n",
       "  <tbody>\n",
       "    <tr>\n",
       "      <th>0</th>\n",
       "      <td>Smith, Will</td>\n",
       "      <td>L</td>\n",
       "      <td>FF</td>\n",
       "      <td>92.3</td>\n",
       "      <td>2330.0</td>\n",
       "      <td>148.0</td>\n",
       "      <td>-8.28</td>\n",
       "      <td>16.56</td>\n",
       "      <td>25.243770</td>\n",
       "      <td>92.8</td>\n",
       "      <td>1.40</td>\n",
       "      <td>6.80</td>\n",
       "      <td>6.5</td>\n",
       "      <td>54.03</td>\n",
       "      <td>0.69</td>\n",
       "      <td>-0.69</td>\n",
       "      <td>2.83</td>\n",
       "      <td>-0.073</td>\n",
       "      <td>R</td>\n",
       "      <td>out</td>\n",
       "      <td>hit_into_play</td>\n",
       "      <td>13.0</td>\n",
       "      <td>95.2</td>\n",
       "      <td>-13.0</td>\n",
       "      <td>2.0</td>\n",
       "      <td>0.174</td>\n",
       "      <td>0.158</td>\n",
       "      <td>0.0</td>\n",
       "      <td>1.0</td>\n",
       "      <td>0.0</td>\n",
       "      <td>0.0</td>\n",
       "    </tr>\n",
       "    <tr>\n",
       "      <th>4</th>\n",
       "      <td>Smith, Will</td>\n",
       "      <td>L</td>\n",
       "      <td>FF</td>\n",
       "      <td>91.2</td>\n",
       "      <td>2281.0</td>\n",
       "      <td>143.0</td>\n",
       "      <td>-7.56</td>\n",
       "      <td>15.36</td>\n",
       "      <td>25.010965</td>\n",
       "      <td>90.9</td>\n",
       "      <td>1.49</td>\n",
       "      <td>6.66</td>\n",
       "      <td>6.3</td>\n",
       "      <td>54.15</td>\n",
       "      <td>0.31</td>\n",
       "      <td>-0.31</td>\n",
       "      <td>2.80</td>\n",
       "      <td>-0.189</td>\n",
       "      <td>L</td>\n",
       "      <td>out</td>\n",
       "      <td>hit_into_play</td>\n",
       "      <td>9.0</td>\n",
       "      <td>93.3</td>\n",
       "      <td>-18.0</td>\n",
       "      <td>2.0</td>\n",
       "      <td>0.100</td>\n",
       "      <td>0.090</td>\n",
       "      <td>0.0</td>\n",
       "      <td>1.0</td>\n",
       "      <td>0.0</td>\n",
       "      <td>0.0</td>\n",
       "    </tr>\n",
       "    <tr>\n",
       "      <th>9</th>\n",
       "      <td>Gsellman, Robert</td>\n",
       "      <td>R</td>\n",
       "      <td>SI</td>\n",
       "      <td>94.3</td>\n",
       "      <td>1982.0</td>\n",
       "      <td>221.0</td>\n",
       "      <td>16.20</td>\n",
       "      <td>10.56</td>\n",
       "      <td>21.018028</td>\n",
       "      <td>94.4</td>\n",
       "      <td>-1.20</td>\n",
       "      <td>6.05</td>\n",
       "      <td>6.5</td>\n",
       "      <td>53.98</td>\n",
       "      <td>0.26</td>\n",
       "      <td>-0.26</td>\n",
       "      <td>1.78</td>\n",
       "      <td>-0.061</td>\n",
       "      <td>R</td>\n",
       "      <td>out</td>\n",
       "      <td>hit_into_play</td>\n",
       "      <td>140.0</td>\n",
       "      <td>75.3</td>\n",
       "      <td>65.0</td>\n",
       "      <td>3.0</td>\n",
       "      <td>0.000</td>\n",
       "      <td>0.000</td>\n",
       "      <td>0.0</td>\n",
       "      <td>1.0</td>\n",
       "      <td>0.0</td>\n",
       "      <td>0.0</td>\n",
       "    </tr>\n",
       "    <tr>\n",
       "      <th>18</th>\n",
       "      <td>Gsellman, Robert</td>\n",
       "      <td>R</td>\n",
       "      <td>SL</td>\n",
       "      <td>90.5</td>\n",
       "      <td>2133.0</td>\n",
       "      <td>216.0</td>\n",
       "      <td>-0.12</td>\n",
       "      <td>7.44</td>\n",
       "      <td>23.569061</td>\n",
       "      <td>91.1</td>\n",
       "      <td>-1.51</td>\n",
       "      <td>5.93</td>\n",
       "      <td>6.3</td>\n",
       "      <td>54.23</td>\n",
       "      <td>-0.01</td>\n",
       "      <td>0.01</td>\n",
       "      <td>2.23</td>\n",
       "      <td>-0.173</td>\n",
       "      <td>L</td>\n",
       "      <td>out</td>\n",
       "      <td>hit_into_play</td>\n",
       "      <td>294.0</td>\n",
       "      <td>96.8</td>\n",
       "      <td>18.0</td>\n",
       "      <td>4.0</td>\n",
       "      <td>0.409</td>\n",
       "      <td>0.457</td>\n",
       "      <td>0.0</td>\n",
       "      <td>1.0</td>\n",
       "      <td>0.0</td>\n",
       "      <td>0.0</td>\n",
       "    </tr>\n",
       "    <tr>\n",
       "      <th>27</th>\n",
       "      <td>Martin, Chris</td>\n",
       "      <td>R</td>\n",
       "      <td>FF</td>\n",
       "      <td>94.9</td>\n",
       "      <td>2224.0</td>\n",
       "      <td>216.0</td>\n",
       "      <td>9.00</td>\n",
       "      <td>14.16</td>\n",
       "      <td>23.435195</td>\n",
       "      <td>95.5</td>\n",
       "      <td>-2.71</td>\n",
       "      <td>6.38</td>\n",
       "      <td>6.6</td>\n",
       "      <td>53.86</td>\n",
       "      <td>0.10</td>\n",
       "      <td>-0.10</td>\n",
       "      <td>1.94</td>\n",
       "      <td>-0.163</td>\n",
       "      <td>R</td>\n",
       "      <td>out</td>\n",
       "      <td>hit_into_play</td>\n",
       "      <td>308.0</td>\n",
       "      <td>91.8</td>\n",
       "      <td>29.0</td>\n",
       "      <td>3.0</td>\n",
       "      <td>0.109</td>\n",
       "      <td>0.156</td>\n",
       "      <td>0.0</td>\n",
       "      <td>1.0</td>\n",
       "      <td>0.0</td>\n",
       "      <td>0.0</td>\n",
       "    </tr>\n",
       "  </tbody>\n",
       "</table></div>"
      ],
      "text/plain": [
       "         player_name p_throws pitch_type  velo  spin_rate  spin_axis  pfx_-x  \\\n",
       "0        Smith, Will        L         FF  92.3     2330.0      148.0   -8.28   \n",
       "4        Smith, Will        L         FF  91.2     2281.0      143.0   -7.56   \n",
       "9   Gsellman, Robert        R         SI  94.3     1982.0      221.0   16.20   \n",
       "18  Gsellman, Robert        R         SL  90.5     2133.0      216.0   -0.12   \n",
       "27     Martin, Chris        R         FF  94.9     2224.0      216.0    9.00   \n",
       "\n",
       "    pfx_z  bauer_units  effective_speed  release_pos_x  release_pos_z  \\\n",
       "0   16.56    25.243770             92.8           1.40           6.80   \n",
       "4   15.36    25.010965             90.9           1.49           6.66   \n",
       "9   10.56    21.018028             94.4          -1.20           6.05   \n",
       "18   7.44    23.569061             91.1          -1.51           5.93   \n",
       "27  14.16    23.435195             95.5          -2.71           6.38   \n",
       "\n",
       "    release_extension  release_pos_y  plate_-x  plate_x  plate_z  \\\n",
       "0                 6.5          54.03      0.69    -0.69     2.83   \n",
       "4                 6.3          54.15      0.31    -0.31     2.80   \n",
       "9                 6.5          53.98      0.26    -0.26     1.78   \n",
       "18                6.3          54.23     -0.01     0.01     2.23   \n",
       "27                6.6          53.86      0.10    -0.10     1.94   \n",
       "\n",
       "    delta_run_exp stand events    description  hit_distance_sc  exit_velo  \\\n",
       "0          -0.073     R    out  hit_into_play             13.0       95.2   \n",
       "4          -0.189     L    out  hit_into_play              9.0       93.3   \n",
       "9          -0.061     R    out  hit_into_play            140.0       75.3   \n",
       "18         -0.173     L    out  hit_into_play            294.0       96.8   \n",
       "27         -0.163     R    out  hit_into_play            308.0       91.8   \n",
       "\n",
       "    launch_angle  launch_speed_angle    xba  xwobacon  woba_value  woba_denom  \\\n",
       "0          -13.0                 2.0  0.174     0.158         0.0         1.0   \n",
       "4          -18.0                 2.0  0.100     0.090         0.0         1.0   \n",
       "9           65.0                 3.0  0.000     0.000         0.0         1.0   \n",
       "18          18.0                 4.0  0.409     0.457         0.0         1.0   \n",
       "27          29.0                 3.0  0.109     0.156         0.0         1.0   \n",
       "\n",
       "    babip_value  iso_value  \n",
       "0           0.0        0.0  \n",
       "4           0.0        0.0  \n",
       "9           0.0        0.0  \n",
       "18          0.0        0.0  \n",
       "27          0.0        0.0  "
      ]
     },
     "execution_count": 2,
     "metadata": {},
     "output_type": "execute_result"
    }
   ],
   "source": [
    "data = pd.read_csv('../data/model-pitches.csv')\n",
    "data.drop(columns = ['Unnamed: 0'], inplace = True) \n",
    "data.dropna(inplace = True)\n",
    "\n",
    "pd.set_option('max_columns', None)\n",
    "print(data.shape)\n",
    "data.head(5)"
   ]
  },
  {
   "cell_type": "markdown",
   "id": "6de88ec9",
   "metadata": {},
   "source": [
    "Pitch Types:\n",
    "\n",
    "4-Seam, Cutter, Sinker, Slider, Curveball, Changeup"
   ]
  },
  {
   "cell_type": "markdown",
   "id": "83093c8d",
   "metadata": {},
   "source": [
    "# Features"
   ]
  },
  {
   "cell_type": "code",
   "execution_count": 3,
   "id": "c75aa09f",
   "metadata": {},
   "outputs": [],
   "source": [
    "features = data[['pitch_type', 'p_throws', 'velo', 'spin_rate', 'spin_axis', 'pfx_-x', 'pfx_z', \n",
    "                 'bauer_units', 'effective_speed', 'release_pos_x', 'release_pos_z', 'release_extension', \n",
    "                 'launch_speed_angle', 'xba', 'xwobacon', 'woba_value', 'babip_value', 'iso_value']]"
   ]
  },
  {
   "cell_type": "code",
   "execution_count": 4,
   "id": "56e22023",
   "metadata": {},
   "outputs": [
    {
     "name": "stdout",
     "output_type": "stream",
     "text": [
      "4-Seam shape: (40378, 18)\n",
      "RHP 4-Seam shape: (28478, 18)\n",
      "LHP 4-Seam shape: (11900, 18) \n",
      "\n",
      "Cutter shape: (8698, 18)\n",
      "RHP Cutter shape: (5588, 18)\n",
      "LHP Cutter shape: (3110, 18) \n",
      "\n",
      "Sinker shape: (21979, 18)\n",
      "RHP Sinker shape: (15373, 18)\n",
      "LHP Sinker shape: (6606, 18) \n",
      "\n",
      "Slider shape: (21518, 18)\n",
      "RHP Slider shape: (16153, 18)\n",
      "LHP Slider shape: (5365, 18) \n",
      "\n",
      "Curveball shape: (8439, 18)\n",
      "RHP Curveball shape: (5743, 18)\n",
      "LHP Curveball shape: (2696, 18) \n",
      "\n",
      "Changeup shape: (15877, 18)\n",
      "RHP Changeup shape: (9626, 18)\n",
      "LHP Changeup shape: (6251, 18)\n"
     ]
    }
   ],
   "source": [
    "ff = features.loc[features['pitch_type'] == 'FF']\n",
    "print('4-Seam shape:', ff.shape)\n",
    "ff_r = features.loc[(features['pitch_type'] == 'FF') & (features['p_throws'] == 'R')]\n",
    "print('RHP 4-Seam shape:', ff_r.shape)\n",
    "ff_l = features.loc[(features['pitch_type'] == 'FF') & (features['p_throws'] == 'L')]\n",
    "print('LHP 4-Seam shape:', ff_l.shape, '\\n')\n",
    "fc = features.loc[features['pitch_type'] == 'FC']\n",
    "print('Cutter shape:', fc.shape)\n",
    "fc_r = features.loc[(features['pitch_type'] == 'FC') & (features['p_throws'] == 'R')]\n",
    "print('RHP Cutter shape:', fc_r.shape)\n",
    "fc_l = features.loc[(features['pitch_type'] == 'FC') & (features['p_throws'] == 'L')]\n",
    "print('LHP Cutter shape:', fc_l.shape, '\\n')\n",
    "si = features.loc[features['pitch_type'] == 'SI']\n",
    "print('Sinker shape:', si.shape)\n",
    "si_r = features.loc[(features['pitch_type'] == 'SI') & (features['p_throws'] == 'R')]\n",
    "print('RHP Sinker shape:', si_r.shape)\n",
    "si_l = features.loc[(features['pitch_type'] == 'SI') & (features['p_throws'] == 'L')]\n",
    "print('LHP Sinker shape:', si_l.shape, '\\n')\n",
    "sl = features.loc[features['pitch_type'] == 'SL']\n",
    "print('Slider shape:', sl.shape)\n",
    "sl_r = features.loc[(features['pitch_type'] == 'SL') & (features['p_throws'] == 'R')]\n",
    "print('RHP Slider shape:', sl_r.shape)\n",
    "sl_l = features.loc[(features['pitch_type'] == 'SL') & (features['p_throws'] == 'L')]\n",
    "print('LHP Slider shape:', sl_l.shape, '\\n')\n",
    "cu = features.loc[features['pitch_type'] == 'CU']\n",
    "print('Curveball shape:', cu.shape)\n",
    "cu_r = features.loc[(features['pitch_type'] == 'CU') & (features['p_throws'] == 'R')]\n",
    "print('RHP Curveball shape:', cu_r.shape)\n",
    "cu_l = features.loc[(features['pitch_type'] == 'CU') & (features['p_throws'] == 'L')]\n",
    "print('LHP Curveball shape:', cu_l.shape, '\\n')\n",
    "ch = features.loc[features['pitch_type'] == 'CH']\n",
    "print('Changeup shape:', ch.shape)\n",
    "ch_r = features.loc[(features['pitch_type'] == 'CH') & (features['p_throws'] == 'R')]\n",
    "print('RHP Changeup shape:', ch_r.shape)\n",
    "ch_l = features.loc[(features['pitch_type'] == 'CH') & (features['p_throws'] == 'L')]\n",
    "print('LHP Changeup shape:', ch_l.shape)"
   ]
  },
  {
   "cell_type": "markdown",
   "id": "185cf9e5",
   "metadata": {},
   "source": [
    "# Clustering"
   ]
  },
  {
   "cell_type": "markdown",
   "id": "89931699",
   "metadata": {},
   "source": [
    "## 4-Seam"
   ]
  },
  {
   "cell_type": "markdown",
   "id": "de9c21ac",
   "metadata": {},
   "source": [
    "### RHP"
   ]
  },
  {
   "cell_type": "code",
   "execution_count": 5,
   "id": "b4d9010b",
   "metadata": {},
   "outputs": [
    {
     "name": "stdout",
     "output_type": "stream",
     "text": [
      "Number of iterations: 16\n",
      "Number of features: 16\n",
      "Number of clusters: 2\n",
      "Inertia: 373015.2451411064 \n",
      "\n",
      "Predicted clusters to points:  [1 1 1 1 1 1 1 0 0 1]\n"
     ]
    }
   ],
   "source": [
    "features_ff_r = ff_r.select_dtypes([np.number])\n",
    "X_ff_r = features_ff_r\n",
    "\n",
    "ss = StandardScaler()\n",
    "X_ff_r_scaled = ss.fit_transform(X_ff_r)\n",
    "X_ff_r_scaled[:,:] *= -1\n",
    "\n",
    "pca_ff_r = PCA().fit_transform(X_ff_r_scaled)\n",
    "model_ff_r = pd.DataFrame(data = pca_ff_r, columns = X_ff_r.columns)\n",
    "\n",
    "km_ff_r = KMeans(n_clusters = 2, \n",
    "               random_state = 1)\n",
    "km_ff_r.fit(model_ff_r)\n",
    "label_ff_r = km_ff_r.fit_predict(model_ff_r)\n",
    "\n",
    "print('Number of iterations:', km_ff_r.n_iter_)\n",
    "print('Number of features:', km_ff_r.n_features_in_)\n",
    "print('Number of clusters:', km_ff_r.n_clusters)\n",
    "print('Inertia:', km_ff_r.inertia_, '\\n')\n",
    "print('Predicted clusters to points: ', label_ff_r[:10])"
   ]
  },
  {
   "cell_type": "markdown",
   "id": "df1e4fe7",
   "metadata": {},
   "source": [
    "### LHP"
   ]
  },
  {
   "cell_type": "code",
   "execution_count": 6,
   "id": "60d4b97a",
   "metadata": {},
   "outputs": [
    {
     "name": "stdout",
     "output_type": "stream",
     "text": [
      "Number of iterations: 6\n",
      "Number of features: 16\n",
      "Number of clusters: 2\n",
      "Inertia: 155677.14136560383 \n",
      "\n",
      "Predicted clusters to points:  [1 1 1 1 1 1 1 1 1 0]\n"
     ]
    }
   ],
   "source": [
    "features_ff_l = ff_l.select_dtypes([np.number])\n",
    "X_ff_l = features_ff_l\n",
    "\n",
    "ss = StandardScaler()\n",
    "X_ff_l_scaled = ss.fit_transform(X_ff_l)\n",
    "X_ff_l_scaled[:,:] *= -1\n",
    "\n",
    "pca_ff_l = PCA().fit_transform(X_ff_l_scaled)\n",
    "model_ff_l = pd.DataFrame(data = pca_ff_l, columns = X_ff_l.columns)\n",
    "\n",
    "km_ff_l = KMeans(n_clusters = 2, \n",
    "               random_state = 1)\n",
    "km_ff_l.fit(model_ff_l)\n",
    "label_ff_l = km_ff_l.fit_predict(model_ff_l)\n",
    "\n",
    "print('Number of iterations:', km_ff_l.n_iter_)\n",
    "print('Number of features:', km_ff_l.n_features_in_)\n",
    "print('Number of clusters:', km_ff_l.n_clusters)\n",
    "print('Inertia:', km_ff_l.inertia_, '\\n')\n",
    "print('Predicted clusters to points: ', label_ff_l[:10])"
   ]
  },
  {
   "cell_type": "markdown",
   "id": "83399927",
   "metadata": {},
   "source": [
    "### Cluster Labels - RHP 4-Seam"
   ]
  },
  {
   "cell_type": "code",
   "execution_count": 7,
   "id": "3dafce24",
   "metadata": {},
   "outputs": [
    {
     "name": "stdout",
     "output_type": "stream",
     "text": [
      "label                         0            1\n",
      "velo                  93.930248    93.983436\n",
      "spin_rate           2268.416903  2272.253473\n",
      "spin_axis            212.080435   212.220599\n",
      "pfx_-x                 7.199347     7.088940\n",
      "pfx_z                 15.686448    15.653048\n",
      "bauer_units           24.151112    24.178103\n",
      "effective_speed       94.109867    94.173650\n",
      "release_pos_x         -1.752105    -1.766247\n",
      "release_pos_z          5.904354     5.883257\n",
      "release_extension      6.386213     6.393965\n",
      "launch_speed_angle     4.702390     2.798840\n",
      "xba                    0.684870     0.180219\n",
      "xwobacon               0.870645     0.188524\n",
      "woba_value             1.116291     0.083932\n",
      "babip_value            0.704996     0.082693\n",
      "iso_value              0.843548     0.003613\n"
     ]
    }
   ],
   "source": [
    "X_ff_r['label'] = label_ff_r\n",
    "model_ff_r['label'] = label_ff_r\n",
    "\n",
    "print(X_ff_r.groupby(by = 'label').mean().T)"
   ]
  },
  {
   "cell_type": "markdown",
   "id": "1fa8b98b",
   "metadata": {},
   "source": [
    "### Cluster Labels - LHP 4-Seam"
   ]
  },
  {
   "cell_type": "code",
   "execution_count": 8,
   "id": "a7fffe00",
   "metadata": {},
   "outputs": [
    {
     "name": "stdout",
     "output_type": "stream",
     "text": [
      "label                         0            1\n",
      "velo                  92.613703    92.655902\n",
      "spin_rate           2237.858108  2235.748537\n",
      "spin_axis            146.283514   146.851829\n",
      "pfx_-x                -7.641827    -7.277180\n",
      "pfx_z                 15.867827    15.757346\n",
      "bauer_units           24.169470    24.135393\n",
      "effective_speed       92.609730    92.679268\n",
      "release_pos_x          1.872503     1.861596\n",
      "release_pos_z          6.011459     5.999227\n",
      "release_extension      6.288676     6.301537\n",
      "launch_speed_angle     4.657027     2.740610\n",
      "xba                    0.687714     0.178375\n",
      "xwobacon               0.861038     0.184757\n",
      "woba_value             1.107270     0.087311\n",
      "babip_value            0.718649     0.084756\n",
      "iso_value              0.803243     0.003293\n"
     ]
    }
   ],
   "source": [
    "X_ff_l['label'] = label_ff_l\n",
    "model_ff_l['label'] = label_ff_l\n",
    "\n",
    "print(X_ff_l.groupby(by = 'label').mean().T)"
   ]
  },
  {
   "cell_type": "markdown",
   "id": "6b28b964",
   "metadata": {},
   "source": [
    "## Cutter"
   ]
  },
  {
   "cell_type": "markdown",
   "id": "5b5b8ee2",
   "metadata": {},
   "source": [
    "### RHP"
   ]
  },
  {
   "cell_type": "code",
   "execution_count": 9,
   "id": "54758bb4",
   "metadata": {},
   "outputs": [
    {
     "name": "stdout",
     "output_type": "stream",
     "text": [
      "Number of iterations: 9\n",
      "Number of features: 16\n",
      "Number of clusters: 2\n",
      "Inertia: 73051.53948568924 \n",
      "\n",
      "Predicted clusters to points:  [0 0 1 0 1 1 0 0 1 1]\n"
     ]
    }
   ],
   "source": [
    "features_fc_r = fc_r.select_dtypes([np.number])\n",
    "X_fc_r = features_fc_r\n",
    "\n",
    "X_fc_r_scaled = ss.fit_transform(X_fc_r)\n",
    "X_fc_r_scaled[:,:] *= -1\n",
    "\n",
    "pca_fc_r = PCA().fit_transform(X_fc_r_scaled)\n",
    "model_fc_r = pd.DataFrame(data = pca_fc_r, columns = X_fc_r.columns)\n",
    "\n",
    "km_fc_r = KMeans(n_clusters = 2, \n",
    "               random_state = 1)\n",
    "\n",
    "km_fc_r.fit(model_fc_r)\n",
    "label_fc_r = km_fc_r.fit_predict(model_fc_r)\n",
    "\n",
    "print('Number of iterations:', km_fc_r.n_iter_)\n",
    "print('Number of features:', km_fc_r.n_features_in_)\n",
    "print('Number of clusters:', km_fc_r.n_clusters)\n",
    "print('Inertia:', km_fc_r.inertia_, '\\n')\n",
    "print(\"Predicted clusters to points: \", label_fc_r[:10])"
   ]
  },
  {
   "cell_type": "markdown",
   "id": "f3f5d80f",
   "metadata": {},
   "source": [
    "### LHP"
   ]
  },
  {
   "cell_type": "code",
   "execution_count": 10,
   "id": "481ca5f0",
   "metadata": {},
   "outputs": [
    {
     "name": "stdout",
     "output_type": "stream",
     "text": [
      "Number of iterations: 25\n",
      "Number of features: 16\n",
      "Number of clusters: 2\n",
      "Inertia: 40625.42947442321 \n",
      "\n",
      "Predicted clusters to points:  [1 1 0 0 1 0 1 0 1 0]\n"
     ]
    }
   ],
   "source": [
    "features_fc_l = fc_l.select_dtypes([np.number])\n",
    "X_fc_l = features_fc_l\n",
    "\n",
    "X_fc_l_scaled = ss.fit_transform(X_fc_l)\n",
    "X_fc_l_scaled[:,:] *= -1\n",
    "\n",
    "pca_fc_l = PCA().fit_transform(X_fc_l_scaled)\n",
    "model_fc_l = pd.DataFrame(data = pca_fc_l, columns = X_fc_l.columns)\n",
    "\n",
    "km_fc_l = KMeans(n_clusters = 2, \n",
    "               random_state = 1)\n",
    "\n",
    "km_fc_l.fit(model_fc_l)\n",
    "label_fc_l = km_fc_r.fit_predict(model_fc_l)\n",
    "\n",
    "print('Number of iterations:', km_fc_l.n_iter_)\n",
    "print('Number of features:', km_fc_l.n_features_in_)\n",
    "print('Number of clusters:', km_fc_l.n_clusters)\n",
    "print('Inertia:', km_fc_l.inertia_, '\\n')\n",
    "print(\"Predicted clusters to points: \", label_fc_l[:10])"
   ]
  },
  {
   "cell_type": "markdown",
   "id": "4cfb0b4c",
   "metadata": {},
   "source": [
    "### Cluster Labels - RHP Cutter"
   ]
  },
  {
   "cell_type": "code",
   "execution_count": 11,
   "id": "9e862bd1",
   "metadata": {},
   "outputs": [
    {
     "name": "stdout",
     "output_type": "stream",
     "text": [
      "label                         0            1\n",
      "velo                  89.468263    89.197436\n",
      "spin_rate           2408.765856  2411.333333\n",
      "spin_axis            176.885435   176.593496\n",
      "pfx_-x                -2.877052    -2.802026\n",
      "pfx_z                  7.795578     7.786191\n",
      "bauer_units           26.944691    27.054388\n",
      "effective_speed       89.751366    89.458599\n",
      "release_pos_x         -1.722181    -1.728780\n",
      "release_pos_z          5.962299     5.945791\n",
      "release_extension      6.294034     6.278361\n",
      "launch_speed_angle     2.599900     4.536585\n",
      "xba                    0.179632     0.674115\n",
      "xwobacon               0.181171     0.818328\n",
      "woba_value             0.086124     1.090994\n",
      "babip_value            0.080973     0.747342\n",
      "iso_value              0.001755     0.742339\n"
     ]
    }
   ],
   "source": [
    "X_fc_r['label'] = label_fc_r\n",
    "model_fc_r['label'] = label_fc_r\n",
    "\n",
    "print(X_fc_r.groupby(by = 'label').mean().T)"
   ]
  },
  {
   "cell_type": "markdown",
   "id": "992045d9",
   "metadata": {},
   "source": [
    "### Cluster Labels - LHP Cutter"
   ]
  },
  {
   "cell_type": "code",
   "execution_count": 12,
   "id": "4da57fff",
   "metadata": {},
   "outputs": [
    {
     "name": "stdout",
     "output_type": "stream",
     "text": [
      "label                         0            1\n",
      "velo                  86.776821    86.592232\n",
      "spin_rate           2266.653005  2266.457330\n",
      "spin_axis            170.829235   170.376368\n",
      "pfx_-x                 1.686776     1.499606\n",
      "pfx_z                  7.888852     8.057199\n",
      "bauer_units           26.130115    26.186852\n",
      "effective_speed       86.865073    86.679103\n",
      "release_pos_x          2.099850     2.159759\n",
      "release_pos_z          5.822158     5.781433\n",
      "release_extension      6.189663     6.195405\n",
      "launch_speed_angle     2.617486     4.551422\n",
      "xba                    0.180357     0.671353\n",
      "xwobacon               0.181276     0.813269\n",
      "woba_value             0.090870     1.102298\n",
      "babip_value            0.086521     0.757112\n",
      "iso_value              0.003188     0.757112\n"
     ]
    }
   ],
   "source": [
    "X_fc_l['label'] = label_fc_l\n",
    "model_fc_l['label'] = label_fc_l\n",
    "\n",
    "print(X_fc_l.groupby(by = 'label').mean().T)"
   ]
  },
  {
   "cell_type": "markdown",
   "id": "dcf098e4",
   "metadata": {},
   "source": [
    "## Sinker"
   ]
  },
  {
   "cell_type": "markdown",
   "id": "154ca06f",
   "metadata": {},
   "source": [
    "### RHP"
   ]
  },
  {
   "cell_type": "code",
   "execution_count": 13,
   "id": "3bd87c52",
   "metadata": {},
   "outputs": [
    {
     "name": "stdout",
     "output_type": "stream",
     "text": [
      "Number of iterations: 10\n",
      "Number of features: 16\n",
      "Number of clusters: 2\n",
      "Inertia: 201854.06024813667 \n",
      "\n",
      "Predicted clusters to points:  [0 0 0 1 0 0 1 0 0 1]\n"
     ]
    }
   ],
   "source": [
    "features_si_r = si_r.select_dtypes([np.number])\n",
    "X_si_r = features_si_r\n",
    "\n",
    "X_si_r_scaled = ss.fit_transform(X_si_r)\n",
    "X_si_r_scaled[:,:] *= -1\n",
    "\n",
    "pca_si_r = PCA().fit_transform(X_si_r_scaled)\n",
    "model_si_r = pd.DataFrame(data = pca_si_r, columns = X_si_r.columns)\n",
    "\n",
    "km_si_r = KMeans(n_clusters = 2, \n",
    "                 random_state = 1)\n",
    "\n",
    "km_si_r.fit(model_si_r)\n",
    "label_si_r = km_si_r.fit_predict(model_si_r)\n",
    "\n",
    "print('Number of iterations:', km_si_r.n_iter_)\n",
    "print('Number of features:', km_si_r.n_features_in_)\n",
    "print('Number of clusters:', km_si_r.n_clusters)\n",
    "print('Inertia:', km_si_r.inertia_, '\\n')\n",
    "print(\"Predicted clusters to points: \", label_si_r[:10])"
   ]
  },
  {
   "cell_type": "markdown",
   "id": "83322042",
   "metadata": {},
   "source": [
    "### LHP"
   ]
  },
  {
   "cell_type": "code",
   "execution_count": 14,
   "id": "95e40be6",
   "metadata": {},
   "outputs": [
    {
     "name": "stdout",
     "output_type": "stream",
     "text": [
      "Number of iterations: 14\n",
      "Number of features: 16\n",
      "Number of clusters: 2\n",
      "Inertia: 87298.26830274735 \n",
      "\n",
      "Predicted clusters to points:  [1 1 1 0 1 1 1 1 1 0]\n"
     ]
    }
   ],
   "source": [
    "features_si_l = si_l.select_dtypes([np.number])\n",
    "X_si_l = features_si_l\n",
    "\n",
    "X_si_l_scaled = ss.fit_transform(X_si_l)\n",
    "X_si_l_scaled[:,:] *= -1\n",
    "\n",
    "pca_si_l = PCA().fit_transform(X_si_l_scaled)\n",
    "model_si_l = pd.DataFrame(data = pca_si_l, columns = X_si_l.columns)\n",
    "\n",
    "km_si_l = KMeans(n_clusters = 2, \n",
    "                 random_state = 1)\n",
    "\n",
    "km_si_l.fit(model_si_l)\n",
    "label_si_l = km_si_l.fit_predict(model_si_l)\n",
    "\n",
    "print('Number of iterations:', km_si_l.n_iter_)\n",
    "print('Number of features:', km_si_l.n_features_in_)\n",
    "print('Number of clusters:', km_si_l.n_clusters)\n",
    "print('Inertia:', km_si_l.inertia_, '\\n')\n",
    "print(\"Predicted clusters to points: \", label_si_l[:10])"
   ]
  },
  {
   "cell_type": "markdown",
   "id": "a0d4394d",
   "metadata": {},
   "source": [
    "### Cluster Labels - RHP Sinker"
   ]
  },
  {
   "cell_type": "code",
   "execution_count": 15,
   "id": "2d8e9ae8",
   "metadata": {},
   "outputs": [
    {
     "name": "stdout",
     "output_type": "stream",
     "text": [
      "label                         0            1\n",
      "velo                  93.439930    93.161034\n",
      "spin_rate           2136.700456  2133.907054\n",
      "spin_axis            221.510692   220.747140\n",
      "pfx_-x                14.859816    14.509504\n",
      "pfx_z                  8.770393     9.197016\n",
      "bauer_units           22.871579    22.910033\n",
      "effective_speed       93.461537    93.165348\n",
      "release_pos_x         -1.896111    -1.881826\n",
      "release_pos_z          5.699458     5.719566\n",
      "release_extension      6.308661     6.289061\n",
      "launch_speed_angle     2.444216     4.501430\n",
      "xba                    0.195148     0.680031\n",
      "xwobacon               0.191651     0.796198\n",
      "woba_value             0.118471     1.048236\n",
      "babip_value            0.114431     0.776692\n",
      "iso_value              0.004205     0.633460\n"
     ]
    }
   ],
   "source": [
    "X_si_r['label'] = label_si_r\n",
    "model_si_r['label'] = label_si_r\n",
    "\n",
    "print(X_si_r.groupby(by = 'label').mean().T)"
   ]
  },
  {
   "cell_type": "markdown",
   "id": "837f65f2",
   "metadata": {},
   "source": [
    "### Cluster Labels - LHP Sinker"
   ]
  },
  {
   "cell_type": "code",
   "execution_count": 16,
   "id": "cd2c56e4",
   "metadata": {},
   "outputs": [
    {
     "name": "stdout",
     "output_type": "stream",
     "text": [
      "label                         0            1\n",
      "velo                  91.878677    92.038078\n",
      "spin_rate           2069.562056  2071.939083\n",
      "spin_axis            135.240569   134.979276\n",
      "pfx_-x               -14.756654   -15.000276\n",
      "pfx_z                  9.393527     8.759623\n",
      "bauer_units           22.526015    22.512613\n",
      "effective_speed       91.851340    91.963471\n",
      "release_pos_x          2.125943     2.124005\n",
      "release_pos_z          5.792663     5.788149\n",
      "release_extension      6.288573     6.263575\n",
      "launch_speed_angle     4.552214     2.450911\n",
      "xba                    0.681553     0.193395\n",
      "xwobacon               0.805402     0.190394\n",
      "woba_value             1.017824     0.126408\n",
      "babip_value            0.733734     0.125393\n",
      "iso_value              0.637507     0.004815\n"
     ]
    }
   ],
   "source": [
    "X_si_l['label'] = label_si_l\n",
    "model_si_l['label'] = label_si_l\n",
    "\n",
    "print(X_si_l.groupby(by = 'label').mean().T)"
   ]
  },
  {
   "cell_type": "markdown",
   "id": "809aaa04",
   "metadata": {},
   "source": [
    "## Slider"
   ]
  },
  {
   "cell_type": "markdown",
   "id": "39e0c9ec",
   "metadata": {},
   "source": [
    "### RHP"
   ]
  },
  {
   "cell_type": "code",
   "execution_count": 17,
   "id": "5acf61f0",
   "metadata": {},
   "outputs": [
    {
     "name": "stdout",
     "output_type": "stream",
     "text": [
      "Number of iterations: 7\n",
      "Number of features: 16\n",
      "Number of clusters: 2\n",
      "Inertia: 210817.22225737496 \n",
      "\n",
      "Predicted clusters to points:  [1 1 0 0 0 1 1 1 1 1]\n"
     ]
    }
   ],
   "source": [
    "features_sl_r = sl_r.select_dtypes([np.number])\n",
    "X_sl_r = features_sl_r\n",
    "\n",
    "X_sl_r_scaled = ss.fit_transform(X_sl_r)\n",
    "X_sl_r_scaled[:,:] *= -1\n",
    "\n",
    "pca_sl_r = PCA().fit_transform(X_sl_r_scaled)\n",
    "model_sl_r = pd.DataFrame(data = pca_sl_r, columns = X_sl_r.columns)\n",
    "\n",
    "km_sl_r = KMeans(n_clusters = 2, random_state = 1)\n",
    "\n",
    "km_sl_r.fit(model_sl_r)\n",
    "label_sl_r = km_sl_r.fit_predict(model_sl_r)\n",
    "\n",
    "print('Number of iterations:', km_sl_r.n_iter_)\n",
    "print('Number of features:', km_sl_r.n_features_in_)\n",
    "print('Number of clusters:', km_sl_r.n_clusters)\n",
    "print('Inertia:', km_sl_r.inertia_, '\\n')\n",
    "print(\"Predicted clusters to points: \", label_sl_r[:10])"
   ]
  },
  {
   "cell_type": "markdown",
   "id": "53cfab2f",
   "metadata": {},
   "source": [
    "### LHP"
   ]
  },
  {
   "cell_type": "code",
   "execution_count": 18,
   "id": "8005bb99",
   "metadata": {},
   "outputs": [
    {
     "name": "stdout",
     "output_type": "stream",
     "text": [
      "Number of iterations: 7\n",
      "Number of features: 16\n",
      "Number of clusters: 2\n",
      "Inertia: 69992.63479030851 \n",
      "\n",
      "Predicted clusters to points:  [0 1 1 1 1 1 0 0 1 1]\n"
     ]
    }
   ],
   "source": [
    "features_sl_l = sl_l.select_dtypes([np.number])\n",
    "X_sl_l = features_sl_l\n",
    "\n",
    "X_sl_l_scaled = ss.fit_transform(X_sl_l)\n",
    "X_sl_l_scaled[:,:] *= -1\n",
    "\n",
    "pca_sl_l = PCA().fit_transform(X_sl_l_scaled)\n",
    "model_sl_l = pd.DataFrame(data = pca_sl_l, columns = X_sl_l.columns)\n",
    "\n",
    "km_sl_l = KMeans(n_clusters = 2, random_state = 1)\n",
    "\n",
    "km_sl_l.fit(model_sl_l)\n",
    "label_sl_l = km_sl_l.fit_predict(model_sl_l)\n",
    "\n",
    "print('Number of iterations:', km_sl_l.n_iter_)\n",
    "print('Number of features:', km_sl_l.n_features_in_)\n",
    "print('Number of clusters:', km_sl_l.n_clusters)\n",
    "print('Inertia:', km_sl_l.inertia_, '\\n')\n",
    "print(\"Predicted clusters to points: \", label_sl_l[:10])"
   ]
  },
  {
   "cell_type": "markdown",
   "id": "7d8eeaca",
   "metadata": {},
   "source": [
    "### Cluster Labels - RHP Slider"
   ]
  },
  {
   "cell_type": "code",
   "execution_count": 19,
   "id": "f28eee91",
   "metadata": {},
   "outputs": [
    {
     "name": "stdout",
     "output_type": "stream",
     "text": [
      "label                         0            1\n",
      "velo                  84.810380    84.856657\n",
      "spin_rate           2417.960009  2426.553068\n",
      "spin_axis            110.686587   111.281234\n",
      "pfx_-x                -5.951795    -6.161265\n",
      "pfx_z                  1.735754     1.853734\n",
      "bauer_units           28.550439    28.643810\n",
      "effective_speed       84.921658    84.977081\n",
      "release_pos_x         -1.936670    -1.922959\n",
      "release_pos_z          5.794172     5.773906\n",
      "release_extension      6.241294     6.257571\n",
      "launch_speed_angle     4.546169     2.626474\n",
      "xba                    0.672872     0.169677\n",
      "xwobacon               0.818526     0.171846\n",
      "woba_value             1.122590     0.090630\n",
      "babip_value            0.733318     0.083746\n",
      "iso_value              0.819591     0.004700\n"
     ]
    }
   ],
   "source": [
    "X_sl_r['label'] = label_sl_r\n",
    "model_sl_r['label'] = label_sl_r\n",
    "\n",
    "print(X_sl_r.groupby(by = 'label').mean().T)"
   ]
  },
  {
   "cell_type": "markdown",
   "id": "318be5bc",
   "metadata": {},
   "source": [
    "### Cluster Labels - LHP Slider"
   ]
  },
  {
   "cell_type": "code",
   "execution_count": 20,
   "id": "6e2ff3cf",
   "metadata": {},
   "outputs": [
    {
     "name": "stdout",
     "output_type": "stream",
     "text": [
      "label                         0            1\n",
      "velo                  83.883925    83.918027\n",
      "spin_rate           2335.762224  2346.716942\n",
      "spin_axis            246.592766   247.318440\n",
      "pfx_-x                 5.217227     5.531808\n",
      "pfx_z                  1.520375     1.470775\n",
      "bauer_units           27.883487    28.005239\n",
      "effective_speed       83.976758    83.981405\n",
      "release_pos_x          1.965358     1.988166\n",
      "release_pos_z          5.887455     5.880194\n",
      "release_extension      6.244809     6.230243\n",
      "launch_speed_angle     4.611520     2.602273\n",
      "xba                    0.690307     0.177446\n",
      "xwobacon               0.849422     0.179525\n",
      "woba_value             1.116477     0.095622\n",
      "babip_value            0.721366     0.091426\n",
      "iso_value              0.817147     0.004907\n"
     ]
    }
   ],
   "source": [
    "X_sl_l['label'] = label_sl_l\n",
    "model_sl_l['label'] = label_sl_l\n",
    "\n",
    "print(X_sl_l.groupby(by = 'label').mean().T)"
   ]
  },
  {
   "cell_type": "markdown",
   "id": "37d184f1",
   "metadata": {},
   "source": [
    "## Curveball"
   ]
  },
  {
   "cell_type": "markdown",
   "id": "39891fff",
   "metadata": {},
   "source": [
    "### RHP"
   ]
  },
  {
   "cell_type": "code",
   "execution_count": 21,
   "id": "b44abbe0",
   "metadata": {},
   "outputs": [
    {
     "name": "stdout",
     "output_type": "stream",
     "text": [
      "Number of iterations: 16\n",
      "Number of features: 16\n",
      "Number of clusters: 2\n",
      "Inertia: 75407.59015019915 \n",
      "\n",
      "Predicted clusters to points:  [0 1 0 0 0 0 0 0 1 0]\n"
     ]
    }
   ],
   "source": [
    "features_cu_r = cu_r.select_dtypes([np.number])\n",
    "X_cu_r = features_cu_r\n",
    "\n",
    "X_cu_r_scaled = ss.fit_transform(X_cu_r)\n",
    "X_cu_r_scaled[:,:] *= -1\n",
    "\n",
    "pca_cu_r = PCA().fit_transform(X_cu_r_scaled)\n",
    "model_cu_r = pd.DataFrame(data = pca_cu_r, columns = X_cu_r.columns)\n",
    "\n",
    "km_cu_r = KMeans(n_clusters = 2, random_state = 1)\n",
    "\n",
    "km_cu_r.fit(model_cu_r)\n",
    "label_cu_r = km_cu_r.fit_predict(model_cu_r)\n",
    "\n",
    "print('Number of iterations:', km_cu_r.n_iter_)\n",
    "print('Number of features:', km_cu_r.n_features_in_)\n",
    "print('Number of clusters:', km_cu_r.n_clusters)\n",
    "print('Inertia:', km_cu_r.inertia_, '\\n')\n",
    "print(\"Predicted clusters to points: \", label_cu_r[:10])"
   ]
  },
  {
   "cell_type": "markdown",
   "id": "7e86769f",
   "metadata": {},
   "source": [
    "### LHP"
   ]
  },
  {
   "cell_type": "code",
   "execution_count": 22,
   "id": "23d6fc4e",
   "metadata": {},
   "outputs": [
    {
     "name": "stdout",
     "output_type": "stream",
     "text": [
      "Number of iterations: 11\n",
      "Number of features: 16\n",
      "Number of clusters: 2\n",
      "Inertia: 35259.19383230242 \n",
      "\n",
      "Predicted clusters to points:  [0 1 0 1 0 0 1 0 0 1]\n"
     ]
    }
   ],
   "source": [
    "features_cu_l = cu_l.select_dtypes([np.number])\n",
    "X_cu_l = features_cu_l\n",
    "\n",
    "X_cu_l_scaled = ss.fit_transform(X_cu_l)\n",
    "X_cu_l_scaled[:,:] *= -1\n",
    "\n",
    "pca_cu_l = PCA().fit_transform(X_cu_l_scaled)\n",
    "model_cu_l = pd.DataFrame(data = pca_cu_l, columns = X_cu_l.columns)\n",
    "\n",
    "km_cu_l = KMeans(n_clusters = 2, random_state = 1)\n",
    "\n",
    "km_cu_l.fit(model_cu_l)\n",
    "label_cu_l = km_cu_l.fit_predict(model_cu_l)\n",
    "\n",
    "print('Number of iterations:', km_cu_l.n_iter_)\n",
    "print('Number of features:', km_cu_l.n_features_in_)\n",
    "print('Number of clusters:', km_cu_l.n_clusters)\n",
    "print('Inertia:', km_cu_l.inertia_, '\\n')\n",
    "print(\"Predicted clusters to points: \", label_cu_l[:10])"
   ]
  },
  {
   "cell_type": "markdown",
   "id": "8834fc6a",
   "metadata": {},
   "source": [
    "### Cluster Labels - RHP Curveball"
   ]
  },
  {
   "cell_type": "code",
   "execution_count": 23,
   "id": "7318a85e",
   "metadata": {},
   "outputs": [
    {
     "name": "stdout",
     "output_type": "stream",
     "text": [
      "label                         0            1\n",
      "velo                  79.079004    78.900240\n",
      "spin_rate           2540.346578  2520.439376\n",
      "spin_axis             45.297032    43.390756\n",
      "pfx_-x                -9.802001    -9.519184\n",
      "pfx_z                 -9.282060    -9.497863\n",
      "bauer_units           32.175000    32.007423\n",
      "effective_speed       78.887785    78.685774\n",
      "release_pos_x         -1.637221    -1.656020\n",
      "release_pos_z          5.969956     5.972461\n",
      "release_extension      6.241599     6.216927\n",
      "launch_speed_angle     2.633799     4.428571\n",
      "xba                    0.186647     0.661477\n",
      "xwobacon               0.187629     0.778336\n",
      "woba_value             0.079765     1.074850\n",
      "babip_value            0.074319     0.761705\n",
      "iso_value              0.001472     0.711885\n"
     ]
    }
   ],
   "source": [
    "X_cu_r['label'] = label_cu_r\n",
    "model_cu_r['label'] = label_cu_r\n",
    "\n",
    "print(X_cu_r.groupby(by = 'label').mean().T)"
   ]
  },
  {
   "cell_type": "markdown",
   "id": "47927ae5",
   "metadata": {},
   "source": [
    "### Cluster Labels - LHP Curveball"
   ]
  },
  {
   "cell_type": "code",
   "execution_count": 24,
   "id": "dff500a6",
   "metadata": {},
   "outputs": [
    {
     "name": "stdout",
     "output_type": "stream",
     "text": [
      "label                         0            1\n",
      "velo                  77.621218    77.400253\n",
      "spin_rate           2437.867122  2389.720960\n",
      "spin_axis            293.908088   297.957071\n",
      "pfx_-x                 8.600231     8.089697\n",
      "pfx_z                 -7.146996    -7.351061\n",
      "bauer_units           31.475532    30.948112\n",
      "effective_speed       77.250473    77.067045\n",
      "release_pos_x          1.922967     1.984735\n",
      "release_pos_z          5.976061     5.998220\n",
      "release_extension      6.106460     6.116540\n",
      "launch_speed_angle     2.584034     4.444444\n",
      "xba                    0.181229     0.671086\n",
      "xwobacon               0.181639     0.789523\n",
      "woba_value             0.091675     1.082702\n",
      "babip_value            0.086660     0.765152\n",
      "iso_value              0.002626     0.702020\n"
     ]
    }
   ],
   "source": [
    "X_cu_l['label'] = label_cu_l\n",
    "model_cu_l['label'] = label_cu_l\n",
    "\n",
    "print(X_cu_l.groupby(by = 'label').mean().T)"
   ]
  },
  {
   "cell_type": "markdown",
   "id": "3c72e08b",
   "metadata": {},
   "source": [
    "## Changeup"
   ]
  },
  {
   "cell_type": "markdown",
   "id": "7992cd5a",
   "metadata": {},
   "source": [
    "### RHP"
   ]
  },
  {
   "cell_type": "code",
   "execution_count": 25,
   "id": "e579998c",
   "metadata": {},
   "outputs": [
    {
     "name": "stdout",
     "output_type": "stream",
     "text": [
      "Number of iterations: 12\n",
      "Number of features: 16\n",
      "Number of clusters: 2\n",
      "Inertia: 308025617.97422105 \n",
      "\n",
      "Predicted clusters to points:  [0 0 1 0 0 0 0 1 1 1]\n"
     ]
    }
   ],
   "source": [
    "features_ch_r = ch_r.select_dtypes([np.number])\n",
    "X_ch_r = features_ch_r\n",
    "\n",
    "X_ch_r_scaled = ss.fit_transform(X_ch_r)\n",
    "X_ch_r_scaled[:,:] *= -1\n",
    "\n",
    "pca_ch_r = PCA().fit_transform(X_ch_r)\n",
    "model_ch_r = pd.DataFrame(data = pca_ch_r, columns = X_ch_r.columns)\n",
    "\n",
    "km_ch_r = KMeans(n_clusters = 2, random_state = 1)\n",
    "\n",
    "km_ch_r.fit(model_ch_r)\n",
    "label_ch_r = km_ch_r.fit_predict(model_ch_r)\n",
    "\n",
    "print('Number of iterations:', km_ch_r.n_iter_)\n",
    "print('Number of features:', km_ch_r.n_features_in_)\n",
    "print('Number of clusters:', km_ch_r.n_clusters)\n",
    "print('Inertia:', km_ch_r.inertia_, '\\n')\n",
    "print(\"Predicted clusters to points: \", label_ch_r[:10])"
   ]
  },
  {
   "cell_type": "markdown",
   "id": "c84ee6f4",
   "metadata": {},
   "source": [
    "### LHP"
   ]
  },
  {
   "cell_type": "code",
   "execution_count": 26,
   "id": "d17ac6ce",
   "metadata": {},
   "outputs": [
    {
     "name": "stdout",
     "output_type": "stream",
     "text": [
      "Number of iterations: 7\n",
      "Number of features: 16\n",
      "Number of clusters: 2\n",
      "Inertia: 186939315.76588735 \n",
      "\n",
      "Predicted clusters to points:  [0 0 0 0 0 0 0 0 0 0]\n"
     ]
    }
   ],
   "source": [
    "features_ch_l = ch_l.select_dtypes([np.number])\n",
    "X_ch_l = features_ch_l\n",
    "\n",
    "X_ch_l_scaled = ss.fit_transform(X_ch_l)\n",
    "X_ch_l_scaled[:,:] *= -1\n",
    "\n",
    "pca_ch_l = PCA().fit_transform(X_ch_l)\n",
    "model_ch_l = pd.DataFrame(data = pca_ch_l, columns = X_ch_l.columns)\n",
    "\n",
    "km_ch_l = KMeans(n_clusters = 2, random_state = 1)\n",
    "\n",
    "km_ch_l.fit(model_ch_l)\n",
    "label_ch_l = km_ch_l.fit_predict(model_ch_l)\n",
    "\n",
    "print('Number of iterations:', km_ch_l.n_iter_)\n",
    "print('Number of features:', km_ch_l.n_features_in_)\n",
    "print('Number of clusters:', km_ch_l.n_clusters)\n",
    "print('Inertia:', km_ch_l.inertia_, '\\n')\n",
    "print(\"Predicted clusters to points: \", label_ch_l[:10])"
   ]
  },
  {
   "cell_type": "markdown",
   "id": "f4ddb95c",
   "metadata": {},
   "source": [
    "### Cluster Labels - RHP Changeup"
   ]
  },
  {
   "cell_type": "code",
   "execution_count": 27,
   "id": "decc0285",
   "metadata": {},
   "outputs": [
    {
     "name": "stdout",
     "output_type": "stream",
     "text": [
      "label                         0            1\n",
      "velo                  85.150080    85.830530\n",
      "spin_rate           1554.704235  2022.018830\n",
      "spin_axis            235.687046   239.047201\n",
      "pfx_-x                12.801042    14.918082\n",
      "pfx_z                  6.378033     6.441617\n",
      "bauer_units           18.281275    23.610074\n",
      "effective_speed       85.420237    85.747979\n",
      "release_pos_x         -1.876170    -2.040256\n",
      "release_pos_z          5.832249     5.718619\n",
      "release_extension      6.392805     6.224354\n",
      "launch_speed_angle     3.058657     3.045945\n",
      "xba                    0.313725     0.311579\n",
      "xwobacon               0.348350     0.341704\n",
      "woba_value             0.362272     0.353628\n",
      "babip_value            0.256424     0.263369\n",
      "iso_value              0.215311     0.190560\n"
     ]
    }
   ],
   "source": [
    "X_ch_r['label'] = label_ch_r\n",
    "model_ch_r['label'] = label_ch_r\n",
    "\n",
    "print(X_ch_r.groupby(by = 'label').mean().T)"
   ]
  },
  {
   "cell_type": "markdown",
   "id": "b47585b3",
   "metadata": {},
   "source": [
    "### Cluster Labels - LHP Changeup"
   ]
  },
  {
   "cell_type": "code",
   "execution_count": 28,
   "id": "1633b5ff",
   "metadata": {},
   "outputs": [
    {
     "name": "stdout",
     "output_type": "stream",
     "text": [
      "label                         0            1\n",
      "velo                  83.287261    83.847652\n",
      "spin_rate           1561.541289  2058.894691\n",
      "spin_axis            123.590131   120.131637\n",
      "pfx_-x               -12.879063   -15.569882\n",
      "pfx_z                  7.181118     8.659851\n",
      "bauer_units           18.776078    24.581479\n",
      "effective_speed       83.340030    83.602238\n",
      "release_pos_x          2.085660     1.964204\n",
      "release_pos_z          5.865209     5.781654\n",
      "release_extension      6.270493     6.171698\n",
      "launch_speed_angle     3.039023     3.050900\n",
      "xba                    0.321317     0.298887\n",
      "xwobacon               0.351219     0.329034\n",
      "woba_value             0.363847     0.338833\n",
      "babip_value            0.281219     0.243967\n",
      "iso_value              0.178499     0.193506\n"
     ]
    }
   ],
   "source": [
    "X_ch_l['label'] = label_ch_l\n",
    "model_ch_l['label'] = label_ch_l\n",
    "\n",
    "print(X_ch_l.groupby(by = 'label').mean().T)"
   ]
  }
 ],
 "metadata": {
  "kernelspec": {
   "display_name": "Python 3",
   "language": "python",
   "name": "python3"
  },
  "language_info": {
   "codemirror_mode": {
    "name": "ipython",
    "version": 3
   },
   "file_extension": ".py",
   "mimetype": "text/x-python",
   "name": "python",
   "nbconvert_exporter": "python",
   "pygments_lexer": "ipython3",
   "version": "3.8.8"
  }
 },
 "nbformat": 4,
 "nbformat_minor": 5
}
