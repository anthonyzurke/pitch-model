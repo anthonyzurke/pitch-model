{
 "cells": [
  {
   "cell_type": "code",
   "execution_count": 1,
   "id": "6d462188",
   "metadata": {},
   "outputs": [],
   "source": [
    "# Clean data for modeling\n",
    "\n",
    "pitch = pd.read_csv('../data/mlb-pitches.csv', index_col = [0])\n",
    "pitch = pitch[['player_name', 'p_throws', 'pitch_type','release_speed', 'release_spin_rate', 'spin_axis', \n",
    "               'pfx_-x', 'pfx_z', 'bauer_units', 'effective_speed', 'release_pos_x', 'release_pos_z', \n",
    "               'release_extension', 'release_pos_y', 'plate_-x', 'plate_x', 'plate_z', 'type', 'balls','strikes', \n",
    "               'pitch_count', 'stand', 'description', 'events', 'hit_distance_sc', 'launch_speed','launch_angle', \n",
    "               'launch_speed_angle', 'estimated_ba_using_speedangle', 'estimated_woba_using_speedangle', \n",
    "               'woba_value', 'woba_denom', 'babip_value', 'iso_value','at_bat_number', 'pitch_number', \n",
    "               'inning', 'inning_topbot', 'home_score', 'away_score', 'post_home_score', 'post_away_score', \n",
    "               'on_1b', 'on_2b', 'on_3b', 'outs_when_up', 'delta_run_exp']].copy()\n",
    "\n",
    "#Rename some columns\n",
    "col_dict = {\n",
    "    'release_speed': 'velo',\n",
    "    'release_spin_rate': 'spin_rate',\n",
    "    'launch_speed': 'exit_velo',\n",
    "    'estimated_ba_using_speedangle': 'xba',\n",
    "    'estimated_woba_using_speedangle': 'xwobacon'\n",
    "}\n",
    "pitch.rename(columns = col_dict, inplace = True)\n",
    "pitch.to_csv('../data/model-pitches.csv')"
   ]
  }
 ],
 "metadata": {
  "kernelspec": {
   "display_name": "Python 3",
   "language": "python",
   "name": "python3"
  },
  "language_info": {
   "codemirror_mode": {
    "name": "ipython",
    "version": 3
   },
   "file_extension": ".py",
   "mimetype": "text/x-python",
   "name": "python",
   "nbconvert_exporter": "python",
   "pygments_lexer": "ipython3",
   "version": "3.8.8"
  }
 },
 "nbformat": 4,
 "nbformat_minor": 5
}
