{
 "cells": [
  {
   "cell_type": "code",
   "execution_count": 1,
   "id": "6d462188",
   "metadata": {},
   "outputs": [],
   "source": [
    "# Clean data for modeling\n",
    "\n",
    "pitch = pd.read_csv('../data/mlb-pitches.csv', index_col = [0])\n",
    "pitch = pitch[['player_name', 'p_throws', 'pitch_type','release_speed', 'release_spin_rate', 'spin_axis', \n",
    "               'pfx_-x', 'pfx_z', 'bauer_units', 'effective_speed', 'release_pos_x', 'release_pos_z', \n",
    "               'release_extension', 'release_pos_y', 'plate_-x', 'plate_x', 'plate_z', 'type', 'balls','strikes', \n",
    "               'pitch_count', 'stand', 'description', 'events', 'hit_distance_sc', 'launch_speed','launch_angle', \n",
    "               'launch_speed_angle', 'estimated_ba_using_speedangle', 'estimated_woba_using_speedangle', \n",
    "               'woba_value', 'woba_denom', 'babip_value', 'iso_value','at_bat_number', 'pitch_number', \n",
    "               'inning', 'inning_topbot', 'home_score', 'away_score', 'post_home_score', 'post_away_score', \n",
    "               'on_1b', 'on_2b', 'on_3b', 'outs_when_up', 'delta_run_exp']].copy()\n",
    "\n",
    "#Rename some columns\n",
    "col_dict = {\n",
    "    'release_speed': 'velo',\n",
    "    'release_spin_rate': 'spin_rate',\n",
    "    'launch_speed': 'exit_velo',\n",
    "    'estimated_ba_using_speedangle': 'xba',\n",
    "    'estimated_woba_using_speedangle': 'xwobacon'\n",
    "}\n",
    "pitch.rename(columns = col_dict, inplace = True)\n",
    "pitch.to_csv('../data/model-pitches.csv')"
   ]
  },
  {
   "cell_type": "code",
   "execution_count": 2,
   "id": "5e57a2f1",
   "metadata": {},
   "outputs": [],
   "source": [
    "# Add RV to model-pitches.csv\n",
    "\n",
    "data = pd.read_csv('../data/model-pitches.csv', index_col = [0])\n",
    "data.dropna(subset = ['pitch_type', 'velo', 'spin_rate', 'pfx_-x', \n",
    "                      'release_extension', 'delta_run_exp'], inplace = True)\n",
    "\n",
    "data['inning_topbot'] = data.inning_topbot.map({'Top': 0, 'Bot': 1})\n",
    "data['on_1b'] = [1 if x > 1 else 0 for x in data['on_1b']]\n",
    "data['on_2b'] = [1 if x > 1 else 0 for x in data['on_2b']]\n",
    "data['on_3b'] = [1 if x > 1 else 0 for x in data['on_3b']]\n",
    "\n",
    "data['home_runs'] = data['post_home_score'] - data['home_score']\n",
    "data['away_runs'] = data['post_away_score'] - data['away_score']\n",
    "data['runs'] = data['home_runs'] + data['away_runs']\n",
    "\n",
    "re = pd.read_csv('../data/run_expectancy_table.csv', index_col = [0])\n",
    "data = pd.merge(data, re, how = 'left', on = ['on_1b', 'on_2b', 'on_3b', 'outs_when_up'])\n",
    "\n",
    "data['re_end_state'] = data['delta_run_exp'] + data['re']\n",
    "data['re24'] = data['re_end_state'] - data['re'] + data['runs']\n",
    "\n",
    "count_woba = pd.read_csv('../data/count_woba_value.csv', index_col = [0])\n",
    "data = pd.merge(data, count_woba, how = 'left', on = ['pitch_count'])\n",
    "data['count_woba_diff'] = -data['count_woba_value'].diff(1)\n",
    "data['count_woba_after'] = data['count_woba_value'] + data['count_woba_diff']\n",
    "data['count_woba_diff'].fillna(0, inplace = True)\n",
    "data['count_woba_after'].fillna(0, inplace = True)\n",
    "data['rv_count'] = round((data['count_woba_diff']) / 1.15, 3)\n",
    "\n",
    "data.to_csv('../data/model-pitches-rv.csv')"
   ]
  }
 ],
 "metadata": {
  "kernelspec": {
   "display_name": "Python 3",
   "language": "python",
   "name": "python3"
  },
  "language_info": {
   "codemirror_mode": {
    "name": "ipython",
    "version": 3
   },
   "file_extension": ".py",
   "mimetype": "text/x-python",
   "name": "python",
   "nbconvert_exporter": "python",
   "pygments_lexer": "ipython3",
   "version": "3.8.8"
  }
 },
 "nbformat": 4,
 "nbformat_minor": 5
}
