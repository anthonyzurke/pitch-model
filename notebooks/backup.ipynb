{
 "cells": [
  {
   "cell_type": "markdown",
   "id": "e3a251ae",
   "metadata": {},
   "source": [
    "# Notebook Contents\n",
    "\n",
    "- [Imports](#Imports)\n",
    "- [Data](#Data)\n",
    "- [Data Cleaning](#Data-Cleaning)\n",
    "- [Preprocessing](#Preprocessing)\n",
    "    - [Multicolinearity - VIF](#Multicolinearity---VIF)\n",
    "- [Features](#Features)\n",
    "- [Random Forest Modeling](#Random-Forest-Modeling)\n",
    "    - [4-Seam](#Linear-Regression---4-Seam)\n",
    "    - [Cutter](#Linear-Regression---Cutter)\n",
    "    - [Sinker](#Linear-Regression---Sinker)\n",
    "    - [Slider](#Linear-Regression---Slider)\n",
    "    - [Curveball](#Linear-Regression---Curveball)\n",
    "    - [Changeup](#Linear-Regression---Changeup)"
   ]
  },
  {
   "cell_type": "markdown",
   "id": "d9e026b1",
   "metadata": {},
   "source": [
    "# Imports"
   ]
  },
  {
   "cell_type": "code",
   "execution_count": 1,
   "id": "60b94abb",
   "metadata": {},
   "outputs": [],
   "source": [
    "from statsmodels.stats.outliers_influence import variance_inflation_factor\n",
    "from sklearn.preprocessing import StandardScaler\n",
    "from sklearn.decomposition import PCA\n",
    "from sklearn.cluster import KMeans, k_means\n",
    "import statsmodels.api as sm\n",
    "from sklearn.linear_model import LinearRegression\n",
    "from sklearn.ensemble import RandomForestRegressor\n",
    "from sklearn import metrics\n",
    "from sklearn.model_selection import train_test_split, cross_val_score, GridSearchCV\n",
    "\n",
    "import warnings\n",
    "warnings.filterwarnings('ignore')"
   ]
  },
  {
   "cell_type": "markdown",
   "id": "fea80ba4",
   "metadata": {},
   "source": [
    "# Data"
   ]
  },
  {
   "cell_type": "code",
   "execution_count": null,
   "id": "ab4ad7ce",
   "metadata": {},
   "outputs": [],
   "source": []
  },
  {
   "cell_type": "code",
   "execution_count": null,
   "id": "9e66da5a",
   "metadata": {},
   "outputs": [],
   "source": [
    "runs = data[['home_score', 'away_score', 'post_home_score', 'post_away_score', 'home_runs', 'away_runs']]\n",
    "runs.tail(10)"
   ]
  },
  {
   "cell_type": "code",
   "execution_count": null,
   "id": "0525939f",
   "metadata": {},
   "outputs": [],
   "source": [
    "re.groupby(['re']).mean()"
   ]
  },
  {
   "cell_type": "markdown",
   "id": "637105e5",
   "metadata": {},
   "source": [
    "# Data Cleaning"
   ]
  },
  {
   "cell_type": "markdown",
   "id": "f4e22919",
   "metadata": {},
   "source": [
    "HR, 3B, 2B, 1B, reach on error, HBP, BB, IBB, out, K, passed ball, WP, balk, SB, CS, pickoff, pickoff error, OtherAdvance, interference, foulE?, DefensiveIndiff"
   ]
  },
  {
   "cell_type": "code",
   "execution_count": null,
   "id": "e2b49686",
   "metadata": {},
   "outputs": [],
   "source": [
    "data.events.value_counts()"
   ]
  },
  {
   "cell_type": "code",
   "execution_count": null,
   "id": "8b29114e",
   "metadata": {},
   "outputs": [],
   "source": [
    "data.description.value_counts()"
   ]
  },
  {
   "cell_type": "markdown",
   "id": "32b5ed08",
   "metadata": {},
   "source": [
    "# Preprocessing\n",
    "\n",
    "### Multicolinearity - VIF\n",
    "\n",
    "Velocity, Spin Rate, HB, VB, Release Extension, Horizontal Release Position, Vertical Release Position, Horizontal Plate Coords, Vertical Plate Coords"
   ]
  },
  {
   "cell_type": "code",
   "execution_count": null,
   "id": "c139a34c",
   "metadata": {},
   "outputs": [],
   "source": [
    "#features = data[['velo', 'spin_rate', 'pfx_-x', 'pfx_z', 'release_extension', \n",
    "#                 'release_pos_x', 'release_pos_z', 'plate_x', 'plate_z',\n",
    "#                 'pitch_type', 'p_throws']]\n",
    "#features_vif = features.select_dtypes([np.number])\n",
    "#vif_data = pd.DataFrame()\n",
    "#vif_data[\"feature\"] = features_vif.columns\n",
    "#\n",
    "#vif_data[\"VIF\"] = [variance_inflation_factor(features_vif.values, i)\n",
    "#                   for i in range(len(features_vif.columns))]\n",
    "#\n",
    "#vif_data.sort_values(by = 'VIF').head(10)"
   ]
  },
  {
   "cell_type": "markdown",
   "id": "0d83542a",
   "metadata": {},
   "source": [
    "# Features"
   ]
  },
  {
   "cell_type": "markdown",
   "id": "59327c0f",
   "metadata": {},
   "source": [
    "**Independent Variables:** Velocity, Spin Rate, VB, HB, Release Extension, Horizontal Release Position, Vertical Release Position, Horizontal Plate Coords, Vertical Plate Coords\n",
    "\n",
    "**Dependent Variable:** re_play"
   ]
  },
  {
   "cell_type": "markdown",
   "id": "203ac4dd",
   "metadata": {},
   "source": [
    "Pitch Types:\n",
    "\n",
    "Fastball: 4-Seam, Cutter, Sinker (FF, FC, SI)\n",
    "\n",
    "Breaking Ball: Slider, Curveball, Knuckle Curve (SL, CU, KC)\n",
    "\n",
    "Offspeed: Changeup, Splitter (CH, FS)"
   ]
  },
  {
   "cell_type": "code",
   "execution_count": null,
   "id": "e80578e1",
   "metadata": {},
   "outputs": [],
   "source": [
    "ff = data.loc[data['pitch_type'] == 'FF']\n",
    "fc = data.loc[data['pitch_type'] == 'FC']\n",
    "fastball = ff.append(fc)\n",
    "si = data.loc[data['pitch_type'] == 'SI']\n",
    "fastball = fastball.append(si)\n",
    "print('Fastball shape:', fastball.shape)\n",
    "sl = data.loc[data['pitch_type'] == 'SL']\n",
    "cu = data.loc[data['pitch_type'] == 'CU']\n",
    "breaking_ball = sl.append(cu)\n",
    "kc = data.loc[data['pitch_type'] == 'KC']\n",
    "breaking_ball = breaking_ball.append(kc)\n",
    "print('Breaking Ball:', breaking_ball.shape)\n",
    "ch = data.loc[data['pitch_type'] == 'CH']\n",
    "fs = data.loc[data['pitch_type'] == 'FS']\n",
    "offspeed = ch.append(fs)\n",
    "print('Off speed shape:', offspeed.shape)\n",
    "rhp = data.loc[data['p_throws'] == 'R']\n",
    "print('RHP shape:', rhp.shape)\n",
    "lhp = data.loc[data['p_throws'] == 'L']\n",
    "print('LHP shape:', lhp.shape)\n",
    "rhp_rhh = data.loc[(data['p_throws'] == 'R') & (data['stand'] == 'R')]\n",
    "print('RHP & RHH shape:', rhp_rhh.shape)\n",
    "rhp_lhh = data.loc[(data['p_throws'] == 'R') & (data['stand'] == 'L')]\n",
    "print('RHP & LHH shape:', rhp_lhh.shape)\n",
    "lhp_rhh = data.loc[(data['p_throws'] == 'L') & (data['stand'] == 'R')]\n",
    "print('LHP & RHH shape:', lhp_rhh.shape)\n",
    "lhp_lhh = data.loc[(data['p_throws'] == 'L') & (data['stand'] == 'L')]\n",
    "print('LHP & LHH shape:', lhp_lhh.shape)\n",
    "rhp_fastball = fastball.loc[fastball['p_throws'] == 'R']\n",
    "print('RHP Fastball shape:', rhp_fastball.shape)\n",
    "lhp_fastball = fastball.loc[fastball['p_throws'] == 'L']\n",
    "print('LHP Fastball shape:', lhp_fastball.shape)\n",
    "rhp_breaking_ball = breaking_ball.loc[breaking_ball['p_throws'] == 'R']\n",
    "print('RHP Breaking Ball shape:', rhp_breaking_ball.shape)\n",
    "lhp_breaking_ball = breaking_ball.loc[breaking_ball['p_throws'] == 'L']\n",
    "print('LHP Breaking Ball shape:', lhp_breaking_ball.shape)\n",
    "rhp_offspeed = offspeed.loc[offspeed['p_throws'] == 'R']\n",
    "print('RHP Offspeed shape:', rhp_offspeed.shape)\n",
    "lhp_offspeed = offspeed.loc[offspeed['p_throws'] == 'L']\n",
    "print('LHP Offspeed shape:', lhp_offspeed.shape)\n",
    "zero_outs = data.loc[data['outs_when_up'] == 0]\n",
    "print('0 outs:', zero_outs.shape)\n",
    "one_out = data.loc[data['outs_when_up'] == 1]\n",
    "print('1 out:', one_out.shape)\n",
    "two_outs = data.loc[data['outs_when_up'] == 2]\n",
    "print('2 outs:', two_outs.shape)"
   ]
  },
  {
   "cell_type": "markdown",
   "id": "90b0be07",
   "metadata": {},
   "source": [
    "# Random Forest Modeling"
   ]
  },
  {
   "cell_type": "code",
   "execution_count": null,
   "id": "590a3cf0",
   "metadata": {},
   "outputs": [],
   "source": []
  }
 ],
 "metadata": {
  "kernelspec": {
   "display_name": "Python 3",
   "language": "python",
   "name": "python3"
  },
  "language_info": {
   "codemirror_mode": {
    "name": "ipython",
    "version": 3
   },
   "file_extension": ".py",
   "mimetype": "text/x-python",
   "name": "python",
   "nbconvert_exporter": "python",
   "pygments_lexer": "ipython3",
   "version": "3.8.8"
  }
 },
 "nbformat": 4,
 "nbformat_minor": 5
}
