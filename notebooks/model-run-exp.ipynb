{
 "cells": [
  {
   "cell_type": "markdown",
   "id": "426268f7",
   "metadata": {},
   "source": [
    "# Notebook Contents\n",
    "\n",
    "- [Imports](#Imports)\n",
    "- [Data](#Data)\n",
    "- [Preprocessing](#Preprocessing)\n",
    "    - [Multicolinearity - VIF](#Multicolinearity---VIF)\n",
    "- [Features](#Features)\n",
    "- [Clustering](#Clustering)\n",
    "    - [4-Seam](#4-Seam-Fastball)\n",
    "    - [Cutter](#Cutter)\n",
    "    - [Sinker](#Sinker)\n",
    "    - [Slider](#Slider)\n",
    "    - [Curveball](#Curveball)\n",
    "    - [Changeup](#Changeup)\n",
    "- [Linear Regression Modeling](#Linear-Regression-Modeling)\n",
    "    - [4-Seam](#Linear-Regression---4-Seam)\n",
    "    - [Cutter](#Linear-Regression---Cutter)\n",
    "    - [Sinker](#Linear-Regression---Sinker)\n",
    "    - [Slider](#Linear-Regression---Slider)\n",
    "    - [Curveball](#Linear-Regression---Curveball)\n",
    "    - [Changeup](#Linear-Regression---Changeup)"
   ]
  },
  {
   "cell_type": "markdown",
   "id": "9a8c2c47",
   "metadata": {},
   "source": [
    "# Imports"
   ]
  },
  {
   "cell_type": "code",
   "execution_count": 1,
   "id": "3b41894e",
   "metadata": {},
   "outputs": [],
   "source": [
    "from statsmodels.stats.outliers_influence import variance_inflation_factor\n",
    "from sklearn.preprocessing import StandardScaler\n",
    "from sklearn.decomposition import PCA\n",
    "from sklearn.cluster import KMeans, k_means\n",
    "import statsmodels.api as sm\n",
    "from sklearn.linear_model import LinearRegression\n",
    "from sklearn import metrics\n",
    "from sklearn.model_selection import train_test_split, cross_val_score\n",
    "\n",
    "import warnings\n",
    "warnings.filterwarnings('ignore')"
   ]
  },
  {
   "cell_type": "markdown",
   "id": "7a31fda9",
   "metadata": {},
   "source": [
    "# Data"
   ]
  },
  {
   "cell_type": "code",
   "execution_count": 2,
   "id": "40799b48",
   "metadata": {},
   "outputs": [
    {
     "name": "stdout",
     "output_type": "stream",
     "text": [
      "(116889, 29)\n"
     ]
    },
    {
     "data": {
      "text/html": [
       "<div><div id=58ed623c-7411-4431-899c-7fc9580777c7 style=\"display:none; background-color:#9D6CFF; color:white; width:200px; height:30px; padding-left:5px; border-radius:4px; flex-direction:row; justify-content:space-around; align-items:center;\" onmouseover=\"this.style.backgroundColor='#BA9BF8'\" onmouseout=\"this.style.backgroundColor='#9D6CFF'\" onclick=\"window.commands?.execute('create-mitosheet-from-dataframe-output');\">See Full Dataframe in Mito</div> <script> if (window.commands.hasCommand('create-mitosheet-from-dataframe-output')) document.getElementById('58ed623c-7411-4431-899c-7fc9580777c7').style.display = 'flex' </script> <table border=\"1\" class=\"dataframe\">\n",
       "  <thead>\n",
       "    <tr style=\"text-align: right;\">\n",
       "      <th></th>\n",
       "      <th>p_throws</th>\n",
       "      <th>pitch_type</th>\n",
       "      <th>velo</th>\n",
       "      <th>spin_rate</th>\n",
       "      <th>spin_axis</th>\n",
       "      <th>pfx_-x</th>\n",
       "      <th>pfx_z</th>\n",
       "      <th>bauer_units</th>\n",
       "      <th>effective_speed</th>\n",
       "      <th>release_pos_x</th>\n",
       "      <th>release_pos_z</th>\n",
       "      <th>release_extension</th>\n",
       "      <th>release_pos_y</th>\n",
       "      <th>plate_-x</th>\n",
       "      <th>plate_x</th>\n",
       "      <th>plate_z</th>\n",
       "      <th>swing_miss</th>\n",
       "      <th>delta_run_exp</th>\n",
       "      <th>stand</th>\n",
       "      <th>hit_distance_sc</th>\n",
       "      <th>exit_velo</th>\n",
       "      <th>launch_angle</th>\n",
       "      <th>launch_speed_angle</th>\n",
       "      <th>xba</th>\n",
       "      <th>xwobacon</th>\n",
       "      <th>woba_value</th>\n",
       "      <th>woba_denom</th>\n",
       "      <th>babip_value</th>\n",
       "      <th>iso_value</th>\n",
       "    </tr>\n",
       "  </thead>\n",
       "  <tbody>\n",
       "    <tr>\n",
       "      <th>0</th>\n",
       "      <td>L</td>\n",
       "      <td>FF</td>\n",
       "      <td>92.3</td>\n",
       "      <td>2330.0</td>\n",
       "      <td>148.0</td>\n",
       "      <td>-8.28</td>\n",
       "      <td>16.56</td>\n",
       "      <td>25.243770</td>\n",
       "      <td>92.8</td>\n",
       "      <td>1.40</td>\n",
       "      <td>6.80</td>\n",
       "      <td>6.5</td>\n",
       "      <td>54.03</td>\n",
       "      <td>0.69</td>\n",
       "      <td>-0.69</td>\n",
       "      <td>2.83</td>\n",
       "      <td>0</td>\n",
       "      <td>-0.073</td>\n",
       "      <td>R</td>\n",
       "      <td>13.0</td>\n",
       "      <td>95.2</td>\n",
       "      <td>-13.0</td>\n",
       "      <td>2.0</td>\n",
       "      <td>0.174</td>\n",
       "      <td>0.158</td>\n",
       "      <td>0.0</td>\n",
       "      <td>1.0</td>\n",
       "      <td>0.0</td>\n",
       "      <td>0.0</td>\n",
       "    </tr>\n",
       "    <tr>\n",
       "      <th>4</th>\n",
       "      <td>L</td>\n",
       "      <td>FF</td>\n",
       "      <td>91.2</td>\n",
       "      <td>2281.0</td>\n",
       "      <td>143.0</td>\n",
       "      <td>-7.56</td>\n",
       "      <td>15.36</td>\n",
       "      <td>25.010965</td>\n",
       "      <td>90.9</td>\n",
       "      <td>1.49</td>\n",
       "      <td>6.66</td>\n",
       "      <td>6.3</td>\n",
       "      <td>54.15</td>\n",
       "      <td>0.31</td>\n",
       "      <td>-0.31</td>\n",
       "      <td>2.80</td>\n",
       "      <td>0</td>\n",
       "      <td>-0.189</td>\n",
       "      <td>L</td>\n",
       "      <td>9.0</td>\n",
       "      <td>93.3</td>\n",
       "      <td>-18.0</td>\n",
       "      <td>2.0</td>\n",
       "      <td>0.100</td>\n",
       "      <td>0.090</td>\n",
       "      <td>0.0</td>\n",
       "      <td>1.0</td>\n",
       "      <td>0.0</td>\n",
       "      <td>0.0</td>\n",
       "    </tr>\n",
       "    <tr>\n",
       "      <th>9</th>\n",
       "      <td>R</td>\n",
       "      <td>SI</td>\n",
       "      <td>94.3</td>\n",
       "      <td>1982.0</td>\n",
       "      <td>221.0</td>\n",
       "      <td>16.20</td>\n",
       "      <td>10.56</td>\n",
       "      <td>21.018028</td>\n",
       "      <td>94.4</td>\n",
       "      <td>-1.20</td>\n",
       "      <td>6.05</td>\n",
       "      <td>6.5</td>\n",
       "      <td>53.98</td>\n",
       "      <td>0.26</td>\n",
       "      <td>-0.26</td>\n",
       "      <td>1.78</td>\n",
       "      <td>0</td>\n",
       "      <td>-0.061</td>\n",
       "      <td>R</td>\n",
       "      <td>140.0</td>\n",
       "      <td>75.3</td>\n",
       "      <td>65.0</td>\n",
       "      <td>3.0</td>\n",
       "      <td>0.000</td>\n",
       "      <td>0.000</td>\n",
       "      <td>0.0</td>\n",
       "      <td>1.0</td>\n",
       "      <td>0.0</td>\n",
       "      <td>0.0</td>\n",
       "    </tr>\n",
       "    <tr>\n",
       "      <th>18</th>\n",
       "      <td>R</td>\n",
       "      <td>SL</td>\n",
       "      <td>90.5</td>\n",
       "      <td>2133.0</td>\n",
       "      <td>216.0</td>\n",
       "      <td>-0.12</td>\n",
       "      <td>7.44</td>\n",
       "      <td>23.569061</td>\n",
       "      <td>91.1</td>\n",
       "      <td>-1.51</td>\n",
       "      <td>5.93</td>\n",
       "      <td>6.3</td>\n",
       "      <td>54.23</td>\n",
       "      <td>-0.01</td>\n",
       "      <td>0.01</td>\n",
       "      <td>2.23</td>\n",
       "      <td>0</td>\n",
       "      <td>-0.173</td>\n",
       "      <td>L</td>\n",
       "      <td>294.0</td>\n",
       "      <td>96.8</td>\n",
       "      <td>18.0</td>\n",
       "      <td>4.0</td>\n",
       "      <td>0.409</td>\n",
       "      <td>0.457</td>\n",
       "      <td>0.0</td>\n",
       "      <td>1.0</td>\n",
       "      <td>0.0</td>\n",
       "      <td>0.0</td>\n",
       "    </tr>\n",
       "    <tr>\n",
       "      <th>27</th>\n",
       "      <td>R</td>\n",
       "      <td>FF</td>\n",
       "      <td>94.9</td>\n",
       "      <td>2224.0</td>\n",
       "      <td>216.0</td>\n",
       "      <td>9.00</td>\n",
       "      <td>14.16</td>\n",
       "      <td>23.435195</td>\n",
       "      <td>95.5</td>\n",
       "      <td>-2.71</td>\n",
       "      <td>6.38</td>\n",
       "      <td>6.6</td>\n",
       "      <td>53.86</td>\n",
       "      <td>0.10</td>\n",
       "      <td>-0.10</td>\n",
       "      <td>1.94</td>\n",
       "      <td>0</td>\n",
       "      <td>-0.163</td>\n",
       "      <td>R</td>\n",
       "      <td>308.0</td>\n",
       "      <td>91.8</td>\n",
       "      <td>29.0</td>\n",
       "      <td>3.0</td>\n",
       "      <td>0.109</td>\n",
       "      <td>0.156</td>\n",
       "      <td>0.0</td>\n",
       "      <td>1.0</td>\n",
       "      <td>0.0</td>\n",
       "      <td>0.0</td>\n",
       "    </tr>\n",
       "  </tbody>\n",
       "</table></div>"
      ],
      "text/plain": [
       "   p_throws pitch_type  velo  spin_rate  spin_axis  pfx_-x  pfx_z  \\\n",
       "0         L         FF  92.3     2330.0      148.0   -8.28  16.56   \n",
       "4         L         FF  91.2     2281.0      143.0   -7.56  15.36   \n",
       "9         R         SI  94.3     1982.0      221.0   16.20  10.56   \n",
       "18        R         SL  90.5     2133.0      216.0   -0.12   7.44   \n",
       "27        R         FF  94.9     2224.0      216.0    9.00  14.16   \n",
       "\n",
       "    bauer_units  effective_speed  release_pos_x  release_pos_z  \\\n",
       "0     25.243770             92.8           1.40           6.80   \n",
       "4     25.010965             90.9           1.49           6.66   \n",
       "9     21.018028             94.4          -1.20           6.05   \n",
       "18    23.569061             91.1          -1.51           5.93   \n",
       "27    23.435195             95.5          -2.71           6.38   \n",
       "\n",
       "    release_extension  release_pos_y  plate_-x  plate_x  plate_z  swing_miss  \\\n",
       "0                 6.5          54.03      0.69    -0.69     2.83           0   \n",
       "4                 6.3          54.15      0.31    -0.31     2.80           0   \n",
       "9                 6.5          53.98      0.26    -0.26     1.78           0   \n",
       "18                6.3          54.23     -0.01     0.01     2.23           0   \n",
       "27                6.6          53.86      0.10    -0.10     1.94           0   \n",
       "\n",
       "    delta_run_exp stand  hit_distance_sc  exit_velo  launch_angle  \\\n",
       "0          -0.073     R             13.0       95.2         -13.0   \n",
       "4          -0.189     L              9.0       93.3         -18.0   \n",
       "9          -0.061     R            140.0       75.3          65.0   \n",
       "18         -0.173     L            294.0       96.8          18.0   \n",
       "27         -0.163     R            308.0       91.8          29.0   \n",
       "\n",
       "    launch_speed_angle    xba  xwobacon  woba_value  woba_denom  babip_value  \\\n",
       "0                  2.0  0.174     0.158         0.0         1.0          0.0   \n",
       "4                  2.0  0.100     0.090         0.0         1.0          0.0   \n",
       "9                  3.0  0.000     0.000         0.0         1.0          0.0   \n",
       "18                 4.0  0.409     0.457         0.0         1.0          0.0   \n",
       "27                 3.0  0.109     0.156         0.0         1.0          0.0   \n",
       "\n",
       "    iso_value  \n",
       "0         0.0  \n",
       "4         0.0  \n",
       "9         0.0  \n",
       "18        0.0  \n",
       "27        0.0  "
      ]
     },
     "execution_count": 2,
     "metadata": {},
     "output_type": "execute_result"
    }
   ],
   "source": [
    "data = pd.read_csv('../data/model-pitches.csv')\n",
    "data.drop(columns = ['Unnamed: 0'], inplace = True) \n",
    "data.dropna(inplace = True)\n",
    "\n",
    "pd.set_option('max_columns', None)\n",
    "print(data.shape)\n",
    "data.head(5)"
   ]
  },
  {
   "cell_type": "code",
   "execution_count": 3,
   "id": "3a3a3d31",
   "metadata": {},
   "outputs": [],
   "source": [
    "# data['stand'] = data['stand'].map({'R': 0, 'L': 1})\n",
    "# data['p_throws'] = data['p_throws'].map({'R': 0, 'L': 1})\n",
    "\n",
    "# Drop pitch types Knuckle Curve and Splitter\n",
    "# pitch = pitch[(pitch['pitch_type'] != 'KC') & (pitch['pitch_type'] != 'FS')]"
   ]
  },
  {
   "cell_type": "markdown",
   "id": "6de88ec9",
   "metadata": {},
   "source": [
    "Pitch Types:\n",
    "\n",
    "4-Seam, Cutter, Sinker, Slider, Curveball, Changeup"
   ]
  },
  {
   "cell_type": "markdown",
   "id": "8674541e",
   "metadata": {},
   "source": [
    "# Preprocessing"
   ]
  },
  {
   "cell_type": "code",
   "execution_count": 4,
   "id": "8c957786",
   "metadata": {},
   "outputs": [
    {
     "data": {
      "image/png": "[encoded data removed]",
      "text/plain": [
       "<Figure size 576x432 with 2 Axes>"
      ]
     },
     "metadata": {
      "needs_background": "light"
     },
     "output_type": "display_data"
    }
   ],
   "source": [
    "plt.figure(figsize = (8, 6))\n",
    "sns.heatmap(data.corr()[['delta_run_exp']]\n",
    "            [data.corr()['delta_run_exp'] > .5].sort_values('delta_run_exp', ascending = False), \n",
    "            annot = True, cmap = 'coolwarm', vmin = -1, vmax = 1)\n",
    "plt.title('Correlations Between Features and xwobacon', fontsize = 14, fontweight = 'bold', pad = 15);"
   ]
  },
  {
   "cell_type": "markdown",
   "id": "4682dbc5",
   "metadata": {},
   "source": [
    "### Multicolinearity - VIF"
   ]
  },
  {
   "cell_type": "code",
   "execution_count": 5,
   "id": "62e20f9a",
   "metadata": {},
   "outputs": [
    {
     "data": {
      "text/html": [
       "<div><div id=faf4807b-ae80-4a77-afaf-7edb202d3c07 style=\"display:none; background-color:#9D6CFF; color:white; width:200px; height:30px; padding-left:5px; border-radius:4px; flex-direction:row; justify-content:space-around; align-items:center;\" onmouseover=\"this.style.backgroundColor='#BA9BF8'\" onmouseout=\"this.style.backgroundColor='#9D6CFF'\" onclick=\"window.commands?.execute('create-mitosheet-from-dataframe-output');\">See Full Dataframe in Mito</div> <script> if (window.commands.hasCommand('create-mitosheet-from-dataframe-output')) document.getElementById('faf4807b-ae80-4a77-afaf-7edb202d3c07').style.display = 'flex' </script> <table border=\"1\" class=\"dataframe\">\n",
       "  <thead>\n",
       "    <tr style=\"text-align: right;\">\n",
       "      <th></th>\n",
       "      <th>feature</th>\n",
       "      <th>VIF</th>\n",
       "    </tr>\n",
       "  </thead>\n",
       "  <tbody>\n",
       "    <tr>\n",
       "      <th>1</th>\n",
       "      <td>pfx_-x</td>\n",
       "      <td>1.094102</td>\n",
       "    </tr>\n",
       "    <tr>\n",
       "      <th>2</th>\n",
       "      <td>pfx_z</td>\n",
       "      <td>2.708317</td>\n",
       "    </tr>\n",
       "    <tr>\n",
       "      <th>6</th>\n",
       "      <td>delta_run_exp</td>\n",
       "      <td>4.621759</td>\n",
       "    </tr>\n",
       "    <tr>\n",
       "      <th>5</th>\n",
       "      <td>woba_value</td>\n",
       "      <td>6.533348</td>\n",
       "    </tr>\n",
       "    <tr>\n",
       "      <th>4</th>\n",
       "      <td>release_pos_z</td>\n",
       "      <td>96.464195</td>\n",
       "    </tr>\n",
       "    <tr>\n",
       "      <th>3</th>\n",
       "      <td>release_extension</td>\n",
       "      <td>150.538187</td>\n",
       "    </tr>\n",
       "    <tr>\n",
       "      <th>0</th>\n",
       "      <td>velo</td>\n",
       "      <td>221.647688</td>\n",
       "    </tr>\n",
       "  </tbody>\n",
       "</table></div>"
      ],
      "text/plain": [
       "             feature         VIF\n",
       "1             pfx_-x    1.094102\n",
       "2              pfx_z    2.708317\n",
       "6      delta_run_exp    4.621759\n",
       "5         woba_value    6.533348\n",
       "4      release_pos_z   96.464195\n",
       "3  release_extension  150.538187\n",
       "0               velo  221.647688"
      ]
     },
     "execution_count": 5,
     "metadata": {},
     "output_type": "execute_result"
    }
   ],
   "source": [
    "features = data[['velo', 'pfx_-x', 'pfx_z', 'release_extension', \n",
    "                 'release_pos_z', 'woba_value', 'delta_run_exp', 'pitch_type', 'p_throws']]\n",
    "# 'spin_rate'\n",
    "features_vif = features.select_dtypes([np.number])\n",
    "vif_data = pd.DataFrame()\n",
    "vif_data[\"feature\"] = features_vif.columns\n",
    "\n",
    "vif_data[\"VIF\"] = [variance_inflation_factor(features_vif.values, i)\n",
    "                   for i in range(len(features_vif.columns))]\n",
    "\n",
    "vif_data.sort_values(by = 'VIF').head(8)"
   ]
  },
  {
   "cell_type": "markdown",
   "id": "83093c8d",
   "metadata": {},
   "source": [
    "# Features"
   ]
  },
  {
   "cell_type": "markdown",
   "id": "fbb29ef6",
   "metadata": {},
   "source": [
    "**Independent Variables:** Velocity, Spin Rate, VB, HB, Vertical Release Position, Release Extension\n",
    "\n",
    "**Dependent Variable:** Launch Speed Angle"
   ]
  },
  {
   "cell_type": "code",
   "execution_count": 6,
   "id": "56e22023",
   "metadata": {},
   "outputs": [
    {
     "name": "stdout",
     "output_type": "stream",
     "text": [
      "4-Seam shape: (40378, 9)\n",
      "RHP 4-Seam shape: (28478, 9)\n",
      "LHP 4-Seam shape: (11900, 9) \n",
      "\n",
      "Cutter shape: (8698, 9)\n",
      "RHP Cutter shape: (5588, 9)\n",
      "LHP Cutter shape: (3110, 9) \n",
      "\n",
      "Sinker shape: (21979, 9)\n",
      "RHP Sinker shape: (15373, 9)\n",
      "LHP Sinker shape: (6606, 9) \n",
      "\n",
      "Slider shape: (21518, 9)\n",
      "RHP Slider shape: (16153, 9)\n",
      "LHP Slider shape: (5365, 9) \n",
      "\n",
      "Curveball shape: (8439, 9)\n",
      "RHP Curveball shape: (5743, 9)\n",
      "LHP Curveball shape: (2696, 9) \n",
      "\n",
      "Changeup shape: (15877, 9)\n",
      "RHP Changeup shape: (9626, 9)\n",
      "LHP Changeup shape: (6251, 9)\n"
     ]
    }
   ],
   "source": [
    "ff = features.loc[features['pitch_type'] == 'FF']\n",
    "print('4-Seam shape:', ff.shape)\n",
    "ff_r = features.loc[(features['pitch_type'] == 'FF') & (features['p_throws'] == 'R')]\n",
    "print('RHP 4-Seam shape:', ff_r.shape)\n",
    "ff_l = features.loc[(features['pitch_type'] == 'FF') & (features['p_throws'] == 'L')]\n",
    "print('LHP 4-Seam shape:', ff_l.shape, '\\n')\n",
    "fc = features.loc[features['pitch_type'] == 'FC']\n",
    "print('Cutter shape:', fc.shape)\n",
    "fc_r = features.loc[(features['pitch_type'] == 'FC') & (features['p_throws'] == 'R')]\n",
    "print('RHP Cutter shape:', fc_r.shape)\n",
    "fc_l = features.loc[(features['pitch_type'] == 'FC') & (features['p_throws'] == 'L')]\n",
    "print('LHP Cutter shape:', fc_l.shape, '\\n')\n",
    "si = features.loc[features['pitch_type'] == 'SI']\n",
    "print('Sinker shape:', si.shape)\n",
    "si_r = features.loc[(features['pitch_type'] == 'SI') & (features['p_throws'] == 'R')]\n",
    "print('RHP Sinker shape:', si_r.shape)\n",
    "si_l = features.loc[(features['pitch_type'] == 'SI') & (features['p_throws'] == 'L')]\n",
    "print('LHP Sinker shape:', si_l.shape, '\\n')\n",
    "sl = features.loc[features['pitch_type'] == 'SL']\n",
    "print('Slider shape:', sl.shape)\n",
    "sl_r = features.loc[(features['pitch_type'] == 'SL') & (features['p_throws'] == 'R')]\n",
    "print('RHP Slider shape:', sl_r.shape)\n",
    "sl_l = features.loc[(features['pitch_type'] == 'SL') & (features['p_throws'] == 'L')]\n",
    "print('LHP Slider shape:', sl_l.shape, '\\n')\n",
    "cu = features.loc[features['pitch_type'] == 'CU']\n",
    "print('Curveball shape:', cu.shape)\n",
    "cu_r = features.loc[(features['pitch_type'] == 'CU') & (features['p_throws'] == 'R')]\n",
    "print('RHP Curveball shape:', cu_r.shape)\n",
    "cu_l = features.loc[(features['pitch_type'] == 'CU') & (features['p_throws'] == 'L')]\n",
    "print('LHP Curveball shape:', cu_l.shape, '\\n')\n",
    "ch = features.loc[features['pitch_type'] == 'CH']\n",
    "print('Changeup shape:', ch.shape)\n",
    "ch_r = features.loc[(features['pitch_type'] == 'CH') & (features['p_throws'] == 'R')]\n",
    "print('RHP Changeup shape:', ch_r.shape)\n",
    "ch_l = features.loc[(features['pitch_type'] == 'CH') & (features['p_throws'] == 'L')]\n",
    "print('LHP Changeup shape:', ch_l.shape)"
   ]
  },
  {
   "cell_type": "markdown",
   "id": "185cf9e5",
   "metadata": {},
   "source": [
    "# Clustering"
   ]
  },
  {
   "cell_type": "markdown",
   "id": "89931699",
   "metadata": {},
   "source": [
    "## 4-Seam"
   ]
  },
  {
   "cell_type": "markdown",
   "id": "de9c21ac",
   "metadata": {},
   "source": [
    "### RHP"
   ]
  },
  {
   "cell_type": "code",
   "execution_count": 7,
   "id": "b4d9010b",
   "metadata": {},
   "outputs": [
    {
     "name": "stdout",
     "output_type": "stream",
     "text": [
      "Number of iterations: 11\n",
      "Number of features: 7\n",
      "Number of clusters: 2\n",
      "Inertia: 156633.1523840167 \n",
      "\n",
      "Predicted clusters to points:  [0 0 0 0 0 0 0 0 0 0]\n"
     ]
    }
   ],
   "source": [
    "features_ff_r = ff_r.select_dtypes([np.number])\n",
    "X_ff_r = features_ff_r\n",
    "\n",
    "ss = StandardScaler()\n",
    "X_ff_r_scaled = ss.fit_transform(X_ff_r)\n",
    "X_ff_r_scaled[:,:] *= -1\n",
    "\n",
    "pca_ff_r = PCA().fit_transform(X_ff_r_scaled)\n",
    "model_ff_r = pd.DataFrame(data = pca_ff_r, columns = X_ff_r.columns)\n",
    "\n",
    "km_ff_r = KMeans(n_clusters = 2, \n",
    "               random_state = 1)\n",
    "km_ff_r.fit(model_ff_r)\n",
    "label_ff_r = km_ff_r.fit_predict(model_ff_r)\n",
    "\n",
    "print('Number of iterations:', km_ff_r.n_iter_)\n",
    "print('Number of features:', km_ff_r.n_features_in_)\n",
    "print('Number of clusters:', km_ff_r.n_clusters)\n",
    "print('Inertia:', km_ff_r.inertia_, '\\n')\n",
    "print('Predicted clusters to points: ', label_ff_r[:10])"
   ]
  },
  {
   "cell_type": "markdown",
   "id": "df1e4fe7",
   "metadata": {},
   "source": [
    "### LHP"
   ]
  },
  {
   "cell_type": "code",
   "execution_count": 8,
   "id": "60d4b97a",
   "metadata": {},
   "outputs": [
    {
     "name": "stdout",
     "output_type": "stream",
     "text": [
      "Number of iterations: 4\n",
      "Number of features: 7\n",
      "Number of clusters: 2\n",
      "Inertia: 65417.91325848072 \n",
      "\n",
      "Predicted clusters to points:  [1 1 1 0 0 1 1 0 1 0]\n"
     ]
    }
   ],
   "source": [
    "features_ff_l = ff_l.select_dtypes([np.number])\n",
    "X_ff_l = features_ff_l\n",
    "\n",
    "ss = StandardScaler()\n",
    "X_ff_l_scaled = ss.fit_transform(X_ff_l)\n",
    "X_ff_l_scaled[:,:] *= -1\n",
    "\n",
    "pca_ff_l = PCA().fit_transform(X_ff_l_scaled)\n",
    "model_ff_l = pd.DataFrame(data = pca_ff_l, columns = X_ff_l.columns)\n",
    "\n",
    "km_ff_l = KMeans(n_clusters = 2, \n",
    "               random_state = 1)\n",
    "km_ff_l.fit(model_ff_l)\n",
    "label_ff_l = km_ff_l.fit_predict(model_ff_l)\n",
    "\n",
    "print('Number of iterations:', km_ff_l.n_iter_)\n",
    "print('Number of features:', km_ff_l.n_features_in_)\n",
    "print('Number of clusters:', km_ff_l.n_clusters)\n",
    "print('Inertia:', km_ff_l.inertia_, '\\n')\n",
    "print('Predicted clusters to points: ', label_ff_l[:10])"
   ]
  },
  {
   "cell_type": "markdown",
   "id": "83399927",
   "metadata": {},
   "source": [
    "### Cluster Labels - RHP 4-Seam"
   ]
  },
  {
   "cell_type": "code",
   "execution_count": 9,
   "id": "3dafce24",
   "metadata": {},
   "outputs": [
    {
     "data": {
      "text/html": [
       "<div><div id=d9de6dff-5bda-4002-bbcf-b6211a32bfd4 style=\"display:none; background-color:#9D6CFF; color:white; width:200px; height:30px; padding-left:5px; border-radius:4px; flex-direction:row; justify-content:space-around; align-items:center;\" onmouseover=\"this.style.backgroundColor='#BA9BF8'\" onmouseout=\"this.style.backgroundColor='#9D6CFF'\" onclick=\"window.commands?.execute('create-mitosheet-from-dataframe-output');\">See Full Dataframe in Mito</div> <script> if (window.commands.hasCommand('create-mitosheet-from-dataframe-output')) document.getElementById('d9de6dff-5bda-4002-bbcf-b6211a32bfd4').style.display = 'flex' </script> <table border=\"1\" class=\"dataframe\">\n",
       "  <thead>\n",
       "    <tr style=\"text-align: right;\">\n",
       "      <th>label</th>\n",
       "      <th>0</th>\n",
       "      <th>1</th>\n",
       "    </tr>\n",
       "  </thead>\n",
       "  <tbody>\n",
       "    <tr>\n",
       "      <th>velo</th>\n",
       "      <td>93.978226</td>\n",
       "      <td>93.945274</td>\n",
       "    </tr>\n",
       "    <tr>\n",
       "      <th>pfx_-x</th>\n",
       "      <td>7.092216</td>\n",
       "      <td>7.182650</td>\n",
       "    </tr>\n",
       "    <tr>\n",
       "      <th>pfx_z</th>\n",
       "      <td>15.746866</td>\n",
       "      <td>15.502953</td>\n",
       "    </tr>\n",
       "    <tr>\n",
       "      <th>release_extension</th>\n",
       "      <td>6.393605</td>\n",
       "      <td>6.387635</td>\n",
       "    </tr>\n",
       "    <tr>\n",
       "      <th>release_pos_z</th>\n",
       "      <td>5.892101</td>\n",
       "      <td>5.885367</td>\n",
       "    </tr>\n",
       "    <tr>\n",
       "      <th>woba_value</th>\n",
       "      <td>0.000817</td>\n",
       "      <td>1.178815</td>\n",
       "    </tr>\n",
       "    <tr>\n",
       "      <th>delta_run_exp</th>\n",
       "      <td>-0.255369</td>\n",
       "      <td>0.678571</td>\n",
       "    </tr>\n",
       "  </tbody>\n",
       "</table></div>"
      ],
      "text/plain": [
       "label                      0          1\n",
       "velo               93.978226  93.945274\n",
       "pfx_-x              7.092216   7.182650\n",
       "pfx_z              15.746866  15.502953\n",
       "release_extension   6.393605   6.387635\n",
       "release_pos_z       5.892101   5.885367\n",
       "woba_value          0.000817   1.178815\n",
       "delta_run_exp      -0.255369   0.678571"
      ]
     },
     "execution_count": 9,
     "metadata": {},
     "output_type": "execute_result"
    }
   ],
   "source": [
    "X_ff_r['label'] = label_ff_r\n",
    "model_ff_r['label'] = label_ff_r\n",
    "\n",
    "X_ff_r.groupby(by = 'label').mean().T"
   ]
  },
  {
   "cell_type": "markdown",
   "id": "1fa8b98b",
   "metadata": {},
   "source": [
    "### Cluster Labels - LHP 4-Seam"
   ]
  },
  {
   "cell_type": "code",
   "execution_count": 10,
   "id": "a7fffe00",
   "metadata": {},
   "outputs": [
    {
     "data": {
      "text/html": [
       "<div><div id=1e143508-e274-4717-a3b2-b8591559ff00 style=\"display:none; background-color:#9D6CFF; color:white; width:200px; height:30px; padding-left:5px; border-radius:4px; flex-direction:row; justify-content:space-around; align-items:center;\" onmouseover=\"this.style.backgroundColor='#BA9BF8'\" onmouseout=\"this.style.backgroundColor='#9D6CFF'\" onclick=\"window.commands?.execute('create-mitosheet-from-dataframe-output');\">See Full Dataframe in Mito</div> <script> if (window.commands.hasCommand('create-mitosheet-from-dataframe-output')) document.getElementById('1e143508-e274-4717-a3b2-b8591559ff00').style.display = 'flex' </script> <table border=\"1\" class=\"dataframe\">\n",
       "  <thead>\n",
       "    <tr style=\"text-align: right;\">\n",
       "      <th>label</th>\n",
       "      <th>0</th>\n",
       "      <th>1</th>\n",
       "    </tr>\n",
       "  </thead>\n",
       "  <tbody>\n",
       "    <tr>\n",
       "      <th>velo</th>\n",
       "      <td>92.643585</td>\n",
       "      <td>92.642353</td>\n",
       "    </tr>\n",
       "    <tr>\n",
       "      <th>pfx_-x</th>\n",
       "      <td>-7.509843</td>\n",
       "      <td>-7.326942</td>\n",
       "    </tr>\n",
       "    <tr>\n",
       "      <th>pfx_z</th>\n",
       "      <td>15.717971</td>\n",
       "      <td>15.831017</td>\n",
       "    </tr>\n",
       "    <tr>\n",
       "      <th>release_extension</th>\n",
       "      <td>6.286567</td>\n",
       "      <td>6.303389</td>\n",
       "    </tr>\n",
       "    <tr>\n",
       "      <th>release_pos_z</th>\n",
       "      <td>6.007804</td>\n",
       "      <td>6.000484</td>\n",
       "    </tr>\n",
       "    <tr>\n",
       "      <th>woba_value</th>\n",
       "      <td>1.161935</td>\n",
       "      <td>0.000464</td>\n",
       "    </tr>\n",
       "    <tr>\n",
       "      <th>delta_run_exp</th>\n",
       "      <td>0.662038</td>\n",
       "      <td>-0.258835</td>\n",
       "    </tr>\n",
       "  </tbody>\n",
       "</table></div>"
      ],
      "text/plain": [
       "label                      0          1\n",
       "velo               92.643585  92.642353\n",
       "pfx_-x             -7.509843  -7.326942\n",
       "pfx_z              15.717971  15.831017\n",
       "release_extension   6.286567   6.303389\n",
       "release_pos_z       6.007804   6.000484\n",
       "woba_value          1.161935   0.000464\n",
       "delta_run_exp       0.662038  -0.258835"
      ]
     },
     "execution_count": 10,
     "metadata": {},
     "output_type": "execute_result"
    }
   ],
   "source": [
    "X_ff_l['label'] = label_ff_l\n",
    "model_ff_l['label'] = label_ff_l\n",
    "\n",
    "X_ff_l.groupby(by = 'label').mean().T"
   ]
  },
  {
   "cell_type": "markdown",
   "id": "6b28b964",
   "metadata": {},
   "source": [
    "## Cutter"
   ]
  },
  {
   "cell_type": "markdown",
   "id": "5b5b8ee2",
   "metadata": {},
   "source": [
    "### RHP"
   ]
  },
  {
   "cell_type": "code",
   "execution_count": 11,
   "id": "54758bb4",
   "metadata": {},
   "outputs": [
    {
     "name": "stdout",
     "output_type": "stream",
     "text": [
      "Number of iterations: 6\n",
      "Number of features: 7\n",
      "Number of clusters: 2\n",
      "Inertia: 30702.073668421912 \n",
      "\n",
      "Predicted clusters to points:  [0 0 0 0 0 1 0 0 1 0]\n"
     ]
    }
   ],
   "source": [
    "features_fc_r = fc_r.select_dtypes([np.number])\n",
    "X_fc_r = features_fc_r\n",
    "\n",
    "X_fc_r_scaled = ss.fit_transform(X_fc_r)\n",
    "X_fc_r_scaled[:,:] *= -1\n",
    "\n",
    "pca_fc_r = PCA().fit_transform(X_fc_r_scaled)\n",
    "model_fc_r = pd.DataFrame(data = pca_fc_r, columns = X_fc_r.columns)\n",
    "\n",
    "km_fc_r = KMeans(n_clusters = 2, \n",
    "               random_state = 1)\n",
    "\n",
    "km_fc_r.fit(model_fc_r)\n",
    "label_fc_r = km_fc_r.fit_predict(model_fc_r)\n",
    "\n",
    "print('Number of iterations:', km_fc_r.n_iter_)\n",
    "print('Number of features:', km_fc_r.n_features_in_)\n",
    "print('Number of clusters:', km_fc_r.n_clusters)\n",
    "print('Inertia:', km_fc_r.inertia_, '\\n')\n",
    "print(\"Predicted clusters to points: \", label_fc_r[:10])"
   ]
  },
  {
   "cell_type": "markdown",
   "id": "f3f5d80f",
   "metadata": {},
   "source": [
    "### LHP"
   ]
  },
  {
   "cell_type": "code",
   "execution_count": 12,
   "id": "481ca5f0",
   "metadata": {},
   "outputs": [
    {
     "name": "stdout",
     "output_type": "stream",
     "text": [
      "Number of iterations: 21\n",
      "Number of features: 7\n",
      "Number of clusters: 2\n",
      "Inertia: 17030.757423404626 \n",
      "\n",
      "Predicted clusters to points:  [1 1 0 0 1 1 1 1 1 0]\n"
     ]
    }
   ],
   "source": [
    "features_fc_l = fc_l.select_dtypes([np.number])\n",
    "X_fc_l = features_fc_l\n",
    "\n",
    "X_fc_l_scaled = ss.fit_transform(X_fc_l)\n",
    "X_fc_l_scaled[:,:] *= -1\n",
    "\n",
    "pca_fc_l = PCA().fit_transform(X_fc_l_scaled)\n",
    "model_fc_l = pd.DataFrame(data = pca_fc_l, columns = X_fc_l.columns)\n",
    "\n",
    "km_fc_l = KMeans(n_clusters = 2, \n",
    "               random_state = 1)\n",
    "\n",
    "km_fc_l.fit(model_fc_l)\n",
    "label_fc_l = km_fc_r.fit_predict(model_fc_l)\n",
    "\n",
    "print('Number of iterations:', km_fc_l.n_iter_)\n",
    "print('Number of features:', km_fc_l.n_features_in_)\n",
    "print('Number of clusters:', km_fc_l.n_clusters)\n",
    "print('Inertia:', km_fc_l.inertia_, '\\n')\n",
    "print(\"Predicted clusters to points: \", label_fc_l[:10])"
   ]
  },
  {
   "cell_type": "markdown",
   "id": "4cfb0b4c",
   "metadata": {},
   "source": [
    "### Cluster Labels - RHP Cutter"
   ]
  },
  {
   "cell_type": "code",
   "execution_count": 13,
   "id": "9e862bd1",
   "metadata": {},
   "outputs": [
    {
     "data": {
      "text/html": [
       "<div><div id=05a8972a-90e3-483e-a204-2e648aec8bff style=\"display:none; background-color:#9D6CFF; color:white; width:200px; height:30px; padding-left:5px; border-radius:4px; flex-direction:row; justify-content:space-around; align-items:center;\" onmouseover=\"this.style.backgroundColor='#BA9BF8'\" onmouseout=\"this.style.backgroundColor='#9D6CFF'\" onclick=\"window.commands?.execute('create-mitosheet-from-dataframe-output');\">See Full Dataframe in Mito</div> <script> if (window.commands.hasCommand('create-mitosheet-from-dataframe-output')) document.getElementById('05a8972a-90e3-483e-a204-2e648aec8bff').style.display = 'flex' </script> <table border=\"1\" class=\"dataframe\">\n",
       "  <thead>\n",
       "    <tr style=\"text-align: right;\">\n",
       "      <th>label</th>\n",
       "      <th>0</th>\n",
       "      <th>1</th>\n",
       "    </tr>\n",
       "  </thead>\n",
       "  <tbody>\n",
       "    <tr>\n",
       "      <th>velo</th>\n",
       "      <td>89.413584</td>\n",
       "      <td>89.344324</td>\n",
       "    </tr>\n",
       "    <tr>\n",
       "      <th>pfx_-x</th>\n",
       "      <td>-2.886181</td>\n",
       "      <td>-2.793308</td>\n",
       "    </tr>\n",
       "    <tr>\n",
       "      <th>pfx_z</th>\n",
       "      <td>7.811273</td>\n",
       "      <td>7.755481</td>\n",
       "    </tr>\n",
       "    <tr>\n",
       "      <th>release_extension</th>\n",
       "      <td>6.291540</td>\n",
       "      <td>6.285497</td>\n",
       "    </tr>\n",
       "    <tr>\n",
       "      <th>release_pos_z</th>\n",
       "      <td>5.958100</td>\n",
       "      <td>5.956507</td>\n",
       "    </tr>\n",
       "    <tr>\n",
       "      <th>woba_value</th>\n",
       "      <td>0.000000</td>\n",
       "      <td>1.134193</td>\n",
       "    </tr>\n",
       "    <tr>\n",
       "      <th>delta_run_exp</th>\n",
       "      <td>-0.266934</td>\n",
       "      <td>0.678753</td>\n",
       "    </tr>\n",
       "  </tbody>\n",
       "</table></div>"
      ],
      "text/plain": [
       "label                      0          1\n",
       "velo               89.413584  89.344324\n",
       "pfx_-x             -2.886181  -2.793308\n",
       "pfx_z               7.811273   7.755481\n",
       "release_extension   6.291540   6.285497\n",
       "release_pos_z       5.958100   5.956507\n",
       "woba_value          0.000000   1.134193\n",
       "delta_run_exp      -0.266934   0.678753"
      ]
     },
     "execution_count": 13,
     "metadata": {},
     "output_type": "execute_result"
    }
   ],
   "source": [
    "X_fc_r['label'] = label_fc_r\n",
    "model_fc_r['label'] = label_fc_r\n",
    "\n",
    "X_fc_r.groupby(by = 'label').mean().T"
   ]
  },
  {
   "cell_type": "markdown",
   "id": "992045d9",
   "metadata": {},
   "source": [
    "### Cluster Labels - LHP Cutter"
   ]
  },
  {
   "cell_type": "code",
   "execution_count": 14,
   "id": "4da57fff",
   "metadata": {},
   "outputs": [
    {
     "data": {
      "text/html": [
       "<div><div id=17bf3365-93da-4ae2-acca-586eda0c7147 style=\"display:none; background-color:#9D6CFF; color:white; width:200px; height:30px; padding-left:5px; border-radius:4px; flex-direction:row; justify-content:space-around; align-items:center;\" onmouseover=\"this.style.backgroundColor='#BA9BF8'\" onmouseout=\"this.style.backgroundColor='#9D6CFF'\" onclick=\"window.commands?.execute('create-mitosheet-from-dataframe-output');\">See Full Dataframe in Mito</div> <script> if (window.commands.hasCommand('create-mitosheet-from-dataframe-output')) document.getElementById('17bf3365-93da-4ae2-acca-586eda0c7147').style.display = 'flex' </script> <table border=\"1\" class=\"dataframe\">\n",
       "  <thead>\n",
       "    <tr style=\"text-align: right;\">\n",
       "      <th>label</th>\n",
       "      <th>0</th>\n",
       "      <th>1</th>\n",
       "    </tr>\n",
       "  </thead>\n",
       "  <tbody>\n",
       "    <tr>\n",
       "      <th>velo</th>\n",
       "      <td>86.737006</td>\n",
       "      <td>86.694618</td>\n",
       "    </tr>\n",
       "    <tr>\n",
       "      <th>pfx_-x</th>\n",
       "      <td>1.653964</td>\n",
       "      <td>1.588782</td>\n",
       "    </tr>\n",
       "    <tr>\n",
       "      <th>pfx_z</th>\n",
       "      <td>7.906075</td>\n",
       "      <td>8.000793</td>\n",
       "    </tr>\n",
       "    <tr>\n",
       "      <th>release_extension</th>\n",
       "      <td>6.193418</td>\n",
       "      <td>6.187347</td>\n",
       "    </tr>\n",
       "    <tr>\n",
       "      <th>release_pos_z</th>\n",
       "      <td>5.816660</td>\n",
       "      <td>5.797658</td>\n",
       "    </tr>\n",
       "    <tr>\n",
       "      <th>woba_value</th>\n",
       "      <td>0.000878</td>\n",
       "      <td>1.138102</td>\n",
       "    </tr>\n",
       "    <tr>\n",
       "      <th>delta_run_exp</th>\n",
       "      <td>-0.263264</td>\n",
       "      <td>0.675032</td>\n",
       "    </tr>\n",
       "  </tbody>\n",
       "</table></div>"
      ],
      "text/plain": [
       "label                      0          1\n",
       "velo               86.737006  86.694618\n",
       "pfx_-x              1.653964   1.588782\n",
       "pfx_z               7.906075   8.000793\n",
       "release_extension   6.193418   6.187347\n",
       "release_pos_z       5.816660   5.797658\n",
       "woba_value          0.000878   1.138102\n",
       "delta_run_exp      -0.263264   0.675032"
      ]
     },
     "execution_count": 14,
     "metadata": {},
     "output_type": "execute_result"
    }
   ],
   "source": [
    "X_fc_l['label'] = label_fc_l\n",
    "model_fc_l['label'] = label_fc_l\n",
    "\n",
    "X_fc_l.groupby(by = 'label').mean().T"
   ]
  },
  {
   "cell_type": "markdown",
   "id": "dcf098e4",
   "metadata": {},
   "source": [
    "## Sinker"
   ]
  },
  {
   "cell_type": "markdown",
   "id": "154ca06f",
   "metadata": {},
   "source": [
    "### RHP"
   ]
  },
  {
   "cell_type": "code",
   "execution_count": 15,
   "id": "3bd87c52",
   "metadata": {},
   "outputs": [
    {
     "name": "stdout",
     "output_type": "stream",
     "text": [
      "Number of iterations: 10\n",
      "Number of features: 7\n",
      "Number of clusters: 2\n",
      "Inertia: 83930.04323295214 \n",
      "\n",
      "Predicted clusters to points:  [0 0 0 1 0 0 1 0 0 1]\n"
     ]
    }
   ],
   "source": [
    "features_si_r = si_r.select_dtypes([np.number])\n",
    "X_si_r = features_si_r\n",
    "\n",
    "X_si_r_scaled = ss.fit_transform(X_si_r)\n",
    "X_si_r_scaled[:,:] *= -1\n",
    "\n",
    "pca_si_r = PCA().fit_transform(X_si_r_scaled)\n",
    "model_si_r = pd.DataFrame(data = pca_si_r, columns = X_si_r.columns)\n",
    "\n",
    "km_si_r = KMeans(n_clusters = 2, \n",
    "                 random_state = 1)\n",
    "\n",
    "km_si_r.fit(model_si_r)\n",
    "label_si_r = km_si_r.fit_predict(model_si_r)\n",
    "\n",
    "print('Number of iterations:', km_si_r.n_iter_)\n",
    "print('Number of features:', km_si_r.n_features_in_)\n",
    "print('Number of clusters:', km_si_r.n_clusters)\n",
    "print('Inertia:', km_si_r.inertia_, '\\n')\n",
    "print(\"Predicted clusters to points: \", label_si_r[:10])"
   ]
  },
  {
   "cell_type": "markdown",
   "id": "83322042",
   "metadata": {},
   "source": [
    "### LHP"
   ]
  },
  {
   "cell_type": "code",
   "execution_count": 16,
   "id": "95e40be6",
   "metadata": {},
   "outputs": [
    {
     "name": "stdout",
     "output_type": "stream",
     "text": [
      "Number of iterations: 52\n",
      "Number of features: 7\n",
      "Number of clusters: 2\n",
      "Inertia: 36146.11601223926 \n",
      "\n",
      "Predicted clusters to points:  [1 1 1 0 1 0 1 0 1 0]\n"
     ]
    }
   ],
   "source": [
    "features_si_l = si_l.select_dtypes([np.number])\n",
    "X_si_l = features_si_l\n",
    "\n",
    "X_si_l_scaled = ss.fit_transform(X_si_l)\n",
    "X_si_l_scaled[:,:] *= -1\n",
    "\n",
    "pca_si_l = PCA().fit_transform(X_si_l_scaled)\n",
    "model_si_l = pd.DataFrame(data = pca_si_l, columns = X_si_l.columns)\n",
    "\n",
    "km_si_l = KMeans(n_clusters = 2, \n",
    "                 random_state = 1)\n",
    "\n",
    "km_si_l.fit(model_si_l)\n",
    "label_si_l = km_si_l.fit_predict(model_si_l)\n",
    "\n",
    "print('Number of iterations:', km_si_l.n_iter_)\n",
    "print('Number of features:', km_si_l.n_features_in_)\n",
    "print('Number of clusters:', km_si_l.n_clusters)\n",
    "print('Inertia:', km_si_l.inertia_, '\\n')\n",
    "print(\"Predicted clusters to points: \", label_si_l[:10])"
   ]
  },
  {
   "cell_type": "markdown",
   "id": "a0d4394d",
   "metadata": {},
   "source": [
    "### Cluster Labels - RHP Sinker"
   ]
  },
  {
   "cell_type": "code",
   "execution_count": 17,
   "id": "2d8e9ae8",
   "metadata": {},
   "outputs": [
    {
     "data": {
      "text/html": [
       "<div><div id=1d22c1dc-5373-4a06-851d-689bf708487a style=\"display:none; background-color:#9D6CFF; color:white; width:200px; height:30px; padding-left:5px; border-radius:4px; flex-direction:row; justify-content:space-around; align-items:center;\" onmouseover=\"this.style.backgroundColor='#BA9BF8'\" onmouseout=\"this.style.backgroundColor='#9D6CFF'\" onclick=\"window.commands?.execute('create-mitosheet-from-dataframe-output');\">See Full Dataframe in Mito</div> <script> if (window.commands.hasCommand('create-mitosheet-from-dataframe-output')) document.getElementById('1d22c1dc-5373-4a06-851d-689bf708487a').style.display = 'flex' </script> <table border=\"1\" class=\"dataframe\">\n",
       "  <thead>\n",
       "    <tr style=\"text-align: right;\">\n",
       "      <th>label</th>\n",
       "      <th>0</th>\n",
       "      <th>1</th>\n",
       "    </tr>\n",
       "  </thead>\n",
       "  <tbody>\n",
       "    <tr>\n",
       "      <th>velo</th>\n",
       "      <td>93.396593</td>\n",
       "      <td>93.301061</td>\n",
       "    </tr>\n",
       "    <tr>\n",
       "      <th>pfx_-x</th>\n",
       "      <td>14.812364</td>\n",
       "      <td>14.672024</td>\n",
       "    </tr>\n",
       "    <tr>\n",
       "      <th>pfx_z</th>\n",
       "      <td>8.919766</td>\n",
       "      <td>8.823821</td>\n",
       "    </tr>\n",
       "    <tr>\n",
       "      <th>release_extension</th>\n",
       "      <td>6.309488</td>\n",
       "      <td>6.291490</td>\n",
       "    </tr>\n",
       "    <tr>\n",
       "      <th>release_pos_z</th>\n",
       "      <td>5.706021</td>\n",
       "      <td>5.702890</td>\n",
       "    </tr>\n",
       "    <tr>\n",
       "      <th>woba_value</th>\n",
       "      <td>0.000000</td>\n",
       "      <td>1.084638</td>\n",
       "    </tr>\n",
       "    <tr>\n",
       "      <th>delta_run_exp</th>\n",
       "      <td>-0.280965</td>\n",
       "      <td>0.630143</td>\n",
       "    </tr>\n",
       "  </tbody>\n",
       "</table></div>"
      ],
      "text/plain": [
       "label                      0          1\n",
       "velo               93.396593  93.301061\n",
       "pfx_-x             14.812364  14.672024\n",
       "pfx_z               8.919766   8.823821\n",
       "release_extension   6.309488   6.291490\n",
       "release_pos_z       5.706021   5.702890\n",
       "woba_value          0.000000   1.084638\n",
       "delta_run_exp      -0.280965   0.630143"
      ]
     },
     "execution_count": 17,
     "metadata": {},
     "output_type": "execute_result"
    }
   ],
   "source": [
    "X_si_r['label'] = label_si_r\n",
    "model_si_r['label'] = label_si_r\n",
    "\n",
    "X_si_r.groupby(by = 'label').mean().T"
   ]
  },
  {
   "cell_type": "markdown",
   "id": "837f65f2",
   "metadata": {},
   "source": [
    "### Cluster Labels - LHP Sinker"
   ]
  },
  {
   "cell_type": "code",
   "execution_count": 18,
   "id": "cd2c56e4",
   "metadata": {},
   "outputs": [
    {
     "data": {
      "text/html": [
       "<div><div id=221dc162-77f3-4f24-96dd-f6da992c5424 style=\"display:none; background-color:#9D6CFF; color:white; width:200px; height:30px; padding-left:5px; border-radius:4px; flex-direction:row; justify-content:space-around; align-items:center;\" onmouseover=\"this.style.backgroundColor='#BA9BF8'\" onmouseout=\"this.style.backgroundColor='#9D6CFF'\" onclick=\"window.commands?.execute('create-mitosheet-from-dataframe-output');\">See Full Dataframe in Mito</div> <script> if (window.commands.hasCommand('create-mitosheet-from-dataframe-output')) document.getElementById('221dc162-77f3-4f24-96dd-f6da992c5424').style.display = 'flex' </script> <table border=\"1\" class=\"dataframe\">\n",
       "  <thead>\n",
       "    <tr style=\"text-align: right;\">\n",
       "      <th>label</th>\n",
       "      <th>0</th>\n",
       "      <th>1</th>\n",
       "    </tr>\n",
       "  </thead>\n",
       "  <tbody>\n",
       "    <tr>\n",
       "      <th>velo</th>\n",
       "      <td>91.979629</td>\n",
       "      <td>92.001405</td>\n",
       "    </tr>\n",
       "    <tr>\n",
       "      <th>pfx_-x</th>\n",
       "      <td>-14.873743</td>\n",
       "      <td>-14.963610</td>\n",
       "    </tr>\n",
       "    <tr>\n",
       "      <th>pfx_z</th>\n",
       "      <td>8.943526</td>\n",
       "      <td>8.930758</td>\n",
       "    </tr>\n",
       "    <tr>\n",
       "      <th>release_extension</th>\n",
       "      <td>6.274061</td>\n",
       "      <td>6.268639</td>\n",
       "    </tr>\n",
       "    <tr>\n",
       "      <th>release_pos_z</th>\n",
       "      <td>5.794384</td>\n",
       "      <td>5.786802</td>\n",
       "    </tr>\n",
       "    <tr>\n",
       "      <th>woba_value</th>\n",
       "      <td>1.089461</td>\n",
       "      <td>0.000000</td>\n",
       "    </tr>\n",
       "    <tr>\n",
       "      <th>delta_run_exp</th>\n",
       "      <td>0.614824</td>\n",
       "      <td>-0.272687</td>\n",
       "    </tr>\n",
       "  </tbody>\n",
       "</table></div>"
      ],
      "text/plain": [
       "label                      0          1\n",
       "velo               91.979629  92.001405\n",
       "pfx_-x            -14.873743 -14.963610\n",
       "pfx_z               8.943526   8.930758\n",
       "release_extension   6.274061   6.268639\n",
       "release_pos_z       5.794384   5.786802\n",
       "woba_value          1.089461   0.000000\n",
       "delta_run_exp       0.614824  -0.272687"
      ]
     },
     "execution_count": 18,
     "metadata": {},
     "output_type": "execute_result"
    }
   ],
   "source": [
    "X_si_l['label'] = label_si_l\n",
    "model_si_l['label'] = label_si_l\n",
    "\n",
    "X_si_l.groupby(by = 'label').mean().T"
   ]
  },
  {
   "cell_type": "markdown",
   "id": "809aaa04",
   "metadata": {},
   "source": [
    "## Slider"
   ]
  },
  {
   "cell_type": "markdown",
   "id": "39e0c9ec",
   "metadata": {},
   "source": [
    "### RHP"
   ]
  },
  {
   "cell_type": "code",
   "execution_count": 19,
   "id": "5acf61f0",
   "metadata": {},
   "outputs": [
    {
     "name": "stdout",
     "output_type": "stream",
     "text": [
      "Number of iterations: 4\n",
      "Number of features: 7\n",
      "Number of clusters: 2\n",
      "Inertia: 88469.076642598 \n",
      "\n",
      "Predicted clusters to points:  [1 1 0 0 0 1 1 1 1 0]\n"
     ]
    }
   ],
   "source": [
    "features_sl_r = sl_r.select_dtypes([np.number])\n",
    "X_sl_r = features_sl_r\n",
    "\n",
    "X_sl_r_scaled = ss.fit_transform(X_sl_r)\n",
    "X_sl_r_scaled[:,:] *= -1\n",
    "\n",
    "pca_sl_r = PCA().fit_transform(X_sl_r_scaled)\n",
    "model_sl_r = pd.DataFrame(data = pca_sl_r, columns = X_sl_r.columns)\n",
    "\n",
    "km_sl_r = KMeans(n_clusters = 2, random_state = 1)\n",
    "\n",
    "km_sl_r.fit(model_sl_r)\n",
    "label_sl_r = km_sl_r.fit_predict(model_sl_r)\n",
    "\n",
    "print('Number of iterations:', km_sl_r.n_iter_)\n",
    "print('Number of features:', km_sl_r.n_features_in_)\n",
    "print('Number of clusters:', km_sl_r.n_clusters)\n",
    "print('Inertia:', km_sl_r.inertia_, '\\n')\n",
    "print(\"Predicted clusters to points: \", label_sl_r[:10])"
   ]
  },
  {
   "cell_type": "markdown",
   "id": "53cfab2f",
   "metadata": {},
   "source": [
    "### LHP"
   ]
  },
  {
   "cell_type": "code",
   "execution_count": 20,
   "id": "8005bb99",
   "metadata": {},
   "outputs": [
    {
     "name": "stdout",
     "output_type": "stream",
     "text": [
      "Number of iterations: 5\n",
      "Number of features: 7\n",
      "Number of clusters: 2\n",
      "Inertia: 29452.668420048758 \n",
      "\n",
      "Predicted clusters to points:  [0 0 1 1 1 1 0 1 1 1]\n"
     ]
    }
   ],
   "source": [
    "features_sl_l = sl_l.select_dtypes([np.number])\n",
    "X_sl_l = features_sl_l\n",
    "\n",
    "X_sl_l_scaled = ss.fit_transform(X_sl_l)\n",
    "X_sl_l_scaled[:,:] *= -1\n",
    "\n",
    "pca_sl_l = PCA().fit_transform(X_sl_l_scaled)\n",
    "model_sl_l = pd.DataFrame(data = pca_sl_l, columns = X_sl_l.columns)\n",
    "\n",
    "km_sl_l = KMeans(n_clusters = 2, random_state = 1)\n",
    "\n",
    "km_sl_l.fit(model_sl_l)\n",
    "label_sl_l = km_sl_l.fit_predict(model_sl_l)\n",
    "\n",
    "print('Number of iterations:', km_sl_l.n_iter_)\n",
    "print('Number of features:', km_sl_l.n_features_in_)\n",
    "print('Number of clusters:', km_sl_l.n_clusters)\n",
    "print('Inertia:', km_sl_l.inertia_, '\\n')\n",
    "print(\"Predicted clusters to points: \", label_sl_l[:10])"
   ]
  },
  {
   "cell_type": "markdown",
   "id": "7d8eeaca",
   "metadata": {},
   "source": [
    "### Cluster Labels - RHP Slider"
   ]
  },
  {
   "cell_type": "code",
   "execution_count": 21,
   "id": "f28eee91",
   "metadata": {},
   "outputs": [
    {
     "data": {
      "text/html": [
       "<div><div id=c487a370-e240-4074-af7d-9e4d3a2b6e37 style=\"display:none; background-color:#9D6CFF; color:white; width:200px; height:30px; padding-left:5px; border-radius:4px; flex-direction:row; justify-content:space-around; align-items:center;\" onmouseover=\"this.style.backgroundColor='#BA9BF8'\" onmouseout=\"this.style.backgroundColor='#9D6CFF'\" onclick=\"window.commands?.execute('create-mitosheet-from-dataframe-output');\">See Full Dataframe in Mito</div> <script> if (window.commands.hasCommand('create-mitosheet-from-dataframe-output')) document.getElementById('c487a370-e240-4074-af7d-9e4d3a2b6e37').style.display = 'flex' </script> <table border=\"1\" class=\"dataframe\">\n",
       "  <thead>\n",
       "    <tr style=\"text-align: right;\">\n",
       "      <th>label</th>\n",
       "      <th>0</th>\n",
       "      <th>1</th>\n",
       "    </tr>\n",
       "  </thead>\n",
       "  <tbody>\n",
       "    <tr>\n",
       "      <th>velo</th>\n",
       "      <td>84.901012</td>\n",
       "      <td>84.816523</td>\n",
       "    </tr>\n",
       "    <tr>\n",
       "      <th>pfx_-x</th>\n",
       "      <td>-5.939759</td>\n",
       "      <td>-6.182077</td>\n",
       "    </tr>\n",
       "    <tr>\n",
       "      <th>pfx_z</th>\n",
       "      <td>1.659415</td>\n",
       "      <td>1.898809</td>\n",
       "    </tr>\n",
       "    <tr>\n",
       "      <th>release_extension</th>\n",
       "      <td>6.247985</td>\n",
       "      <td>6.255532</td>\n",
       "    </tr>\n",
       "    <tr>\n",
       "      <th>release_pos_z</th>\n",
       "      <td>5.798489</td>\n",
       "      <td>5.770381</td>\n",
       "    </tr>\n",
       "    <tr>\n",
       "      <th>woba_value</th>\n",
       "      <td>1.155339</td>\n",
       "      <td>0.000824</td>\n",
       "    </tr>\n",
       "    <tr>\n",
       "      <th>delta_run_exp</th>\n",
       "      <td>0.725874</td>\n",
       "      <td>-0.248304</td>\n",
       "    </tr>\n",
       "  </tbody>\n",
       "</table></div>"
      ],
      "text/plain": [
       "label                      0          1\n",
       "velo               84.901012  84.816523\n",
       "pfx_-x             -5.939759  -6.182077\n",
       "pfx_z               1.659415   1.898809\n",
       "release_extension   6.247985   6.255532\n",
       "release_pos_z       5.798489   5.770381\n",
       "woba_value          1.155339   0.000824\n",
       "delta_run_exp       0.725874  -0.248304"
      ]
     },
     "execution_count": 21,
     "metadata": {},
     "output_type": "execute_result"
    }
   ],
   "source": [
    "X_sl_r['label'] = label_sl_r\n",
    "model_sl_r['label'] = label_sl_r\n",
    "\n",
    "X_sl_r.groupby(by = 'label').mean().T"
   ]
  },
  {
   "cell_type": "markdown",
   "id": "318be5bc",
   "metadata": {},
   "source": [
    "### Cluster Labels - LHP Slider"
   ]
  },
  {
   "cell_type": "code",
   "execution_count": 22,
   "id": "6e2ff3cf",
   "metadata": {},
   "outputs": [
    {
     "data": {
      "text/html": [
       "<div><div id=17ed4f91-67c4-4978-86c1-7e05a5fb77c6 style=\"display:none; background-color:#9D6CFF; color:white; width:200px; height:30px; padding-left:5px; border-radius:4px; flex-direction:row; justify-content:space-around; align-items:center;\" onmouseover=\"this.style.backgroundColor='#BA9BF8'\" onmouseout=\"this.style.backgroundColor='#9D6CFF'\" onclick=\"window.commands?.execute('create-mitosheet-from-dataframe-output');\">See Full Dataframe in Mito</div> <script> if (window.commands.hasCommand('create-mitosheet-from-dataframe-output')) document.getElementById('17ed4f91-67c4-4978-86c1-7e05a5fb77c6').style.display = 'flex' </script> <table border=\"1\" class=\"dataframe\">\n",
       "  <thead>\n",
       "    <tr style=\"text-align: right;\">\n",
       "      <th>label</th>\n",
       "      <th>0</th>\n",
       "      <th>1</th>\n",
       "    </tr>\n",
       "  </thead>\n",
       "  <tbody>\n",
       "    <tr>\n",
       "      <th>velo</th>\n",
       "      <td>83.927526</td>\n",
       "      <td>83.899251</td>\n",
       "    </tr>\n",
       "    <tr>\n",
       "      <th>pfx_-x</th>\n",
       "      <td>5.331555</td>\n",
       "      <td>5.499384</td>\n",
       "    </tr>\n",
       "    <tr>\n",
       "      <th>pfx_z</th>\n",
       "      <td>1.511305</td>\n",
       "      <td>1.471507</td>\n",
       "    </tr>\n",
       "    <tr>\n",
       "      <th>release_extension</th>\n",
       "      <td>6.243019</td>\n",
       "      <td>6.230031</td>\n",
       "    </tr>\n",
       "    <tr>\n",
       "      <th>release_pos_z</th>\n",
       "      <td>5.875142</td>\n",
       "      <td>5.885673</td>\n",
       "    </tr>\n",
       "    <tr>\n",
       "      <th>woba_value</th>\n",
       "      <td>1.154115</td>\n",
       "      <td>0.000999</td>\n",
       "    </tr>\n",
       "    <tr>\n",
       "      <th>delta_run_exp</th>\n",
       "      <td>0.737843</td>\n",
       "      <td>-0.245255</td>\n",
       "    </tr>\n",
       "  </tbody>\n",
       "</table></div>"
      ],
      "text/plain": [
       "label                      0          1\n",
       "velo               83.927526  83.899251\n",
       "pfx_-x              5.331555   5.499384\n",
       "pfx_z               1.511305   1.471507\n",
       "release_extension   6.243019   6.230031\n",
       "release_pos_z       5.875142   5.885673\n",
       "woba_value          1.154115   0.000999\n",
       "delta_run_exp       0.737843  -0.245255"
      ]
     },
     "execution_count": 22,
     "metadata": {},
     "output_type": "execute_result"
    }
   ],
   "source": [
    "X_sl_l['label'] = label_sl_l\n",
    "model_sl_l['label'] = label_sl_l\n",
    "\n",
    "X_sl_l.groupby(by = 'label').mean().T"
   ]
  },
  {
   "cell_type": "markdown",
   "id": "37d184f1",
   "metadata": {},
   "source": [
    "## Curveball"
   ]
  },
  {
   "cell_type": "markdown",
   "id": "39891fff",
   "metadata": {},
   "source": [
    "### RHP"
   ]
  },
  {
   "cell_type": "code",
   "execution_count": 23,
   "id": "b44abbe0",
   "metadata": {},
   "outputs": [
    {
     "name": "stdout",
     "output_type": "stream",
     "text": [
      "Number of iterations: 6\n",
      "Number of features: 7\n",
      "Number of clusters: 2\n",
      "Inertia: 31433.589121948484 \n",
      "\n",
      "Predicted clusters to points:  [1 0 1 1 1 1 1 1 0 1]\n"
     ]
    }
   ],
   "source": [
    "features_cu_r = cu_r.select_dtypes([np.number])\n",
    "X_cu_r = features_cu_r\n",
    "\n",
    "X_cu_r_scaled = ss.fit_transform(X_cu_r)\n",
    "X_cu_r_scaled[:,:] *= -1\n",
    "\n",
    "pca_cu_r = PCA().fit_transform(X_cu_r_scaled)\n",
    "model_cu_r = pd.DataFrame(data = pca_cu_r, columns = X_cu_r.columns)\n",
    "\n",
    "km_cu_r = KMeans(n_clusters = 2, random_state = 1)\n",
    "\n",
    "km_cu_r.fit(model_cu_r)\n",
    "label_cu_r = km_cu_r.fit_predict(model_cu_r)\n",
    "\n",
    "print('Number of iterations:', km_cu_r.n_iter_)\n",
    "print('Number of features:', km_cu_r.n_features_in_)\n",
    "print('Number of clusters:', km_cu_r.n_clusters)\n",
    "print('Inertia:', km_cu_r.inertia_, '\\n')\n",
    "print(\"Predicted clusters to points: \", label_cu_r[:10])"
   ]
  },
  {
   "cell_type": "markdown",
   "id": "7e86769f",
   "metadata": {},
   "source": [
    "### LHP"
   ]
  },
  {
   "cell_type": "code",
   "execution_count": 24,
   "id": "23d6fc4e",
   "metadata": {},
   "outputs": [
    {
     "name": "stdout",
     "output_type": "stream",
     "text": [
      "Number of iterations: 30\n",
      "Number of features: 7\n",
      "Number of clusters: 2\n",
      "Inertia: 14754.897549455518 \n",
      "\n",
      "Predicted clusters to points:  [1 0 1 0 1 1 1 1 1 0]\n"
     ]
    }
   ],
   "source": [
    "features_cu_l = cu_l.select_dtypes([np.number])\n",
    "X_cu_l = features_cu_l\n",
    "\n",
    "X_cu_l_scaled = ss.fit_transform(X_cu_l)\n",
    "X_cu_l_scaled[:,:] *= -1\n",
    "\n",
    "pca_cu_l = PCA().fit_transform(X_cu_l_scaled)\n",
    "model_cu_l = pd.DataFrame(data = pca_cu_l, columns = X_cu_l.columns)\n",
    "\n",
    "km_cu_l = KMeans(n_clusters = 2, random_state = 1)\n",
    "\n",
    "km_cu_l.fit(model_cu_l)\n",
    "label_cu_l = km_cu_l.fit_predict(model_cu_l)\n",
    "\n",
    "print('Number of iterations:', km_cu_l.n_iter_)\n",
    "print('Number of features:', km_cu_l.n_features_in_)\n",
    "print('Number of clusters:', km_cu_l.n_clusters)\n",
    "print('Inertia:', km_cu_l.inertia_, '\\n')\n",
    "print(\"Predicted clusters to points: \", label_cu_l[:10])"
   ]
  },
  {
   "cell_type": "markdown",
   "id": "8834fc6a",
   "metadata": {},
   "source": [
    "### Cluster Labels - RHP Curveball"
   ]
  },
  {
   "cell_type": "code",
   "execution_count": 25,
   "id": "7318a85e",
   "metadata": {},
   "outputs": [
    {
     "data": {
      "text/html": [
       "<div><div id=c363246b-25db-4afe-8fab-46fd284a678c style=\"display:none; background-color:#9D6CFF; color:white; width:200px; height:30px; padding-left:5px; border-radius:4px; flex-direction:row; justify-content:space-around; align-items:center;\" onmouseover=\"this.style.backgroundColor='#BA9BF8'\" onmouseout=\"this.style.backgroundColor='#9D6CFF'\" onclick=\"window.commands?.execute('create-mitosheet-from-dataframe-output');\">See Full Dataframe in Mito</div> <script> if (window.commands.hasCommand('create-mitosheet-from-dataframe-output')) document.getElementById('c363246b-25db-4afe-8fab-46fd284a678c').style.display = 'flex' </script> <table border=\"1\" class=\"dataframe\">\n",
       "  <thead>\n",
       "    <tr style=\"text-align: right;\">\n",
       "      <th>label</th>\n",
       "      <th>0</th>\n",
       "      <th>1</th>\n",
       "    </tr>\n",
       "  </thead>\n",
       "  <tbody>\n",
       "    <tr>\n",
       "      <th>velo</th>\n",
       "      <td>79.013088</td>\n",
       "      <td>79.033945</td>\n",
       "    </tr>\n",
       "    <tr>\n",
       "      <th>pfx_-x</th>\n",
       "      <td>-9.439808</td>\n",
       "      <td>-9.855438</td>\n",
       "    </tr>\n",
       "    <tr>\n",
       "      <th>pfx_z</th>\n",
       "      <td>-9.481154</td>\n",
       "      <td>-9.278657</td>\n",
       "    </tr>\n",
       "    <tr>\n",
       "      <th>release_extension</th>\n",
       "      <td>6.227030</td>\n",
       "      <td>6.238026</td>\n",
       "    </tr>\n",
       "    <tr>\n",
       "      <th>release_pos_z</th>\n",
       "      <td>5.971368</td>\n",
       "      <td>5.970351</td>\n",
       "    </tr>\n",
       "    <tr>\n",
       "      <th>woba_value</th>\n",
       "      <td>1.129327</td>\n",
       "      <td>0.000465</td>\n",
       "    </tr>\n",
       "    <tr>\n",
       "      <th>delta_run_exp</th>\n",
       "      <td>0.694390</td>\n",
       "      <td>-0.230715</td>\n",
       "    </tr>\n",
       "  </tbody>\n",
       "</table></div>"
      ],
      "text/plain": [
       "label                      0          1\n",
       "velo               79.013088  79.033945\n",
       "pfx_-x             -9.439808  -9.855438\n",
       "pfx_z              -9.481154  -9.278657\n",
       "release_extension   6.227030   6.238026\n",
       "release_pos_z       5.971368   5.970351\n",
       "woba_value          1.129327   0.000465\n",
       "delta_run_exp       0.694390  -0.230715"
      ]
     },
     "execution_count": 25,
     "metadata": {},
     "output_type": "execute_result"
    }
   ],
   "source": [
    "X_cu_r['label'] = label_cu_r\n",
    "model_cu_r['label'] = label_cu_r\n",
    "\n",
    "X_cu_r.groupby(by = 'label').mean().T"
   ]
  },
  {
   "cell_type": "markdown",
   "id": "47927ae5",
   "metadata": {},
   "source": [
    "### Cluster Labels - LHP Curveball"
   ]
  },
  {
   "cell_type": "code",
   "execution_count": 26,
   "id": "dff500a6",
   "metadata": {},
   "outputs": [
    {
     "data": {
      "text/html": [
       "<div><div id=281908e2-6543-4a25-81f6-345d62239aba style=\"display:none; background-color:#9D6CFF; color:white; width:200px; height:30px; padding-left:5px; border-radius:4px; flex-direction:row; justify-content:space-around; align-items:center;\" onmouseover=\"this.style.backgroundColor='#BA9BF8'\" onmouseout=\"this.style.backgroundColor='#9D6CFF'\" onclick=\"window.commands?.execute('create-mitosheet-from-dataframe-output');\">See Full Dataframe in Mito</div> <script> if (window.commands.hasCommand('create-mitosheet-from-dataframe-output')) document.getElementById('281908e2-6543-4a25-81f6-345d62239aba').style.display = 'flex' </script> <table border=\"1\" class=\"dataframe\">\n",
       "  <thead>\n",
       "    <tr style=\"text-align: right;\">\n",
       "      <th>label</th>\n",
       "      <th>0</th>\n",
       "      <th>1</th>\n",
       "    </tr>\n",
       "  </thead>\n",
       "  <tbody>\n",
       "    <tr>\n",
       "      <th>velo</th>\n",
       "      <td>77.534599</td>\n",
       "      <td>77.567587</td>\n",
       "    </tr>\n",
       "    <tr>\n",
       "      <th>pfx_-x</th>\n",
       "      <td>8.011627</td>\n",
       "      <td>8.678219</td>\n",
       "    </tr>\n",
       "    <tr>\n",
       "      <th>pfx_z</th>\n",
       "      <td>-7.451974</td>\n",
       "      <td>-7.079594</td>\n",
       "    </tr>\n",
       "    <tr>\n",
       "      <th>release_extension</th>\n",
       "      <td>6.117028</td>\n",
       "      <td>6.105468</td>\n",
       "    </tr>\n",
       "    <tr>\n",
       "      <th>release_pos_z</th>\n",
       "      <td>6.003167</td>\n",
       "      <td>5.971866</td>\n",
       "    </tr>\n",
       "    <tr>\n",
       "      <th>woba_value</th>\n",
       "      <td>1.119360</td>\n",
       "      <td>0.000000</td>\n",
       "    </tr>\n",
       "    <tr>\n",
       "      <th>delta_run_exp</th>\n",
       "      <td>0.687682</td>\n",
       "      <td>-0.229039</td>\n",
       "    </tr>\n",
       "  </tbody>\n",
       "</table></div>"
      ],
      "text/plain": [
       "label                      0          1\n",
       "velo               77.534599  77.567587\n",
       "pfx_-x              8.011627   8.678219\n",
       "pfx_z              -7.451974  -7.079594\n",
       "release_extension   6.117028   6.105468\n",
       "release_pos_z       6.003167   5.971866\n",
       "woba_value          1.119360   0.000000\n",
       "delta_run_exp       0.687682  -0.229039"
      ]
     },
     "execution_count": 26,
     "metadata": {},
     "output_type": "execute_result"
    }
   ],
   "source": [
    "X_cu_l['label'] = label_cu_l\n",
    "model_cu_l['label'] = label_cu_l\n",
    "\n",
    "X_cu_l.groupby(by = 'label').mean().T"
   ]
  },
  {
   "cell_type": "markdown",
   "id": "3c72e08b",
   "metadata": {},
   "source": [
    "## Changeup"
   ]
  },
  {
   "cell_type": "markdown",
   "id": "7992cd5a",
   "metadata": {},
   "source": [
    "### RHP"
   ]
  },
  {
   "cell_type": "code",
   "execution_count": 27,
   "id": "e579998c",
   "metadata": {},
   "outputs": [
    {
     "name": "stdout",
     "output_type": "stream",
     "text": [
      "Number of iterations: 13\n",
      "Number of features: 7\n",
      "Number of clusters: 2\n",
      "Inertia: 334793.6848827029 \n",
      "\n",
      "Predicted clusters to points:  [0 0 0 0 0 1 1 1 1 0]\n"
     ]
    }
   ],
   "source": [
    "features_ch_r = ch_r.select_dtypes([np.number])\n",
    "X_ch_r = features_ch_r\n",
    "\n",
    "X_ch_r_scaled = ss.fit_transform(X_ch_r)\n",
    "X_ch_r_scaled[:,:] *= -1\n",
    "\n",
    "pca_ch_r = PCA().fit_transform(X_ch_r)\n",
    "model_ch_r = pd.DataFrame(data = pca_ch_r, columns = X_ch_r.columns)\n",
    "\n",
    "km_ch_r = KMeans(n_clusters = 2, random_state = 1)\n",
    "\n",
    "km_ch_r.fit(model_ch_r)\n",
    "label_ch_r = km_ch_r.fit_predict(model_ch_r)\n",
    "\n",
    "print('Number of iterations:', km_ch_r.n_iter_)\n",
    "print('Number of features:', km_ch_r.n_features_in_)\n",
    "print('Number of clusters:', km_ch_r.n_clusters)\n",
    "print('Inertia:', km_ch_r.inertia_, '\\n')\n",
    "print(\"Predicted clusters to points: \", label_ch_r[:10])"
   ]
  },
  {
   "cell_type": "markdown",
   "id": "c84ee6f4",
   "metadata": {},
   "source": [
    "### LHP"
   ]
  },
  {
   "cell_type": "code",
   "execution_count": 28,
   "id": "d17ac6ce",
   "metadata": {},
   "outputs": [
    {
     "name": "stdout",
     "output_type": "stream",
     "text": [
      "Number of iterations: 11\n",
      "Number of features: 7\n",
      "Number of clusters: 2\n",
      "Inertia: 171241.9071989997 \n",
      "\n",
      "Predicted clusters to points:  [0 1 1 1 0 1 0 1 0 1]\n"
     ]
    }
   ],
   "source": [
    "features_ch_l = ch_l.select_dtypes([np.number])\n",
    "X_ch_l = features_ch_l\n",
    "\n",
    "X_ch_l_scaled = ss.fit_transform(X_ch_l)\n",
    "X_ch_l_scaled[:,:] *= -1\n",
    "\n",
    "pca_ch_l = PCA().fit_transform(X_ch_l)\n",
    "model_ch_l = pd.DataFrame(data = pca_ch_l, columns = X_ch_l.columns)\n",
    "\n",
    "km_ch_l = KMeans(n_clusters = 2, random_state = 1)\n",
    "\n",
    "km_ch_l.fit(model_ch_l)\n",
    "label_ch_l = km_ch_l.fit_predict(model_ch_l)\n",
    "\n",
    "print('Number of iterations:', km_ch_l.n_iter_)\n",
    "print('Number of features:', km_ch_l.n_features_in_)\n",
    "print('Number of clusters:', km_ch_l.n_clusters)\n",
    "print('Inertia:', km_ch_l.inertia_, '\\n')\n",
    "print(\"Predicted clusters to points: \", label_ch_l[:10])"
   ]
  },
  {
   "cell_type": "markdown",
   "id": "f4ddb95c",
   "metadata": {},
   "source": [
    "### Cluster Labels - RHP Changeup"
   ]
  },
  {
   "cell_type": "code",
   "execution_count": 29,
   "id": "decc0285",
   "metadata": {},
   "outputs": [
    {
     "data": {
      "text/html": [
       "<div><div id=122ac572-4f4d-4d8b-9da4-9a4a05e294d4 style=\"display:none; background-color:#9D6CFF; color:white; width:200px; height:30px; padding-left:5px; border-radius:4px; flex-direction:row; justify-content:space-around; align-items:center;\" onmouseover=\"this.style.backgroundColor='#BA9BF8'\" onmouseout=\"this.style.backgroundColor='#9D6CFF'\" onclick=\"window.commands?.execute('create-mitosheet-from-dataframe-output');\">See Full Dataframe in Mito</div> <script> if (window.commands.hasCommand('create-mitosheet-from-dataframe-output')) document.getElementById('122ac572-4f4d-4d8b-9da4-9a4a05e294d4').style.display = 'flex' </script> <table border=\"1\" class=\"dataframe\">\n",
       "  <thead>\n",
       "    <tr style=\"text-align: right;\">\n",
       "      <th>label</th>\n",
       "      <th>0</th>\n",
       "      <th>1</th>\n",
       "    </tr>\n",
       "  </thead>\n",
       "  <tbody>\n",
       "    <tr>\n",
       "      <th>velo</th>\n",
       "      <td>85.909021</td>\n",
       "      <td>85.022061</td>\n",
       "    </tr>\n",
       "    <tr>\n",
       "      <th>pfx_-x</th>\n",
       "      <td>14.108247</td>\n",
       "      <td>13.307053</td>\n",
       "    </tr>\n",
       "    <tr>\n",
       "      <th>pfx_z</th>\n",
       "      <td>2.253084</td>\n",
       "      <td>9.965883</td>\n",
       "    </tr>\n",
       "    <tr>\n",
       "      <th>release_extension</th>\n",
       "      <td>6.281372</td>\n",
       "      <td>6.358908</td>\n",
       "    </tr>\n",
       "    <tr>\n",
       "      <th>release_pos_z</th>\n",
       "      <td>5.599507</td>\n",
       "      <td>5.944572</td>\n",
       "    </tr>\n",
       "    <tr>\n",
       "      <th>woba_value</th>\n",
       "      <td>0.362081</td>\n",
       "      <td>0.355790</td>\n",
       "    </tr>\n",
       "    <tr>\n",
       "      <th>delta_run_exp</th>\n",
       "      <td>0.050817</td>\n",
       "      <td>0.040807</td>\n",
       "    </tr>\n",
       "  </tbody>\n",
       "</table></div>"
      ],
      "text/plain": [
       "label                      0          1\n",
       "velo               85.909021  85.022061\n",
       "pfx_-x             14.108247  13.307053\n",
       "pfx_z               2.253084   9.965883\n",
       "release_extension   6.281372   6.358908\n",
       "release_pos_z       5.599507   5.944572\n",
       "woba_value          0.362081   0.355790\n",
       "delta_run_exp       0.050817   0.040807"
      ]
     },
     "execution_count": 29,
     "metadata": {},
     "output_type": "execute_result"
    }
   ],
   "source": [
    "X_ch_r['label'] = label_ch_r\n",
    "model_ch_r['label'] = label_ch_r\n",
    "\n",
    "X_ch_r.groupby(by = 'label').mean().T"
   ]
  },
  {
   "cell_type": "markdown",
   "id": "b47585b3",
   "metadata": {},
   "source": [
    "### Cluster Labels - LHP Changeup"
   ]
  },
  {
   "cell_type": "code",
   "execution_count": 30,
   "id": "1633b5ff",
   "metadata": {},
   "outputs": [
    {
     "data": {
      "text/html": [
       "<div><div id=ed76bcc2-c1fb-4bca-8ac8-de5bc84113a3 style=\"display:none; background-color:#9D6CFF; color:white; width:200px; height:30px; padding-left:5px; border-radius:4px; flex-direction:row; justify-content:space-around; align-items:center;\" onmouseover=\"this.style.backgroundColor='#BA9BF8'\" onmouseout=\"this.style.backgroundColor='#9D6CFF'\" onclick=\"window.commands?.execute('create-mitosheet-from-dataframe-output');\">See Full Dataframe in Mito</div> <script> if (window.commands.hasCommand('create-mitosheet-from-dataframe-output')) document.getElementById('ed76bcc2-c1fb-4bca-8ac8-de5bc84113a3').style.display = 'flex' </script> <table border=\"1\" class=\"dataframe\">\n",
       "  <thead>\n",
       "    <tr style=\"text-align: right;\">\n",
       "      <th>label</th>\n",
       "      <th>0</th>\n",
       "      <th>1</th>\n",
       "    </tr>\n",
       "  </thead>\n",
       "  <tbody>\n",
       "    <tr>\n",
       "      <th>velo</th>\n",
       "      <td>83.465715</td>\n",
       "      <td>83.509896</td>\n",
       "    </tr>\n",
       "    <tr>\n",
       "      <th>pfx_-x</th>\n",
       "      <td>-12.436313</td>\n",
       "      <td>-14.869338</td>\n",
       "    </tr>\n",
       "    <tr>\n",
       "      <th>pfx_z</th>\n",
       "      <td>11.854038</td>\n",
       "      <td>4.789962</td>\n",
       "    </tr>\n",
       "    <tr>\n",
       "      <th>release_extension</th>\n",
       "      <td>6.254454</td>\n",
       "      <td>6.220312</td>\n",
       "    </tr>\n",
       "    <tr>\n",
       "      <th>release_pos_z</th>\n",
       "      <td>6.027952</td>\n",
       "      <td>5.697791</td>\n",
       "    </tr>\n",
       "    <tr>\n",
       "      <th>woba_value</th>\n",
       "      <td>0.360663</td>\n",
       "      <td>0.350519</td>\n",
       "    </tr>\n",
       "    <tr>\n",
       "      <th>delta_run_exp</th>\n",
       "      <td>0.048509</td>\n",
       "      <td>0.037952</td>\n",
       "    </tr>\n",
       "  </tbody>\n",
       "</table></div>"
      ],
      "text/plain": [
       "label                      0          1\n",
       "velo               83.465715  83.509896\n",
       "pfx_-x            -12.436313 -14.869338\n",
       "pfx_z              11.854038   4.789962\n",
       "release_extension   6.254454   6.220312\n",
       "release_pos_z       6.027952   5.697791\n",
       "woba_value          0.360663   0.350519\n",
       "delta_run_exp       0.048509   0.037952"
      ]
     },
     "execution_count": 30,
     "metadata": {},
     "output_type": "execute_result"
    }
   ],
   "source": [
    "X_ch_l['label'] = label_ch_l\n",
    "model_ch_l['label'] = label_ch_l\n",
    "\n",
    "X_ch_l.groupby(by = 'label').mean().T"
   ]
  },
  {
   "cell_type": "markdown",
   "id": "f946c450",
   "metadata": {},
   "source": [
    "# Linear Regression Modeling"
   ]
  },
  {
   "cell_type": "markdown",
   "id": "982b64ba",
   "metadata": {},
   "source": [
    "## Linear Regression - 4-Seam"
   ]
  },
  {
   "cell_type": "markdown",
   "id": "0734ce36",
   "metadata": {},
   "source": [
    "### RHP"
   ]
  },
  {
   "cell_type": "code",
   "execution_count": 31,
   "id": "14d82d28",
   "metadata": {},
   "outputs": [
    {
     "name": "stdout",
     "output_type": "stream",
     "text": [
      "MSE: 0.0644\n",
      "RMSE: 0.2538\n",
      "MAE: 0.1708\n",
      "                            OLS Regression Results                            \n",
      "==============================================================================\n",
      "Dep. Variable:          delta_run_exp   R-squared:                       0.785\n",
      "Model:                            OLS   Adj. R-squared:                  0.784\n",
      "Method:                 Least Squares   F-statistic:                 1.481e+04\n",
      "Date:                Wed, 02 Mar 2022   Prob (F-statistic):               0.00\n",
      "Time:                        16:59:13   Log-Likelihood:                -1354.0\n",
      "No. Observations:               28478   AIC:                             2724.\n",
      "Df Residuals:                   28470   BIC:                             2790.\n",
      "Df Model:                           7                                         \n",
      "Covariance Type:            nonrobust                                         \n",
      "=====================================================================================\n",
      "                        coef    std err          t      P>|t|      [0.025      0.975]\n",
      "-------------------------------------------------------------------------------------\n",
      "const                -0.5544      0.061     -9.106      0.000      -0.674      -0.435\n",
      "velo                  0.0035      0.001      5.412      0.000       0.002       0.005\n",
      "pfx_-x               -0.0002      0.000     -0.529      0.597      -0.001       0.001\n",
      "pfx_z                -0.0004      0.001     -0.734      0.463      -0.001       0.001\n",
      "release_extension    -0.0007      0.004     -0.203      0.839      -0.008       0.006\n",
      "release_pos_z        -0.0029      0.004     -0.803      0.422      -0.010       0.004\n",
      "woba_value            0.8063      0.006    129.648      0.000       0.794       0.818\n",
      "label                -0.0158      0.008     -1.982      0.047      -0.031      -0.000\n",
      "==============================================================================\n",
      "Omnibus:                     9744.000   Durbin-Watson:                   1.992\n",
      "Prob(Omnibus):                  0.000   Jarque-Bera (JB):            79847.333\n",
      "Skew:                           1.418   Prob(JB):                         0.00\n",
      "Kurtosis:                      10.697   Cond. No.                     3.89e+03\n",
      "==============================================================================\n",
      "\n",
      "Notes:\n",
      "[1] Standard Errors assume that the covariance matrix of the errors is correctly specified.\n",
      "[2] The condition number is large, 3.89e+03. This might indicate that there are\n",
      "strong multicollinearity or other numerical problems.\n"
     ]
    }
   ],
   "source": [
    "X = X_ff_r.drop(columns = ['delta_run_exp'])\n",
    "X = sm.add_constant(X)\n",
    "y = X_ff_r['delta_run_exp']\n",
    "\n",
    "ols_ff_r = sm.OLS(y, X).fit()\n",
    "pred_ff_r = ols_ff_r.predict(X)\n",
    "fitted_vals_ff_r = ols_ff_r.fittedvalues\n",
    "residuals_ff_r = ols_ff_r.resid\n",
    "\n",
    "print('MSE:', round(metrics.mean_squared_error(y, pred_ff_r), 4))\n",
    "print('RMSE:', round(np.sqrt(metrics.mean_squared_error(y, pred_ff_r)), 4))\n",
    "print('MAE:', round(metrics.mean_absolute_error(y, pred_ff_r), 4))\n",
    "print(ols_ff_r.summary())"
   ]
  },
  {
   "cell_type": "code",
   "execution_count": 32,
   "id": "784beb67",
   "metadata": {},
   "outputs": [
    {
     "data": {
      "image/png": "[encoded data removed]",
      "text/plain": [
       "<Figure size 576x432 with 1 Axes>"
      ]
     },
     "metadata": {
      "needs_background": "light"
     },
     "output_type": "display_data"
    }
   ],
   "source": [
    "plt.figure(figsize = (8, 6))\n",
    "\n",
    "plt.scatter(pred_ff_r, y, s = 20, c = 'b', marker = 'o', label = 'Data')\n",
    "plt.plot(pred_ff_r, np.poly1d(np.polyfit(pred_ff_r, y, 1))(pred_ff_r), c = 'r',label = 'Least Squares Regression')\n",
    "plt.legend()\n",
    "plt.xlabel('Predicted Values from Features - $\\hat{y}$', fontsize = 11), plt.ylabel('RE', fontsize = 11)\n",
    "plt.title('Predicted RHP 4-Seam RE Values', fontsize = 14, fontweight = 'bold', pad = 15);"
   ]
  },
  {
   "cell_type": "code",
   "execution_count": 33,
   "id": "1f33dbdc",
   "metadata": {},
   "outputs": [
    {
     "data": {
      "image/png": "[encoded data removed]",
      "text/plain": [
       "<Figure size 432x288 with 1 Axes>"
      ]
     },
     "metadata": {
      "needs_background": "light"
     },
     "output_type": "display_data"
    }
   ],
   "source": [
    "sm.qqplot(residuals_ff_r, line = '45', fit = True)\n",
    "plt.ylabel('Standardized Residuals', fontsize = 11)\n",
    "plt.title('RHP 4-Seam QQ Plot Distribution', fontsize = 14, fontweight = 'bold', pad = 15);"
   ]
  },
  {
   "cell_type": "markdown",
   "id": "af1c58a5",
   "metadata": {},
   "source": [
    "### LHP"
   ]
  },
  {
   "cell_type": "code",
   "execution_count": 34,
   "id": "f2bc73c8",
   "metadata": {},
   "outputs": [
    {
     "name": "stdout",
     "output_type": "stream",
     "text": [
      "MSE: 0.0642\n",
      "RMSE: 0.2535\n",
      "MAE: 0.1725\n",
      "                            OLS Regression Results                            \n",
      "==============================================================================\n",
      "Dep. Variable:          delta_run_exp   R-squared:                       0.780\n",
      "Model:                            OLS   Adj. R-squared:                  0.780\n",
      "Method:                 Least Squares   F-statistic:                     6016.\n",
      "Date:                Wed, 02 Mar 2022   Prob (F-statistic):               0.00\n",
      "Time:                        16:59:14   Log-Likelihood:                -552.60\n",
      "No. Observations:               11900   AIC:                             1121.\n",
      "Df Residuals:                   11892   BIC:                             1180.\n",
      "Df Model:                           7                                         \n",
      "Covariance Type:            nonrobust                                         \n",
      "=====================================================================================\n",
      "                        coef    std err          t      P>|t|      [0.025      0.975]\n",
      "-------------------------------------------------------------------------------------\n",
      "const                -0.3204      0.099     -3.236      0.001      -0.514      -0.126\n",
      "velo                  0.0025      0.001      2.639      0.008       0.001       0.004\n",
      "pfx_-x               -0.0006      0.001     -0.994      0.320      -0.002       0.001\n",
      "pfx_z             -1.099e-05      0.001     -0.012      0.990      -0.002       0.002\n",
      "release_extension    -0.0155      0.006     -2.700      0.007      -0.027      -0.004\n",
      "release_pos_z        -0.0102      0.006     -1.650      0.099      -0.022       0.002\n",
      "woba_value            0.7819      0.010     80.327      0.000       0.763       0.801\n",
      "label                -0.0125      0.012     -1.012      0.312      -0.037       0.012\n",
      "==============================================================================\n",
      "Omnibus:                     3882.614   Durbin-Watson:                   2.027\n",
      "Prob(Omnibus):                  0.000   Jarque-Bera (JB):            29047.924\n",
      "Skew:                           1.364   Prob(JB):                         0.00\n",
      "Kurtosis:                      10.151   Cond. No.                     4.04e+03\n",
      "==============================================================================\n",
      "\n",
      "Notes:\n",
      "[1] Standard Errors assume that the covariance matrix of the errors is correctly specified.\n",
      "[2] The condition number is large, 4.04e+03. This might indicate that there are\n",
      "strong multicollinearity or other numerical problems.\n"
     ]
    }
   ],
   "source": [
    "X = X_ff_l.drop(columns = ['delta_run_exp'])\n",
    "X = sm.add_constant(X)\n",
    "y = X_ff_l['delta_run_exp']\n",
    "\n",
    "ols_ff_l = sm.OLS(y, X).fit()\n",
    "pred_ff_l = ols_ff_l.predict(X)\n",
    "fitted_vals_ff_l = ols_ff_l.fittedvalues\n",
    "residuals_ff_l = ols_ff_l.resid\n",
    "\n",
    "print('MSE:', round(metrics.mean_squared_error(y, pred_ff_l), 4))\n",
    "print('RMSE:', round(np.sqrt(metrics.mean_squared_error(y, pred_ff_l)), 4))\n",
    "print('MAE:', round(metrics.mean_absolute_error(y, pred_ff_l), 4))\n",
    "print(ols_ff_l.summary())"
   ]
  },
  {
   "cell_type": "code",
   "execution_count": 35,
   "id": "aa62738f",
   "metadata": {},
   "outputs": [
    {
     "data": {
      "image/png": "[encoded data removed]",
      "text/plain": [
       "<Figure size 576x432 with 1 Axes>"
      ]
     },
     "metadata": {
      "needs_background": "light"
     },
     "output_type": "display_data"
    }
   ],
   "source": [
    "plt.figure(figsize = (8, 6))\n",
    "\n",
    "plt.scatter(pred_ff_l, y, s = 20, c = 'b', marker = 'o', label = 'Data')\n",
    "plt.plot(pred_ff_l, np.poly1d(np.polyfit(pred_ff_l, y, 1))(pred_ff_l), c = 'r',label = 'Least Squares Regression')\n",
    "plt.legend()\n",
    "plt.xlabel('Predicted Values from Features - $\\hat{y}$', fontsize = 11), plt.ylabel('RE', fontsize = 11)\n",
    "plt.title('Predicted LHP 4-Seam RE Values', fontsize = 14, fontweight = 'bold', pad = 15);"
   ]
  },
  {
   "cell_type": "code",
   "execution_count": 36,
   "id": "f21cace6",
   "metadata": {},
   "outputs": [
    {
     "data": {
      "image/png": "[encoded data removed]",
      "text/plain": [
       "<Figure size 432x288 with 1 Axes>"
      ]
     },
     "metadata": {
      "needs_background": "light"
     },
     "output_type": "display_data"
    }
   ],
   "source": [
    "sm.qqplot(residuals_ff_l, line = '45', fit = True)\n",
    "plt.ylabel('Standardized Residuals', fontsize = 11)\n",
    "plt.title('LHP 4-Seam QQ Plot Distribution', fontsize = 14, fontweight = 'bold', pad = 15);"
   ]
  },
  {
   "cell_type": "markdown",
   "id": "f57a8c80",
   "metadata": {},
   "source": [
    "## Linear Regression - Cutter"
   ]
  },
  {
   "cell_type": "markdown",
   "id": "5e80e78b",
   "metadata": {},
   "source": [
    "### RHP"
   ]
  },
  {
   "cell_type": "code",
   "execution_count": 37,
   "id": "56e82b63",
   "metadata": {},
   "outputs": [
    {
     "name": "stdout",
     "output_type": "stream",
     "text": [
      "MSE: 0.0656\n",
      "RMSE: 0.256\n",
      "MAE: 0.1763\n",
      "                            OLS Regression Results                            \n",
      "==============================================================================\n",
      "Dep. Variable:          delta_run_exp   R-squared:                       0.783\n",
      "Model:                            OLS   Adj. R-squared:                  0.783\n",
      "Method:                 Least Squares   F-statistic:                     2881.\n",
      "Date:                Wed, 02 Mar 2022   Prob (F-statistic):               0.00\n",
      "Time:                        16:59:14   Log-Likelihood:                -315.60\n",
      "No. Observations:                5588   AIC:                             647.2\n",
      "Df Residuals:                    5580   BIC:                             700.2\n",
      "Df Model:                           7                                         \n",
      "Covariance Type:            nonrobust                                         \n",
      "=====================================================================================\n",
      "                        coef    std err          t      P>|t|      [0.025      0.975]\n",
      "-------------------------------------------------------------------------------------\n",
      "const                -0.3487      0.130     -2.692      0.007      -0.603      -0.095\n",
      "velo                  0.0011      0.001      0.995      0.320      -0.001       0.003\n",
      "pfx_-x                0.0012      0.001      0.964      0.335      -0.001       0.004\n",
      "pfx_z                -0.0011      0.001     -1.173      0.241      -0.003       0.001\n",
      "release_extension    -0.0084      0.009     -0.907      0.365      -0.027       0.010\n",
      "release_pos_z         0.0076      0.009      0.869      0.385      -0.010       0.025\n",
      "woba_value            0.8940      0.015     57.798      0.000       0.864       0.924\n",
      "label                -0.0684      0.019     -3.603      0.000      -0.106      -0.031\n",
      "==============================================================================\n",
      "Omnibus:                     1439.691   Durbin-Watson:                   1.999\n",
      "Prob(Omnibus):                  0.000   Jarque-Bera (JB):             8909.964\n",
      "Skew:                           1.085   Prob(JB):                         0.00\n",
      "Kurtosis:                       8.793   Cond. No.                     3.42e+03\n",
      "==============================================================================\n",
      "\n",
      "Notes:\n",
      "[1] Standard Errors assume that the covariance matrix of the errors is correctly specified.\n",
      "[2] The condition number is large, 3.42e+03. This might indicate that there are\n",
      "strong multicollinearity or other numerical problems.\n"
     ]
    }
   ],
   "source": [
    "X = X_fc_r.drop(columns = ['delta_run_exp'])\n",
    "X = sm.add_constant(X)\n",
    "y = X_fc_r['delta_run_exp']\n",
    "\n",
    "ols_fc_r = sm.OLS(y, X).fit()\n",
    "pred_fc_r = ols_fc_r.predict(X)\n",
    "fitted_vals_fc_r = ols_fc_r.fittedvalues\n",
    "residuals_fc_r = ols_fc_r.resid\n",
    "\n",
    "print('MSE:', round(metrics.mean_squared_error(y, pred_fc_r), 4))\n",
    "print('RMSE:', round(np.sqrt(metrics.mean_squared_error(y, pred_fc_r)), 4))\n",
    "print('MAE:', round(metrics.mean_absolute_error(y, pred_fc_r), 4))\n",
    "print(ols_fc_r.summary())"
   ]
  },
  {
   "cell_type": "code",
   "execution_count": 38,
   "id": "28d5fdae",
   "metadata": {},
   "outputs": [
    {
     "data": {
      "image/png": "[encoded data removed]",
      "text/plain": [
       "<Figure size 576x432 with 1 Axes>"
      ]
     },
     "metadata": {
      "needs_background": "light"
     },
     "output_type": "display_data"
    }
   ],
   "source": [
    "plt.figure(figsize = (8, 6))\n",
    "\n",
    "plt.scatter(pred_fc_r, y, c = 'b', marker = 'o', label = 'Data')\n",
    "plt.plot(pred_fc_r, np.poly1d(np.polyfit(pred_fc_r, y, 1))(pred_fc_r), c = 'r',label = 'Least Squares Regression')\n",
    "plt.legend()\n",
    "plt.xlabel('Predicted Values from Features - $\\hat{y}$', fontsize = 11), plt.ylabel('RE', fontsize = 11)\n",
    "plt.title('Predicted RHP Cutter RE Values', fontsize = 14, fontweight = 'bold', pad = 15);"
   ]
  },
  {
   "cell_type": "code",
   "execution_count": 39,
   "id": "d8b4af77",
   "metadata": {},
   "outputs": [
    {
     "data": {
      "image/png": "[encoded data removed]",
      "text/plain": [
       "<Figure size 432x288 with 1 Axes>"
      ]
     },
     "metadata": {
      "needs_background": "light"
     },
     "output_type": "display_data"
    }
   ],
   "source": [
    "sm.qqplot(residuals_fc_r, line = '45', fit = True)\n",
    "plt.ylabel('Standardized Residuals', fontsize = 11)\n",
    "plt.title('RHP Cutter QQ Plot Distribution', fontsize = 14, fontweight = 'bold', pad = 15);"
   ]
  },
  {
   "cell_type": "markdown",
   "id": "42c4d99c",
   "metadata": {},
   "source": [
    "### LHP"
   ]
  },
  {
   "cell_type": "code",
   "execution_count": 40,
   "id": "bb407e7e",
   "metadata": {},
   "outputs": [
    {
     "name": "stdout",
     "output_type": "stream",
     "text": [
      "MSE: 0.0663\n",
      "RMSE: 0.2574\n",
      "MAE: 0.1776\n",
      "                            OLS Regression Results                            \n",
      "==============================================================================\n",
      "Dep. Variable:          delta_run_exp   R-squared:                       0.775\n",
      "Model:                            OLS   Adj. R-squared:                  0.774\n",
      "Method:                 Least Squares   F-statistic:                     1526.\n",
      "Date:                Wed, 02 Mar 2022   Prob (F-statistic):               0.00\n",
      "Time:                        16:59:14   Log-Likelihood:                -192.48\n",
      "No. Observations:                3110   AIC:                             401.0\n",
      "Df Residuals:                    3102   BIC:                             449.3\n",
      "Df Model:                           7                                         \n",
      "Covariance Type:            nonrobust                                         \n",
      "=====================================================================================\n",
      "                        coef    std err          t      P>|t|      [0.025      0.975]\n",
      "-------------------------------------------------------------------------------------\n",
      "const                -0.4013      0.190     -2.109      0.035      -0.774      -0.028\n",
      "velo                  0.0019      0.002      1.003      0.316      -0.002       0.006\n",
      "pfx_-x             8.393e-05      0.002      0.049      0.961      -0.003       0.003\n",
      "pfx_z                -0.0033      0.002     -1.998      0.046      -0.006   -6.03e-05\n",
      "release_extension    -0.0011      0.014     -0.074      0.941      -0.029       0.027\n",
      "release_pos_z         0.0007      0.011      0.065      0.948      -0.021       0.023\n",
      "woba_value            0.7781      0.021     37.766      0.000       0.738       0.819\n",
      "label                 0.0538      0.025      2.120      0.034       0.004       0.104\n",
      "==============================================================================\n",
      "Omnibus:                      965.161   Durbin-Watson:                   2.026\n",
      "Prob(Omnibus):                  0.000   Jarque-Bera (JB):             7215.261\n",
      "Skew:                           1.267   Prob(JB):                         0.00\n",
      "Kurtosis:                      10.018   Cond. No.                     3.61e+03\n",
      "==============================================================================\n",
      "\n",
      "Notes:\n",
      "[1] Standard Errors assume that the covariance matrix of the errors is correctly specified.\n",
      "[2] The condition number is large, 3.61e+03. This might indicate that there are\n",
      "strong multicollinearity or other numerical problems.\n"
     ]
    }
   ],
   "source": [
    "X = X_fc_l.drop(columns = ['delta_run_exp'])\n",
    "X = sm.add_constant(X)\n",
    "y = X_fc_l['delta_run_exp']\n",
    "\n",
    "ols_fc_l = sm.OLS(y, X).fit()\n",
    "pred_fc_l = ols_fc_l.predict(X)\n",
    "fitted_vals_fc_l = ols_fc_l.fittedvalues\n",
    "residuals_fc_l = ols_fc_l.resid\n",
    "\n",
    "print('MSE:', round(metrics.mean_squared_error(y, pred_fc_l), 4))\n",
    "print('RMSE:', round(np.sqrt(metrics.mean_squared_error(y, pred_fc_l)), 4))\n",
    "print('MAE:', round(metrics.mean_absolute_error(y, pred_fc_l), 4))\n",
    "print(ols_fc_l.summary())"
   ]
  },
  {
   "cell_type": "code",
   "execution_count": 41,
   "id": "4fcb9a0e",
   "metadata": {},
   "outputs": [
    {
     "data": {
      "image/png": "[encoded data removed]",
      "text/plain": [
       "<Figure size 576x432 with 1 Axes>"
      ]
     },
     "metadata": {
      "needs_background": "light"
     },
     "output_type": "display_data"
    }
   ],
   "source": [
    "plt.figure(figsize = (8, 6))\n",
    "\n",
    "plt.scatter(pred_fc_l, y, c = 'b', marker = 'o', label = 'Data')\n",
    "plt.plot(pred_fc_l, np.poly1d(np.polyfit(pred_fc_l, y, 1))(pred_fc_l), c = 'r',label = 'Least Squares Regression')\n",
    "plt.legend()\n",
    "plt.xlabel('Predicted Values from Features - $\\hat{y}$', fontsize = 11), plt.ylabel('RE', fontsize = 11)\n",
    "plt.title('Predicted LHP Cutter RE Values', fontsize = 14, fontweight = 'bold', pad = 15);"
   ]
  },
  {
   "cell_type": "code",
   "execution_count": 42,
   "id": "38b43a6b",
   "metadata": {},
   "outputs": [
    {
     "data": {
      "image/png": "[encoded data removed]",
      "text/plain": [
       "<Figure size 432x288 with 1 Axes>"
      ]
     },
     "metadata": {
      "needs_background": "light"
     },
     "output_type": "display_data"
    }
   ],
   "source": [
    "sm.qqplot(residuals_fc_l, line = '45', fit = True)\n",
    "plt.ylabel('Standardized Residuals', fontsize = 11)\n",
    "plt.title('LHP Cutter QQ Plot Distribution', fontsize = 14, fontweight = 'bold', pad = 15);"
   ]
  },
  {
   "cell_type": "markdown",
   "id": "b540feab",
   "metadata": {},
   "source": [
    "## Linear Regression - Sinker"
   ]
  },
  {
   "cell_type": "markdown",
   "id": "0d8b3e09",
   "metadata": {},
   "source": [
    "### RHP"
   ]
  },
  {
   "cell_type": "code",
   "execution_count": 43,
   "id": "ccafc5a4",
   "metadata": {},
   "outputs": [
    {
     "name": "stdout",
     "output_type": "stream",
     "text": [
      "MSE: 0.0617\n",
      "RMSE: 0.2484\n",
      "MAE: 0.175\n",
      "                            OLS Regression Results                            \n",
      "==============================================================================\n",
      "Dep. Variable:          delta_run_exp   R-squared:                       0.778\n",
      "Model:                            OLS   Adj. R-squared:                  0.778\n",
      "Method:                 Least Squares   F-statistic:                     7691.\n",
      "Date:                Wed, 02 Mar 2022   Prob (F-statistic):               0.00\n",
      "Time:                        16:59:14   Log-Likelihood:                -404.83\n",
      "No. Observations:               15373   AIC:                             825.7\n",
      "Df Residuals:                   15365   BIC:                             886.8\n",
      "Df Model:                           7                                         \n",
      "Covariance Type:            nonrobust                                         \n",
      "=====================================================================================\n",
      "                        coef    std err          t      P>|t|      [0.025      0.975]\n",
      "-------------------------------------------------------------------------------------\n",
      "const                -0.2881      0.074     -3.917      0.000      -0.432      -0.144\n",
      "velo                  0.0008      0.001      1.048      0.295      -0.001       0.002\n",
      "pfx_-x            -3.453e-05      0.001     -0.047      0.962      -0.001       0.001\n",
      "pfx_z                 0.0005      0.001      0.815      0.415      -0.001       0.002\n",
      "release_extension    -0.0027      0.005     -0.561      0.575      -0.012       0.007\n",
      "release_pos_z        -0.0090      0.004     -2.089      0.037      -0.018      -0.001\n",
      "woba_value            0.8423      0.010     85.017      0.000       0.823       0.862\n",
      "label                -0.0024      0.012     -0.208      0.835      -0.025       0.020\n",
      "==============================================================================\n",
      "Omnibus:                     3433.567   Durbin-Watson:                   2.001\n",
      "Prob(Omnibus):                  0.000   Jarque-Bera (JB):            19908.387\n",
      "Skew:                           0.949   Prob(JB):                         0.00\n",
      "Kurtosis:                       8.242   Cond. No.                     3.50e+03\n",
      "==============================================================================\n",
      "\n",
      "Notes:\n",
      "[1] Standard Errors assume that the covariance matrix of the errors is correctly specified.\n",
      "[2] The condition number is large, 3.5e+03. This might indicate that there are\n",
      "strong multicollinearity or other numerical problems.\n"
     ]
    }
   ],
   "source": [
    "X = X_si_r.drop(columns = ['delta_run_exp'])\n",
    "X = sm.add_constant(X)\n",
    "y = X_si_r['delta_run_exp']\n",
    "\n",
    "ols_si_r = sm.OLS(y, X).fit()\n",
    "pred_si_r = ols_si_r.predict(X)\n",
    "fitted_vals_si_r = ols_si_r.fittedvalues\n",
    "residuals_si_r = ols_si_r.resid\n",
    "\n",
    "print('MSE:', round(metrics.mean_squared_error(y, pred_si_r), 4))\n",
    "print('RMSE:', round(np.sqrt(metrics.mean_squared_error(y, pred_si_r)), 4))\n",
    "print('MAE:', round(metrics.mean_absolute_error(y, pred_si_r), 4))\n",
    "print(ols_si_r.summary())"
   ]
  },
  {
   "cell_type": "code",
   "execution_count": 44,
   "id": "adb8de73",
   "metadata": {},
   "outputs": [
    {
     "data": {
      "image/png": "[encoded data removed]",
      "text/plain": [
       "<Figure size 576x432 with 1 Axes>"
      ]
     },
     "metadata": {
      "needs_background": "light"
     },
     "output_type": "display_data"
    }
   ],
   "source": [
    "plt.figure(figsize = (8, 6))\n",
    "\n",
    "plt.scatter(pred_si_r, y, c = 'b', marker = 'o', label = 'Data')\n",
    "plt.plot(pred_si_r, np.poly1d(np.polyfit(pred_si_r, y, 1))(pred_si_r), c = 'r',label = 'Least Squares Regression')\n",
    "plt.legend()\n",
    "plt.xlabel('Predicted Values from Features - $\\hat{y}$', fontsize = 11), plt.ylabel('RE', fontsize = 11)\n",
    "plt.title('Predicted RHP Sinker RE Values', fontsize = 14, fontweight = 'bold', pad = 15);"
   ]
  },
  {
   "cell_type": "code",
   "execution_count": 45,
   "id": "ad53adcb",
   "metadata": {},
   "outputs": [
    {
     "data": {
      "image/png": "[encoded data removed]",
      "text/plain": [
       "<Figure size 432x288 with 1 Axes>"
      ]
     },
     "metadata": {
      "needs_background": "light"
     },
     "output_type": "display_data"
    }
   ],
   "source": [
    "sm.qqplot(residuals_si_r, line = '45', fit = True)\n",
    "plt.ylabel('Standardized Residuals', fontsize = 11)\n",
    "plt.title('RHP Sinker QQ Plot Distribution', fontsize = 14, fontweight = 'bold', pad = 15);"
   ]
  },
  {
   "cell_type": "markdown",
   "id": "7100a543",
   "metadata": {},
   "source": [
    "### LHP"
   ]
  },
  {
   "cell_type": "code",
   "execution_count": 46,
   "id": "3798136c",
   "metadata": {},
   "outputs": [
    {
     "name": "stdout",
     "output_type": "stream",
     "text": [
      "MSE: 0.0611\n",
      "RMSE: 0.2471\n",
      "MAE: 0.1733\n",
      "                            OLS Regression Results                            \n",
      "==============================================================================\n",
      "Dep. Variable:          delta_run_exp   R-squared:                       0.770\n",
      "Model:                            OLS   Adj. R-squared:                  0.770\n",
      "Method:                 Least Squares   F-statistic:                     3160.\n",
      "Date:                Wed, 02 Mar 2022   Prob (F-statistic):               0.00\n",
      "Time:                        16:59:15   Log-Likelihood:                -138.23\n",
      "No. Observations:                6606   AIC:                             292.5\n",
      "Df Residuals:                    6598   BIC:                             346.8\n",
      "Df Model:                           7                                         \n",
      "Covariance Type:            nonrobust                                         \n",
      "=====================================================================================\n",
      "                        coef    std err          t      P>|t|      [0.025      0.975]\n",
      "-------------------------------------------------------------------------------------\n",
      "const                -0.5936      0.116     -5.123      0.000      -0.821      -0.366\n",
      "velo                  0.0042      0.001      3.659      0.000       0.002       0.006\n",
      "pfx_-x             6.335e-05      0.001      0.050      0.960      -0.002       0.003\n",
      "pfx_z                 0.0004      0.001      0.533      0.594      -0.001       0.002\n",
      "release_extension    -0.0031      0.007     -0.439      0.661      -0.017       0.011\n",
      "release_pos_z        -0.0040      0.006     -0.620      0.535      -0.017       0.009\n",
      "woba_value            0.7923      0.015     54.032      0.000       0.764       0.821\n",
      "label                -0.0244      0.017     -1.420      0.156      -0.058       0.009\n",
      "==============================================================================\n",
      "Omnibus:                     1899.160   Durbin-Watson:                   2.025\n",
      "Prob(Omnibus):                  0.000   Jarque-Bera (JB):            13726.748\n",
      "Skew:                           1.182   Prob(JB):                         0.00\n",
      "Kurtosis:                       9.655   Cond. No.                     3.59e+03\n",
      "==============================================================================\n",
      "\n",
      "Notes:\n",
      "[1] Standard Errors assume that the covariance matrix of the errors is correctly specified.\n",
      "[2] The condition number is large, 3.59e+03. This might indicate that there are\n",
      "strong multicollinearity or other numerical problems.\n"
     ]
    }
   ],
   "source": [
    "X = X_si_l.drop(columns = ['delta_run_exp'])\n",
    "X = sm.add_constant(X)\n",
    "y = X_si_l['delta_run_exp']\n",
    "\n",
    "ols_si_l = sm.OLS(y, X).fit()\n",
    "pred_si_l = ols_si_l.predict(X)\n",
    "fitted_vals_si_l = ols_si_l.fittedvalues\n",
    "residuals_si_l = ols_si_l.resid\n",
    "\n",
    "print('MSE:', round(metrics.mean_squared_error(y, pred_si_l), 4))\n",
    "print('RMSE:', round(np.sqrt(metrics.mean_squared_error(y, pred_si_l)), 4))\n",
    "print('MAE:', round(metrics.mean_absolute_error(y, pred_si_l), 4))\n",
    "print(ols_si_l.summary())"
   ]
  },
  {
   "cell_type": "code",
   "execution_count": 47,
   "id": "547a3e0b",
   "metadata": {},
   "outputs": [
    {
     "data": {
      "image/png": "[encoded data removed]",
      "text/plain": [
       "<Figure size 576x432 with 1 Axes>"
      ]
     },
     "metadata": {
      "needs_background": "light"
     },
     "output_type": "display_data"
    }
   ],
   "source": [
    "plt.figure(figsize = (8, 6))\n",
    "\n",
    "plt.scatter(pred_si_l, y, c = 'b', marker = 'o', label = 'Data')\n",
    "plt.plot(pred_si_l, np.poly1d(np.polyfit(pred_si_l, y, 1))(pred_si_l), c = 'r',label = 'Least Squares Regression')\n",
    "plt.legend()\n",
    "plt.xlabel('Predicted Values from Features - $\\hat{y}$', fontsize = 11), plt.ylabel('RE', fontsize = 11)\n",
    "plt.title('Predicted LHP Sinker RE Values', fontsize = 14, fontweight = 'bold', pad = 15);"
   ]
  },
  {
   "cell_type": "code",
   "execution_count": 48,
   "id": "721f4970",
   "metadata": {},
   "outputs": [
    {
     "data": {
      "image/png": "[encoded data removed]",
      "text/plain": [
       "<Figure size 432x288 with 1 Axes>"
      ]
     },
     "metadata": {
      "needs_background": "light"
     },
     "output_type": "display_data"
    }
   ],
   "source": [
    "sm.qqplot(residuals_si_l, line = '45', fit = True)\n",
    "plt.ylabel('Standardized Residuals', fontsize = 11)\n",
    "plt.title('LHP Sinker QQ Plot Distribution', fontsize = 14, fontweight = 'bold', pad = 15);"
   ]
  },
  {
   "cell_type": "markdown",
   "id": "9ccade27",
   "metadata": {},
   "source": [
    "## Linear Regression - Slider"
   ]
  },
  {
   "cell_type": "markdown",
   "id": "0502a917",
   "metadata": {},
   "source": [
    "### RHP"
   ]
  },
  {
   "cell_type": "code",
   "execution_count": 49,
   "id": "dac1ddbd",
   "metadata": {},
   "outputs": [
    {
     "name": "stdout",
     "output_type": "stream",
     "text": [
      "MSE: 0.067\n",
      "RMSE: 0.2588\n",
      "MAE: 0.1763\n",
      "                            OLS Regression Results                            \n",
      "==============================================================================\n",
      "Dep. Variable:          delta_run_exp   R-squared:                       0.784\n",
      "Model:                            OLS   Adj. R-squared:                  0.784\n",
      "Method:                 Least Squares   F-statistic:                     8371.\n",
      "Date:                Wed, 02 Mar 2022   Prob (F-statistic):               0.00\n",
      "Time:                        16:59:15   Log-Likelihood:                -1086.6\n",
      "No. Observations:               16153   AIC:                             2189.\n",
      "Df Residuals:                   16145   BIC:                             2251.\n",
      "Df Model:                           7                                         \n",
      "Covariance Type:            nonrobust                                         \n",
      "=====================================================================================\n",
      "                        coef    std err          t      P>|t|      [0.025      0.975]\n",
      "-------------------------------------------------------------------------------------\n",
      "const                -0.1983      0.062     -3.198      0.001      -0.320      -0.077\n",
      "velo               4.635e-05      0.001      0.069      0.945      -0.001       0.001\n",
      "pfx_-x               -0.0009      0.000     -1.915      0.056      -0.002    2.15e-05\n",
      "pfx_z                -0.0011      0.000     -2.192      0.028      -0.002      -0.000\n",
      "release_extension    -0.0065      0.005     -1.423      0.155      -0.015       0.002\n",
      "release_pos_z        -0.0003      0.004     -0.078      0.938      -0.007       0.007\n",
      "woba_value            0.8298      0.009     91.945      0.000       0.812       0.847\n",
      "label                -0.0161      0.011     -1.424      0.154      -0.038       0.006\n",
      "==============================================================================\n",
      "Omnibus:                     5106.670   Durbin-Watson:                   1.980\n",
      "Prob(Omnibus):                  0.000   Jarque-Bera (JB):            36570.264\n",
      "Skew:                           1.330   Prob(JB):                         0.00\n",
      "Kurtosis:                       9.874   Cond. No.                     2.61e+03\n",
      "==============================================================================\n",
      "\n",
      "Notes:\n",
      "[1] Standard Errors assume that the covariance matrix of the errors is correctly specified.\n",
      "[2] The condition number is large, 2.61e+03. This might indicate that there are\n",
      "strong multicollinearity or other numerical problems.\n"
     ]
    }
   ],
   "source": [
    "X = X_sl_r.drop(columns = ['delta_run_exp'])\n",
    "X = sm.add_constant(X)\n",
    "y = X_sl_r['delta_run_exp']\n",
    "\n",
    "ols_sl_r = sm.OLS(y, X).fit()\n",
    "pred_sl_r = ols_sl_r.predict(X)\n",
    "fitted_vals_sl_r = ols_sl_r.fittedvalues\n",
    "residuals_sl_r = ols_sl_r.resid\n",
    "\n",
    "print('MSE:', round(metrics.mean_squared_error(y, pred_sl_r), 4))\n",
    "print('RMSE:', round(np.sqrt(metrics.mean_squared_error(y, pred_sl_r)), 4))\n",
    "print('MAE:', round(metrics.mean_absolute_error(y, pred_sl_r), 4))\n",
    "print(ols_sl_r.summary())"
   ]
  },
  {
   "cell_type": "code",
   "execution_count": 50,
   "id": "1cb2e2f5",
   "metadata": {},
   "outputs": [
    {
     "data": {
      "image/png": "[encoded data removed]",
      "text/plain": [
       "<Figure size 576x432 with 1 Axes>"
      ]
     },
     "metadata": {
      "needs_background": "light"
     },
     "output_type": "display_data"
    }
   ],
   "source": [
    "plt.figure(figsize = (8, 6))\n",
    "\n",
    "plt.scatter(pred_sl_r, y, c = 'b', marker = 'o', label = 'Data')\n",
    "plt.plot(pred_sl_r, np.poly1d(np.polyfit(pred_sl_r, y, 1))(pred_sl_r), c = 'r',label = 'Least Squares Regression')\n",
    "plt.legend()\n",
    "plt.xlabel('Predicted Values from Features - $\\hat{y}$', fontsize = 11), plt.ylabel('RE', fontsize = 11)\n",
    "plt.title('Predicted RHP Slider RE Values', fontsize = 14, fontweight = 'bold', pad = 15);"
   ]
  },
  {
   "cell_type": "code",
   "execution_count": 51,
   "id": "943b51a5",
   "metadata": {},
   "outputs": [
    {
     "data": {
      "image/png": "[encoded data removed]",
      "text/plain": [
       "<Figure size 432x288 with 1 Axes>"
      ]
     },
     "metadata": {
      "needs_background": "light"
     },
     "output_type": "display_data"
    }
   ],
   "source": [
    "sm.qqplot(residuals_sl_r, line = '45', fit = True)\n",
    "plt.ylabel('Standardized Residuals', fontsize = 11)\n",
    "plt.title('RHP Slider QQ Plot Distribution', fontsize = 14, fontweight = 'bold', pad = 15);"
   ]
  },
  {
   "cell_type": "markdown",
   "id": "70294c1a",
   "metadata": {},
   "source": [
    "### LHP"
   ]
  },
  {
   "cell_type": "code",
   "execution_count": 52,
   "id": "a1572ca7",
   "metadata": {},
   "outputs": [
    {
     "name": "stdout",
     "output_type": "stream",
     "text": [
      "MSE: 0.0704\n",
      "RMSE: 0.2653\n",
      "MAE: 0.1802\n",
      "                            OLS Regression Results                            \n",
      "==============================================================================\n",
      "Dep. Variable:          delta_run_exp   R-squared:                       0.781\n",
      "Model:                            OLS   Adj. R-squared:                  0.781\n",
      "Method:                 Least Squares   F-statistic:                     2733.\n",
      "Date:                Wed, 02 Mar 2022   Prob (F-statistic):               0.00\n",
      "Time:                        16:59:15   Log-Likelihood:                -494.06\n",
      "No. Observations:                5365   AIC:                             1004.\n",
      "Df Residuals:                    5357   BIC:                             1057.\n",
      "Df Model:                           7                                         \n",
      "Covariance Type:            nonrobust                                         \n",
      "=====================================================================================\n",
      "                        coef    std err          t      P>|t|      [0.025      0.975]\n",
      "-------------------------------------------------------------------------------------\n",
      "const                -0.4879      0.133     -3.662      0.000      -0.749      -0.227\n",
      "velo                  0.0027      0.001      1.966      0.049    8.14e-06       0.005\n",
      "pfx_-x                0.0015      0.001      1.669      0.095      -0.000       0.003\n",
      "pfx_z                -0.0029      0.001     -3.055      0.002      -0.005      -0.001\n",
      "release_extension    -0.0007      0.008     -0.085      0.932      -0.017       0.016\n",
      "release_pos_z         0.0038      0.008      0.474      0.636      -0.012       0.019\n",
      "woba_value            0.8497      0.016     53.824      0.000       0.819       0.881\n",
      "label                -0.0036      0.020     -0.181      0.856      -0.042       0.035\n",
      "==============================================================================\n",
      "Omnibus:                     1628.602   Durbin-Watson:                   2.006\n",
      "Prob(Omnibus):                  0.000   Jarque-Bera (JB):            10559.411\n",
      "Skew:                           1.290   Prob(JB):                         0.00\n",
      "Kurtosis:                       9.370   Cond. No.                     3.11e+03\n",
      "==============================================================================\n",
      "\n",
      "Notes:\n",
      "[1] Standard Errors assume that the covariance matrix of the errors is correctly specified.\n",
      "[2] The condition number is large, 3.11e+03. This might indicate that there are\n",
      "strong multicollinearity or other numerical problems.\n"
     ]
    }
   ],
   "source": [
    "X = X_sl_l.drop(columns = ['delta_run_exp'])\n",
    "X = sm.add_constant(X)\n",
    "y = X_sl_l['delta_run_exp']\n",
    "\n",
    "ols_sl_l = sm.OLS(y, X).fit()\n",
    "pred_sl_l = ols_sl_l.predict(X)\n",
    "fitted_vals_sl_l = ols_sl_l.fittedvalues\n",
    "residuals_sl_l = ols_sl_l.resid\n",
    "\n",
    "print('MSE:', round(metrics.mean_squared_error(y, pred_sl_l), 4))\n",
    "print('RMSE:', round(np.sqrt(metrics.mean_squared_error(y, pred_sl_l)), 4))\n",
    "print('MAE:', round(metrics.mean_absolute_error(y, pred_sl_l), 4))\n",
    "print(ols_sl_l.summary())"
   ]
  },
  {
   "cell_type": "code",
   "execution_count": 53,
   "id": "e240cbf1",
   "metadata": {},
   "outputs": [
    {
     "data": {
      "image/png": "[encoded data removed]",
      "text/plain": [
       "<Figure size 576x432 with 1 Axes>"
      ]
     },
     "metadata": {
      "needs_background": "light"
     },
     "output_type": "display_data"
    }
   ],
   "source": [
    "plt.figure(figsize = (8, 6))\n",
    "\n",
    "plt.scatter(pred_sl_l, y, c = 'b', marker = 'o', label = 'Data')\n",
    "plt.plot(pred_sl_l, np.poly1d(np.polyfit(pred_sl_l, y, 1))(pred_sl_l), c = 'r',label = 'Least Squares Regression')\n",
    "plt.legend()\n",
    "plt.xlabel('Predicted Values from Features - $\\hat{y}$', fontsize = 11), plt.ylabel('RE', fontsize = 11)\n",
    "plt.title('Predicted LHP Slider RE Values', fontsize = 14, fontweight = 'bold', pad = 15);"
   ]
  },
  {
   "cell_type": "code",
   "execution_count": 54,
   "id": "4af6554c",
   "metadata": {},
   "outputs": [
    {
     "data": {
      "image/png": "[encoded data removed]",
      "text/plain": [
       "<Figure size 432x288 with 1 Axes>"
      ]
     },
     "metadata": {
      "needs_background": "light"
     },
     "output_type": "display_data"
    }
   ],
   "source": [
    "sm.qqplot(residuals_sl_l, line = '45', fit = True)\n",
    "plt.ylabel('Standardized Residuals', fontsize = 11)\n",
    "plt.title('LHP Slider QQ Plot Distribution', fontsize = 14, fontweight = 'bold', pad = 15);"
   ]
  },
  {
   "cell_type": "markdown",
   "id": "3bc74d5a",
   "metadata": {},
   "source": [
    "## Linear Regression - Curveball"
   ]
  },
  {
   "cell_type": "markdown",
   "id": "2a1c4a25",
   "metadata": {},
   "source": [
    "### RHP"
   ]
  },
  {
   "cell_type": "code",
   "execution_count": 55,
   "id": "6b57028f",
   "metadata": {},
   "outputs": [
    {
     "name": "stdout",
     "output_type": "stream",
     "text": [
      "MSE: 0.0622\n",
      "RMSE: 0.2495\n",
      "MAE: 0.1645\n",
      "                            OLS Regression Results                            \n",
      "==============================================================================\n",
      "Dep. Variable:          delta_run_exp   R-squared:                       0.780\n",
      "Model:                            OLS   Adj. R-squared:                  0.779\n",
      "Method:                 Least Squares   F-statistic:                     2900.\n",
      "Date:                Wed, 02 Mar 2022   Prob (F-statistic):               0.00\n",
      "Time:                        16:59:16   Log-Likelihood:                -175.17\n",
      "No. Observations:                5743   AIC:                             366.3\n",
      "Df Residuals:                    5735   BIC:                             419.6\n",
      "Df Model:                           7                                         \n",
      "Covariance Type:            nonrobust                                         \n",
      "=====================================================================================\n",
      "                        coef    std err          t      P>|t|      [0.025      0.975]\n",
      "-------------------------------------------------------------------------------------\n",
      "const                -0.2572      0.106     -2.426      0.015      -0.465      -0.049\n",
      "velo                  0.0001      0.001      0.131      0.896      -0.002       0.002\n",
      "pfx_-x                0.0006      0.001      0.858      0.391      -0.001       0.002\n",
      "pfx_z                -0.0005      0.001     -0.721      0.471      -0.002       0.001\n",
      "release_extension     0.0080      0.008      0.998      0.318      -0.008       0.024\n",
      "release_pos_z        -0.0088      0.009     -1.017      0.309      -0.026       0.008\n",
      "woba_value            0.8378      0.015     54.434      0.000       0.808       0.868\n",
      "label                 0.0210      0.019      1.118      0.264      -0.016       0.058\n",
      "==============================================================================\n",
      "Omnibus:                     2266.530   Durbin-Watson:                   2.033\n",
      "Prob(Omnibus):                  0.000   Jarque-Bera (JB):            22776.228\n",
      "Skew:                           1.602   Prob(JB):                         0.00\n",
      "Kurtosis:                      12.215   Cond. No.                     2.61e+03\n",
      "==============================================================================\n",
      "\n",
      "Notes:\n",
      "[1] Standard Errors assume that the covariance matrix of the errors is correctly specified.\n",
      "[2] The condition number is large, 2.61e+03. This might indicate that there are\n",
      "strong multicollinearity or other numerical problems.\n"
     ]
    }
   ],
   "source": [
    "X = X_cu_r.drop(columns = ['delta_run_exp'])\n",
    "X = sm.add_constant(X)\n",
    "y = X_cu_r['delta_run_exp']\n",
    "\n",
    "ols_cu_r = sm.OLS(y, X).fit()\n",
    "pred_cu_r = ols_cu_r.predict(X)\n",
    "fitted_vals_cu_r = ols_cu_r.fittedvalues\n",
    "residuals_cu_r = ols_cu_r.resid\n",
    "\n",
    "print('MSE:', round(metrics.mean_squared_error(y, pred_cu_r), 4))\n",
    "print('RMSE:', round(np.sqrt(metrics.mean_squared_error(y, pred_cu_r)), 4))\n",
    "print('MAE:', round(metrics.mean_absolute_error(y, pred_cu_r), 4))\n",
    "print(ols_cu_r.summary())"
   ]
  },
  {
   "cell_type": "code",
   "execution_count": 56,
   "id": "ad6462d0",
   "metadata": {},
   "outputs": [
    {
     "data": {
      "image/png": "[encoded data removed]",
      "text/plain": [
       "<Figure size 576x432 with 1 Axes>"
      ]
     },
     "metadata": {
      "needs_background": "light"
     },
     "output_type": "display_data"
    }
   ],
   "source": [
    "plt.figure(figsize = (8, 6))\n",
    "\n",
    "plt.scatter(pred_cu_r, y, c = 'b', marker = 'o', label = 'Data')\n",
    "plt.plot(pred_cu_r, np.poly1d(np.polyfit(pred_cu_r, y, 1))(pred_cu_r), c = 'r',label = 'Least Squares Regression')\n",
    "plt.legend()\n",
    "plt.xlabel('Predicted Values from Features - $\\hat{y}$', fontsize = 11), plt.ylabel('RE', fontsize = 11)\n",
    "plt.title('Predicted RHP Curveball RE Values', fontsize = 14, fontweight = 'bold', pad = 15);"
   ]
  },
  {
   "cell_type": "code",
   "execution_count": 57,
   "id": "408deb7e",
   "metadata": {},
   "outputs": [
    {
     "data": {
      "image/png": "[encoded data removed]",
      "text/plain": [
       "<Figure size 432x288 with 1 Axes>"
      ]
     },
     "metadata": {
      "needs_background": "light"
     },
     "output_type": "display_data"
    }
   ],
   "source": [
    "sm.qqplot(residuals_cu_r, line='45', fit=True)\n",
    "plt.ylabel('Standardized Residuals', fontsize = 11)\n",
    "plt.title('RHP Curveball QQ Plot Distribution', fontsize = 14, fontweight = 'bold', pad = 15);"
   ]
  },
  {
   "cell_type": "markdown",
   "id": "d1a2b763",
   "metadata": {},
   "source": [
    "### LHP"
   ]
  },
  {
   "cell_type": "code",
   "execution_count": 58,
   "id": "8046f1de",
   "metadata": {},
   "outputs": [
    {
     "name": "stdout",
     "output_type": "stream",
     "text": [
      "MSE: 0.0613\n",
      "RMSE: 0.2476\n",
      "MAE: 0.1668\n",
      "                            OLS Regression Results                            \n",
      "==============================================================================\n",
      "Dep. Variable:          delta_run_exp   R-squared:                       0.784\n",
      "Model:                            OLS   Adj. R-squared:                  0.784\n",
      "Method:                 Least Squares   F-statistic:                     1396.\n",
      "Date:                Wed, 02 Mar 2022   Prob (F-statistic):               0.00\n",
      "Time:                        16:59:16   Log-Likelihood:                -61.501\n",
      "No. Observations:                2696   AIC:                             139.0\n",
      "Df Residuals:                    2688   BIC:                             186.2\n",
      "Df Model:                           7                                         \n",
      "Covariance Type:            nonrobust                                         \n",
      "=====================================================================================\n",
      "                        coef    std err          t      P>|t|      [0.025      0.975]\n",
      "-------------------------------------------------------------------------------------\n",
      "const                -0.4297      0.154     -2.795      0.005      -0.731      -0.128\n",
      "velo                  0.0015      0.001      1.093      0.275      -0.001       0.004\n",
      "pfx_-x               -0.0002      0.001     -0.181      0.857      -0.002       0.002\n",
      "pfx_z                -0.0012      0.001     -1.390      0.165      -0.003       0.000\n",
      "release_extension     0.0097      0.011      0.849      0.396      -0.013       0.032\n",
      "release_pos_z        -0.0020      0.012     -0.165      0.869      -0.026       0.022\n",
      "woba_value            0.8463      0.022     38.394      0.000       0.803       0.890\n",
      "label                 0.0312      0.027      1.169      0.243      -0.021       0.083\n",
      "==============================================================================\n",
      "Omnibus:                      799.369   Durbin-Watson:                   1.948\n",
      "Prob(Omnibus):                  0.000   Jarque-Bera (JB):             5078.098\n",
      "Skew:                           1.248   Prob(JB):                         0.00\n",
      "Kurtosis:                       9.243   Cond. No.                     2.55e+03\n",
      "==============================================================================\n",
      "\n",
      "Notes:\n",
      "[1] Standard Errors assume that the covariance matrix of the errors is correctly specified.\n",
      "[2] The condition number is large, 2.55e+03. This might indicate that there are\n",
      "strong multicollinearity or other numerical problems.\n"
     ]
    }
   ],
   "source": [
    "X = X_cu_l.drop(columns = ['delta_run_exp'])\n",
    "X = sm.add_constant(X)\n",
    "y = X_cu_l['delta_run_exp']\n",
    "\n",
    "ols_cu_l = sm.OLS(y, X).fit()\n",
    "pred_cu_l = ols_cu_l.predict(X)\n",
    "fitted_vals_cu_l = ols_cu_l.fittedvalues\n",
    "residuals_cu_l = ols_cu_l.resid\n",
    "\n",
    "print('MSE:', round(metrics.mean_squared_error(y, pred_cu_l), 4))\n",
    "print('RMSE:', round(np.sqrt(metrics.mean_squared_error(y, pred_cu_l)), 4))\n",
    "print('MAE:', round(metrics.mean_absolute_error(y, pred_cu_l), 4))\n",
    "print(ols_cu_l.summary())"
   ]
  },
  {
   "cell_type": "code",
   "execution_count": 59,
   "id": "58a32b34",
   "metadata": {},
   "outputs": [
    {
     "data": {
      "image/png": "[encoded data removed]",
      "text/plain": [
       "<Figure size 576x432 with 1 Axes>"
      ]
     },
     "metadata": {
      "needs_background": "light"
     },
     "output_type": "display_data"
    }
   ],
   "source": [
    "plt.figure(figsize = (8, 6))\n",
    "\n",
    "plt.scatter(pred_cu_l, y, c = 'b', marker = 'o', label = 'Data')\n",
    "plt.plot(pred_cu_l, np.poly1d(np.polyfit(pred_cu_l, y, 1))(pred_cu_l), c = 'r',label = 'Least Squares Regression')\n",
    "plt.legend()\n",
    "plt.xlabel('Predicted Values from Features- $\\hat{y}$', fontsize = 11), plt.ylabel('RE', fontsize = 11)\n",
    "plt.title('Predicted LHP Curveball RE Values', fontsize = 14, fontweight = 'bold', pad = 15);"
   ]
  },
  {
   "cell_type": "code",
   "execution_count": 60,
   "id": "8a2a6b74",
   "metadata": {},
   "outputs": [
    {
     "data": {
      "image/png": "[encoded data removed]",
      "text/plain": [
       "<Figure size 432x288 with 1 Axes>"
      ]
     },
     "metadata": {
      "needs_background": "light"
     },
     "output_type": "display_data"
    }
   ],
   "source": [
    "sm.qqplot(residuals_cu_l, line='45', fit=True)\n",
    "plt.ylabel('Standardized Residuals', fontsize = 11)\n",
    "plt.title('LHP Curveball QQ Plot Distribution', fontsize = 14, fontweight = 'bold', pad = 15);"
   ]
  },
  {
   "cell_type": "markdown",
   "id": "3938f75e",
   "metadata": {},
   "source": [
    "## Linear Regression - Changeup"
   ]
  },
  {
   "cell_type": "markdown",
   "id": "ad52fbd5",
   "metadata": {},
   "source": [
    "### RHP"
   ]
  },
  {
   "cell_type": "code",
   "execution_count": 61,
   "id": "bc5a0903",
   "metadata": {},
   "outputs": [
    {
     "name": "stdout",
     "output_type": "stream",
     "text": [
      "MSE: 0.0578\n",
      "RMSE: 0.2404\n",
      "MAE: 0.1659\n",
      "                            OLS Regression Results                            \n",
      "==============================================================================\n",
      "Dep. Variable:          delta_run_exp   R-squared:                       0.793\n",
      "Model:                            OLS   Adj. R-squared:                  0.793\n",
      "Method:                 Least Squares   F-statistic:                     5260.\n",
      "Date:                Wed, 02 Mar 2022   Prob (F-statistic):               0.00\n",
      "Time:                        16:59:16   Log-Likelihood:                 64.085\n",
      "No. Observations:                9626   AIC:                            -112.2\n",
      "Df Residuals:                    9618   BIC:                            -54.79\n",
      "Df Model:                           7                                         \n",
      "Covariance Type:            nonrobust                                         \n",
      "=====================================================================================\n",
      "                        coef    std err          t      P>|t|      [0.025      0.975]\n",
      "-------------------------------------------------------------------------------------\n",
      "const                -0.2211      0.076     -2.894      0.004      -0.371      -0.071\n",
      "velo                  0.0003      0.001      0.411      0.681      -0.001       0.002\n",
      "pfx_-x               -0.0002      0.001     -0.319      0.750      -0.002       0.001\n",
      "pfx_z                -0.0005      0.001     -0.610      0.542      -0.002       0.001\n",
      "release_extension     0.0002      0.005      0.035      0.972      -0.010       0.011\n",
      "release_pos_z        -0.0086      0.006     -1.353      0.176      -0.021       0.004\n",
      "woba_value            0.8252      0.004    191.739      0.000       0.817       0.834\n",
      "label                 0.0024      0.008      0.291      0.771      -0.014       0.018\n",
      "==============================================================================\n",
      "Omnibus:                     2590.831   Durbin-Watson:                   1.980\n",
      "Prob(Omnibus):                  0.000   Jarque-Bera (JB):            16840.164\n",
      "Skew:                           1.130   Prob(JB):                         0.00\n",
      "Kurtosis:                       9.073   Cond. No.                     2.72e+03\n",
      "==============================================================================\n",
      "\n",
      "Notes:\n",
      "[1] Standard Errors assume that the covariance matrix of the errors is correctly specified.\n",
      "[2] The condition number is large, 2.72e+03. This might indicate that there are\n",
      "strong multicollinearity or other numerical problems.\n"
     ]
    }
   ],
   "source": [
    "X = X_ch_r.drop(columns = ['delta_run_exp'])\n",
    "X = sm.add_constant(X)\n",
    "y = X_ch_r['delta_run_exp']\n",
    "\n",
    "ols_ch_r = sm.OLS(y, X).fit()\n",
    "pred_ch_r = ols_ch_r.predict(X)\n",
    "fitted_vals_ch_r = ols_ch_r.fittedvalues\n",
    "residuals_ch_r = ols_ch_r.resid\n",
    "\n",
    "print('MSE:', round(metrics.mean_squared_error(y, pred_ch_r), 4))\n",
    "print('RMSE:', round(np.sqrt(metrics.mean_squared_error(y, pred_ch_r)), 4))\n",
    "print('MAE:', round(metrics.mean_absolute_error(y, pred_ch_r), 4))\n",
    "print(ols_ch_r.summary())"
   ]
  },
  {
   "cell_type": "code",
   "execution_count": 62,
   "id": "723fc505",
   "metadata": {},
   "outputs": [
    {
     "data": {
      "image/png": "[encoded data removed]",
      "text/plain": [
       "<Figure size 576x432 with 1 Axes>"
      ]
     },
     "metadata": {
      "needs_background": "light"
     },
     "output_type": "display_data"
    }
   ],
   "source": [
    "plt.figure(figsize = (8, 6))\n",
    "plt.scatter(pred_ch_r, y, c = 'b', marker = 'o', label = 'Data')\n",
    "plt.plot(pred_ch_r, np.poly1d(np.polyfit(pred_ch_r, y, 1))(pred_ch_r), c = 'r',label = 'Least Squares Regression')\n",
    "plt.legend()\n",
    "plt.xlabel('Predicted Values from Features - $\\hat{y}$', fontsize = 11), plt.ylabel('RE', fontsize = 11)\n",
    "plt.title('Predicted RHP Changeup RE Values', fontsize = 14, fontweight = 'bold', pad = 15);"
   ]
  },
  {
   "cell_type": "code",
   "execution_count": 63,
   "id": "daa18e0a",
   "metadata": {},
   "outputs": [
    {
     "data": {
      "image/png": "[encoded data removed]",
      "text/plain": [
       "<Figure size 432x288 with 1 Axes>"
      ]
     },
     "metadata": {
      "needs_background": "light"
     },
     "output_type": "display_data"
    }
   ],
   "source": [
    "sm.qqplot(residuals_ch_r, line = '45', fit = True)\n",
    "plt.ylabel('Standardized Residuals', fontsize = 11)\n",
    "plt.title('RHP Changeup QQ Plot Distribution', fontsize = 14, fontweight = 'bold', pad = 15);"
   ]
  },
  {
   "cell_type": "markdown",
   "id": "5235783a",
   "metadata": {},
   "source": [
    "### LHP"
   ]
  },
  {
   "cell_type": "code",
   "execution_count": 64,
   "id": "53b3cf80",
   "metadata": {},
   "outputs": [
    {
     "name": "stdout",
     "output_type": "stream",
     "text": [
      "MSE: 0.0584\n",
      "RMSE: 0.2416\n",
      "MAE: 0.1673\n",
      "                            OLS Regression Results                            \n",
      "==============================================================================\n",
      "Dep. Variable:          delta_run_exp   R-squared:                       0.785\n",
      "Model:                            OLS   Adj. R-squared:                  0.785\n",
      "Method:                 Least Squares   F-statistic:                     3252.\n",
      "Date:                Wed, 02 Mar 2022   Prob (F-statistic):               0.00\n",
      "Time:                        16:59:16   Log-Likelihood:                 10.065\n",
      "No. Observations:                6251   AIC:                            -4.131\n",
      "Df Residuals:                    6243   BIC:                             49.79\n",
      "Df Model:                           7                                         \n",
      "Covariance Type:            nonrobust                                         \n",
      "=====================================================================================\n",
      "                        coef    std err          t      P>|t|      [0.025      0.975]\n",
      "-------------------------------------------------------------------------------------\n",
      "const                -0.0377      0.113     -0.333      0.739      -0.259       0.184\n",
      "velo                 -0.0012      0.001     -1.185      0.236      -0.003       0.001\n",
      "pfx_-x                0.0002      0.001      0.224      0.823      -0.002       0.002\n",
      "pfx_z                 0.0004      0.001      0.369      0.712      -0.002       0.003\n",
      "release_extension    -0.0043      0.007     -0.585      0.558      -0.019       0.010\n",
      "release_pos_z        -0.0150      0.009     -1.652      0.099      -0.033       0.003\n",
      "woba_value            0.8290      0.006    150.605      0.000       0.818       0.840\n",
      "label                -0.0035      0.010     -0.337      0.736      -0.024       0.017\n",
      "==============================================================================\n",
      "Omnibus:                     2044.230   Durbin-Watson:                   1.994\n",
      "Prob(Omnibus):                  0.000   Jarque-Bera (JB):            17001.828\n",
      "Skew:                           1.328   Prob(JB):                         0.00\n",
      "Kurtosis:                      10.630   Cond. No.                     3.17e+03\n",
      "==============================================================================\n",
      "\n",
      "Notes:\n",
      "[1] Standard Errors assume that the covariance matrix of the errors is correctly specified.\n",
      "[2] The condition number is large, 3.17e+03. This might indicate that there are\n",
      "strong multicollinearity or other numerical problems.\n"
     ]
    }
   ],
   "source": [
    "X = X_ch_l.drop(columns = ['delta_run_exp'])\n",
    "X = sm.add_constant(X)\n",
    "y = X_ch_l['delta_run_exp']\n",
    "\n",
    "ols_ch_l = sm.OLS(y, X).fit()\n",
    "pred_ch_l = ols_ch_l.predict(X)\n",
    "fitted_vals_ch_l = ols_ch_l.fittedvalues\n",
    "residuals_ch_l = ols_ch_l.resid\n",
    "\n",
    "print('MSE:', round(metrics.mean_squared_error(y, pred_ch_l), 4))\n",
    "print('RMSE:', round(np.sqrt(metrics.mean_squared_error(y, pred_ch_l)), 4))\n",
    "print('MAE:', round(metrics.mean_absolute_error(y, pred_ch_l), 4))\n",
    "print(ols_ch_l.summary())"
   ]
  },
  {
   "cell_type": "code",
   "execution_count": 65,
   "id": "fb978a95",
   "metadata": {},
   "outputs": [
    {
     "data": {
      "image/png": "[encoded data removed]",
      "text/plain": [
       "<Figure size 576x432 with 1 Axes>"
      ]
     },
     "metadata": {
      "needs_background": "light"
     },
     "output_type": "display_data"
    }
   ],
   "source": [
    "plt.figure(figsize = (8, 6))\n",
    "plt.scatter(pred_ch_l, y, c = 'b', marker = 'o', label = 'Data')\n",
    "plt.plot(pred_ch_l, np.poly1d(np.polyfit(pred_ch_l, y, 1))(pred_ch_l), c = 'r',label = 'Least Squares Regression')\n",
    "plt.legend()\n",
    "plt.xlabel('Predicted Values from Features - $\\hat{y}$', fontsize = 11), plt.ylabel('RE', fontsize = 11)\n",
    "plt.title('Predicted LHP Changeup RE Values', fontsize = 14, fontweight = 'bold', pad = 15);"
   ]
  },
  {
   "cell_type": "code",
   "execution_count": 66,
   "id": "b1942577",
   "metadata": {},
   "outputs": [
    {
     "data": {
      "image/png": "[encoded data removed]",
      "text/plain": [
       "<Figure size 432x288 with 1 Axes>"
      ]
     },
     "metadata": {
      "needs_background": "light"
     },
     "output_type": "display_data"
    }
   ],
   "source": [
    "sm.qqplot(residuals_ch_l, line = '45', fit = True)\n",
    "plt.ylabel('Standardized Residuals', fontsize = 11)\n",
    "plt.title('LHP Changeup QQ Plot Distribution', fontsize = 14, fontweight = 'bold', pad = 15);"
   ]
  }
 ],
 "metadata": {
  "kernelspec": {
   "display_name": "Python 3",
   "language": "python",
   "name": "python3"
  },
  "language_info": {
   "codemirror_mode": {
    "name": "ipython",
    "version": 3
   },
   "file_extension": ".py",
   "mimetype": "text/x-python",
   "name": "python",
   "nbconvert_exporter": "python",
   "pygments_lexer": "ipython3",
   "version": "3.8.8"
  }
 },
 "nbformat": 4,
 "nbformat_minor": 5
}
