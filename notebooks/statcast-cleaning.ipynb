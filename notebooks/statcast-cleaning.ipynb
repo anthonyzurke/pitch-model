{
 "cells": [
  {
   "cell_type": "code",
   "execution_count": 1,
   "id": "4a82178a",
   "metadata": {},
   "outputs": [
    {
     "name": "stdout",
     "output_type": "stream",
     "text": [
      "This is a large query, it may take a moment to complete\n"
     ]
    },
    {
     "name": "stderr",
     "output_type": "stream",
     "text": [
      "100%|██████████| 187/187 [00:23<00:00,  7.79it/s]\n"
     ]
    }
   ],
   "source": [
    "from pybaseball import statcast\n",
    "\n",
    "data = statcast(start_dt = '2021-04-01', end_dt = '2021-10-04')\n",
    "\n",
    "data.to_csv('../data/mlb-pitches.csv')\n",
    "data = pd.read_csv('../data/mlb-pitches.csv')\n",
    "\n",
    "data.drop(columns = ['spin_dir', 'spin_rate_deprecated', 'break_angle_deprecated', \n",
    "                     'break_length_deprecated', 'tfs_deprecated', 'tfs_zulu_deprecated', \n",
    "                     'umpire', 'sv_id', 'game_type','pitcher.1', 'fielder_2.1', \n",
    "                     'fielder_3', 'fielder_4', 'fielder_5', 'fielder_6', 'fielder_7', \n",
    "                     'fielder_8', 'fielder_9', 'bat_score', 'fld_score', 'post_bat_score', \n",
    "                     'post_fld_score'], inplace = True)\n",
    "\n",
    "# Add bauer_units column\n",
    "data['bauer_units'] = data['release_spin_rate'] / data['release_speed']\n",
    "\n",
    "# Drop pitch types Fasball, knuckleball, eephus, and screwball\n",
    "pitch_values = ['SC', 'EP', 'KN', 'FA', 'CS']\n",
    "data = data[data.pitch_type.isin(pitch_values) == False]\n",
    "\n",
    "# Create is_strike column\n",
    "data['is_strike'] = [1 if x != 'B' else 0 for x in data['type']]\n",
    "# Create pitch_count column\n",
    "data['pitch_count'] = data[['balls', 'strikes']].astype(str).agg('-'.join, axis = 1)\n",
    "\n",
    "data['description'].replace(['blocked_ball', 'foul_tip', 'missed_bunt' 'swinging_strike_blocked', 'foul_bunt', \n",
    "                             'bunt_foul_tip', 'foul_pitchout'], \n",
    "                            ['ball', 'foul', 'swinging_strike', 'swinging_strike','foul', 'foul'], inplace = True)\n",
    "# Make all events that aren't hits, outs\n",
    "data['events'].replace(['grounded_into_double_play', 'sac_fly', 'force_out', 'hit_by_pitch', \n",
    "                        'fielders_choice', 'fielders_choice_out'], 'field_out', inplace = True)\n",
    "# make swing_miss column\n",
    "data['swing_miss'] = [1 if x == 'swinging_strike' else 0 for x in data['description']]\n",
    "\n",
    "# Switch from catcher's perspective to pitcher's perspective\n",
    "# Catcher's POV: (plate_x, plate_z)\n",
    "# Pitcher's POV: (plate_-x, plate_z)\n",
    "data['plate_-x'] = -data['plate_x']\n",
    "# Switch HB to perspective of pitcher\n",
    "# Catcher's POV: (pfx_x, pfx_z)\n",
    "# Pitcher's POV: (pfx_-x, pfx_z)\n",
    "data['pfx_-x'] = -data['pfx_x']\n",
    "\n",
    "# HB and VB in feet should be in inches (*12)\n",
    "data['pfx_x'] = 12 * data['pfx_x']\n",
    "data['pfx_-x'] = 12 * data['pfx_-x']\n",
    "data['pfx_z'] = 12 * data['pfx_z']\n",
    "\n",
    "data.to_csv('../data/mlb-pitches.csv')"
   ]
  },
  {
   "cell_type": "code",
   "execution_count": 2,
   "id": "fa417834",
   "metadata": {},
   "outputs": [],
   "source": [
    "# Clean data for modeling\n",
    "\n",
    "pitch = pd.read_csv('../data/mlb-pitches.csv', index_col = [0])\n",
    "#pitch.drop(columns = ['Unnamed: 0', 'Unnamed: 0.1'], inplace = True)\n",
    "\n",
    "pitch = pitch[['player_name', 'p_throws', 'pitch_type','release_speed', 'release_spin_rate', 'spin_axis', \n",
    "               'pfx_-x', 'pfx_z', 'bauer_units', 'effective_speed', 'release_pos_x', 'release_pos_z', \n",
    "               'release_extension', 'release_pos_y', 'plate_-x', 'plate_x', 'plate_z', 'type', 'balls', \n",
    "               'strikes', 'delta_run_exp', 'stand', 'events', 'description', 'hit_distance_sc', 'launch_speed', \n",
    "               'launch_angle', 'launch_speed_angle', 'estimated_ba_using_speedangle', \n",
    "               'estimated_woba_using_speedangle', 'woba_value', 'woba_denom', 'babip_value', 'iso_value',\n",
    "               'at_bat_number', 'pitch_number', 'inning', 'inning_topbot', 'home_score', 'away_score', \n",
    "               'post_home_score', 'post_away_score', 'on_1b', 'on_2b', 'on_3b', 'outs_when_up']].copy()\n",
    "\n",
    "#Rename some columns\n",
    "col_dict = {\n",
    "    'release_speed': 'velo',\n",
    "    'release_spin_rate': 'spin_rate',\n",
    "    'launch_speed': 'exit_velo',\n",
    "    'estimated_ba_using_speedangle': 'xba',\n",
    "    'estimated_woba_using_speedangle': 'xwobacon'\n",
    "}\n",
    "pitch.rename(columns = col_dict, inplace = True)\n",
    "\n",
    "pitch['inning_topbot'] = pitch.inning_topbot.map({'Top': 0, 'Bot': 1})\n",
    "pitch['on_1b'] = [1 if x > 1 else 0 for x in pitch['on_1b']]\n",
    "pitch['on_2b'] = [1 if x > 1 else 0 for x in pitch['on_2b']]\n",
    "pitch['on_3b'] = [1 if x > 1 else 0 for x in pitch['on_3b']]\n",
    "\n",
    "pitch.to_csv('../data/model-pitches.csv')\n",
    "\n",
    "matrix = [[0, 0, 0, 0, 0.481], [1, 0, 0, 0, 0.859], [0, 1, 0, 0, 1.100], [1, 1, 0, 0, 1.437], \n",
    "          [0, 0, 1, 0, 1.350], [1, 0, 1, 0, 1.784], [0, 1, 1, 0, 1.964], [1, 1, 1, 0, 2.292], \n",
    "          [0, 0, 0, 1, 0.254], [1, 0, 0, 1, 0.509], [0, 1, 0, 1, 0.664], [1, 1, 0, 1, 0.884], \n",
    "          [0, 0, 1, 1, 0.950], [1, 0, 1, 1, 1.130], [0, 1, 1, 1, 1.376], [1, 1, 1, 1, 1.541],\n",
    "          [0, 0, 0, 2, 0.098], [1, 0, 0, 2, 0.224], [0, 1, 0, 2, 0.319], [1, 1, 0, 2, 0.429], \n",
    "          [0, 0, 1, 2, 0.353], [1, 0, 1, 2, 0.478], [0, 1, 1, 2, 0.580], [1, 1, 1, 2, 0.752]]\n",
    "\n",
    "re = pd.DataFrame(matrix, columns = ['on_1b', 'on_2b', 'on_3b', 'outs_when_up', 're'])\n",
    "re.to_csv('../data/run_expectancy_table.csv')"
   ]
  }
 ],
 "metadata": {
  "kernelspec": {
   "display_name": "Python 3",
   "language": "python",
   "name": "python3"
  },
  "language_info": {
   "codemirror_mode": {
    "name": "ipython",
    "version": 3
   },
   "file_extension": ".py",
   "mimetype": "text/x-python",
   "name": "python",
   "nbconvert_exporter": "python",
   "pygments_lexer": "ipython3",
   "version": "3.8.8"
  }
 },
 "nbformat": 4,
 "nbformat_minor": 5
}
