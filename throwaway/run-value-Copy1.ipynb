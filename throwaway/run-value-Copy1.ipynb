{
 "cells": [
  {
   "cell_type": "markdown",
   "id": "426268f7",
   "metadata": {},
   "source": [
    "# Notebook Contents\n",
    "\n",
    "- [Imports](#Imports)\n",
    "- [Data](#Data)\n",
    "- [Preprocessing](#Preprocessing)\n",
    "    - [Multicolinearity - VIF](#Multicolinearity---VIF)\n",
    "- [Clustering](#Clustering)\n",
    "    - [4-Seam Fastball](#4-Seam-Fastball)\n",
    "        - [4-Seam Cluster Label](#Cluster-Labels---4-Seam)\n",
    "    - [Slider](#Slider)\n",
    "        - [Slider Cluster Label](#Cluster-Labels---Slider)\n",
    "    - [Changeup](#Changeup)\n",
    "        - [Changeup Cluster Label](#Cluster-Labels---Changeup)\n",
    "    - [Cutter](#Cutter)\n",
    "        - [Cutter Cluster Label](#Cluster-Labels---Cutter)"
   ]
  },
  {
   "cell_type": "markdown",
   "id": "9a8c2c47",
   "metadata": {},
   "source": [
    "# Imports"
   ]
  },
  {
   "cell_type": "code",
   "execution_count": 1,
   "id": "3b41894e",
   "metadata": {},
   "outputs": [],
   "source": [
    "from statsmodels.stats.outliers_influence import variance_inflation_factor\n",
    "from sklearn.preprocessing import StandardScaler\n",
    "from sklearn.decomposition import PCA\n",
    "from sklearn.cluster import KMeans, k_means\n",
    "from sklearn.linear_model import LogisticRegression\n",
    "from sklearn.metrics import silhouette_score, silhouette_samples\n",
    "from sklearn.feature_selection import SelectKBest\n",
    "from sklearn import metrics\n",
    "from sklearn.model_selection import train_test_split, cross_val_score\n",
    "\n",
    "import warnings\n",
    "warnings.filterwarnings('ignore')"
   ]
  },
  {
   "cell_type": "markdown",
   "id": "7a31fda9",
   "metadata": {},
   "source": [
    "# Data"
   ]
  },
  {
   "cell_type": "code",
   "execution_count": 3,
   "id": "40799b48",
   "metadata": {},
   "outputs": [
    {
     "name": "stdout",
     "output_type": "stream",
     "text": [
      "(708653, 76)\n"
     ]
    },
    {
     "data": {
      "text/html": [
       "<div>\n",
       "<style scoped>\n",
       "    .dataframe tbody tr th:only-of-type {\n",
       "        vertical-align: middle;\n",
       "    }\n",
       "\n",
       "    .dataframe tbody tr th {\n",
       "        vertical-align: top;\n",
       "    }\n",
       "\n",
       "    .dataframe thead th {\n",
       "        text-align: right;\n",
       "    }\n",
       "</style>\n",
       "<table border=\"1\" class=\"dataframe\">\n",
       "  <thead>\n",
       "    <tr style=\"text-align: right;\">\n",
       "      <th></th>\n",
       "      <th>pitch_type</th>\n",
       "      <th>game_date</th>\n",
       "      <th>release_speed</th>\n",
       "      <th>release_pos_x</th>\n",
       "      <th>release_pos_z</th>\n",
       "      <th>player_name</th>\n",
       "      <th>batter</th>\n",
       "      <th>pitcher</th>\n",
       "      <th>events</th>\n",
       "      <th>description</th>\n",
       "      <th>zone</th>\n",
       "      <th>des</th>\n",
       "      <th>stand</th>\n",
       "      <th>p_throws</th>\n",
       "      <th>home_team</th>\n",
       "      <th>away_team</th>\n",
       "      <th>type</th>\n",
       "      <th>hit_location</th>\n",
       "      <th>bb_type</th>\n",
       "      <th>balls</th>\n",
       "      <th>strikes</th>\n",
       "      <th>game_year</th>\n",
       "      <th>pfx_x</th>\n",
       "      <th>pfx_z</th>\n",
       "      <th>plate_x</th>\n",
       "      <th>plate_z</th>\n",
       "      <th>on_3b</th>\n",
       "      <th>on_2b</th>\n",
       "      <th>on_1b</th>\n",
       "      <th>outs_when_up</th>\n",
       "      <th>inning</th>\n",
       "      <th>inning_topbot</th>\n",
       "      <th>hc_x</th>\n",
       "      <th>hc_y</th>\n",
       "      <th>fielder_2</th>\n",
       "      <th>vx0</th>\n",
       "      <th>vy0</th>\n",
       "      <th>vz0</th>\n",
       "      <th>ax</th>\n",
       "      <th>ay</th>\n",
       "      <th>az</th>\n",
       "      <th>sz_top</th>\n",
       "      <th>sz_bot</th>\n",
       "      <th>hit_distance_sc</th>\n",
       "      <th>launch_speed</th>\n",
       "      <th>launch_angle</th>\n",
       "      <th>effective_speed</th>\n",
       "      <th>release_spin_rate</th>\n",
       "      <th>release_extension</th>\n",
       "      <th>game_pk</th>\n",
       "      <th>release_pos_y</th>\n",
       "      <th>estimated_ba_using_speedangle</th>\n",
       "      <th>estimated_woba_using_speedangle</th>\n",
       "      <th>woba_value</th>\n",
       "      <th>woba_denom</th>\n",
       "      <th>babip_value</th>\n",
       "      <th>iso_value</th>\n",
       "      <th>launch_speed_angle</th>\n",
       "      <th>at_bat_number</th>\n",
       "      <th>pitch_number</th>\n",
       "      <th>pitch_name</th>\n",
       "      <th>home_score</th>\n",
       "      <th>away_score</th>\n",
       "      <th>post_away_score</th>\n",
       "      <th>post_home_score</th>\n",
       "      <th>if_fielding_alignment</th>\n",
       "      <th>of_fielding_alignment</th>\n",
       "      <th>spin_axis</th>\n",
       "      <th>delta_home_win_exp</th>\n",
       "      <th>delta_run_exp</th>\n",
       "      <th>bauer_units</th>\n",
       "      <th>is_strike</th>\n",
       "      <th>pitch_count</th>\n",
       "      <th>swing_miss</th>\n",
       "      <th>plate_-x</th>\n",
       "      <th>pfx_-x</th>\n",
       "    </tr>\n",
       "  </thead>\n",
       "  <tbody>\n",
       "    <tr>\n",
       "      <th>0</th>\n",
       "      <td>FF</td>\n",
       "      <td>2021-10-03</td>\n",
       "      <td>92.3</td>\n",
       "      <td>1.40</td>\n",
       "      <td>6.80</td>\n",
       "      <td>Smith, Will</td>\n",
       "      <td>596019</td>\n",
       "      <td>519293</td>\n",
       "      <td>out</td>\n",
       "      <td>hit_into_play</td>\n",
       "      <td>1.0</td>\n",
       "      <td>Francisco Lindor grounds out, third baseman Eh...</td>\n",
       "      <td>R</td>\n",
       "      <td>L</td>\n",
       "      <td>ATL</td>\n",
       "      <td>NYM</td>\n",
       "      <td>X</td>\n",
       "      <td>5.0</td>\n",
       "      <td>ground_ball</td>\n",
       "      <td>1</td>\n",
       "      <td>2</td>\n",
       "      <td>2021</td>\n",
       "      <td>8.28</td>\n",
       "      <td>16.56</td>\n",
       "      <td>-0.69</td>\n",
       "      <td>2.83</td>\n",
       "      <td>NaN</td>\n",
       "      <td>NaN</td>\n",
       "      <td>NaN</td>\n",
       "      <td>2</td>\n",
       "      <td>9</td>\n",
       "      <td>Top</td>\n",
       "      <td>77.54</td>\n",
       "      <td>155.31</td>\n",
       "      <td>518595.0</td>\n",
       "      <td>-6.833043</td>\n",
       "      <td>-134.166485</td>\n",
       "      <td>-7.361843</td>\n",
       "      <td>9.708393</td>\n",
       "      <td>26.562803</td>\n",
       "      <td>-14.083224</td>\n",
       "      <td>3.32</td>\n",
       "      <td>1.51</td>\n",
       "      <td>13.0</td>\n",
       "      <td>95.2</td>\n",
       "      <td>-13.0</td>\n",
       "      <td>92.8</td>\n",
       "      <td>2330.0</td>\n",
       "      <td>6.5</td>\n",
       "      <td>632254</td>\n",
       "      <td>54.03</td>\n",
       "      <td>0.174</td>\n",
       "      <td>0.158</td>\n",
       "      <td>0.0</td>\n",
       "      <td>1.0</td>\n",
       "      <td>0.0</td>\n",
       "      <td>0.0</td>\n",
       "      <td>2.0</td>\n",
       "      <td>61</td>\n",
       "      <td>4</td>\n",
       "      <td>4-Seam Fastball</td>\n",
       "      <td>5</td>\n",
       "      <td>0</td>\n",
       "      <td>0</td>\n",
       "      <td>5</td>\n",
       "      <td>Infield shift</td>\n",
       "      <td>Strategic</td>\n",
       "      <td>148.0</td>\n",
       "      <td>0.0</td>\n",
       "      <td>-0.073</td>\n",
       "      <td>25.243770</td>\n",
       "      <td>1</td>\n",
       "      <td>1-2</td>\n",
       "      <td>0</td>\n",
       "      <td>0.69</td>\n",
       "      <td>-8.28</td>\n",
       "    </tr>\n",
       "    <tr>\n",
       "      <th>1</th>\n",
       "      <td>SL</td>\n",
       "      <td>2021-10-03</td>\n",
       "      <td>80.6</td>\n",
       "      <td>1.60</td>\n",
       "      <td>6.64</td>\n",
       "      <td>Smith, Will</td>\n",
       "      <td>596019</td>\n",
       "      <td>519293</td>\n",
       "      <td>NaN</td>\n",
       "      <td>foul</td>\n",
       "      <td>4.0</td>\n",
       "      <td>Francisco Lindor grounds out, third baseman Eh...</td>\n",
       "      <td>R</td>\n",
       "      <td>L</td>\n",
       "      <td>ATL</td>\n",
       "      <td>NYM</td>\n",
       "      <td>S</td>\n",
       "      <td>NaN</td>\n",
       "      <td>NaN</td>\n",
       "      <td>1</td>\n",
       "      <td>1</td>\n",
       "      <td>2021</td>\n",
       "      <td>-9.24</td>\n",
       "      <td>5.76</td>\n",
       "      <td>-0.71</td>\n",
       "      <td>2.62</td>\n",
       "      <td>NaN</td>\n",
       "      <td>NaN</td>\n",
       "      <td>NaN</td>\n",
       "      <td>2</td>\n",
       "      <td>9</td>\n",
       "      <td>Top</td>\n",
       "      <td>NaN</td>\n",
       "      <td>NaN</td>\n",
       "      <td>518595.0</td>\n",
       "      <td>-3.700232</td>\n",
       "      <td>-117.430885</td>\n",
       "      <td>-3.266842</td>\n",
       "      <td>-6.531123</td>\n",
       "      <td>19.793390</td>\n",
       "      <td>-27.369114</td>\n",
       "      <td>3.32</td>\n",
       "      <td>1.51</td>\n",
       "      <td>108.0</td>\n",
       "      <td>75.3</td>\n",
       "      <td>75.0</td>\n",
       "      <td>81.2</td>\n",
       "      <td>2254.0</td>\n",
       "      <td>6.4</td>\n",
       "      <td>632254</td>\n",
       "      <td>54.15</td>\n",
       "      <td>NaN</td>\n",
       "      <td>NaN</td>\n",
       "      <td>NaN</td>\n",
       "      <td>NaN</td>\n",
       "      <td>NaN</td>\n",
       "      <td>NaN</td>\n",
       "      <td>NaN</td>\n",
       "      <td>61</td>\n",
       "      <td>3</td>\n",
       "      <td>Slider</td>\n",
       "      <td>5</td>\n",
       "      <td>0</td>\n",
       "      <td>0</td>\n",
       "      <td>5</td>\n",
       "      <td>Infield shift</td>\n",
       "      <td>Strategic</td>\n",
       "      <td>315.0</td>\n",
       "      <td>0.0</td>\n",
       "      <td>-0.027</td>\n",
       "      <td>27.965261</td>\n",
       "      <td>1</td>\n",
       "      <td>1-1</td>\n",
       "      <td>0</td>\n",
       "      <td>0.71</td>\n",
       "      <td>9.24</td>\n",
       "    </tr>\n",
       "    <tr>\n",
       "      <th>2</th>\n",
       "      <td>CU</td>\n",
       "      <td>2021-10-03</td>\n",
       "      <td>75.5</td>\n",
       "      <td>1.46</td>\n",
       "      <td>6.88</td>\n",
       "      <td>Smith, Will</td>\n",
       "      <td>596019</td>\n",
       "      <td>519293</td>\n",
       "      <td>NaN</td>\n",
       "      <td>foul</td>\n",
       "      <td>5.0</td>\n",
       "      <td>Francisco Lindor grounds out, third baseman Eh...</td>\n",
       "      <td>R</td>\n",
       "      <td>L</td>\n",
       "      <td>ATL</td>\n",
       "      <td>NYM</td>\n",
       "      <td>S</td>\n",
       "      <td>NaN</td>\n",
       "      <td>NaN</td>\n",
       "      <td>1</td>\n",
       "      <td>0</td>\n",
       "      <td>2021</td>\n",
       "      <td>-7.80</td>\n",
       "      <td>-6.12</td>\n",
       "      <td>-0.04</td>\n",
       "      <td>2.46</td>\n",
       "      <td>NaN</td>\n",
       "      <td>NaN</td>\n",
       "      <td>NaN</td>\n",
       "      <td>2</td>\n",
       "      <td>9</td>\n",
       "      <td>Top</td>\n",
       "      <td>NaN</td>\n",
       "      <td>NaN</td>\n",
       "      <td>518595.0</td>\n",
       "      <td>-1.977183</td>\n",
       "      <td>-109.901781</td>\n",
       "      <td>-1.155694</td>\n",
       "      <td>-4.872924</td>\n",
       "      <td>20.602334</td>\n",
       "      <td>-36.262184</td>\n",
       "      <td>3.32</td>\n",
       "      <td>1.51</td>\n",
       "      <td>157.0</td>\n",
       "      <td>83.5</td>\n",
       "      <td>65.0</td>\n",
       "      <td>75.2</td>\n",
       "      <td>1940.0</td>\n",
       "      <td>6.2</td>\n",
       "      <td>632254</td>\n",
       "      <td>54.34</td>\n",
       "      <td>NaN</td>\n",
       "      <td>NaN</td>\n",
       "      <td>NaN</td>\n",
       "      <td>NaN</td>\n",
       "      <td>NaN</td>\n",
       "      <td>NaN</td>\n",
       "      <td>NaN</td>\n",
       "      <td>61</td>\n",
       "      <td>2</td>\n",
       "      <td>Curveball</td>\n",
       "      <td>5</td>\n",
       "      <td>0</td>\n",
       "      <td>0</td>\n",
       "      <td>5</td>\n",
       "      <td>Infield shift</td>\n",
       "      <td>Standard</td>\n",
       "      <td>328.0</td>\n",
       "      <td>0.0</td>\n",
       "      <td>-0.020</td>\n",
       "      <td>25.695364</td>\n",
       "      <td>1</td>\n",
       "      <td>1-0</td>\n",
       "      <td>0</td>\n",
       "      <td>0.04</td>\n",
       "      <td>7.80</td>\n",
       "    </tr>\n",
       "  </tbody>\n",
       "</table>\n",
       "</div>"
      ],
      "text/plain": [
       "  pitch_type   game_date  release_speed  release_pos_x  release_pos_z  \\\n",
       "0         FF  2021-10-03           92.3           1.40           6.80   \n",
       "1         SL  2021-10-03           80.6           1.60           6.64   \n",
       "2         CU  2021-10-03           75.5           1.46           6.88   \n",
       "\n",
       "   player_name  batter  pitcher events    description  zone  \\\n",
       "0  Smith, Will  596019   519293    out  hit_into_play   1.0   \n",
       "1  Smith, Will  596019   519293    NaN           foul   4.0   \n",
       "2  Smith, Will  596019   519293    NaN           foul   5.0   \n",
       "\n",
       "                                                 des stand p_throws home_team  \\\n",
       "0  Francisco Lindor grounds out, third baseman Eh...     R        L       ATL   \n",
       "1  Francisco Lindor grounds out, third baseman Eh...     R        L       ATL   \n",
       "2  Francisco Lindor grounds out, third baseman Eh...     R        L       ATL   \n",
       "\n",
       "  away_team type  hit_location      bb_type  balls  strikes  game_year  pfx_x  \\\n",
       "0       NYM    X           5.0  ground_ball      1        2       2021   8.28   \n",
       "1       NYM    S           NaN          NaN      1        1       2021  -9.24   \n",
       "2       NYM    S           NaN          NaN      1        0       2021  -7.80   \n",
       "\n",
       "   pfx_z  plate_x  plate_z  on_3b  on_2b  on_1b  outs_when_up  inning  \\\n",
       "0  16.56    -0.69     2.83    NaN    NaN    NaN             2       9   \n",
       "1   5.76    -0.71     2.62    NaN    NaN    NaN             2       9   \n",
       "2  -6.12    -0.04     2.46    NaN    NaN    NaN             2       9   \n",
       "\n",
       "  inning_topbot   hc_x    hc_y  fielder_2       vx0         vy0       vz0  \\\n",
       "0           Top  77.54  155.31   518595.0 -6.833043 -134.166485 -7.361843   \n",
       "1           Top    NaN     NaN   518595.0 -3.700232 -117.430885 -3.266842   \n",
       "2           Top    NaN     NaN   518595.0 -1.977183 -109.901781 -1.155694   \n",
       "\n",
       "         ax         ay         az  sz_top  sz_bot  hit_distance_sc  \\\n",
       "0  9.708393  26.562803 -14.083224    3.32    1.51             13.0   \n",
       "1 -6.531123  19.793390 -27.369114    3.32    1.51            108.0   \n",
       "2 -4.872924  20.602334 -36.262184    3.32    1.51            157.0   \n",
       "\n",
       "   launch_speed  launch_angle  effective_speed  release_spin_rate  \\\n",
       "0          95.2         -13.0             92.8             2330.0   \n",
       "1          75.3          75.0             81.2             2254.0   \n",
       "2          83.5          65.0             75.2             1940.0   \n",
       "\n",
       "   release_extension  game_pk  release_pos_y  estimated_ba_using_speedangle  \\\n",
       "0                6.5   632254          54.03                          0.174   \n",
       "1                6.4   632254          54.15                            NaN   \n",
       "2                6.2   632254          54.34                            NaN   \n",
       "\n",
       "   estimated_woba_using_speedangle  woba_value  woba_denom  babip_value  \\\n",
       "0                            0.158         0.0         1.0          0.0   \n",
       "1                              NaN         NaN         NaN          NaN   \n",
       "2                              NaN         NaN         NaN          NaN   \n",
       "\n",
       "   iso_value  launch_speed_angle  at_bat_number  pitch_number  \\\n",
       "0        0.0                 2.0             61             4   \n",
       "1        NaN                 NaN             61             3   \n",
       "2        NaN                 NaN             61             2   \n",
       "\n",
       "        pitch_name  home_score  away_score  post_away_score  post_home_score  \\\n",
       "0  4-Seam Fastball           5           0                0                5   \n",
       "1           Slider           5           0                0                5   \n",
       "2        Curveball           5           0                0                5   \n",
       "\n",
       "  if_fielding_alignment of_fielding_alignment  spin_axis  delta_home_win_exp  \\\n",
       "0         Infield shift             Strategic      148.0                 0.0   \n",
       "1         Infield shift             Strategic      315.0                 0.0   \n",
       "2         Infield shift              Standard      328.0                 0.0   \n",
       "\n",
       "   delta_run_exp  bauer_units  is_strike pitch_count  swing_miss  plate_-x  \\\n",
       "0         -0.073    25.243770          1         1-2           0      0.69   \n",
       "1         -0.027    27.965261          1         1-1           0      0.71   \n",
       "2         -0.020    25.695364          1         1-0           0      0.04   \n",
       "\n",
       "   pfx_-x  \n",
       "0   -8.28  \n",
       "1    9.24  \n",
       "2    7.80  "
      ]
     },
     "execution_count": 3,
     "metadata": {},
     "output_type": "execute_result"
    }
   ],
   "source": [
    "data = pd.read_csv('../data/mlb-pitches.csv')\n",
    "data.drop(columns = ['Unnamed: 0', 'Unnamed: 0.1'], inplace = True) \n",
    "\n",
    "pd.set_option('max_columns', None)\n",
    "print(data.shape)\n",
    "data.head(3)"
   ]
  },
  {
   "cell_type": "markdown",
   "id": "8674541e",
   "metadata": {},
   "source": [
    "# Preprocessing"
   ]
  },
  {
   "cell_type": "markdown",
   "id": "4682dbc5",
   "metadata": {},
   "source": [
    "### Multicolinearity - VIF"
   ]
  },
  {
   "cell_type": "code",
   "execution_count": 3,
   "id": "62e20f9a",
   "metadata": {},
   "outputs": [
    {
     "data": {
      "text/html": [
       "<div>\n",
       "<style scoped>\n",
       "    .dataframe tbody tr th:only-of-type {\n",
       "        vertical-align: middle;\n",
       "    }\n",
       "\n",
       "    .dataframe tbody tr th {\n",
       "        vertical-align: top;\n",
       "    }\n",
       "\n",
       "    .dataframe thead th {\n",
       "        text-align: right;\n",
       "    }\n",
       "</style>\n",
       "<table border=\"1\" class=\"dataframe\">\n",
       "  <thead>\n",
       "    <tr style=\"text-align: right;\">\n",
       "      <th></th>\n",
       "      <th>feature</th>\n",
       "      <th>VIF</th>\n",
       "    </tr>\n",
       "  </thead>\n",
       "  <tbody>\n",
       "    <tr>\n",
       "      <th>9</th>\n",
       "      <td>pa</td>\n",
       "      <td>1.341585</td>\n",
       "    </tr>\n",
       "    <tr>\n",
       "      <th>1</th>\n",
       "      <td>pitch_usage</td>\n",
       "      <td>1.690136</td>\n",
       "    </tr>\n",
       "    <tr>\n",
       "      <th>0</th>\n",
       "      <td>pitch_type</td>\n",
       "      <td>2.240690</td>\n",
       "    </tr>\n",
       "    <tr>\n",
       "      <th>19</th>\n",
       "      <td>hard_hit_percent</td>\n",
       "      <td>2.851798</td>\n",
       "    </tr>\n",
       "    <tr>\n",
       "      <th>15</th>\n",
       "      <td>put_away</td>\n",
       "      <td>4.291064</td>\n",
       "    </tr>\n",
       "    <tr>\n",
       "      <th>13</th>\n",
       "      <td>whiff_percent</td>\n",
       "      <td>4.617305</td>\n",
       "    </tr>\n",
       "    <tr>\n",
       "      <th>8</th>\n",
       "      <td>run_value</td>\n",
       "      <td>5.538815</td>\n",
       "    </tr>\n",
       "    <tr>\n",
       "      <th>7</th>\n",
       "      <td>run_value_per_100</td>\n",
       "      <td>7.206740</td>\n",
       "    </tr>\n",
       "    <tr>\n",
       "      <th>14</th>\n",
       "      <td>k_percent</td>\n",
       "      <td>8.649346</td>\n",
       "    </tr>\n",
       "    <tr>\n",
       "      <th>4</th>\n",
       "      <td>movement_inches</td>\n",
       "      <td>16.037129</td>\n",
       "    </tr>\n",
       "    <tr>\n",
       "      <th>10</th>\n",
       "      <td>ba</td>\n",
       "      <td>19.308151</td>\n",
       "    </tr>\n",
       "  </tbody>\n",
       "</table>\n",
       "</div>"
      ],
      "text/plain": [
       "              feature        VIF\n",
       "9                  pa   1.341585\n",
       "1         pitch_usage   1.690136\n",
       "0          pitch_type   2.240690\n",
       "19   hard_hit_percent   2.851798\n",
       "15           put_away   4.291064\n",
       "13      whiff_percent   4.617305\n",
       "8           run_value   5.538815\n",
       "7   run_value_per_100   7.206740\n",
       "14          k_percent   8.649346\n",
       "4     movement_inches  16.037129\n",
       "10                 ba  19.308151"
      ]
     },
     "execution_count": 3,
     "metadata": {},
     "output_type": "execute_result"
    }
   ],
   "source": [
    "features = data.select_dtypes([np.number])\n",
    "vif_data = pd.DataFrame()\n",
    "vif_data[\"feature\"] = features.columns\n",
    "\n",
    "vif_data[\"VIF\"] = [variance_inflation_factor(features.values, i)\n",
    "                   for i in range(len(features.columns))]\n",
    "\n",
    "vif_data.sort_values(by = 'VIF').head(11)"
   ]
  },
  {
   "cell_type": "markdown",
   "id": "185cf9e5",
   "metadata": {},
   "source": [
    "# Clustering "
   ]
  },
  {
   "cell_type": "markdown",
   "id": "89931699",
   "metadata": {},
   "source": [
    "## 4-Seam Fastball"
   ]
  },
  {
   "cell_type": "code",
   "execution_count": 4,
   "id": "b4d9010b",
   "metadata": {},
   "outputs": [
    {
     "name": "stdout",
     "output_type": "stream",
     "text": [
      "Number of iterations: 7\n",
      "Number of features: 23\n",
      "Number of clusters: 2\n",
      "Inertia: 6563.44413649166 \n",
      "\n",
      "Predicted clusters to points:  [0 1 1 1 0 1 1 0 0 0] \n",
      "\n"
     ]
    }
   ],
   "source": [
    "features_ff = ff.select_dtypes([np.number])\n",
    "X_ff = features_ff\n",
    "\n",
    "ss = StandardScaler()\n",
    "X_ff_scaled = ss.fit_transform(X_ff)\n",
    "X_ff_scaled[:,:] *= -1\n",
    "\n",
    "pca = PCA().fit(X_ff_scaled)\n",
    "principal_components_ff = pca.transform(X_ff_scaled)\n",
    "model_ff = pd.DataFrame(data = principal_components_ff, columns = X_ff.columns)\n",
    "\n",
    "km_ff = KMeans(n_clusters = 2, \n",
    "               random_state = 1)\n",
    "km_ff.fit(model_ff)\n",
    "label_ff = km_ff.fit_predict(model_ff)\n",
    "\n",
    "print('Number of iterations:', km_ff.n_iter_)\n",
    "print('Number of features:', km_ff.n_features_in_)\n",
    "print('Number of clusters:', km_ff.n_clusters)\n",
    "print('Inertia:', km_ff.inertia_, '\\n')\n",
    "print(\"Predicted clusters to points: \", label_ff[:10], '\\n')\n",
    "#centroids = km_ff.cluster_centers_\n",
    "#print(\"Location of centroids: \")\n",
    "#print(centroids)"
   ]
  },
  {
   "cell_type": "markdown",
   "id": "83399927",
   "metadata": {},
   "source": [
    "### Cluster Labels - 4-Seam"
   ]
  },
  {
   "cell_type": "code",
   "execution_count": 5,
   "id": "3dafce24",
   "metadata": {},
   "outputs": [
    {
     "data": {
      "text/html": [
       "<div>\n",
       "<style scoped>\n",
       "    .dataframe tbody tr th:only-of-type {\n",
       "        vertical-align: middle;\n",
       "    }\n",
       "\n",
       "    .dataframe tbody tr th {\n",
       "        vertical-align: top;\n",
       "    }\n",
       "\n",
       "    .dataframe thead th {\n",
       "        text-align: right;\n",
       "    }\n",
       "</style>\n",
       "<table border=\"1\" class=\"dataframe\">\n",
       "  <thead>\n",
       "    <tr style=\"text-align: right;\">\n",
       "      <th>label</th>\n",
       "      <th>0</th>\n",
       "      <th>1</th>\n",
       "    </tr>\n",
       "  </thead>\n",
       "  <tbody>\n",
       "    <tr>\n",
       "      <th>pitch_type</th>\n",
       "      <td>1.000000</td>\n",
       "      <td>1.000000</td>\n",
       "    </tr>\n",
       "    <tr>\n",
       "      <th>pitch_usage</th>\n",
       "      <td>43.845143</td>\n",
       "      <td>49.408411</td>\n",
       "    </tr>\n",
       "    <tr>\n",
       "      <th>release_speed</th>\n",
       "      <td>93.255429</td>\n",
       "      <td>94.177570</td>\n",
       "    </tr>\n",
       "    <tr>\n",
       "      <th>spin_rate</th>\n",
       "      <td>2236.702857</td>\n",
       "      <td>2303.168224</td>\n",
       "    </tr>\n",
       "    <tr>\n",
       "      <th>movement_inches</th>\n",
       "      <td>17.320571</td>\n",
       "      <td>17.989252</td>\n",
       "    </tr>\n",
       "    <tr>\n",
       "      <th>spin_eff%</th>\n",
       "      <td>89.800000</td>\n",
       "      <td>89.859813</td>\n",
       "    </tr>\n",
       "    <tr>\n",
       "      <th>active_spin</th>\n",
       "      <td>0.897941</td>\n",
       "      <td>0.898768</td>\n",
       "    </tr>\n",
       "    <tr>\n",
       "      <th>run_value_per_100</th>\n",
       "      <td>0.916571</td>\n",
       "      <td>-0.694393</td>\n",
       "    </tr>\n",
       "    <tr>\n",
       "      <th>run_value</th>\n",
       "      <td>3.874286</td>\n",
       "      <td>-4.228972</td>\n",
       "    </tr>\n",
       "    <tr>\n",
       "      <th>pa</th>\n",
       "      <td>127.365714</td>\n",
       "      <td>149.546729</td>\n",
       "    </tr>\n",
       "    <tr>\n",
       "      <th>ba</th>\n",
       "      <td>0.300120</td>\n",
       "      <td>0.218575</td>\n",
       "    </tr>\n",
       "    <tr>\n",
       "      <th>slg</th>\n",
       "      <td>0.530343</td>\n",
       "      <td>0.383369</td>\n",
       "    </tr>\n",
       "    <tr>\n",
       "      <th>woba</th>\n",
       "      <td>0.400840</td>\n",
       "      <td>0.313533</td>\n",
       "    </tr>\n",
       "    <tr>\n",
       "      <th>whiff_percent</th>\n",
       "      <td>17.913714</td>\n",
       "      <td>25.054673</td>\n",
       "    </tr>\n",
       "    <tr>\n",
       "      <th>k_percent</th>\n",
       "      <td>16.206286</td>\n",
       "      <td>26.581776</td>\n",
       "    </tr>\n",
       "    <tr>\n",
       "      <th>put_away</th>\n",
       "      <td>15.497714</td>\n",
       "      <td>20.824766</td>\n",
       "    </tr>\n",
       "    <tr>\n",
       "      <th>est_ba</th>\n",
       "      <td>0.289486</td>\n",
       "      <td>0.221079</td>\n",
       "    </tr>\n",
       "    <tr>\n",
       "      <th>est_slg</th>\n",
       "      <td>0.523697</td>\n",
       "      <td>0.397486</td>\n",
       "    </tr>\n",
       "    <tr>\n",
       "      <th>est_woba</th>\n",
       "      <td>0.389777</td>\n",
       "      <td>0.315673</td>\n",
       "    </tr>\n",
       "    <tr>\n",
       "      <th>hard_hit_percent</th>\n",
       "      <td>46.834286</td>\n",
       "      <td>41.349533</td>\n",
       "    </tr>\n",
       "    <tr>\n",
       "      <th>bauer_units</th>\n",
       "      <td>23.986038</td>\n",
       "      <td>24.459753</td>\n",
       "    </tr>\n",
       "    <tr>\n",
       "      <th>pitch_hand_L</th>\n",
       "      <td>0.268571</td>\n",
       "      <td>0.294393</td>\n",
       "    </tr>\n",
       "    <tr>\n",
       "      <th>pitch_hand_R</th>\n",
       "      <td>0.731429</td>\n",
       "      <td>0.705607</td>\n",
       "    </tr>\n",
       "  </tbody>\n",
       "</table>\n",
       "</div>"
      ],
      "text/plain": [
       "label                        0            1\n",
       "pitch_type            1.000000     1.000000\n",
       "pitch_usage          43.845143    49.408411\n",
       "release_speed        93.255429    94.177570\n",
       "spin_rate          2236.702857  2303.168224\n",
       "movement_inches      17.320571    17.989252\n",
       "spin_eff%            89.800000    89.859813\n",
       "active_spin           0.897941     0.898768\n",
       "run_value_per_100     0.916571    -0.694393\n",
       "run_value             3.874286    -4.228972\n",
       "pa                  127.365714   149.546729\n",
       "ba                    0.300120     0.218575\n",
       "slg                   0.530343     0.383369\n",
       "woba                  0.400840     0.313533\n",
       "whiff_percent        17.913714    25.054673\n",
       "k_percent            16.206286    26.581776\n",
       "put_away             15.497714    20.824766\n",
       "est_ba                0.289486     0.221079\n",
       "est_slg               0.523697     0.397486\n",
       "est_woba              0.389777     0.315673\n",
       "hard_hit_percent     46.834286    41.349533\n",
       "bauer_units          23.986038    24.459753\n",
       "pitch_hand_L          0.268571     0.294393\n",
       "pitch_hand_R          0.731429     0.705607"
      ]
     },
     "execution_count": 5,
     "metadata": {},
     "output_type": "execute_result"
    }
   ],
   "source": [
    "X_ff['label'] = label_ff\n",
    "model_ff['label'] = label_ff\n",
    "#model_ff.groupby(by = 'label').mean().T\n",
    "X_ff.groupby(by = 'label').mean().T"
   ]
  },
  {
   "cell_type": "markdown",
   "id": "809aaa04",
   "metadata": {},
   "source": [
    "## Slider"
   ]
  },
  {
   "cell_type": "code",
   "execution_count": 6,
   "id": "5acf61f0",
   "metadata": {},
   "outputs": [
    {
     "name": "stdout",
     "output_type": "stream",
     "text": [
      "Number of iterations: 10\n",
      "Number of features: 23\n",
      "Number of clusters: 2\n",
      "Inertia: 4244.390572658353 \n",
      "\n",
      "Predicted clusters to points:  [0 1 0 1 1 0 0 1 0 0] \n",
      "\n"
     ]
    }
   ],
   "source": [
    "features_sl = sl.select_dtypes([np.number])\n",
    "X_sl = features_sl\n",
    "\n",
    "X_sl_scaled = ss.fit_transform(X_sl)\n",
    "X_sl_scaled[:,:] *= -1\n",
    "\n",
    "pca = PCA().fit(X_sl_scaled)\n",
    "principal_components_sl = pca.transform(X_sl_scaled)\n",
    "model_sl = pd.DataFrame(data = principal_components_sl, columns = X_sl.columns)\n",
    "\n",
    "km_sl = KMeans(n_clusters = 2, \n",
    "               random_state = 1)\n",
    "\n",
    "km_sl.fit(model_sl)\n",
    "label_sl = km_sl.fit_predict(model_sl)\n",
    "\n",
    "print('Number of iterations:', km_sl.n_iter_)\n",
    "print('Number of features:', km_sl.n_features_in_)\n",
    "print('Number of clusters:', km_sl.n_clusters)\n",
    "print('Inertia:', km_sl.inertia_, '\\n')\n",
    "print(\"Predicted clusters to points: \", label_sl[:10], '\\n')"
   ]
  },
  {
   "cell_type": "markdown",
   "id": "7d8eeaca",
   "metadata": {},
   "source": [
    "### Cluster Labels - Slider"
   ]
  },
  {
   "cell_type": "code",
   "execution_count": 7,
   "id": "f28eee91",
   "metadata": {},
   "outputs": [
    {
     "data": {
      "text/html": [
       "<div>\n",
       "<style scoped>\n",
       "    .dataframe tbody tr th:only-of-type {\n",
       "        vertical-align: middle;\n",
       "    }\n",
       "\n",
       "    .dataframe tbody tr th {\n",
       "        vertical-align: top;\n",
       "    }\n",
       "\n",
       "    .dataframe thead th {\n",
       "        text-align: right;\n",
       "    }\n",
       "</style>\n",
       "<table border=\"1\" class=\"dataframe\">\n",
       "  <thead>\n",
       "    <tr style=\"text-align: right;\">\n",
       "      <th>label</th>\n",
       "      <th>0</th>\n",
       "      <th>1</th>\n",
       "    </tr>\n",
       "  </thead>\n",
       "  <tbody>\n",
       "    <tr>\n",
       "      <th>pitch_type</th>\n",
       "      <td>2.000000</td>\n",
       "      <td>2.000000</td>\n",
       "    </tr>\n",
       "    <tr>\n",
       "      <th>pitch_usage</th>\n",
       "      <td>28.982031</td>\n",
       "      <td>35.265625</td>\n",
       "    </tr>\n",
       "    <tr>\n",
       "      <th>release_speed</th>\n",
       "      <td>84.442969</td>\n",
       "      <td>84.846094</td>\n",
       "    </tr>\n",
       "    <tr>\n",
       "      <th>spin_rate</th>\n",
       "      <td>2370.906250</td>\n",
       "      <td>2476.359375</td>\n",
       "    </tr>\n",
       "    <tr>\n",
       "      <th>movement_inches</th>\n",
       "      <td>7.346875</td>\n",
       "      <td>9.587500</td>\n",
       "    </tr>\n",
       "    <tr>\n",
       "      <th>spin_eff%</th>\n",
       "      <td>34.218750</td>\n",
       "      <td>38.898438</td>\n",
       "    </tr>\n",
       "    <tr>\n",
       "      <th>active_spin</th>\n",
       "      <td>0.342528</td>\n",
       "      <td>0.389190</td>\n",
       "    </tr>\n",
       "    <tr>\n",
       "      <th>run_value_per_100</th>\n",
       "      <td>0.589063</td>\n",
       "      <td>-1.462500</td>\n",
       "    </tr>\n",
       "    <tr>\n",
       "      <th>run_value</th>\n",
       "      <td>1.757812</td>\n",
       "      <td>-5.851562</td>\n",
       "    </tr>\n",
       "    <tr>\n",
       "      <th>pa</th>\n",
       "      <td>104.945312</td>\n",
       "      <td>109.742188</td>\n",
       "    </tr>\n",
       "    <tr>\n",
       "      <th>ba</th>\n",
       "      <td>0.247000</td>\n",
       "      <td>0.163336</td>\n",
       "    </tr>\n",
       "    <tr>\n",
       "      <th>slg</th>\n",
       "      <td>0.437164</td>\n",
       "      <td>0.272937</td>\n",
       "    </tr>\n",
       "    <tr>\n",
       "      <th>woba</th>\n",
       "      <td>0.327172</td>\n",
       "      <td>0.228188</td>\n",
       "    </tr>\n",
       "    <tr>\n",
       "      <th>whiff_percent</th>\n",
       "      <td>31.575000</td>\n",
       "      <td>40.412500</td>\n",
       "    </tr>\n",
       "    <tr>\n",
       "      <th>k_percent</th>\n",
       "      <td>25.903906</td>\n",
       "      <td>38.332813</td>\n",
       "    </tr>\n",
       "    <tr>\n",
       "      <th>put_away</th>\n",
       "      <td>20.247656</td>\n",
       "      <td>26.488281</td>\n",
       "    </tr>\n",
       "    <tr>\n",
       "      <th>est_ba</th>\n",
       "      <td>0.236313</td>\n",
       "      <td>0.167633</td>\n",
       "    </tr>\n",
       "    <tr>\n",
       "      <th>est_slg</th>\n",
       "      <td>0.409117</td>\n",
       "      <td>0.270281</td>\n",
       "    </tr>\n",
       "    <tr>\n",
       "      <th>est_woba</th>\n",
       "      <td>0.307078</td>\n",
       "      <td>0.226219</td>\n",
       "    </tr>\n",
       "    <tr>\n",
       "      <th>hard_hit_percent</th>\n",
       "      <td>35.933594</td>\n",
       "      <td>28.446875</td>\n",
       "    </tr>\n",
       "    <tr>\n",
       "      <th>bauer_units</th>\n",
       "      <td>28.114568</td>\n",
       "      <td>29.238859</td>\n",
       "    </tr>\n",
       "    <tr>\n",
       "      <th>pitch_hand_L</th>\n",
       "      <td>0.273438</td>\n",
       "      <td>0.257812</td>\n",
       "    </tr>\n",
       "    <tr>\n",
       "      <th>pitch_hand_R</th>\n",
       "      <td>0.726562</td>\n",
       "      <td>0.742188</td>\n",
       "    </tr>\n",
       "  </tbody>\n",
       "</table>\n",
       "</div>"
      ],
      "text/plain": [
       "label                        0            1\n",
       "pitch_type            2.000000     2.000000\n",
       "pitch_usage          28.982031    35.265625\n",
       "release_speed        84.442969    84.846094\n",
       "spin_rate          2370.906250  2476.359375\n",
       "movement_inches       7.346875     9.587500\n",
       "spin_eff%            34.218750    38.898438\n",
       "active_spin           0.342528     0.389190\n",
       "run_value_per_100     0.589063    -1.462500\n",
       "run_value             1.757812    -5.851562\n",
       "pa                  104.945312   109.742188\n",
       "ba                    0.247000     0.163336\n",
       "slg                   0.437164     0.272937\n",
       "woba                  0.327172     0.228188\n",
       "whiff_percent        31.575000    40.412500\n",
       "k_percent            25.903906    38.332813\n",
       "put_away             20.247656    26.488281\n",
       "est_ba                0.236313     0.167633\n",
       "est_slg               0.409117     0.270281\n",
       "est_woba              0.307078     0.226219\n",
       "hard_hit_percent     35.933594    28.446875\n",
       "bauer_units          28.114568    29.238859\n",
       "pitch_hand_L          0.273438     0.257812\n",
       "pitch_hand_R          0.726562     0.742188"
      ]
     },
     "execution_count": 7,
     "metadata": {},
     "output_type": "execute_result"
    }
   ],
   "source": [
    "X_sl['label'] = label_sl\n",
    "model_sl['label'] = label_sl\n",
    "\n",
    "X_sl.groupby(by = 'label').mean().T"
   ]
  },
  {
   "cell_type": "markdown",
   "id": "3c72e08b",
   "metadata": {},
   "source": [
    "## Changeup"
   ]
  },
  {
   "cell_type": "code",
   "execution_count": 8,
   "id": "e579998c",
   "metadata": {},
   "outputs": [
    {
     "name": "stdout",
     "output_type": "stream",
     "text": [
      "Number of iterations: 5\n",
      "Number of features: 23\n",
      "Number of clusters: 2\n",
      "Inertia: 2114.929241648285 \n",
      "\n",
      "Predicted clusters to points:  [1 0 1 1 1 0 0 0 1 0] \n",
      "\n"
     ]
    }
   ],
   "source": [
    "features_ch = ch.select_dtypes([np.number])\n",
    "X_ch = features_ch\n",
    "\n",
    "X_ch_scaled = ss.fit_transform(X_ch)\n",
    "X_ch_scaled[:,:] *= -1\n",
    "\n",
    "pca = PCA().fit(X_ch_scaled)\n",
    "principal_components_ch = pca.transform(X_ch_scaled)\n",
    "model_ch = pd.DataFrame(data = principal_components_ch, columns = X_ch.columns)\n",
    "\n",
    "km_ch = KMeans(n_clusters = 2, \n",
    "               random_state = 1)\n",
    "\n",
    "km_ch.fit(model_ch)\n",
    "label_ch = km_ch.fit_predict(model_ch)\n",
    "\n",
    "print('Number of iterations:', km_ch.n_iter_)\n",
    "print('Number of features:', km_ch.n_features_in_)\n",
    "print('Number of clusters:', km_ch.n_clusters)\n",
    "print('Inertia:', km_ch.inertia_, '\\n')\n",
    "print(\"Predicted clusters to points: \", label_ch[:10], '\\n')"
   ]
  },
  {
   "cell_type": "markdown",
   "id": "f4ddb95c",
   "metadata": {},
   "source": [
    "### Cluster Labels - Changeup"
   ]
  },
  {
   "cell_type": "code",
   "execution_count": 9,
   "id": "decc0285",
   "metadata": {},
   "outputs": [
    {
     "data": {
      "text/html": [
       "<div>\n",
       "<style scoped>\n",
       "    .dataframe tbody tr th:only-of-type {\n",
       "        vertical-align: middle;\n",
       "    }\n",
       "\n",
       "    .dataframe tbody tr th {\n",
       "        vertical-align: top;\n",
       "    }\n",
       "\n",
       "    .dataframe thead th {\n",
       "        text-align: right;\n",
       "    }\n",
       "</style>\n",
       "<table border=\"1\" class=\"dataframe\">\n",
       "  <thead>\n",
       "    <tr style=\"text-align: right;\">\n",
       "      <th>label</th>\n",
       "      <th>0</th>\n",
       "      <th>1</th>\n",
       "    </tr>\n",
       "  </thead>\n",
       "  <tbody>\n",
       "    <tr>\n",
       "      <th>pitch_type</th>\n",
       "      <td>3.000000</td>\n",
       "      <td>3.000000</td>\n",
       "    </tr>\n",
       "    <tr>\n",
       "      <th>pitch_usage</th>\n",
       "      <td>27.203125</td>\n",
       "      <td>20.951667</td>\n",
       "    </tr>\n",
       "    <tr>\n",
       "      <th>release_speed</th>\n",
       "      <td>84.900000</td>\n",
       "      <td>84.393333</td>\n",
       "    </tr>\n",
       "    <tr>\n",
       "      <th>spin_rate</th>\n",
       "      <td>1808.531250</td>\n",
       "      <td>1694.183333</td>\n",
       "    </tr>\n",
       "    <tr>\n",
       "      <th>movement_inches</th>\n",
       "      <td>16.732813</td>\n",
       "      <td>15.711667</td>\n",
       "    </tr>\n",
       "    <tr>\n",
       "      <th>spin_eff%</th>\n",
       "      <td>90.859375</td>\n",
       "      <td>89.400000</td>\n",
       "    </tr>\n",
       "    <tr>\n",
       "      <th>active_spin</th>\n",
       "      <td>0.909695</td>\n",
       "      <td>0.894793</td>\n",
       "    </tr>\n",
       "    <tr>\n",
       "      <th>run_value_per_100</th>\n",
       "      <td>-0.982812</td>\n",
       "      <td>0.990000</td>\n",
       "    </tr>\n",
       "    <tr>\n",
       "      <th>run_value</th>\n",
       "      <td>-4.031250</td>\n",
       "      <td>3.550000</td>\n",
       "    </tr>\n",
       "    <tr>\n",
       "      <th>pa</th>\n",
       "      <td>120.062500</td>\n",
       "      <td>109.933333</td>\n",
       "    </tr>\n",
       "    <tr>\n",
       "      <th>ba</th>\n",
       "      <td>0.196625</td>\n",
       "      <td>0.271150</td>\n",
       "    </tr>\n",
       "    <tr>\n",
       "      <th>slg</th>\n",
       "      <td>0.315156</td>\n",
       "      <td>0.437017</td>\n",
       "    </tr>\n",
       "    <tr>\n",
       "      <th>woba</th>\n",
       "      <td>0.257937</td>\n",
       "      <td>0.338617</td>\n",
       "    </tr>\n",
       "    <tr>\n",
       "      <th>whiff_percent</th>\n",
       "      <td>33.431250</td>\n",
       "      <td>26.486667</td>\n",
       "    </tr>\n",
       "    <tr>\n",
       "      <th>k_percent</th>\n",
       "      <td>26.451563</td>\n",
       "      <td>16.651667</td>\n",
       "    </tr>\n",
       "    <tr>\n",
       "      <th>put_away</th>\n",
       "      <td>21.214063</td>\n",
       "      <td>15.871667</td>\n",
       "    </tr>\n",
       "    <tr>\n",
       "      <th>est_ba</th>\n",
       "      <td>0.209156</td>\n",
       "      <td>0.273167</td>\n",
       "    </tr>\n",
       "    <tr>\n",
       "      <th>est_slg</th>\n",
       "      <td>0.319141</td>\n",
       "      <td>0.435767</td>\n",
       "    </tr>\n",
       "    <tr>\n",
       "      <th>est_woba</th>\n",
       "      <td>0.258719</td>\n",
       "      <td>0.329617</td>\n",
       "    </tr>\n",
       "    <tr>\n",
       "      <th>hard_hit_percent</th>\n",
       "      <td>29.345312</td>\n",
       "      <td>36.246667</td>\n",
       "    </tr>\n",
       "    <tr>\n",
       "      <th>bauer_units</th>\n",
       "      <td>21.328409</td>\n",
       "      <td>20.104012</td>\n",
       "    </tr>\n",
       "    <tr>\n",
       "      <th>pitch_hand_L</th>\n",
       "      <td>0.390625</td>\n",
       "      <td>0.433333</td>\n",
       "    </tr>\n",
       "    <tr>\n",
       "      <th>pitch_hand_R</th>\n",
       "      <td>0.609375</td>\n",
       "      <td>0.566667</td>\n",
       "    </tr>\n",
       "  </tbody>\n",
       "</table>\n",
       "</div>"
      ],
      "text/plain": [
       "label                        0            1\n",
       "pitch_type            3.000000     3.000000\n",
       "pitch_usage          27.203125    20.951667\n",
       "release_speed        84.900000    84.393333\n",
       "spin_rate          1808.531250  1694.183333\n",
       "movement_inches      16.732813    15.711667\n",
       "spin_eff%            90.859375    89.400000\n",
       "active_spin           0.909695     0.894793\n",
       "run_value_per_100    -0.982812     0.990000\n",
       "run_value            -4.031250     3.550000\n",
       "pa                  120.062500   109.933333\n",
       "ba                    0.196625     0.271150\n",
       "slg                   0.315156     0.437017\n",
       "woba                  0.257937     0.338617\n",
       "whiff_percent        33.431250    26.486667\n",
       "k_percent            26.451563    16.651667\n",
       "put_away             21.214063    15.871667\n",
       "est_ba                0.209156     0.273167\n",
       "est_slg               0.319141     0.435767\n",
       "est_woba              0.258719     0.329617\n",
       "hard_hit_percent     29.345312    36.246667\n",
       "bauer_units          21.328409    20.104012\n",
       "pitch_hand_L          0.390625     0.433333\n",
       "pitch_hand_R          0.609375     0.566667"
      ]
     },
     "execution_count": 9,
     "metadata": {},
     "output_type": "execute_result"
    }
   ],
   "source": [
    "X_ch['label'] = label_ch\n",
    "model_ch['label'] = label_ch\n",
    "\n",
    "X_ch.groupby(by = 'label').mean().T"
   ]
  },
  {
   "cell_type": "markdown",
   "id": "6b28b964",
   "metadata": {},
   "source": [
    "## Cutter"
   ]
  },
  {
   "cell_type": "code",
   "execution_count": 10,
   "id": "54758bb4",
   "metadata": {},
   "outputs": [
    {
     "name": "stdout",
     "output_type": "stream",
     "text": [
      "Number of iterations: 7\n",
      "Number of features: 23\n",
      "Number of clusters: 2\n",
      "Inertia: 1322.2351294584519 \n",
      "\n",
      "Predicted clusters to points:  [1 0 1 0 0 0 1 1 0 1] \n",
      "\n"
     ]
    }
   ],
   "source": [
    "features_fc = fc.select_dtypes([np.number])\n",
    "X_fc = features_fc\n",
    "\n",
    "X_fc_scaled = ss.fit_transform(X_fc)\n",
    "X_fc_scaled[:,:] *= -1\n",
    "\n",
    "pca = PCA().fit(X_fc_scaled)\n",
    "principal_components_fc = pca.transform(X_fc_scaled)\n",
    "model_fc = pd.DataFrame(data = principal_components_fc, columns = X_fc.columns)\n",
    "\n",
    "km_fc = KMeans(n_clusters = 2, \n",
    "               random_state = 1)\n",
    "\n",
    "km_fc.fit(model_fc)\n",
    "label_fc = km_fc.fit_predict(model_fc)\n",
    "\n",
    "print('Number of iterations:', km_fc.n_iter_)\n",
    "print('Number of features:', km_fc.n_features_in_)\n",
    "print('Number of clusters:', km_fc.n_clusters)\n",
    "print('Inertia:', km_fc.inertia_, '\\n')\n",
    "print(\"Predicted clusters to points: \", label_fc[:10], '\\n')"
   ]
  },
  {
   "cell_type": "markdown",
   "id": "4cfb0b4c",
   "metadata": {},
   "source": [
    "### Cluster Labels - Cutter"
   ]
  },
  {
   "cell_type": "code",
   "execution_count": 11,
   "id": "9e862bd1",
   "metadata": {},
   "outputs": [
    {
     "data": {
      "text/html": [
       "<div>\n",
       "<style scoped>\n",
       "    .dataframe tbody tr th:only-of-type {\n",
       "        vertical-align: middle;\n",
       "    }\n",
       "\n",
       "    .dataframe tbody tr th {\n",
       "        vertical-align: top;\n",
       "    }\n",
       "\n",
       "    .dataframe thead th {\n",
       "        text-align: right;\n",
       "    }\n",
       "</style>\n",
       "<table border=\"1\" class=\"dataframe\">\n",
       "  <thead>\n",
       "    <tr style=\"text-align: right;\">\n",
       "      <th>label</th>\n",
       "      <th>0</th>\n",
       "      <th>1</th>\n",
       "    </tr>\n",
       "  </thead>\n",
       "  <tbody>\n",
       "    <tr>\n",
       "      <th>pitch_type</th>\n",
       "      <td>4.000000</td>\n",
       "      <td>4.000000</td>\n",
       "    </tr>\n",
       "    <tr>\n",
       "      <th>pitch_usage</th>\n",
       "      <td>28.228571</td>\n",
       "      <td>35.726316</td>\n",
       "    </tr>\n",
       "    <tr>\n",
       "      <th>release_speed</th>\n",
       "      <td>87.980952</td>\n",
       "      <td>88.915789</td>\n",
       "    </tr>\n",
       "    <tr>\n",
       "      <th>spin_rate</th>\n",
       "      <td>2291.952381</td>\n",
       "      <td>2451.263158</td>\n",
       "    </tr>\n",
       "    <tr>\n",
       "      <th>movement_inches</th>\n",
       "      <td>8.916667</td>\n",
       "      <td>8.081579</td>\n",
       "    </tr>\n",
       "    <tr>\n",
       "      <th>spin_eff%</th>\n",
       "      <td>51.523810</td>\n",
       "      <td>42.500000</td>\n",
       "    </tr>\n",
       "    <tr>\n",
       "      <th>active_spin</th>\n",
       "      <td>0.515399</td>\n",
       "      <td>0.425604</td>\n",
       "    </tr>\n",
       "    <tr>\n",
       "      <th>run_value_per_100</th>\n",
       "      <td>0.783333</td>\n",
       "      <td>-1.126316</td>\n",
       "    </tr>\n",
       "    <tr>\n",
       "      <th>run_value</th>\n",
       "      <td>3.000000</td>\n",
       "      <td>-5.263158</td>\n",
       "    </tr>\n",
       "    <tr>\n",
       "      <th>pa</th>\n",
       "      <td>123.476190</td>\n",
       "      <td>117.105263</td>\n",
       "    </tr>\n",
       "    <tr>\n",
       "      <th>ba</th>\n",
       "      <td>0.285595</td>\n",
       "      <td>0.219000</td>\n",
       "    </tr>\n",
       "    <tr>\n",
       "      <th>slg</th>\n",
       "      <td>0.501738</td>\n",
       "      <td>0.344316</td>\n",
       "    </tr>\n",
       "    <tr>\n",
       "      <th>woba</th>\n",
       "      <td>0.374929</td>\n",
       "      <td>0.287868</td>\n",
       "    </tr>\n",
       "    <tr>\n",
       "      <th>whiff_percent</th>\n",
       "      <td>21.014286</td>\n",
       "      <td>27.307895</td>\n",
       "    </tr>\n",
       "    <tr>\n",
       "      <th>k_percent</th>\n",
       "      <td>15.630952</td>\n",
       "      <td>23.084211</td>\n",
       "    </tr>\n",
       "    <tr>\n",
       "      <th>put_away</th>\n",
       "      <td>16.509524</td>\n",
       "      <td>21.328947</td>\n",
       "    </tr>\n",
       "    <tr>\n",
       "      <th>est_ba</th>\n",
       "      <td>0.279071</td>\n",
       "      <td>0.227447</td>\n",
       "    </tr>\n",
       "    <tr>\n",
       "      <th>est_slg</th>\n",
       "      <td>0.494262</td>\n",
       "      <td>0.355868</td>\n",
       "    </tr>\n",
       "    <tr>\n",
       "      <th>est_woba</th>\n",
       "      <td>0.360119</td>\n",
       "      <td>0.289895</td>\n",
       "    </tr>\n",
       "    <tr>\n",
       "      <th>hard_hit_percent</th>\n",
       "      <td>37.961905</td>\n",
       "      <td>33.260526</td>\n",
       "    </tr>\n",
       "    <tr>\n",
       "      <th>bauer_units</th>\n",
       "      <td>26.059263</td>\n",
       "      <td>27.583458</td>\n",
       "    </tr>\n",
       "    <tr>\n",
       "      <th>pitch_hand_L</th>\n",
       "      <td>0.452381</td>\n",
       "      <td>0.236842</td>\n",
       "    </tr>\n",
       "    <tr>\n",
       "      <th>pitch_hand_R</th>\n",
       "      <td>0.547619</td>\n",
       "      <td>0.763158</td>\n",
       "    </tr>\n",
       "  </tbody>\n",
       "</table>\n",
       "</div>"
      ],
      "text/plain": [
       "label                        0            1\n",
       "pitch_type            4.000000     4.000000\n",
       "pitch_usage          28.228571    35.726316\n",
       "release_speed        87.980952    88.915789\n",
       "spin_rate          2291.952381  2451.263158\n",
       "movement_inches       8.916667     8.081579\n",
       "spin_eff%            51.523810    42.500000\n",
       "active_spin           0.515399     0.425604\n",
       "run_value_per_100     0.783333    -1.126316\n",
       "run_value             3.000000    -5.263158\n",
       "pa                  123.476190   117.105263\n",
       "ba                    0.285595     0.219000\n",
       "slg                   0.501738     0.344316\n",
       "woba                  0.374929     0.287868\n",
       "whiff_percent        21.014286    27.307895\n",
       "k_percent            15.630952    23.084211\n",
       "put_away             16.509524    21.328947\n",
       "est_ba                0.279071     0.227447\n",
       "est_slg               0.494262     0.355868\n",
       "est_woba              0.360119     0.289895\n",
       "hard_hit_percent     37.961905    33.260526\n",
       "bauer_units          26.059263    27.583458\n",
       "pitch_hand_L          0.452381     0.236842\n",
       "pitch_hand_R          0.547619     0.763158"
      ]
     },
     "execution_count": 11,
     "metadata": {},
     "output_type": "execute_result"
    }
   ],
   "source": [
    "X_fc['label'] = label_fc\n",
    "model_fc['label'] = label_fc\n",
    "\n",
    "X_fc.groupby(by = 'label').mean().T"
   ]
  },
  {
   "cell_type": "markdown",
   "id": "f946c450",
   "metadata": {},
   "source": [
    "# Modeling"
   ]
  },
  {
   "cell_type": "markdown",
   "id": "982b64ba",
   "metadata": {},
   "source": [
    "## Logistic Regression - 4-Seam"
   ]
  },
  {
   "cell_type": "markdown",
   "id": "0682f386",
   "metadata": {},
   "source": [
    "### Heatmaps of Features - 4-Seam"
   ]
  },
  {
   "cell_type": "code",
   "execution_count": 12,
   "id": "e807a527",
   "metadata": {},
   "outputs": [
    {
     "data": {
      "image/png": "[encoded data removed]",
      "text/plain": [
       "<Figure size 576x576 with 2 Axes>"
      ]
     },
     "metadata": {
      "needs_background": "light"
     },
     "output_type": "display_data"
    }
   ],
   "source": [
    "plt.figure(figsize = (8, 8))\n",
    "sns.heatmap(X_ff.corr()[['label']].sort_values(('label'), ascending = False), \n",
    "            annot = True, cmap = 'coolwarm', vmin = -1, vmax = 1, linewidths = 2)\n",
    "plt.title('Correlations to 4-seam Label', fontweight = 'bold', pad = 15);"
   ]
  },
  {
   "cell_type": "markdown",
   "id": "07803f35",
   "metadata": {},
   "source": [
    "Positively correlated with label\n",
    "\n",
    "Negatively correlated with lablel so the better the negatives the lower the run value / 100"
   ]
  },
  {
   "cell_type": "code",
   "execution_count": 13,
   "id": "13f501a7",
   "metadata": {},
   "outputs": [
    {
     "name": "stdout",
     "output_type": "stream",
     "text": [
      "Train score: 0.93\n",
      "Test score: 0.89\n",
      "Cross val score 0.9277\n"
     ]
    }
   ],
   "source": [
    "X = X_ff.drop(columns = ['label'])\n",
    "y = X_ff['label']\n",
    "\n",
    "X_train, X_test, y_train, y_test = train_test_split(X, y, random_state = 1)\n",
    "\n",
    "lr = LogisticRegression(random_state = 1)\n",
    "lr.fit(X_train, y_train)\n",
    "\n",
    "pred_ff = lr.predict(X_test)\n",
    "pred_probs_ff = lr.predict_proba(X_test)[:,1]\n",
    "\n",
    "print('Train score:', round(lr.score(X_train, y_train), 2))\n",
    "print('Test score:', round(lr.score(X_test, y_test), 2)) \n",
    "print('Cross val score', round(cross_val_score(lr, X_train, y_train).mean(), 4))"
   ]
  },
  {
   "cell_type": "code",
   "execution_count": 14,
   "id": "784beb67",
   "metadata": {},
   "outputs": [
    {
     "data": {
      "image/png": "[encoded data removed]",
      "text/plain": [
       "<Figure size 720x432 with 1 Axes>"
      ]
     },
     "metadata": {
      "needs_background": "light"
     },
     "output_type": "display_data"
    }
   ],
   "source": [
    "pred_ff_df = pd.DataFrame({'true_values': y_test, 'pred_probs': pred_probs_ff})\n",
    "labels = ('Poor 4-Seam', 'Good 4-Seam')\n",
    "plt.figure(figsize = (10, 6))\n",
    "for group in pred_ff_df.groupby('true_values'):\n",
    "    sns.distplot(group[1], kde = False, bins = 20)\n",
    "plt.xlabel('Predicted Probability of 4-Seam to Label')\n",
    "plt.legend(labels)\n",
    "plt.title('Distributions of Predicted Probabilities by Actual Values', fontweight = 'bold', pad = 15);"
   ]
  },
  {
   "cell_type": "code",
   "execution_count": 15,
   "id": "4fce2a23",
   "metadata": {},
   "outputs": [
    {
     "data": {
      "image/png": "[encoded data removed]",
      "text/plain": [
       "<Figure size 576x432 with 1 Axes>"
      ]
     },
     "metadata": {
      "needs_background": "light"
     },
     "output_type": "display_data"
    }
   ],
   "source": [
    "plt.figure(figsize = (8, 6))\n",
    "sns.regplot(x = X_ff['run_value_per_100'], y = X_ff['label'], data = X_ff, logistic = True, ci = None,\n",
    "            scatter_kws = {'color': 'black'}, line_kws = {'color': 'red'})\n",
    "plt.title('Predicting RV / 100 from 4-Seam Cluster Label', fontweight = 'bold', fontsize = 15, pad = 15);"
   ]
  },
  {
   "cell_type": "markdown",
   "id": "9ccade27",
   "metadata": {},
   "source": [
    "## Logistic Regression - Slider"
   ]
  },
  {
   "cell_type": "markdown",
   "id": "99a0ad84",
   "metadata": {},
   "source": [
    "### Heatmap of Features - Slider"
   ]
  },
  {
   "cell_type": "code",
   "execution_count": 16,
   "id": "818a2c8a",
   "metadata": {},
   "outputs": [
    {
     "data": {
      "image/png": "[encoded data removed]",
      "text/plain": [
       "<Figure size 576x576 with 2 Axes>"
      ]
     },
     "metadata": {
      "needs_background": "light"
     },
     "output_type": "display_data"
    }
   ],
   "source": [
    "plt.figure(figsize = (8, 8))\n",
    "sns.heatmap(X_sl.corr()[['label']].sort_values(('label'), ascending = False), \n",
    "            annot = True, cmap = 'coolwarm', vmin = -1, vmax = 1, linewidths = 2)\n",
    "plt.title('Correlations to Slider Label', fontweight = 'bold', pad = 15);"
   ]
  },
  {
   "cell_type": "code",
   "execution_count": 17,
   "id": "0efb2246",
   "metadata": {},
   "outputs": [
    {
     "name": "stdout",
     "output_type": "stream",
     "text": [
      "Train score: 0.93\n",
      "Test score: 0.92\n",
      "Cross val score 0.9165\n"
     ]
    }
   ],
   "source": [
    "X = X_sl.drop(columns = ['label'])\n",
    "y = X_sl['label']\n",
    "\n",
    "X_train, X_test, y_train, y_test = train_test_split(X, y, random_state = 1)\n",
    "\n",
    "lr = LogisticRegression(random_state = 1)\n",
    "lr.fit(X_train, y_train)\n",
    "\n",
    "pred_sl = lr.predict(X_test)\n",
    "pred_probs_sl = lr.predict_proba(X_test)[:,1]\n",
    "\n",
    "print('Train score:', round(lr.score(X_train, y_train), 2))\n",
    "print('Test score:', round(lr.score(X_test, y_test), 2)) \n",
    "print('Cross val score', round(cross_val_score(lr, X_train, y_train).mean(), 4))"
   ]
  },
  {
   "cell_type": "code",
   "execution_count": 18,
   "id": "e0688067",
   "metadata": {},
   "outputs": [
    {
     "data": {
      "image/png": "[encoded data removed]",
      "text/plain": [
       "<Figure size 720x432 with 1 Axes>"
      ]
     },
     "metadata": {
      "needs_background": "light"
     },
     "output_type": "display_data"
    }
   ],
   "source": [
    "pred_sl_df = pd.DataFrame({'true_values': y_test, 'pred_probs': pred_probs_sl})\n",
    "labels = ('Good Slider', 'Poor Slider')\n",
    "plt.figure(figsize = (10, 6))\n",
    "for group in pred_sl_df.groupby('true_values'):\n",
    "    sns.distplot(group[1], kde = False, bins = 20)\n",
    "plt.xlabel('Predicted Probability of Slider to Label')\n",
    "plt.legend(labels)\n",
    "plt.title('Distributions of Predicted Probabilities by Actual Values', fontweight = 'bold', pad = 15);"
   ]
  },
  {
   "cell_type": "code",
   "execution_count": 19,
   "id": "9b5a3362",
   "metadata": {},
   "outputs": [
    {
     "data": {
      "image/png": "[encoded data removed]",
      "text/plain": [
       "<Figure size 576x432 with 1 Axes>"
      ]
     },
     "metadata": {
      "needs_background": "light"
     },
     "output_type": "display_data"
    }
   ],
   "source": [
    "plt.figure(figsize = (8, 6))\n",
    "sns.regplot(x = X_sl['run_value_per_100'], y = X_sl['label'], data = X_sl, logistic = True, ci = None,\n",
    "            scatter_kws = {'color': 'black'}, line_kws = {'color': 'red'})\n",
    "plt.title('Predicting RV / 100 from Slider Cluster Label', fontweight = 'bold', fontsize = 15, pad = 15);"
   ]
  },
  {
   "cell_type": "markdown",
   "id": "3938f75e",
   "metadata": {},
   "source": [
    "## Logistic Regression - Changeup"
   ]
  },
  {
   "cell_type": "markdown",
   "id": "431a5042",
   "metadata": {},
   "source": [
    "### Heatmap of Features - Changeup"
   ]
  },
  {
   "cell_type": "code",
   "execution_count": 20,
   "id": "7f65cf63",
   "metadata": {},
   "outputs": [
    {
     "data": {
      "image/png": "[encoded data removed]",
      "text/plain": [
       "<Figure size 576x576 with 2 Axes>"
      ]
     },
     "metadata": {
      "needs_background": "light"
     },
     "output_type": "display_data"
    }
   ],
   "source": [
    "plt.figure(figsize = (8, 8))\n",
    "sns.heatmap(X_ch.corr()[['label']].sort_values(('label'), ascending = False), \n",
    "            annot = True, cmap = 'coolwarm', vmin = -1, vmax = 1, linewidths = 2)\n",
    "plt.title('Correlations to Changeup Label', fontweight = 'bold', pad = 15);"
   ]
  },
  {
   "cell_type": "code",
   "execution_count": 21,
   "id": "ba70b584",
   "metadata": {},
   "outputs": [
    {
     "name": "stdout",
     "output_type": "stream",
     "text": [
      "Train score: 0.95\n",
      "Test score: 0.9\n",
      "Cross val score 0.8912\n"
     ]
    }
   ],
   "source": [
    "X = X_ch.drop(columns = ['label'])\n",
    "y = X_ch['label']\n",
    "\n",
    "X_train, X_test, y_train, y_test = train_test_split(X, y, random_state = 1)\n",
    "\n",
    "lr = LogisticRegression(random_state = 1)\n",
    "lr.fit(X_train, y_train)\n",
    "\n",
    "pred_ch = lr.predict(X_test)\n",
    "pred_probs_ch = lr.predict_proba(X_test)[:,1]\n",
    "\n",
    "print('Train score:', round(lr.score(X_train, y_train), 2))\n",
    "print('Test score:', round(lr.score(X_test, y_test), 2)) \n",
    "print('Cross val score', round(cross_val_score(lr, X_train, y_train).mean(), 4))"
   ]
  },
  {
   "cell_type": "code",
   "execution_count": 22,
   "id": "b5a3930f",
   "metadata": {},
   "outputs": [
    {
     "data": {
      "image/png": "[encoded data removed]",
      "text/plain": [
       "<Figure size 720x432 with 1 Axes>"
      ]
     },
     "metadata": {
      "needs_background": "light"
     },
     "output_type": "display_data"
    }
   ],
   "source": [
    "pred_ch_df = pd.DataFrame({'true_values': y_test, 'pred_probs': pred_probs_ch})\n",
    "labels = ('Good Changeup', 'Poor Changeup')\n",
    "plt.figure(figsize = (10, 6))\n",
    "for group in pred_ch_df.groupby('true_values'):\n",
    "    sns.distplot(group[1], kde = False, bins = 20)\n",
    "plt.xlabel('Predicted Probability of Changeup to Label');\n",
    "plt.legend(labels)\n",
    "plt.title('Distributions of Predicted Probabilities by Actual Values', fontweight = 'bold', pad = 15);"
   ]
  },
  {
   "cell_type": "code",
   "execution_count": 23,
   "id": "e2c36d7f",
   "metadata": {},
   "outputs": [
    {
     "data": {
      "image/png": "[encoded data removed]",
      "text/plain": [
       "<Figure size 576x432 with 1 Axes>"
      ]
     },
     "metadata": {
      "needs_background": "light"
     },
     "output_type": "display_data"
    }
   ],
   "source": [
    "plt.figure(figsize = (8, 6))\n",
    "sns.regplot(x = X_ch['run_value_per_100'], y = X_ch['label'], data = X_ch, logistic = True, ci = None,\n",
    "            scatter_kws = {'color': 'black'}, line_kws = {'color': 'red'})\n",
    "plt.title('Predicting RV / 100 from Changeup Cluster Label', fontweight = 'bold', fontsize = 15, pad = 15);"
   ]
  },
  {
   "cell_type": "markdown",
   "id": "f57a8c80",
   "metadata": {},
   "source": [
    "## Logistic Regression - Cutter"
   ]
  },
  {
   "cell_type": "markdown",
   "id": "3d5caf1e",
   "metadata": {},
   "source": [
    "### Heatmap of Features - Cutter"
   ]
  },
  {
   "cell_type": "code",
   "execution_count": 24,
   "id": "5e8df4af",
   "metadata": {},
   "outputs": [
    {
     "data": {
      "image/png": "[encoded data removed]",
      "text/plain": [
       "<Figure size 576x576 with 2 Axes>"
      ]
     },
     "metadata": {
      "needs_background": "light"
     },
     "output_type": "display_data"
    }
   ],
   "source": [
    "plt.figure(figsize = (8, 8))\n",
    "sns.heatmap(X_fc.corr()[['label']].sort_values(('label'), ascending = False), \n",
    "            annot = True, cmap = 'coolwarm', vmin = -1, vmax = 1, linewidths = 2)\n",
    "plt.title('Correlations to Cutter Label', fontweight = 'bold', pad = 15);"
   ]
  },
  {
   "cell_type": "code",
   "execution_count": 25,
   "id": "81b189cc",
   "metadata": {},
   "outputs": [
    {
     "name": "stdout",
     "output_type": "stream",
     "text": [
      "Train score: 0.98\n",
      "Test score: 0.75\n",
      "Cross val score 0.8333\n"
     ]
    }
   ],
   "source": [
    "X = X_fc.drop(columns = ['label'])\n",
    "y = X_fc['label']\n",
    "\n",
    "X_train, X_test, y_train, y_test = train_test_split(X, y, random_state = 1)\n",
    "\n",
    "lr = LogisticRegression(random_state = 1)\n",
    "lr.fit(X_train, y_train)\n",
    "\n",
    "pred_fc = lr.predict(X_test)\n",
    "pred_probs_fc = lr.predict_proba(X_test)[:,1]\n",
    "\n",
    "print('Train score:', round(lr.score(X_train, y_train), 2))\n",
    "print('Test score:', round(lr.score(X_test, y_test), 2)) \n",
    "print('Cross val score', round(cross_val_score(lr, X_train, y_train).mean(), 4))"
   ]
  },
  {
   "cell_type": "code",
   "execution_count": 26,
   "id": "293da155",
   "metadata": {},
   "outputs": [
    {
     "data": {
      "image/png": "[encoded data removed]",
      "text/plain": [
       "<Figure size 720x432 with 1 Axes>"
      ]
     },
     "metadata": {
      "needs_background": "light"
     },
     "output_type": "display_data"
    }
   ],
   "source": [
    "pred_fc_df = pd.DataFrame({'true_values': y_test, 'pred_probs': pred_probs_fc})\n",
    "labels = ('Poor Cutter', 'Good Cutter')\n",
    "plt.figure(figsize = (10, 6))\n",
    "for group in pred_fc_df.groupby('true_values'):\n",
    "    sns.distplot(group[1], kde = False, bins = 20)\n",
    "plt.xlabel('Predicted Probability of Cutter to Label')\n",
    "plt.legend(labels)\n",
    "plt.title('Distributions of Predicted Probabilities by Actual Values', fontweight = 'bold', pad = 15);"
   ]
  },
  {
   "cell_type": "code",
   "execution_count": 27,
   "id": "31b98f99",
   "metadata": {},
   "outputs": [
    {
     "data": {
      "image/png": "[encoded data removed]",
      "text/plain": [
       "<Figure size 576x432 with 1 Axes>"
      ]
     },
     "metadata": {
      "needs_background": "light"
     },
     "output_type": "display_data"
    }
   ],
   "source": [
    "plt.figure(figsize = (8, 6))\n",
    "sns.regplot(x = X_fc['run_value_per_100'], y = X_fc['label'], data = X_fc, logistic = True, ci = None,\n",
    "            scatter_kws = {'color': 'black'}, line_kws = {'color': 'red'})\n",
    "plt.title('Predicting RV / 100 from Cutter Cluster Label', fontweight = 'bold', fontsize = 15, pad = 15);"
   ]
  }
 ],
 "metadata": {
  "kernelspec": {
   "display_name": "Python 3",
   "language": "python",
   "name": "python3"
  },
  "language_info": {
   "codemirror_mode": {
    "name": "ipython",
    "version": 3
   },
   "file_extension": ".py",
   "mimetype": "text/x-python",
   "name": "python",
   "nbconvert_exporter": "python",
   "pygments_lexer": "ipython3",
   "version": "3.8.8"
  }
 },
 "nbformat": 4,
 "nbformat_minor": 5
}
